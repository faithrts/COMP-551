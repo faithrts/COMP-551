{
  "nbformat": 4,
  "nbformat_minor": 0,
  "metadata": {
    "colab": {
      "provenance": [],
      "collapsed_sections": [],
      "authorship_tag": "ABX9TyPuQFpIpGg8vJFd6jn43Yft",
      "include_colab_link": true
    },
    "kernelspec": {
      "name": "python3",
      "display_name": "Python 3"
    },
    "language_info": {
      "name": "python"
    }
  },
  "cells": [
    {
      "cell_type": "markdown",
      "metadata": {
        "id": "view-in-github",
        "colab_type": "text"
      },
      "source": [
        "<a href=\"https://colab.research.google.com/github/faithrts/COMP-551/blob/Joey-added-experiments/A2.ipynb\" target=\"_parent\"><img src=\"https://colab.research.google.com/assets/colab-badge.svg\" alt=\"Open In Colab\"/></a>"
      ]
    },
    {
      "cell_type": "markdown",
      "source": [
        "# A2_Draft"
      ],
      "metadata": {
        "id": "yCCuJfu4UzXy"
      }
    },
    {
      "cell_type": "code",
      "source": [
        "import numpy as np\n",
        "%matplotlib notebook\n",
        "%matplotlib inline\n",
        "import matplotlib.pyplot as plt\n",
        "from IPython.core.debugger import set_trace\n",
        "import warnings\n",
        "warnings.filterwarnings('ignore')\n",
        "\n",
        "np.random.seed(1234)"
      ],
      "metadata": {
        "id": "yZVzkJZYZ-S4"
      },
      "execution_count": 4,
      "outputs": []
    },
    {
      "cell_type": "markdown",
      "source": [
        "## Implement Logistic and Multiclass classifiers"
      ],
      "metadata": {
        "id": "6UHGDBP0U75N"
      }
    },
    {
      "cell_type": "markdown",
      "source": [
        "### Logistic Classifier"
      ],
      "metadata": {
        "id": "1AtkdwkHU91A"
      }
    },
    {
      "cell_type": "markdown",
      "source": [
        "#### Cross Entropy Cost Function"
      ],
      "metadata": {
        "id": "-OdyaQz-VkAi"
      }
    },
    {
      "cell_type": "code",
      "source": [
        "def crossEntropy(x, w, y):\n",
        "  a = np.dot(x, w)\n",
        "  J = np.log1p(np.exp(-a)) + (1-y) * np.log1p(np.exp(a))\n",
        "  return J"
      ],
      "metadata": {
        "id": "ScRew-P6VjVn"
      },
      "execution_count": 5,
      "outputs": []
    },
    {
      "cell_type": "markdown",
      "source": [
        "Logistic Function Calculation"
      ],
      "metadata": {
        "id": "0U-wt8K3X9Yl"
      }
    },
    {
      "cell_type": "code",
      "source": [
        "def Logistic(x, w):\n",
        "  a = np.dot(x, w)\n",
        "  return 1./ (1+(np.exp(-a)))\n"
      ],
      "metadata": {
        "id": "NAh_FYDKYGfF"
      },
      "execution_count": 6,
      "outputs": []
    },
    {
      "cell_type": "markdown",
      "source": [
        "#### Gradient calculation"
      ],
      "metadata": {
        "id": "eYe2IDGDXjSZ"
      }
    },
    {
      "cell_type": "code",
      "source": [
        "def Gradient(x, w, y):\n",
        "  N,D = x.shape\n",
        "  y_hat = Logistic(x,w)\n",
        "  return np.dot(x.T, (y_hat-y))/N # divide by N because cost is mean over N points otherwise we would get different results for larger number of N"
      ],
      "metadata": {
        "id": "FxnfzpC1Xnll"
      },
      "execution_count": 7,
      "outputs": []
    },
    {
      "cell_type": "code",
      "source": [
        "class LogisticRegression:\n",
        "    \n",
        "    def __init__(self, add_bias=True, learning_rate=.1, epsilon=1e-4, max_iters=1e5, verbose=False):\n",
        "        self.add_bias = add_bias\n",
        "        self.learning_rate = learning_rate\n",
        "        self.epsilon = epsilon                        #to get the tolerance for the norm of gradients \n",
        "        self.max_iters = max_iters                    #maximum number of iteration of gradient descent\n",
        "        self.verbose = verbose\n",
        "    \n",
        "    def fit(self, x, y):\n",
        "      \n",
        "      #setup\n",
        "      if x.ndim == 1:\n",
        "        x = x[:, None]\n",
        "      if self.add_bias:\n",
        "        N = x.shape[0]\n",
        "        x = np.column_stack([x,np.ones(N)])\n",
        "      N,D = x.shape\n",
        "      self.w = np.random.rand(D)  #Randomly initialize regression coefficients wd   \n",
        "      old_Cost = crossEntropy(x, self.w, y)\n",
        "      \n",
        "      t = 0\n",
        "      while t< self.max_iters:\n",
        "        \n",
        "        \n",
        "        self.w = self.w - self.learning_rate * Gradient(x, self.w, y) #calculate new w\n",
        "        \n",
        "        new_Cost = crossEntropy(x, self.w, y) #Calculate new cost\n",
        "        if(np.linalg.norm(new_Cost-old_Cost)< self.epsilon): #stopping criteria \n",
        "          break\n",
        "        t += 1\n",
        "      print(f'terminated after {t} iterations, with norm of the gradient equal to {np.linalg.norm(Gradient(x, self.w, y))}')\n",
        "      print(f'the weight found: {self.w}')\n",
        "      return self\n",
        "\n",
        "    def predict(self, x):\n",
        "      if x.ndim == 1: #applies to the case where x is a single row insted of in column form\n",
        "        x = x[:, None]\n",
        "      if self.add_bias: #need to add a column of 1's if we have a bias term (w0)\n",
        "        N = x.shape[0]\n",
        "        x = np.column_stack([x,np.ones(N)])\n",
        "      return Logistic(x, self.w)"
      ],
      "metadata": {
        "id": "lfO0zIztVGCU"
      },
      "execution_count": 8,
      "outputs": []
    },
    {
      "cell_type": "markdown",
      "source": [
        "Toy Data test"
      ],
      "metadata": {
        "id": "nw7IheWWMV9v"
      }
    },
    {
      "cell_type": "code",
      "source": [
        "N = 50\n",
        "x = np.linspace(-5,5, N)\n",
        "y = (x > 0.5).astype(int)                                  #generate synthetic data\n",
        "model = LogisticRegression(verbose=True, add_bias=False)\n",
        "yh = model.fit(x,y).predict(x)\n",
        "plt.plot(x, y, '.', label='dataset')\n",
        "plt.plot(x, yh, 'g', alpha=.5, label='predictions')\n",
        "plt.xlabel('x')\n",
        "plt.ylabel(r'$y$')\n",
        "plt.legend()"
      ],
      "metadata": {
        "colab": {
          "base_uri": "https://localhost:8080/",
          "height": 334
        },
        "id": "JshsdxA3MW9b",
        "outputId": "229b726e-11a6-4b22-8d9a-ddd87577c14e"
      },
      "execution_count": 9,
      "outputs": [
        {
          "output_type": "stream",
          "name": "stdout",
          "text": [
            "terminated after 100000 iterations, with norm of the gradient equal to 4.440025444812698e-15\n",
            "the weight found: [4.49083415]\n"
          ]
        },
        {
          "output_type": "execute_result",
          "data": {
            "text/plain": [
              "<matplotlib.legend.Legend at 0x7f2fedfd1210>"
            ]
          },
          "metadata": {},
          "execution_count": 9
        },
        {
          "output_type": "display_data",
          "data": {
            "text/plain": [
              "<Figure size 432x288 with 1 Axes>"
            ],
            "image/png": "[encoded data removed]"
          },
          "metadata": {
            "needs_background": "light"
          }
        }
      ]
    },
    {
      "cell_type": "markdown",
      "source": [
        "### Multiclass Classifier"
      ],
      "metadata": {
        "id": "qgt9ATYpVBH5"
      }
    },
    {
      "cell_type": "code",
      "execution_count": 14,
      "metadata": {
        "id": "xUgh35jAUxQL"
      },
      "outputs": [],
      "source": [
        "class Multinomial_logistic:\n",
        "    def __init__(self, nFeatures, nClasses):\n",
        "        self.W = np.random.rand(nFeatures, nClasses)\n",
        "\n",
        "    def softMaxPredict(self, x): #calculating Y_hat with shape Cx1\n",
        "      a = np.matmul(x, self.W)\n",
        "      return (np.exp(a)/np.sum(a, axis=1)).reshape(x.shape[0], 1) #if X_n has shape 1xD and w has shape DxC, then Y_hat will have shape 1XC\n",
        "\n",
        "    def multiCost(self, x, y): #claculating J(w)\n",
        "      return - np.sum(np.dot(y, np.log(self.softMaxPredict(x))))\n",
        "\n",
        "    def multiGrad(self, x, y):\n",
        "      return np.dot(x.transpose(), self.softMaxPredict(x) - y)\n",
        "\n",
        "    def fit(self, x, y, lr=0.005, niter=100):\n",
        "      for i in niter:\n",
        "        self.W = self.W - lr * self.multiGrad(x,y)\n"
      ]
    },
    {
      "cell_type": "markdown",
      "source": [
        "## Experiements:"
      ],
      "metadata": {
        "id": "OQH2hVkDbW3w"
      }
    },
    {
      "cell_type": "markdown",
      "source": [
        "Area Under Curve"
      ],
      "metadata": {
        "id": "HScFk0XEc3Ta"
      }
    },
    {
      "cell_type": "code",
      "source": [
        "from sklearn.metrics import roc_curve, roc_auc_score\n",
        "from sklearn.neighbors import KNeighborsClassifier\n",
        "\n",
        "def AUC(x_train, y_train, x_test, y_test):\n",
        "\n",
        "  #Using logistic regression\n",
        "  biasedLogReg =  LogisticRegression()\n",
        "  y_lr_test_prob = biasedLogReg.fit(x_train, y_train).predict(x_test)\n",
        "  lr_fpr, lr_tpr, lr_thresholds = roc_curve(y_test, y_lr_test_prob)\n",
        "  lr_roc_auc = roc_auc_score(y_test, y_lr_test_prob)\n",
        "\n",
        "  #Using KNN\n",
        "  knn = KNeighborsClassifier() # create a KNN object (OOP)\n",
        "  knn.fit(x_train, y_train)\n",
        "  y_knn_test_prob = knn.predict_proba(x_test)[:,1]\n",
        "  knn_fpr, knn_tpr, knn_thresholds = roc_curve(y_test, y_knn_test_prob)\n",
        "  knn_roc_auc = roc_auc_score(y_test, y_knn_test_prob)\n",
        "\n",
        "  plt.clf()\n",
        "\n",
        "  plt.plot(lr_fpr, lr_tpr, \"r-\", lw=2, label=\"LinReg AUROC = %0.2f\"%lr_roc_auc)\n",
        "  plt.plot(knn_fpr, knn_tpr, \"b-\", lw=2, label=\"KNN AUROC = %0.2f\"%knn_roc_auc)\n",
        "\n",
        "\n",
        "  plt.axline((0, 0), (1, 1), linestyle=\"--\", lw=1, color='gray')\n",
        "  plt.xlabel('False Positive Rate')\n",
        "  plt.ylabel('True Positive Rate')\n",
        "  plt.title('ROC in predicting cancer')\n",
        "  plt.legend(loc=\"best\")\n",
        "  plt.savefig(\"roc_curve.png\",bbox_inches='tight', dpi=300)"
      ],
      "metadata": {
        "id": "VzXzFtgPbawR"
      },
      "execution_count": 4,
      "outputs": []
    }
  ]
}
