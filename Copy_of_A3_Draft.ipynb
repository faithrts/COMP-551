{
  "cells": [
    {
      "cell_type": "markdown",
      "metadata": {
        "id": "view-in-github",
        "colab_type": "text"
      },
      "source": [
        "<a href=\"https://colab.research.google.com/github/faithrts/COMP-551/blob/Joey-added-experiments/Copy_of_A3_Draft.ipynb\" target=\"_parent\"><img src=\"https://colab.research.google.com/assets/colab-badge.svg\" alt=\"Open In Colab\"/></a>"
      ]
    },
    {
      "cell_type": "markdown",
      "source": [
        "# Set-up"
      ],
      "metadata": {
        "id": "8A1SE2icjh69"
      }
    },
    {
      "cell_type": "code",
      "execution_count": 1,
      "metadata": {
        "id": "VCTCTWgB-NKG",
        "outputId": "5851c12d-2f2d-4715-aefa-a461a5bd8206",
        "colab": {
          "base_uri": "https://localhost:8080/"
        }
      },
      "outputs": [
        {
          "output_type": "stream",
          "name": "stdout",
          "text": [
            "mkdir: cannot create directory ‘images’: File exists\n"
          ]
        }
      ],
      "source": [
        "### importing libraries and setting the random seed\n",
        "\n",
        "import numpy as np\n",
        "import pandas as pd\n",
        "import sys\n",
        "\n",
        "%matplotlib notebook\n",
        "%matplotlib inline\n",
        "import matplotlib.pyplot as plt\n",
        "import matplotlib.gridspec as gridspec\n",
        "#from matplotlib import cm\n",
        "\n",
        "import re\n",
        "import cv2\n",
        "import math\n",
        "import tensorflow as tf\n",
        "from tensorflow.keras import layers, models, optimizers\n",
        "from keras.datasets import mnist\n",
        "from importlib import reload\n",
        "from typing import List\n",
        "from tqdm import tqdm\n",
        "from enum import Enum\n",
        "from numpy.random import RandomState\n",
        "\n",
        "from sklearn.feature_extraction.text import CountVectorizer\n",
        "\n",
        "import warnings\n",
        "warnings.filterwarnings('ignore')\n",
        "\n",
        "np.random.seed(1234)\n",
        "random_state = RandomState(1234)\n",
        "\n",
        "# a folder to store the saved graphs\n",
        "!mkdir images"
      ]
    },
    {
      "cell_type": "markdown",
      "source": [
        "# Data Handling"
      ],
      "metadata": {
        "id": "hKHZWj9vjn1j"
      }
    },
    {
      "cell_type": "markdown",
      "source": [
        "### Helper functions"
      ],
      "metadata": {
        "id": "MtAHDLEXj2T3"
      }
    },
    {
      "cell_type": "markdown",
      "source": [
        "#### Loading and cleaning data"
      ],
      "metadata": {
        "id": "8rHPqW8GC1E6"
      }
    },
    {
      "cell_type": "code",
      "source": [
        "# assumes the last column of the dataframe is the labels\n",
        "def x_y_from_df(df):\n",
        "  x = df.iloc[:, :-1].to_numpy()\n",
        "  y = df.iloc[:, -1].to_numpy()\n",
        "\n",
        "  return x, y"
      ],
      "metadata": {
        "id": "2V6syl07WULR"
      },
      "execution_count": 2,
      "outputs": []
    },
    {
      "cell_type": "code",
      "source": [
        "def center_array(arr):\n",
        "  mean = np.mean(arr)\n",
        "  return_arr = np.array(arr) - mean\n",
        "  # return_arr = [item - mean for item in arr]\n",
        "\n",
        "  return return_arr"
      ],
      "metadata": {
        "id": "vudEuApQoTk7"
      },
      "execution_count": 3,
      "outputs": []
    },
    {
      "cell_type": "code",
      "source": [
        "def normalize_array(arr):\n",
        "  std = np.std(arr)\n",
        "  return_arr = np.array(arr) / std\n",
        "  # return_arr = [item / std for item in arr]\n",
        "\n",
        "  return return_arr"
      ],
      "metadata": {
        "id": "uWuzGFZrpHxK"
      },
      "execution_count": 4,
      "outputs": []
    },
    {
      "cell_type": "code",
      "source": [
        "def normalize_greyscale_array(arr):\n",
        "  # the min and max pixel greyscale values\n",
        "  min = 0\n",
        "  max = 255\n",
        "\n",
        "  return np.array(arr - min) / max - min"
      ],
      "metadata": {
        "id": "-Qc-lUOE-yB7"
      },
      "execution_count": 5,
      "outputs": []
    },
    {
      "cell_type": "code",
      "source": [
        "# pre-processes the df by performing mean subtraction and normalization\n",
        "def preprocess_df(df):\n",
        "  preprocessed_df = df.copy()\n",
        "\n",
        "  for col in preprocessed_df.iloc[:, :-1]:\n",
        "    preprocessed_col = normalize_array(center_array(df[col]))\n",
        "    preprocessed_df[col] = preprocessed_col\n",
        "\n",
        "  return preprocessed_df"
      ],
      "metadata": {
        "id": "9XtP7FZtn6mN"
      },
      "execution_count": 6,
      "outputs": []
    },
    {
      "cell_type": "code",
      "source": [
        "def preprocess_greyscale_df(df):\n",
        "  preprocessed_df = df.copy()\n",
        "\n",
        "  for col in preprocessed_df.iloc[:, :-1]:\n",
        "    preprocessed_col = normalize_greyscale_array(center_array(df[col]))\n",
        "    preprocessed_df[col] = preprocessed_col\n",
        "\n",
        "  return preprocessed_df"
      ],
      "metadata": {
        "id": "euQ4kSY5_ieV"
      },
      "execution_count": 7,
      "outputs": []
    },
    {
      "cell_type": "code",
      "source": [
        "# pre-processes the df by performing mean subtraction\n",
        "def preprocess_no_normalization_df(df):\n",
        "  preprocessed_df = df.copy()\n",
        "\n",
        "  for col in preprocessed_df.iloc[:, :-1]:\n",
        "    preprocessed_col = center_array(df[col])\n",
        "    preprocessed_df[col] = preprocessed_col\n",
        "\n",
        "  return preprocessed_df"
      ],
      "metadata": {
        "id": "MDvEhngMdlR0"
      },
      "execution_count": 8,
      "outputs": []
    },
    {
      "cell_type": "markdown",
      "source": [
        "#### Plotting graphs"
      ],
      "metadata": {
        "id": "sx9mADR8DD8L"
      }
    },
    {
      "cell_type": "code",
      "source": [
        "def plot_label_distributions(label_arr, dataset_name, labels = 0):\n",
        "  \n",
        "  # creates the plot\n",
        "  plt.figure(figsize = (10,4))\n",
        "  width = 0.6\n",
        "\n",
        "  unique_labels = list(set(label_arr))\n",
        "  counts = []\n",
        "\n",
        "  for label in unique_labels:\n",
        "    count = label_arr.count(label)\n",
        "    counts.append(count)\n",
        "\n",
        "  if labels == 0:\n",
        "    labels = [str(label) for label in unique_labels]\n",
        "\n",
        "  # the colour codes of the bars\n",
        "  colours = ['#001219', '#005f73', '#0a9396', '#94d2bd', '#e9d8a6',\n",
        "            '#ee9b00', '#ca6702', '#bb3e03', '#ae2012', '#9b2226']\n",
        "\n",
        "  plt.bar(labels, counts, width, color = colours)\n",
        "  plt.title(\"Distribution of Class Labels in \" + dataset_name + \" Dataset\")\n",
        "  plt.xlabel(\"Label\")\n",
        "  plt.ylabel(\"Count\")\n",
        "\n",
        "  for index, value in enumerate(counts):\n",
        "    plt.text(index - 0.24, value + 5, str(round(value, 2)))\n",
        "\n",
        "  plt.show()"
      ],
      "metadata": {
        "id": "G-UXPNHRww-f"
      },
      "execution_count": 9,
      "outputs": []
    },
    {
      "cell_type": "markdown",
      "source": [
        "## Importing"
      ],
      "metadata": {
        "id": "FsaKjKTqjylr"
      }
    },
    {
      "cell_type": "code",
      "source": [
        "# clones the github repo\n",
        "!git clone https://github.com/zalandoresearch/fashion-mnist\n",
        "sys.path.insert(1, 'fashion-mnist/utils')\n",
        "\n",
        "# imports the mnist reader from the repo\n",
        "import mnist_reader"
      ],
      "metadata": {
        "colab": {
          "base_uri": "https://localhost:8080/"
        },
        "id": "JDX1OBJ7jUl8",
        "outputId": "a5e66746-e709-4042-d20a-924a07f23bb7"
      },
      "execution_count": 10,
      "outputs": [
        {
          "output_type": "stream",
          "name": "stdout",
          "text": [
            "fatal: destination path 'fashion-mnist' already exists and is not an empty directory.\n"
          ]
        }
      ]
    },
    {
      "cell_type": "markdown",
      "source": [
        "### Loading and cleaning data"
      ],
      "metadata": {
        "id": "HQbCrZx0-EgM"
      }
    },
    {
      "cell_type": "code",
      "source": [
        "### loading the data using the github repo's mnist_reader.load_mnist\n",
        "\n",
        "labels = ['T-shirt/top', 'Trouser', 'Pullover', 'Dress', 'Coat',\n",
        "          'Sandal', 'Shirt', 'Sneaker', 'Bag', 'Ankle boot']\n",
        "\n",
        "# training data\n",
        "x_train_temp, y_train = mnist_reader.load_mnist('fashion-mnist/data/fashion', kind = 'train')\n",
        "\n",
        "# testing data\n",
        "x_test_temp, y_test = mnist_reader.load_mnist('fashion-mnist/data/fashion', kind = 't10k')"
      ],
      "metadata": {
        "id": "kZITIsTPkA3M"
      },
      "execution_count": 11,
      "outputs": []
    },
    {
      "cell_type": "code",
      "source": [
        "### creating dataframes to better understand data\n",
        "\n",
        "# training dataframe\n",
        "train_temp_df = pd.DataFrame(x_train_temp)\n",
        "train_temp_df['LABEL'] = y_train\n",
        "\n",
        "# testing dataframe\n",
        "test_temp_df = pd.DataFrame(x_test_temp)\n",
        "test_temp_df['LABEL'] = y_test"
      ],
      "metadata": {
        "id": "PgtXdMOXkxwK"
      },
      "execution_count": 12,
      "outputs": []
    },
    {
      "cell_type": "code",
      "source": [
        "train_temp_df"
      ],
      "metadata": {
        "colab": {
          "base_uri": "https://localhost:8080/",
          "height": 0
        },
        "id": "ZkQzG8t8l5xp",
        "outputId": "5fceeeda-eee3-40d6-ceda-10c466a62067"
      },
      "execution_count": 13,
      "outputs": [
        {
          "output_type": "execute_result",
          "data": {
            "text/plain": [
              "       0  1  2  3  4  5  6  7   8   9  ...  775  776  777  778  779  780  781  \\\n",
              "0      0  0  0  0  0  0  0  0   0   0  ...    0    0    0    0    0    0    0   \n",
              "1      0  0  0  0  0  1  0  0   0   0  ...  114  130   76    0    0    0    0   \n",
              "2      0  0  0  0  0  0  0  0   0  22  ...    0    1    0    0    0    0    0   \n",
              "3      0  0  0  0  0  0  0  0  33  96  ...    0    0    0    0    0    0    0   \n",
              "4      0  0  0  0  0  0  0  0   0   0  ...    0    0    0    0    0    0    0   \n",
              "...   .. .. .. .. .. .. .. ..  ..  ..  ...  ...  ...  ...  ...  ...  ...  ...   \n",
              "59995  0  0  0  0  0  0  0  0   0   0  ...    0    0    0    0    0    0    0   \n",
              "59996  0  0  0  0  0  0  0  0   0   0  ...    0    0    0    0    0    0    0   \n",
              "59997  0  0  0  0  0  0  0  0   0   5  ...    0    0    0    0    0    0    0   \n",
              "59998  0  0  0  0  0  0  0  0   0   0  ...   54   50    5    0    1    0    0   \n",
              "59999  0  0  0  0  0  0  0  0   0   0  ...    0    0    0    0    0    0    0   \n",
              "\n",
              "       782  783  LABEL  \n",
              "0        0    0      9  \n",
              "1        0    0      0  \n",
              "2        0    0      0  \n",
              "3        0    0      3  \n",
              "4        0    0      0  \n",
              "...    ...  ...    ...  \n",
              "59995    0    0      5  \n",
              "59996    0    0      1  \n",
              "59997    0    0      3  \n",
              "59998    0    0      0  \n",
              "59999    0    0      5  \n",
              "\n",
              "[60000 rows x 785 columns]"
            ],
            "text/html": [
              "\n",
              "  <div id=\"df-906ccd22-35e7-4476-8b60-83aefb7cc3c6\">\n",
              "    <div class=\"colab-df-container\">\n",
              "      <div>\n",
              "<style scoped>\n",
              "    .dataframe tbody tr th:only-of-type {\n",
              "        vertical-align: middle;\n",
              "    }\n",
              "\n",
              "    .dataframe tbody tr th {\n",
              "        vertical-align: top;\n",
              "    }\n",
              "\n",
              "    .dataframe thead th {\n",
              "        text-align: right;\n",
              "    }\n",
              "</style>\n",
              "<table border=\"1\" class=\"dataframe\">\n",
              "  <thead>\n",
              "    <tr style=\"text-align: right;\">\n",
              "      <th></th>\n",
              "      <th>0</th>\n",
              "      <th>1</th>\n",
              "      <th>2</th>\n",
              "      <th>3</th>\n",
              "      <th>4</th>\n",
              "      <th>5</th>\n",
              "      <th>6</th>\n",
              "      <th>7</th>\n",
              "      <th>8</th>\n",
              "      <th>9</th>\n",
              "      <th>...</th>\n",
              "      <th>775</th>\n",
              "      <th>776</th>\n",
              "      <th>777</th>\n",
              "      <th>778</th>\n",
              "      <th>779</th>\n",
              "      <th>780</th>\n",
              "      <th>781</th>\n",
              "      <th>782</th>\n",
              "      <th>783</th>\n",
              "      <th>LABEL</th>\n",
              "    </tr>\n",
              "  </thead>\n",
              "  <tbody>\n",
              "    <tr>\n",
              "      <th>0</th>\n",
              "      <td>0</td>\n",
              "      <td>0</td>\n",
              "      <td>0</td>\n",
              "      <td>0</td>\n",
              "      <td>0</td>\n",
              "      <td>0</td>\n",
              "      <td>0</td>\n",
              "      <td>0</td>\n",
              "      <td>0</td>\n",
              "      <td>0</td>\n",
              "      <td>...</td>\n",
              "      <td>0</td>\n",
              "      <td>0</td>\n",
              "      <td>0</td>\n",
              "      <td>0</td>\n",
              "      <td>0</td>\n",
              "      <td>0</td>\n",
              "      <td>0</td>\n",
              "      <td>0</td>\n",
              "      <td>0</td>\n",
              "      <td>9</td>\n",
              "    </tr>\n",
              "    <tr>\n",
              "      <th>1</th>\n",
              "      <td>0</td>\n",
              "      <td>0</td>\n",
              "      <td>0</td>\n",
              "      <td>0</td>\n",
              "      <td>0</td>\n",
              "      <td>1</td>\n",
              "      <td>0</td>\n",
              "      <td>0</td>\n",
              "      <td>0</td>\n",
              "      <td>0</td>\n",
              "      <td>...</td>\n",
              "      <td>114</td>\n",
              "      <td>130</td>\n",
              "      <td>76</td>\n",
              "      <td>0</td>\n",
              "      <td>0</td>\n",
              "      <td>0</td>\n",
              "      <td>0</td>\n",
              "      <td>0</td>\n",
              "      <td>0</td>\n",
              "      <td>0</td>\n",
              "    </tr>\n",
              "    <tr>\n",
              "      <th>2</th>\n",
              "      <td>0</td>\n",
              "      <td>0</td>\n",
              "      <td>0</td>\n",
              "      <td>0</td>\n",
              "      <td>0</td>\n",
              "      <td>0</td>\n",
              "      <td>0</td>\n",
              "      <td>0</td>\n",
              "      <td>0</td>\n",
              "      <td>22</td>\n",
              "      <td>...</td>\n",
              "      <td>0</td>\n",
              "      <td>1</td>\n",
              "      <td>0</td>\n",
              "      <td>0</td>\n",
              "      <td>0</td>\n",
              "      <td>0</td>\n",
              "      <td>0</td>\n",
              "      <td>0</td>\n",
              "      <td>0</td>\n",
              "      <td>0</td>\n",
              "    </tr>\n",
              "    <tr>\n",
              "      <th>3</th>\n",
              "      <td>0</td>\n",
              "      <td>0</td>\n",
              "      <td>0</td>\n",
              "      <td>0</td>\n",
              "      <td>0</td>\n",
              "      <td>0</td>\n",
              "      <td>0</td>\n",
              "      <td>0</td>\n",
              "      <td>33</td>\n",
              "      <td>96</td>\n",
              "      <td>...</td>\n",
              "      <td>0</td>\n",
              "      <td>0</td>\n",
              "      <td>0</td>\n",
              "      <td>0</td>\n",
              "      <td>0</td>\n",
              "      <td>0</td>\n",
              "      <td>0</td>\n",
              "      <td>0</td>\n",
              "      <td>0</td>\n",
              "      <td>3</td>\n",
              "    </tr>\n",
              "    <tr>\n",
              "      <th>4</th>\n",
              "      <td>0</td>\n",
              "      <td>0</td>\n",
              "      <td>0</td>\n",
              "      <td>0</td>\n",
              "      <td>0</td>\n",
              "      <td>0</td>\n",
              "      <td>0</td>\n",
              "      <td>0</td>\n",
              "      <td>0</td>\n",
              "      <td>0</td>\n",
              "      <td>...</td>\n",
              "      <td>0</td>\n",
              "      <td>0</td>\n",
              "      <td>0</td>\n",
              "      <td>0</td>\n",
              "      <td>0</td>\n",
              "      <td>0</td>\n",
              "      <td>0</td>\n",
              "      <td>0</td>\n",
              "      <td>0</td>\n",
              "      <td>0</td>\n",
              "    </tr>\n",
              "    <tr>\n",
              "      <th>...</th>\n",
              "      <td>...</td>\n",
              "      <td>...</td>\n",
              "      <td>...</td>\n",
              "      <td>...</td>\n",
              "      <td>...</td>\n",
              "      <td>...</td>\n",
              "      <td>...</td>\n",
              "      <td>...</td>\n",
              "      <td>...</td>\n",
              "      <td>...</td>\n",
              "      <td>...</td>\n",
              "      <td>...</td>\n",
              "      <td>...</td>\n",
              "      <td>...</td>\n",
              "      <td>...</td>\n",
              "      <td>...</td>\n",
              "      <td>...</td>\n",
              "      <td>...</td>\n",
              "      <td>...</td>\n",
              "      <td>...</td>\n",
              "      <td>...</td>\n",
              "    </tr>\n",
              "    <tr>\n",
              "      <th>59995</th>\n",
              "      <td>0</td>\n",
              "      <td>0</td>\n",
              "      <td>0</td>\n",
              "      <td>0</td>\n",
              "      <td>0</td>\n",
              "      <td>0</td>\n",
              "      <td>0</td>\n",
              "      <td>0</td>\n",
              "      <td>0</td>\n",
              "      <td>0</td>\n",
              "      <td>...</td>\n",
              "      <td>0</td>\n",
              "      <td>0</td>\n",
              "      <td>0</td>\n",
              "      <td>0</td>\n",
              "      <td>0</td>\n",
              "      <td>0</td>\n",
              "      <td>0</td>\n",
              "      <td>0</td>\n",
              "      <td>0</td>\n",
              "      <td>5</td>\n",
              "    </tr>\n",
              "    <tr>\n",
              "      <th>59996</th>\n",
              "      <td>0</td>\n",
              "      <td>0</td>\n",
              "      <td>0</td>\n",
              "      <td>0</td>\n",
              "      <td>0</td>\n",
              "      <td>0</td>\n",
              "      <td>0</td>\n",
              "      <td>0</td>\n",
              "      <td>0</td>\n",
              "      <td>0</td>\n",
              "      <td>...</td>\n",
              "      <td>0</td>\n",
              "      <td>0</td>\n",
              "      <td>0</td>\n",
              "      <td>0</td>\n",
              "      <td>0</td>\n",
              "      <td>0</td>\n",
              "      <td>0</td>\n",
              "      <td>0</td>\n",
              "      <td>0</td>\n",
              "      <td>1</td>\n",
              "    </tr>\n",
              "    <tr>\n",
              "      <th>59997</th>\n",
              "      <td>0</td>\n",
              "      <td>0</td>\n",
              "      <td>0</td>\n",
              "      <td>0</td>\n",
              "      <td>0</td>\n",
              "      <td>0</td>\n",
              "      <td>0</td>\n",
              "      <td>0</td>\n",
              "      <td>0</td>\n",
              "      <td>5</td>\n",
              "      <td>...</td>\n",
              "      <td>0</td>\n",
              "      <td>0</td>\n",
              "      <td>0</td>\n",
              "      <td>0</td>\n",
              "      <td>0</td>\n",
              "      <td>0</td>\n",
              "      <td>0</td>\n",
              "      <td>0</td>\n",
              "      <td>0</td>\n",
              "      <td>3</td>\n",
              "    </tr>\n",
              "    <tr>\n",
              "      <th>59998</th>\n",
              "      <td>0</td>\n",
              "      <td>0</td>\n",
              "      <td>0</td>\n",
              "      <td>0</td>\n",
              "      <td>0</td>\n",
              "      <td>0</td>\n",
              "      <td>0</td>\n",
              "      <td>0</td>\n",
              "      <td>0</td>\n",
              "      <td>0</td>\n",
              "      <td>...</td>\n",
              "      <td>54</td>\n",
              "      <td>50</td>\n",
              "      <td>5</td>\n",
              "      <td>0</td>\n",
              "      <td>1</td>\n",
              "      <td>0</td>\n",
              "      <td>0</td>\n",
              "      <td>0</td>\n",
              "      <td>0</td>\n",
              "      <td>0</td>\n",
              "    </tr>\n",
              "    <tr>\n",
              "      <th>59999</th>\n",
              "      <td>0</td>\n",
              "      <td>0</td>\n",
              "      <td>0</td>\n",
              "      <td>0</td>\n",
              "      <td>0</td>\n",
              "      <td>0</td>\n",
              "      <td>0</td>\n",
              "      <td>0</td>\n",
              "      <td>0</td>\n",
              "      <td>0</td>\n",
              "      <td>...</td>\n",
              "      <td>0</td>\n",
              "      <td>0</td>\n",
              "      <td>0</td>\n",
              "      <td>0</td>\n",
              "      <td>0</td>\n",
              "      <td>0</td>\n",
              "      <td>0</td>\n",
              "      <td>0</td>\n",
              "      <td>0</td>\n",
              "      <td>5</td>\n",
              "    </tr>\n",
              "  </tbody>\n",
              "</table>\n",
              "<p>60000 rows × 785 columns</p>\n",
              "</div>\n",
              "      <button class=\"colab-df-convert\" onclick=\"convertToInteractive('df-906ccd22-35e7-4476-8b60-83aefb7cc3c6')\"\n",
              "              title=\"Convert this dataframe to an interactive table.\"\n",
              "              style=\"display:none;\">\n",
              "        \n",
              "  <svg xmlns=\"http://www.w3.org/2000/svg\" height=\"24px\"viewBox=\"0 0 24 24\"\n",
              "       width=\"24px\">\n",
              "    <path d=\"M0 0h24v24H0V0z\" fill=\"none\"/>\n",
              "    <path d=\"M18.56 5.44l.94 2.06.94-2.06 2.06-.94-2.06-.94-.94-2.06-.94 2.06-2.06.94zm-11 1L8.5 8.5l.94-2.06 2.06-.94-2.06-.94L8.5 2.5l-.94 2.06-2.06.94zm10 10l.94 2.06.94-2.06 2.06-.94-2.06-.94-.94-2.06-.94 2.06-2.06.94z\"/><path d=\"M17.41 7.96l-1.37-1.37c-.4-.4-.92-.59-1.43-.59-.52 0-1.04.2-1.43.59L10.3 9.45l-7.72 7.72c-.78.78-.78 2.05 0 2.83L4 21.41c.39.39.9.59 1.41.59.51 0 1.02-.2 1.41-.59l7.78-7.78 2.81-2.81c.8-.78.8-2.07 0-2.86zM5.41 20L4 18.59l7.72-7.72 1.47 1.35L5.41 20z\"/>\n",
              "  </svg>\n",
              "      </button>\n",
              "      \n",
              "  <style>\n",
              "    .colab-df-container {\n",
              "      display:flex;\n",
              "      flex-wrap:wrap;\n",
              "      gap: 12px;\n",
              "    }\n",
              "\n",
              "    .colab-df-convert {\n",
              "      background-color: #E8F0FE;\n",
              "      border: none;\n",
              "      border-radius: 50%;\n",
              "      cursor: pointer;\n",
              "      display: none;\n",
              "      fill: #1967D2;\n",
              "      height: 32px;\n",
              "      padding: 0 0 0 0;\n",
              "      width: 32px;\n",
              "    }\n",
              "\n",
              "    .colab-df-convert:hover {\n",
              "      background-color: #E2EBFA;\n",
              "      box-shadow: 0px 1px 2px rgba(60, 64, 67, 0.3), 0px 1px 3px 1px rgba(60, 64, 67, 0.15);\n",
              "      fill: #174EA6;\n",
              "    }\n",
              "\n",
              "    [theme=dark] .colab-df-convert {\n",
              "      background-color: #3B4455;\n",
              "      fill: #D2E3FC;\n",
              "    }\n",
              "\n",
              "    [theme=dark] .colab-df-convert:hover {\n",
              "      background-color: #434B5C;\n",
              "      box-shadow: 0px 1px 3px 1px rgba(0, 0, 0, 0.15);\n",
              "      filter: drop-shadow(0px 1px 2px rgba(0, 0, 0, 0.3));\n",
              "      fill: #FFFFFF;\n",
              "    }\n",
              "  </style>\n",
              "\n",
              "      <script>\n",
              "        const buttonEl =\n",
              "          document.querySelector('#df-906ccd22-35e7-4476-8b60-83aefb7cc3c6 button.colab-df-convert');\n",
              "        buttonEl.style.display =\n",
              "          google.colab.kernel.accessAllowed ? 'block' : 'none';\n",
              "\n",
              "        async function convertToInteractive(key) {\n",
              "          const element = document.querySelector('#df-906ccd22-35e7-4476-8b60-83aefb7cc3c6');\n",
              "          const dataTable =\n",
              "            await google.colab.kernel.invokeFunction('convertToInteractive',\n",
              "                                                     [key], {});\n",
              "          if (!dataTable) return;\n",
              "\n",
              "          const docLinkHtml = 'Like what you see? Visit the ' +\n",
              "            '<a target=\"_blank\" href=https://colab.research.google.com/notebooks/data_table.ipynb>data table notebook</a>'\n",
              "            + ' to learn more about interactive tables.';\n",
              "          element.innerHTML = '';\n",
              "          dataTable['output_type'] = 'display_data';\n",
              "          await google.colab.output.renderOutput(dataTable, element);\n",
              "          const docLink = document.createElement('div');\n",
              "          docLink.innerHTML = docLinkHtml;\n",
              "          element.appendChild(docLink);\n",
              "        }\n",
              "      </script>\n",
              "    </div>\n",
              "  </div>\n",
              "  "
            ]
          },
          "metadata": {},
          "execution_count": 13
        }
      ]
    },
    {
      "cell_type": "code",
      "source": [
        "### centering and normalizing the data\n",
        "\n",
        "# pre-processing each dataframe\n",
        "train_df = preprocess_df(train_temp_df)\n",
        "test_df = preprocess_df(test_temp_df)\n",
        "\n",
        "# extracting arrays for x_train, y_train, x_test, y_test\n",
        "x_train, y_train = x_y_from_df(train_df)\n",
        "x_test, y_test = x_y_from_df(test_df)"
      ],
      "metadata": {
        "id": "aCWhRpennWnd"
      },
      "execution_count": 14,
      "outputs": []
    },
    {
      "cell_type": "code",
      "source": [
        "### saving a copy of the un-preprocessed (centered and normalized) data\n",
        "\n",
        "x_train_unprocessed, _ = x_y_from_df(train_temp_df)\n",
        "x_test_unprocessed, _ = x_y_from_df(test_temp_df)"
      ],
      "metadata": {
        "id": "n0vemftld2Ja"
      },
      "execution_count": 15,
      "outputs": []
    },
    {
      "cell_type": "code",
      "source": [
        "### saving a copy of the data normalized based on the pixel greyscale values\n",
        "\n",
        "# pre-processing each dataframe\n",
        "train_greyscale_df = preprocess_greyscale_df(train_temp_df)\n",
        "test_greyscale_df = preprocess_greyscale_df(test_temp_df)\n",
        "\n",
        "x_train_greyscale, y_train_greyscale = x_y_from_df(train_greyscale_df)\n",
        "x_test_greyscale, y_test_greyscale = x_y_from_df(test_greyscale_df)"
      ],
      "metadata": {
        "id": "7XDsp3n9_zaQ"
      },
      "execution_count": 16,
      "outputs": []
    },
    {
      "cell_type": "code",
      "source": [
        "### saving a copy of the data reshaped into images for the convnet\n",
        "\n",
        "# reshapes the arrays into image format (28 x 28 pixels)\n",
        "x_train_convnet = np.reshape(x_train, (60000, 28, 28, 1))\n",
        "x_test_convnet = np.reshape(x_train, (60000, 28, 28, 1))\n",
        "\n",
        "y_train_convnet = tf.keras.utils.to_categorical(y_train)\n",
        "y_test_convnet = tf.keras.utils.to_categorical(y_test)"
      ],
      "metadata": {
        "id": "ZoLHrbjOIlSC"
      },
      "execution_count": 17,
      "outputs": []
    },
    {
      "cell_type": "code",
      "source": [
        "train_df"
      ],
      "metadata": {
        "colab": {
          "base_uri": "https://localhost:8080/",
          "height": 0
        },
        "id": "_S73o8ans37S",
        "outputId": "2ab79de2-de4c-46f6-e591-5815b6f28a54"
      },
      "execution_count": 18,
      "outputs": [
        {
          "output_type": "execute_result",
          "data": {
            "text/plain": [
              "              0         1         2         3         4         5         6  \\\n",
              "0     -0.008644 -0.023223 -0.039178 -0.041322 -0.057646 -0.071167 -0.098878   \n",
              "1     -0.008644 -0.023223 -0.039178 -0.041322 -0.057646  0.100437 -0.098878   \n",
              "2     -0.008644 -0.023223 -0.039178 -0.041322 -0.057646 -0.071167 -0.098878   \n",
              "3     -0.008644 -0.023223 -0.039178 -0.041322 -0.057646 -0.071167 -0.098878   \n",
              "4     -0.008644 -0.023223 -0.039178 -0.041322 -0.057646 -0.071167 -0.098878   \n",
              "...         ...       ...       ...       ...       ...       ...       ...   \n",
              "59995 -0.008644 -0.023223 -0.039178 -0.041322 -0.057646 -0.071167 -0.098878   \n",
              "59996 -0.008644 -0.023223 -0.039178 -0.041322 -0.057646 -0.071167 -0.098878   \n",
              "59997 -0.008644 -0.023223 -0.039178 -0.041322 -0.057646 -0.071167 -0.098878   \n",
              "59998 -0.008644 -0.023223 -0.039178 -0.041322 -0.057646 -0.071167 -0.098878   \n",
              "59999 -0.008644 -0.023223 -0.039178 -0.041322 -0.057646 -0.071167 -0.098878   \n",
              "\n",
              "              7         8         9  ...       775       776       777  \\\n",
              "0     -0.156653 -0.239080 -0.377827  ... -0.474798 -0.394260 -0.406094   \n",
              "1     -0.156653 -0.239080 -0.377827  ...  1.857395  2.697741  1.324682   \n",
              "2     -0.156653 -0.239080  0.198023  ... -0.474798 -0.370475 -0.406094   \n",
              "3     -0.156653  1.145393  2.134974  ... -0.474798 -0.394260 -0.406094   \n",
              "4     -0.156653 -0.239080 -0.377827  ... -0.474798 -0.394260 -0.406094   \n",
              "...         ...       ...       ...  ...       ...       ...       ...   \n",
              "59995 -0.156653 -0.239080 -0.377827  ... -0.474798 -0.394260 -0.406094   \n",
              "59996 -0.156653 -0.239080 -0.377827  ... -0.474798 -0.394260 -0.406094   \n",
              "59997 -0.156653 -0.239080 -0.246952  ... -0.474798 -0.394260 -0.406094   \n",
              "59998 -0.156653 -0.239080 -0.377827  ...  0.629925  0.794971 -0.292227   \n",
              "59999 -0.156653 -0.239080 -0.377827  ... -0.474798 -0.394260 -0.406094   \n",
              "\n",
              "            778       779       780       781       782       783  LABEL  \n",
              "0     -0.441358 -0.396626 -0.288156 -0.156811 -0.089673 -0.034147      9  \n",
              "1     -0.441358 -0.396626 -0.288156 -0.156811 -0.089673 -0.034147      0  \n",
              "2     -0.441358 -0.396626 -0.288156 -0.156811 -0.089673 -0.034147      0  \n",
              "3     -0.441358 -0.396626 -0.288156 -0.156811 -0.089673 -0.034147      3  \n",
              "4     -0.441358 -0.396626 -0.288156 -0.156811 -0.089673 -0.034147      0  \n",
              "...         ...       ...       ...       ...       ...       ...    ...  \n",
              "59995 -0.441358 -0.396626 -0.288156 -0.156811 -0.089673 -0.034147      5  \n",
              "59996 -0.441358 -0.396626 -0.288156 -0.156811 -0.089673 -0.034147      1  \n",
              "59997 -0.441358 -0.396626 -0.288156 -0.156811 -0.089673 -0.034147      3  \n",
              "59998 -0.441358 -0.374489 -0.288156 -0.156811 -0.089673 -0.034147      0  \n",
              "59999 -0.441358 -0.396626 -0.288156 -0.156811 -0.089673 -0.034147      5  \n",
              "\n",
              "[60000 rows x 785 columns]"
            ],
            "text/html": [
              "\n",
              "  <div id=\"df-7d31cff0-ea63-4142-9c02-c4e976273a77\">\n",
              "    <div class=\"colab-df-container\">\n",
              "      <div>\n",
              "<style scoped>\n",
              "    .dataframe tbody tr th:only-of-type {\n",
              "        vertical-align: middle;\n",
              "    }\n",
              "\n",
              "    .dataframe tbody tr th {\n",
              "        vertical-align: top;\n",
              "    }\n",
              "\n",
              "    .dataframe thead th {\n",
              "        text-align: right;\n",
              "    }\n",
              "</style>\n",
              "<table border=\"1\" class=\"dataframe\">\n",
              "  <thead>\n",
              "    <tr style=\"text-align: right;\">\n",
              "      <th></th>\n",
              "      <th>0</th>\n",
              "      <th>1</th>\n",
              "      <th>2</th>\n",
              "      <th>3</th>\n",
              "      <th>4</th>\n",
              "      <th>5</th>\n",
              "      <th>6</th>\n",
              "      <th>7</th>\n",
              "      <th>8</th>\n",
              "      <th>9</th>\n",
              "      <th>...</th>\n",
              "      <th>775</th>\n",
              "      <th>776</th>\n",
              "      <th>777</th>\n",
              "      <th>778</th>\n",
              "      <th>779</th>\n",
              "      <th>780</th>\n",
              "      <th>781</th>\n",
              "      <th>782</th>\n",
              "      <th>783</th>\n",
              "      <th>LABEL</th>\n",
              "    </tr>\n",
              "  </thead>\n",
              "  <tbody>\n",
              "    <tr>\n",
              "      <th>0</th>\n",
              "      <td>-0.008644</td>\n",
              "      <td>-0.023223</td>\n",
              "      <td>-0.039178</td>\n",
              "      <td>-0.041322</td>\n",
              "      <td>-0.057646</td>\n",
              "      <td>-0.071167</td>\n",
              "      <td>-0.098878</td>\n",
              "      <td>-0.156653</td>\n",
              "      <td>-0.239080</td>\n",
              "      <td>-0.377827</td>\n",
              "      <td>...</td>\n",
              "      <td>-0.474798</td>\n",
              "      <td>-0.394260</td>\n",
              "      <td>-0.406094</td>\n",
              "      <td>-0.441358</td>\n",
              "      <td>-0.396626</td>\n",
              "      <td>-0.288156</td>\n",
              "      <td>-0.156811</td>\n",
              "      <td>-0.089673</td>\n",
              "      <td>-0.034147</td>\n",
              "      <td>9</td>\n",
              "    </tr>\n",
              "    <tr>\n",
              "      <th>1</th>\n",
              "      <td>-0.008644</td>\n",
              "      <td>-0.023223</td>\n",
              "      <td>-0.039178</td>\n",
              "      <td>-0.041322</td>\n",
              "      <td>-0.057646</td>\n",
              "      <td>0.100437</td>\n",
              "      <td>-0.098878</td>\n",
              "      <td>-0.156653</td>\n",
              "      <td>-0.239080</td>\n",
              "      <td>-0.377827</td>\n",
              "      <td>...</td>\n",
              "      <td>1.857395</td>\n",
              "      <td>2.697741</td>\n",
              "      <td>1.324682</td>\n",
              "      <td>-0.441358</td>\n",
              "      <td>-0.396626</td>\n",
              "      <td>-0.288156</td>\n",
              "      <td>-0.156811</td>\n",
              "      <td>-0.089673</td>\n",
              "      <td>-0.034147</td>\n",
              "      <td>0</td>\n",
              "    </tr>\n",
              "    <tr>\n",
              "      <th>2</th>\n",
              "      <td>-0.008644</td>\n",
              "      <td>-0.023223</td>\n",
              "      <td>-0.039178</td>\n",
              "      <td>-0.041322</td>\n",
              "      <td>-0.057646</td>\n",
              "      <td>-0.071167</td>\n",
              "      <td>-0.098878</td>\n",
              "      <td>-0.156653</td>\n",
              "      <td>-0.239080</td>\n",
              "      <td>0.198023</td>\n",
              "      <td>...</td>\n",
              "      <td>-0.474798</td>\n",
              "      <td>-0.370475</td>\n",
              "      <td>-0.406094</td>\n",
              "      <td>-0.441358</td>\n",
              "      <td>-0.396626</td>\n",
              "      <td>-0.288156</td>\n",
              "      <td>-0.156811</td>\n",
              "      <td>-0.089673</td>\n",
              "      <td>-0.034147</td>\n",
              "      <td>0</td>\n",
              "    </tr>\n",
              "    <tr>\n",
              "      <th>3</th>\n",
              "      <td>-0.008644</td>\n",
              "      <td>-0.023223</td>\n",
              "      <td>-0.039178</td>\n",
              "      <td>-0.041322</td>\n",
              "      <td>-0.057646</td>\n",
              "      <td>-0.071167</td>\n",
              "      <td>-0.098878</td>\n",
              "      <td>-0.156653</td>\n",
              "      <td>1.145393</td>\n",
              "      <td>2.134974</td>\n",
              "      <td>...</td>\n",
              "      <td>-0.474798</td>\n",
              "      <td>-0.394260</td>\n",
              "      <td>-0.406094</td>\n",
              "      <td>-0.441358</td>\n",
              "      <td>-0.396626</td>\n",
              "      <td>-0.288156</td>\n",
              "      <td>-0.156811</td>\n",
              "      <td>-0.089673</td>\n",
              "      <td>-0.034147</td>\n",
              "      <td>3</td>\n",
              "    </tr>\n",
              "    <tr>\n",
              "      <th>4</th>\n",
              "      <td>-0.008644</td>\n",
              "      <td>-0.023223</td>\n",
              "      <td>-0.039178</td>\n",
              "      <td>-0.041322</td>\n",
              "      <td>-0.057646</td>\n",
              "      <td>-0.071167</td>\n",
              "      <td>-0.098878</td>\n",
              "      <td>-0.156653</td>\n",
              "      <td>-0.239080</td>\n",
              "      <td>-0.377827</td>\n",
              "      <td>...</td>\n",
              "      <td>-0.474798</td>\n",
              "      <td>-0.394260</td>\n",
              "      <td>-0.406094</td>\n",
              "      <td>-0.441358</td>\n",
              "      <td>-0.396626</td>\n",
              "      <td>-0.288156</td>\n",
              "      <td>-0.156811</td>\n",
              "      <td>-0.089673</td>\n",
              "      <td>-0.034147</td>\n",
              "      <td>0</td>\n",
              "    </tr>\n",
              "    <tr>\n",
              "      <th>...</th>\n",
              "      <td>...</td>\n",
              "      <td>...</td>\n",
              "      <td>...</td>\n",
              "      <td>...</td>\n",
              "      <td>...</td>\n",
              "      <td>...</td>\n",
              "      <td>...</td>\n",
              "      <td>...</td>\n",
              "      <td>...</td>\n",
              "      <td>...</td>\n",
              "      <td>...</td>\n",
              "      <td>...</td>\n",
              "      <td>...</td>\n",
              "      <td>...</td>\n",
              "      <td>...</td>\n",
              "      <td>...</td>\n",
              "      <td>...</td>\n",
              "      <td>...</td>\n",
              "      <td>...</td>\n",
              "      <td>...</td>\n",
              "      <td>...</td>\n",
              "    </tr>\n",
              "    <tr>\n",
              "      <th>59995</th>\n",
              "      <td>-0.008644</td>\n",
              "      <td>-0.023223</td>\n",
              "      <td>-0.039178</td>\n",
              "      <td>-0.041322</td>\n",
              "      <td>-0.057646</td>\n",
              "      <td>-0.071167</td>\n",
              "      <td>-0.098878</td>\n",
              "      <td>-0.156653</td>\n",
              "      <td>-0.239080</td>\n",
              "      <td>-0.377827</td>\n",
              "      <td>...</td>\n",
              "      <td>-0.474798</td>\n",
              "      <td>-0.394260</td>\n",
              "      <td>-0.406094</td>\n",
              "      <td>-0.441358</td>\n",
              "      <td>-0.396626</td>\n",
              "      <td>-0.288156</td>\n",
              "      <td>-0.156811</td>\n",
              "      <td>-0.089673</td>\n",
              "      <td>-0.034147</td>\n",
              "      <td>5</td>\n",
              "    </tr>\n",
              "    <tr>\n",
              "      <th>59996</th>\n",
              "      <td>-0.008644</td>\n",
              "      <td>-0.023223</td>\n",
              "      <td>-0.039178</td>\n",
              "      <td>-0.041322</td>\n",
              "      <td>-0.057646</td>\n",
              "      <td>-0.071167</td>\n",
              "      <td>-0.098878</td>\n",
              "      <td>-0.156653</td>\n",
              "      <td>-0.239080</td>\n",
              "      <td>-0.377827</td>\n",
              "      <td>...</td>\n",
              "      <td>-0.474798</td>\n",
              "      <td>-0.394260</td>\n",
              "      <td>-0.406094</td>\n",
              "      <td>-0.441358</td>\n",
              "      <td>-0.396626</td>\n",
              "      <td>-0.288156</td>\n",
              "      <td>-0.156811</td>\n",
              "      <td>-0.089673</td>\n",
              "      <td>-0.034147</td>\n",
              "      <td>1</td>\n",
              "    </tr>\n",
              "    <tr>\n",
              "      <th>59997</th>\n",
              "      <td>-0.008644</td>\n",
              "      <td>-0.023223</td>\n",
              "      <td>-0.039178</td>\n",
              "      <td>-0.041322</td>\n",
              "      <td>-0.057646</td>\n",
              "      <td>-0.071167</td>\n",
              "      <td>-0.098878</td>\n",
              "      <td>-0.156653</td>\n",
              "      <td>-0.239080</td>\n",
              "      <td>-0.246952</td>\n",
              "      <td>...</td>\n",
              "      <td>-0.474798</td>\n",
              "      <td>-0.394260</td>\n",
              "      <td>-0.406094</td>\n",
              "      <td>-0.441358</td>\n",
              "      <td>-0.396626</td>\n",
              "      <td>-0.288156</td>\n",
              "      <td>-0.156811</td>\n",
              "      <td>-0.089673</td>\n",
              "      <td>-0.034147</td>\n",
              "      <td>3</td>\n",
              "    </tr>\n",
              "    <tr>\n",
              "      <th>59998</th>\n",
              "      <td>-0.008644</td>\n",
              "      <td>-0.023223</td>\n",
              "      <td>-0.039178</td>\n",
              "      <td>-0.041322</td>\n",
              "      <td>-0.057646</td>\n",
              "      <td>-0.071167</td>\n",
              "      <td>-0.098878</td>\n",
              "      <td>-0.156653</td>\n",
              "      <td>-0.239080</td>\n",
              "      <td>-0.377827</td>\n",
              "      <td>...</td>\n",
              "      <td>0.629925</td>\n",
              "      <td>0.794971</td>\n",
              "      <td>-0.292227</td>\n",
              "      <td>-0.441358</td>\n",
              "      <td>-0.374489</td>\n",
              "      <td>-0.288156</td>\n",
              "      <td>-0.156811</td>\n",
              "      <td>-0.089673</td>\n",
              "      <td>-0.034147</td>\n",
              "      <td>0</td>\n",
              "    </tr>\n",
              "    <tr>\n",
              "      <th>59999</th>\n",
              "      <td>-0.008644</td>\n",
              "      <td>-0.023223</td>\n",
              "      <td>-0.039178</td>\n",
              "      <td>-0.041322</td>\n",
              "      <td>-0.057646</td>\n",
              "      <td>-0.071167</td>\n",
              "      <td>-0.098878</td>\n",
              "      <td>-0.156653</td>\n",
              "      <td>-0.239080</td>\n",
              "      <td>-0.377827</td>\n",
              "      <td>...</td>\n",
              "      <td>-0.474798</td>\n",
              "      <td>-0.394260</td>\n",
              "      <td>-0.406094</td>\n",
              "      <td>-0.441358</td>\n",
              "      <td>-0.396626</td>\n",
              "      <td>-0.288156</td>\n",
              "      <td>-0.156811</td>\n",
              "      <td>-0.089673</td>\n",
              "      <td>-0.034147</td>\n",
              "      <td>5</td>\n",
              "    </tr>\n",
              "  </tbody>\n",
              "</table>\n",
              "<p>60000 rows × 785 columns</p>\n",
              "</div>\n",
              "      <button class=\"colab-df-convert\" onclick=\"convertToInteractive('df-7d31cff0-ea63-4142-9c02-c4e976273a77')\"\n",
              "              title=\"Convert this dataframe to an interactive table.\"\n",
              "              style=\"display:none;\">\n",
              "        \n",
              "  <svg xmlns=\"http://www.w3.org/2000/svg\" height=\"24px\"viewBox=\"0 0 24 24\"\n",
              "       width=\"24px\">\n",
              "    <path d=\"M0 0h24v24H0V0z\" fill=\"none\"/>\n",
              "    <path d=\"M18.56 5.44l.94 2.06.94-2.06 2.06-.94-2.06-.94-.94-2.06-.94 2.06-2.06.94zm-11 1L8.5 8.5l.94-2.06 2.06-.94-2.06-.94L8.5 2.5l-.94 2.06-2.06.94zm10 10l.94 2.06.94-2.06 2.06-.94-2.06-.94-.94-2.06-.94 2.06-2.06.94z\"/><path d=\"M17.41 7.96l-1.37-1.37c-.4-.4-.92-.59-1.43-.59-.52 0-1.04.2-1.43.59L10.3 9.45l-7.72 7.72c-.78.78-.78 2.05 0 2.83L4 21.41c.39.39.9.59 1.41.59.51 0 1.02-.2 1.41-.59l7.78-7.78 2.81-2.81c.8-.78.8-2.07 0-2.86zM5.41 20L4 18.59l7.72-7.72 1.47 1.35L5.41 20z\"/>\n",
              "  </svg>\n",
              "      </button>\n",
              "      \n",
              "  <style>\n",
              "    .colab-df-container {\n",
              "      display:flex;\n",
              "      flex-wrap:wrap;\n",
              "      gap: 12px;\n",
              "    }\n",
              "\n",
              "    .colab-df-convert {\n",
              "      background-color: #E8F0FE;\n",
              "      border: none;\n",
              "      border-radius: 50%;\n",
              "      cursor: pointer;\n",
              "      display: none;\n",
              "      fill: #1967D2;\n",
              "      height: 32px;\n",
              "      padding: 0 0 0 0;\n",
              "      width: 32px;\n",
              "    }\n",
              "\n",
              "    .colab-df-convert:hover {\n",
              "      background-color: #E2EBFA;\n",
              "      box-shadow: 0px 1px 2px rgba(60, 64, 67, 0.3), 0px 1px 3px 1px rgba(60, 64, 67, 0.15);\n",
              "      fill: #174EA6;\n",
              "    }\n",
              "\n",
              "    [theme=dark] .colab-df-convert {\n",
              "      background-color: #3B4455;\n",
              "      fill: #D2E3FC;\n",
              "    }\n",
              "\n",
              "    [theme=dark] .colab-df-convert:hover {\n",
              "      background-color: #434B5C;\n",
              "      box-shadow: 0px 1px 3px 1px rgba(0, 0, 0, 0.15);\n",
              "      filter: drop-shadow(0px 1px 2px rgba(0, 0, 0, 0.3));\n",
              "      fill: #FFFFFF;\n",
              "    }\n",
              "  </style>\n",
              "\n",
              "      <script>\n",
              "        const buttonEl =\n",
              "          document.querySelector('#df-7d31cff0-ea63-4142-9c02-c4e976273a77 button.colab-df-convert');\n",
              "        buttonEl.style.display =\n",
              "          google.colab.kernel.accessAllowed ? 'block' : 'none';\n",
              "\n",
              "        async function convertToInteractive(key) {\n",
              "          const element = document.querySelector('#df-7d31cff0-ea63-4142-9c02-c4e976273a77');\n",
              "          const dataTable =\n",
              "            await google.colab.kernel.invokeFunction('convertToInteractive',\n",
              "                                                     [key], {});\n",
              "          if (!dataTable) return;\n",
              "\n",
              "          const docLinkHtml = 'Like what you see? Visit the ' +\n",
              "            '<a target=\"_blank\" href=https://colab.research.google.com/notebooks/data_table.ipynb>data table notebook</a>'\n",
              "            + ' to learn more about interactive tables.';\n",
              "          element.innerHTML = '';\n",
              "          dataTable['output_type'] = 'display_data';\n",
              "          await google.colab.output.renderOutput(dataTable, element);\n",
              "          const docLink = document.createElement('div');\n",
              "          docLink.innerHTML = docLinkHtml;\n",
              "          element.appendChild(docLink);\n",
              "        }\n",
              "      </script>\n",
              "    </div>\n",
              "  </div>\n",
              "  "
            ]
          },
          "metadata": {},
          "execution_count": 18
        }
      ]
    },
    {
      "cell_type": "code",
      "source": [
        "# plotting label distributions for training data\n",
        "plot_label_distributions(train_df['LABEL'].tolist(), 'MNIST Fashion (train)', labels)"
      ],
      "metadata": {
        "id": "7Z1sA2Iu0MYp",
        "outputId": "2993f6bc-552c-42a0-e3d8-60f84efdf2ed",
        "colab": {
          "base_uri": "https://localhost:8080/",
          "height": 0
        }
      },
      "execution_count": 19,
      "outputs": [
        {
          "output_type": "display_data",
          "data": {
            "text/plain": [
              "<Figure size 720x288 with 1 Axes>"
            ],
            "image/png": "[encoded data removed]"
          },
          "metadata": {
            "needs_background": "light"
          }
        }
      ]
    },
    {
      "cell_type": "code",
      "source": [
        "# plotting label distributions for testing data\n",
        "plot_label_distributions(test_df['LABEL'].tolist(), 'MNIST Fashion (test)', labels)"
      ],
      "metadata": {
        "id": "5uB2ZBXO2E2q",
        "outputId": "a627a09d-e6f3-463c-a169-bee31e150072",
        "colab": {
          "base_uri": "https://localhost:8080/",
          "height": 0
        }
      },
      "execution_count": 20,
      "outputs": [
        {
          "output_type": "display_data",
          "data": {
            "text/plain": [
              "<Figure size 720x288 with 1 Axes>"
            ],
            "image/png": "[encoded data removed]"
          },
          "metadata": {
            "needs_background": "light"
          }
        }
      ]
    },
    {
      "cell_type": "markdown",
      "source": [
        "# Implementing models"
      ],
      "metadata": {
        "id": "a6lVueablnwe"
      }
    },
    {
      "cell_type": "markdown",
      "source": [
        "## Helper functions"
      ],
      "metadata": {
        "id": "U_WEPKULlIU2"
      }
    },
    {
      "cell_type": "markdown",
      "source": [
        "## Layers"
      ],
      "metadata": {
        "id": "-7B0imbhlxBQ"
      }
    },
    {
      "cell_type": "code",
      "source": [
        "class NeuralNetLayer:\n",
        "  def __init__(self):\n",
        "    self.gradient = None\n",
        "    self.parameters = None\n",
        "        \n",
        "  def forward(self, x):\n",
        "    raise NotImplementedError\n",
        "\n",
        "  def backward(self, gradient):\n",
        "    raise NotImplementedError\n",
        "  def ce(self, x, y):\n",
        "    return -np.sum(y * np.log(self.forward(x)))"
      ],
      "metadata": {
        "id": "6G7qW7K8kaeL"
      },
      "execution_count": 21,
      "outputs": []
    },
    {
      "cell_type": "code",
      "source": [
        "class LinearLayer(NeuralNetLayer):\n",
        "  def __init__(self, input_size, output_size):\n",
        "    super().__init__()\n",
        "    self.ni = input_size\n",
        "    self.no = output_size\n",
        "\n",
        "    sigma = 0.1\n",
        "    self.w = sigma * random_state.randn(output_size, input_size)\n",
        "    self.b = sigma * random_state.randn(output_size)\n",
        "    self.cur_input = None\n",
        "    self.parameters = [self.w, self.b]\n",
        "\n",
        "  # x is the data inputted into this layer during predictions;\n",
        "  # unless this is the input layer, x is the original data inputted\n",
        "  # into the model, but transformed by the preceding layers\n",
        "  def forward(self, x):\n",
        "    self.cur_input = x\n",
        "    return (self.w[None, :, :] @ x[:, :, None]).squeeze() + self.b\n",
        "\n",
        "  def backward(self, gradient):\n",
        "    assert self.cur_input is not None, \"Must call forward before backward\"\n",
        "    #dw = gradient.dot(self.cur_input)\n",
        "    dw = gradient[:, :, None] @ self.cur_input[:, None, :]\n",
        "    db = gradient\n",
        "    self.gradient = [dw, db]\n",
        "    return gradient.dot(self.w)"
      ],
      "metadata": {
        "id": "fLT6hDvqlnWn"
      },
      "execution_count": 22,
      "outputs": []
    },
    {
      "cell_type": "code",
      "source": [
        "class ReLULayer(NeuralNetLayer):\n",
        "  def __init__(self):\n",
        "    super().__init__()\n",
        "        \n",
        "  def forward(self, x):\n",
        "    self.gradient = np.where(x > 0, 1.0, 0.0)\n",
        "    self.cur_input=x\n",
        "    activated_x = np.maximum(0, x)\n",
        "    return activated_x\n",
        "\n",
        "  def backward(self, gradient):\n",
        "    assert self.gradient is not None, \"Must call forward before backward\"\n",
        "    return gradient * self.gradient"
      ],
      "metadata": {
        "id": "nh2uqaBzltSL"
      },
      "execution_count": 23,
      "outputs": []
    },
    {
      "cell_type": "code",
      "source": [
        "class LeakyReLULayer(NeuralNetLayer):\n",
        "  def __init__(self):\n",
        "    super().__init__()\n",
        "        \n",
        "  def forward(self, x):\n",
        "    self.gradient = np.where(x > 0, 1.0, 0.01)\n",
        "    self.cur_input=x\n",
        "    # activated_x = [[float(element) if element > 0 else float(element) * 0.01 for element in sublist] for sublist in x]\n",
        "    activated_x = np.maximum(0.01 * x, x)\n",
        "    return activated_x\n",
        "\n",
        "  def backward(self, gradient):\n",
        "    assert self.gradient is not None, \"Must call forward before backward\"\n",
        "    return gradient * self.gradient"
      ],
      "metadata": {
        "id": "dXZNK6cj0OpR"
      },
      "execution_count": 24,
      "outputs": []
    },
    {
      "cell_type": "code",
      "source": [
        "class TanhLayer(NeuralNetLayer):\n",
        "  def __init__(self):\n",
        "    super().__init__()\n",
        "        \n",
        "  def forward(self, x):\n",
        "    self.gradient = 1 - (np.tanh(x) ** 2)\n",
        "    self.cur_input=x\n",
        "    activated_x = np.tanh(x)\n",
        "    return activated_x\n",
        "\n",
        "  def backward(self, gradient):\n",
        "    assert self.gradient is not None, \"Must call forward before backward\"\n",
        "    return gradient * self.gradient"
      ],
      "metadata": {
        "id": "_Q3WODEGvX9T"
      },
      "execution_count": 25,
      "outputs": []
    },
    {
      "cell_type": "code",
      "source": [
        "class SoftmaxOutputLayer(NeuralNetLayer):\n",
        "  def __init__(self):\n",
        "    super().__init__()\n",
        "    self.cur_probs = None\n",
        "\n",
        "  def forward(self, x):\n",
        "    self.cur_input=x\n",
        "    exps = np.exp(x)\n",
        "    probs = exps / np.sum(exps, axis=-1)[:, None]\n",
        "    #print(probs)\n",
        "    self.cur_probs = probs\n",
        "    return probs\n",
        "\n",
        "  def backward(self, target):\n",
        "    assert self.cur_probs is not None, \"Must call forward before backward\"\n",
        "    return self.cur_probs - target"
      ],
      "metadata": {
        "id": "H5KJfNG-l3Vq"
      },
      "execution_count": 26,
      "outputs": []
    },
    {
      "cell_type": "markdown",
      "source": [
        "## MLP"
      ],
      "metadata": {
        "id": "5o7wc6mXO2TM"
      }
    },
    {
      "cell_type": "code",
      "source": [
        "from copy import deepcopy\n",
        "class MLP:\n",
        "  def __init__(self, n_features, n_output, hidden_layers = 0, hidden_units = [0], activation_func = \"None\"):\n",
        "    layers_list = []\n",
        "\n",
        "    # adds the input layer\n",
        "    if hidden_layers == 0:\n",
        "      layers_list.append(LinearLayer(n_features, n_output))\n",
        "    else:\n",
        "      layers_list.append(LinearLayer(n_features, hidden_units[0]))\n",
        "\n",
        "    # adds the hidden layers\n",
        "    for i in range(hidden_layers):\n",
        "\n",
        "      # adds activation function layers\n",
        "      if activation_func.upper() == \"RELU\":\n",
        "        layers_list.append(ReLULayer())\n",
        "      elif activation_func.upper() == \"TANH\":\n",
        "        layers_list.append(TanhLayer())\n",
        "      elif activation_func.upper() == \"LEAKY RELU\":\n",
        "        layers_list.append(LeakyReLULayer())\n",
        "\n",
        "      # if this is the last hidden layer, it outputs the output size\n",
        "      if i == hidden_layers - 1:\n",
        "        layers_list.append(LinearLayer(hidden_units[i], n_output))\n",
        "        continue\n",
        "          \n",
        "      # if this is not the last hidden layer, it outputs the hidden size\n",
        "      layers_list.append(LinearLayer(hidden_units[i], hidden_units[i + 1]))\n",
        "          \n",
        "    # adds the output layer\n",
        "    layers_list.append(SoftmaxOutputLayer())\n",
        "\n",
        "    self.layers = layers_list\n",
        "\n",
        "  def forward(self, x):\n",
        "    for layer in self.layers:\n",
        "      x = layer.forward(x)\n",
        "    return x\n",
        "\n",
        "  def backward(self, target):\n",
        "    for layer in self.layers[::-1]:\n",
        "      target = layer.backward(target)\n",
        "\n",
        "  def fit(self, x_train, y_train, x_test, y_test, opt, lambda_reg = 0, track_accuracy = False):    \n",
        "    # one-hot encodes the labels\n",
        "    labels_count = len(set(y_train))\n",
        "    labels = np.eye(labels_count)[np.array(y_train)]\n",
        "\n",
        "    loss = 0\n",
        "    train_acc = 0\n",
        "    test_acc = 0\n",
        "\n",
        "    prediction_probs = self.forward(x_train)\n",
        "\n",
        "    # back propagates\n",
        "    self.backward(labels)\n",
        "    opt.step()\n",
        "\n",
        "    # calculates the loss\n",
        "    loss = self.evaluate_loss(prediction_probs, labels, lambda_reg)\n",
        "\n",
        "    ### calculates the training and testing accuracy\n",
        "    if track_accuracy:\n",
        "      # calculates the predicted labels using the current model weights\n",
        "      train_pred = self.predict(x_train)\n",
        "      test_pred = self.predict(x_test)\n",
        "\n",
        "      # evaluates the training and testing accuracy\n",
        "      train_acc = evaluate_acc(train_pred, y_train)\n",
        "      test_acc = evaluate_acc(test_pred, y_test)\n",
        "\n",
        "    # returns the CE loss, training accuracy, and testing accuracy\n",
        "    return loss, train_acc, test_acc\n",
        "\n",
        "  def fit_mini_batch(self, x_train, y_train, x_test, y_test, opt, batch_size, lambda_reg = 0, track_acc = False):    \n",
        "    # one-hot encodes the labels\n",
        "    labels_count = len(set(y_train))\n",
        "    labels = np.eye(labels_count)[np.array(y_train)]\n",
        "\n",
        "    x_train_size = len(x_train)\n",
        "\n",
        "    # the number of instances in each batch\n",
        "    batch_count = int(len(x_train) / batch_size)\n",
        "\n",
        "    # the index at which the current batch starts (updated in the for loop)\n",
        "    start_index = 0\n",
        "\n",
        "    loss = 0\n",
        "    train_acc = 0\n",
        "    test_acc = 0\n",
        "\n",
        "    # updating the model weights for each batch of training data\n",
        "    for i in range(batch_count):\n",
        "\n",
        "      # the index at which the current batch ends\n",
        "      end_index = batch_size * (i + 1)\n",
        "      if(i == batch_count - 1):\n",
        "        # if this is the last batch, take all the training data from start_index to -1\n",
        "        end_index = -1\n",
        "\n",
        "      # isolates the current batch of training data and associated labels\n",
        "      batch = x_train[start_index : end_index]\n",
        "      batch_labels = labels[start_index : end_index]\n",
        "\n",
        "      # updates the start index for the next batch (next iteration in the for loop)\n",
        "      start_index = end_index\n",
        "\n",
        "      # calculates the class predictions\n",
        "      prediction_probs = self.forward(batch)\n",
        "\n",
        "      # back propagates\n",
        "      self.backward(batch_labels)\n",
        "      opt.step(batch_size / x_train_size)\n",
        "\n",
        "    # calculates the loss\n",
        "    prediction_probs = self.forward(x_train)\n",
        "    loss = self.evaluate_loss(prediction_probs, labels, lambda_reg)\n",
        "\n",
        "    if track_acc:\n",
        "      # calculates the training and testing accuracy\n",
        "      train_pred = self.predict(x_train)\n",
        "      test_pred = self.predict(x_test)\n",
        "      \n",
        "      train_acc = evaluate_acc(train_pred, y_train)\n",
        "      test_acc = evaluate_acc(test_pred, y_test)\n",
        "\n",
        "    # returns the CE loss, training accuracy, and testing accuracy\n",
        "    return loss, train_acc, test_acc\n",
        "\n",
        "  def fit_epoch_mini_batch(self, x_train, y_train, x_test, y_test, opt, batch_size, epochs, lambda_reg, track_acc):\n",
        "    losses = []\n",
        "    train_accs = []\n",
        "    test_accs = []\n",
        "\n",
        "    indices = np.arange(0, len(x_train))\n",
        "\n",
        "    for epoch in range(epochs):\n",
        "      random_state.shuffle(indices)\n",
        "      x_train_shuf = x_train[indices]\n",
        "      y_train_shuf = y_train[indices]\n",
        "\n",
        "      loss, train_acc, test_acc = self.fit_mini_batch(x_train_shuf, y_train_shuf, x_test, y_test, opt, batch_size, lambda_reg, track_acc)\n",
        "\n",
        "      # taking the last loss, training accuracy, and testing accuracy values\n",
        "      losses.append(loss)\n",
        "      train_accs.append(train_acc)\n",
        "      test_accs.append(test_acc)\n",
        "    \n",
        "    return losses, train_accs, test_accs\n",
        "\n",
        "  def evaluate_loss(self, prediction_probs, labels, lambda_reg):\n",
        "    # adds regularization term (0 by default)\n",
        "    reg_term = lambda_reg\n",
        "    if lambda_reg != 0:\n",
        "      weights_sum = 0\n",
        "\n",
        "      # iterates through the layers in the model and adds the weights\n",
        "      for layer in self.layers[::-1]:\n",
        "        # if the layer is a LinearLayer, it has weights\n",
        "        if type(layer).__name__ == \"LinearLayer\":\n",
        "          weights_squared = layer.w ** 2\n",
        "          weights_sum += sum(sum(weights_squared))\n",
        "\n",
        "      reg_term = (lambda_reg * weights_sum)\n",
        "\n",
        "    ### calculates the loss, adds it to the losses list, and back propagates based on the loss\n",
        "    loss = -(labels * np.log(prediction_probs)).sum(axis=-1).mean() + reg_term\n",
        "\n",
        "    return loss\n",
        "\n",
        "  def evaluate_initial_metrics(self, x_train, x_test, y_train, y_test, lambda_reg):\n",
        "    # evaluating the CE loss based on the predicted class probabilities\n",
        "    labels_count = len(set(y_train))\n",
        "    labels = np.eye(labels_count)[np.array(y_train)]\n",
        "    prediction_probs = self.forward(x_train)\n",
        "    loss = self.evaluate_loss(prediction_probs, labels, lambda_reg)\n",
        "\n",
        "    # evaluates the training and testing classification accuracy\n",
        "    train_pred = self.predict(x_train)\n",
        "    test_pred = self.predict(x_test)\n",
        "    train_acc = evaluate_acc(train_pred, y_train)\n",
        "    test_acc = evaluate_acc(test_pred, y_test)\n",
        "\n",
        "    return loss, train_acc, test_acc\n",
        "\n",
        "  def predict(self, x):\n",
        "    pred_prob = self.forward(x)\n",
        "    predictions = np.argmax(pred_prob, axis = -1)\n",
        "    return predictions\n",
        "\n",
        "  def check_grad(self, x, y):\n",
        "    layers = deepcopy(self.layers)\n",
        "    #yup\n",
        "    for layer in layers:\n",
        "      x = layer.forward(x) #load up the input x\n",
        "    \n",
        "    cur_output = y\n",
        "    target = y\n",
        "    for layer in layers[::-1]:\n",
        "      target = layer.backward(target) #target is our derived gradient thus far\n",
        "      print(target)\n",
        "      if type(layer).__name__ == \"LinearLayer\": #only verify gradient for linear layers\n",
        "        print(target)\n",
        "        # TODO: add bias support\n",
        "        N, C = cur_output.shap\n",
        "        D = layer.cur_input.shape[1]\n",
        "\n",
        "        diff = np.zeros((D, C))\n",
        "\n",
        "        W = layer.w.copy()\n",
        "\n",
        "        for i in range(D):\n",
        "            for j in range(C):\n",
        "                epsilon = np.zeros((C, D))\n",
        "                epsilon[j, i] = np.random.rand() * 1e-4\n",
        "\n",
        "                layer.w = layer.w + epsilon\n",
        "                J1 = layer.ce(layer.cur_input, cur_output)\n",
        "                layer.w\n",
        "\n",
        "                layer.w = layer.w - epsilon\n",
        "                J2 = layer.ce(layer.cur_input, cur_output)\n",
        "                layer.w\n",
        "                \n",
        "                numeric_grad = (J1 - J2) / (2 * epsilon[j, i])\n",
        "                derived_grad = target[i, j]\n",
        "                print(f\"numeric grad: {numeric_grad}\")\n",
        "                print(f\"derived grad: {numeric_grad}\")\n",
        "                diff[i, j] = np.square(derived_grad - numeric_grad).sum() / \\\n",
        "                             np.square(derived_grad + numeric_grad).sum()\n",
        "                \n",
        "                print(diff[i,j])\n",
        "        print(diff)\n",
        "        return diff.sum()\n",
        "      cur_output = layer.cur_input"
      ],
      "metadata": {
        "id": "rnVxRvpFmGO4"
      },
      "execution_count": 27,
      "outputs": []
    },
    {
      "cell_type": "code",
      "source": [
        "class Optimizer:\n",
        "    def __init__(self, net: MLP):\n",
        "        self.net = net\n",
        "\n",
        "    # batch_coef is the number of instances in the batch / training data size\n",
        "    def step(self, batch_coef):\n",
        "        for layer in self.net.layers[::-1]:\n",
        "            if layer.parameters is not None:\n",
        "                self.update(layer.parameters, layer.gradient, batch_coef)\n",
        "\n",
        "    def update(self, params, gradient):\n",
        "        raise NotImplementedError\n",
        "\n",
        "class GradientDescentOptimizer(Optimizer):\n",
        "    def __init__(self, net: MLP, lr: float):\n",
        "        super().__init__(net)\n",
        "        self.lr = lr\n",
        "\n",
        "    def update(self, params, gradient, batch_coef):\n",
        "        for (p, g) in zip(params, gradient):\n",
        "            p -= self.lr * g.mean(axis=0) * batch_coef"
      ],
      "metadata": {
        "id": "E9d9aLMlmQ1o"
      },
      "execution_count": 28,
      "outputs": []
    },
    {
      "cell_type": "markdown",
      "source": [
        "# Running experiments"
      ],
      "metadata": {
        "id": "IlELJSq3nWUz"
      }
    },
    {
      "cell_type": "markdown",
      "source": [
        "### Helper functions"
      ],
      "metadata": {
        "id": "0rywH03KE_9-"
      }
    },
    {
      "cell_type": "code",
      "source": [
        "def evaluate_acc(true_labels, target_labels):\n",
        "  # the number of labels\n",
        "  label_count = true_labels.shape[0]\n",
        "\n",
        "  # the accuracy is the number of correctly labelled instances divided\n",
        "  # by the total number of instances\n",
        "  accuracy = np.sum(target_labels == true_labels) / label_count\n",
        "\n",
        "  return accuracy"
      ],
      "metadata": {
        "id": "bAo7UKZrX5RR"
      },
      "execution_count": 30,
      "outputs": []
    },
    {
      "cell_type": "code",
      "source": [
        "def plot_losses(losses, hidden_layer_count, activation_func):\n",
        "  x_axis = np.arange(1, len(losses) + 1, dtype = int)\n",
        "\n",
        "  plt.figure(figsize=(8, 4))\n",
        "  plt.plot(x_axis, losses)\n",
        "\n",
        "  # changing the title based on whether there are hidden layers\n",
        "  if hidden_layer_count == 0:\n",
        "    plt.title(\"Cross-entropy training loss for \" + str(hidden_layer_count) + \" hidden layers\")\n",
        "  else:\n",
        "    plt.title(\"Cross-entropy training loss for \" + str(hidden_layer_count) + \" hidden layer(s) with \" + activation_func)\n",
        "    \n",
        "  plt.xlabel(\"Epoch\")\n",
        "  plt.xticks(x_axis, map(str, x_axis))\n",
        "  plt.ylabel(\"Cross-entropy loss\")"
      ],
      "metadata": {
        "id": "m2_I_GRr8MzE"
      },
      "execution_count": 31,
      "outputs": []
    },
    {
      "cell_type": "code",
      "source": [
        "def plot_train_test_acc(train_accs, test_accs, hidden_layer_count, activation_func):\n",
        "  x_axis = np.arange(1, len(train_accs) + 1, dtype = int)\n",
        "\n",
        "  plt.figure(figsize=(8, 4))\n",
        "\n",
        "  plt.plot(x_axis, train_accs, label = \"Training accuracy\")\n",
        "  plt.plot(x_axis, test_accs, label = \"Testing accuracy\")\n",
        "\n",
        "  # changing the title based on whether there are hidden layers\n",
        "  if hidden_layer_count == 0:\n",
        "    plt.title(\"Training and testing accuracy for \" + str(hidden_layer_count) + \" hidden layers\")\n",
        "  else:\n",
        "    plt.title(\"Training and testing accuracy for \" + str(hidden_layer_count) + \" hidden layer(s) with \" + activation_func)\n",
        "    \n",
        "  plt.xlabel(\"Epoch\")\n",
        "  plt.xticks(x_axis, map(str, x_axis))\n",
        "  plt.ylabel(\"Classification accuracy\")\n",
        "  plt.legend()"
      ],
      "metadata": {
        "id": "8dJsc80n80sE"
      },
      "execution_count": 32,
      "outputs": []
    },
    {
      "cell_type": "code",
      "source": [
        "def epoch_mini_batch(x_train, y_train, x_test, y_test, hidden_layers, hidden_units, activation_func, lr, batch_size, epochs, lambda_reg = 0, track_loss = False, track_acc = False):\n",
        "  n_features = x_train.shape[-1]\n",
        "  n_output = len(set(y_train))\n",
        "\n",
        "  # creates the mlp and optimizer objects\n",
        "  mlp = MLP(n_features, n_output, hidden_layers, hidden_units, activation_func)\n",
        "  opt = GradientDescentOptimizer(mlp, lr)\n",
        "\n",
        "  # saving the initial loss, training accuracy, and testing accuracy\n",
        "  initial_loss, initial_train_acc, initial_test_acc = mlp.evaluate_initial_metrics(x_train, x_test, y_train, y_test, lambda_reg)\n",
        "\n",
        "  # training the model using mini-batch times epochs\n",
        "  losses, train_accs, test_accs = mlp.fit_epoch_mini_batch(x_train, y_train, x_test, y_test, opt, batch_size, epochs, lambda_reg, track_acc)\n",
        "\n",
        "  #losses.insert(0, initial_loss)\n",
        "\n",
        "  # the number of hidden layers\n",
        "  hidden_layer_count = int((len(mlp.layers) - 2) / 2)\n",
        "\n",
        "  # plots the cross-entropy loss\n",
        "  if track_loss:\n",
        "    plot_losses(losses, hidden_layer_count, activation_func)\n",
        "    \n",
        "  # plots the training and testing accuracy\n",
        "  if track_acc:\n",
        "    plot_train_test_acc(train_accs, test_accs, hidden_layer_count, activation_func)\n",
        "\n",
        "  return mlp"
      ],
      "metadata": {
        "id": "YWxAE0Mzp7qP"
      },
      "execution_count": 33,
      "outputs": []
    },
    {
      "cell_type": "code",
      "source": [
        "def evaluate_mlp_acc(mlp: MLP, x_train, y_train, x_test, y_test, silent = True):\n",
        "  train_predictions = mlp.predict(x_train)\n",
        "  test_predictions = mlp.predict(x_test)\n",
        "  \n",
        "  train_acc = evaluate_acc(train_predictions, y_train)\n",
        "  test_acc = evaluate_acc(test_predictions, y_test)\n",
        "  \n",
        "  if not silent:\n",
        "    print(\"The accuracy of the model on the training data: \" + str(round((train_acc * 100), 2)) + \"%\")\n",
        "    print(\"The accuracy of the model on the testing data: \" + str(round((test_acc * 100), 2)) + \"%\")\n",
        "    print(\"\\n\")\n",
        "\n",
        "  return train_acc, test_acc\n",
        "                     "
      ],
      "metadata": {
        "id": "_O6LbWx1tNtx"
      },
      "execution_count": 34,
      "outputs": []
    },
    {
      "cell_type": "markdown",
      "source": [
        "## MLP"
      ],
      "metadata": {
        "id": "uVb_gMZBGdRo"
      }
    },
    {
      "cell_type": "markdown",
      "source": [
        "### Baseline accuracy tests\n",
        "\n"
      ],
      "metadata": {
        "id": "_Zi31RJC-Kmr"
      }
    },
    {
      "cell_type": "code",
      "source": [
        "### plotting training and testing for 0 hidden layers (ReLU)\n",
        "\n",
        "mlp0_test = epoch_mini_batch(x_train, y_train, x_test, y_test, 0, [], \"ReLU\", 0.1, 1000, 20, track_acc = True)\n",
        "acc0_test = evaluate_mlp_acc(mlp0_test, x_train, y_train, x_test, y_test, silent = False)"
      ],
      "metadata": {
        "id": "V5fD_iA3Nirs",
        "outputId": "1e634938-943e-4767-8551-e0e7c9678b47",
        "colab": {
          "base_uri": "https://localhost:8080/",
          "height": 366
        }
      },
      "execution_count": null,
      "outputs": [
        {
          "output_type": "stream",
          "name": "stdout",
          "text": [
            "The accuracy of the model on the training data: 86.18%\n",
            "The accuracy of the model on the testing data: 83.95%\n",
            "\n",
            "\n"
          ]
        },
        {
          "output_type": "display_data",
          "data": {
            "text/plain": [
              "<Figure size 576x288 with 1 Axes>"
            ],
            "image/png": "[encoded data removed]"
          },
          "metadata": {
            "needs_background": "light"
          }
        }
      ]
    },
    {
      "cell_type": "code",
      "source": [
        "### plotting loss for 0 hidden layers (ReLU)\n",
        "\n",
        "mlp0 = epoch_mini_batch(x_train, y_train, x_test, y_test, 0, [], \"ReLU\", 0.1, 1000, 20, track_loss = True)\n",
        "acc0 = evaluate_mlp_acc(mlp0, x_train, y_train, x_test, y_test, silent = False)"
      ],
      "metadata": {
        "id": "L81lECrRiXgs",
        "outputId": "94be9a23-5612-4087-f231-f2c236440d4b",
        "colab": {
          "base_uri": "https://localhost:8080/",
          "height": 366
        }
      },
      "execution_count": null,
      "outputs": [
        {
          "output_type": "stream",
          "name": "stdout",
          "text": [
            "The accuracy of the model on the training data: 86.06%\n",
            "The accuracy of the model on the testing data: 83.64%\n",
            "\n",
            "\n"
          ]
        },
        {
          "output_type": "display_data",
          "data": {
            "text/plain": [
              "<Figure size 576x288 with 1 Axes>"
            ],
            "image/png": "[encoded data removed]"
          },
          "metadata": {
            "needs_background": "light"
          }
        }
      ]
    },
    {
      "cell_type": "code",
      "source": [
        "### plotting training and testing accuracy for 1 hidden layer (ReLU)\n",
        "\n",
        "mlp1_test = epoch_mini_batch(x_train, y_train, x_test, y_test, 1, [128], \"ReLU\", 0.1, 1000, 20, track_acc = True)\n",
        "acc1_test = evaluate_mlp_acc(mlp1_test, x_train, y_train, x_test, y_test, silent = False)"
      ],
      "metadata": {
        "id": "TJaxXO0Nlzah",
        "outputId": "607be972-29e5-46c8-a323-1ca8d31a59cf",
        "colab": {
          "base_uri": "https://localhost:8080/",
          "height": 366
        }
      },
      "execution_count": null,
      "outputs": [
        {
          "output_type": "stream",
          "name": "stdout",
          "text": [
            "The accuracy of the model on the training data: 88.83%\n",
            "The accuracy of the model on the testing data: 86.13%\n",
            "\n",
            "\n"
          ]
        },
        {
          "output_type": "display_data",
          "data": {
            "text/plain": [
              "<Figure size 576x288 with 1 Axes>"
            ],
            "image/png": "[encoded data removed]"
          },
          "metadata": {
            "needs_background": "light"
          }
        }
      ]
    },
    {
      "cell_type": "code",
      "source": [
        "### plotting loss for 1 hidden layer (ReLU)\n",
        "\n",
        "mlp1 = epoch_mini_batch(x_train, y_train, x_test, y_test, 1, [128], \"ReLU\", 0.1, 1000, 20, track_loss = True)\n",
        "acc1 = evaluate_mlp_acc(mlp1, x_train, y_train, x_test, y_test, silent = False)"
      ],
      "metadata": {
        "id": "VWe3uSE-phLm",
        "outputId": "30765737-ba3b-4893-9ef9-5bdcb11ab462",
        "colab": {
          "base_uri": "https://localhost:8080/",
          "height": 366
        }
      },
      "execution_count": null,
      "outputs": [
        {
          "output_type": "stream",
          "name": "stdout",
          "text": [
            "The accuracy of the model on the training data: 89.06%\n",
            "The accuracy of the model on the testing data: 86.19%\n",
            "\n",
            "\n"
          ]
        },
        {
          "output_type": "display_data",
          "data": {
            "text/plain": [
              "<Figure size 576x288 with 1 Axes>"
            ],
            "image/png": "[encoded data removed]"
          },
          "metadata": {
            "needs_background": "light"
          }
        }
      ]
    },
    {
      "cell_type": "code",
      "source": [
        "### plotting training and testing accuracy for 2 hidden layers (ReLU)\n",
        "\n",
        "mlp2_test = epoch_mini_batch(x_train, y_train, x_test, y_test, 2, [128, 128], \"ReLU\", 0.1, 1000, 20, track_acc = True)\n",
        "acc2_test = evaluate_mlp_acc(mlp2_test, x_train, y_train, x_test, y_test, silent = False)"
      ],
      "metadata": {
        "id": "RwkmkB3Vq6yU",
        "outputId": "34019a80-74a1-4614-abdc-c968902cc333",
        "colab": {
          "base_uri": "https://localhost:8080/",
          "height": 366
        }
      },
      "execution_count": null,
      "outputs": [
        {
          "output_type": "stream",
          "name": "stdout",
          "text": [
            "The accuracy of the model on the training data: 90.04%\n",
            "The accuracy of the model on the testing data: 86.59%\n",
            "\n",
            "\n"
          ]
        },
        {
          "output_type": "display_data",
          "data": {
            "text/plain": [
              "<Figure size 432x288 with 1 Axes>"
            ],
            "image/png": "[encoded data removed]"
          },
          "metadata": {
            "needs_background": "light"
          }
        }
      ]
    },
    {
      "cell_type": "code",
      "source": [
        "### plotting loss for 2 hidden layers (ReLU)\n",
        "\n",
        "mlp2 = epoch_mini_batch(x_train, y_train, x_test, y_test, 1, [128], \"ReLU\", 0.1, 1000, 20, track_loss = True)\n",
        "acc2 = evaluate_mlp_acc(mlp2, x_train, y_train, x_test, y_test, silent = False)"
      ],
      "metadata": {
        "id": "oSRHQHOKry5o",
        "outputId": "20a4f62b-6bde-4db3-b8e4-e25cd6dbc623",
        "colab": {
          "base_uri": "https://localhost:8080/",
          "height": 366
        }
      },
      "execution_count": null,
      "outputs": [
        {
          "output_type": "stream",
          "name": "stdout",
          "text": [
            "The accuracy of the model on the training data: 89.11%\n",
            "The accuracy of the model on the testing data: 86.16%\n",
            "\n",
            "\n"
          ]
        },
        {
          "output_type": "display_data",
          "data": {
            "text/plain": [
              "<Figure size 432x288 with 1 Axes>"
            ],
            "image/png": "[encoded data removed]"
          },
          "metadata": {
            "needs_background": "light"
          }
        }
      ]
    },
    {
      "cell_type": "markdown",
      "source": [
        "### Checking gradient"
      ],
      "metadata": {
        "id": "1phNP1eDtzSC"
      }
    },
    {
      "cell_type": "code",
      "source": [
        "mlp0_test = epoch_mini_batch(x_train, y_train, x_test, y_test, 0, [], \"ReLU\", 0.1, 1000, 3, track_acc = True)\n"
      ],
      "metadata": {
        "id": "Iu8vSKGBuBZv",
        "outputId": "c2c17db6-76b4-448d-a7ac-fe6c8e6039b8",
        "colab": {
          "base_uri": "https://localhost:8080/",
          "height": 295
        }
      },
      "execution_count": 35,
      "outputs": [
        {
          "output_type": "display_data",
          "data": {
            "text/plain": [
              "<Figure size 576x288 with 1 Axes>"
            ],
            "image/png": "[encoded data removed]"
          },
          "metadata": {
            "needs_background": "light"
          }
        }
      ]
    },
    {
      "cell_type": "code",
      "source": [
        "labels_count = len(set(y_train))\n",
        "labels = np.eye(labels_count)[np.array(y_train)]\n",
        "\n",
        "mlp0_test.check_grad(x_train[:1000], labels[:1000])"
      ],
      "metadata": {
        "id": "X6j8FJi7vuuP",
        "outputId": "dc31268f-7118-4d81-cae7-d81d9c44f89a",
        "colab": {
          "base_uri": "https://localhost:8080/",
          "height": 1000
        }
      },
      "execution_count": 37,
      "outputs": [
        {
          "output_type": "stream",
          "name": "stdout",
          "text": [
            "[[ 5.39148711e-02  3.01106657e-06  3.68901253e-05 ...  5.18734207e-03\n",
            "   4.73989734e-02 -4.67087703e-01]\n",
            " [-3.46792943e-02  2.85825653e-04  1.83267754e-03 ...  3.19016033e-05\n",
            "   1.06950766e-03  4.78252756e-03]\n",
            " [-9.62063969e-01  4.01949161e-01  3.77346244e-03 ...  4.72588073e-02\n",
            "   1.68725872e-03  2.47558051e-03]\n",
            " ...\n",
            " [ 3.67238126e-02  1.14203184e-01  6.31475816e-03 ...  6.63578581e-02\n",
            "   7.77027363e-03  2.36041948e-03]\n",
            " [ 7.18301933e-03  2.21112618e-06  1.77471708e-05 ...  7.28190641e-03\n",
            "   1.15112144e-02 -4.27693151e-02]\n",
            " [ 9.05143896e-05  3.00085739e-04  1.76679712e-02 ...  3.39929925e-03\n",
            "  -1.13472318e-01  2.41674152e-02]]\n",
            "[[ 2.83691462e-02  2.33090732e-02  5.23132159e-02 ... -4.12738730e-02\n",
            "  -5.89109165e-03 -1.68428138e-02]\n",
            " [-1.47381202e-03  5.54073781e-03 -6.43724575e-03 ...  7.34291808e-05\n",
            "   4.48096362e-03  9.22474156e-04]\n",
            " [ 1.63854471e-02  9.34229203e-02 -1.28527309e-01 ... -1.05578652e-02\n",
            "   2.49809509e-01 -5.65793885e-03]\n",
            " ...\n",
            " [ 1.13792099e-01  9.42664921e-03 -8.07745283e-03 ... -6.59569736e-02\n",
            "  -1.42944165e-01  1.66974491e-02]\n",
            " [-1.00410726e-03  1.39467276e-03  3.14373420e-03 ... -3.59581068e-03\n",
            "   1.79235743e-03  1.43036796e-03]\n",
            " [-9.92057680e-03 -2.15251487e-03  3.68774278e-03 ...  7.22576454e-03\n",
            "   3.76743668e-03 -1.79556191e-02]]\n",
            "numeric grad: nan\n",
            "derived grad: nan\n",
            "nan\n",
            "numeric grad: nan\n",
            "derived grad: nan\n",
            "nan\n",
            "numeric grad: nan\n",
            "derived grad: nan\n",
            "nan\n",
            "numeric grad: nan\n",
            "derived grad: nan\n",
            "nan\n",
            "numeric grad: nan\n",
            "derived grad: nan\n",
            "nan\n",
            "numeric grad: nan\n",
            "derived grad: nan\n",
            "nan\n",
            "numeric grad: nan\n",
            "derived grad: nan\n",
            "nan\n",
            "numeric grad: nan\n",
            "derived grad: nan\n",
            "nan\n",
            "numeric grad: nan\n",
            "derived grad: nan\n",
            "nan\n",
            "numeric grad: nan\n",
            "derived grad: nan\n",
            "nan\n",
            "numeric grad: nan\n",
            "derived grad: nan\n",
            "nan\n",
            "numeric grad: nan\n",
            "derived grad: nan\n",
            "nan\n",
            "numeric grad: nan\n",
            "derived grad: nan\n",
            "nan\n",
            "numeric grad: nan\n",
            "derived grad: nan\n",
            "nan\n",
            "numeric grad: nan\n",
            "derived grad: nan\n",
            "nan\n",
            "numeric grad: nan\n",
            "derived grad: nan\n",
            "nan\n",
            "numeric grad: nan\n",
            "derived grad: nan\n",
            "nan\n",
            "numeric grad: nan\n",
            "derived grad: nan\n",
            "nan\n",
            "numeric grad: nan\n",
            "derived grad: nan\n",
            "nan\n",
            "numeric grad: nan\n",
            "derived grad: nan\n",
            "nan\n",
            "numeric grad: nan\n",
            "derived grad: nan\n",
            "nan\n",
            "numeric grad: nan\n",
            "derived grad: nan\n",
            "nan\n",
            "numeric grad: nan\n",
            "derived grad: nan\n",
            "nan\n",
            "numeric grad: nan\n",
            "derived grad: nan\n",
            "nan\n",
            "numeric grad: nan\n",
            "derived grad: nan\n",
            "nan\n",
            "numeric grad: nan\n",
            "derived grad: nan\n",
            "nan\n",
            "numeric grad: nan\n",
            "derived grad: nan\n",
            "nan\n",
            "numeric grad: nan\n",
            "derived grad: nan\n",
            "nan\n",
            "numeric grad: nan\n",
            "derived grad: nan\n",
            "nan\n",
            "numeric grad: nan\n",
            "derived grad: nan\n",
            "nan\n",
            "numeric grad: nan\n",
            "derived grad: nan\n",
            "nan\n",
            "numeric grad: nan\n",
            "derived grad: nan\n",
            "nan\n",
            "numeric grad: nan\n",
            "derived grad: nan\n",
            "nan\n",
            "numeric grad: nan\n",
            "derived grad: nan\n",
            "nan\n",
            "numeric grad: nan\n",
            "derived grad: nan\n",
            "nan\n",
            "numeric grad: nan\n",
            "derived grad: nan\n",
            "nan\n",
            "numeric grad: nan\n",
            "derived grad: nan\n",
            "nan\n",
            "numeric grad: nan\n",
            "derived grad: nan\n",
            "nan\n",
            "numeric grad: nan\n",
            "derived grad: nan\n",
            "nan\n",
            "numeric grad: nan\n",
            "derived grad: nan\n",
            "nan\n",
            "numeric grad: nan\n",
            "derived grad: nan\n",
            "nan\n",
            "numeric grad: nan\n",
            "derived grad: nan\n",
            "nan\n",
            "numeric grad: nan\n",
            "derived grad: nan\n",
            "nan\n",
            "numeric grad: nan\n",
            "derived grad: nan\n",
            "nan\n",
            "numeric grad: nan\n",
            "derived grad: nan\n",
            "nan\n",
            "numeric grad: nan\n",
            "derived grad: nan\n",
            "nan\n",
            "numeric grad: nan\n",
            "derived grad: nan\n",
            "nan\n",
            "numeric grad: nan\n",
            "derived grad: nan\n",
            "nan\n",
            "numeric grad: nan\n",
            "derived grad: nan\n",
            "nan\n",
            "numeric grad: nan\n",
            "derived grad: nan\n",
            "nan\n",
            "numeric grad: nan\n",
            "derived grad: nan\n",
            "nan\n",
            "numeric grad: nan\n",
            "derived grad: nan\n",
            "nan\n",
            "numeric grad: nan\n",
            "derived grad: nan\n",
            "nan\n",
            "numeric grad: nan\n",
            "derived grad: nan\n",
            "nan\n",
            "numeric grad: nan\n",
            "derived grad: nan\n",
            "nan\n",
            "numeric grad: nan\n",
            "derived grad: nan\n",
            "nan\n",
            "numeric grad: nan\n",
            "derived grad: nan\n",
            "nan\n",
            "numeric grad: nan\n",
            "derived grad: nan\n",
            "nan\n",
            "numeric grad: nan\n",
            "derived grad: nan\n",
            "nan\n",
            "numeric grad: nan\n",
            "derived grad: nan\n",
            "nan\n",
            "numeric grad: nan\n",
            "derived grad: nan\n",
            "nan\n",
            "numeric grad: nan\n",
            "derived grad: nan\n",
            "nan\n",
            "numeric grad: nan\n",
            "derived grad: nan\n",
            "nan\n",
            "numeric grad: nan\n",
            "derived grad: nan\n",
            "nan\n",
            "numeric grad: nan\n",
            "derived grad: nan\n",
            "nan\n",
            "numeric grad: nan\n",
            "derived grad: nan\n",
            "nan\n",
            "numeric grad: nan\n",
            "derived grad: nan\n",
            "nan\n",
            "numeric grad: nan\n",
            "derived grad: nan\n",
            "nan\n",
            "numeric grad: nan\n",
            "derived grad: nan\n",
            "nan\n",
            "numeric grad: nan\n",
            "derived grad: nan\n",
            "nan\n",
            "numeric grad: nan\n",
            "derived grad: nan\n",
            "nan\n",
            "numeric grad: nan\n",
            "derived grad: nan\n",
            "nan\n",
            "numeric grad: nan\n",
            "derived grad: nan\n",
            "nan\n",
            "numeric grad: nan\n",
            "derived grad: nan\n",
            "nan\n",
            "numeric grad: nan\n",
            "derived grad: nan\n",
            "nan\n",
            "numeric grad: nan\n",
            "derived grad: nan\n",
            "nan\n",
            "numeric grad: nan\n",
            "derived grad: nan\n",
            "nan\n",
            "numeric grad: nan\n",
            "derived grad: nan\n",
            "nan\n",
            "numeric grad: nan\n",
            "derived grad: nan\n",
            "nan\n",
            "numeric grad: nan\n",
            "derived grad: nan\n",
            "nan\n",
            "numeric grad: nan\n",
            "derived grad: nan\n",
            "nan\n",
            "numeric grad: nan\n",
            "derived grad: nan\n",
            "nan\n",
            "numeric grad: nan\n",
            "derived grad: nan\n",
            "nan\n",
            "numeric grad: nan\n",
            "derived grad: nan\n",
            "nan\n",
            "numeric grad: nan\n",
            "derived grad: nan\n",
            "nan\n",
            "numeric grad: nan\n",
            "derived grad: nan\n",
            "nan\n",
            "numeric grad: nan\n",
            "derived grad: nan\n",
            "nan\n",
            "numeric grad: nan\n",
            "derived grad: nan\n",
            "nan\n",
            "numeric grad: nan\n",
            "derived grad: nan\n",
            "nan\n",
            "numeric grad: nan\n",
            "derived grad: nan\n",
            "nan\n",
            "numeric grad: nan\n",
            "derived grad: nan\n",
            "nan\n",
            "numeric grad: nan\n",
            "derived grad: nan\n",
            "nan\n",
            "numeric grad: nan\n",
            "derived grad: nan\n",
            "nan\n",
            "numeric grad: nan\n",
            "derived grad: nan\n",
            "nan\n",
            "numeric grad: nan\n",
            "derived grad: nan\n",
            "nan\n",
            "numeric grad: nan\n",
            "derived grad: nan\n",
            "nan\n",
            "numeric grad: nan\n",
            "derived grad: nan\n",
            "nan\n",
            "numeric grad: nan\n",
            "derived grad: nan\n",
            "nan\n",
            "numeric grad: nan\n",
            "derived grad: nan\n",
            "nan\n",
            "numeric grad: nan\n",
            "derived grad: nan\n",
            "nan\n",
            "numeric grad: nan\n",
            "derived grad: nan\n",
            "nan\n",
            "numeric grad: nan\n",
            "derived grad: nan\n",
            "nan\n",
            "numeric grad: nan\n",
            "derived grad: nan\n",
            "nan\n",
            "numeric grad: nan\n",
            "derived grad: nan\n",
            "nan\n",
            "numeric grad: nan\n",
            "derived grad: nan\n",
            "nan\n",
            "numeric grad: nan\n",
            "derived grad: nan\n",
            "nan\n",
            "numeric grad: nan\n",
            "derived grad: nan\n",
            "nan\n",
            "numeric grad: nan\n",
            "derived grad: nan\n",
            "nan\n",
            "numeric grad: nan\n",
            "derived grad: nan\n",
            "nan\n",
            "numeric grad: nan\n",
            "derived grad: nan\n",
            "nan\n",
            "numeric grad: nan\n",
            "derived grad: nan\n",
            "nan\n",
            "numeric grad: nan\n",
            "derived grad: nan\n",
            "nan\n",
            "numeric grad: nan\n",
            "derived grad: nan\n",
            "nan\n",
            "numeric grad: nan\n",
            "derived grad: nan\n",
            "nan\n",
            "numeric grad: nan\n",
            "derived grad: nan\n",
            "nan\n",
            "numeric grad: nan\n",
            "derived grad: nan\n",
            "nan\n"
          ]
        },
        {
          "output_type": "error",
          "ename": "KeyboardInterrupt",
          "evalue": "ignored",
          "traceback": [
            "\u001b[0;31m---------------------------------------------------------------------------\u001b[0m",
            "\u001b[0;31mKeyboardInterrupt\u001b[0m                         Traceback (most recent call last)",
            "\u001b[0;32m<ipython-input-37-ec0cde4d8142>\u001b[0m in \u001b[0;36m<module>\u001b[0;34m\u001b[0m\n\u001b[1;32m      2\u001b[0m \u001b[0mlabels\u001b[0m \u001b[0;34m=\u001b[0m \u001b[0mnp\u001b[0m\u001b[0;34m.\u001b[0m\u001b[0meye\u001b[0m\u001b[0;34m(\u001b[0m\u001b[0mlabels_count\u001b[0m\u001b[0;34m)\u001b[0m\u001b[0;34m[\u001b[0m\u001b[0mnp\u001b[0m\u001b[0;34m.\u001b[0m\u001b[0marray\u001b[0m\u001b[0;34m(\u001b[0m\u001b[0my_train\u001b[0m\u001b[0;34m)\u001b[0m\u001b[0;34m]\u001b[0m\u001b[0;34m\u001b[0m\u001b[0;34m\u001b[0m\u001b[0m\n\u001b[1;32m      3\u001b[0m \u001b[0;34m\u001b[0m\u001b[0m\n\u001b[0;32m----> 4\u001b[0;31m \u001b[0mmlp0_test\u001b[0m\u001b[0;34m.\u001b[0m\u001b[0mcheck_grad\u001b[0m\u001b[0;34m(\u001b[0m\u001b[0mx_train\u001b[0m\u001b[0;34m[\u001b[0m\u001b[0;34m:\u001b[0m\u001b[0;36m1000\u001b[0m\u001b[0;34m]\u001b[0m\u001b[0;34m,\u001b[0m \u001b[0mlabels\u001b[0m\u001b[0;34m[\u001b[0m\u001b[0;34m:\u001b[0m\u001b[0;36m1000\u001b[0m\u001b[0;34m]\u001b[0m\u001b[0;34m)\u001b[0m\u001b[0;34m\u001b[0m\u001b[0;34m\u001b[0m\u001b[0m\n\u001b[0m",
            "\u001b[0;32m<ipython-input-27-436a791fffb8>\u001b[0m in \u001b[0;36mcheck_grad\u001b[0;34m(self, x, y)\u001b[0m\n\u001b[1;32m    212\u001b[0m         \u001b[0;32mfor\u001b[0m \u001b[0mi\u001b[0m \u001b[0;32min\u001b[0m \u001b[0mrange\u001b[0m\u001b[0;34m(\u001b[0m\u001b[0mD\u001b[0m\u001b[0;34m)\u001b[0m\u001b[0;34m:\u001b[0m\u001b[0;34m\u001b[0m\u001b[0;34m\u001b[0m\u001b[0m\n\u001b[1;32m    213\u001b[0m             \u001b[0;32mfor\u001b[0m \u001b[0mj\u001b[0m \u001b[0;32min\u001b[0m \u001b[0mrange\u001b[0m\u001b[0;34m(\u001b[0m\u001b[0mC\u001b[0m\u001b[0;34m)\u001b[0m\u001b[0;34m:\u001b[0m\u001b[0;34m\u001b[0m\u001b[0;34m\u001b[0m\u001b[0m\n\u001b[0;32m--> 214\u001b[0;31m                 \u001b[0mepsilon\u001b[0m \u001b[0;34m=\u001b[0m \u001b[0mnp\u001b[0m\u001b[0;34m.\u001b[0m\u001b[0mzeros\u001b[0m\u001b[0;34m(\u001b[0m\u001b[0;34m(\u001b[0m\u001b[0mC\u001b[0m\u001b[0;34m,\u001b[0m \u001b[0mD\u001b[0m\u001b[0;34m)\u001b[0m\u001b[0;34m)\u001b[0m\u001b[0;34m\u001b[0m\u001b[0;34m\u001b[0m\u001b[0m\n\u001b[0m\u001b[1;32m    215\u001b[0m                 \u001b[0mepsilon\u001b[0m\u001b[0;34m[\u001b[0m\u001b[0mj\u001b[0m\u001b[0;34m,\u001b[0m \u001b[0mi\u001b[0m\u001b[0;34m]\u001b[0m \u001b[0;34m=\u001b[0m \u001b[0mnp\u001b[0m\u001b[0;34m.\u001b[0m\u001b[0mrandom\u001b[0m\u001b[0;34m.\u001b[0m\u001b[0mrand\u001b[0m\u001b[0;34m(\u001b[0m\u001b[0;34m)\u001b[0m \u001b[0;34m*\u001b[0m \u001b[0;36m1e-4\u001b[0m\u001b[0;34m\u001b[0m\u001b[0;34m\u001b[0m\u001b[0m\n\u001b[1;32m    216\u001b[0m \u001b[0;34m\u001b[0m\u001b[0m\n",
            "\u001b[0;31mKeyboardInterrupt\u001b[0m: "
          ]
        }
      ]
    },
    {
      "cell_type": "code",
      "source": [],
      "metadata": {
        "id": "ChIcf4HG-J_V"
      },
      "execution_count": null,
      "outputs": []
    },
    {
      "cell_type": "markdown",
      "source": [
        "### Testing activation functions other than ReLU"
      ],
      "metadata": {
        "id": "Xw646-_-vt2r"
      }
    },
    {
      "cell_type": "code",
      "source": [
        "### training and testing 2 hidden layers with Tanh activation functions\n",
        "\n",
        "mlp2t = epoch_mini_batch(x_train, y_train, x_test, y_test, 2, [128, 128], \"Tanh\", 0.1, 1000, 20, track_loss = True)\n",
        "acc2t = evaluate_mlp_acc(mlp2t, x_train, y_train, x_test, y_test, silent = False)"
      ],
      "metadata": {
        "id": "dx45R6rav2CT",
        "colab": {
          "base_uri": "https://localhost:8080/",
          "height": 366
        },
        "outputId": "500dca67-fac2-4ddd-af94-ac6beada90ec"
      },
      "execution_count": null,
      "outputs": [
        {
          "output_type": "stream",
          "name": "stdout",
          "text": [
            "The accuracy of the model on the training data: 88.71%\n",
            "The accuracy of the model on the testing data: 86.0%\n",
            "\n",
            "\n"
          ]
        },
        {
          "output_type": "display_data",
          "data": {
            "text/plain": [
              "<Figure size 432x288 with 1 Axes>"
            ],
            "image/png": "[encoded data removed]"
          },
          "metadata": {
            "needs_background": "light"
          }
        }
      ]
    },
    {
      "cell_type": "code",
      "source": [
        "### training and testing 2 hidden layers with leaky ReLU activation functions\n",
        "\n",
        "mlp2l = epoch_mini_batch(x_train, y_train, x_test, y_test, 2, [128, 128], \"Leaky ReLU\", 0.1, 1000, 20, track_loss = True)\n",
        "acc2l = evaluate_mlp_acc(mlp2l, x_train, y_train, x_test, y_test, silent = False)"
      ],
      "metadata": {
        "id": "KNVMb42qwVBu",
        "colab": {
          "base_uri": "https://localhost:8080/",
          "height": 366
        },
        "outputId": "4c73d9bb-29bf-45c8-86fd-ef8ed7f69af9"
      },
      "execution_count": null,
      "outputs": [
        {
          "output_type": "stream",
          "name": "stdout",
          "text": [
            "The accuracy of the model on the training data: 89.56%\n",
            "The accuracy of the model on the testing data: 85.99%\n",
            "\n",
            "\n"
          ]
        },
        {
          "output_type": "display_data",
          "data": {
            "text/plain": [
              "<Figure size 432x288 with 1 Axes>"
            ],
            "image/png": "[encoded data removed]"
          },
          "metadata": {
            "needs_background": "light"
          }
        }
      ]
    },
    {
      "cell_type": "markdown",
      "source": [
        "### Adding L2 regularization"
      ],
      "metadata": {
        "id": "lLEAhgccx8KV"
      }
    },
    {
      "cell_type": "code",
      "source": [
        "### training and testing 2 hidden layers with ReLU activation functions and L2 regularization\n",
        "\n",
        "mlp2reg = epoch_mini_batch(x_train, y_train, x_test, y_test, 2, [128, 128], \"ReLU\", 0.1, 1000, 20, track_loss = True, lambda_reg = 0.001)\n",
        "acc2reg = evaluate_mlp_acc(mlp2reg, x_train, y_train, x_test, y_test, silent = False)"
      ],
      "metadata": {
        "id": "iZ0Qy_T_yANL",
        "colab": {
          "base_uri": "https://localhost:8080/",
          "height": 366
        },
        "outputId": "bdd01f8e-7d9c-4374-d107-8ab1222edeb8"
      },
      "execution_count": null,
      "outputs": [
        {
          "output_type": "stream",
          "name": "stdout",
          "text": [
            "The accuracy of the model on the training data: 89.57%\n",
            "The accuracy of the model on the testing data: 86.29%\n",
            "\n",
            "\n"
          ]
        },
        {
          "output_type": "display_data",
          "data": {
            "text/plain": [
              "<Figure size 432x288 with 1 Axes>"
            ],
            "image/png": "[encoded data removed]"
          },
          "metadata": {
            "needs_background": "light"
          }
        }
      ]
    },
    {
      "cell_type": "markdown",
      "source": [
        "### Using a model trained on unnormalized images"
      ],
      "metadata": {
        "id": "AzPgdvMUdN95"
      }
    },
    {
      "cell_type": "code",
      "source": [
        "### training and testing 2 hidden layers with ReLu activation functions\n",
        "\n",
        "### faith - will fix this\n",
        "\n",
        "mlp2ln = epoch_mini_batch(x_train_unprocessed, y_train, x_test_unprocessed, y_test, 2, [128, 128], \"ReLU\", 0.1, 1000, 5, track_loss = True)\n",
        "acc2ln = evaluate_mlp_acc(mlp2ln, x_train_unprocessed, y_train, x_test_unprocessed, y_test, silent = False)"
      ],
      "metadata": {
        "id": "j9hqFKVAdQ8s"
      },
      "execution_count": null,
      "outputs": []
    },
    {
      "cell_type": "markdown",
      "source": [
        "## Convnet"
      ],
      "metadata": {
        "id": "Tia8YS6kGkEW"
      }
    },
    {
      "cell_type": "markdown",
      "source": [
        "### Temp (Gary make functions for the code below pls)"
      ],
      "metadata": {
        "id": "4Ij67vAqJJsE"
      }
    },
    {
      "cell_type": "code",
      "source": [
        "### making the model\n",
        "\n",
        "num_filters = 8\n",
        "\n",
        "\n",
        "model = models.Sequential()\n",
        "model.add(layers.Conv2D(num_filters, (3, 3), activation='relu', input_shape=(28, 28, 1)))\n",
        "model.add(layers.Conv2D(num_filters, (3, 3), activation='relu'))\n",
        "model.add(layers.Flatten())\n",
        "model.add(layers.Dense(128, activation='relu'))\n",
        "model.add(layers.Dense(128, activation='relu'))\n",
        "model.add(layers.Dense(10, activation='softmax'))\n",
        "\n",
        "\n",
        "model.summary()"
      ],
      "metadata": {
        "id": "h74l66RdHoAj"
      },
      "execution_count": null,
      "outputs": []
    },
    {
      "cell_type": "code",
      "source": [
        "### making the optimizer and adding it to the model\n",
        "\n",
        "optimizer = optimizers.SGD(lr=0.1, decay=0, momentum=0, nesterov=False)\n",
        "\n",
        "\n",
        "model.compile(optimizer=optimizer,\n",
        "              loss= 'categorical_crossentropy',\n",
        "              metrics=['accuracy'\n",
        "                      ])"
      ],
      "metadata": {
        "id": "8gu2Ux1CJPo-"
      },
      "execution_count": null,
      "outputs": []
    },
    {
      "cell_type": "code",
      "source": [
        "### fitting the model\n",
        "\n",
        "epochs = 3\n",
        "batch_size = 60\n",
        "\n",
        "history = model.fit(\n",
        "  x = x_train_convnet,\n",
        "  y = y_train_convnet, \n",
        "  epochs=epochs,                # number of training epochs\n",
        "  batch_size=batch_size\n",
        ")"
      ],
      "metadata": {
        "id": "ZbIe8f8vJWss"
      },
      "execution_count": null,
      "outputs": []
    },
    {
      "cell_type": "code",
      "source": [
        "### plotting accuracy\n",
        "\n",
        "plt.plot(history.history['accuracy'])\n",
        "plt.title('model accuracy')\n",
        "plt.ylabel('accuracy')\n",
        "plt.xlabel('epoch')\n",
        "plt.legend(['train'], loc='upper left')\n",
        "plt.show()"
      ],
      "metadata": {
        "id": "rgOYfa_fJh0J"
      },
      "execution_count": null,
      "outputs": []
    },
    {
      "cell_type": "code",
      "source": [
        "### plotting loss\n",
        "\n",
        "plt.plot(history.history['loss'])\n",
        "plt.title('model loss')\n",
        "plt.ylabel('loss')\n",
        "plt.xlabel('epoch')\n",
        "plt.legend(['train'], loc='upper left')\n",
        "plt.show()"
      ],
      "metadata": {
        "id": "JP9C-XmzJj1J"
      },
      "execution_count": null,
      "outputs": []
    }
  ],
  "metadata": {
    "colab": {
      "provenance": [],
      "include_colab_link": true
    },
    "kernelspec": {
      "display_name": "Python 3",
      "name": "python3"
    },
    "language_info": {
      "name": "python"
    }
  },
  "nbformat": 4,
  "nbformat_minor": 0
}