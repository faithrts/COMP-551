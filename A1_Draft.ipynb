{
  "cells": [
    {
      "cell_type": "markdown",
      "metadata": {
        "id": "view-in-github",
        "colab_type": "text"
      },
      "source": [
        "<a href=\"https://colab.research.google.com/github/faithrts/COMP-551/blob/main/A1_Draft.ipynb\" target=\"_parent\"><img src=\"https://colab.research.google.com/assets/colab-badge.svg\" alt=\"Open In Colab\"/></a>"
      ]
    },
    {
      "cell_type": "markdown",
      "source": [
        "# Set-up"
      ],
      "metadata": {
        "id": "8A1SE2icjh69"
      }
    },
    {
      "cell_type": "code",
      "execution_count": 1,
      "metadata": {
        "id": "VCTCTWgB-NKG"
      },
      "outputs": [],
      "source": [
        "### importing libraries and setting the random seed\n",
        "\n",
        "import numpy as np\n",
        "import pandas as pd\n",
        "\n",
        "%matplotlib inline\n",
        "import matplotlib.pyplot as plt\n",
        "\n",
        "import math\n",
        "import bisect\n",
        "from scipy.stats import zscore\n",
        "from scipy.io import arff\n",
        "from importlib import reload\n",
        "\n",
        "from sklearn import preprocessing\n",
        "from sklearn.datasets import make_regression\n",
        "from sklearn.ensemble import RandomForestRegressor\n",
        "\n",
        "np.random.seed(1234)"
      ]
    },
    {
      "cell_type": "markdown",
      "source": [
        "# Data Handling"
      ],
      "metadata": {
        "id": "hKHZWj9vjn1j"
      }
    },
    {
      "cell_type": "markdown",
      "source": [
        "## Importing"
      ],
      "metadata": {
        "id": "FsaKjKTqjylr"
      }
    },
    {
      "cell_type": "code",
      "execution_count": 2,
      "metadata": {
        "colab": {
          "base_uri": "https://localhost:8080/"
        },
        "id": "JrnSxLmFTCp9",
        "outputId": "7d0c7652-a7d7-4224-c534-f0e423b8b4ab"
      },
      "outputs": [
        {
          "output_type": "stream",
          "name": "stdout",
          "text": [
            "--2022-10-08 18:12:52--  http://archive.ics.uci.edu/ml/machine-learning-databases/hepatitis/hepatitis.data\n",
            "Resolving archive.ics.uci.edu (archive.ics.uci.edu)... 128.195.10.252\n",
            "Connecting to archive.ics.uci.edu (archive.ics.uci.edu)|128.195.10.252|:80... connected.\n",
            "HTTP request sent, awaiting response... 200 OK\n",
            "Length: 7545 (7.4K) [application/x-httpd-php]\n",
            "Saving to: ‘hepatitis.data’\n",
            "\n",
            "\rhepatitis.data        0%[                    ]       0  --.-KB/s               \rhepatitis.data      100%[===================>]   7.37K  --.-KB/s    in 0s      \n",
            "\n",
            "2022-10-08 18:12:52 (487 MB/s) - ‘hepatitis.data’ saved [7545/7545]\n",
            "\n",
            "--2022-10-08 18:12:52--  https://archive.ics.uci.edu/ml/machine-learning-databases/00329/messidor_features.arff\n",
            "Resolving archive.ics.uci.edu (archive.ics.uci.edu)... 128.195.10.252\n",
            "Connecting to archive.ics.uci.edu (archive.ics.uci.edu)|128.195.10.252|:443... connected.\n",
            "HTTP request sent, awaiting response... 200 OK\n",
            "Length: 117224 (114K) [application/x-httpd-php]\n",
            "Saving to: ‘messidor_features.arff’\n",
            "\n",
            "messidor_features.a 100%[===================>] 114.48K  --.-KB/s    in 0.08s   \n",
            "\n",
            "2022-10-08 18:12:52 (1.39 MB/s) - ‘messidor_features.arff’ saved [117224/117224]\n",
            "\n"
          ]
        }
      ],
      "source": [
        "### importing the files from the web to google colab\n",
        "\n",
        "# hepatitis.data\n",
        "!wget http://archive.ics.uci.edu/ml/machine-learning-databases/hepatitis/hepatitis.data\n",
        "\n",
        "# messidor_features.arff\n",
        "!wget https://archive.ics.uci.edu/ml/machine-learning-databases/00329/messidor_features.arff"
      ]
    },
    {
      "cell_type": "markdown",
      "source": [
        "## Preproccessing"
      ],
      "metadata": {
        "id": "MtAHDLEXj2T3"
      }
    },
    {
      "cell_type": "code",
      "execution_count": 3,
      "metadata": {
        "id": "C4jhNoIpYEpq"
      },
      "outputs": [],
      "source": [
        "### computing zcore to remove outlier data\n",
        "\n",
        "def remove_outliers(df):\n",
        "  abs_z_scores = np.abs(df.apply(zscore))\n",
        "  filtered_df = (abs_z_scores < 3).all(axis = 1)\n",
        "  return df[filtered_df]"
      ]
    },
    {
      "cell_type": "code",
      "execution_count": 4,
      "metadata": {
        "id": "hBDZ8Cxhb_mk"
      },
      "outputs": [],
      "source": [
        "# helper function to aid in normalizing dataframes\n",
        "def normalize_array(arr):\n",
        "  normalized_array = []\n",
        "\n",
        "  for i in arr:\n",
        "    new_val = (i - min(arr)) / (max(arr) - min(arr))\n",
        "    normalized_array.append(new_val)\n",
        "\n",
        "  return normalized_array\n",
        "\n",
        "# function to normalize dataframes; assumes first column is the target labels\n",
        "def normalize_df(df):\n",
        "  normalized_df = df.copy()\n",
        "\n",
        "  for col in df.iloc[:, 1:]:\n",
        "    normalized_col = normalize_array(df[col])\n",
        "    normalized_df[col] = normalized_col\n",
        "\n",
        "  return normalized_df"
      ]
    },
    {
      "cell_type": "code",
      "execution_count": 5,
      "metadata": {
        "id": "Pkh23nL0rokB"
      },
      "outputs": [],
      "source": [
        "# assumes first column is the target labels\n",
        "def standardize_df(df):\n",
        "  standardized_df = df.copy()\n",
        "\n",
        "  for col in df.iloc[:, 1:]:\n",
        "\n",
        "    mean_val = df[col].mean()\n",
        "    standard_dev = df[col].std()\n",
        "\n",
        "    standardized_df[col] = (df[col] - mean_val) / standard_dev\n",
        "\n",
        "  return standardized_df"
      ]
    },
    {
      "cell_type": "markdown",
      "source": [
        "## Hepatitis "
      ],
      "metadata": {
        "id": "YLKtKHXfky5X"
      }
    },
    {
      "cell_type": "code",
      "execution_count": 54,
      "metadata": {
        "id": "vOfc6iLH_ZQ8"
      },
      "outputs": [],
      "source": [
        "### creating the dataframe for hepatitis.data\n",
        "\n",
        "# creates a dataframe from the .data file\n",
        "hep_df = pd.read_csv(\"hepatitis.data\", sep=\",\", header=None)\n",
        "\n",
        "# the column names\n",
        "hep_cols = ['CLASS', 'AGE', 'SEX', 'STEROID','ANTIVIRALS', 'FATIGUE',\n",
        "            'MALAISE', 'ANOREXIA', 'LIVER BIG', 'LIVER FIRM',\n",
        "            'SPLEEN PALPABLE', 'SPIDERS', 'ASCITES', 'VARICES',\n",
        "            'BILIRUBIN', 'ALK PHOSPHATE', 'SGOT', 'ALBUMIN',\n",
        "            'PROTIME', 'HISTOLOGY']\n",
        "\n",
        "# adds the column names to the dataframe\n",
        "hep_df.columns = hep_cols"
      ]
    },
    {
      "cell_type": "code",
      "execution_count": 55,
      "metadata": {
        "id": "urN0iK66trvg"
      },
      "outputs": [],
      "source": [
        "### creating lists to separate the names of columns containing\n",
        "### boolean values vs the ones containing continuous values\n",
        "\n",
        "bool_col = ['CLASS', 'SEX', 'STEROID', 'ANTIVIRALS', 'FATIGUE',\n",
        "            'MALAISE', 'ANOREXIA', 'LIVER BIG', 'LIVER FIRM',\n",
        "            'SPLEEN PALPABLE', 'SPIDERS', 'ASCITES', 'VARICES',\n",
        "            'HISTOLOGY']\n",
        "\n",
        "non_bool_col = ['AGE', 'BILIRUBIN', 'ALK PHOSPHATE', 'SGOT', 'ALBUMIN', 'PROTIME']"
      ]
    },
    {
      "cell_type": "code",
      "execution_count": 56,
      "metadata": {
        "id": "8zQbSQRFu_D5"
      },
      "outputs": [],
      "source": [
        "### cleaning hepatitis dataframe\n",
        "\n",
        "# saves a copy of the dataframe without rows that include '?' values\n",
        "intact_rows = hep_df[~hep_df.eq('?').any(axis=1)].astype('float')\n",
        "\n",
        "# iterates through columns with boolean values\n",
        "for col in bool_col:\n",
        "\n",
        "  # replaces instances of 1.0 and 2.0 with the boolean integers 0 and 1\n",
        "  intact_rows[col] = intact_rows[col].replace({1.0:0, 2.0:1})\n",
        "  # calculates the mode of the current column (ignores '?')\n",
        "  mode = int(intact_rows[col].mode()[0])\n",
        "\n",
        "  # in the original dataframe, replaces each '?' with the column's mode\n",
        "  hep_df[col] = hep_df[col].replace({'?': mode}).astype('int64')\n",
        "  # in the original dataframe, replaces 1.0 and 2.0 with boolean ints 0 and 1\n",
        "  hep_df[col] = hep_df[col].replace({1.0:0, 2.0:1})\n",
        "\n",
        "# iterates through columns with non-boolean values\n",
        "for col in non_bool_col:\n",
        "  # calculates the mean of the current column (ignores '?')\n",
        "  mean = intact_rows[col].mean()\n",
        "  # in the original dataframe, replaces each '?' with the column's mean\n",
        "  hep_df[col] = hep_df[col].replace({'?': mean}).astype('float')\n",
        "\n",
        "hep_df = remove_outliers(hep_df)"
      ]
    },
    {
      "cell_type": "code",
      "execution_count": 9,
      "metadata": {
        "colab": {
          "base_uri": "https://localhost:8080/",
          "height": 423
        },
        "id": "xJ3aymdzhd5Y",
        "outputId": "a4d89ca6-e923-47eb-aa71-c8901ace26c3"
      },
      "outputs": [
        {
          "output_type": "execute_result",
          "data": {
            "text/plain": [
              "     CLASS   AGE  SEX  STEROID  ANTIVIRALS  FATIGUE  MALAISE  ANOREXIA  \\\n",
              "0        1  30.0    1        0           1        1        1         1   \n",
              "1        1  50.0    0        0           1        0        1         1   \n",
              "2        1  78.0    0        1           1        0        1         1   \n",
              "3        1  31.0    0        0           0        1        1         1   \n",
              "4        1  34.0    0        1           1        1        1         1   \n",
              "..     ...   ...  ...      ...         ...      ...      ...       ...   \n",
              "149      1  36.0    0        1           1        1        1         1   \n",
              "151      1  44.0    0        1           1        0        1         1   \n",
              "152      1  61.0    0        0           1        0        0         1   \n",
              "153      1  53.0    1        0           1        0        1         1   \n",
              "154      0  43.0    0        1           1        0        1         1   \n",
              "\n",
              "     LIVER BIG  LIVER FIRM  SPLEEN PALPABLE  SPIDERS  ASCITES  VARICES  \\\n",
              "0            0           1                1        1        1        1   \n",
              "1            0           1                1        1        1        1   \n",
              "2            1           1                1        1        1        1   \n",
              "3            1           1                1        1        1        1   \n",
              "4            1           1                1        1        1        1   \n",
              "..         ...         ...              ...      ...      ...      ...   \n",
              "149          1           1                1        1        1        1   \n",
              "151          1           0                1        1        1        1   \n",
              "152          0           0                1        0        1        1   \n",
              "153          1           1                0        0        1        0   \n",
              "154          1           1                0        0        0        1   \n",
              "\n",
              "     BILIRUBIN  ALK PHOSPHATE   SGOT  ALBUMIN  PROTIME  HISTOLOGY  \n",
              "0          1.0        85.0000   18.0      4.0  62.5125          0  \n",
              "1          0.9       135.0000   42.0      3.5  62.5125          0  \n",
              "2          0.7        96.0000   32.0      4.0  62.5125          0  \n",
              "3          0.7        46.0000   52.0      4.0  80.0000          0  \n",
              "4          1.0       102.9125  200.0      4.0  62.5125          0  \n",
              "..         ...            ...    ...      ...      ...        ...  \n",
              "149        0.6       120.0000   30.0      4.0  62.5125          1  \n",
              "151        0.9       126.0000  142.0      4.3  62.5125          1  \n",
              "152        0.8        75.0000   20.0      4.1  62.5125          1  \n",
              "153        1.5        81.0000   19.0      4.1  48.0000          1  \n",
              "154        1.2       100.0000   19.0      3.1  42.0000          1  \n",
              "\n",
              "[145 rows x 20 columns]"
            ],
            "text/html": [
              "\n",
              "  <div id=\"df-20fc8537-1e74-4225-95d8-b044129e9968\">\n",
              "    <div class=\"colab-df-container\">\n",
              "      <div>\n",
              "<style scoped>\n",
              "    .dataframe tbody tr th:only-of-type {\n",
              "        vertical-align: middle;\n",
              "    }\n",
              "\n",
              "    .dataframe tbody tr th {\n",
              "        vertical-align: top;\n",
              "    }\n",
              "\n",
              "    .dataframe thead th {\n",
              "        text-align: right;\n",
              "    }\n",
              "</style>\n",
              "<table border=\"1\" class=\"dataframe\">\n",
              "  <thead>\n",
              "    <tr style=\"text-align: right;\">\n",
              "      <th></th>\n",
              "      <th>CLASS</th>\n",
              "      <th>AGE</th>\n",
              "      <th>SEX</th>\n",
              "      <th>STEROID</th>\n",
              "      <th>ANTIVIRALS</th>\n",
              "      <th>FATIGUE</th>\n",
              "      <th>MALAISE</th>\n",
              "      <th>ANOREXIA</th>\n",
              "      <th>LIVER BIG</th>\n",
              "      <th>LIVER FIRM</th>\n",
              "      <th>SPLEEN PALPABLE</th>\n",
              "      <th>SPIDERS</th>\n",
              "      <th>ASCITES</th>\n",
              "      <th>VARICES</th>\n",
              "      <th>BILIRUBIN</th>\n",
              "      <th>ALK PHOSPHATE</th>\n",
              "      <th>SGOT</th>\n",
              "      <th>ALBUMIN</th>\n",
              "      <th>PROTIME</th>\n",
              "      <th>HISTOLOGY</th>\n",
              "    </tr>\n",
              "  </thead>\n",
              "  <tbody>\n",
              "    <tr>\n",
              "      <th>0</th>\n",
              "      <td>1</td>\n",
              "      <td>30.0</td>\n",
              "      <td>1</td>\n",
              "      <td>0</td>\n",
              "      <td>1</td>\n",
              "      <td>1</td>\n",
              "      <td>1</td>\n",
              "      <td>1</td>\n",
              "      <td>0</td>\n",
              "      <td>1</td>\n",
              "      <td>1</td>\n",
              "      <td>1</td>\n",
              "      <td>1</td>\n",
              "      <td>1</td>\n",
              "      <td>1.0</td>\n",
              "      <td>85.0000</td>\n",
              "      <td>18.0</td>\n",
              "      <td>4.0</td>\n",
              "      <td>62.5125</td>\n",
              "      <td>0</td>\n",
              "    </tr>\n",
              "    <tr>\n",
              "      <th>1</th>\n",
              "      <td>1</td>\n",
              "      <td>50.0</td>\n",
              "      <td>0</td>\n",
              "      <td>0</td>\n",
              "      <td>1</td>\n",
              "      <td>0</td>\n",
              "      <td>1</td>\n",
              "      <td>1</td>\n",
              "      <td>0</td>\n",
              "      <td>1</td>\n",
              "      <td>1</td>\n",
              "      <td>1</td>\n",
              "      <td>1</td>\n",
              "      <td>1</td>\n",
              "      <td>0.9</td>\n",
              "      <td>135.0000</td>\n",
              "      <td>42.0</td>\n",
              "      <td>3.5</td>\n",
              "      <td>62.5125</td>\n",
              "      <td>0</td>\n",
              "    </tr>\n",
              "    <tr>\n",
              "      <th>2</th>\n",
              "      <td>1</td>\n",
              "      <td>78.0</td>\n",
              "      <td>0</td>\n",
              "      <td>1</td>\n",
              "      <td>1</td>\n",
              "      <td>0</td>\n",
              "      <td>1</td>\n",
              "      <td>1</td>\n",
              "      <td>1</td>\n",
              "      <td>1</td>\n",
              "      <td>1</td>\n",
              "      <td>1</td>\n",
              "      <td>1</td>\n",
              "      <td>1</td>\n",
              "      <td>0.7</td>\n",
              "      <td>96.0000</td>\n",
              "      <td>32.0</td>\n",
              "      <td>4.0</td>\n",
              "      <td>62.5125</td>\n",
              "      <td>0</td>\n",
              "    </tr>\n",
              "    <tr>\n",
              "      <th>3</th>\n",
              "      <td>1</td>\n",
              "      <td>31.0</td>\n",
              "      <td>0</td>\n",
              "      <td>0</td>\n",
              "      <td>0</td>\n",
              "      <td>1</td>\n",
              "      <td>1</td>\n",
              "      <td>1</td>\n",
              "      <td>1</td>\n",
              "      <td>1</td>\n",
              "      <td>1</td>\n",
              "      <td>1</td>\n",
              "      <td>1</td>\n",
              "      <td>1</td>\n",
              "      <td>0.7</td>\n",
              "      <td>46.0000</td>\n",
              "      <td>52.0</td>\n",
              "      <td>4.0</td>\n",
              "      <td>80.0000</td>\n",
              "      <td>0</td>\n",
              "    </tr>\n",
              "    <tr>\n",
              "      <th>4</th>\n",
              "      <td>1</td>\n",
              "      <td>34.0</td>\n",
              "      <td>0</td>\n",
              "      <td>1</td>\n",
              "      <td>1</td>\n",
              "      <td>1</td>\n",
              "      <td>1</td>\n",
              "      <td>1</td>\n",
              "      <td>1</td>\n",
              "      <td>1</td>\n",
              "      <td>1</td>\n",
              "      <td>1</td>\n",
              "      <td>1</td>\n",
              "      <td>1</td>\n",
              "      <td>1.0</td>\n",
              "      <td>102.9125</td>\n",
              "      <td>200.0</td>\n",
              "      <td>4.0</td>\n",
              "      <td>62.5125</td>\n",
              "      <td>0</td>\n",
              "    </tr>\n",
              "    <tr>\n",
              "      <th>...</th>\n",
              "      <td>...</td>\n",
              "      <td>...</td>\n",
              "      <td>...</td>\n",
              "      <td>...</td>\n",
              "      <td>...</td>\n",
              "      <td>...</td>\n",
              "      <td>...</td>\n",
              "      <td>...</td>\n",
              "      <td>...</td>\n",
              "      <td>...</td>\n",
              "      <td>...</td>\n",
              "      <td>...</td>\n",
              "      <td>...</td>\n",
              "      <td>...</td>\n",
              "      <td>...</td>\n",
              "      <td>...</td>\n",
              "      <td>...</td>\n",
              "      <td>...</td>\n",
              "      <td>...</td>\n",
              "      <td>...</td>\n",
              "    </tr>\n",
              "    <tr>\n",
              "      <th>149</th>\n",
              "      <td>1</td>\n",
              "      <td>36.0</td>\n",
              "      <td>0</td>\n",
              "      <td>1</td>\n",
              "      <td>1</td>\n",
              "      <td>1</td>\n",
              "      <td>1</td>\n",
              "      <td>1</td>\n",
              "      <td>1</td>\n",
              "      <td>1</td>\n",
              "      <td>1</td>\n",
              "      <td>1</td>\n",
              "      <td>1</td>\n",
              "      <td>1</td>\n",
              "      <td>0.6</td>\n",
              "      <td>120.0000</td>\n",
              "      <td>30.0</td>\n",
              "      <td>4.0</td>\n",
              "      <td>62.5125</td>\n",
              "      <td>1</td>\n",
              "    </tr>\n",
              "    <tr>\n",
              "      <th>151</th>\n",
              "      <td>1</td>\n",
              "      <td>44.0</td>\n",
              "      <td>0</td>\n",
              "      <td>1</td>\n",
              "      <td>1</td>\n",
              "      <td>0</td>\n",
              "      <td>1</td>\n",
              "      <td>1</td>\n",
              "      <td>1</td>\n",
              "      <td>0</td>\n",
              "      <td>1</td>\n",
              "      <td>1</td>\n",
              "      <td>1</td>\n",
              "      <td>1</td>\n",
              "      <td>0.9</td>\n",
              "      <td>126.0000</td>\n",
              "      <td>142.0</td>\n",
              "      <td>4.3</td>\n",
              "      <td>62.5125</td>\n",
              "      <td>1</td>\n",
              "    </tr>\n",
              "    <tr>\n",
              "      <th>152</th>\n",
              "      <td>1</td>\n",
              "      <td>61.0</td>\n",
              "      <td>0</td>\n",
              "      <td>0</td>\n",
              "      <td>1</td>\n",
              "      <td>0</td>\n",
              "      <td>0</td>\n",
              "      <td>1</td>\n",
              "      <td>0</td>\n",
              "      <td>0</td>\n",
              "      <td>1</td>\n",
              "      <td>0</td>\n",
              "      <td>1</td>\n",
              "      <td>1</td>\n",
              "      <td>0.8</td>\n",
              "      <td>75.0000</td>\n",
              "      <td>20.0</td>\n",
              "      <td>4.1</td>\n",
              "      <td>62.5125</td>\n",
              "      <td>1</td>\n",
              "    </tr>\n",
              "    <tr>\n",
              "      <th>153</th>\n",
              "      <td>1</td>\n",
              "      <td>53.0</td>\n",
              "      <td>1</td>\n",
              "      <td>0</td>\n",
              "      <td>1</td>\n",
              "      <td>0</td>\n",
              "      <td>1</td>\n",
              "      <td>1</td>\n",
              "      <td>1</td>\n",
              "      <td>1</td>\n",
              "      <td>0</td>\n",
              "      <td>0</td>\n",
              "      <td>1</td>\n",
              "      <td>0</td>\n",
              "      <td>1.5</td>\n",
              "      <td>81.0000</td>\n",
              "      <td>19.0</td>\n",
              "      <td>4.1</td>\n",
              "      <td>48.0000</td>\n",
              "      <td>1</td>\n",
              "    </tr>\n",
              "    <tr>\n",
              "      <th>154</th>\n",
              "      <td>0</td>\n",
              "      <td>43.0</td>\n",
              "      <td>0</td>\n",
              "      <td>1</td>\n",
              "      <td>1</td>\n",
              "      <td>0</td>\n",
              "      <td>1</td>\n",
              "      <td>1</td>\n",
              "      <td>1</td>\n",
              "      <td>1</td>\n",
              "      <td>0</td>\n",
              "      <td>0</td>\n",
              "      <td>0</td>\n",
              "      <td>1</td>\n",
              "      <td>1.2</td>\n",
              "      <td>100.0000</td>\n",
              "      <td>19.0</td>\n",
              "      <td>3.1</td>\n",
              "      <td>42.0000</td>\n",
              "      <td>1</td>\n",
              "    </tr>\n",
              "  </tbody>\n",
              "</table>\n",
              "<p>145 rows × 20 columns</p>\n",
              "</div>\n",
              "      <button class=\"colab-df-convert\" onclick=\"convertToInteractive('df-20fc8537-1e74-4225-95d8-b044129e9968')\"\n",
              "              title=\"Convert this dataframe to an interactive table.\"\n",
              "              style=\"display:none;\">\n",
              "        \n",
              "  <svg xmlns=\"http://www.w3.org/2000/svg\" height=\"24px\"viewBox=\"0 0 24 24\"\n",
              "       width=\"24px\">\n",
              "    <path d=\"M0 0h24v24H0V0z\" fill=\"none\"/>\n",
              "    <path d=\"M18.56 5.44l.94 2.06.94-2.06 2.06-.94-2.06-.94-.94-2.06-.94 2.06-2.06.94zm-11 1L8.5 8.5l.94-2.06 2.06-.94-2.06-.94L8.5 2.5l-.94 2.06-2.06.94zm10 10l.94 2.06.94-2.06 2.06-.94-2.06-.94-.94-2.06-.94 2.06-2.06.94z\"/><path d=\"M17.41 7.96l-1.37-1.37c-.4-.4-.92-.59-1.43-.59-.52 0-1.04.2-1.43.59L10.3 9.45l-7.72 7.72c-.78.78-.78 2.05 0 2.83L4 21.41c.39.39.9.59 1.41.59.51 0 1.02-.2 1.41-.59l7.78-7.78 2.81-2.81c.8-.78.8-2.07 0-2.86zM5.41 20L4 18.59l7.72-7.72 1.47 1.35L5.41 20z\"/>\n",
              "  </svg>\n",
              "      </button>\n",
              "      \n",
              "  <style>\n",
              "    .colab-df-container {\n",
              "      display:flex;\n",
              "      flex-wrap:wrap;\n",
              "      gap: 12px;\n",
              "    }\n",
              "\n",
              "    .colab-df-convert {\n",
              "      background-color: #E8F0FE;\n",
              "      border: none;\n",
              "      border-radius: 50%;\n",
              "      cursor: pointer;\n",
              "      display: none;\n",
              "      fill: #1967D2;\n",
              "      height: 32px;\n",
              "      padding: 0 0 0 0;\n",
              "      width: 32px;\n",
              "    }\n",
              "\n",
              "    .colab-df-convert:hover {\n",
              "      background-color: #E2EBFA;\n",
              "      box-shadow: 0px 1px 2px rgba(60, 64, 67, 0.3), 0px 1px 3px 1px rgba(60, 64, 67, 0.15);\n",
              "      fill: #174EA6;\n",
              "    }\n",
              "\n",
              "    [theme=dark] .colab-df-convert {\n",
              "      background-color: #3B4455;\n",
              "      fill: #D2E3FC;\n",
              "    }\n",
              "\n",
              "    [theme=dark] .colab-df-convert:hover {\n",
              "      background-color: #434B5C;\n",
              "      box-shadow: 0px 1px 3px 1px rgba(0, 0, 0, 0.15);\n",
              "      filter: drop-shadow(0px 1px 2px rgba(0, 0, 0, 0.3));\n",
              "      fill: #FFFFFF;\n",
              "    }\n",
              "  </style>\n",
              "\n",
              "      <script>\n",
              "        const buttonEl =\n",
              "          document.querySelector('#df-20fc8537-1e74-4225-95d8-b044129e9968 button.colab-df-convert');\n",
              "        buttonEl.style.display =\n",
              "          google.colab.kernel.accessAllowed ? 'block' : 'none';\n",
              "\n",
              "        async function convertToInteractive(key) {\n",
              "          const element = document.querySelector('#df-20fc8537-1e74-4225-95d8-b044129e9968');\n",
              "          const dataTable =\n",
              "            await google.colab.kernel.invokeFunction('convertToInteractive',\n",
              "                                                     [key], {});\n",
              "          if (!dataTable) return;\n",
              "\n",
              "          const docLinkHtml = 'Like what you see? Visit the ' +\n",
              "            '<a target=\"_blank\" href=https://colab.research.google.com/notebooks/data_table.ipynb>data table notebook</a>'\n",
              "            + ' to learn more about interactive tables.';\n",
              "          element.innerHTML = '';\n",
              "          dataTable['output_type'] = 'display_data';\n",
              "          await google.colab.output.renderOutput(dataTable, element);\n",
              "          const docLink = document.createElement('div');\n",
              "          docLink.innerHTML = docLinkHtml;\n",
              "          element.appendChild(docLink);\n",
              "        }\n",
              "      </script>\n",
              "    </div>\n",
              "  </div>\n",
              "  "
            ]
          },
          "metadata": {},
          "execution_count": 9
        }
      ],
      "source": [
        "hep_df"
      ]
    },
    {
      "cell_type": "markdown",
      "source": [
        "### Analysis of hepatitis data"
      ],
      "metadata": {
        "id": "NMKBKMJYkSAk"
      }
    },
    {
      "cell_type": "code",
      "execution_count": 10,
      "metadata": {
        "colab": {
          "base_uri": "https://localhost:8080/",
          "height": 0
        },
        "id": "r8Xhobsvxrq5",
        "outputId": "f6cb9ccd-9b58-4e38-b157-a92ea1fea1ed"
      },
      "outputs": [
        {
          "output_type": "execute_result",
          "data": {
            "text/plain": [
              "            CLASS\n",
              "ALBUMIN  0.464922\n",
              "ASCITES  0.409313\n",
              "SPIDERS  0.390570"
            ],
            "text/html": [
              "\n",
              "  <div id=\"df-e776d973-7977-49d3-b712-efe2b0a80cfd\">\n",
              "    <div class=\"colab-df-container\">\n",
              "      <div>\n",
              "<style scoped>\n",
              "    .dataframe tbody tr th:only-of-type {\n",
              "        vertical-align: middle;\n",
              "    }\n",
              "\n",
              "    .dataframe tbody tr th {\n",
              "        vertical-align: top;\n",
              "    }\n",
              "\n",
              "    .dataframe thead th {\n",
              "        text-align: right;\n",
              "    }\n",
              "</style>\n",
              "<table border=\"1\" class=\"dataframe\">\n",
              "  <thead>\n",
              "    <tr style=\"text-align: right;\">\n",
              "      <th></th>\n",
              "      <th>CLASS</th>\n",
              "    </tr>\n",
              "  </thead>\n",
              "  <tbody>\n",
              "    <tr>\n",
              "      <th>ALBUMIN</th>\n",
              "      <td>0.464922</td>\n",
              "    </tr>\n",
              "    <tr>\n",
              "      <th>ASCITES</th>\n",
              "      <td>0.409313</td>\n",
              "    </tr>\n",
              "    <tr>\n",
              "      <th>SPIDERS</th>\n",
              "      <td>0.390570</td>\n",
              "    </tr>\n",
              "  </tbody>\n",
              "</table>\n",
              "</div>\n",
              "      <button class=\"colab-df-convert\" onclick=\"convertToInteractive('df-e776d973-7977-49d3-b712-efe2b0a80cfd')\"\n",
              "              title=\"Convert this dataframe to an interactive table.\"\n",
              "              style=\"display:none;\">\n",
              "        \n",
              "  <svg xmlns=\"http://www.w3.org/2000/svg\" height=\"24px\"viewBox=\"0 0 24 24\"\n",
              "       width=\"24px\">\n",
              "    <path d=\"M0 0h24v24H0V0z\" fill=\"none\"/>\n",
              "    <path d=\"M18.56 5.44l.94 2.06.94-2.06 2.06-.94-2.06-.94-.94-2.06-.94 2.06-2.06.94zm-11 1L8.5 8.5l.94-2.06 2.06-.94-2.06-.94L8.5 2.5l-.94 2.06-2.06.94zm10 10l.94 2.06.94-2.06 2.06-.94-2.06-.94-.94-2.06-.94 2.06-2.06.94z\"/><path d=\"M17.41 7.96l-1.37-1.37c-.4-.4-.92-.59-1.43-.59-.52 0-1.04.2-1.43.59L10.3 9.45l-7.72 7.72c-.78.78-.78 2.05 0 2.83L4 21.41c.39.39.9.59 1.41.59.51 0 1.02-.2 1.41-.59l7.78-7.78 2.81-2.81c.8-.78.8-2.07 0-2.86zM5.41 20L4 18.59l7.72-7.72 1.47 1.35L5.41 20z\"/>\n",
              "  </svg>\n",
              "      </button>\n",
              "      \n",
              "  <style>\n",
              "    .colab-df-container {\n",
              "      display:flex;\n",
              "      flex-wrap:wrap;\n",
              "      gap: 12px;\n",
              "    }\n",
              "\n",
              "    .colab-df-convert {\n",
              "      background-color: #E8F0FE;\n",
              "      border: none;\n",
              "      border-radius: 50%;\n",
              "      cursor: pointer;\n",
              "      display: none;\n",
              "      fill: #1967D2;\n",
              "      height: 32px;\n",
              "      padding: 0 0 0 0;\n",
              "      width: 32px;\n",
              "    }\n",
              "\n",
              "    .colab-df-convert:hover {\n",
              "      background-color: #E2EBFA;\n",
              "      box-shadow: 0px 1px 2px rgba(60, 64, 67, 0.3), 0px 1px 3px 1px rgba(60, 64, 67, 0.15);\n",
              "      fill: #174EA6;\n",
              "    }\n",
              "\n",
              "    [theme=dark] .colab-df-convert {\n",
              "      background-color: #3B4455;\n",
              "      fill: #D2E3FC;\n",
              "    }\n",
              "\n",
              "    [theme=dark] .colab-df-convert:hover {\n",
              "      background-color: #434B5C;\n",
              "      box-shadow: 0px 1px 3px 1px rgba(0, 0, 0, 0.15);\n",
              "      filter: drop-shadow(0px 1px 2px rgba(0, 0, 0, 0.3));\n",
              "      fill: #FFFFFF;\n",
              "    }\n",
              "  </style>\n",
              "\n",
              "      <script>\n",
              "        const buttonEl =\n",
              "          document.querySelector('#df-e776d973-7977-49d3-b712-efe2b0a80cfd button.colab-df-convert');\n",
              "        buttonEl.style.display =\n",
              "          google.colab.kernel.accessAllowed ? 'block' : 'none';\n",
              "\n",
              "        async function convertToInteractive(key) {\n",
              "          const element = document.querySelector('#df-e776d973-7977-49d3-b712-efe2b0a80cfd');\n",
              "          const dataTable =\n",
              "            await google.colab.kernel.invokeFunction('convertToInteractive',\n",
              "                                                     [key], {});\n",
              "          if (!dataTable) return;\n",
              "\n",
              "          const docLinkHtml = 'Like what you see? Visit the ' +\n",
              "            '<a target=\"_blank\" href=https://colab.research.google.com/notebooks/data_table.ipynb>data table notebook</a>'\n",
              "            + ' to learn more about interactive tables.';\n",
              "          element.innerHTML = '';\n",
              "          dataTable['output_type'] = 'display_data';\n",
              "          await google.colab.output.renderOutput(dataTable, element);\n",
              "          const docLink = document.createElement('div');\n",
              "          docLink.innerHTML = docLinkHtml;\n",
              "          element.appendChild(docLink);\n",
              "        }\n",
              "      </script>\n",
              "    </div>\n",
              "  </div>\n",
              "  "
            ]
          },
          "metadata": {},
          "execution_count": 10
        }
      ],
      "source": [
        "### finding the most correlated features with CLASS column (target)\n",
        "\n",
        "# creates correlation dataframe\n",
        "correlation_df = hep_df.corr()\n",
        "\n",
        "# removes the first row of the correlation dataframe\n",
        "class_correlation = (correlation_df).iloc[1:, 0:1]\n",
        "\n",
        "# finds the 3 largest values (the 3 features most positively \n",
        "# correlated with CLASS)\n",
        "pos_correlation = class_correlation.nlargest(3, 'CLASS')\n",
        "\n",
        "# show the 3 features most positively correlated with target labels\n",
        "pos_correlation.head()"
      ]
    },
    {
      "cell_type": "code",
      "execution_count": 11,
      "metadata": {
        "colab": {
          "base_uri": "https://localhost:8080/",
          "height": 0
        },
        "id": "FoG4YU8_w6VB",
        "outputId": "895ad613-1b12-4576-b990-0ce7e7f4f944"
      },
      "outputs": [
        {
          "output_type": "execute_result",
          "data": {
            "text/plain": [
              "              CLASS\n",
              "BILIRUBIN -0.403335\n",
              "HISTOLOGY -0.354126\n",
              "AGE       -0.208460"
            ],
            "text/html": [
              "\n",
              "  <div id=\"df-dd0a9d36-853f-49b4-a74c-46c14dfe73d1\">\n",
              "    <div class=\"colab-df-container\">\n",
              "      <div>\n",
              "<style scoped>\n",
              "    .dataframe tbody tr th:only-of-type {\n",
              "        vertical-align: middle;\n",
              "    }\n",
              "\n",
              "    .dataframe tbody tr th {\n",
              "        vertical-align: top;\n",
              "    }\n",
              "\n",
              "    .dataframe thead th {\n",
              "        text-align: right;\n",
              "    }\n",
              "</style>\n",
              "<table border=\"1\" class=\"dataframe\">\n",
              "  <thead>\n",
              "    <tr style=\"text-align: right;\">\n",
              "      <th></th>\n",
              "      <th>CLASS</th>\n",
              "    </tr>\n",
              "  </thead>\n",
              "  <tbody>\n",
              "    <tr>\n",
              "      <th>BILIRUBIN</th>\n",
              "      <td>-0.403335</td>\n",
              "    </tr>\n",
              "    <tr>\n",
              "      <th>HISTOLOGY</th>\n",
              "      <td>-0.354126</td>\n",
              "    </tr>\n",
              "    <tr>\n",
              "      <th>AGE</th>\n",
              "      <td>-0.208460</td>\n",
              "    </tr>\n",
              "  </tbody>\n",
              "</table>\n",
              "</div>\n",
              "      <button class=\"colab-df-convert\" onclick=\"convertToInteractive('df-dd0a9d36-853f-49b4-a74c-46c14dfe73d1')\"\n",
              "              title=\"Convert this dataframe to an interactive table.\"\n",
              "              style=\"display:none;\">\n",
              "        \n",
              "  <svg xmlns=\"http://www.w3.org/2000/svg\" height=\"24px\"viewBox=\"0 0 24 24\"\n",
              "       width=\"24px\">\n",
              "    <path d=\"M0 0h24v24H0V0z\" fill=\"none\"/>\n",
              "    <path d=\"M18.56 5.44l.94 2.06.94-2.06 2.06-.94-2.06-.94-.94-2.06-.94 2.06-2.06.94zm-11 1L8.5 8.5l.94-2.06 2.06-.94-2.06-.94L8.5 2.5l-.94 2.06-2.06.94zm10 10l.94 2.06.94-2.06 2.06-.94-2.06-.94-.94-2.06-.94 2.06-2.06.94z\"/><path d=\"M17.41 7.96l-1.37-1.37c-.4-.4-.92-.59-1.43-.59-.52 0-1.04.2-1.43.59L10.3 9.45l-7.72 7.72c-.78.78-.78 2.05 0 2.83L4 21.41c.39.39.9.59 1.41.59.51 0 1.02-.2 1.41-.59l7.78-7.78 2.81-2.81c.8-.78.8-2.07 0-2.86zM5.41 20L4 18.59l7.72-7.72 1.47 1.35L5.41 20z\"/>\n",
              "  </svg>\n",
              "      </button>\n",
              "      \n",
              "  <style>\n",
              "    .colab-df-container {\n",
              "      display:flex;\n",
              "      flex-wrap:wrap;\n",
              "      gap: 12px;\n",
              "    }\n",
              "\n",
              "    .colab-df-convert {\n",
              "      background-color: #E8F0FE;\n",
              "      border: none;\n",
              "      border-radius: 50%;\n",
              "      cursor: pointer;\n",
              "      display: none;\n",
              "      fill: #1967D2;\n",
              "      height: 32px;\n",
              "      padding: 0 0 0 0;\n",
              "      width: 32px;\n",
              "    }\n",
              "\n",
              "    .colab-df-convert:hover {\n",
              "      background-color: #E2EBFA;\n",
              "      box-shadow: 0px 1px 2px rgba(60, 64, 67, 0.3), 0px 1px 3px 1px rgba(60, 64, 67, 0.15);\n",
              "      fill: #174EA6;\n",
              "    }\n",
              "\n",
              "    [theme=dark] .colab-df-convert {\n",
              "      background-color: #3B4455;\n",
              "      fill: #D2E3FC;\n",
              "    }\n",
              "\n",
              "    [theme=dark] .colab-df-convert:hover {\n",
              "      background-color: #434B5C;\n",
              "      box-shadow: 0px 1px 3px 1px rgba(0, 0, 0, 0.15);\n",
              "      filter: drop-shadow(0px 1px 2px rgba(0, 0, 0, 0.3));\n",
              "      fill: #FFFFFF;\n",
              "    }\n",
              "  </style>\n",
              "\n",
              "      <script>\n",
              "        const buttonEl =\n",
              "          document.querySelector('#df-dd0a9d36-853f-49b4-a74c-46c14dfe73d1 button.colab-df-convert');\n",
              "        buttonEl.style.display =\n",
              "          google.colab.kernel.accessAllowed ? 'block' : 'none';\n",
              "\n",
              "        async function convertToInteractive(key) {\n",
              "          const element = document.querySelector('#df-dd0a9d36-853f-49b4-a74c-46c14dfe73d1');\n",
              "          const dataTable =\n",
              "            await google.colab.kernel.invokeFunction('convertToInteractive',\n",
              "                                                     [key], {});\n",
              "          if (!dataTable) return;\n",
              "\n",
              "          const docLinkHtml = 'Like what you see? Visit the ' +\n",
              "            '<a target=\"_blank\" href=https://colab.research.google.com/notebooks/data_table.ipynb>data table notebook</a>'\n",
              "            + ' to learn more about interactive tables.';\n",
              "          element.innerHTML = '';\n",
              "          dataTable['output_type'] = 'display_data';\n",
              "          await google.colab.output.renderOutput(dataTable, element);\n",
              "          const docLink = document.createElement('div');\n",
              "          docLink.innerHTML = docLinkHtml;\n",
              "          element.appendChild(docLink);\n",
              "        }\n",
              "      </script>\n",
              "    </div>\n",
              "  </div>\n",
              "  "
            ]
          },
          "metadata": {},
          "execution_count": 11
        }
      ],
      "source": [
        "# finds the 3 smallest values (the 3 features most negatively\n",
        "# correlated with CLASS)\n",
        "neg_correlation = class_correlation.nsmallest(3, 'CLASS')\n",
        "\n",
        "# show the 3 features most negatively correlated with target labels\n",
        "neg_correlation.head()"
      ]
    },
    {
      "cell_type": "code",
      "execution_count": 12,
      "metadata": {
        "colab": {
          "base_uri": "https://localhost:8080/",
          "height": 0
        },
        "id": "FH48NeSWTeJG",
        "outputId": "829e4212-cfa0-4256-f627-0d064a70594d"
      },
      "outputs": [
        {
          "output_type": "display_data",
          "data": {
            "text/plain": [
              "<Figure size 216x216 with 1 Axes>"
            ],
            "image/png": "[encoded data removed]"
          },
          "metadata": {
            "needs_background": "light"
          }
        },
        {
          "output_type": "display_data",
          "data": {
            "text/plain": [
              "<Figure size 216x216 with 1 Axes>"
            ],
            "image/png": "[encoded data removed]"
          },
          "metadata": {
            "needs_background": "light"
          }
        },
        {
          "output_type": "display_data",
          "data": {
            "text/plain": [
              "<Figure size 216x216 with 1 Axes>"
            ],
            "image/png": "[encoded data removed]"
          },
          "metadata": {
            "needs_background": "light"
          }
        },
        {
          "output_type": "display_data",
          "data": {
            "text/plain": [
              "<Figure size 216x216 with 1 Axes>"
            ],
            "image/png": "[encoded data removed]"
          },
          "metadata": {
            "needs_background": "light"
          }
        },
        {
          "output_type": "display_data",
          "data": {
            "text/plain": [
              "<Figure size 216x216 with 1 Axes>"
            ],
            "image/png": "[encoded data removed]"
          },
          "metadata": {
            "needs_background": "light"
          }
        },
        {
          "output_type": "display_data",
          "data": {
            "text/plain": [
              "<Figure size 216x216 with 1 Axes>"
            ],
            "image/png": "[encoded data removed]"
          },
          "metadata": {
            "needs_background": "light"
          }
        }
      ],
      "source": [
        "### creating histograms for columns with non-boolean values\n",
        "\n",
        "for col in non_bool_col:\n",
        "  hep_df.hist(column = col, figsize = (3,3))"
      ]
    },
    {
      "cell_type": "markdown",
      "source": [
        "## Messidor Features"
      ],
      "metadata": {
        "id": "bPtGybWIk_HV"
      }
    },
    {
      "cell_type": "code",
      "execution_count": 13,
      "metadata": {
        "id": "1ur2Y9mBZu25"
      },
      "outputs": [],
      "source": [
        "### creating the dataframe for messidor_features.arff\n",
        "\n",
        "# loads in the arff data\n",
        "mess_data = arff.loadarff('messidor_features.arff')\n",
        "# creates a dataframe from the .arff file\n",
        "mess_df = pd.DataFrame(mess_data[0])\n"
      ]
    },
    {
      "cell_type": "code",
      "execution_count": 14,
      "metadata": {
        "id": "srPnmzdFoCDO"
      },
      "outputs": [],
      "source": [
        "### cleaning the data in mess_df\n",
        "\n",
        "# columns with boolean values\n",
        "bool_cols = ['0', '1', '18']\n",
        "\n",
        "# ensures the columns with boolean values save as integers\n",
        "for col in bool_cols:\n",
        "  mess_df[col] = mess_df[col].astype('int64')\n",
        "\n",
        "# resaving the boolean values in the Class column from objects to ints\n",
        "mess_df['Class'] = mess_df['Class'].map({b'0':0, b'1':1}).astype('int64')\n",
        "\n",
        "mess_df = remove_outliers(mess_df)"
      ]
    },
    {
      "cell_type": "code",
      "execution_count": 15,
      "metadata": {
        "colab": {
          "base_uri": "https://localhost:8080/",
          "height": 423
        },
        "id": "UCeBz6rJpfnp",
        "outputId": "9e443ad7-0574-475e-da28-35b390d05cd8"
      },
      "outputs": [
        {
          "output_type": "execute_result",
          "data": {
            "text/plain": [
              "      0  1     2     3     4     5     6     7          8          9  \\\n",
              "0     1  1  22.0  22.0  22.0  19.0  18.0  14.0  49.895756  17.775994   \n",
              "1     1  1  24.0  24.0  22.0  18.0  16.0  13.0  57.709936  23.799994   \n",
              "2     1  1  62.0  60.0  59.0  54.0  47.0  33.0  55.831441  27.993933   \n",
              "3     1  1  55.0  53.0  53.0  50.0  43.0  31.0  40.467228  18.445954   \n",
              "4     1  1  44.0  44.0  44.0  41.0  39.0  27.0  18.026254   8.570709   \n",
              "...  .. ..   ...   ...   ...   ...   ...   ...        ...        ...   \n",
              "1144  1  1  35.0  34.0  33.0  33.0  33.0  26.0   2.579859   0.001552   \n",
              "1146  1  1  34.0  34.0  34.0  33.0  31.0  24.0   6.071765   0.937472   \n",
              "1147  1  1  49.0  49.0  49.0  49.0  45.0  37.0  63.197145  27.377668   \n",
              "1149  1  1  39.0  36.0  29.0  23.0  13.0   7.0  40.525739  12.604947   \n",
              "1150  1  1   7.0   7.0   7.0   7.0   7.0   5.0  69.423565   7.031843   \n",
              "\n",
              "             10        11        12        13        14        15        16  \\\n",
              "0      5.270920  0.771761  0.018632  0.006864  0.003923  0.003923  0.486903   \n",
              "1      3.325423  0.234185  0.003903  0.003903  0.003903  0.003903  0.520908   \n",
              "2     12.687485  4.852282  1.393889  0.373252  0.041817  0.007744  0.530904   \n",
              "3      9.118901  3.079428  0.840261  0.272434  0.007653  0.001531  0.483284   \n",
              "4      0.410381  0.000000  0.000000  0.000000  0.000000  0.000000  0.475935   \n",
              "...         ...       ...       ...       ...       ...       ...       ...   \n",
              "1144   0.000000  0.000000  0.000000  0.000000  0.000000  0.000000  0.537551   \n",
              "1146   0.031145  0.003115  0.000000  0.000000  0.000000  0.000000  0.537470   \n",
              "1147   8.067688  0.979548  0.001552  0.000000  0.000000  0.000000  0.516733   \n",
              "1149   4.740919  1.077570  0.563518  0.326860  0.239568  0.174584  0.485972   \n",
              "1150   1.750548  0.046597  0.021180  0.008472  0.000000  0.000000  0.556192   \n",
              "\n",
              "            17  18  Class  \n",
              "0     0.100025   1      0  \n",
              "1     0.144414   0      0  \n",
              "2     0.128548   0      1  \n",
              "3     0.114790   0      0  \n",
              "4     0.123572   0      1  \n",
              "...        ...  ..    ...  \n",
              "1144  0.124181   0      0  \n",
              "1146  0.116795   0      0  \n",
              "1147  0.124190   0      0  \n",
              "1149  0.106690   1      1  \n",
              "1150  0.088957   0      0  \n",
              "\n",
              "[968 rows x 20 columns]"
            ],
            "text/html": [
              "\n",
              "  <div id=\"df-bf4360a1-834b-4a9b-a00f-7251b2e9f133\">\n",
              "    <div class=\"colab-df-container\">\n",
              "      <div>\n",
              "<style scoped>\n",
              "    .dataframe tbody tr th:only-of-type {\n",
              "        vertical-align: middle;\n",
              "    }\n",
              "\n",
              "    .dataframe tbody tr th {\n",
              "        vertical-align: top;\n",
              "    }\n",
              "\n",
              "    .dataframe thead th {\n",
              "        text-align: right;\n",
              "    }\n",
              "</style>\n",
              "<table border=\"1\" class=\"dataframe\">\n",
              "  <thead>\n",
              "    <tr style=\"text-align: right;\">\n",
              "      <th></th>\n",
              "      <th>0</th>\n",
              "      <th>1</th>\n",
              "      <th>2</th>\n",
              "      <th>3</th>\n",
              "      <th>4</th>\n",
              "      <th>5</th>\n",
              "      <th>6</th>\n",
              "      <th>7</th>\n",
              "      <th>8</th>\n",
              "      <th>9</th>\n",
              "      <th>10</th>\n",
              "      <th>11</th>\n",
              "      <th>12</th>\n",
              "      <th>13</th>\n",
              "      <th>14</th>\n",
              "      <th>15</th>\n",
              "      <th>16</th>\n",
              "      <th>17</th>\n",
              "      <th>18</th>\n",
              "      <th>Class</th>\n",
              "    </tr>\n",
              "  </thead>\n",
              "  <tbody>\n",
              "    <tr>\n",
              "      <th>0</th>\n",
              "      <td>1</td>\n",
              "      <td>1</td>\n",
              "      <td>22.0</td>\n",
              "      <td>22.0</td>\n",
              "      <td>22.0</td>\n",
              "      <td>19.0</td>\n",
              "      <td>18.0</td>\n",
              "      <td>14.0</td>\n",
              "      <td>49.895756</td>\n",
              "      <td>17.775994</td>\n",
              "      <td>5.270920</td>\n",
              "      <td>0.771761</td>\n",
              "      <td>0.018632</td>\n",
              "      <td>0.006864</td>\n",
              "      <td>0.003923</td>\n",
              "      <td>0.003923</td>\n",
              "      <td>0.486903</td>\n",
              "      <td>0.100025</td>\n",
              "      <td>1</td>\n",
              "      <td>0</td>\n",
              "    </tr>\n",
              "    <tr>\n",
              "      <th>1</th>\n",
              "      <td>1</td>\n",
              "      <td>1</td>\n",
              "      <td>24.0</td>\n",
              "      <td>24.0</td>\n",
              "      <td>22.0</td>\n",
              "      <td>18.0</td>\n",
              "      <td>16.0</td>\n",
              "      <td>13.0</td>\n",
              "      <td>57.709936</td>\n",
              "      <td>23.799994</td>\n",
              "      <td>3.325423</td>\n",
              "      <td>0.234185</td>\n",
              "      <td>0.003903</td>\n",
              "      <td>0.003903</td>\n",
              "      <td>0.003903</td>\n",
              "      <td>0.003903</td>\n",
              "      <td>0.520908</td>\n",
              "      <td>0.144414</td>\n",
              "      <td>0</td>\n",
              "      <td>0</td>\n",
              "    </tr>\n",
              "    <tr>\n",
              "      <th>2</th>\n",
              "      <td>1</td>\n",
              "      <td>1</td>\n",
              "      <td>62.0</td>\n",
              "      <td>60.0</td>\n",
              "      <td>59.0</td>\n",
              "      <td>54.0</td>\n",
              "      <td>47.0</td>\n",
              "      <td>33.0</td>\n",
              "      <td>55.831441</td>\n",
              "      <td>27.993933</td>\n",
              "      <td>12.687485</td>\n",
              "      <td>4.852282</td>\n",
              "      <td>1.393889</td>\n",
              "      <td>0.373252</td>\n",
              "      <td>0.041817</td>\n",
              "      <td>0.007744</td>\n",
              "      <td>0.530904</td>\n",
              "      <td>0.128548</td>\n",
              "      <td>0</td>\n",
              "      <td>1</td>\n",
              "    </tr>\n",
              "    <tr>\n",
              "      <th>3</th>\n",
              "      <td>1</td>\n",
              "      <td>1</td>\n",
              "      <td>55.0</td>\n",
              "      <td>53.0</td>\n",
              "      <td>53.0</td>\n",
              "      <td>50.0</td>\n",
              "      <td>43.0</td>\n",
              "      <td>31.0</td>\n",
              "      <td>40.467228</td>\n",
              "      <td>18.445954</td>\n",
              "      <td>9.118901</td>\n",
              "      <td>3.079428</td>\n",
              "      <td>0.840261</td>\n",
              "      <td>0.272434</td>\n",
              "      <td>0.007653</td>\n",
              "      <td>0.001531</td>\n",
              "      <td>0.483284</td>\n",
              "      <td>0.114790</td>\n",
              "      <td>0</td>\n",
              "      <td>0</td>\n",
              "    </tr>\n",
              "    <tr>\n",
              "      <th>4</th>\n",
              "      <td>1</td>\n",
              "      <td>1</td>\n",
              "      <td>44.0</td>\n",
              "      <td>44.0</td>\n",
              "      <td>44.0</td>\n",
              "      <td>41.0</td>\n",
              "      <td>39.0</td>\n",
              "      <td>27.0</td>\n",
              "      <td>18.026254</td>\n",
              "      <td>8.570709</td>\n",
              "      <td>0.410381</td>\n",
              "      <td>0.000000</td>\n",
              "      <td>0.000000</td>\n",
              "      <td>0.000000</td>\n",
              "      <td>0.000000</td>\n",
              "      <td>0.000000</td>\n",
              "      <td>0.475935</td>\n",
              "      <td>0.123572</td>\n",
              "      <td>0</td>\n",
              "      <td>1</td>\n",
              "    </tr>\n",
              "    <tr>\n",
              "      <th>...</th>\n",
              "      <td>...</td>\n",
              "      <td>...</td>\n",
              "      <td>...</td>\n",
              "      <td>...</td>\n",
              "      <td>...</td>\n",
              "      <td>...</td>\n",
              "      <td>...</td>\n",
              "      <td>...</td>\n",
              "      <td>...</td>\n",
              "      <td>...</td>\n",
              "      <td>...</td>\n",
              "      <td>...</td>\n",
              "      <td>...</td>\n",
              "      <td>...</td>\n",
              "      <td>...</td>\n",
              "      <td>...</td>\n",
              "      <td>...</td>\n",
              "      <td>...</td>\n",
              "      <td>...</td>\n",
              "      <td>...</td>\n",
              "    </tr>\n",
              "    <tr>\n",
              "      <th>1144</th>\n",
              "      <td>1</td>\n",
              "      <td>1</td>\n",
              "      <td>35.0</td>\n",
              "      <td>34.0</td>\n",
              "      <td>33.0</td>\n",
              "      <td>33.0</td>\n",
              "      <td>33.0</td>\n",
              "      <td>26.0</td>\n",
              "      <td>2.579859</td>\n",
              "      <td>0.001552</td>\n",
              "      <td>0.000000</td>\n",
              "      <td>0.000000</td>\n",
              "      <td>0.000000</td>\n",
              "      <td>0.000000</td>\n",
              "      <td>0.000000</td>\n",
              "      <td>0.000000</td>\n",
              "      <td>0.537551</td>\n",
              "      <td>0.124181</td>\n",
              "      <td>0</td>\n",
              "      <td>0</td>\n",
              "    </tr>\n",
              "    <tr>\n",
              "      <th>1146</th>\n",
              "      <td>1</td>\n",
              "      <td>1</td>\n",
              "      <td>34.0</td>\n",
              "      <td>34.0</td>\n",
              "      <td>34.0</td>\n",
              "      <td>33.0</td>\n",
              "      <td>31.0</td>\n",
              "      <td>24.0</td>\n",
              "      <td>6.071765</td>\n",
              "      <td>0.937472</td>\n",
              "      <td>0.031145</td>\n",
              "      <td>0.003115</td>\n",
              "      <td>0.000000</td>\n",
              "      <td>0.000000</td>\n",
              "      <td>0.000000</td>\n",
              "      <td>0.000000</td>\n",
              "      <td>0.537470</td>\n",
              "      <td>0.116795</td>\n",
              "      <td>0</td>\n",
              "      <td>0</td>\n",
              "    </tr>\n",
              "    <tr>\n",
              "      <th>1147</th>\n",
              "      <td>1</td>\n",
              "      <td>1</td>\n",
              "      <td>49.0</td>\n",
              "      <td>49.0</td>\n",
              "      <td>49.0</td>\n",
              "      <td>49.0</td>\n",
              "      <td>45.0</td>\n",
              "      <td>37.0</td>\n",
              "      <td>63.197145</td>\n",
              "      <td>27.377668</td>\n",
              "      <td>8.067688</td>\n",
              "      <td>0.979548</td>\n",
              "      <td>0.001552</td>\n",
              "      <td>0.000000</td>\n",
              "      <td>0.000000</td>\n",
              "      <td>0.000000</td>\n",
              "      <td>0.516733</td>\n",
              "      <td>0.124190</td>\n",
              "      <td>0</td>\n",
              "      <td>0</td>\n",
              "    </tr>\n",
              "    <tr>\n",
              "      <th>1149</th>\n",
              "      <td>1</td>\n",
              "      <td>1</td>\n",
              "      <td>39.0</td>\n",
              "      <td>36.0</td>\n",
              "      <td>29.0</td>\n",
              "      <td>23.0</td>\n",
              "      <td>13.0</td>\n",
              "      <td>7.0</td>\n",
              "      <td>40.525739</td>\n",
              "      <td>12.604947</td>\n",
              "      <td>4.740919</td>\n",
              "      <td>1.077570</td>\n",
              "      <td>0.563518</td>\n",
              "      <td>0.326860</td>\n",
              "      <td>0.239568</td>\n",
              "      <td>0.174584</td>\n",
              "      <td>0.485972</td>\n",
              "      <td>0.106690</td>\n",
              "      <td>1</td>\n",
              "      <td>1</td>\n",
              "    </tr>\n",
              "    <tr>\n",
              "      <th>1150</th>\n",
              "      <td>1</td>\n",
              "      <td>1</td>\n",
              "      <td>7.0</td>\n",
              "      <td>7.0</td>\n",
              "      <td>7.0</td>\n",
              "      <td>7.0</td>\n",
              "      <td>7.0</td>\n",
              "      <td>5.0</td>\n",
              "      <td>69.423565</td>\n",
              "      <td>7.031843</td>\n",
              "      <td>1.750548</td>\n",
              "      <td>0.046597</td>\n",
              "      <td>0.021180</td>\n",
              "      <td>0.008472</td>\n",
              "      <td>0.000000</td>\n",
              "      <td>0.000000</td>\n",
              "      <td>0.556192</td>\n",
              "      <td>0.088957</td>\n",
              "      <td>0</td>\n",
              "      <td>0</td>\n",
              "    </tr>\n",
              "  </tbody>\n",
              "</table>\n",
              "<p>968 rows × 20 columns</p>\n",
              "</div>\n",
              "      <button class=\"colab-df-convert\" onclick=\"convertToInteractive('df-bf4360a1-834b-4a9b-a00f-7251b2e9f133')\"\n",
              "              title=\"Convert this dataframe to an interactive table.\"\n",
              "              style=\"display:none;\">\n",
              "        \n",
              "  <svg xmlns=\"http://www.w3.org/2000/svg\" height=\"24px\"viewBox=\"0 0 24 24\"\n",
              "       width=\"24px\">\n",
              "    <path d=\"M0 0h24v24H0V0z\" fill=\"none\"/>\n",
              "    <path d=\"M18.56 5.44l.94 2.06.94-2.06 2.06-.94-2.06-.94-.94-2.06-.94 2.06-2.06.94zm-11 1L8.5 8.5l.94-2.06 2.06-.94-2.06-.94L8.5 2.5l-.94 2.06-2.06.94zm10 10l.94 2.06.94-2.06 2.06-.94-2.06-.94-.94-2.06-.94 2.06-2.06.94z\"/><path d=\"M17.41 7.96l-1.37-1.37c-.4-.4-.92-.59-1.43-.59-.52 0-1.04.2-1.43.59L10.3 9.45l-7.72 7.72c-.78.78-.78 2.05 0 2.83L4 21.41c.39.39.9.59 1.41.59.51 0 1.02-.2 1.41-.59l7.78-7.78 2.81-2.81c.8-.78.8-2.07 0-2.86zM5.41 20L4 18.59l7.72-7.72 1.47 1.35L5.41 20z\"/>\n",
              "  </svg>\n",
              "      </button>\n",
              "      \n",
              "  <style>\n",
              "    .colab-df-container {\n",
              "      display:flex;\n",
              "      flex-wrap:wrap;\n",
              "      gap: 12px;\n",
              "    }\n",
              "\n",
              "    .colab-df-convert {\n",
              "      background-color: #E8F0FE;\n",
              "      border: none;\n",
              "      border-radius: 50%;\n",
              "      cursor: pointer;\n",
              "      display: none;\n",
              "      fill: #1967D2;\n",
              "      height: 32px;\n",
              "      padding: 0 0 0 0;\n",
              "      width: 32px;\n",
              "    }\n",
              "\n",
              "    .colab-df-convert:hover {\n",
              "      background-color: #E2EBFA;\n",
              "      box-shadow: 0px 1px 2px rgba(60, 64, 67, 0.3), 0px 1px 3px 1px rgba(60, 64, 67, 0.15);\n",
              "      fill: #174EA6;\n",
              "    }\n",
              "\n",
              "    [theme=dark] .colab-df-convert {\n",
              "      background-color: #3B4455;\n",
              "      fill: #D2E3FC;\n",
              "    }\n",
              "\n",
              "    [theme=dark] .colab-df-convert:hover {\n",
              "      background-color: #434B5C;\n",
              "      box-shadow: 0px 1px 3px 1px rgba(0, 0, 0, 0.15);\n",
              "      filter: drop-shadow(0px 1px 2px rgba(0, 0, 0, 0.3));\n",
              "      fill: #FFFFFF;\n",
              "    }\n",
              "  </style>\n",
              "\n",
              "      <script>\n",
              "        const buttonEl =\n",
              "          document.querySelector('#df-bf4360a1-834b-4a9b-a00f-7251b2e9f133 button.colab-df-convert');\n",
              "        buttonEl.style.display =\n",
              "          google.colab.kernel.accessAllowed ? 'block' : 'none';\n",
              "\n",
              "        async function convertToInteractive(key) {\n",
              "          const element = document.querySelector('#df-bf4360a1-834b-4a9b-a00f-7251b2e9f133');\n",
              "          const dataTable =\n",
              "            await google.colab.kernel.invokeFunction('convertToInteractive',\n",
              "                                                     [key], {});\n",
              "          if (!dataTable) return;\n",
              "\n",
              "          const docLinkHtml = 'Like what you see? Visit the ' +\n",
              "            '<a target=\"_blank\" href=https://colab.research.google.com/notebooks/data_table.ipynb>data table notebook</a>'\n",
              "            + ' to learn more about interactive tables.';\n",
              "          element.innerHTML = '';\n",
              "          dataTable['output_type'] = 'display_data';\n",
              "          await google.colab.output.renderOutput(dataTable, element);\n",
              "          const docLink = document.createElement('div');\n",
              "          docLink.innerHTML = docLinkHtml;\n",
              "          element.appendChild(docLink);\n",
              "        }\n",
              "      </script>\n",
              "    </div>\n",
              "  </div>\n",
              "  "
            ]
          },
          "metadata": {},
          "execution_count": 15
        }
      ],
      "source": [
        "mess_df"
      ]
    },
    {
      "cell_type": "markdown",
      "source": [
        "### Analysis of Messidor Features"
      ],
      "metadata": {
        "id": "D8VpXlUdlYqZ"
      }
    },
    {
      "cell_type": "code",
      "execution_count": 16,
      "metadata": {
        "colab": {
          "base_uri": "https://localhost:8080/",
          "height": 524
        },
        "id": "V5VG0TEC8dCi",
        "outputId": "f5f5208e-29ce-4974-dd2a-ba0417a1e5fe"
      },
      "outputs": [
        {
          "output_type": "error",
          "ename": "KeyError",
          "evalue": "ignored",
          "traceback": [
            "\u001b[0;31m---------------------------------------------------------------------------\u001b[0m",
            "\u001b[0;31mKeyError\u001b[0m                                  Traceback (most recent call last)",
            "\u001b[0;32m/usr/local/lib/python3.7/dist-packages/pandas/core/indexes/base.py\u001b[0m in \u001b[0;36mget_loc\u001b[0;34m(self, key, method, tolerance)\u001b[0m\n\u001b[1;32m   3360\u001b[0m             \u001b[0;32mtry\u001b[0m\u001b[0;34m:\u001b[0m\u001b[0;34m\u001b[0m\u001b[0;34m\u001b[0m\u001b[0m\n\u001b[0;32m-> 3361\u001b[0;31m                 \u001b[0;32mreturn\u001b[0m \u001b[0mself\u001b[0m\u001b[0;34m.\u001b[0m\u001b[0m_engine\u001b[0m\u001b[0;34m.\u001b[0m\u001b[0mget_loc\u001b[0m\u001b[0;34m(\u001b[0m\u001b[0mcasted_key\u001b[0m\u001b[0;34m)\u001b[0m\u001b[0;34m\u001b[0m\u001b[0;34m\u001b[0m\u001b[0m\n\u001b[0m\u001b[1;32m   3362\u001b[0m             \u001b[0;32mexcept\u001b[0m \u001b[0mKeyError\u001b[0m \u001b[0;32mas\u001b[0m \u001b[0merr\u001b[0m\u001b[0;34m:\u001b[0m\u001b[0;34m\u001b[0m\u001b[0;34m\u001b[0m\u001b[0m\n",
            "\u001b[0;32m/usr/local/lib/python3.7/dist-packages/pandas/_libs/index.pyx\u001b[0m in \u001b[0;36mpandas._libs.index.IndexEngine.get_loc\u001b[0;34m()\u001b[0m\n",
            "\u001b[0;32m/usr/local/lib/python3.7/dist-packages/pandas/_libs/index.pyx\u001b[0m in \u001b[0;36mpandas._libs.index.IndexEngine.get_loc\u001b[0;34m()\u001b[0m\n",
            "\u001b[0;32mpandas/_libs/hashtable_class_helper.pxi\u001b[0m in \u001b[0;36mpandas._libs.hashtable.PyObjectHashTable.get_item\u001b[0;34m()\u001b[0m\n",
            "\u001b[0;32mpandas/_libs/hashtable_class_helper.pxi\u001b[0m in \u001b[0;36mpandas._libs.hashtable.PyObjectHashTable.get_item\u001b[0;34m()\u001b[0m\n",
            "\u001b[0;31mKeyError\u001b[0m: 'Class'",
            "\nThe above exception was the direct cause of the following exception:\n",
            "\u001b[0;31mKeyError\u001b[0m                                  Traceback (most recent call last)",
            "\u001b[0;32m<ipython-input-16-ec648b1d83a8>\u001b[0m in \u001b[0;36m<module>\u001b[0;34m\u001b[0m\n\u001b[1;32m      9\u001b[0m \u001b[0;31m# finds the 3 largest values (the 3 features most positively\u001b[0m\u001b[0;34m\u001b[0m\u001b[0;34m\u001b[0m\u001b[0;34m\u001b[0m\u001b[0m\n\u001b[1;32m     10\u001b[0m \u001b[0;31m# correlated with CLASS)\u001b[0m\u001b[0;34m\u001b[0m\u001b[0;34m\u001b[0m\u001b[0;34m\u001b[0m\u001b[0m\n\u001b[0;32m---> 11\u001b[0;31m \u001b[0mpos_correlation\u001b[0m \u001b[0;34m=\u001b[0m \u001b[0mclass_correlation\u001b[0m\u001b[0;34m.\u001b[0m\u001b[0mnlargest\u001b[0m\u001b[0;34m(\u001b[0m\u001b[0;36m3\u001b[0m\u001b[0;34m,\u001b[0m \u001b[0;34m'Class'\u001b[0m\u001b[0;34m)\u001b[0m\u001b[0;34m\u001b[0m\u001b[0;34m\u001b[0m\u001b[0m\n\u001b[0m\u001b[1;32m     12\u001b[0m \u001b[0;34m\u001b[0m\u001b[0m\n\u001b[1;32m     13\u001b[0m \u001b[0;31m# show the 3 features most positively correlated with target labels\u001b[0m\u001b[0;34m\u001b[0m\u001b[0;34m\u001b[0m\u001b[0;34m\u001b[0m\u001b[0m\n",
            "\u001b[0;32m/usr/local/lib/python3.7/dist-packages/pandas/core/frame.py\u001b[0m in \u001b[0;36mnlargest\u001b[0;34m(self, n, columns, keep)\u001b[0m\n\u001b[1;32m   6634\u001b[0m         \u001b[0mBrunei\u001b[0m      \u001b[0;36m434000\u001b[0m    \u001b[0;36m12128\u001b[0m      \u001b[0mBN\u001b[0m\u001b[0;34m\u001b[0m\u001b[0;34m\u001b[0m\u001b[0m\n\u001b[1;32m   6635\u001b[0m         \"\"\"\n\u001b[0;32m-> 6636\u001b[0;31m         \u001b[0;32mreturn\u001b[0m \u001b[0malgorithms\u001b[0m\u001b[0;34m.\u001b[0m\u001b[0mSelectNFrame\u001b[0m\u001b[0;34m(\u001b[0m\u001b[0mself\u001b[0m\u001b[0;34m,\u001b[0m \u001b[0mn\u001b[0m\u001b[0;34m=\u001b[0m\u001b[0mn\u001b[0m\u001b[0;34m,\u001b[0m \u001b[0mkeep\u001b[0m\u001b[0;34m=\u001b[0m\u001b[0mkeep\u001b[0m\u001b[0;34m,\u001b[0m \u001b[0mcolumns\u001b[0m\u001b[0;34m=\u001b[0m\u001b[0mcolumns\u001b[0m\u001b[0;34m)\u001b[0m\u001b[0;34m.\u001b[0m\u001b[0mnlargest\u001b[0m\u001b[0;34m(\u001b[0m\u001b[0;34m)\u001b[0m\u001b[0;34m\u001b[0m\u001b[0;34m\u001b[0m\u001b[0m\n\u001b[0m\u001b[1;32m   6637\u001b[0m \u001b[0;34m\u001b[0m\u001b[0m\n\u001b[1;32m   6638\u001b[0m     \u001b[0;32mdef\u001b[0m \u001b[0mnsmallest\u001b[0m\u001b[0;34m(\u001b[0m\u001b[0mself\u001b[0m\u001b[0;34m,\u001b[0m \u001b[0mn\u001b[0m\u001b[0;34m,\u001b[0m \u001b[0mcolumns\u001b[0m\u001b[0;34m,\u001b[0m \u001b[0mkeep\u001b[0m\u001b[0;34m:\u001b[0m \u001b[0mstr\u001b[0m \u001b[0;34m=\u001b[0m \u001b[0;34m\"first\"\u001b[0m\u001b[0;34m)\u001b[0m \u001b[0;34m->\u001b[0m \u001b[0mDataFrame\u001b[0m\u001b[0;34m:\u001b[0m\u001b[0;34m\u001b[0m\u001b[0;34m\u001b[0m\u001b[0m\n",
            "\u001b[0;32m/usr/local/lib/python3.7/dist-packages/pandas/core/algorithms.py\u001b[0m in \u001b[0;36mnlargest\u001b[0;34m(self)\u001b[0m\n\u001b[1;32m   1219\u001b[0m     \u001b[0;34m@\u001b[0m\u001b[0mfinal\u001b[0m\u001b[0;34m\u001b[0m\u001b[0;34m\u001b[0m\u001b[0m\n\u001b[1;32m   1220\u001b[0m     \u001b[0;32mdef\u001b[0m \u001b[0mnlargest\u001b[0m\u001b[0;34m(\u001b[0m\u001b[0mself\u001b[0m\u001b[0;34m)\u001b[0m\u001b[0;34m:\u001b[0m\u001b[0;34m\u001b[0m\u001b[0;34m\u001b[0m\u001b[0m\n\u001b[0;32m-> 1221\u001b[0;31m         \u001b[0;32mreturn\u001b[0m \u001b[0mself\u001b[0m\u001b[0;34m.\u001b[0m\u001b[0mcompute\u001b[0m\u001b[0;34m(\u001b[0m\u001b[0;34m\"nlargest\"\u001b[0m\u001b[0;34m)\u001b[0m\u001b[0;34m\u001b[0m\u001b[0;34m\u001b[0m\u001b[0m\n\u001b[0m\u001b[1;32m   1222\u001b[0m \u001b[0;34m\u001b[0m\u001b[0m\n\u001b[1;32m   1223\u001b[0m     \u001b[0;34m@\u001b[0m\u001b[0mfinal\u001b[0m\u001b[0;34m\u001b[0m\u001b[0;34m\u001b[0m\u001b[0m\n",
            "\u001b[0;32m/usr/local/lib/python3.7/dist-packages/pandas/core/algorithms.py\u001b[0m in \u001b[0;36mcompute\u001b[0;34m(self, method)\u001b[0m\n\u001b[1;32m   1347\u001b[0m \u001b[0;34m\u001b[0m\u001b[0m\n\u001b[1;32m   1348\u001b[0m         \u001b[0;32mfor\u001b[0m \u001b[0mcolumn\u001b[0m \u001b[0;32min\u001b[0m \u001b[0mcolumns\u001b[0m\u001b[0;34m:\u001b[0m\u001b[0;34m\u001b[0m\u001b[0;34m\u001b[0m\u001b[0m\n\u001b[0;32m-> 1349\u001b[0;31m             \u001b[0mdtype\u001b[0m \u001b[0;34m=\u001b[0m \u001b[0mframe\u001b[0m\u001b[0;34m[\u001b[0m\u001b[0mcolumn\u001b[0m\u001b[0;34m]\u001b[0m\u001b[0;34m.\u001b[0m\u001b[0mdtype\u001b[0m\u001b[0;34m\u001b[0m\u001b[0;34m\u001b[0m\u001b[0m\n\u001b[0m\u001b[1;32m   1350\u001b[0m             \u001b[0;32mif\u001b[0m \u001b[0;32mnot\u001b[0m \u001b[0mself\u001b[0m\u001b[0;34m.\u001b[0m\u001b[0mis_valid_dtype_n_method\u001b[0m\u001b[0;34m(\u001b[0m\u001b[0mdtype\u001b[0m\u001b[0;34m)\u001b[0m\u001b[0;34m:\u001b[0m\u001b[0;34m\u001b[0m\u001b[0;34m\u001b[0m\u001b[0m\n\u001b[1;32m   1351\u001b[0m                 raise TypeError(\n",
            "\u001b[0;32m/usr/local/lib/python3.7/dist-packages/pandas/core/frame.py\u001b[0m in \u001b[0;36m__getitem__\u001b[0;34m(self, key)\u001b[0m\n\u001b[1;32m   3456\u001b[0m             \u001b[0;32mif\u001b[0m \u001b[0mself\u001b[0m\u001b[0;34m.\u001b[0m\u001b[0mcolumns\u001b[0m\u001b[0;34m.\u001b[0m\u001b[0mnlevels\u001b[0m \u001b[0;34m>\u001b[0m \u001b[0;36m1\u001b[0m\u001b[0;34m:\u001b[0m\u001b[0;34m\u001b[0m\u001b[0;34m\u001b[0m\u001b[0m\n\u001b[1;32m   3457\u001b[0m                 \u001b[0;32mreturn\u001b[0m \u001b[0mself\u001b[0m\u001b[0;34m.\u001b[0m\u001b[0m_getitem_multilevel\u001b[0m\u001b[0;34m(\u001b[0m\u001b[0mkey\u001b[0m\u001b[0;34m)\u001b[0m\u001b[0;34m\u001b[0m\u001b[0;34m\u001b[0m\u001b[0m\n\u001b[0;32m-> 3458\u001b[0;31m             \u001b[0mindexer\u001b[0m \u001b[0;34m=\u001b[0m \u001b[0mself\u001b[0m\u001b[0;34m.\u001b[0m\u001b[0mcolumns\u001b[0m\u001b[0;34m.\u001b[0m\u001b[0mget_loc\u001b[0m\u001b[0;34m(\u001b[0m\u001b[0mkey\u001b[0m\u001b[0;34m)\u001b[0m\u001b[0;34m\u001b[0m\u001b[0;34m\u001b[0m\u001b[0m\n\u001b[0m\u001b[1;32m   3459\u001b[0m             \u001b[0;32mif\u001b[0m \u001b[0mis_integer\u001b[0m\u001b[0;34m(\u001b[0m\u001b[0mindexer\u001b[0m\u001b[0;34m)\u001b[0m\u001b[0;34m:\u001b[0m\u001b[0;34m\u001b[0m\u001b[0;34m\u001b[0m\u001b[0m\n\u001b[1;32m   3460\u001b[0m                 \u001b[0mindexer\u001b[0m \u001b[0;34m=\u001b[0m \u001b[0;34m[\u001b[0m\u001b[0mindexer\u001b[0m\u001b[0;34m]\u001b[0m\u001b[0;34m\u001b[0m\u001b[0;34m\u001b[0m\u001b[0m\n",
            "\u001b[0;32m/usr/local/lib/python3.7/dist-packages/pandas/core/indexes/base.py\u001b[0m in \u001b[0;36mget_loc\u001b[0;34m(self, key, method, tolerance)\u001b[0m\n\u001b[1;32m   3361\u001b[0m                 \u001b[0;32mreturn\u001b[0m \u001b[0mself\u001b[0m\u001b[0;34m.\u001b[0m\u001b[0m_engine\u001b[0m\u001b[0;34m.\u001b[0m\u001b[0mget_loc\u001b[0m\u001b[0;34m(\u001b[0m\u001b[0mcasted_key\u001b[0m\u001b[0;34m)\u001b[0m\u001b[0;34m\u001b[0m\u001b[0;34m\u001b[0m\u001b[0m\n\u001b[1;32m   3362\u001b[0m             \u001b[0;32mexcept\u001b[0m \u001b[0mKeyError\u001b[0m \u001b[0;32mas\u001b[0m \u001b[0merr\u001b[0m\u001b[0;34m:\u001b[0m\u001b[0;34m\u001b[0m\u001b[0;34m\u001b[0m\u001b[0m\n\u001b[0;32m-> 3363\u001b[0;31m                 \u001b[0;32mraise\u001b[0m \u001b[0mKeyError\u001b[0m\u001b[0;34m(\u001b[0m\u001b[0mkey\u001b[0m\u001b[0;34m)\u001b[0m \u001b[0;32mfrom\u001b[0m \u001b[0merr\u001b[0m\u001b[0;34m\u001b[0m\u001b[0;34m\u001b[0m\u001b[0m\n\u001b[0m\u001b[1;32m   3364\u001b[0m \u001b[0;34m\u001b[0m\u001b[0m\n\u001b[1;32m   3365\u001b[0m         \u001b[0;32mif\u001b[0m \u001b[0mis_scalar\u001b[0m\u001b[0;34m(\u001b[0m\u001b[0mkey\u001b[0m\u001b[0;34m)\u001b[0m \u001b[0;32mand\u001b[0m \u001b[0misna\u001b[0m\u001b[0;34m(\u001b[0m\u001b[0mkey\u001b[0m\u001b[0;34m)\u001b[0m \u001b[0;32mand\u001b[0m \u001b[0;32mnot\u001b[0m \u001b[0mself\u001b[0m\u001b[0;34m.\u001b[0m\u001b[0mhasnans\u001b[0m\u001b[0;34m:\u001b[0m\u001b[0;34m\u001b[0m\u001b[0;34m\u001b[0m\u001b[0m\n",
            "\u001b[0;31mKeyError\u001b[0m: 'Class'"
          ]
        }
      ],
      "source": [
        "### finding the most correlated features with Class column (target)\n",
        "\n",
        "# creates correlation dataframe\n",
        "correlation_df = mess_df.corr()\n",
        "\n",
        "# removes the first row of the correlation dataframe\n",
        "class_correlation = (correlation_df).iloc[1:, 0:1]\n",
        "\n",
        "# finds the 3 largest values (the 3 features most positively \n",
        "# correlated with CLASS)\n",
        "pos_correlation = class_correlation.nlargest(3, 'Class')\n",
        "\n",
        "# show the 3 features most positively correlated with target labels\n",
        "pos_correlation.head()"
      ]
    },
    {
      "cell_type": "code",
      "execution_count": null,
      "metadata": {
        "id": "zPodfhivxHCi"
      },
      "outputs": [],
      "source": [
        "# finds the 3 smallest values (the 3 features most negatively\n",
        "# correlated with CLASS)\n",
        "neg_correlation = class_correlation.nsmallest(3, 'Class')\n",
        "\n",
        "# show the 3 features most negatively correlated with target labels\n",
        "neg_correlation.head()"
      ]
    },
    {
      "cell_type": "code",
      "execution_count": null,
      "metadata": {
        "id": "zhDvfz6WIpwp"
      },
      "outputs": [],
      "source": [
        "### creating histograms for each value\n",
        "\n",
        "for col in mess_df:\n",
        "  if col != \"Class\":\n",
        "    mess_df.hist(column = col, figsize = (3,3))"
      ]
    },
    {
      "cell_type": "markdown",
      "source": [
        "## Helper functions"
      ],
      "metadata": {
        "id": "U_WEPKULlIU2"
      }
    },
    {
      "cell_type": "code",
      "execution_count": 35,
      "metadata": {
        "id": "NaSHTl-L7WfU"
      },
      "outputs": [],
      "source": [
        "### function to split the data\n",
        "\n",
        "# assumes the first column of the df is the target label\n",
        "def train_test_split(df):\n",
        "\n",
        "  # shuffling the order of rows in the input dataframe\n",
        "  df = df.sample(frac = 1, random_state = 1)\n",
        "\n",
        "  # splits the input dataframe into arrays of instances and labels\n",
        "  x, y = df.iloc[:, 1:].to_numpy(), df.iloc[:, 0].to_numpy()\n",
        "\n",
        "  # the number of data points\n",
        "  instance_count = x.shape[0]\n",
        "\n",
        "  # the number of instances to be used in the training data\n",
        "  train_count = int((instance_count/3)*2)\n",
        "\n",
        "  # splitting the data into training data and labels,\n",
        "  # and testing data and labels\n",
        "  x_train, y_train = x[:train_count], y[:train_count]\n",
        "  x_test, y_test = x[train_count:], y[train_count:]\n",
        "\n",
        "  return x_train, y_train, x_test, y_test"
      ]
    },
    {
      "cell_type": "code",
      "execution_count": 36,
      "metadata": {
        "id": "_s60NJiriwJK"
      },
      "outputs": [],
      "source": [
        "### accuracy-evaluating function\n",
        "\n",
        "def evaluate_acc(true_labels, target_labels):\n",
        "\n",
        "  # the number of labels\n",
        "  label_count = true_labels.shape[0]\n",
        "\n",
        "  # the accuracy is the number of correctly labelled instances\n",
        "  # divided by the total amount\n",
        "  accuracy = np.sum(true_labels == target_labels)/label_count\n",
        "\n",
        "\n",
        "  return accuracy"
      ]
    },
    {
      "cell_type": "markdown",
      "source": [
        "# Implementing models"
      ],
      "metadata": {
        "id": "a6lVueablnwe"
      }
    },
    {
      "cell_type": "markdown",
      "source": [
        "## KNN"
      ],
      "metadata": {
        "id": "-7B0imbhlxBQ"
      }
    },
    {
      "cell_type": "code",
      "execution_count": 37,
      "metadata": {
        "id": "2aSftjetWRzc"
      },
      "outputs": [],
      "source": [
        "# distance functions\n",
        "euclidean = lambda x_train, x_test: np.sqrt(np.sum((x_train - x_test)**2, axis = -1))\n",
        "manhattan = lambda x_train, x_test: np.sum(np.abs(x_train - x_test), axis = -1)\n",
        "cosine = lambda x_train, x_test: np.sum(x_train * x_test, axis = -1) / ((np.sqrt(np.sum(x_train**2, axis = -1))) *(np.sqrt(np.sum(x_test**2, axis = -1))))\n",
        "\n",
        "class KNN:\n",
        "  # constructor\n",
        "  def __init__(self, K = 1, dist_fn = euclidean):\n",
        "    self.dist_fn = dist_fn\n",
        "    self.K = K\n",
        "\n",
        "  def fit(self, x_train, y_train):\n",
        "    # stores the training data, since KNN is a lazy learner\n",
        "    self.x_train = x_train\n",
        "    self.y_train = y_train\n",
        "\n",
        "    # the number of classes\n",
        "    self.class_count = len(set(y_train))\n",
        "    return self\n",
        "\n",
        "  def predict(self, x_test):\n",
        "    # uses the stored training data and x_test (test data passed as input)\n",
        "\n",
        "    # the number of instances in the testing data\n",
        "    instance_count = x_test.shape[0]\n",
        "\n",
        "    # an array of the distances between the training data points and the testing\n",
        "    # data points\n",
        "    distances_arr = self.dist_fn(self.x_train[None, :, :], x_test[:, None, :])\n",
        "    \n",
        "    # initializes an array full of zeros for the k-nearest neighbours\n",
        "    knn_arr = np.zeros((instance_count, self.K), dtype = int)\n",
        "    # initializes an array full of zeros for the class probabilities\n",
        "    class_prob = np.zeros((instance_count, self.class_count))\n",
        "\n",
        "    # iterates through each instance in the testing data\n",
        "    for instance in range(instance_count):\n",
        "      # the i-th index is an array with the k-nearest neighbours in x_train to\n",
        "      # data point i in x_test\n",
        "      knn_arr[instance, :] = np.argsort(distances_arr[instance])[:self.K]\n",
        "      \n",
        "      # the i-th index is an array counting the occurrence of each\n",
        "      # class type for data point i in x_test where the j-th index of the \n",
        "      # sub-array represents the number of neighbours in x_train of class j\n",
        "      class_prob[instance, :] = np.bincount(self.y_train[knn_arr[instance,:]], minlength = self.class_count)\n",
        "      #print(self.y_train[knn_arr[instance, :]].dtype)\n",
        "\n",
        "    # divides all probabilities by the number of neighbours to look for\n",
        "    class_prob /= self.K\n",
        "\n",
        "    return class_prob, knn_arr\n"
      ]
    },
    {
      "cell_type": "markdown",
      "source": [
        "## Decision Tree"
      ],
      "metadata": {
        "id": "vFWDVUnTl3gR"
      }
    },
    {
      "cell_type": "markdown",
      "source": [
        "### Node"
      ],
      "metadata": {
        "id": "vfuiSC0ZoZbe"
      }
    },
    {
      "cell_type": "code",
      "execution_count": 38,
      "metadata": {
        "id": "MTzVXa7EGN9Z"
      },
      "outputs": [],
      "source": [
        "class Node:\n",
        "  def __init__(self, instance_indices, parent):\n",
        "\n",
        "    # the indices of the instances (in the data) within this region of the DT\n",
        "    self.instance_indices = instance_indices\n",
        "    self.left = None\n",
        "    self.right = None\n",
        "    self.split_feature = None\n",
        "    self.split_val = None\n",
        "\n",
        "    # if the node has a parent\n",
        "    if parent:\n",
        "      self.depth = parent.depth + 1\n",
        "      self.class_count = parent.class_count\n",
        "      \n",
        "      # pointer to original data\n",
        "      self.data = parent.data\n",
        "      self.labels = parent.labels\n",
        "      class_prob = np.bincount(self.labels[instance_indices], minlength = self.class_count)\n",
        "      self.class_prob = class_prob / np.sum(class_prob)"
      ]
    },
    {
      "cell_type": "markdown",
      "source": [
        "### Greedy Split"
      ],
      "metadata": {
        "id": "tL4lpMT8obue"
      }
    },
    {
      "cell_type": "code",
      "execution_count": 39,
      "metadata": {
        "id": "7GhZiho7IEuM"
      },
      "outputs": [],
      "source": [
        "def greedy_split(node, cost_fn):\n",
        "  # if the split cannot be made, returns infinity\n",
        "  best_cost = np.inf\n",
        "  best_feature, best_value = None, None\n",
        "  instance_count, feature_count = node.data.shape\n",
        "  best_split = None\n",
        "\n",
        "  # sorts the data within each column then saves boundary values in test_splits\n",
        "  sorted_data = np.sort(node.data[node.instance_indices], axis = 0)\n",
        "  test_splits = (sorted_data[1:] + sorted_data[:-1]) / 2\n",
        "\n",
        "  for feature in range(feature_count):\n",
        "    feature_data = node.data[node.instance_indices, feature]\n",
        "\n",
        "    if(len(set(feature_data)) == 2):\n",
        "      left_indices = node.instance_indices[feature_data == 0]\n",
        "      right_indices = node.instance_indices[feature_data == 1]\n",
        "\n",
        "    else:\n",
        "      for split in test_splits[:, feature]:\n",
        "        left_indices = node.instance_indices[feature_data <= split]\n",
        "        right_indices = node.instance_indices[feature_data > split]\n",
        "\n",
        "        if (len(left_indices) == 0) or (len(right_indices) == 0):\n",
        "          continue\n",
        "\n",
        "      left_cost = cost_fn(node.labels[left_indices])\n",
        "      right_cost = cost_fn(node.labels[right_indices])\n",
        "\n",
        "      left_count, right_count = left_indices.shape[0], right_indices.shape[0]\n",
        "      cost = ((left_count * left_cost) + (right_count * right_cost)) / instance_count\n",
        "\n",
        "      if cost < best_cost:\n",
        "        best_cost = cost\n",
        "        best_feature = feature\n",
        "        best_split = split\n",
        "\n",
        "  return best_cost, best_feature, best_split"
      ]
    },
    {
      "cell_type": "markdown",
      "source": [
        "### Cost Functions"
      ],
      "metadata": {
        "id": "IUFBqJ_voeHs"
      }
    },
    {
      "cell_type": "code",
      "execution_count": 40,
      "metadata": {
        "id": "KA60w5IZMbum"
      },
      "outputs": [],
      "source": [
        "### cost functions\n",
        "\n",
        "def misclassification_cost(labels):\n",
        "  most_frequent_label = np.argmax(labels)\n",
        "  cost = sum(1 for label in labels if label != most_frequent_label)\n",
        "  return cost\n",
        "\n",
        "def entropy_cost(labels):\n",
        "  cost = 0\n",
        "  unique_labels = set(labels)\n",
        "  label_count = len(labels)\n",
        "\n",
        "  for label in unique_labels:\n",
        "    cur_labels = sum(1 for label in unique_labels)\n",
        "    ratio = cur_labels / label_count\n",
        "    cost += ratio * np.log2(ratio)\n",
        "\n",
        "  cost *= -1\n",
        "  return cost\n",
        "\n",
        "def gini_cost(labels):\n",
        "  cost = 0\n",
        "  unique_labels = set(labels)\n",
        "  label_count = len(labels)\n",
        "\n",
        "  for label in unique_labels:\n",
        "    cur_labels = sum(1 for label in unique_labels)\n",
        "    ratio = cur_labels / label_count\n",
        "    cost += np.square(ratio)\n",
        "\n",
        "  cost = 1 - cost\n",
        "  return cost"
      ]
    },
    {
      "cell_type": "markdown",
      "source": [
        "### DT model implementations"
      ],
      "metadata": {
        "id": "DQC1h0GDogf2"
      }
    },
    {
      "cell_type": "code",
      "execution_count": 41,
      "metadata": {
        "id": "LF9f307pWx0P"
      },
      "outputs": [],
      "source": [
        "### the tree stops splitting if\n",
        "### 1) there are not enough points under the current node (min_instances)\n",
        "### 2) maximum depth reached (max_depth)\n",
        "### 3) decrease in cost is negligible\n",
        "\n",
        "class DT:\n",
        "  def __init__(self, class_count = None, max_depth = 3, cost_fn = entropy_cost, min_instances = 1):\n",
        "    self.root = None\n",
        "    self.max_depth = max_depth\n",
        "    self.cost_fn = cost_fn\n",
        "    self.class_count = class_count\n",
        "    self.min_instances = min_instances\n",
        "\n",
        "  def fit(self, data, labels):\n",
        "    self.data = data\n",
        "    self.labels = labels\n",
        "\n",
        "    if self.class_count is None:\n",
        "      self.class_count = len(set(labels))\n",
        "\n",
        "    # root\n",
        "    self.root = Node(np.arange(data.shape[0]), None)\n",
        "    self.root.data = data\n",
        "    self.root.labels = labels\n",
        "    self.root.class_count = self.class_count\n",
        "    self.root.depth = 0\n",
        "\n",
        "    # builds the rest of the tree\n",
        "    self.fit_recursive(self.root)\n",
        "\n",
        "    return self\n",
        "\n",
        "  def fit_recursive(self, node):\n",
        "    max_depth_reached = node.depth == self.max_depth\n",
        "    insufficient_instances = len(node.instance_indices) <= self.min_instances\n",
        "\n",
        "    # if the maximum depth was reached\n",
        "    if max_depth_reached or insufficient_instances:\n",
        "      return\n",
        "\n",
        "    cost, split_feature, split_value = greedy_split(node, self.cost_fn)\n",
        "\n",
        "    # it's not possible to split\n",
        "    if np.isinf(cost):\n",
        "      return\n",
        "\n",
        "    left_split_indices = node.data[node.instance_indices, split_feature] <= split_value\n",
        "\n",
        "    node.split_feature = split_feature\n",
        "    node.split_value = split_value\n",
        "\n",
        "    # new nodes\n",
        "    new_left = Node(node.instance_indices[left_split_indices], node)\n",
        "    new_right = Node(node.instance_indices[np.logical_not(left_split_indices)], node)\n",
        "\n",
        "    # recursive call\n",
        "    self.fit_recursive(new_left)\n",
        "    self.fit_recursive(new_right)\n",
        "\n",
        "    node.left = new_left\n",
        "    node.right = new_right\n",
        "\n",
        "  def predict(self, x_test):\n",
        "    # initializing empty array\n",
        "    class_probs = np.zeros((x_test.shape[0], self.class_count))\n",
        "\n",
        "    for instance_num, instance_features in enumerate(x_test):\n",
        "      node = self.root\n",
        "      \n",
        "      while node.left:\n",
        "        if instance_features[node.split_feature] <= node.split_value:\n",
        "          node = node.left\n",
        "        else:\n",
        "          node = node.right\n",
        "\n",
        "      # while loop terminates when you reach a leaf of the tree\n",
        "      # the class probability of that node is taken for prediction\n",
        "      class_probs[instance_num, :] = node.class_prob\n",
        "\n",
        "    return class_probs"
      ]
    },
    {
      "cell_type": "markdown",
      "source": [
        "# Decision Trees"
      ],
      "metadata": {
        "id": "A99WqN6WlACV"
      }
    },
    {
      "cell_type": "markdown",
      "source": [
        "In order to build the decision tree class we need to implement various components:\n",
        "\n",
        "\n",
        "*   Nodes to describe the structure\n",
        "*   Cost function to evaluate a split and choose the best feature\n",
        "*   Greedy test (can be heuristic) to do the selection"
      ],
      "metadata": {
        "id": "y1eKC759lGIE"
      }
    },
    {
      "cell_type": "markdown",
      "source": [
        "## Node:"
      ],
      "metadata": {
        "id": "dhLtaaCrnYnV"
      }
    },
    {
      "cell_type": "code",
      "source": [
        "##This implementation is derrived from code found in DecisionTree.ipynb from the class's GitHub \n",
        "\n",
        "class Node:\n",
        "    def __init__(self, data_indices, parent):\n",
        "        self.data_indices = data_indices                    #stores the indices of the data in the region of this node\n",
        "        self.left = None                                    #stores the left child of this node \n",
        "        self.right = None                                   #stores the right child of this node\n",
        "\n",
        "        #Splitting parameters\n",
        "        self.split_feature = None                           #the feature being split at this node (data[f])\n",
        "        self.split_value = None                             #the value that splits the data at this node. (data[f] <= value)\n",
        "\n",
        "        #data passed from the parent\n",
        "        if parent:\n",
        "            self.depth = parent.depth + 1                   #this node's depth is 1 more than the parent's \n",
        "            self.num_classes = parent.num_classes           #copies the num classes from the parent which will be the same for all nodes\n",
        "            self.data = parent.data                         #copies the data from the parent \n",
        "            self.labels = parent.labels                     #copies the labels from the parent\n",
        "            class_prob = np.bincount(self.labels[data_indices], minlength=self.num_classes) #this is counting frequency of different labels in the region defined by this node\n",
        "            self.class_prob = class_prob / np.sum(class_prob)  #stores the class probability for the node\n",
        "            #note that we'll use the class probabilites of the leaf nodes for making predictions after the tree is built"
      ],
      "metadata": {
        "id": "R-uBBVbhk_QW"
      },
      "execution_count": 42,
      "outputs": []
    },
    {
      "cell_type": "markdown",
      "source": [
        "## Cost functions"
      ],
      "metadata": {
        "id": "tvUlnzwnqKgP"
      }
    },
    {
      "cell_type": "code",
      "source": [
        "#several different cost functions are implemented here \n",
        "\n",
        "#misclassification\n",
        "def cost_misclassification(labels):\n",
        "  #find the highest count (which will be how they are all labelled) \n",
        "  correct_Perc = np.max(np.bincount(labels))/len(labels) #find which label has the highest count then divide by the total number of samples in labels to find the frequency of correctly classified\n",
        "  return 1- correct_Perc # return the percent of missclassified\n",
        "\n",
        "#entropy of the labels by computing the class probabilities\n",
        "def cost_entropy(labels):\n",
        "  class_probs = np.bincount(labels) / len(labels)      #calculate class probabilities by dividing the # of each class by the total number\n",
        "  class_probs = class_probs[class_probs > 0]              #this steps is remove 0 probabilities for removing numerical issues while computing log\n",
        "  return -np.sum(class_probs * np.log2(class_probs))       #expression for entropy -\\sigma p(x)log[p(x)]\n",
        "\n",
        "#computes the gini index cost\n",
        "def cost_gini_index(labels):\n",
        "    class_probs = np.bincount(labels) / len(labels)      #calculate class probabilities by dividing the # of each class by the total number\n",
        "    return 1 - np.sum(np.square(class_probs))               #expression for gini index 1-\\sigma p(x)^2"
      ],
      "metadata": {
        "id": "7kZJ4ga1qVtR"
      },
      "execution_count": 43,
      "outputs": []
    },
    {
      "cell_type": "markdown",
      "source": [
        "##Greedy Test"
      ],
      "metadata": {
        "id": "ecRe9mSy8XS0"
      }
    },
    {
      "cell_type": "code",
      "source": [
        "def greedy_test(node, cost_fn):\n",
        "    #initialize the best parameter values (at the start there aren't any)\n",
        "    min_cost = np.inf \n",
        "    best_feature, best_value = None, None\n",
        "\n",
        "    num_instances, num_features = node.data.shape #the number of instances is equal to the number of rows in the data, #features is equal to the # columns\n",
        "\n",
        "    #sort the features to get the test value candidates by taking the average of consecutive sorted feature values \n",
        "    data_sorted = np.sort(node.data[node.data_indices],axis=0)\n",
        "    test_candidates = (data_sorted[1:] + data_sorted[:-1]) / 2. #gives each combination of left and right segments of the sorted data\n",
        "    #ex: i = [1,2,3,4,5], test_cand = [1.5, 2.5, 3.5, 4.5]\n",
        "\n",
        "    for d in range(num_features):\n",
        "      #stores the data corresponding to the d-th feature\n",
        "      data_d = node.data[node.data_indices, d]\n",
        "\n",
        "      for val in test_candidates[:, d]: #for each value of a given feature\n",
        "        #Split the indices using the test value of f-th feature\n",
        "            left_indices = node.data_indices[data_d <= val]\n",
        "            right_indices = node.data_indices[data_d > val]\n",
        "\n",
        "            #we can't have a split where a child has zero element (it would pretty much result in the same node again)\n",
        "            #if this is true over all the test features and their test values  then the function returns the best cost as infinity\n",
        "            if len(left_indices) == 0 or len(right_indices) == 0:                \n",
        "                continue\n",
        "\n",
        "            left_cost = cost_fn(node.labels[left_indices]) #calculate cost for the left side\n",
        "            right_cost = cost_fn(node.labels[right_indices]) #calculate cost for the right side\n",
        "\n",
        "\n",
        "            num_left, num_right = left_indices.shape[0], right_indices.shape[0] # weighted cost = cost * numElements / totalnumElements\n",
        "            #get the combined cost using the weighted sum of left and right cost for the cuurent test value and feature\n",
        "            cost = (num_left * left_cost + num_right * right_cost)/num_instances \n",
        "            \n",
        "            #update only when a lower cost is encountered\n",
        "            if cost < min_cost:\n",
        "                min_cost = cost\n",
        "                best_feature = d\n",
        "                best_value = val\n",
        "    return min_cost, best_feature, best_value"
      ],
      "metadata": {
        "id": "Orql5Bud8Zs5"
      },
      "execution_count": 44,
      "outputs": []
    },
    {
      "cell_type": "markdown",
      "source": [
        "## Decision Tree class. We are now ready to implement the fit and predict functions"
      ],
      "metadata": {
        "id": "RWE4NRXoXupP"
      }
    },
    {
      "cell_type": "code",
      "source": [
        "class DecisionTree:\n",
        "    def __init__(self, num_classes=None, max_depth=3, cost_fn=cost_misclassification, min_leaf_instances=1):\n",
        "      self.max_depth = max_depth      #maximum dept for termination \n",
        "      self.root = None                #stores the root of the decision tree \n",
        "      self.cost_fn = cost_fn          #stores the cost function of the decision tree \n",
        "      self.num_classes = num_classes  #stores the total number of classes\n",
        "      self.min_leaf_instances = min_leaf_instances  #minimum number of instances in a leaf for termination\n",
        "\n",
        "\n",
        "    def fit(self, data, labels):\n",
        "      self.data = data\n",
        "      self.labels = labels\n",
        "      if self.num_classes is None:\n",
        "        self.num_classes = np.max(labels) + 1 #assumes the labels start at 0\n",
        "\n",
        "        #below are initialization of the root of the decision tree\n",
        "      self.root = Node(np.arange(data.shape[0]), None) #root should include all data indices and should not have a parent\n",
        "      self.root.data = data\n",
        "      self.root.labels = labels\n",
        "      self.root.num_classes = self.num_classes\n",
        "      self.root.depth = 0\n",
        "      #to recursively build the rest of the tree\n",
        "      self._fit_tree(self.root)\n",
        "      return self\n",
        "\n",
        "\n",
        "    def _fit_tree(self, node):\n",
        "\n",
        "      #This gives the condition for termination of the recursion resulting in a leaf node\n",
        "      if node.depth == self.max_depth or len(node.data_indices) <= self.min_leaf_instances:\n",
        "        return\n",
        "        #greedily select the best test by minimizing the cost\n",
        "      cost, split_feature, split_value = greedy_test(node, self.cost_fn)\n",
        "\n",
        "          #if the cost returned is infinity it means that it is not possible to split the node and hence terminate\n",
        "      if np.isinf(cost):\n",
        "        return\n",
        "\n",
        "          #to get a boolean array suggesting which data indices corresponding to this node are in the left of the split\n",
        "      test = node.data[node.data_indices,split_feature] <= split_value\n",
        "          #store the split feature and value of the node\n",
        "      node.split_feature = split_feature\n",
        "      node.split_value = split_value\n",
        "          #define new nodes which are going to be the left and right child of the present node\n",
        "      left = Node(node.data_indices[test], node)\n",
        "      right = Node(node.data_indices[np.logical_not(test)], node)\n",
        "          #recursive call to the _fit_tree()\n",
        "      self._fit_tree(left)\n",
        "      self._fit_tree(right)\n",
        "          #assign the left and right child to present child    \n",
        "      node.left = left\n",
        "      node.right = right\n",
        "            \n",
        "    def predict(self, data_test):\n",
        "      pass"
      ],
      "metadata": {
        "id": "wf7qtkHMX5UR"
      },
      "execution_count": 45,
      "outputs": []
    },
    {
      "cell_type": "markdown",
      "source": [
        "Next we have to define the predict function"
      ],
      "metadata": {
        "id": "HApa10mQa941"
      }
    },
    {
      "cell_type": "code",
      "source": [
        "def predict(self, data_test):\n",
        "\n",
        "    class_probs = np.zeros((data_test.shape[0], self.num_classes))\n",
        "    for n, x in enumerate(data_test):\n",
        "        node = self.root\n",
        "        #loop along the dept of the tree looking region where the present data sample fall in based on the split feature and value\n",
        "        while node.left:\n",
        "            if x[node.split_feature] <= node.split_value:\n",
        "                node = node.left\n",
        "            else:\n",
        "                node = node.right\n",
        "        #the loop terminates when you reach a leaf of the tree and the class probability of that node is taken for prediction\n",
        "        class_probs[n,:] = node.class_prob\n",
        "    return class_probs\n",
        "\n",
        "DecisionTree.predict = predict"
      ],
      "metadata": {
        "id": "Tjb-bmLca8yf"
      },
      "execution_count": 46,
      "outputs": []
    },
    {
      "cell_type": "markdown",
      "source": [
        "# Running experiments"
      ],
      "metadata": {
        "id": "IlELJSq3nWUz"
      }
    },
    {
      "cell_type": "markdown",
      "source": [
        "## KNN experiments"
      ],
      "metadata": {
        "id": "SNenEnbonsLp"
      }
    },
    {
      "cell_type": "markdown",
      "source": [
        "### Baseline accuracy test"
      ],
      "metadata": {
        "id": "O-Hcvjovo1K9"
      }
    },
    {
      "cell_type": "code",
      "execution_count": 48,
      "metadata": {
        "colab": {
          "base_uri": "https://localhost:8080/",
          "height": 433
        },
        "id": "E81-AwpM10sb",
        "outputId": "87dd9458-0657-468c-fc5d-6c5279b28aee"
      },
      "outputs": [
        {
          "output_type": "error",
          "ename": "ValueError",
          "evalue": "ignored",
          "traceback": [
            "\u001b[0;31m---------------------------------------------------------------------------\u001b[0m",
            "\u001b[0;31mValueError\u001b[0m                                Traceback (most recent call last)",
            "\u001b[0;32m<ipython-input-48-81155be1ecac>\u001b[0m in \u001b[0;36m<module>\u001b[0;34m\u001b[0m\n\u001b[1;32m     24\u001b[0m \u001b[0;34m\u001b[0m\u001b[0m\n\u001b[1;32m     25\u001b[0m \u001b[0mx_train\u001b[0m\u001b[0;34m,\u001b[0m \u001b[0my_train\u001b[0m\u001b[0;34m,\u001b[0m \u001b[0mx_test\u001b[0m\u001b[0;34m,\u001b[0m \u001b[0my_test\u001b[0m \u001b[0;34m=\u001b[0m \u001b[0mtrain_test_split\u001b[0m\u001b[0;34m(\u001b[0m\u001b[0mhep_df\u001b[0m\u001b[0;34m)\u001b[0m\u001b[0;34m\u001b[0m\u001b[0;34m\u001b[0m\u001b[0m\n\u001b[0;32m---> 26\u001b[0;31m \u001b[0msimpleTest\u001b[0m\u001b[0;34m(\u001b[0m\u001b[0mx_train\u001b[0m\u001b[0;34m,\u001b[0m \u001b[0my_train\u001b[0m\u001b[0;34m,\u001b[0m \u001b[0mx_test\u001b[0m\u001b[0;34m,\u001b[0m \u001b[0my_test\u001b[0m\u001b[0;34m,\u001b[0m \u001b[0mk\u001b[0m\u001b[0;34m=\u001b[0m\u001b[0;36m3\u001b[0m\u001b[0;34m)\u001b[0m\u001b[0;34m\u001b[0m\u001b[0;34m\u001b[0m\u001b[0m\n\u001b[0m\u001b[1;32m     27\u001b[0m \u001b[0;34m\u001b[0m\u001b[0m\n\u001b[1;32m     28\u001b[0m \u001b[0mx_train\u001b[0m\u001b[0;34m,\u001b[0m \u001b[0my_train\u001b[0m\u001b[0;34m,\u001b[0m \u001b[0mx_test\u001b[0m\u001b[0;34m,\u001b[0m \u001b[0my_test\u001b[0m \u001b[0;34m=\u001b[0m \u001b[0mtrain_test_split\u001b[0m\u001b[0;34m(\u001b[0m\u001b[0mmess_df\u001b[0m\u001b[0;34m)\u001b[0m\u001b[0;34m\u001b[0m\u001b[0;34m\u001b[0m\u001b[0m\n",
            "\u001b[0;32m<ipython-input-48-81155be1ecac>\u001b[0m in \u001b[0;36msimpleTest\u001b[0;34m(x_train, y_train, x_test, y_test, k)\u001b[0m\n\u001b[1;32m     10\u001b[0m \u001b[0;34m\u001b[0m\u001b[0m\n\u001b[1;32m     11\u001b[0m   \u001b[0;31m# outputs an array of the most likely class labels for each instance in x_test\u001b[0m\u001b[0;34m\u001b[0m\u001b[0;34m\u001b[0m\u001b[0;34m\u001b[0m\u001b[0m\n\u001b[0;32m---> 12\u001b[0;31m   \u001b[0mclass_pred\u001b[0m \u001b[0;34m=\u001b[0m \u001b[0mnp\u001b[0m\u001b[0;34m.\u001b[0m\u001b[0margmax\u001b[0m\u001b[0;34m(\u001b[0m\u001b[0mclass_prob\u001b[0m\u001b[0;34m,\u001b[0m \u001b[0maxis\u001b[0m \u001b[0;34m=\u001b[0m \u001b[0;34m-\u001b[0m\u001b[0;36m1\u001b[0m\u001b[0;34m)\u001b[0m\u001b[0;34m\u001b[0m\u001b[0;34m\u001b[0m\u001b[0m\n\u001b[0m\u001b[1;32m     13\u001b[0m   \u001b[0mtrain_pred\u001b[0m \u001b[0;34m=\u001b[0m \u001b[0mnp\u001b[0m\u001b[0;34m.\u001b[0m\u001b[0margmax\u001b[0m\u001b[0;34m(\u001b[0m\u001b[0mtr_class_prob\u001b[0m\u001b[0;34m,\u001b[0m \u001b[0maxis\u001b[0m \u001b[0;34m=\u001b[0m \u001b[0;34m-\u001b[0m\u001b[0;36m1\u001b[0m\u001b[0;34m)\u001b[0m\u001b[0;34m\u001b[0m\u001b[0;34m\u001b[0m\u001b[0m\n\u001b[1;32m     14\u001b[0m   \u001b[0;31m# finds the training accuracy of the model\u001b[0m\u001b[0;34m\u001b[0m\u001b[0;34m\u001b[0m\u001b[0;34m\u001b[0m\u001b[0m\n",
            "\u001b[0;32m<__array_function__ internals>\u001b[0m in \u001b[0;36margmax\u001b[0;34m(*args, **kwargs)\u001b[0m\n",
            "\u001b[0;32m/usr/local/lib/python3.7/dist-packages/numpy/core/fromnumeric.py\u001b[0m in \u001b[0;36margmax\u001b[0;34m(a, axis, out)\u001b[0m\n\u001b[1;32m   1193\u001b[0m \u001b[0;34m\u001b[0m\u001b[0m\n\u001b[1;32m   1194\u001b[0m     \"\"\"\n\u001b[0;32m-> 1195\u001b[0;31m     \u001b[0;32mreturn\u001b[0m \u001b[0m_wrapfunc\u001b[0m\u001b[0;34m(\u001b[0m\u001b[0ma\u001b[0m\u001b[0;34m,\u001b[0m \u001b[0;34m'argmax'\u001b[0m\u001b[0;34m,\u001b[0m \u001b[0maxis\u001b[0m\u001b[0;34m=\u001b[0m\u001b[0maxis\u001b[0m\u001b[0;34m,\u001b[0m \u001b[0mout\u001b[0m\u001b[0;34m=\u001b[0m\u001b[0mout\u001b[0m\u001b[0;34m)\u001b[0m\u001b[0;34m\u001b[0m\u001b[0;34m\u001b[0m\u001b[0m\n\u001b[0m\u001b[1;32m   1196\u001b[0m \u001b[0;34m\u001b[0m\u001b[0m\n\u001b[1;32m   1197\u001b[0m \u001b[0;34m\u001b[0m\u001b[0m\n",
            "\u001b[0;32m/usr/local/lib/python3.7/dist-packages/numpy/core/fromnumeric.py\u001b[0m in \u001b[0;36m_wrapfunc\u001b[0;34m(obj, method, *args, **kwds)\u001b[0m\n\u001b[1;32m     55\u001b[0m \u001b[0;34m\u001b[0m\u001b[0m\n\u001b[1;32m     56\u001b[0m     \u001b[0;32mtry\u001b[0m\u001b[0;34m:\u001b[0m\u001b[0;34m\u001b[0m\u001b[0;34m\u001b[0m\u001b[0m\n\u001b[0;32m---> 57\u001b[0;31m         \u001b[0;32mreturn\u001b[0m \u001b[0mbound\u001b[0m\u001b[0;34m(\u001b[0m\u001b[0;34m*\u001b[0m\u001b[0margs\u001b[0m\u001b[0;34m,\u001b[0m \u001b[0;34m**\u001b[0m\u001b[0mkwds\u001b[0m\u001b[0;34m)\u001b[0m\u001b[0;34m\u001b[0m\u001b[0;34m\u001b[0m\u001b[0m\n\u001b[0m\u001b[1;32m     58\u001b[0m     \u001b[0;32mexcept\u001b[0m \u001b[0mTypeError\u001b[0m\u001b[0;34m:\u001b[0m\u001b[0;34m\u001b[0m\u001b[0;34m\u001b[0m\u001b[0m\n\u001b[1;32m     59\u001b[0m         \u001b[0;31m# A TypeError occurs if the object does have such a method in its\u001b[0m\u001b[0;34m\u001b[0m\u001b[0;34m\u001b[0m\u001b[0;34m\u001b[0m\u001b[0m\n",
            "\u001b[0;31mValueError\u001b[0m: attempt to get argmax of an empty sequence"
          ]
        }
      ],
      "source": [
        "### running KNN to find test accuracy and training accuracy\n",
        "def simpleTest(x_train, y_train, x_test, y_test, k):\n",
        "  # creates a new KNN model\n",
        "  knn_model = KNN(K = k)\n",
        "  knn_model = knn_model.fit(x_train, y_train)\n",
        "  # fits the model to the training data, then tests the model on the test\n",
        "  # data for K = 3\n",
        "  class_prob, knn_arr = knn_model.predict(x_test)\n",
        "  tr_class_prob, _ = knn_model.predict(x_train)\n",
        "\n",
        "  # outputs an array of the most likely class labels for each instance in x_test\n",
        "  class_pred = np.argmax(class_prob, axis = -1)\n",
        "  train_pred = np.argmax(tr_class_prob, axis = -1)\n",
        "  # finds the training accuracy of the model\n",
        "  test_accuracy = evaluate_acc(y_test, class_pred)\n",
        "  train_accuracy = evaluate_acc(y_train, train_pred)\n",
        "  # creates boolean arrays to represent correct and incorrect predictions\n",
        "  correct_pred = class_pred == y_test\n",
        "  incorrect_pred = np.logical_not(correct_pred)\n",
        "\n",
        "  print(\"K = \" + str(k))\n",
        "  print(\"The accuracy of the model on the training data is: \" + str(round((train_accuracy * 100), 2)) + \"%\")\n",
        "  print(\"The accuracy of the model on the test data is: \" + str(round((test_accuracy * 100), 2)) + \"%\")\n",
        "\n",
        "x_train, y_train, x_test, y_test = train_test_split(hep_df)\n",
        "simpleTest(x_train, y_train, x_test, y_test, k=3)\n",
        "\n",
        "x_train, y_train, x_test, y_test = train_test_split(mess_df)\n",
        "simpleTest(x_train, y_train, x_test, y_test, k=3)"
      ]
    },
    {
      "cell_type": "code",
      "source": [
        "from sklearn.neighbors import KNeighborsClassifier\n",
        "knn = KNeighborsClassifier(n_neighbors=1) # n_neighbors=5 (default)\n",
        "fit = knn.fit(x_train, y_train)\n",
        "pred_y = fit.predict(x_test)\n",
        "evaluate_acc(y_test, pred_y)"
      ],
      "metadata": {
        "id": "_jGB49-CyXPP"
      },
      "execution_count": null,
      "outputs": []
    },
    {
      "cell_type": "code",
      "execution_count": null,
      "metadata": {
        "id": "1cEsR4vrQXo4"
      },
      "outputs": [],
      "source": [
        "### running KNN on mess_df data\n",
        "\n",
        "x_train, y_train, x_test, y_test = train_test_split(mess_df)\n",
        "\n",
        "knn_model = KNN(K = 3)\n",
        "\n",
        "# fits the model to the training data, then tests the model on the test\n",
        "# data for K = 3\n",
        "class_prob, knn_arr = knn_model.fit(x_train, y_train).predict(x_test)\n",
        "\n",
        "# outputs an array of the most liekly class label for each instance in x_test\n",
        "class_pred = np.argmax(class_prob, axis = -1)\n",
        "\n",
        "# finds the accuracy of the model\n",
        "accuracy = evaluate_acc(y_test, class_pred)\n",
        "\n",
        "# creates boolean arrays to represent correct and incorrect predictions\n",
        "correct_pred = class_pred == y_test\n",
        "incorrect_pred = np.logical_not(correct_pred)\n",
        "\n",
        "print(\"The accuracy of the model is: \" + str(round((accuracy * 100), 2)) + \"%\")"
      ]
    },
    {
      "cell_type": "markdown",
      "source": [
        "### Acurracy test with removed low correlation features"
      ],
      "metadata": {
        "id": "VGTmIRwao9gV"
      }
    },
    {
      "cell_type": "code",
      "execution_count": null,
      "metadata": {
        "id": "ggyVjkbpFp0L"
      },
      "outputs": [],
      "source": [
        "### running KNN on hep_df data for top 2 features\n",
        "\n",
        "hep_cut_df = normalize_df(hep_df[['CLASS', 'ALBUMIN', 'BILIRUBIN']])\n",
        "\n",
        "# splits the data\n",
        "x_train, y_train, x_test, y_test = train_test_split(hep_cut_df)\n",
        "\n",
        "# creates a new KNN model\n",
        "knn_model = KNN(K = 3)\n",
        "\n",
        "# fits the model to the training data, then tests the model on the test\n",
        "# data for K = 3\n",
        "class_prob, knn_arr = knn_model.fit(x_train, y_train).predict(x_test)\n",
        "\n",
        "# outputs an array of the most likely class labels for each instance in x_test\n",
        "class_pred = np.argmax(class_prob, axis = -1)\n",
        "\n",
        "# finds the accuracy of the model\n",
        "accuracy = evaluate_acc(y_test, class_pred)\n",
        "\n",
        "print(\"The accuracy of the model is: \" + str(round((accuracy * 100), 2)) + \"%\")\n",
        "\n",
        "# creates boolean arrays to represent correct and incorrect predictions\n",
        "correct_pred = class_pred == y_test\n",
        "incorrect_pred = np.logical_not(correct_pred)\n",
        "\n",
        "plt.scatter(x_train[:, 0], x_train[:, 1], c = y_train, marker = 'o', alpha = 0.2, label = 'train')\n",
        "plt.scatter(x_test[correct_pred, 0], x_test[correct_pred, 1], marker = '.', c = class_pred[correct_pred], label = 'correct')\n",
        "plt.scatter(x_test[incorrect_pred, 0], x_test[incorrect_pred, 1], marker = 'x', c = class_pred[incorrect_pred], label = 'misclassified')\n",
        "\n",
        "for i in range(x_test.shape[0]):\n",
        "  for k in range(knn_model.K):\n",
        "\n",
        "    hor = x_test[i, 0], x_train[knn_arr[i, k], 0]\n",
        "    ver = x_test[i, 1], x_train[knn_arr[i, k], 1]\n",
        "\n",
        "    plt.plot(hor, ver, 'k-', alpha = 0.1)\n",
        "\n",
        "plt.xlabel('Albumin')\n",
        "plt.ylabel('Bilirubin')\n",
        "plt.legend()\n",
        "plt.show()"
      ]
    },
    {
      "cell_type": "code",
      "execution_count": null,
      "metadata": {
        "id": "skthqvpEbkb1"
      },
      "outputs": [],
      "source": [
        "### running KNN on mess_df data for top 2 correlated features\n",
        "\n",
        "mess_cut_df = mess_df[['Class', '2', '9']]\n",
        "\n",
        "x_train, y_train, x_test, y_test = train_test_split(mess_cut_df)\n",
        "\n",
        "knn_model = KNN(K = 3)\n",
        "\n",
        "# fits the model to the training data, then tests the model on the test\n",
        "# data for K = 3\n",
        "class_prob, knn_arr = knn_model.fit(x_train, y_train).predict(x_test)\n",
        "\n",
        "# outputs an array of the most liekly class label for each instance in x_test\n",
        "class_pred = np.argmax(class_prob, axis = -1)\n",
        "\n",
        "# finds the accuracy of the model\n",
        "accuracy = evaluate_acc(y_test, class_pred)\n",
        "\n",
        "# creates boolean arrays to represent correct and incorrect predictions\n",
        "correct_pred = class_pred == y_test\n",
        "incorrect_pred = np.logical_not(correct_pred)\n",
        "\n",
        "print(\"The accuracy of the model is: \" + str(round((accuracy * 100), 2)) + \"%\")\n",
        "\n",
        "plt.scatter(x_train[:, 0], x_train[:, 1], c = y_train, marker = 'o', alpha = 0.2, label = 'train')\n",
        "plt.scatter(x_test[correct_pred, 0], x_test[correct_pred, 1], marker = '.', c = class_pred[correct_pred], label = 'correct')\n",
        "plt.scatter(x_test[incorrect_pred, 0], x_test[incorrect_pred, 1], marker = 'x', c = class_pred[incorrect_pred], label = 'misclassified')\n",
        "\n",
        "for i in range(x_test.shape[0]):\n",
        "  for k in range(knn_model.K):\n",
        "\n",
        "    hor = x_test[i, 0], x_train[knn_arr[i, k], 0]\n",
        "    ver = x_test[i, 1], x_train[knn_arr[i, k], 1]\n",
        "\n",
        "    plt.plot(hor, ver, 'k-', alpha = 0.1)\n",
        "\n",
        "plt.xlabel('2')\n",
        "plt.ylabel('9')\n",
        "plt.legend()\n",
        "plt.show()"
      ]
    },
    {
      "cell_type": "markdown",
      "source": [
        "### Testing different values for K"
      ],
      "metadata": {
        "id": "l2YQZ_f4rOr7"
      }
    },
    {
      "cell_type": "markdown",
      "source": [
        "We must first create a validation set"
      ],
      "metadata": {
        "id": "WxASYYY7sQSF"
      }
    },
    {
      "cell_type": "code",
      "source": [
        "def testDifK(x, y, fileName):\n",
        "  #now we can divide the data into 3 sections: training, validation, testing\n",
        "\n",
        "  x_tr, x_tst, y_tr, y_tst =   train_test_split(x, y, test_size=0.2, random_state=11)\n",
        "  x_tr, x_valid, y_tr, y_valid = train_test_split(x_tr, y_tr, test_size=0.2, random_state=11)\n",
        "  \n",
        "\n",
        "  ### choise of max depth\n",
        "  model_choices=[]\n",
        "  train_acc = []\n",
        "  valid_acc = []\n",
        "\n",
        "  n_train = y_tr.shape[0]\n",
        "  n_valid = y_valid.shape[0]\n",
        "\n",
        "  for k in range(1, 15):\n",
        "      knn = KNN(K=k) # create a knn object (OOP)\n",
        "\n",
        "      y_train_tr_prob,_ = knn.fit(x_tr, y_tr).predict(x_tr)\n",
        "      y_train_tr_pred = np.argmax(y_train_tr_prob, axis=-1)\n",
        "      acc_tr = np.sum(y_train_tr_pred == y_tr)/n_train\n",
        "\n",
        "      y_train_va_prob,_ = knn.fit(x_tr, y_tr).predict(x_valid)\n",
        "      y_train_va_pred = np.argmax(y_train_va_prob, axis=-1)\n",
        "      acc_va = np.sum(y_train_va_pred == y_valid)/n_valid\n",
        "\n",
        "      model_choices.append(k)\n",
        "      train_acc.append(acc_tr)\n",
        "      valid_acc.append(acc_va)\n",
        "\n",
        "  # use the best K to predict test data\n",
        "  best_k = model_choices[valid_acc.index(max(valid_acc))]\n",
        "  knn = KNN(K=best_k)\n",
        "  y_test_prob,_ = knn.fit(x_tr, y_tr).predict(x_tst)\n",
        "\n",
        " \n",
        "\n",
        "  y_test_pred = np.argmax(y_test_prob, axis=-1)\n",
        " \n",
        "  test_accuracy = np.sum(y_test_pred == y_tst)/y_tst.shape[0]\n",
        "  print(f'best depth = {best_k}, test accuracy = {test_accuracy}')\n",
        "\n",
        "  plt.plot(model_choices, train_acc, marker='d', color='black', label='training')\n",
        "  plt.plot(model_choices, valid_acc, marker='o', color='blue', label='validation')\n",
        "  plt.plot(best_k, test_accuracy, marker='*', color='red', label='testing')\n",
        "  plt.xlabel(\"K\")\n",
        "  plt.ylabel(\"Accuracy\")\n",
        "  plt.legend(loc='best')\n",
        "  plt.savefig(fileName,dpi=300,bbox_inches='tight')"
      ],
      "metadata": {
        "id": "fK2z-VobqV2i"
      },
      "execution_count": 49,
      "outputs": []
    },
    {
      "cell_type": "markdown",
      "source": [
        "Testing on Hepatitis data"
      ],
      "metadata": {
        "id": "-O7xMSfgtUps"
      }
    },
    {
      "cell_type": "code",
      "source": [
        "from sklearn.model_selection import train_test_split\n",
        "np.random.seed(1234)\n",
        "x = hep_df.iloc[:, :-1].to_numpy()\n",
        "y = np.ravel((hep_df.iloc[:, -1:]).to_numpy())\n",
        "testDifK(x, y, 'hep_knn_chooseK.png')"
      ],
      "metadata": {
        "colab": {
          "base_uri": "https://localhost:8080/",
          "height": 297
        },
        "id": "D2qHfC8MtP24",
        "outputId": "db1638a6-4ecb-4390-eea1-d736f43fa294"
      },
      "execution_count": 57,
      "outputs": [
        {
          "output_type": "stream",
          "name": "stdout",
          "text": [
            "best depth = 1, test accuracy = 0.7241379310344828\n"
          ]
        },
        {
          "output_type": "display_data",
          "data": {
            "text/plain": [
              "<Figure size 432x288 with 1 Axes>"
            ],
            "image/png": "[encoded data removed]"
          },
          "metadata": {
            "needs_background": "light"
          }
        }
      ]
    },
    {
      "cell_type": "markdown",
      "source": [
        "Testing on Messiador feature data"
      ],
      "metadata": {
        "id": "kcl9ugXutZMz"
      }
    },
    {
      "cell_type": "code",
      "source": [
        "from sklearn.model_selection import train_test_split\n",
        "np.random.seed(1234)\n",
        "x = mess_df.iloc[:, :-1].to_numpy()\n",
        "y = np.ravel((mess_df.iloc[:, -1:]).to_numpy())\n",
        "testDifK(x, y, 'mess_knn_chooseK.png')"
      ],
      "metadata": {
        "colab": {
          "base_uri": "https://localhost:8080/",
          "height": 297
        },
        "id": "V8mRA4gMtczR",
        "outputId": "6df0c997-af51-463a-81bf-1285f41e88a7"
      },
      "execution_count": 51,
      "outputs": [
        {
          "output_type": "stream",
          "name": "stdout",
          "text": [
            "best depth = 12, test accuracy = 0.6804123711340206\n"
          ]
        },
        {
          "output_type": "display_data",
          "data": {
            "text/plain": [
              "<Figure size 432x288 with 1 Axes>"
            ],
            "image/png": "[encoded data removed]"
          },
          "metadata": {
            "needs_background": "light"
          }
        }
      ]
    },
    {
      "cell_type": "markdown",
      "source": [
        "### Using different distance functions"
      ],
      "metadata": {
        "id": "dV2FEAJB6Mbc"
      }
    },
    {
      "cell_type": "code",
      "source": [
        "### running KNN on hep_df data for all data\n",
        "\n",
        "# splits the data\n",
        "x_train, y_train, x_test, y_test = train_test_split(hep_df)\n",
        "\n",
        "def distTest(k, function, x_train, y_train, x_test, y_test):\n",
        "  # creates a new KNN model using euclidean distance\n",
        "  knn_model = KNN(K = k, dist_fn=function)\n",
        "  # fits the model to the training data, then tests the model on the test\n",
        "  # data for K = 3\n",
        "  class_prob, knn_arr = knn_model.fit(x_train, y_train).predict(x_test)\n",
        "  # outputs an array of the most likely class labels for each instance in x_test\n",
        "  class_pred = np.argmax(class_prob, axis = -1)\n",
        "  # finds the accuracy of the model\n",
        "  accuracy = evaluate_acc(y_test, class_pred)\n",
        "  return accuracy\n",
        "\n",
        "euclid1_accuracy = distTest(k=1, function = euclidean, x_train = x_train, y_train = y_train, x_test= x_test, y_test=y_test)\n",
        "manhat1_accuracy = distTest(k=1, function = manhattan, x_train = x_train, y_train = y_train, x_test= x_test, y_test=y_test)\n",
        "\n",
        "euclid3_accuracy = distTest(k=3, function = euclidean, x_train = x_train, y_train = y_train, x_test= x_test, y_test=y_test)\n",
        "manhat3_accuracy = distTest(k=3, function = manhattan, x_train = x_train, y_train = y_train, x_test= x_test, y_test=y_test)\n",
        "\n",
        "euclid5_accuracy = distTest(k=5, function = euclidean, x_train = x_train, y_train = y_train, x_test= x_test, y_test=y_test)\n",
        "manhat5_accuracy = distTest(k=5, function = manhattan, x_train = x_train, y_train = y_train, x_test= x_test, y_test=y_test)\n",
        "\n",
        "print(\"k = 1\")\n",
        "print(\"The accuracy of the euclidean model is: \" + str(round((euclid1_accuracy * 100), 2)) + \"%\")\n",
        "print(\"The accuracy of the manhattan model is: \" + str(round((manhat1_accuracy * 100), 2)) + \"%\")\n",
        "\n",
        "print(\"k = 3\")\n",
        "print(\"The accuracy of the euclidean model is: \" + str(round((euclid3_accuracy * 100), 2)) + \"%\")\n",
        "print(\"The accuracy of the manhattan model is: \" + str(round((manhat3_accuracy * 100), 2)) + \"%\")\n",
        "\n",
        "print(\"k = 5\")\n",
        "print(\"The accuracy of the euclidean model is: \" + str(round((euclid5_accuracy * 100), 2)) + \"%\")\n",
        "print(\"The accuracy of the manhattan model is: \" + str(round((manhat5_accuracy * 100), 2)) + \"%\")"
      ],
      "metadata": {
        "id": "dTpwaTTo6gmv"
      },
      "execution_count": null,
      "outputs": []
    },
    {
      "cell_type": "code",
      "source": [
        "### using different dist functions on mess_df\n",
        "x_train, y_train, x_test, y_test = train_test_split(mess_df)\n",
        "\n",
        "euclid1_accuracy = distTest(k=1, function = euclidean, x_train = x_train, y_train = y_train, x_test= x_test, y_test=y_test)\n",
        "manhat1_accuracy = distTest(k=1, function = manhattan, x_train = x_train, y_train = y_train, x_test= x_test, y_test=y_test)\n",
        "\n",
        "euclid3_accuracy = distTest(k=3, function = euclidean, x_train = x_train, y_train = y_train, x_test= x_test, y_test=y_test)\n",
        "manhat3_accuracy = distTest(k=3, function = manhattan, x_train = x_train, y_train = y_train, x_test= x_test, y_test=y_test)\n",
        "\n",
        "euclid5_accuracy = distTest(k=5, function = euclidean, x_train = x_train, y_train = y_train, x_test= x_test, y_test=y_test)\n",
        "manhat5_accuracy = distTest(k=5, function = manhattan, x_train = x_train, y_train = y_train, x_test= x_test, y_test=y_test)\n",
        "\n",
        "print(\"k = 1\")\n",
        "print(\"The accuracy of the euclidean model is: \" + str(round((euclid1_accuracy * 100), 2)) + \"%\")\n",
        "print(\"The accuracy of the manhattan model is: \" + str(round((manhat1_accuracy * 100), 2)) + \"%\")\n",
        "\n",
        "print(\"k = 3\")\n",
        "print(\"The accuracy of the euclidean model is: \" + str(round((euclid3_accuracy * 100), 2)) + \"%\")\n",
        "print(\"The accuracy of the manhattan model is: \" + str(round((manhat3_accuracy * 100), 2)) + \"%\")\n",
        "\n",
        "print(\"k = 5\")\n",
        "print(\"The accuracy of the euclidean model is: \" + str(round((euclid5_accuracy * 100), 2)) + \"%\")\n",
        "print(\"The accuracy of the manhattan model is: \" + str(round((manhat5_accuracy * 100), 2)) + \"%\")"
      ],
      "metadata": {
        "id": "MiXMxxnSBNy8"
      },
      "execution_count": null,
      "outputs": []
    },
    {
      "cell_type": "markdown",
      "source": [
        "### Decision Boundaries"
      ],
      "metadata": {
        "id": "MDU_px5crtld"
      }
    },
    {
      "cell_type": "markdown",
      "source": [
        "To plot decision boundaries, we will use the best two features to fit the model and predict it. We do so because it would not be possible to plot all features on a 2d graph. Alternatively we could have chosen to use dimensionality reduction but we believe this serves to better illustrate the effects of the most important features."
      ],
      "metadata": {
        "id": "RRRMYUiGY0bv"
      }
    },
    {
      "cell_type": "code",
      "execution_count": null,
      "metadata": {
        "id": "WZenKHiL01T_"
      },
      "outputs": [],
      "source": [
        "### plotting decision boundary\n",
        "#Here we use a subset of the data to only include the two best features that were found earlier\n",
        "\n",
        "x_db = hep_df[[\"ALBUMIN\", \"BILIRUBIN\"]].to_numpy()\n",
        "y_db = np.ravel((hep_df.iloc[:, -1:]).to_numpy())\n",
        "\n",
        "\n",
        "def dbDraw(x,y, x0label, x1label):\n",
        "  x_tr, x_tst, y_tr, y_tst =   train_test_split(x, y, test_size=0.2, random_state=11)\n",
        "\n",
        "  #we can make the grid finer by increasing the number of samples from 200 to higher value\n",
        "  x0v = np.linspace(np.min(x[:,0]), np.max(x[:,0]), 200)\n",
        "  x1v = np.linspace(np.min(x[:,1]), np.max(x[:,1]), 200)\n",
        "\n",
        "  # to features values as a mesh  \n",
        "  x0, x1 = np.meshgrid(x0v, x1v)\n",
        "  x_all = np.vstack((x0.ravel(),x1.ravel())).T\n",
        "\n",
        "  #Number of classes:\n",
        "  C = np.max(y)+1\n",
        "  # Getting coloring for y\n",
        "  y_train_prob = np.zeros((y_tr.shape[0], C))\n",
        "  y_train_prob[np.arange(y_tr.shape[0]), y_tr] = 1\n",
        "\n",
        "  model = KNN(K = 1)\n",
        "  #to get class probability of all the points in the 2D grid\n",
        "  y_prob_all, _ = model.fit(x_tr, y_tr).predict(x_all)\n",
        "  y_pred_all = np.argmax(y_prob_all,axis=-1)\n",
        "\n",
        "  #lastly we need to graph the results\n",
        "  plt.scatter(x_tr[:,0], x_tr[:,1], c=y_tr, marker='o', alpha=1)\n",
        "  plt.scatter(x_all[:,0], x_all[:,1], c=y_pred_all, marker='.', alpha=.01)\n",
        "  plt.ylabel(x1label)\n",
        "  plt.xlabel(x0label)\n",
        "  plt.show()\n",
        "\n",
        "dbDraw(x_db, y_db, \"Albumin\", \"Bilirubin\")"
      ]
    },
    {
      "cell_type": "code",
      "source": [
        "x_db = mess_df[[\"2\", \"8\"]].to_numpy()\n",
        "y_db = mess_df[\"Class\"].to_numpy()\n",
        "\n",
        "dbDraw(x_db, y_db, \"2\", \"8\")"
      ],
      "metadata": {
        "id": "o3U54mDkozgZ"
      },
      "execution_count": null,
      "outputs": []
    },
    {
      "cell_type": "markdown",
      "source": [
        "### Feature Importance"
      ],
      "metadata": {
        "id": "UH0AJAnX-rl5"
      }
    },
    {
      "cell_type": "markdown",
      "source": [
        "For feature importance we will employ a simple approach. We will first train a model using a training set. We will then use that model predict the labels of the training set. Afterwards we can fit a random forest (could be linear regression as well) model on the training input and the predicted output. From there we can extract the importances of this new model to see how the original model weighs the importance of each individual to make its prediction.\n",
        "Essentially\n",
        "$$knn.fit(x_{train}, y_{train}).predict(x_{train}) = \\hat y, \\space importance = RandomForest.fit(x_{train}, \\hat y).featureImportances$$"
      ],
      "metadata": {
        "id": "Zy26nHsk-vA9"
      }
    },
    {
      "cell_type": "code",
      "source": [
        "#we use k!=1, otherwise y_pred = y\n",
        "def knnFeatImportance(x_train, y_train):\n",
        "  knn = KNN(K = 3)\n",
        "  y_pred = knn.fit(x_train,y_train).predict(x_train)\n",
        "  RF_find_featuresXY(x_train, y_pred)\n",
        "\n"
      ],
      "metadata": {
        "id": "X1FlrtnJBvE8"
      },
      "execution_count": null,
      "outputs": []
    },
    {
      "cell_type": "code",
      "source": [
        "#hep"
      ],
      "metadata": {
        "id": "xnYPuvhxDdSc"
      },
      "execution_count": null,
      "outputs": []
    },
    {
      "cell_type": "code",
      "source": [
        "#mess"
      ],
      "metadata": {
        "id": "7m5jNzGnDdjw"
      },
      "execution_count": null,
      "outputs": []
    },
    {
      "cell_type": "markdown",
      "source": [
        "## DT experiments"
      ],
      "metadata": {
        "id": "MPKaxl_Ynx2P"
      }
    },
    {
      "cell_type": "markdown",
      "source": [
        "### Baseline accuracy tests"
      ],
      "metadata": {
        "id": "j_M_9TNcpzar"
      }
    },
    {
      "cell_type": "code",
      "execution_count": null,
      "metadata": {
        "id": "HZzVFXwC2A6q"
      },
      "outputs": [],
      "source": [
        "### running DT on hepatitis.data\n",
        "\n",
        "x_train, y_train, x_test, y_test = train_test_split(df = hep_df)\n",
        "\n",
        "dt_model = DecisionTree(max_depth = 10)\n",
        "\n",
        "# fits the model to the training data, then tests the model on the test\n",
        "# data for K = 3\n",
        "class_probs = dt_model.fit(x_train, y_train).predict(x_test)\n",
        "\n",
        "# outputs an array of the most liekly class label for each instance in x_test\n",
        "class_pred = np.argmax(class_probs, axis = 1)\n",
        "\n",
        "# finds the accuracy of the model\n",
        "accuracy = evaluate_acc(y_test, class_pred)\n",
        "\n",
        "# creates boolean arrays to represent correct and incorrect predictions\n",
        "correct_pred = class_pred == y_test\n",
        "incorrect_pred = np.logical_not(correct_pred)\n",
        "\n",
        "print(accuracy)\n"
      ]
    },
    {
      "cell_type": "code",
      "execution_count": null,
      "metadata": {
        "id": "d2rfyd8QnXCD"
      },
      "outputs": [],
      "source": [
        "### running DT on messidor_features.arff\n",
        "\n",
        "x_train, y_train, x_test, y_test = train_test_split(df = mess_df)\n",
        "\n",
        "dt_model = DecisionTree(max_depth = 10)\n",
        "\n",
        "# fits the model to the training data, then tests the model on the test\n",
        "# data for K = 3\n",
        "class_probs = dt_model.fit(x_train, y_train).predict(x_test)\n",
        "\n",
        "# outputs an array of the most liekly class label for each instance in x_test\n",
        "class_pred = np.argmax(class_probs, axis = 1)\n",
        "\n",
        "# finds the accuracy of the model\n",
        "accuracy = evaluate_acc(y_test, class_pred)\n",
        "\n",
        "# creates boolean arrays to represent correct and incorrect predictions\n",
        "correct_pred = class_pred == y_test\n",
        "incorrect_pred = np.logical_not(correct_pred)\n",
        "\n",
        "print(accuracy)"
      ]
    },
    {
      "cell_type": "markdown",
      "source": [
        "### Testing different values for maximum tree depth"
      ],
      "metadata": {
        "id": "JVBxQIi_juaI"
      }
    },
    {
      "cell_type": "code",
      "source": [
        "#Hep data\n",
        "from sklearn.model_selection import train_test_split\n",
        "np.random.seed(1234)\n",
        "X = hep_df.iloc[:, :-1].to_numpy()\n",
        "Y = np.ravel((hep_df.iloc[:, -1:]).to_numpy())\n",
        "\n",
        "def testDifDepth(x, y, saveName):\n",
        "  #now we can divide the data into 3 sections: training, validation, testing\n",
        "\n",
        "  x_tr, x_tst, y_tr, y_tst =   train_test_split(x, y, test_size=0.2, random_state=11)\n",
        "  x_tr, x_valid, y_tr, y_valid = train_test_split(x_tr, y_tr, test_size=0.2, random_state=11)\n",
        "  \n",
        "\n",
        "  ### choise of max depth\n",
        "  model_choices=[]\n",
        "  train_acc = []\n",
        "  valid_acc = []\n",
        "\n",
        "  n_train = y_tr.shape[0]\n",
        "  n_valid = y_valid.shape[0]\n",
        "\n",
        "  for k in range(1, 15):\n",
        "      dt = DecisionTree(max_depth=k, cost_fn=cost_gini_index) # create a DT object (OOP)\n",
        "\n",
        "      y_train_tr_prob = dt.fit(x_tr, y_tr).predict(x_tr)\n",
        "      y_train_tr_pred = np.argmax(y_train_tr_prob, axis=-1)\n",
        "      acc_tr = np.sum(y_train_tr_pred == y_tr)/n_train\n",
        "\n",
        "      y_train_va_prob = dt.fit(x_tr, y_tr).predict(x_valid)\n",
        "      y_train_va_pred = np.argmax(y_train_va_prob, axis=-1)\n",
        "      acc_va = np.sum(y_train_va_pred == y_valid)/n_valid\n",
        "\n",
        "      model_choices.append(k)\n",
        "      train_acc.append(acc_tr)\n",
        "      valid_acc.append(acc_va)\n",
        "\n",
        "  # use the best K to predict test data\n",
        "  best_depth = model_choices[valid_acc.index(max(valid_acc))]\n",
        "  dt = DecisionTree(max_depth=best_depth, cost_fn=cost_gini_index)\n",
        "  y_test_prob = dt.fit(x_train, y_train).predict(x_tst)\n",
        "\n",
        " \n",
        "\n",
        "  y_test_pred = np.argmax(y_test_prob, axis=-1)\n",
        " \n",
        "  test_accuracy = np.sum(y_test_pred == y_tst)/y_tst.shape[0]\n",
        "  print(f'best depth = {best_depth}, test accuracy = {test_accuracy}')\n",
        "\n",
        "  plt.plot(model_choices, train_acc, marker='d', color='black', label='training')\n",
        "  plt.plot(model_choices, valid_acc, marker='o', color='blue', label='validation')\n",
        "  plt.plot(best_depth, test_accuracy, marker='*', color='red', label='testing')\n",
        "  plt.xlabel(\"Tree depth\")\n",
        "  plt.ylabel(\"Accuracy\")\n",
        "  plt.legend(loc='best')\n",
        "  plt.savefig(saveName,dpi=300,bbox_inches='tight')\n",
        "\n",
        "testDifDepth(X, Y, 'hep_DT_chooseDepth.png')"
      ],
      "metadata": {
        "id": "PRlkQ23WFXTR"
      },
      "execution_count": null,
      "outputs": []
    },
    {
      "cell_type": "code",
      "source": [
        "### Messador data\n",
        "np.random.seed(123)\n",
        "X = mess_df.iloc[:, :-1].to_numpy()\n",
        "Y = np.ravel((mess_df.iloc[:, -1:]).to_numpy())\n",
        "\n",
        "testDifDepth(X, Y, 'mess_DT_chooseDepth.png')"
      ],
      "metadata": {
        "id": "OSZoKpbMED9E"
      },
      "execution_count": null,
      "outputs": []
    },
    {
      "cell_type": "code",
      "source": [
        "from sklearn.tree import DecisionTreeClassifier\n",
        "\n",
        "\n",
        "\n",
        "np.random.seed(123)\n",
        "x = hep_df.iloc[:, :-1].to_numpy()\n",
        "y = np.ravel((hep_df.iloc[:, -1:]).to_numpy())\n",
        "#now we can divide the data into 3 sections: training, validation, testing\n",
        "\n",
        "x_tr, x_tst, y_tr, y_tst =   train_test_split(x, y, test_size=0.2, random_state=11)\n",
        "x_tr, x_valid, y_tr, y_valid = train_test_split(x_tr, y_tr, test_size=0.2, random_state=11)\n",
        "\n",
        "\n",
        "### choise of max depth\n",
        "model_choices=[]\n",
        "valid_acc = []\n",
        "\n",
        "n_valid = y_valid.shape[0]\n",
        "\n",
        "for k in range(1,15):\n",
        "    dt_model = DecisionTreeClassifier(max_depth = k ) # create a KNN object \n",
        "    fit = dt_model.fit(x_tr, y_tr)\n",
        "    y_train_va_prob = fit.predict(x_valid)\n",
        "    y_train_va_pred = np.argmax(y_train_va_prob,axis=-1)\n",
        "    accuracy = np.sum(y_train_va_pred == y_valid)/n_valid\n",
        "    model_choices.append(k)\n",
        "    valid_acc.append(accuracy)\n",
        "\n",
        "# use the best K to predict test data\n",
        "best_valid_K = model_choices[valid_acc.index(max(valid_acc))]\n",
        "dt = DecisionTreeClassifier(max_depth=best_valid_K)\n",
        "y_test_pred  = dt.fit(x_tr, y_tr).predict(x_tst)\n",
        "\n",
        "test_accuracy = np.sum(y_test_pred == y_tst)/y_tst.shape[0]\n",
        "print(y_test_pred)\n",
        "print(y_tst)\n",
        "print(f'best K = {best_valid_K}, test accuracy = {test_accuracy}')\n",
        "\n",
        "plt.plot(model_choices, valid_acc, marker='o', color='blue', label='validation')\n",
        "plt.plot(best_valid_K, test_accuracy, marker='*', color='red', label='testing')\n",
        "plt.xlabel(\"K\")\n",
        "plt.ylabel(\"Accuracy\")\n",
        "plt.legend(loc='best')\n",
        "plt.savefig('iris_KNN_chooseK.png',dpi=300,bbox_inches='tight')"
      ],
      "metadata": {
        "id": "ypPPbZcArUIC"
      },
      "execution_count": null,
      "outputs": []
    },
    {
      "cell_type": "code",
      "source": [],
      "metadata": {
        "id": "ZwKpJ34rJr2C"
      },
      "execution_count": null,
      "outputs": []
    },
    {
      "cell_type": "markdown",
      "source": [
        "### Using different cost functions"
      ],
      "metadata": {
        "id": "fFXfubqxJsKS"
      }
    },
    {
      "cell_type": "code",
      "source": [
        "### running KNN on hep_df data for all data\n",
        "\n",
        "# splits the data\n",
        "x_train, y_train, x_test, y_test = train_test_split(hep_df)\n",
        "\n",
        "def costTest(k, function, x_train, y_train, x_test, y_test):\n",
        "  # creates a new KNN model using euclidean distance\n",
        "  dt_model = DecisionTree(max_depth= k, cost_fn= function)\n",
        "  # fits the model to the training data, then tests the model on the test\n",
        "  # data for K = 3\n",
        "  class_prob = dt_model.fit(x_train, y_train).predict(x_test)\n",
        "  # outputs an array of the most likely class labels for each instance in x_test\n",
        "  class_pred = np.argmax(class_prob, axis = -1)\n",
        "  # finds the accuracy of the model\n",
        "  accuracy = evaluate_acc(y_test, class_pred)\n",
        "  return accuracy\n",
        "\n",
        "GI1_accuracy = costTest(k=1, function = cost_gini_index, x_train = x_train, y_train = y_train, x_test= x_test, y_test=y_test)\n",
        "miss1_accuracy = costTest(k=1, function = cost_misclassification, x_train = x_train, y_train = y_train, x_test= x_test, y_test=y_test)\n",
        "ent1_accuracy = costTest(k=1, function = cost_entropy, x_train = x_train, y_train = y_train, x_test= x_test, y_test=y_test)\n",
        "\n",
        "GI3_accuracy = costTest(k=3, function = cost_gini_index, x_train = x_train, y_train = y_train, x_test= x_test, y_test=y_test)\n",
        "miss3_accuracy = costTest(k=3, function = cost_misclassification, x_train = x_train, y_train = y_train, x_test= x_test, y_test=y_test)\n",
        "ent3_accuracy = costTest(k=3, function = cost_entropy, x_train = x_train, y_train = y_train, x_test= x_test, y_test=y_test)\n",
        "\n",
        "GI5_accuracy = costTest(k=5, function = cost_gini_index, x_train = x_train, y_train = y_train, x_test= x_test, y_test=y_test)\n",
        "miss5_accuracy = costTest(k=5, function = cost_misclassification, x_train = x_train, y_train = y_train, x_test= x_test, y_test=y_test)\n",
        "ent5_accuracy = costTest(k=5, function = cost_entropy, x_train = x_train, y_train = y_train, x_test= x_test, y_test=y_test)\n",
        "\n",
        "print(\"k = 1\")\n",
        "print(\"The accuracy of the gini model is: \" + str(round((GI1_accuracy * 100), 2)) + \"%\")\n",
        "print(\"The accuracy of the missclasification model is: \" + str(round((miss1_accuracy * 100), 2)) + \"%\")\n",
        "print(\"The accuracy of the entropy model is: \" + str(round((ent1_accuracy * 100), 2)) + \"%\")\n",
        "\n",
        "print(\"k = 3\")\n",
        "print(\"The accuracy of the gini model is: \" + str(round((GI3_accuracy * 100), 2)) + \"%\")\n",
        "print(\"The accuracy of the missclasification model is: \" + str(round((miss3_accuracy * 100), 2)) + \"%\")\n",
        "print(\"The accuracy of the entropy model is: \" + str(round((ent3_accuracy * 100), 2)) + \"%\")\n",
        "\n",
        "print(\"k = 5\")\n",
        "print(\"The accuracy of the gini model is: \" + str(round((GI5_accuracy * 100), 2)) + \"%\")\n",
        "print(\"The accuracy of the missclasification model is: \" + str(round((miss5_accuracy * 100), 2)) + \"%\")\n",
        "print(\"The accuracy of the entropy model is: \" + str(round((ent5_accuracy * 100), 2)) + \"%\")"
      ],
      "metadata": {
        "id": "ENCDTmzSJsKS"
      },
      "execution_count": null,
      "outputs": []
    },
    {
      "cell_type": "code",
      "source": [
        "# splits the data\n",
        "x_train, y_train, x_test, y_test = train_test_split(mess_df)\n",
        "GI1_accuracy = costTest(k=1, function = cost_gini_index, x_train = x_train, y_train = y_train, x_test= x_test, y_test=y_test)\n",
        "miss1_accuracy = costTest(k=1, function = cost_misclassification, x_train = x_train, y_train = y_train, x_test= x_test, y_test=y_test)\n",
        "ent1_accuracy = costTest(k=1, function = cost_entropy, x_train = x_train, y_train = y_train, x_test= x_test, y_test=y_test)\n",
        "\n",
        "GI3_accuracy = costTest(k=3, function = cost_gini_index, x_train = x_train, y_train = y_train, x_test= x_test, y_test=y_test)\n",
        "miss3_accuracy = costTest(k=3, function = cost_misclassification, x_train = x_train, y_train = y_train, x_test= x_test, y_test=y_test)\n",
        "ent3_accuracy = costTest(k=3, function = cost_entropy, x_train = x_train, y_train = y_train, x_test= x_test, y_test=y_test)\n",
        "\n",
        "GI5_accuracy = costTest(k=5, function = cost_gini_index, x_train = x_train, y_train = y_train, x_test= x_test, y_test=y_test)\n",
        "miss5_accuracy = costTest(k=5, function = cost_misclassification, x_train = x_train, y_train = y_train, x_test= x_test, y_test=y_test)\n",
        "ent5_accuracy = costTest(k=5, function = cost_entropy, x_train = x_train, y_train = y_train, x_test= x_test, y_test=y_test)\n",
        "\n",
        "print(\"k = 1\")\n",
        "print(\"The accuracy of the gini model is: \" + str(round((GI1_accuracy * 100), 2)) + \"%\")\n",
        "print(\"The accuracy of the missclasification model is: \" + str(round((miss1_accuracy * 100), 2)) + \"%\")\n",
        "print(\"The accuracy of the entropy model is: \" + str(round((ent1_accuracy * 100), 2)) + \"%\")\n",
        "\n",
        "print(\"k = 3\")\n",
        "print(\"The accuracy of the gini model is: \" + str(round((GI3_accuracy * 100), 2)) + \"%\")\n",
        "print(\"The accuracy of the missclasification model is: \" + str(round((miss3_accuracy * 100), 2)) + \"%\")\n",
        "print(\"The accuracy of the entropy model is: \" + str(round((ent3_accuracy * 100), 2)) + \"%\")\n",
        "\n",
        "print(\"k = 5\")\n",
        "print(\"The accuracy of the gini model is: \" + str(round((GI5_accuracy * 100), 2)) + \"%\")\n",
        "print(\"The accuracy of the missclasification model is: \" + str(round((miss5_accuracy * 100), 2)) + \"%\")\n",
        "print(\"The accuracy of the entropy model is: \" + str(round((ent5_accuracy * 100), 2)) + \"%\")"
      ],
      "metadata": {
        "id": "cViXVi6EMZqU"
      },
      "execution_count": null,
      "outputs": []
    },
    {
      "cell_type": "markdown",
      "source": [
        "### Decision Boundaries"
      ],
      "metadata": {
        "id": "MZVIe3IxqIAU"
      }
    },
    {
      "cell_type": "markdown",
      "source": [
        "To plot decision boundaries, we will use the best two features to fit the model and predict it. We do so because it would not be possible to plot all features on a 2d graph. Alternatively we could have chosen to use dimensionality reduction but we believe this serves to better illustrate the effects of the most important features."
      ],
      "metadata": {
        "id": "MMZVePyRqIAV"
      }
    },
    {
      "cell_type": "code",
      "execution_count": null,
      "metadata": {
        "id": "Osndfi-FqIAV"
      },
      "outputs": [],
      "source": [
        "### plotting decision boundary\n",
        "#Here we use a subset of the data to only include the two best features that were found earlier\n",
        "\n",
        "x_db = hep_df[[\"ALBUMIN\", \"BILIRUBIN\"]].to_numpy()\n",
        "y_db = np.ravel((hep_df.iloc[:, -1:]).to_numpy())\n",
        "print(x_db[:5])\n",
        "print(y_db[:5])\n",
        "\n",
        "\n",
        "def dbDraw(x,y, x0label, x1label):\n",
        "  x_tr, x_tst, y_tr, y_tst =   train_test_split(x, y, test_size=0.2, random_state=11)\n",
        "\n",
        "  #we can make the grid finer by increasing the number of samples from 200 to higher value\n",
        "  x0v = np.linspace(np.min(x[:,0]), np.max(x[:,0]), 200)\n",
        "  x1v = np.linspace(np.min(x[:,1]), np.max(x[:,1]), 200)\n",
        "\n",
        "  # to features values as a mesh  \n",
        "  x0, x1 = np.meshgrid(x0v, x1v)\n",
        "  x_all = np.vstack((x0.ravel(),x1.ravel())).T\n",
        "\n",
        "  #Number of classes:\n",
        "  C = np.max(y)+1\n",
        "  # Getting coloring for y\n",
        "  y_train_prob = np.zeros((y_tr.shape[0], C))\n",
        "  y_train_prob[np.arange(y_tr.shape[0]), y_tr] = 1\n",
        "\n",
        "  model = DecisionTree(max_depth= 10, cost_fn=cost_gini_index)\n",
        "  #to get class probability of all the points in the 2D grid\n",
        "  y_prob_all = model.fit(x_tr, y_tr).predict(x_all)\n",
        "  y_pred_all = np.argmax(y_prob_all,axis=-1)\n",
        "\n",
        "  #lastly we need to graph the results\n",
        "  plt.scatter(x_tr[:,0], x_tr[:,1], c=y_tr, marker='o', alpha=1)\n",
        "  plt.scatter(x_all[:,0], x_all[:,1], c=y_pred_all, marker='.', alpha=.01)\n",
        "  plt.ylabel(x1label)\n",
        "  plt.xlabel(x0label)\n",
        "  plt.show()\n",
        "\n",
        "print(len(x_db))\n",
        "print(len(y_db))\n",
        "dbDraw(x_db, y_db, \"Albumin\", \"Bilirubin\")"
      ]
    },
    {
      "cell_type": "code",
      "source": [
        "x_db = mess_df[[\"2\", \"8\"]].to_numpy()\n",
        "y_db = mess_df[\"Class\"].to_numpy()\n",
        "\n",
        "dbDraw(x_db, y_db, \"2\", \"8\")"
      ],
      "metadata": {
        "id": "HTFJlUYtqIAV"
      },
      "execution_count": null,
      "outputs": []
    },
    {
      "cell_type": "markdown",
      "source": [
        "### Feature Importance"
      ],
      "metadata": {
        "id": "06VAZauEDmAc"
      }
    },
    {
      "cell_type": "markdown",
      "source": [
        "For feature importance we will employ a simple approach. We will first train a model using a training set. We will then use that model predict the labels of the training set. Afterwards we can fit a random forest (could be linear regression as well) model on the training input and the predicted output. From there we can extract the importances of this new model to see how the original model weighs the importance of each individual to make its prediction.\n",
        "Essentially\n",
        "$$dt.fit(x_{train}, y_{train}).predict(x_{train}) = \\hat y, \\space importance = RandomForest.fit(x_{train}, \\hat y).featureImportances$$"
      ],
      "metadata": {
        "id": "WJD8YjevDmAd"
      }
    },
    {
      "cell_type": "code",
      "source": [
        "def dtFeatImportance(x_train, y_train):\n",
        "  dt = DecisionTree(max_depth= 10, cost_fn = cost_gini_index)\n",
        "  y_pred = dt.fit(x_train,y_train).predict(x_train)\n",
        "  RF_find_featuresXY(x_train, y_pred)\n",
        "\n"
      ],
      "metadata": {
        "id": "07wKRA2pDmAd"
      },
      "execution_count": null,
      "outputs": []
    },
    {
      "cell_type": "code",
      "source": [
        "#hep\n"
      ],
      "metadata": {
        "id": "VZRCG2yPDmAd"
      },
      "execution_count": null,
      "outputs": []
    },
    {
      "cell_type": "code",
      "source": [
        "#mess"
      ],
      "metadata": {
        "id": "udxXcmbcDmAd"
      },
      "execution_count": null,
      "outputs": []
    }
  ],
  "metadata": {
    "colab": {
      "collapsed_sections": [],
      "provenance": [],
      "include_colab_link": true
    },
    "kernelspec": {
      "display_name": "Python 3",
      "name": "python3"
    },
    "language_info": {
      "name": "python"
    }
  },
  "nbformat": 4,
  "nbformat_minor": 0
}