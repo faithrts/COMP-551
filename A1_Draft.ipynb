{
  "cells": [
    {
      "cell_type": "markdown",
      "metadata": {
        "id": "view-in-github",
        "colab_type": "text"
      },
      "source": [
        "<a href=\"https://colab.research.google.com/github/faithrts/COMP-551/blob/faith-branch-testing/A1_Draft.ipynb\" target=\"_parent\"><img src=\"https://colab.research.google.com/assets/colab-badge.svg\" alt=\"Open In Colab\"/></a>"
      ]
    },
    {
      "cell_type": "markdown",
      "source": [
        "# Set-up"
      ],
      "metadata": {
        "id": "8A1SE2icjh69"
      }
    },
    {
      "cell_type": "code",
      "execution_count": 1,
      "metadata": {
        "id": "VCTCTWgB-NKG"
      },
      "outputs": [],
      "source": [
        "### importing libraries and setting the random seed\n",
        "\n",
        "import numpy as np\n",
        "import pandas as pd\n",
        "\n",
        "%matplotlib inline\n",
        "import matplotlib.pyplot as plt\n",
        "\n",
        "import math\n",
        "import bisect\n",
        "from scipy.stats import zscore\n",
        "from scipy.io import arff\n",
        "from importlib import reload\n",
        "\n",
        "from sklearn import preprocessing\n",
        "from sklearn.datasets import make_regression\n",
        "from sklearn.ensemble import RandomForestRegressor\n",
        "\n",
        "np.random.seed(1234)"
      ]
    },
    {
      "cell_type": "markdown",
      "source": [
        "# Data Handling"
      ],
      "metadata": {
        "id": "hKHZWj9vjn1j"
      }
    },
    {
      "cell_type": "markdown",
      "source": [
        "## Importing"
      ],
      "metadata": {
        "id": "FsaKjKTqjylr"
      }
    },
    {
      "cell_type": "code",
      "execution_count": 2,
      "metadata": {
        "colab": {
          "base_uri": "https://localhost:8080/"
        },
        "id": "JrnSxLmFTCp9",
        "outputId": "28be0e7c-1724-4f81-eec5-65d14960b643"
      },
      "outputs": [
        {
          "output_type": "stream",
          "name": "stdout",
          "text": [
            "--2022-10-06 14:47:48--  http://archive.ics.uci.edu/ml/machine-learning-databases/hepatitis/hepatitis.data\n",
            "Resolving archive.ics.uci.edu (archive.ics.uci.edu)... 128.195.10.252\n",
            "Connecting to archive.ics.uci.edu (archive.ics.uci.edu)|128.195.10.252|:80... connected.\n",
            "HTTP request sent, awaiting response... 200 OK\n",
            "Length: 7545 (7.4K) [application/x-httpd-php]\n",
            "Saving to: ‘hepatitis.data’\n",
            "\n",
            "\rhepatitis.data        0%[                    ]       0  --.-KB/s               \rhepatitis.data      100%[===================>]   7.37K  --.-KB/s    in 0s      \n",
            "\n",
            "2022-10-06 14:47:48 (388 MB/s) - ‘hepatitis.data’ saved [7545/7545]\n",
            "\n",
            "--2022-10-06 14:47:48--  https://archive.ics.uci.edu/ml/machine-learning-databases/00329/messidor_features.arff\n",
            "Resolving archive.ics.uci.edu (archive.ics.uci.edu)... 128.195.10.252\n",
            "Connecting to archive.ics.uci.edu (archive.ics.uci.edu)|128.195.10.252|:443... connected.\n",
            "HTTP request sent, awaiting response... 200 OK\n",
            "Length: 117224 (114K) [application/x-httpd-php]\n",
            "Saving to: ‘messidor_features.arff’\n",
            "\n",
            "messidor_features.a 100%[===================>] 114.48K  --.-KB/s    in 0.1s    \n",
            "\n",
            "2022-10-06 14:47:49 (808 KB/s) - ‘messidor_features.arff’ saved [117224/117224]\n",
            "\n"
          ]
        }
      ],
      "source": [
        "### importing the files from the web to google colab\n",
        "\n",
        "# hepatitis.data\n",
        "!wget http://archive.ics.uci.edu/ml/machine-learning-databases/hepatitis/hepatitis.data\n",
        "\n",
        "# messidor_features.arff\n",
        "!wget https://archive.ics.uci.edu/ml/machine-learning-databases/00329/messidor_features.arff"
      ]
    },
    {
      "cell_type": "markdown",
      "source": [
        "## Preprocessing"
      ],
      "metadata": {
        "id": "YLKtKHXfky5X"
      }
    },
    {
      "cell_type": "markdown",
      "source": [
        "### Helper functions"
      ],
      "metadata": {
        "id": "MtAHDLEXj2T3"
      }
    },
    {
      "cell_type": "code",
      "source": [
        "def imputation(df, bool_col, non_bool_col):\n",
        "  copy_df = df.copy()\n",
        "\n",
        "  # saves a copy of the dataframe without rows that include '?' values\n",
        "  intact_rows = copy_df[~copy_df.eq('?').any(axis=1)].astype('float')\n",
        "\n",
        "  # iterates through columns with boolean values\n",
        "  for col in bool_col:\n",
        "\n",
        "    # replaces instances of 1.0 and 2.0 with the boolean integers 0 and 1\n",
        "    intact_rows[col] = intact_rows[col].replace({1.0:0, 2.0:1})\n",
        "    # calculates the mode of the current column (ignores '?')\n",
        "    mode = int(intact_rows[col].mode()[0])\n",
        "\n",
        "    # in the original dataframe, replaces each '?' with the column's mode\n",
        "    copy_df[col] = copy_df[col].replace({'?': mode}).astype('int64')\n",
        "    # in the original dataframe, replaces 1.0 and 2.0 with boolean ints 0 and 1\n",
        "    copy_df[col] = copy_df[col].replace({1.0:0, 2.0:1})\n",
        "\n",
        "  # iterates through columns with non-boolean values\n",
        "  for col in non_bool_col:\n",
        "    # calculates the mean of the current column (ignores '?')\n",
        "    mean = intact_rows[col].mean()\n",
        "    # in the original dataframe, replaces each '?' with the column's mean\n",
        "    copy_df[col] = copy_df[col].replace({'?': mean}).astype('float')\n",
        "    \n",
        "  return copy_df"
      ],
      "metadata": {
        "id": "3w_cG7Y_zrMe"
      },
      "execution_count": 103,
      "outputs": []
    },
    {
      "cell_type": "code",
      "execution_count": 82,
      "metadata": {
        "id": "C4jhNoIpYEpq"
      },
      "outputs": [],
      "source": [
        "### computes zcore to remove outlier data\n",
        "def remove_outliers(df):\n",
        "  abs_z_scores = np.abs(df.apply(zscore))\n",
        "\n",
        "  # a boolean array that returns True at index i if the row\n",
        "  # i in df does not contain any values with a zscore greater\n",
        "  # than 3\n",
        "  instance_bool_arr = (abs_z_scores < 3).all(axis = 1)\n",
        "  return df[instance_bool_arr]"
      ]
    },
    {
      "cell_type": "code",
      "execution_count": 153,
      "metadata": {
        "id": "hBDZ8Cxhb_mk"
      },
      "outputs": [],
      "source": [
        "# normalizes an input array\n",
        "def normalize_array(arr):\n",
        "  normalized_array = []\n",
        "\n",
        "  for i in arr:\n",
        "    new_val = (i - min(arr)) / (max(arr) - min(arr))\n",
        "    normalized_array.append(new_val)\n",
        "\n",
        "  return normalized_array\n",
        "\n",
        "# normalizes columns in input dataframe df; \n",
        "# assumes last column is the target labels\n",
        "def normalize_df(df):\n",
        "  normalized_df = df.copy()\n",
        "\n",
        "  for col in normalized_df.iloc[:, :-1]:\n",
        "    normalized_col = normalize_array(df[col])\n",
        "    normalized_df[col] = normalized_col\n",
        "\n",
        "  return normalized_df"
      ]
    },
    {
      "cell_type": "code",
      "execution_count": 154,
      "metadata": {
        "id": "Pkh23nL0rokB"
      },
      "outputs": [],
      "source": [
        "# standardizes columns in input dataframe df;\n",
        "# assumes last column is the target labels\n",
        "def standardize_df(df):\n",
        "  standardized_df = df.copy()\n",
        "\n",
        "  # iterates through each column, excluding the last column\n",
        "  for col in standardized_df.iloc[:, :-1]:\n",
        "\n",
        "    # calculates mean value and standard deviation of column\n",
        "    mean_val = standardized_df[col].mean()\n",
        "    standard_dev = standardized_df[col].std()\n",
        "\n",
        "    # standardizes the values in the current column\n",
        "    standardized_df[col] = (standardized_df[col] - mean_val) / standard_dev\n",
        "\n",
        "  return standardized_df"
      ]
    },
    {
      "cell_type": "code",
      "source": [
        "# counts items in a given range\n",
        "def count_in_ranges(item_arr, range_arr, bins = 10):\n",
        "  count_arr = np.zeros(len(range_arr))\n",
        "\n",
        "  for item in item_arr:\n",
        "    pos = bisect.bisect_left(range_arr, item)\n",
        "    count_arr[pos] += 1\n",
        "\n",
        "  return count_arr\n",
        "\n",
        "# creates histograms for each column in input dataframe df and array of columns\n",
        "# column_arr\n",
        "def create_histograms(df, column_arr = 0):\n",
        "  # if no array of column names given, creates histograms for all columns\n",
        "  if column_arr == 0:\n",
        "    column_arr = list(df)\n",
        "\n",
        "  # iterates through each column name\n",
        "  for col in column_arr:\n",
        "    min = math.floor(df[col].min())\n",
        "    max = math.ceil(df[col].max())\n",
        "    mean = df[col].mean()\n",
        "    \n",
        "    range_arr = np.linspace(min, max + 1, 100)\n",
        "    count_arr = count_in_ranges(df[col].to_numpy(), range_arr)\n",
        "\n",
        "    # plots histogram\n",
        "    plt.figure()\n",
        "    plt.bar(count_arr, range_arr)\n",
        "    plt.title(col.upper())\n",
        "    plt.xlabel(\"Occurrence count\")\n",
        "    plt.ylabel(\"Value\")\n",
        "    plt.axhline(y = mean, color = 'r', linestyle = '-', label = \"Mean = \" + str(round(mean, 2)))\n",
        "    plt.legend(loc = \"upper right\")\n",
        "    plt.show()"
      ],
      "metadata": {
        "id": "1l1eXtlPRcVo"
      },
      "execution_count": 5,
      "outputs": []
    },
    {
      "cell_type": "code",
      "execution_count": 6,
      "metadata": {
        "id": "NaSHTl-L7WfU"
      },
      "outputs": [],
      "source": [
        "### function to split the data\n",
        "\n",
        "# assumes the last column of the df is the target label\n",
        "# assumes percentage_train is an integer out of 100\n",
        "def train_test_split(df, percentage_train = 66):\n",
        "  # makes a copy of the input df\n",
        "  copy_df = df.copy()\n",
        "\n",
        "  # shuffling the order of rows in the input dataframe\n",
        "  copy_df = copy_df.sample(frac = 1, random_state = 1)\n",
        "\n",
        "  # splits the input dataframe into arrays of instances and labels\n",
        "  x, y = copy_df.iloc[:, :-1].to_numpy(), copy_df.iloc[:, -1].to_numpy()\n",
        "\n",
        "  # the number of data points\n",
        "  instance_count = x.shape[0]\n",
        "\n",
        "  # the number of instances to be used in the training data\n",
        "  train_count = int(instance_count * (percentage_train / 100))\n",
        "\n",
        "  # splitting the data into training data and labels,\n",
        "  # and testing data and labels\n",
        "  x_train, y_train = x[:train_count], y[:train_count]\n",
        "  x_test, y_test = x[train_count:], y[train_count:]\n",
        "\n",
        "  return x_train, y_train, x_test, y_test"
      ]
    },
    {
      "cell_type": "code",
      "source": [
        "# random forest for feature importance on a regression problem;\n",
        "# assumes the first column is target labels\n",
        "def RF_find_features(df):\n",
        "  # splitting the data in the input dataframe df\n",
        "  x_train, y_train, x_test, y_test = train_test_split(df)\n",
        "\n",
        "  # define the model\n",
        "  model = RandomForestRegressor()\n",
        "\n",
        "  # fit the model\n",
        "  model.fit(x_train, y_train)\n",
        "\n",
        "  # the value at index i is the feature importance of the\n",
        "  # feature at column i in the dataframe\n",
        "  importance_arr = model.feature_importances_\n",
        "\n",
        "  # summarize feature importance\n",
        "  for i in range(len(importance_arr)):\n",
        "      print('Feature: %s, Score: %.5f' % (list(df.columns)[i], importance_arr[i]))\n",
        "\n",
        "  return importance_arr\n",
        "\n",
        "def plot_feature_importance(importance_arr):\n",
        "  plt.bar([x for x in range(len(importance_arr))], importance_arr)\n",
        "  plt.title(\"Feature importance\")\n",
        "  plt.xlabel(\"Feature index in data\")\n",
        "  plt.ylabel(\"Score\")\n",
        "  plt.show"
      ],
      "metadata": {
        "id": "G-Ioxqrzjc7t"
      },
      "execution_count": 7,
      "outputs": []
    },
    {
      "cell_type": "code",
      "source": [
        "def top_2_features(importance_arr, df):\n",
        "  top_feat_value = max(importance_arr)\n",
        "  top_feat_index = importance_arr.tolist().index(top_feat_value)\n",
        "\n",
        "  second_feat_value = np.max([val for index, val in enumerate(importance_arr) if index != top_feat_index])\n",
        "  second_feat_index = importance_arr.tolist().index(second_feat_value)\n",
        "\n",
        "  print(\"The most important feature is \" + list(df.columns)[top_feat_index])\n",
        "  print(\"The second most important feature is \" + list(df.columns)[second_feat_index])"
      ],
      "metadata": {
        "id": "SNCvI1Xz6v2x"
      },
      "execution_count": 114,
      "outputs": []
    },
    {
      "cell_type": "markdown",
      "source": [
        "### Loading and cleaning hepatitis.data"
      ],
      "metadata": {
        "id": "HQbCrZx0-EgM"
      }
    },
    {
      "cell_type": "code",
      "execution_count": 104,
      "metadata": {
        "id": "vOfc6iLH_ZQ8"
      },
      "outputs": [],
      "source": [
        "### creating the dataframe for hepatitis.data\n",
        "\n",
        "# creates a dataframe from the .data file\n",
        "hep_df = pd.read_csv(\"hepatitis.data\", sep=\",\", header=None)\n",
        "\n",
        "# the column names\n",
        "hep_cols = ['CLASS', 'AGE', 'SEX', 'STEROID','ANTIVIRALS', 'FATIGUE',\n",
        "            'MALAISE', 'ANOREXIA', 'LIVER BIG', 'LIVER FIRM',\n",
        "            'SPLEEN PALPABLE', 'SPIDERS', 'ASCITES', 'VARICES',\n",
        "            'BILIRUBIN', 'ALK PHOSPHATE', 'SGOT', 'ALBUMIN',\n",
        "            'PROTIME', 'HISTOLOGY']\n",
        "\n",
        "# adds the column names to the dataframe\n",
        "hep_df.columns = hep_cols"
      ]
    },
    {
      "cell_type": "code",
      "execution_count": 105,
      "metadata": {
        "id": "urN0iK66trvg"
      },
      "outputs": [],
      "source": [
        "### creating lists to separate the names of columns containing\n",
        "### boolean values vs the ones containing continuous values\n",
        "\n",
        "bool_col = ['CLASS', 'SEX', 'STEROID', 'ANTIVIRALS', 'FATIGUE',\n",
        "            'MALAISE', 'ANOREXIA', 'LIVER BIG', 'LIVER FIRM',\n",
        "            'SPLEEN PALPABLE', 'SPIDERS', 'ASCITES', 'VARICES',\n",
        "            'HISTOLOGY']\n",
        "\n",
        "non_bool_col = ['AGE', 'BILIRUBIN', 'ALK PHOSPHATE', 'SGOT', 'ALBUMIN', 'PROTIME']"
      ]
    },
    {
      "cell_type": "code",
      "execution_count": 106,
      "metadata": {
        "id": "8zQbSQRFu_D5"
      },
      "outputs": [],
      "source": [
        "### cleaning hepatitis dataframe\n",
        "\n",
        "# moves the target \"CLASS\" column to the end of the dataframe\n",
        "class_col = hep_df.pop('CLASS')\n",
        "hep_df['CLASS'] = class_col\n",
        "\n",
        "# saves a copy of the dataframe cleaned through imputation\n",
        "hep_imputation_df = imputation(hep_df, bool_col, non_bool_col)\n",
        "\n",
        "# removes all rows with ?\n",
        "hep_df = hep_df[~hep_df.eq('?').any(axis=1)].astype('float')\n",
        "\n",
        "for col in bool_col:\n",
        "  hep_df[col] = hep_df[col].replace({1.0:0, 2.0:1}).astype('int')\n",
        "\n",
        "hep_df = remove_outliers(hep_df)"
      ]
    },
    {
      "cell_type": "code",
      "source": [
        "hep_imputation_df"
      ],
      "metadata": {
        "colab": {
          "base_uri": "https://localhost:8080/",
          "height": 505
        },
        "id": "0tNmy63M3OA7",
        "outputId": "50fa91b2-1d85-4bc0-bba1-3f5dc697ec52"
      },
      "execution_count": 107,
      "outputs": [
        {
          "output_type": "execute_result",
          "data": {
            "text/plain": [
              "      AGE  SEX  STEROID  ANTIVIRALS  FATIGUE  MALAISE  ANOREXIA  LIVER BIG  \\\n",
              "0    30.0    1        0           1        1        1         1          0   \n",
              "1    50.0    0        0           1        0        1         1          0   \n",
              "2    78.0    0        1           1        0        1         1          1   \n",
              "3    31.0    0        0           0        1        1         1          1   \n",
              "4    34.0    0        1           1        1        1         1          1   \n",
              "..    ...  ...      ...         ...      ...      ...       ...        ...   \n",
              "150  46.0    0        1           1        0        0         0          1   \n",
              "151  44.0    0        1           1        0        1         1          1   \n",
              "152  61.0    0        0           1        0        0         1          0   \n",
              "153  53.0    1        0           1        0        1         1          1   \n",
              "154  43.0    0        1           1        0        1         1          1   \n",
              "\n",
              "     LIVER FIRM  SPLEEN PALPABLE  SPIDERS  ASCITES  VARICES  BILIRUBIN  \\\n",
              "0             1                1        1        1        1        1.0   \n",
              "1             1                1        1        1        1        0.9   \n",
              "2             1                1        1        1        1        0.7   \n",
              "3             1                1        1        1        1        0.7   \n",
              "4             1                1        1        1        1        1.0   \n",
              "..          ...              ...      ...      ...      ...        ...   \n",
              "150           1                1        0        0        0        7.6   \n",
              "151           0                1        1        1        1        0.9   \n",
              "152           0                1        0        1        1        0.8   \n",
              "153           1                0        0        1        0        1.5   \n",
              "154           1                0        0        0        1        1.2   \n",
              "\n",
              "     ALK PHOSPHATE   SGOT  ALBUMIN  PROTIME  HISTOLOGY  CLASS  \n",
              "0          85.0000   18.0      4.0  62.5125          0      1  \n",
              "1         135.0000   42.0      3.5  62.5125          0      1  \n",
              "2          96.0000   32.0      4.0  62.5125          0      1  \n",
              "3          46.0000   52.0      4.0  80.0000          0      1  \n",
              "4         102.9125  200.0      4.0  62.5125          0      1  \n",
              "..             ...    ...      ...      ...        ...    ...  \n",
              "150       102.9125  242.0      3.3  50.0000          1      0  \n",
              "151       126.0000  142.0      4.3  62.5125          1      1  \n",
              "152        75.0000   20.0      4.1  62.5125          1      1  \n",
              "153        81.0000   19.0      4.1  48.0000          1      1  \n",
              "154       100.0000   19.0      3.1  42.0000          1      0  \n",
              "\n",
              "[155 rows x 20 columns]"
            ],
            "text/html": [
              "\n",
              "  <div id=\"df-3abcda83-324f-46e7-9ef1-d7e290439fe8\">\n",
              "    <div class=\"colab-df-container\">\n",
              "      <div>\n",
              "<style scoped>\n",
              "    .dataframe tbody tr th:only-of-type {\n",
              "        vertical-align: middle;\n",
              "    }\n",
              "\n",
              "    .dataframe tbody tr th {\n",
              "        vertical-align: top;\n",
              "    }\n",
              "\n",
              "    .dataframe thead th {\n",
              "        text-align: right;\n",
              "    }\n",
              "</style>\n",
              "<table border=\"1\" class=\"dataframe\">\n",
              "  <thead>\n",
              "    <tr style=\"text-align: right;\">\n",
              "      <th></th>\n",
              "      <th>AGE</th>\n",
              "      <th>SEX</th>\n",
              "      <th>STEROID</th>\n",
              "      <th>ANTIVIRALS</th>\n",
              "      <th>FATIGUE</th>\n",
              "      <th>MALAISE</th>\n",
              "      <th>ANOREXIA</th>\n",
              "      <th>LIVER BIG</th>\n",
              "      <th>LIVER FIRM</th>\n",
              "      <th>SPLEEN PALPABLE</th>\n",
              "      <th>SPIDERS</th>\n",
              "      <th>ASCITES</th>\n",
              "      <th>VARICES</th>\n",
              "      <th>BILIRUBIN</th>\n",
              "      <th>ALK PHOSPHATE</th>\n",
              "      <th>SGOT</th>\n",
              "      <th>ALBUMIN</th>\n",
              "      <th>PROTIME</th>\n",
              "      <th>HISTOLOGY</th>\n",
              "      <th>CLASS</th>\n",
              "    </tr>\n",
              "  </thead>\n",
              "  <tbody>\n",
              "    <tr>\n",
              "      <th>0</th>\n",
              "      <td>30.0</td>\n",
              "      <td>1</td>\n",
              "      <td>0</td>\n",
              "      <td>1</td>\n",
              "      <td>1</td>\n",
              "      <td>1</td>\n",
              "      <td>1</td>\n",
              "      <td>0</td>\n",
              "      <td>1</td>\n",
              "      <td>1</td>\n",
              "      <td>1</td>\n",
              "      <td>1</td>\n",
              "      <td>1</td>\n",
              "      <td>1.0</td>\n",
              "      <td>85.0000</td>\n",
              "      <td>18.0</td>\n",
              "      <td>4.0</td>\n",
              "      <td>62.5125</td>\n",
              "      <td>0</td>\n",
              "      <td>1</td>\n",
              "    </tr>\n",
              "    <tr>\n",
              "      <th>1</th>\n",
              "      <td>50.0</td>\n",
              "      <td>0</td>\n",
              "      <td>0</td>\n",
              "      <td>1</td>\n",
              "      <td>0</td>\n",
              "      <td>1</td>\n",
              "      <td>1</td>\n",
              "      <td>0</td>\n",
              "      <td>1</td>\n",
              "      <td>1</td>\n",
              "      <td>1</td>\n",
              "      <td>1</td>\n",
              "      <td>1</td>\n",
              "      <td>0.9</td>\n",
              "      <td>135.0000</td>\n",
              "      <td>42.0</td>\n",
              "      <td>3.5</td>\n",
              "      <td>62.5125</td>\n",
              "      <td>0</td>\n",
              "      <td>1</td>\n",
              "    </tr>\n",
              "    <tr>\n",
              "      <th>2</th>\n",
              "      <td>78.0</td>\n",
              "      <td>0</td>\n",
              "      <td>1</td>\n",
              "      <td>1</td>\n",
              "      <td>0</td>\n",
              "      <td>1</td>\n",
              "      <td>1</td>\n",
              "      <td>1</td>\n",
              "      <td>1</td>\n",
              "      <td>1</td>\n",
              "      <td>1</td>\n",
              "      <td>1</td>\n",
              "      <td>1</td>\n",
              "      <td>0.7</td>\n",
              "      <td>96.0000</td>\n",
              "      <td>32.0</td>\n",
              "      <td>4.0</td>\n",
              "      <td>62.5125</td>\n",
              "      <td>0</td>\n",
              "      <td>1</td>\n",
              "    </tr>\n",
              "    <tr>\n",
              "      <th>3</th>\n",
              "      <td>31.0</td>\n",
              "      <td>0</td>\n",
              "      <td>0</td>\n",
              "      <td>0</td>\n",
              "      <td>1</td>\n",
              "      <td>1</td>\n",
              "      <td>1</td>\n",
              "      <td>1</td>\n",
              "      <td>1</td>\n",
              "      <td>1</td>\n",
              "      <td>1</td>\n",
              "      <td>1</td>\n",
              "      <td>1</td>\n",
              "      <td>0.7</td>\n",
              "      <td>46.0000</td>\n",
              "      <td>52.0</td>\n",
              "      <td>4.0</td>\n",
              "      <td>80.0000</td>\n",
              "      <td>0</td>\n",
              "      <td>1</td>\n",
              "    </tr>\n",
              "    <tr>\n",
              "      <th>4</th>\n",
              "      <td>34.0</td>\n",
              "      <td>0</td>\n",
              "      <td>1</td>\n",
              "      <td>1</td>\n",
              "      <td>1</td>\n",
              "      <td>1</td>\n",
              "      <td>1</td>\n",
              "      <td>1</td>\n",
              "      <td>1</td>\n",
              "      <td>1</td>\n",
              "      <td>1</td>\n",
              "      <td>1</td>\n",
              "      <td>1</td>\n",
              "      <td>1.0</td>\n",
              "      <td>102.9125</td>\n",
              "      <td>200.0</td>\n",
              "      <td>4.0</td>\n",
              "      <td>62.5125</td>\n",
              "      <td>0</td>\n",
              "      <td>1</td>\n",
              "    </tr>\n",
              "    <tr>\n",
              "      <th>...</th>\n",
              "      <td>...</td>\n",
              "      <td>...</td>\n",
              "      <td>...</td>\n",
              "      <td>...</td>\n",
              "      <td>...</td>\n",
              "      <td>...</td>\n",
              "      <td>...</td>\n",
              "      <td>...</td>\n",
              "      <td>...</td>\n",
              "      <td>...</td>\n",
              "      <td>...</td>\n",
              "      <td>...</td>\n",
              "      <td>...</td>\n",
              "      <td>...</td>\n",
              "      <td>...</td>\n",
              "      <td>...</td>\n",
              "      <td>...</td>\n",
              "      <td>...</td>\n",
              "      <td>...</td>\n",
              "      <td>...</td>\n",
              "    </tr>\n",
              "    <tr>\n",
              "      <th>150</th>\n",
              "      <td>46.0</td>\n",
              "      <td>0</td>\n",
              "      <td>1</td>\n",
              "      <td>1</td>\n",
              "      <td>0</td>\n",
              "      <td>0</td>\n",
              "      <td>0</td>\n",
              "      <td>1</td>\n",
              "      <td>1</td>\n",
              "      <td>1</td>\n",
              "      <td>0</td>\n",
              "      <td>0</td>\n",
              "      <td>0</td>\n",
              "      <td>7.6</td>\n",
              "      <td>102.9125</td>\n",
              "      <td>242.0</td>\n",
              "      <td>3.3</td>\n",
              "      <td>50.0000</td>\n",
              "      <td>1</td>\n",
              "      <td>0</td>\n",
              "    </tr>\n",
              "    <tr>\n",
              "      <th>151</th>\n",
              "      <td>44.0</td>\n",
              "      <td>0</td>\n",
              "      <td>1</td>\n",
              "      <td>1</td>\n",
              "      <td>0</td>\n",
              "      <td>1</td>\n",
              "      <td>1</td>\n",
              "      <td>1</td>\n",
              "      <td>0</td>\n",
              "      <td>1</td>\n",
              "      <td>1</td>\n",
              "      <td>1</td>\n",
              "      <td>1</td>\n",
              "      <td>0.9</td>\n",
              "      <td>126.0000</td>\n",
              "      <td>142.0</td>\n",
              "      <td>4.3</td>\n",
              "      <td>62.5125</td>\n",
              "      <td>1</td>\n",
              "      <td>1</td>\n",
              "    </tr>\n",
              "    <tr>\n",
              "      <th>152</th>\n",
              "      <td>61.0</td>\n",
              "      <td>0</td>\n",
              "      <td>0</td>\n",
              "      <td>1</td>\n",
              "      <td>0</td>\n",
              "      <td>0</td>\n",
              "      <td>1</td>\n",
              "      <td>0</td>\n",
              "      <td>0</td>\n",
              "      <td>1</td>\n",
              "      <td>0</td>\n",
              "      <td>1</td>\n",
              "      <td>1</td>\n",
              "      <td>0.8</td>\n",
              "      <td>75.0000</td>\n",
              "      <td>20.0</td>\n",
              "      <td>4.1</td>\n",
              "      <td>62.5125</td>\n",
              "      <td>1</td>\n",
              "      <td>1</td>\n",
              "    </tr>\n",
              "    <tr>\n",
              "      <th>153</th>\n",
              "      <td>53.0</td>\n",
              "      <td>1</td>\n",
              "      <td>0</td>\n",
              "      <td>1</td>\n",
              "      <td>0</td>\n",
              "      <td>1</td>\n",
              "      <td>1</td>\n",
              "      <td>1</td>\n",
              "      <td>1</td>\n",
              "      <td>0</td>\n",
              "      <td>0</td>\n",
              "      <td>1</td>\n",
              "      <td>0</td>\n",
              "      <td>1.5</td>\n",
              "      <td>81.0000</td>\n",
              "      <td>19.0</td>\n",
              "      <td>4.1</td>\n",
              "      <td>48.0000</td>\n",
              "      <td>1</td>\n",
              "      <td>1</td>\n",
              "    </tr>\n",
              "    <tr>\n",
              "      <th>154</th>\n",
              "      <td>43.0</td>\n",
              "      <td>0</td>\n",
              "      <td>1</td>\n",
              "      <td>1</td>\n",
              "      <td>0</td>\n",
              "      <td>1</td>\n",
              "      <td>1</td>\n",
              "      <td>1</td>\n",
              "      <td>1</td>\n",
              "      <td>0</td>\n",
              "      <td>0</td>\n",
              "      <td>0</td>\n",
              "      <td>1</td>\n",
              "      <td>1.2</td>\n",
              "      <td>100.0000</td>\n",
              "      <td>19.0</td>\n",
              "      <td>3.1</td>\n",
              "      <td>42.0000</td>\n",
              "      <td>1</td>\n",
              "      <td>0</td>\n",
              "    </tr>\n",
              "  </tbody>\n",
              "</table>\n",
              "<p>155 rows × 20 columns</p>\n",
              "</div>\n",
              "      <button class=\"colab-df-convert\" onclick=\"convertToInteractive('df-3abcda83-324f-46e7-9ef1-d7e290439fe8')\"\n",
              "              title=\"Convert this dataframe to an interactive table.\"\n",
              "              style=\"display:none;\">\n",
              "        \n",
              "  <svg xmlns=\"http://www.w3.org/2000/svg\" height=\"24px\"viewBox=\"0 0 24 24\"\n",
              "       width=\"24px\">\n",
              "    <path d=\"M0 0h24v24H0V0z\" fill=\"none\"/>\n",
              "    <path d=\"M18.56 5.44l.94 2.06.94-2.06 2.06-.94-2.06-.94-.94-2.06-.94 2.06-2.06.94zm-11 1L8.5 8.5l.94-2.06 2.06-.94-2.06-.94L8.5 2.5l-.94 2.06-2.06.94zm10 10l.94 2.06.94-2.06 2.06-.94-2.06-.94-.94-2.06-.94 2.06-2.06.94z\"/><path d=\"M17.41 7.96l-1.37-1.37c-.4-.4-.92-.59-1.43-.59-.52 0-1.04.2-1.43.59L10.3 9.45l-7.72 7.72c-.78.78-.78 2.05 0 2.83L4 21.41c.39.39.9.59 1.41.59.51 0 1.02-.2 1.41-.59l7.78-7.78 2.81-2.81c.8-.78.8-2.07 0-2.86zM5.41 20L4 18.59l7.72-7.72 1.47 1.35L5.41 20z\"/>\n",
              "  </svg>\n",
              "      </button>\n",
              "      \n",
              "  <style>\n",
              "    .colab-df-container {\n",
              "      display:flex;\n",
              "      flex-wrap:wrap;\n",
              "      gap: 12px;\n",
              "    }\n",
              "\n",
              "    .colab-df-convert {\n",
              "      background-color: #E8F0FE;\n",
              "      border: none;\n",
              "      border-radius: 50%;\n",
              "      cursor: pointer;\n",
              "      display: none;\n",
              "      fill: #1967D2;\n",
              "      height: 32px;\n",
              "      padding: 0 0 0 0;\n",
              "      width: 32px;\n",
              "    }\n",
              "\n",
              "    .colab-df-convert:hover {\n",
              "      background-color: #E2EBFA;\n",
              "      box-shadow: 0px 1px 2px rgba(60, 64, 67, 0.3), 0px 1px 3px 1px rgba(60, 64, 67, 0.15);\n",
              "      fill: #174EA6;\n",
              "    }\n",
              "\n",
              "    [theme=dark] .colab-df-convert {\n",
              "      background-color: #3B4455;\n",
              "      fill: #D2E3FC;\n",
              "    }\n",
              "\n",
              "    [theme=dark] .colab-df-convert:hover {\n",
              "      background-color: #434B5C;\n",
              "      box-shadow: 0px 1px 3px 1px rgba(0, 0, 0, 0.15);\n",
              "      filter: drop-shadow(0px 1px 2px rgba(0, 0, 0, 0.3));\n",
              "      fill: #FFFFFF;\n",
              "    }\n",
              "  </style>\n",
              "\n",
              "      <script>\n",
              "        const buttonEl =\n",
              "          document.querySelector('#df-3abcda83-324f-46e7-9ef1-d7e290439fe8 button.colab-df-convert');\n",
              "        buttonEl.style.display =\n",
              "          google.colab.kernel.accessAllowed ? 'block' : 'none';\n",
              "\n",
              "        async function convertToInteractive(key) {\n",
              "          const element = document.querySelector('#df-3abcda83-324f-46e7-9ef1-d7e290439fe8');\n",
              "          const dataTable =\n",
              "            await google.colab.kernel.invokeFunction('convertToInteractive',\n",
              "                                                     [key], {});\n",
              "          if (!dataTable) return;\n",
              "\n",
              "          const docLinkHtml = 'Like what you see? Visit the ' +\n",
              "            '<a target=\"_blank\" href=https://colab.research.google.com/notebooks/data_table.ipynb>data table notebook</a>'\n",
              "            + ' to learn more about interactive tables.';\n",
              "          element.innerHTML = '';\n",
              "          dataTable['output_type'] = 'display_data';\n",
              "          await google.colab.output.renderOutput(dataTable, element);\n",
              "          const docLink = document.createElement('div');\n",
              "          docLink.innerHTML = docLinkHtml;\n",
              "          element.appendChild(docLink);\n",
              "        }\n",
              "      </script>\n",
              "    </div>\n",
              "  </div>\n",
              "  "
            ]
          },
          "metadata": {},
          "execution_count": 107
        }
      ]
    },
    {
      "cell_type": "code",
      "source": [
        "hep_df"
      ],
      "metadata": {
        "colab": {
          "base_uri": "https://localhost:8080/",
          "height": 505
        },
        "id": "oUpPlD-m6UdN",
        "outputId": "3db91853-c4f0-4c36-f4eb-3fba293f7d9d"
      },
      "execution_count": 108,
      "outputs": [
        {
          "output_type": "execute_result",
          "data": {
            "text/plain": [
              "      AGE  SEX  STEROID  ANTIVIRALS  FATIGUE  MALAISE  ANOREXIA  LIVER BIG  \\\n",
              "5    34.0    0        1           1        1        1         1          1   \n",
              "10   39.0    0        0           0        1        1         1          0   \n",
              "11   32.0    0        1           0        0        1         1          1   \n",
              "12   41.0    0        1           0        0        1         1          1   \n",
              "13   30.0    0        1           1        0        1         1          1   \n",
              "..    ...  ...      ...         ...      ...      ...       ...        ...   \n",
              "139  45.0    0        1           0        1        1         1          1   \n",
              "143  49.0    0        0           1        0        0         1          1   \n",
              "145  31.0    0        0           1        0        1         1          1   \n",
              "153  53.0    1        0           1        0        1         1          1   \n",
              "154  43.0    0        1           1        0        1         1          1   \n",
              "\n",
              "     LIVER FIRM  SPLEEN PALPABLE  SPIDERS  ASCITES  VARICES  BILIRUBIN  \\\n",
              "5             1                1        1        1        1        0.9   \n",
              "10            0                1        1        1        1        1.3   \n",
              "11            0                1        0        1        1        1.0   \n",
              "12            0                1        1        1        1        0.9   \n",
              "13            0                1        1        1        1        2.2   \n",
              "..          ...              ...      ...      ...      ...        ...   \n",
              "139           1                1        1        1        1        1.3   \n",
              "143           1                0        0        1        1        1.4   \n",
              "145           1                1        1        1        1        1.2   \n",
              "153           1                0        0        1        0        1.5   \n",
              "154           1                0        0        0        1        1.2   \n",
              "\n",
              "     ALK PHOSPHATE   SGOT  ALBUMIN  PROTIME  HISTOLOGY  CLASS  \n",
              "5             95.0   28.0      4.0     75.0          0      1  \n",
              "10            78.0   30.0      4.4     85.0          0      1  \n",
              "11            59.0  249.0      3.7     54.0          0      1  \n",
              "12            81.0   60.0      3.9     52.0          0      1  \n",
              "13            57.0  144.0      4.9     78.0          0      1  \n",
              "..             ...    ...      ...      ...        ...    ...  \n",
              "139           85.0   44.0      4.2     85.0          1      1  \n",
              "143           85.0   70.0      3.5     35.0          1      0  \n",
              "145           75.0  173.0      4.2     54.0          1      1  \n",
              "153           81.0   19.0      4.1     48.0          1      1  \n",
              "154          100.0   19.0      3.1     42.0          1      0  \n",
              "\n",
              "[74 rows x 20 columns]"
            ],
            "text/html": [
              "\n",
              "  <div id=\"df-8b3efaf1-17a2-40f3-904b-0775b4efb0d6\">\n",
              "    <div class=\"colab-df-container\">\n",
              "      <div>\n",
              "<style scoped>\n",
              "    .dataframe tbody tr th:only-of-type {\n",
              "        vertical-align: middle;\n",
              "    }\n",
              "\n",
              "    .dataframe tbody tr th {\n",
              "        vertical-align: top;\n",
              "    }\n",
              "\n",
              "    .dataframe thead th {\n",
              "        text-align: right;\n",
              "    }\n",
              "</style>\n",
              "<table border=\"1\" class=\"dataframe\">\n",
              "  <thead>\n",
              "    <tr style=\"text-align: right;\">\n",
              "      <th></th>\n",
              "      <th>AGE</th>\n",
              "      <th>SEX</th>\n",
              "      <th>STEROID</th>\n",
              "      <th>ANTIVIRALS</th>\n",
              "      <th>FATIGUE</th>\n",
              "      <th>MALAISE</th>\n",
              "      <th>ANOREXIA</th>\n",
              "      <th>LIVER BIG</th>\n",
              "      <th>LIVER FIRM</th>\n",
              "      <th>SPLEEN PALPABLE</th>\n",
              "      <th>SPIDERS</th>\n",
              "      <th>ASCITES</th>\n",
              "      <th>VARICES</th>\n",
              "      <th>BILIRUBIN</th>\n",
              "      <th>ALK PHOSPHATE</th>\n",
              "      <th>SGOT</th>\n",
              "      <th>ALBUMIN</th>\n",
              "      <th>PROTIME</th>\n",
              "      <th>HISTOLOGY</th>\n",
              "      <th>CLASS</th>\n",
              "    </tr>\n",
              "  </thead>\n",
              "  <tbody>\n",
              "    <tr>\n",
              "      <th>5</th>\n",
              "      <td>34.0</td>\n",
              "      <td>0</td>\n",
              "      <td>1</td>\n",
              "      <td>1</td>\n",
              "      <td>1</td>\n",
              "      <td>1</td>\n",
              "      <td>1</td>\n",
              "      <td>1</td>\n",
              "      <td>1</td>\n",
              "      <td>1</td>\n",
              "      <td>1</td>\n",
              "      <td>1</td>\n",
              "      <td>1</td>\n",
              "      <td>0.9</td>\n",
              "      <td>95.0</td>\n",
              "      <td>28.0</td>\n",
              "      <td>4.0</td>\n",
              "      <td>75.0</td>\n",
              "      <td>0</td>\n",
              "      <td>1</td>\n",
              "    </tr>\n",
              "    <tr>\n",
              "      <th>10</th>\n",
              "      <td>39.0</td>\n",
              "      <td>0</td>\n",
              "      <td>0</td>\n",
              "      <td>0</td>\n",
              "      <td>1</td>\n",
              "      <td>1</td>\n",
              "      <td>1</td>\n",
              "      <td>0</td>\n",
              "      <td>0</td>\n",
              "      <td>1</td>\n",
              "      <td>1</td>\n",
              "      <td>1</td>\n",
              "      <td>1</td>\n",
              "      <td>1.3</td>\n",
              "      <td>78.0</td>\n",
              "      <td>30.0</td>\n",
              "      <td>4.4</td>\n",
              "      <td>85.0</td>\n",
              "      <td>0</td>\n",
              "      <td>1</td>\n",
              "    </tr>\n",
              "    <tr>\n",
              "      <th>11</th>\n",
              "      <td>32.0</td>\n",
              "      <td>0</td>\n",
              "      <td>1</td>\n",
              "      <td>0</td>\n",
              "      <td>0</td>\n",
              "      <td>1</td>\n",
              "      <td>1</td>\n",
              "      <td>1</td>\n",
              "      <td>0</td>\n",
              "      <td>1</td>\n",
              "      <td>0</td>\n",
              "      <td>1</td>\n",
              "      <td>1</td>\n",
              "      <td>1.0</td>\n",
              "      <td>59.0</td>\n",
              "      <td>249.0</td>\n",
              "      <td>3.7</td>\n",
              "      <td>54.0</td>\n",
              "      <td>0</td>\n",
              "      <td>1</td>\n",
              "    </tr>\n",
              "    <tr>\n",
              "      <th>12</th>\n",
              "      <td>41.0</td>\n",
              "      <td>0</td>\n",
              "      <td>1</td>\n",
              "      <td>0</td>\n",
              "      <td>0</td>\n",
              "      <td>1</td>\n",
              "      <td>1</td>\n",
              "      <td>1</td>\n",
              "      <td>0</td>\n",
              "      <td>1</td>\n",
              "      <td>1</td>\n",
              "      <td>1</td>\n",
              "      <td>1</td>\n",
              "      <td>0.9</td>\n",
              "      <td>81.0</td>\n",
              "      <td>60.0</td>\n",
              "      <td>3.9</td>\n",
              "      <td>52.0</td>\n",
              "      <td>0</td>\n",
              "      <td>1</td>\n",
              "    </tr>\n",
              "    <tr>\n",
              "      <th>13</th>\n",
              "      <td>30.0</td>\n",
              "      <td>0</td>\n",
              "      <td>1</td>\n",
              "      <td>1</td>\n",
              "      <td>0</td>\n",
              "      <td>1</td>\n",
              "      <td>1</td>\n",
              "      <td>1</td>\n",
              "      <td>0</td>\n",
              "      <td>1</td>\n",
              "      <td>1</td>\n",
              "      <td>1</td>\n",
              "      <td>1</td>\n",
              "      <td>2.2</td>\n",
              "      <td>57.0</td>\n",
              "      <td>144.0</td>\n",
              "      <td>4.9</td>\n",
              "      <td>78.0</td>\n",
              "      <td>0</td>\n",
              "      <td>1</td>\n",
              "    </tr>\n",
              "    <tr>\n",
              "      <th>...</th>\n",
              "      <td>...</td>\n",
              "      <td>...</td>\n",
              "      <td>...</td>\n",
              "      <td>...</td>\n",
              "      <td>...</td>\n",
              "      <td>...</td>\n",
              "      <td>...</td>\n",
              "      <td>...</td>\n",
              "      <td>...</td>\n",
              "      <td>...</td>\n",
              "      <td>...</td>\n",
              "      <td>...</td>\n",
              "      <td>...</td>\n",
              "      <td>...</td>\n",
              "      <td>...</td>\n",
              "      <td>...</td>\n",
              "      <td>...</td>\n",
              "      <td>...</td>\n",
              "      <td>...</td>\n",
              "      <td>...</td>\n",
              "    </tr>\n",
              "    <tr>\n",
              "      <th>139</th>\n",
              "      <td>45.0</td>\n",
              "      <td>0</td>\n",
              "      <td>1</td>\n",
              "      <td>0</td>\n",
              "      <td>1</td>\n",
              "      <td>1</td>\n",
              "      <td>1</td>\n",
              "      <td>1</td>\n",
              "      <td>1</td>\n",
              "      <td>1</td>\n",
              "      <td>1</td>\n",
              "      <td>1</td>\n",
              "      <td>1</td>\n",
              "      <td>1.3</td>\n",
              "      <td>85.0</td>\n",
              "      <td>44.0</td>\n",
              "      <td>4.2</td>\n",
              "      <td>85.0</td>\n",
              "      <td>1</td>\n",
              "      <td>1</td>\n",
              "    </tr>\n",
              "    <tr>\n",
              "      <th>143</th>\n",
              "      <td>49.0</td>\n",
              "      <td>0</td>\n",
              "      <td>0</td>\n",
              "      <td>1</td>\n",
              "      <td>0</td>\n",
              "      <td>0</td>\n",
              "      <td>1</td>\n",
              "      <td>1</td>\n",
              "      <td>1</td>\n",
              "      <td>0</td>\n",
              "      <td>0</td>\n",
              "      <td>1</td>\n",
              "      <td>1</td>\n",
              "      <td>1.4</td>\n",
              "      <td>85.0</td>\n",
              "      <td>70.0</td>\n",
              "      <td>3.5</td>\n",
              "      <td>35.0</td>\n",
              "      <td>1</td>\n",
              "      <td>0</td>\n",
              "    </tr>\n",
              "    <tr>\n",
              "      <th>145</th>\n",
              "      <td>31.0</td>\n",
              "      <td>0</td>\n",
              "      <td>0</td>\n",
              "      <td>1</td>\n",
              "      <td>0</td>\n",
              "      <td>1</td>\n",
              "      <td>1</td>\n",
              "      <td>1</td>\n",
              "      <td>1</td>\n",
              "      <td>1</td>\n",
              "      <td>1</td>\n",
              "      <td>1</td>\n",
              "      <td>1</td>\n",
              "      <td>1.2</td>\n",
              "      <td>75.0</td>\n",
              "      <td>173.0</td>\n",
              "      <td>4.2</td>\n",
              "      <td>54.0</td>\n",
              "      <td>1</td>\n",
              "      <td>1</td>\n",
              "    </tr>\n",
              "    <tr>\n",
              "      <th>153</th>\n",
              "      <td>53.0</td>\n",
              "      <td>1</td>\n",
              "      <td>0</td>\n",
              "      <td>1</td>\n",
              "      <td>0</td>\n",
              "      <td>1</td>\n",
              "      <td>1</td>\n",
              "      <td>1</td>\n",
              "      <td>1</td>\n",
              "      <td>0</td>\n",
              "      <td>0</td>\n",
              "      <td>1</td>\n",
              "      <td>0</td>\n",
              "      <td>1.5</td>\n",
              "      <td>81.0</td>\n",
              "      <td>19.0</td>\n",
              "      <td>4.1</td>\n",
              "      <td>48.0</td>\n",
              "      <td>1</td>\n",
              "      <td>1</td>\n",
              "    </tr>\n",
              "    <tr>\n",
              "      <th>154</th>\n",
              "      <td>43.0</td>\n",
              "      <td>0</td>\n",
              "      <td>1</td>\n",
              "      <td>1</td>\n",
              "      <td>0</td>\n",
              "      <td>1</td>\n",
              "      <td>1</td>\n",
              "      <td>1</td>\n",
              "      <td>1</td>\n",
              "      <td>0</td>\n",
              "      <td>0</td>\n",
              "      <td>0</td>\n",
              "      <td>1</td>\n",
              "      <td>1.2</td>\n",
              "      <td>100.0</td>\n",
              "      <td>19.0</td>\n",
              "      <td>3.1</td>\n",
              "      <td>42.0</td>\n",
              "      <td>1</td>\n",
              "      <td>0</td>\n",
              "    </tr>\n",
              "  </tbody>\n",
              "</table>\n",
              "<p>74 rows × 20 columns</p>\n",
              "</div>\n",
              "      <button class=\"colab-df-convert\" onclick=\"convertToInteractive('df-8b3efaf1-17a2-40f3-904b-0775b4efb0d6')\"\n",
              "              title=\"Convert this dataframe to an interactive table.\"\n",
              "              style=\"display:none;\">\n",
              "        \n",
              "  <svg xmlns=\"http://www.w3.org/2000/svg\" height=\"24px\"viewBox=\"0 0 24 24\"\n",
              "       width=\"24px\">\n",
              "    <path d=\"M0 0h24v24H0V0z\" fill=\"none\"/>\n",
              "    <path d=\"M18.56 5.44l.94 2.06.94-2.06 2.06-.94-2.06-.94-.94-2.06-.94 2.06-2.06.94zm-11 1L8.5 8.5l.94-2.06 2.06-.94-2.06-.94L8.5 2.5l-.94 2.06-2.06.94zm10 10l.94 2.06.94-2.06 2.06-.94-2.06-.94-.94-2.06-.94 2.06-2.06.94z\"/><path d=\"M17.41 7.96l-1.37-1.37c-.4-.4-.92-.59-1.43-.59-.52 0-1.04.2-1.43.59L10.3 9.45l-7.72 7.72c-.78.78-.78 2.05 0 2.83L4 21.41c.39.39.9.59 1.41.59.51 0 1.02-.2 1.41-.59l7.78-7.78 2.81-2.81c.8-.78.8-2.07 0-2.86zM5.41 20L4 18.59l7.72-7.72 1.47 1.35L5.41 20z\"/>\n",
              "  </svg>\n",
              "      </button>\n",
              "      \n",
              "  <style>\n",
              "    .colab-df-container {\n",
              "      display:flex;\n",
              "      flex-wrap:wrap;\n",
              "      gap: 12px;\n",
              "    }\n",
              "\n",
              "    .colab-df-convert {\n",
              "      background-color: #E8F0FE;\n",
              "      border: none;\n",
              "      border-radius: 50%;\n",
              "      cursor: pointer;\n",
              "      display: none;\n",
              "      fill: #1967D2;\n",
              "      height: 32px;\n",
              "      padding: 0 0 0 0;\n",
              "      width: 32px;\n",
              "    }\n",
              "\n",
              "    .colab-df-convert:hover {\n",
              "      background-color: #E2EBFA;\n",
              "      box-shadow: 0px 1px 2px rgba(60, 64, 67, 0.3), 0px 1px 3px 1px rgba(60, 64, 67, 0.15);\n",
              "      fill: #174EA6;\n",
              "    }\n",
              "\n",
              "    [theme=dark] .colab-df-convert {\n",
              "      background-color: #3B4455;\n",
              "      fill: #D2E3FC;\n",
              "    }\n",
              "\n",
              "    [theme=dark] .colab-df-convert:hover {\n",
              "      background-color: #434B5C;\n",
              "      box-shadow: 0px 1px 3px 1px rgba(0, 0, 0, 0.15);\n",
              "      filter: drop-shadow(0px 1px 2px rgba(0, 0, 0, 0.3));\n",
              "      fill: #FFFFFF;\n",
              "    }\n",
              "  </style>\n",
              "\n",
              "      <script>\n",
              "        const buttonEl =\n",
              "          document.querySelector('#df-8b3efaf1-17a2-40f3-904b-0775b4efb0d6 button.colab-df-convert');\n",
              "        buttonEl.style.display =\n",
              "          google.colab.kernel.accessAllowed ? 'block' : 'none';\n",
              "\n",
              "        async function convertToInteractive(key) {\n",
              "          const element = document.querySelector('#df-8b3efaf1-17a2-40f3-904b-0775b4efb0d6');\n",
              "          const dataTable =\n",
              "            await google.colab.kernel.invokeFunction('convertToInteractive',\n",
              "                                                     [key], {});\n",
              "          if (!dataTable) return;\n",
              "\n",
              "          const docLinkHtml = 'Like what you see? Visit the ' +\n",
              "            '<a target=\"_blank\" href=https://colab.research.google.com/notebooks/data_table.ipynb>data table notebook</a>'\n",
              "            + ' to learn more about interactive tables.';\n",
              "          element.innerHTML = '';\n",
              "          dataTable['output_type'] = 'display_data';\n",
              "          await google.colab.output.renderOutput(dataTable, element);\n",
              "          const docLink = document.createElement('div');\n",
              "          docLink.innerHTML = docLinkHtml;\n",
              "          element.appendChild(docLink);\n",
              "        }\n",
              "      </script>\n",
              "    </div>\n",
              "  </div>\n",
              "  "
            ]
          },
          "metadata": {},
          "execution_count": 108
        }
      ]
    },
    {
      "cell_type": "markdown",
      "source": [
        "### Analysis of Hepatitis data"
      ],
      "metadata": {
        "id": "NMKBKMJYkSAk"
      }
    },
    {
      "cell_type": "code",
      "execution_count": 109,
      "metadata": {
        "colab": {
          "base_uri": "https://localhost:8080/",
          "height": 143
        },
        "id": "r8Xhobsvxrq5",
        "outputId": "2f6a37cf-9bb3-4722-e5ff-07c269efab24"
      },
      "outputs": [
        {
          "output_type": "execute_result",
          "data": {
            "text/plain": [
              "            CLASS\n",
              "ALBUMIN  0.393190\n",
              "ASCITES  0.367521\n",
              "PROTIME  0.328634"
            ],
            "text/html": [
              "\n",
              "  <div id=\"df-c1d94ea4-7f66-4b32-bac2-9473ce6cf48f\">\n",
              "    <div class=\"colab-df-container\">\n",
              "      <div>\n",
              "<style scoped>\n",
              "    .dataframe tbody tr th:only-of-type {\n",
              "        vertical-align: middle;\n",
              "    }\n",
              "\n",
              "    .dataframe tbody tr th {\n",
              "        vertical-align: top;\n",
              "    }\n",
              "\n",
              "    .dataframe thead th {\n",
              "        text-align: right;\n",
              "    }\n",
              "</style>\n",
              "<table border=\"1\" class=\"dataframe\">\n",
              "  <thead>\n",
              "    <tr style=\"text-align: right;\">\n",
              "      <th></th>\n",
              "      <th>CLASS</th>\n",
              "    </tr>\n",
              "  </thead>\n",
              "  <tbody>\n",
              "    <tr>\n",
              "      <th>ALBUMIN</th>\n",
              "      <td>0.393190</td>\n",
              "    </tr>\n",
              "    <tr>\n",
              "      <th>ASCITES</th>\n",
              "      <td>0.367521</td>\n",
              "    </tr>\n",
              "    <tr>\n",
              "      <th>PROTIME</th>\n",
              "      <td>0.328634</td>\n",
              "    </tr>\n",
              "  </tbody>\n",
              "</table>\n",
              "</div>\n",
              "      <button class=\"colab-df-convert\" onclick=\"convertToInteractive('df-c1d94ea4-7f66-4b32-bac2-9473ce6cf48f')\"\n",
              "              title=\"Convert this dataframe to an interactive table.\"\n",
              "              style=\"display:none;\">\n",
              "        \n",
              "  <svg xmlns=\"http://www.w3.org/2000/svg\" height=\"24px\"viewBox=\"0 0 24 24\"\n",
              "       width=\"24px\">\n",
              "    <path d=\"M0 0h24v24H0V0z\" fill=\"none\"/>\n",
              "    <path d=\"M18.56 5.44l.94 2.06.94-2.06 2.06-.94-2.06-.94-.94-2.06-.94 2.06-2.06.94zm-11 1L8.5 8.5l.94-2.06 2.06-.94-2.06-.94L8.5 2.5l-.94 2.06-2.06.94zm10 10l.94 2.06.94-2.06 2.06-.94-2.06-.94-.94-2.06-.94 2.06-2.06.94z\"/><path d=\"M17.41 7.96l-1.37-1.37c-.4-.4-.92-.59-1.43-.59-.52 0-1.04.2-1.43.59L10.3 9.45l-7.72 7.72c-.78.78-.78 2.05 0 2.83L4 21.41c.39.39.9.59 1.41.59.51 0 1.02-.2 1.41-.59l7.78-7.78 2.81-2.81c.8-.78.8-2.07 0-2.86zM5.41 20L4 18.59l7.72-7.72 1.47 1.35L5.41 20z\"/>\n",
              "  </svg>\n",
              "      </button>\n",
              "      \n",
              "  <style>\n",
              "    .colab-df-container {\n",
              "      display:flex;\n",
              "      flex-wrap:wrap;\n",
              "      gap: 12px;\n",
              "    }\n",
              "\n",
              "    .colab-df-convert {\n",
              "      background-color: #E8F0FE;\n",
              "      border: none;\n",
              "      border-radius: 50%;\n",
              "      cursor: pointer;\n",
              "      display: none;\n",
              "      fill: #1967D2;\n",
              "      height: 32px;\n",
              "      padding: 0 0 0 0;\n",
              "      width: 32px;\n",
              "    }\n",
              "\n",
              "    .colab-df-convert:hover {\n",
              "      background-color: #E2EBFA;\n",
              "      box-shadow: 0px 1px 2px rgba(60, 64, 67, 0.3), 0px 1px 3px 1px rgba(60, 64, 67, 0.15);\n",
              "      fill: #174EA6;\n",
              "    }\n",
              "\n",
              "    [theme=dark] .colab-df-convert {\n",
              "      background-color: #3B4455;\n",
              "      fill: #D2E3FC;\n",
              "    }\n",
              "\n",
              "    [theme=dark] .colab-df-convert:hover {\n",
              "      background-color: #434B5C;\n",
              "      box-shadow: 0px 1px 3px 1px rgba(0, 0, 0, 0.15);\n",
              "      filter: drop-shadow(0px 1px 2px rgba(0, 0, 0, 0.3));\n",
              "      fill: #FFFFFF;\n",
              "    }\n",
              "  </style>\n",
              "\n",
              "      <script>\n",
              "        const buttonEl =\n",
              "          document.querySelector('#df-c1d94ea4-7f66-4b32-bac2-9473ce6cf48f button.colab-df-convert');\n",
              "        buttonEl.style.display =\n",
              "          google.colab.kernel.accessAllowed ? 'block' : 'none';\n",
              "\n",
              "        async function convertToInteractive(key) {\n",
              "          const element = document.querySelector('#df-c1d94ea4-7f66-4b32-bac2-9473ce6cf48f');\n",
              "          const dataTable =\n",
              "            await google.colab.kernel.invokeFunction('convertToInteractive',\n",
              "                                                     [key], {});\n",
              "          if (!dataTable) return;\n",
              "\n",
              "          const docLinkHtml = 'Like what you see? Visit the ' +\n",
              "            '<a target=\"_blank\" href=https://colab.research.google.com/notebooks/data_table.ipynb>data table notebook</a>'\n",
              "            + ' to learn more about interactive tables.';\n",
              "          element.innerHTML = '';\n",
              "          dataTable['output_type'] = 'display_data';\n",
              "          await google.colab.output.renderOutput(dataTable, element);\n",
              "          const docLink = document.createElement('div');\n",
              "          docLink.innerHTML = docLinkHtml;\n",
              "          element.appendChild(docLink);\n",
              "        }\n",
              "      </script>\n",
              "    </div>\n",
              "  </div>\n",
              "  "
            ]
          },
          "metadata": {},
          "execution_count": 109
        }
      ],
      "source": [
        "### finding the most correlated features with CLASS column (target)\n",
        "\n",
        "# creates correlation dataframe\n",
        "correlation_df = hep_df.corr()\n",
        "\n",
        "# isolates for the CLASS column of the correlation dataframe and removes\n",
        "# the CLASS row\n",
        "class_correlation = (correlation_df).iloc[:-1, -1:]\n",
        "\n",
        "# finds the 3 largest values (the 3 features most positively \n",
        "# correlated with CLASS)\n",
        "pos_correlation = class_correlation.nlargest(3, 'CLASS')\n",
        "\n",
        "# show the 3 features most positively correlated with target labels\n",
        "pos_correlation.head()"
      ]
    },
    {
      "cell_type": "code",
      "execution_count": 110,
      "metadata": {
        "colab": {
          "base_uri": "https://localhost:8080/",
          "height": 143
        },
        "id": "FoG4YU8_w6VB",
        "outputId": "ccb3c21c-24cc-41d8-bac8-8e6a92678406"
      },
      "outputs": [
        {
          "output_type": "execute_result",
          "data": {
            "text/plain": [
              "              CLASS\n",
              "HISTOLOGY -0.463524\n",
              "LIVER BIG -0.171780\n",
              "AGE       -0.165716"
            ],
            "text/html": [
              "\n",
              "  <div id=\"df-988ba440-9ef8-4877-b501-da82cfa61499\">\n",
              "    <div class=\"colab-df-container\">\n",
              "      <div>\n",
              "<style scoped>\n",
              "    .dataframe tbody tr th:only-of-type {\n",
              "        vertical-align: middle;\n",
              "    }\n",
              "\n",
              "    .dataframe tbody tr th {\n",
              "        vertical-align: top;\n",
              "    }\n",
              "\n",
              "    .dataframe thead th {\n",
              "        text-align: right;\n",
              "    }\n",
              "</style>\n",
              "<table border=\"1\" class=\"dataframe\">\n",
              "  <thead>\n",
              "    <tr style=\"text-align: right;\">\n",
              "      <th></th>\n",
              "      <th>CLASS</th>\n",
              "    </tr>\n",
              "  </thead>\n",
              "  <tbody>\n",
              "    <tr>\n",
              "      <th>HISTOLOGY</th>\n",
              "      <td>-0.463524</td>\n",
              "    </tr>\n",
              "    <tr>\n",
              "      <th>LIVER BIG</th>\n",
              "      <td>-0.171780</td>\n",
              "    </tr>\n",
              "    <tr>\n",
              "      <th>AGE</th>\n",
              "      <td>-0.165716</td>\n",
              "    </tr>\n",
              "  </tbody>\n",
              "</table>\n",
              "</div>\n",
              "      <button class=\"colab-df-convert\" onclick=\"convertToInteractive('df-988ba440-9ef8-4877-b501-da82cfa61499')\"\n",
              "              title=\"Convert this dataframe to an interactive table.\"\n",
              "              style=\"display:none;\">\n",
              "        \n",
              "  <svg xmlns=\"http://www.w3.org/2000/svg\" height=\"24px\"viewBox=\"0 0 24 24\"\n",
              "       width=\"24px\">\n",
              "    <path d=\"M0 0h24v24H0V0z\" fill=\"none\"/>\n",
              "    <path d=\"M18.56 5.44l.94 2.06.94-2.06 2.06-.94-2.06-.94-.94-2.06-.94 2.06-2.06.94zm-11 1L8.5 8.5l.94-2.06 2.06-.94-2.06-.94L8.5 2.5l-.94 2.06-2.06.94zm10 10l.94 2.06.94-2.06 2.06-.94-2.06-.94-.94-2.06-.94 2.06-2.06.94z\"/><path d=\"M17.41 7.96l-1.37-1.37c-.4-.4-.92-.59-1.43-.59-.52 0-1.04.2-1.43.59L10.3 9.45l-7.72 7.72c-.78.78-.78 2.05 0 2.83L4 21.41c.39.39.9.59 1.41.59.51 0 1.02-.2 1.41-.59l7.78-7.78 2.81-2.81c.8-.78.8-2.07 0-2.86zM5.41 20L4 18.59l7.72-7.72 1.47 1.35L5.41 20z\"/>\n",
              "  </svg>\n",
              "      </button>\n",
              "      \n",
              "  <style>\n",
              "    .colab-df-container {\n",
              "      display:flex;\n",
              "      flex-wrap:wrap;\n",
              "      gap: 12px;\n",
              "    }\n",
              "\n",
              "    .colab-df-convert {\n",
              "      background-color: #E8F0FE;\n",
              "      border: none;\n",
              "      border-radius: 50%;\n",
              "      cursor: pointer;\n",
              "      display: none;\n",
              "      fill: #1967D2;\n",
              "      height: 32px;\n",
              "      padding: 0 0 0 0;\n",
              "      width: 32px;\n",
              "    }\n",
              "\n",
              "    .colab-df-convert:hover {\n",
              "      background-color: #E2EBFA;\n",
              "      box-shadow: 0px 1px 2px rgba(60, 64, 67, 0.3), 0px 1px 3px 1px rgba(60, 64, 67, 0.15);\n",
              "      fill: #174EA6;\n",
              "    }\n",
              "\n",
              "    [theme=dark] .colab-df-convert {\n",
              "      background-color: #3B4455;\n",
              "      fill: #D2E3FC;\n",
              "    }\n",
              "\n",
              "    [theme=dark] .colab-df-convert:hover {\n",
              "      background-color: #434B5C;\n",
              "      box-shadow: 0px 1px 3px 1px rgba(0, 0, 0, 0.15);\n",
              "      filter: drop-shadow(0px 1px 2px rgba(0, 0, 0, 0.3));\n",
              "      fill: #FFFFFF;\n",
              "    }\n",
              "  </style>\n",
              "\n",
              "      <script>\n",
              "        const buttonEl =\n",
              "          document.querySelector('#df-988ba440-9ef8-4877-b501-da82cfa61499 button.colab-df-convert');\n",
              "        buttonEl.style.display =\n",
              "          google.colab.kernel.accessAllowed ? 'block' : 'none';\n",
              "\n",
              "        async function convertToInteractive(key) {\n",
              "          const element = document.querySelector('#df-988ba440-9ef8-4877-b501-da82cfa61499');\n",
              "          const dataTable =\n",
              "            await google.colab.kernel.invokeFunction('convertToInteractive',\n",
              "                                                     [key], {});\n",
              "          if (!dataTable) return;\n",
              "\n",
              "          const docLinkHtml = 'Like what you see? Visit the ' +\n",
              "            '<a target=\"_blank\" href=https://colab.research.google.com/notebooks/data_table.ipynb>data table notebook</a>'\n",
              "            + ' to learn more about interactive tables.';\n",
              "          element.innerHTML = '';\n",
              "          dataTable['output_type'] = 'display_data';\n",
              "          await google.colab.output.renderOutput(dataTable, element);\n",
              "          const docLink = document.createElement('div');\n",
              "          docLink.innerHTML = docLinkHtml;\n",
              "          element.appendChild(docLink);\n",
              "        }\n",
              "      </script>\n",
              "    </div>\n",
              "  </div>\n",
              "  "
            ]
          },
          "metadata": {},
          "execution_count": 110
        }
      ],
      "source": [
        "# finds the 3 smallest values (the 3 features most negatively\n",
        "# correlated with CLASS)\n",
        "neg_correlation = class_correlation.nsmallest(3, 'CLASS')\n",
        "\n",
        "# show the 3 features most negatively correlated with target labels\n",
        "neg_correlation.head()"
      ]
    },
    {
      "cell_type": "code",
      "source": [
        "# histograms (but with occurrence count along the x-axis)\n",
        "# of the non-boolean columns\n",
        "create_histograms(hep_df, non_bool_col)"
      ],
      "metadata": {
        "colab": {
          "base_uri": "https://localhost:8080/",
          "height": 1000
        },
        "id": "PiBj3ZZkJ_lV",
        "outputId": "1d0dc01b-a4ee-4805-a412-f712447a3416"
      },
      "execution_count": 111,
      "outputs": [
        {
          "output_type": "display_data",
          "data": {
            "text/plain": [
              "<Figure size 432x288 with 1 Axes>"
            ],
            "image/png": "[encoded data removed]"
          },
          "metadata": {
            "needs_background": "light"
          }
        },
        {
          "output_type": "display_data",
          "data": {
            "text/plain": [
              "<Figure size 432x288 with 1 Axes>"
            ],
            "image/png": "[encoded data removed]"
          },
          "metadata": {
            "needs_background": "light"
          }
        },
        {
          "output_type": "display_data",
          "data": {
            "text/plain": [
              "<Figure size 432x288 with 1 Axes>"
            ],
            "image/png": "[encoded data removed]"
          },
          "metadata": {
            "needs_background": "light"
          }
        },
        {
          "output_type": "display_data",
          "data": {
            "text/plain": [
              "<Figure size 432x288 with 1 Axes>"
            ],
            "image/png": "[encoded data removed]"
          },
          "metadata": {
            "needs_background": "light"
          }
        },
        {
          "output_type": "display_data",
          "data": {
            "text/plain": [
              "<Figure size 432x288 with 1 Axes>"
            ],
            "image/png": "[encoded data removed]"
          },
          "metadata": {
            "needs_background": "light"
          }
        },
        {
          "output_type": "display_data",
          "data": {
            "text/plain": [
              "<Figure size 432x288 with 1 Axes>"
            ],
            "image/png": "[encoded data removed]"
          },
          "metadata": {
            "needs_background": "light"
          }
        }
      ]
    },
    {
      "cell_type": "code",
      "source": [
        "### using random forest to determine the relative feature importance\n",
        "\n",
        "hep_importance_arr = RF_find_features(hep_df)\n",
        "\n",
        "# plots the feature importance\n",
        "plot_feature_importance(hep_importance_arr)"
      ],
      "metadata": {
        "id": "g9YN13CE4Mj3",
        "outputId": "e12d3bf8-883f-4318-d7a6-163a051060ea",
        "colab": {
          "base_uri": "https://localhost:8080/",
          "height": 625
        }
      },
      "execution_count": 115,
      "outputs": [
        {
          "output_type": "stream",
          "name": "stdout",
          "text": [
            "Feature: AGE, Score: 0.05453\n",
            "Feature: SEX, Score: 0.01343\n",
            "Feature: STEROID, Score: 0.00147\n",
            "Feature: ANTIVIRALS, Score: 0.00000\n",
            "Feature: FATIGUE, Score: 0.00324\n",
            "Feature: MALAISE, Score: 0.00509\n",
            "Feature: ANOREXIA, Score: 0.02029\n",
            "Feature: LIVER BIG, Score: 0.00870\n",
            "Feature: LIVER FIRM, Score: 0.00320\n",
            "Feature: SPLEEN PALPABLE, Score: 0.00643\n",
            "Feature: SPIDERS, Score: 0.01683\n",
            "Feature: ASCITES, Score: 0.02282\n",
            "Feature: VARICES, Score: 0.01316\n",
            "Feature: BILIRUBIN, Score: 0.13243\n",
            "Feature: ALK PHOSPHATE, Score: 0.11435\n",
            "Feature: SGOT, Score: 0.05175\n",
            "Feature: ALBUMIN, Score: 0.10389\n",
            "Feature: PROTIME, Score: 0.32328\n",
            "Feature: HISTOLOGY, Score: 0.10511\n"
          ]
        },
        {
          "output_type": "display_data",
          "data": {
            "text/plain": [
              "<Figure size 432x288 with 1 Axes>"
            ],
            "image/png": "[encoded data removed]"
          },
          "metadata": {
            "needs_background": "light"
          }
        }
      ]
    },
    {
      "cell_type": "code",
      "source": [
        "### finding the top 2 most important features to confirm values in correlation dataframe\n",
        "\n",
        "top_2_features(hep_importance_arr, hep_df)"
      ],
      "metadata": {
        "colab": {
          "base_uri": "https://localhost:8080/"
        },
        "id": "mJp6F_8I4nic",
        "outputId": "0ba26490-b060-4f3e-b16c-d8d99e21b90a"
      },
      "execution_count": 117,
      "outputs": [
        {
          "output_type": "stream",
          "name": "stdout",
          "text": [
            "The most important feature is PROTIME\n",
            "The second most important feature is BILIRUBIN\n"
          ]
        }
      ]
    },
    {
      "cell_type": "code",
      "source": [
        "### analysis of boolean distributions"
      ],
      "metadata": {
        "id": "CHcMDAD3TPhm"
      },
      "execution_count": 19,
      "outputs": []
    },
    {
      "cell_type": "markdown",
      "source": [
        "### Loading and cleaning messidor.arff"
      ],
      "metadata": {
        "id": "bPtGybWIk_HV"
      }
    },
    {
      "cell_type": "code",
      "execution_count": 125,
      "metadata": {
        "id": "1ur2Y9mBZu25"
      },
      "outputs": [],
      "source": [
        "### creating the dataframe for messidor_features.arff\n",
        "\n",
        "# loads in the arff data\n",
        "mess_data = arff.loadarff('messidor_features.arff')\n",
        "# creates a dataframe from the .arff file\n",
        "mess_df = pd.DataFrame(mess_data[0])\n",
        "\n",
        "# the column names\n",
        "mess_cols = ['QUALITY ASSESSMENT', 'PRE-SCREENING', 'MA DETECTION CL 0.5',\n",
        "            'MA DETECTION CL 0.58','MA DETECTION CL 0.66', 'MA DETECTION CL 0.75',\n",
        "            'MA DETECTION CL 0.83','MA DETECTION CL 0.91', 'MA DETECTION CL 1.0',\n",
        "            'EXUDATES CL 0.5', 'EXUDATES CL 0.58','EXUDATES CL 0.66',\n",
        "            'EXUDATES CL 0.75', 'EXUDATES CL 0.83','EXUDATES CL 0.91',\n",
        "            'EXUDATES CL 1.0', 'MACULA-OPTIC DISC DISTANCE', 'OPTIC DISC DIAMATER', \n",
        "            'AM/FM CLASSIFICATION', 'CLASS']\n",
        "\n",
        "# adds the column names to the dataframe\n",
        "mess_df.columns = mess_cols"
      ]
    },
    {
      "cell_type": "code",
      "execution_count": 127,
      "metadata": {
        "id": "srPnmzdFoCDO"
      },
      "outputs": [],
      "source": [
        "### cleaning the data in mess_df; there's no missing data so no imputation\n",
        "\n",
        "# columns with boolean values\n",
        "bool_cols = ['QUALITY ASSESSMENT', 'PRE-SCREENING', 'AM/FM CLASSIFICATION']\n",
        "\n",
        "# ensures the columns with boolean values save as integers\n",
        "for col in bool_cols:\n",
        "  mess_df[col] = mess_df[col].astype('int64')\n",
        "\n",
        "# resaving the boolean values in the Class column from objects to ints\n",
        "mess_df['CLASS'] = mess_df['CLASS'].map({b'0':0, b'1':1}).astype('int64')\n",
        "\n",
        "mess_df = remove_outliers(mess_df)"
      ]
    },
    {
      "cell_type": "code",
      "execution_count": 128,
      "metadata": {
        "colab": {
          "base_uri": "https://localhost:8080/",
          "height": 540
        },
        "id": "UCeBz6rJpfnp",
        "outputId": "7fde452b-88df-4855-aa62-12666b01bb05"
      },
      "outputs": [
        {
          "output_type": "execute_result",
          "data": {
            "text/plain": [
              "      QUALITY ASSESSMENT  PRE-SCREENING  MA DETECTION CL 0.5  \\\n",
              "0                      1              1                 22.0   \n",
              "1                      1              1                 24.0   \n",
              "2                      1              1                 62.0   \n",
              "3                      1              1                 55.0   \n",
              "4                      1              1                 44.0   \n",
              "...                  ...            ...                  ...   \n",
              "1144                   1              1                 35.0   \n",
              "1146                   1              1                 34.0   \n",
              "1147                   1              1                 49.0   \n",
              "1149                   1              1                 39.0   \n",
              "1150                   1              1                  7.0   \n",
              "\n",
              "      MA DETECTION CL 0.58  MA DETECTION CL 0.66  MA DETECTION CL 0.75  \\\n",
              "0                     22.0                  22.0                  19.0   \n",
              "1                     24.0                  22.0                  18.0   \n",
              "2                     60.0                  59.0                  54.0   \n",
              "3                     53.0                  53.0                  50.0   \n",
              "4                     44.0                  44.0                  41.0   \n",
              "...                    ...                   ...                   ...   \n",
              "1144                  34.0                  33.0                  33.0   \n",
              "1146                  34.0                  34.0                  33.0   \n",
              "1147                  49.0                  49.0                  49.0   \n",
              "1149                  36.0                  29.0                  23.0   \n",
              "1150                   7.0                   7.0                   7.0   \n",
              "\n",
              "      MA DETECTION CL 0.83  MA DETECTION CL 0.91  MA DETECTION CL 1.0  \\\n",
              "0                     18.0                  14.0            49.895756   \n",
              "1                     16.0                  13.0            57.709936   \n",
              "2                     47.0                  33.0            55.831441   \n",
              "3                     43.0                  31.0            40.467228   \n",
              "4                     39.0                  27.0            18.026254   \n",
              "...                    ...                   ...                  ...   \n",
              "1144                  33.0                  26.0             2.579859   \n",
              "1146                  31.0                  24.0             6.071765   \n",
              "1147                  45.0                  37.0            63.197145   \n",
              "1149                  13.0                   7.0            40.525739   \n",
              "1150                   7.0                   5.0            69.423565   \n",
              "\n",
              "      EXUDATES CL 0.5  EXUDATES CL 0.58  EXUDATES CL 0.66  EXUDATES CL 0.75  \\\n",
              "0           17.775994          5.270920          0.771761          0.018632   \n",
              "1           23.799994          3.325423          0.234185          0.003903   \n",
              "2           27.993933         12.687485          4.852282          1.393889   \n",
              "3           18.445954          9.118901          3.079428          0.840261   \n",
              "4            8.570709          0.410381          0.000000          0.000000   \n",
              "...               ...               ...               ...               ...   \n",
              "1144         0.001552          0.000000          0.000000          0.000000   \n",
              "1146         0.937472          0.031145          0.003115          0.000000   \n",
              "1147        27.377668          8.067688          0.979548          0.001552   \n",
              "1149        12.604947          4.740919          1.077570          0.563518   \n",
              "1150         7.031843          1.750548          0.046597          0.021180   \n",
              "\n",
              "      EXUDATES CL 0.83  EXUDATES CL 0.91  EXUDATES CL 1.0  \\\n",
              "0             0.006864          0.003923         0.003923   \n",
              "1             0.003903          0.003903         0.003903   \n",
              "2             0.373252          0.041817         0.007744   \n",
              "3             0.272434          0.007653         0.001531   \n",
              "4             0.000000          0.000000         0.000000   \n",
              "...                ...               ...              ...   \n",
              "1144          0.000000          0.000000         0.000000   \n",
              "1146          0.000000          0.000000         0.000000   \n",
              "1147          0.000000          0.000000         0.000000   \n",
              "1149          0.326860          0.239568         0.174584   \n",
              "1150          0.008472          0.000000         0.000000   \n",
              "\n",
              "      MACULA-OPTIC DISC DISTANCE  OPTIC DISC DIAMATER  AM/FM CLASSIFICATION  \\\n",
              "0                       0.486903             0.100025                     1   \n",
              "1                       0.520908             0.144414                     0   \n",
              "2                       0.530904             0.128548                     0   \n",
              "3                       0.483284             0.114790                     0   \n",
              "4                       0.475935             0.123572                     0   \n",
              "...                          ...                  ...                   ...   \n",
              "1144                    0.537551             0.124181                     0   \n",
              "1146                    0.537470             0.116795                     0   \n",
              "1147                    0.516733             0.124190                     0   \n",
              "1149                    0.485972             0.106690                     1   \n",
              "1150                    0.556192             0.088957                     0   \n",
              "\n",
              "      CLASS  \n",
              "0         0  \n",
              "1         0  \n",
              "2         1  \n",
              "3         0  \n",
              "4         1  \n",
              "...     ...  \n",
              "1144      0  \n",
              "1146      0  \n",
              "1147      0  \n",
              "1149      1  \n",
              "1150      0  \n",
              "\n",
              "[968 rows x 20 columns]"
            ],
            "text/html": [
              "\n",
              "  <div id=\"df-ad127cab-f1b9-4b60-aff8-152472d722e9\">\n",
              "    <div class=\"colab-df-container\">\n",
              "      <div>\n",
              "<style scoped>\n",
              "    .dataframe tbody tr th:only-of-type {\n",
              "        vertical-align: middle;\n",
              "    }\n",
              "\n",
              "    .dataframe tbody tr th {\n",
              "        vertical-align: top;\n",
              "    }\n",
              "\n",
              "    .dataframe thead th {\n",
              "        text-align: right;\n",
              "    }\n",
              "</style>\n",
              "<table border=\"1\" class=\"dataframe\">\n",
              "  <thead>\n",
              "    <tr style=\"text-align: right;\">\n",
              "      <th></th>\n",
              "      <th>QUALITY ASSESSMENT</th>\n",
              "      <th>PRE-SCREENING</th>\n",
              "      <th>MA DETECTION CL 0.5</th>\n",
              "      <th>MA DETECTION CL 0.58</th>\n",
              "      <th>MA DETECTION CL 0.66</th>\n",
              "      <th>MA DETECTION CL 0.75</th>\n",
              "      <th>MA DETECTION CL 0.83</th>\n",
              "      <th>MA DETECTION CL 0.91</th>\n",
              "      <th>MA DETECTION CL 1.0</th>\n",
              "      <th>EXUDATES CL 0.5</th>\n",
              "      <th>EXUDATES CL 0.58</th>\n",
              "      <th>EXUDATES CL 0.66</th>\n",
              "      <th>EXUDATES CL 0.75</th>\n",
              "      <th>EXUDATES CL 0.83</th>\n",
              "      <th>EXUDATES CL 0.91</th>\n",
              "      <th>EXUDATES CL 1.0</th>\n",
              "      <th>MACULA-OPTIC DISC DISTANCE</th>\n",
              "      <th>OPTIC DISC DIAMATER</th>\n",
              "      <th>AM/FM CLASSIFICATION</th>\n",
              "      <th>CLASS</th>\n",
              "    </tr>\n",
              "  </thead>\n",
              "  <tbody>\n",
              "    <tr>\n",
              "      <th>0</th>\n",
              "      <td>1</td>\n",
              "      <td>1</td>\n",
              "      <td>22.0</td>\n",
              "      <td>22.0</td>\n",
              "      <td>22.0</td>\n",
              "      <td>19.0</td>\n",
              "      <td>18.0</td>\n",
              "      <td>14.0</td>\n",
              "      <td>49.895756</td>\n",
              "      <td>17.775994</td>\n",
              "      <td>5.270920</td>\n",
              "      <td>0.771761</td>\n",
              "      <td>0.018632</td>\n",
              "      <td>0.006864</td>\n",
              "      <td>0.003923</td>\n",
              "      <td>0.003923</td>\n",
              "      <td>0.486903</td>\n",
              "      <td>0.100025</td>\n",
              "      <td>1</td>\n",
              "      <td>0</td>\n",
              "    </tr>\n",
              "    <tr>\n",
              "      <th>1</th>\n",
              "      <td>1</td>\n",
              "      <td>1</td>\n",
              "      <td>24.0</td>\n",
              "      <td>24.0</td>\n",
              "      <td>22.0</td>\n",
              "      <td>18.0</td>\n",
              "      <td>16.0</td>\n",
              "      <td>13.0</td>\n",
              "      <td>57.709936</td>\n",
              "      <td>23.799994</td>\n",
              "      <td>3.325423</td>\n",
              "      <td>0.234185</td>\n",
              "      <td>0.003903</td>\n",
              "      <td>0.003903</td>\n",
              "      <td>0.003903</td>\n",
              "      <td>0.003903</td>\n",
              "      <td>0.520908</td>\n",
              "      <td>0.144414</td>\n",
              "      <td>0</td>\n",
              "      <td>0</td>\n",
              "    </tr>\n",
              "    <tr>\n",
              "      <th>2</th>\n",
              "      <td>1</td>\n",
              "      <td>1</td>\n",
              "      <td>62.0</td>\n",
              "      <td>60.0</td>\n",
              "      <td>59.0</td>\n",
              "      <td>54.0</td>\n",
              "      <td>47.0</td>\n",
              "      <td>33.0</td>\n",
              "      <td>55.831441</td>\n",
              "      <td>27.993933</td>\n",
              "      <td>12.687485</td>\n",
              "      <td>4.852282</td>\n",
              "      <td>1.393889</td>\n",
              "      <td>0.373252</td>\n",
              "      <td>0.041817</td>\n",
              "      <td>0.007744</td>\n",
              "      <td>0.530904</td>\n",
              "      <td>0.128548</td>\n",
              "      <td>0</td>\n",
              "      <td>1</td>\n",
              "    </tr>\n",
              "    <tr>\n",
              "      <th>3</th>\n",
              "      <td>1</td>\n",
              "      <td>1</td>\n",
              "      <td>55.0</td>\n",
              "      <td>53.0</td>\n",
              "      <td>53.0</td>\n",
              "      <td>50.0</td>\n",
              "      <td>43.0</td>\n",
              "      <td>31.0</td>\n",
              "      <td>40.467228</td>\n",
              "      <td>18.445954</td>\n",
              "      <td>9.118901</td>\n",
              "      <td>3.079428</td>\n",
              "      <td>0.840261</td>\n",
              "      <td>0.272434</td>\n",
              "      <td>0.007653</td>\n",
              "      <td>0.001531</td>\n",
              "      <td>0.483284</td>\n",
              "      <td>0.114790</td>\n",
              "      <td>0</td>\n",
              "      <td>0</td>\n",
              "    </tr>\n",
              "    <tr>\n",
              "      <th>4</th>\n",
              "      <td>1</td>\n",
              "      <td>1</td>\n",
              "      <td>44.0</td>\n",
              "      <td>44.0</td>\n",
              "      <td>44.0</td>\n",
              "      <td>41.0</td>\n",
              "      <td>39.0</td>\n",
              "      <td>27.0</td>\n",
              "      <td>18.026254</td>\n",
              "      <td>8.570709</td>\n",
              "      <td>0.410381</td>\n",
              "      <td>0.000000</td>\n",
              "      <td>0.000000</td>\n",
              "      <td>0.000000</td>\n",
              "      <td>0.000000</td>\n",
              "      <td>0.000000</td>\n",
              "      <td>0.475935</td>\n",
              "      <td>0.123572</td>\n",
              "      <td>0</td>\n",
              "      <td>1</td>\n",
              "    </tr>\n",
              "    <tr>\n",
              "      <th>...</th>\n",
              "      <td>...</td>\n",
              "      <td>...</td>\n",
              "      <td>...</td>\n",
              "      <td>...</td>\n",
              "      <td>...</td>\n",
              "      <td>...</td>\n",
              "      <td>...</td>\n",
              "      <td>...</td>\n",
              "      <td>...</td>\n",
              "      <td>...</td>\n",
              "      <td>...</td>\n",
              "      <td>...</td>\n",
              "      <td>...</td>\n",
              "      <td>...</td>\n",
              "      <td>...</td>\n",
              "      <td>...</td>\n",
              "      <td>...</td>\n",
              "      <td>...</td>\n",
              "      <td>...</td>\n",
              "      <td>...</td>\n",
              "    </tr>\n",
              "    <tr>\n",
              "      <th>1144</th>\n",
              "      <td>1</td>\n",
              "      <td>1</td>\n",
              "      <td>35.0</td>\n",
              "      <td>34.0</td>\n",
              "      <td>33.0</td>\n",
              "      <td>33.0</td>\n",
              "      <td>33.0</td>\n",
              "      <td>26.0</td>\n",
              "      <td>2.579859</td>\n",
              "      <td>0.001552</td>\n",
              "      <td>0.000000</td>\n",
              "      <td>0.000000</td>\n",
              "      <td>0.000000</td>\n",
              "      <td>0.000000</td>\n",
              "      <td>0.000000</td>\n",
              "      <td>0.000000</td>\n",
              "      <td>0.537551</td>\n",
              "      <td>0.124181</td>\n",
              "      <td>0</td>\n",
              "      <td>0</td>\n",
              "    </tr>\n",
              "    <tr>\n",
              "      <th>1146</th>\n",
              "      <td>1</td>\n",
              "      <td>1</td>\n",
              "      <td>34.0</td>\n",
              "      <td>34.0</td>\n",
              "      <td>34.0</td>\n",
              "      <td>33.0</td>\n",
              "      <td>31.0</td>\n",
              "      <td>24.0</td>\n",
              "      <td>6.071765</td>\n",
              "      <td>0.937472</td>\n",
              "      <td>0.031145</td>\n",
              "      <td>0.003115</td>\n",
              "      <td>0.000000</td>\n",
              "      <td>0.000000</td>\n",
              "      <td>0.000000</td>\n",
              "      <td>0.000000</td>\n",
              "      <td>0.537470</td>\n",
              "      <td>0.116795</td>\n",
              "      <td>0</td>\n",
              "      <td>0</td>\n",
              "    </tr>\n",
              "    <tr>\n",
              "      <th>1147</th>\n",
              "      <td>1</td>\n",
              "      <td>1</td>\n",
              "      <td>49.0</td>\n",
              "      <td>49.0</td>\n",
              "      <td>49.0</td>\n",
              "      <td>49.0</td>\n",
              "      <td>45.0</td>\n",
              "      <td>37.0</td>\n",
              "      <td>63.197145</td>\n",
              "      <td>27.377668</td>\n",
              "      <td>8.067688</td>\n",
              "      <td>0.979548</td>\n",
              "      <td>0.001552</td>\n",
              "      <td>0.000000</td>\n",
              "      <td>0.000000</td>\n",
              "      <td>0.000000</td>\n",
              "      <td>0.516733</td>\n",
              "      <td>0.124190</td>\n",
              "      <td>0</td>\n",
              "      <td>0</td>\n",
              "    </tr>\n",
              "    <tr>\n",
              "      <th>1149</th>\n",
              "      <td>1</td>\n",
              "      <td>1</td>\n",
              "      <td>39.0</td>\n",
              "      <td>36.0</td>\n",
              "      <td>29.0</td>\n",
              "      <td>23.0</td>\n",
              "      <td>13.0</td>\n",
              "      <td>7.0</td>\n",
              "      <td>40.525739</td>\n",
              "      <td>12.604947</td>\n",
              "      <td>4.740919</td>\n",
              "      <td>1.077570</td>\n",
              "      <td>0.563518</td>\n",
              "      <td>0.326860</td>\n",
              "      <td>0.239568</td>\n",
              "      <td>0.174584</td>\n",
              "      <td>0.485972</td>\n",
              "      <td>0.106690</td>\n",
              "      <td>1</td>\n",
              "      <td>1</td>\n",
              "    </tr>\n",
              "    <tr>\n",
              "      <th>1150</th>\n",
              "      <td>1</td>\n",
              "      <td>1</td>\n",
              "      <td>7.0</td>\n",
              "      <td>7.0</td>\n",
              "      <td>7.0</td>\n",
              "      <td>7.0</td>\n",
              "      <td>7.0</td>\n",
              "      <td>5.0</td>\n",
              "      <td>69.423565</td>\n",
              "      <td>7.031843</td>\n",
              "      <td>1.750548</td>\n",
              "      <td>0.046597</td>\n",
              "      <td>0.021180</td>\n",
              "      <td>0.008472</td>\n",
              "      <td>0.000000</td>\n",
              "      <td>0.000000</td>\n",
              "      <td>0.556192</td>\n",
              "      <td>0.088957</td>\n",
              "      <td>0</td>\n",
              "      <td>0</td>\n",
              "    </tr>\n",
              "  </tbody>\n",
              "</table>\n",
              "<p>968 rows × 20 columns</p>\n",
              "</div>\n",
              "      <button class=\"colab-df-convert\" onclick=\"convertToInteractive('df-ad127cab-f1b9-4b60-aff8-152472d722e9')\"\n",
              "              title=\"Convert this dataframe to an interactive table.\"\n",
              "              style=\"display:none;\">\n",
              "        \n",
              "  <svg xmlns=\"http://www.w3.org/2000/svg\" height=\"24px\"viewBox=\"0 0 24 24\"\n",
              "       width=\"24px\">\n",
              "    <path d=\"M0 0h24v24H0V0z\" fill=\"none\"/>\n",
              "    <path d=\"M18.56 5.44l.94 2.06.94-2.06 2.06-.94-2.06-.94-.94-2.06-.94 2.06-2.06.94zm-11 1L8.5 8.5l.94-2.06 2.06-.94-2.06-.94L8.5 2.5l-.94 2.06-2.06.94zm10 10l.94 2.06.94-2.06 2.06-.94-2.06-.94-.94-2.06-.94 2.06-2.06.94z\"/><path d=\"M17.41 7.96l-1.37-1.37c-.4-.4-.92-.59-1.43-.59-.52 0-1.04.2-1.43.59L10.3 9.45l-7.72 7.72c-.78.78-.78 2.05 0 2.83L4 21.41c.39.39.9.59 1.41.59.51 0 1.02-.2 1.41-.59l7.78-7.78 2.81-2.81c.8-.78.8-2.07 0-2.86zM5.41 20L4 18.59l7.72-7.72 1.47 1.35L5.41 20z\"/>\n",
              "  </svg>\n",
              "      </button>\n",
              "      \n",
              "  <style>\n",
              "    .colab-df-container {\n",
              "      display:flex;\n",
              "      flex-wrap:wrap;\n",
              "      gap: 12px;\n",
              "    }\n",
              "\n",
              "    .colab-df-convert {\n",
              "      background-color: #E8F0FE;\n",
              "      border: none;\n",
              "      border-radius: 50%;\n",
              "      cursor: pointer;\n",
              "      display: none;\n",
              "      fill: #1967D2;\n",
              "      height: 32px;\n",
              "      padding: 0 0 0 0;\n",
              "      width: 32px;\n",
              "    }\n",
              "\n",
              "    .colab-df-convert:hover {\n",
              "      background-color: #E2EBFA;\n",
              "      box-shadow: 0px 1px 2px rgba(60, 64, 67, 0.3), 0px 1px 3px 1px rgba(60, 64, 67, 0.15);\n",
              "      fill: #174EA6;\n",
              "    }\n",
              "\n",
              "    [theme=dark] .colab-df-convert {\n",
              "      background-color: #3B4455;\n",
              "      fill: #D2E3FC;\n",
              "    }\n",
              "\n",
              "    [theme=dark] .colab-df-convert:hover {\n",
              "      background-color: #434B5C;\n",
              "      box-shadow: 0px 1px 3px 1px rgba(0, 0, 0, 0.15);\n",
              "      filter: drop-shadow(0px 1px 2px rgba(0, 0, 0, 0.3));\n",
              "      fill: #FFFFFF;\n",
              "    }\n",
              "  </style>\n",
              "\n",
              "      <script>\n",
              "        const buttonEl =\n",
              "          document.querySelector('#df-ad127cab-f1b9-4b60-aff8-152472d722e9 button.colab-df-convert');\n",
              "        buttonEl.style.display =\n",
              "          google.colab.kernel.accessAllowed ? 'block' : 'none';\n",
              "\n",
              "        async function convertToInteractive(key) {\n",
              "          const element = document.querySelector('#df-ad127cab-f1b9-4b60-aff8-152472d722e9');\n",
              "          const dataTable =\n",
              "            await google.colab.kernel.invokeFunction('convertToInteractive',\n",
              "                                                     [key], {});\n",
              "          if (!dataTable) return;\n",
              "\n",
              "          const docLinkHtml = 'Like what you see? Visit the ' +\n",
              "            '<a target=\"_blank\" href=https://colab.research.google.com/notebooks/data_table.ipynb>data table notebook</a>'\n",
              "            + ' to learn more about interactive tables.';\n",
              "          element.innerHTML = '';\n",
              "          dataTable['output_type'] = 'display_data';\n",
              "          await google.colab.output.renderOutput(dataTable, element);\n",
              "          const docLink = document.createElement('div');\n",
              "          docLink.innerHTML = docLinkHtml;\n",
              "          element.appendChild(docLink);\n",
              "        }\n",
              "      </script>\n",
              "    </div>\n",
              "  </div>\n",
              "  "
            ]
          },
          "metadata": {},
          "execution_count": 128
        }
      ],
      "source": [
        "mess_df"
      ]
    },
    {
      "cell_type": "markdown",
      "source": [
        "### Analysis of Messidor Features"
      ],
      "metadata": {
        "id": "D8VpXlUdlYqZ"
      }
    },
    {
      "cell_type": "code",
      "execution_count": 129,
      "metadata": {
        "colab": {
          "base_uri": "https://localhost:8080/",
          "height": 143
        },
        "id": "V5VG0TEC8dCi",
        "outputId": "f7949f35-a7b5-47d0-d8a1-f7bbdadbd37d"
      },
      "outputs": [
        {
          "output_type": "execute_result",
          "data": {
            "text/plain": [
              "                         CLASS\n",
              "MA DETECTION CL 0.5   0.282618\n",
              "MA DETECTION CL 0.58  0.254831\n",
              "MA DETECTION CL 0.66  0.224684"
            ],
            "text/html": [
              "\n",
              "  <div id=\"df-377d10e5-cb7d-456d-9153-c9904420253e\">\n",
              "    <div class=\"colab-df-container\">\n",
              "      <div>\n",
              "<style scoped>\n",
              "    .dataframe tbody tr th:only-of-type {\n",
              "        vertical-align: middle;\n",
              "    }\n",
              "\n",
              "    .dataframe tbody tr th {\n",
              "        vertical-align: top;\n",
              "    }\n",
              "\n",
              "    .dataframe thead th {\n",
              "        text-align: right;\n",
              "    }\n",
              "</style>\n",
              "<table border=\"1\" class=\"dataframe\">\n",
              "  <thead>\n",
              "    <tr style=\"text-align: right;\">\n",
              "      <th></th>\n",
              "      <th>CLASS</th>\n",
              "    </tr>\n",
              "  </thead>\n",
              "  <tbody>\n",
              "    <tr>\n",
              "      <th>MA DETECTION CL 0.5</th>\n",
              "      <td>0.282618</td>\n",
              "    </tr>\n",
              "    <tr>\n",
              "      <th>MA DETECTION CL 0.58</th>\n",
              "      <td>0.254831</td>\n",
              "    </tr>\n",
              "    <tr>\n",
              "      <th>MA DETECTION CL 0.66</th>\n",
              "      <td>0.224684</td>\n",
              "    </tr>\n",
              "  </tbody>\n",
              "</table>\n",
              "</div>\n",
              "      <button class=\"colab-df-convert\" onclick=\"convertToInteractive('df-377d10e5-cb7d-456d-9153-c9904420253e')\"\n",
              "              title=\"Convert this dataframe to an interactive table.\"\n",
              "              style=\"display:none;\">\n",
              "        \n",
              "  <svg xmlns=\"http://www.w3.org/2000/svg\" height=\"24px\"viewBox=\"0 0 24 24\"\n",
              "       width=\"24px\">\n",
              "    <path d=\"M0 0h24v24H0V0z\" fill=\"none\"/>\n",
              "    <path d=\"M18.56 5.44l.94 2.06.94-2.06 2.06-.94-2.06-.94-.94-2.06-.94 2.06-2.06.94zm-11 1L8.5 8.5l.94-2.06 2.06-.94-2.06-.94L8.5 2.5l-.94 2.06-2.06.94zm10 10l.94 2.06.94-2.06 2.06-.94-2.06-.94-.94-2.06-.94 2.06-2.06.94z\"/><path d=\"M17.41 7.96l-1.37-1.37c-.4-.4-.92-.59-1.43-.59-.52 0-1.04.2-1.43.59L10.3 9.45l-7.72 7.72c-.78.78-.78 2.05 0 2.83L4 21.41c.39.39.9.59 1.41.59.51 0 1.02-.2 1.41-.59l7.78-7.78 2.81-2.81c.8-.78.8-2.07 0-2.86zM5.41 20L4 18.59l7.72-7.72 1.47 1.35L5.41 20z\"/>\n",
              "  </svg>\n",
              "      </button>\n",
              "      \n",
              "  <style>\n",
              "    .colab-df-container {\n",
              "      display:flex;\n",
              "      flex-wrap:wrap;\n",
              "      gap: 12px;\n",
              "    }\n",
              "\n",
              "    .colab-df-convert {\n",
              "      background-color: #E8F0FE;\n",
              "      border: none;\n",
              "      border-radius: 50%;\n",
              "      cursor: pointer;\n",
              "      display: none;\n",
              "      fill: #1967D2;\n",
              "      height: 32px;\n",
              "      padding: 0 0 0 0;\n",
              "      width: 32px;\n",
              "    }\n",
              "\n",
              "    .colab-df-convert:hover {\n",
              "      background-color: #E2EBFA;\n",
              "      box-shadow: 0px 1px 2px rgba(60, 64, 67, 0.3), 0px 1px 3px 1px rgba(60, 64, 67, 0.15);\n",
              "      fill: #174EA6;\n",
              "    }\n",
              "\n",
              "    [theme=dark] .colab-df-convert {\n",
              "      background-color: #3B4455;\n",
              "      fill: #D2E3FC;\n",
              "    }\n",
              "\n",
              "    [theme=dark] .colab-df-convert:hover {\n",
              "      background-color: #434B5C;\n",
              "      box-shadow: 0px 1px 3px 1px rgba(0, 0, 0, 0.15);\n",
              "      filter: drop-shadow(0px 1px 2px rgba(0, 0, 0, 0.3));\n",
              "      fill: #FFFFFF;\n",
              "    }\n",
              "  </style>\n",
              "\n",
              "      <script>\n",
              "        const buttonEl =\n",
              "          document.querySelector('#df-377d10e5-cb7d-456d-9153-c9904420253e button.colab-df-convert');\n",
              "        buttonEl.style.display =\n",
              "          google.colab.kernel.accessAllowed ? 'block' : 'none';\n",
              "\n",
              "        async function convertToInteractive(key) {\n",
              "          const element = document.querySelector('#df-377d10e5-cb7d-456d-9153-c9904420253e');\n",
              "          const dataTable =\n",
              "            await google.colab.kernel.invokeFunction('convertToInteractive',\n",
              "                                                     [key], {});\n",
              "          if (!dataTable) return;\n",
              "\n",
              "          const docLinkHtml = 'Like what you see? Visit the ' +\n",
              "            '<a target=\"_blank\" href=https://colab.research.google.com/notebooks/data_table.ipynb>data table notebook</a>'\n",
              "            + ' to learn more about interactive tables.';\n",
              "          element.innerHTML = '';\n",
              "          dataTable['output_type'] = 'display_data';\n",
              "          await google.colab.output.renderOutput(dataTable, element);\n",
              "          const docLink = document.createElement('div');\n",
              "          docLink.innerHTML = docLinkHtml;\n",
              "          element.appendChild(docLink);\n",
              "        }\n",
              "      </script>\n",
              "    </div>\n",
              "  </div>\n",
              "  "
            ]
          },
          "metadata": {},
          "execution_count": 129
        }
      ],
      "source": [
        "### finding the most correlated features with Class column (target)\n",
        "\n",
        "# creates correlation dataframe\n",
        "correlation_df = mess_df.corr()\n",
        "\n",
        "# removes the first row of the correlation dataframe\n",
        "class_correlation = (correlation_df).iloc[:-1, -1:]\n",
        "\n",
        "# finds the 3 largest values (the 3 features most positively \n",
        "# correlated with CLASS)\n",
        "pos_correlation = class_correlation.nlargest(3, 'CLASS')\n",
        "\n",
        "# show the 3 features most positively correlated with target labels\n",
        "pos_correlation.head()"
      ]
    },
    {
      "cell_type": "code",
      "execution_count": 130,
      "metadata": {
        "colab": {
          "base_uri": "https://localhost:8080/",
          "height": 143
        },
        "id": "zPodfhivxHCi",
        "outputId": "15257f3a-ac4d-409d-f334-7811a170a3ef"
      },
      "outputs": [
        {
          "output_type": "execute_result",
          "data": {
            "text/plain": [
              "                         CLASS\n",
              "EXUDATES CL 0.5      -0.064864\n",
              "EXUDATES CL 0.58     -0.030217\n",
              "AM/FM CLASSIFICATION -0.023560"
            ],
            "text/html": [
              "\n",
              "  <div id=\"df-876308ad-aa9d-4174-9a67-d6a0f84d71ad\">\n",
              "    <div class=\"colab-df-container\">\n",
              "      <div>\n",
              "<style scoped>\n",
              "    .dataframe tbody tr th:only-of-type {\n",
              "        vertical-align: middle;\n",
              "    }\n",
              "\n",
              "    .dataframe tbody tr th {\n",
              "        vertical-align: top;\n",
              "    }\n",
              "\n",
              "    .dataframe thead th {\n",
              "        text-align: right;\n",
              "    }\n",
              "</style>\n",
              "<table border=\"1\" class=\"dataframe\">\n",
              "  <thead>\n",
              "    <tr style=\"text-align: right;\">\n",
              "      <th></th>\n",
              "      <th>CLASS</th>\n",
              "    </tr>\n",
              "  </thead>\n",
              "  <tbody>\n",
              "    <tr>\n",
              "      <th>EXUDATES CL 0.5</th>\n",
              "      <td>-0.064864</td>\n",
              "    </tr>\n",
              "    <tr>\n",
              "      <th>EXUDATES CL 0.58</th>\n",
              "      <td>-0.030217</td>\n",
              "    </tr>\n",
              "    <tr>\n",
              "      <th>AM/FM CLASSIFICATION</th>\n",
              "      <td>-0.023560</td>\n",
              "    </tr>\n",
              "  </tbody>\n",
              "</table>\n",
              "</div>\n",
              "      <button class=\"colab-df-convert\" onclick=\"convertToInteractive('df-876308ad-aa9d-4174-9a67-d6a0f84d71ad')\"\n",
              "              title=\"Convert this dataframe to an interactive table.\"\n",
              "              style=\"display:none;\">\n",
              "        \n",
              "  <svg xmlns=\"http://www.w3.org/2000/svg\" height=\"24px\"viewBox=\"0 0 24 24\"\n",
              "       width=\"24px\">\n",
              "    <path d=\"M0 0h24v24H0V0z\" fill=\"none\"/>\n",
              "    <path d=\"M18.56 5.44l.94 2.06.94-2.06 2.06-.94-2.06-.94-.94-2.06-.94 2.06-2.06.94zm-11 1L8.5 8.5l.94-2.06 2.06-.94-2.06-.94L8.5 2.5l-.94 2.06-2.06.94zm10 10l.94 2.06.94-2.06 2.06-.94-2.06-.94-.94-2.06-.94 2.06-2.06.94z\"/><path d=\"M17.41 7.96l-1.37-1.37c-.4-.4-.92-.59-1.43-.59-.52 0-1.04.2-1.43.59L10.3 9.45l-7.72 7.72c-.78.78-.78 2.05 0 2.83L4 21.41c.39.39.9.59 1.41.59.51 0 1.02-.2 1.41-.59l7.78-7.78 2.81-2.81c.8-.78.8-2.07 0-2.86zM5.41 20L4 18.59l7.72-7.72 1.47 1.35L5.41 20z\"/>\n",
              "  </svg>\n",
              "      </button>\n",
              "      \n",
              "  <style>\n",
              "    .colab-df-container {\n",
              "      display:flex;\n",
              "      flex-wrap:wrap;\n",
              "      gap: 12px;\n",
              "    }\n",
              "\n",
              "    .colab-df-convert {\n",
              "      background-color: #E8F0FE;\n",
              "      border: none;\n",
              "      border-radius: 50%;\n",
              "      cursor: pointer;\n",
              "      display: none;\n",
              "      fill: #1967D2;\n",
              "      height: 32px;\n",
              "      padding: 0 0 0 0;\n",
              "      width: 32px;\n",
              "    }\n",
              "\n",
              "    .colab-df-convert:hover {\n",
              "      background-color: #E2EBFA;\n",
              "      box-shadow: 0px 1px 2px rgba(60, 64, 67, 0.3), 0px 1px 3px 1px rgba(60, 64, 67, 0.15);\n",
              "      fill: #174EA6;\n",
              "    }\n",
              "\n",
              "    [theme=dark] .colab-df-convert {\n",
              "      background-color: #3B4455;\n",
              "      fill: #D2E3FC;\n",
              "    }\n",
              "\n",
              "    [theme=dark] .colab-df-convert:hover {\n",
              "      background-color: #434B5C;\n",
              "      box-shadow: 0px 1px 3px 1px rgba(0, 0, 0, 0.15);\n",
              "      filter: drop-shadow(0px 1px 2px rgba(0, 0, 0, 0.3));\n",
              "      fill: #FFFFFF;\n",
              "    }\n",
              "  </style>\n",
              "\n",
              "      <script>\n",
              "        const buttonEl =\n",
              "          document.querySelector('#df-876308ad-aa9d-4174-9a67-d6a0f84d71ad button.colab-df-convert');\n",
              "        buttonEl.style.display =\n",
              "          google.colab.kernel.accessAllowed ? 'block' : 'none';\n",
              "\n",
              "        async function convertToInteractive(key) {\n",
              "          const element = document.querySelector('#df-876308ad-aa9d-4174-9a67-d6a0f84d71ad');\n",
              "          const dataTable =\n",
              "            await google.colab.kernel.invokeFunction('convertToInteractive',\n",
              "                                                     [key], {});\n",
              "          if (!dataTable) return;\n",
              "\n",
              "          const docLinkHtml = 'Like what you see? Visit the ' +\n",
              "            '<a target=\"_blank\" href=https://colab.research.google.com/notebooks/data_table.ipynb>data table notebook</a>'\n",
              "            + ' to learn more about interactive tables.';\n",
              "          element.innerHTML = '';\n",
              "          dataTable['output_type'] = 'display_data';\n",
              "          await google.colab.output.renderOutput(dataTable, element);\n",
              "          const docLink = document.createElement('div');\n",
              "          docLink.innerHTML = docLinkHtml;\n",
              "          element.appendChild(docLink);\n",
              "        }\n",
              "      </script>\n",
              "    </div>\n",
              "  </div>\n",
              "  "
            ]
          },
          "metadata": {},
          "execution_count": 130
        }
      ],
      "source": [
        "# finds the 3 smallest values (the 3 features most negatively\n",
        "# correlated with CLASS)\n",
        "neg_correlation = class_correlation.nsmallest(3, 'CLASS')\n",
        "\n",
        "# show the 3 features most negatively correlated with target labels\n",
        "neg_correlation.head()"
      ]
    },
    {
      "cell_type": "code",
      "execution_count": 131,
      "metadata": {
        "colab": {
          "base_uri": "https://localhost:8080/",
          "height": 1000
        },
        "id": "zhDvfz6WIpwp",
        "outputId": "4c3bf01e-5ece-428f-8d91-533e545ed26b"
      },
      "outputs": [
        {
          "output_type": "display_data",
          "data": {
            "text/plain": [
              "<Figure size 432x288 with 1 Axes>"
            ],
            "image/png": "[encoded data removed]"
          },
          "metadata": {
            "needs_background": "light"
          }
        },
        {
          "output_type": "display_data",
          "data": {
            "text/plain": [
              "<Figure size 432x288 with 1 Axes>"
            ],
            "image/png": "[encoded data removed]"
          },
          "metadata": {
            "needs_background": "light"
          }
        },
        {
          "output_type": "display_data",
          "data": {
            "text/plain": [
              "<Figure size 432x288 with 1 Axes>"
            ],
            "image/png": "[encoded data removed]"
          },
          "metadata": {
            "needs_background": "light"
          }
        },
        {
          "output_type": "display_data",
          "data": {
            "text/plain": [
              "<Figure size 432x288 with 1 Axes>"
            ],
            "image/png": "[encoded data removed]"
          },
          "metadata": {
            "needs_background": "light"
          }
        },
        {
          "output_type": "display_data",
          "data": {
            "text/plain": [
              "<Figure size 432x288 with 1 Axes>"
            ],
            "image/png": "[encoded data removed]"
          },
          "metadata": {
            "needs_background": "light"
          }
        },
        {
          "output_type": "display_data",
          "data": {
            "text/plain": [
              "<Figure size 432x288 with 1 Axes>"
            ],
            "image/png": "[encoded data removed]"
          },
          "metadata": {
            "needs_background": "light"
          }
        },
        {
          "output_type": "display_data",
          "data": {
            "text/plain": [
              "<Figure size 432x288 with 1 Axes>"
            ],
            "image/png": "[encoded data removed]"
          },
          "metadata": {
            "needs_background": "light"
          }
        },
        {
          "output_type": "display_data",
          "data": {
            "text/plain": [
              "<Figure size 432x288 with 1 Axes>"
            ],
            "image/png": "[encoded data removed]"
          },
          "metadata": {
            "needs_background": "light"
          }
        },
        {
          "output_type": "display_data",
          "data": {
            "text/plain": [
              "<Figure size 432x288 with 1 Axes>"
            ],
            "image/png": "[encoded data removed]"
          },
          "metadata": {
            "needs_background": "light"
          }
        },
        {
          "output_type": "display_data",
          "data": {
            "text/plain": [
              "<Figure size 432x288 with 1 Axes>"
            ],
            "image/png": "[encoded data removed]"
          },
          "metadata": {
            "needs_background": "light"
          }
        },
        {
          "output_type": "display_data",
          "data": {
            "text/plain": [
              "<Figure size 432x288 with 1 Axes>"
            ],
            "image/png": "[encoded data removed]"
          },
          "metadata": {
            "needs_background": "light"
          }
        },
        {
          "output_type": "display_data",
          "data": {
            "text/plain": [
              "<Figure size 432x288 with 1 Axes>"
            ],
            "image/png": "[encoded data removed]"
          },
          "metadata": {
            "needs_background": "light"
          }
        },
        {
          "output_type": "display_data",
          "data": {
            "text/plain": [
              "<Figure size 432x288 with 1 Axes>"
            ],
            "image/png": "[encoded data removed]"
          },
          "metadata": {
            "needs_background": "light"
          }
        },
        {
          "output_type": "display_data",
          "data": {
            "text/plain": [
              "<Figure size 432x288 with 1 Axes>"
            ],
            "image/png": "[encoded data removed]"
          },
          "metadata": {
            "needs_background": "light"
          }
        },
        {
          "output_type": "display_data",
          "data": {
            "text/plain": [
              "<Figure size 432x288 with 1 Axes>"
            ],
            "image/png": "[encoded data removed]"
          },
          "metadata": {
            "needs_background": "light"
          }
        },
        {
          "output_type": "display_data",
          "data": {
            "text/plain": [
              "<Figure size 432x288 with 1 Axes>"
            ],
            "image/png": "[encoded data removed]"
          },
          "metadata": {
            "needs_background": "light"
          }
        }
      ],
      "source": [
        "### creating histograms for each non-boolean valued column\n",
        "\n",
        "create_histograms(mess_df, list(mess_df)[2:18])"
      ]
    },
    {
      "cell_type": "code",
      "source": [
        "### using random forest to determine the relative feature importance\n",
        "\n",
        "mess_importance_arr = RF_find_features(mess_df)\n",
        "\n",
        "# plots the feature importance\n",
        "plot_feature_importance(mess_importance_arr)"
      ],
      "metadata": {
        "colab": {
          "base_uri": "https://localhost:8080/",
          "height": 625
        },
        "id": "heAn38pA4stU",
        "outputId": "debc943b-21c9-4285-994a-ba4ab9257bbf"
      },
      "execution_count": 132,
      "outputs": [
        {
          "output_type": "stream",
          "name": "stdout",
          "text": [
            "Feature: QUALITY ASSESSMENT, Score: 0.00000\n",
            "Feature: PRE-SCREENING, Score: 0.00000\n",
            "Feature: MA DETECTION CL 0.5, Score: 0.13209\n",
            "Feature: MA DETECTION CL 0.58, Score: 0.02491\n",
            "Feature: MA DETECTION CL 0.66, Score: 0.02494\n",
            "Feature: MA DETECTION CL 0.75, Score: 0.03143\n",
            "Feature: MA DETECTION CL 0.83, Score: 0.03603\n",
            "Feature: MA DETECTION CL 0.91, Score: 0.04987\n",
            "Feature: MA DETECTION CL 1.0, Score: 0.09750\n",
            "Feature: EXUDATES CL 0.5, Score: 0.08174\n",
            "Feature: EXUDATES CL 0.58, Score: 0.07686\n",
            "Feature: EXUDATES CL 0.66, Score: 0.07623\n",
            "Feature: EXUDATES CL 0.75, Score: 0.03958\n",
            "Feature: EXUDATES CL 0.83, Score: 0.03423\n",
            "Feature: EXUDATES CL 0.91, Score: 0.07293\n",
            "Feature: EXUDATES CL 1.0, Score: 0.03044\n",
            "Feature: MACULA-OPTIC DISC DISTANCE, Score: 0.09781\n",
            "Feature: OPTIC DISC DIAMATER, Score: 0.08814\n",
            "Feature: AM/FM CLASSIFICATION, Score: 0.00528\n"
          ]
        },
        {
          "output_type": "display_data",
          "data": {
            "text/plain": [
              "<Figure size 432x288 with 1 Axes>"
            ],
            "image/png": "[encoded data removed]"
          },
          "metadata": {
            "needs_background": "light"
          }
        }
      ]
    },
    {
      "cell_type": "code",
      "source": [
        "### finding the top 2 most important features to check values in correlation dataframe\n",
        "\n",
        "top_2_features(mess_importance_arr, mess_df)"
      ],
      "metadata": {
        "colab": {
          "base_uri": "https://localhost:8080/"
        },
        "id": "DZlUFKel7P_B",
        "outputId": "366f66d2-0a32-48c9-8884-8823aeeebeeb"
      },
      "execution_count": 133,
      "outputs": [
        {
          "output_type": "stream",
          "name": "stdout",
          "text": [
            "The most important feature is MA DETECTION CL 0.5\n",
            "The second most important feature is MACULA-OPTIC DISC DISTANCE\n"
          ]
        }
      ]
    },
    {
      "cell_type": "markdown",
      "source": [
        "# Implementing models"
      ],
      "metadata": {
        "id": "a6lVueablnwe"
      }
    },
    {
      "cell_type": "markdown",
      "source": [
        "## Helper functions"
      ],
      "metadata": {
        "id": "U_WEPKULlIU2"
      }
    },
    {
      "cell_type": "code",
      "execution_count": 28,
      "metadata": {
        "id": "_s60NJiriwJK"
      },
      "outputs": [],
      "source": [
        "### accuracy-evaluating function\n",
        "def evaluate_acc(true_labels, target_labels):\n",
        "\n",
        "  # the number of labels\n",
        "  label_count = true_labels.shape[0]\n",
        "\n",
        "  # the accuracy is the number of correctly labelled instances\n",
        "  # divided by the total amount\n",
        "  accuracy = np.sum(target_labels == true_labels)/label_count\n",
        "\n",
        "  return accuracy"
      ]
    },
    {
      "cell_type": "code",
      "source": [
        "def run_KNN(df, plot_2D_graph = False):\n",
        "  # splits the data\n",
        "  x_train, y_train, x_test, y_test = train_test_split(df)\n",
        "\n",
        "  # creates a new KNN model\n",
        "  knn_model = KNN(K = 3)\n",
        "\n",
        "  # fits the model to the training data, then tests the model on the test\n",
        "  # data for K = 3\n",
        "  class_prob, knn_arr = knn_model.fit(x_train, y_train).predict(x_test)\n",
        "\n",
        "  # outputs an array of the most likely class labels for each instance in x_test\n",
        "  class_pred = np.argmax(class_prob, axis = -1)\n",
        "\n",
        "  # finds the accuracy of the model\n",
        "  accuracy = evaluate_acc(y_test, class_pred)\n",
        "\n",
        "  # creates boolean arrays to represent correct and incorrect predictions\n",
        "  correct_pred = class_pred == y_test\n",
        "  incorrect_pred = np.logical_not(correct_pred)\n",
        "\n",
        "  print(\"The accuracy of the model is: \" + str(round((accuracy * 100), 2)) + \"%\")\n",
        "\n",
        "  if plot_2D_graph:\n",
        "    # creates boolean arrays to represent correct and incorrect predictions\n",
        "    correct_pred = class_pred == y_test\n",
        "    incorrect_pred = np.logical_not(correct_pred)\n",
        "\n",
        "    plt.scatter(x_train[:, 0], x_train[:, 1], c = y_train, marker = 'o', alpha = 0.2, label = 'train')\n",
        "    plt.scatter(x_test[correct_pred, 0], x_test[correct_pred, 1], marker = '.', c = class_pred[correct_pred], label = 'correct')\n",
        "    plt.scatter(x_test[incorrect_pred, 0], x_test[incorrect_pred, 1], marker = 'x', c = class_pred[incorrect_pred], label = 'misclassified')\n",
        "\n",
        "    for i in range(x_test.shape[0]):\n",
        "      for k in range(knn_model.K):\n",
        "\n",
        "        hor = x_test[i, 0], x_train[knn_arr[i, k], 0]\n",
        "        ver = x_test[i, 1], x_train[knn_arr[i, k], 1]\n",
        "\n",
        "        plt.plot(hor, ver, 'k-', alpha = 0.1)\n",
        "\n",
        "    plt.xlabel(list(df)[0])\n",
        "    plt.ylabel(list(df)[1])\n",
        "    plt.legend()\n",
        "    plt.show()"
      ],
      "metadata": {
        "id": "ISWwCbRZ-e3S"
      },
      "execution_count": 145,
      "outputs": []
    },
    {
      "cell_type": "markdown",
      "source": [
        "## KNN"
      ],
      "metadata": {
        "id": "-7B0imbhlxBQ"
      }
    },
    {
      "cell_type": "code",
      "execution_count": 138,
      "metadata": {
        "id": "2aSftjetWRzc"
      },
      "outputs": [],
      "source": [
        "# distance functions\n",
        "euclidean = lambda x_train, x_test: np.sqrt(np.sum((x_train - x_test)**2, axis = -1))\n",
        "manhattan = lambda x_train, x_test: np.sum(np.abs(x_train - x_test), axis = -1)\n",
        "cosine = lambda x_train, x_test: np.sum(x_train * x_test, axis = -1) / ((np.sqrt(np.sum(x_train**2, axis = -1))) *(np.sqrt(np.sum(x_test**2, axis = -1))))\n",
        "\n",
        "class KNN:\n",
        "  # constructor\n",
        "  def __init__(self, K = 1, dist_fn = euclidean):\n",
        "    self.dist_fn = dist_fn\n",
        "    self.K = K\n",
        "\n",
        "  def fit(self, x_train, y_train):\n",
        "    # stores the training data, since KNN is a lazy learner\n",
        "    self.x_train = x_train\n",
        "    self.y_train = y_train\n",
        "\n",
        "    # the number of classes\n",
        "    self.class_count = len(set(y_train))\n",
        "    return self\n",
        "\n",
        "  def predict(self, x_test):\n",
        "    # uses the stored training data and x_test (test data passed as input)\n",
        "\n",
        "    # the number of instances in the testing data\n",
        "    instance_count = x_test.shape[0]\n",
        "\n",
        "    # an array of the distances between the training data points and the testing\n",
        "    # data points\n",
        "    distances_arr = self.dist_fn(self.x_train[None, :, :], x_test[:, None, :])\n",
        "    \n",
        "    # initializes an array full of zeros for the k-nearest neighbours\n",
        "    knn_arr = np.zeros((instance_count, self.K), dtype = int)\n",
        "    # initializes an array full of zeros for the class probabilities\n",
        "    class_prob = np.zeros((instance_count, self.class_count))\n",
        "\n",
        "    # iterates through each instance in the testing data\n",
        "    for instance in range(instance_count):\n",
        "      # the i-th index is an array with the k-nearest neighbours in x_train to\n",
        "      # data point i in x_test\n",
        "      knn_arr[instance, :] = np.argsort(distances_arr[instance])[:self.K]\n",
        "      \n",
        "      # the i-th index is an array counting the occurrence of each\n",
        "      # class type for data point i in x_test where the j-th index of the \n",
        "      # sub-array represents the number of neighbours in x_train of class j\n",
        "      class_prob[instance, :] = np.bincount(self.y_train[knn_arr[instance,:]], minlength = self.class_count)\n",
        "      #print(self.y_train[knn_arr[instance, :]].dtype)\n",
        "\n",
        "    # divides all probabilities by the number of neighbours to look for\n",
        "    class_prob /= self.K\n",
        "\n",
        "    return class_prob, knn_arr\n"
      ]
    },
    {
      "cell_type": "markdown",
      "source": [
        "## Decision Tree"
      ],
      "metadata": {
        "id": "vFWDVUnTl3gR"
      }
    },
    {
      "cell_type": "code",
      "execution_count": 30,
      "metadata": {
        "id": "MTzVXa7EGN9Z"
      },
      "outputs": [],
      "source": [
        "class Node:\n",
        "  def __init__(self, instance_indices, parent):\n",
        "\n",
        "    # the indices of the instances (in the data) within this region of the DT\n",
        "    self.instance_indices = instance_indices\n",
        "    self.left = None\n",
        "    self.right = None\n",
        "    self.split_feature = None\n",
        "    self.split_val = None\n",
        "\n",
        "    # if the node has a parent\n",
        "    if parent:\n",
        "      self.depth = parent.depth + 1\n",
        "      self.class_count = parent.class_count\n",
        "      \n",
        "      # pointer to original data\n",
        "      self.data = parent.data\n",
        "      self.labels = parent.labels\n",
        "      class_prob = np.bincount(self.labels[instance_indices], minlength = self.class_count)\n",
        "      self.class_prob = class_prob / np.sum(class_prob)"
      ]
    },
    {
      "cell_type": "code",
      "execution_count": 31,
      "metadata": {
        "id": "7GhZiho7IEuM"
      },
      "outputs": [],
      "source": [
        "def greedy_split(node, cost_fn):\n",
        "  # if the split cannot be made, returns infinity\n",
        "  best_cost = np.inf\n",
        "  best_feature, best_value = None, None\n",
        "  instance_count, feature_count = node.data.shape\n",
        "  best_split = None\n",
        "\n",
        "  # sorts the data within each column then saves boundary values in test_splits\n",
        "  sorted_data = np.sort(node.data[node.instance_indices], axis = 0)\n",
        "  test_splits = (sorted_data[1:] + sorted_data[:-1]) / 2\n",
        "\n",
        "  for feature in range(feature_count):\n",
        "    feature_data = node.data[node.instance_indices, feature]\n",
        "\n",
        "    if(len(set(feature_data)) == 2):\n",
        "      left_indices = node.instance_indices[feature_data == 0]\n",
        "      right_indices = node.instance_indices[feature_data == 1]\n",
        "\n",
        "    else:\n",
        "      for split in test_splits[:, feature]:\n",
        "        left_indices = node.instance_indices[feature_data <= split]\n",
        "        right_indices = node.instance_indices[feature_data > split]\n",
        "\n",
        "        if (len(left_indices) == 0) or (len(right_indices) == 0):\n",
        "          continue\n",
        "\n",
        "      left_cost = cost_fn(node.labels[left_indices])\n",
        "      right_cost = cost_fn(node.labels[right_indices])\n",
        "\n",
        "      left_count, right_count = left_indices.shape[0], right_indices.shape[0]\n",
        "      cost = ((left_count * left_cost) + (right_count * right_cost)) / instance_count\n",
        "\n",
        "      if cost < best_cost:\n",
        "        best_cost = cost\n",
        "        best_feature = feature\n",
        "        best_split = split\n",
        "\n",
        "  return best_cost, best_feature, best_split"
      ]
    },
    {
      "cell_type": "code",
      "execution_count": 268,
      "metadata": {
        "id": "KA60w5IZMbum"
      },
      "outputs": [],
      "source": [
        "### cost functions\n",
        "\n",
        "''' need to fix this\n",
        "def misclassification_cost(labels):\n",
        "  most_frequent_label = np.argmax(labels)\n",
        "  cost = sum(1 for label in labels if label != most_frequent_label) / len(labels)\n",
        "  return cost\n",
        "''' \n",
        "\n",
        "def misclassification_cost(labels):\n",
        "    counts = np.bincount(labels) \n",
        "    class_probs = counts / np.sum(counts)\n",
        "    return 1 - np.max(class_probs)\n",
        "\n",
        "def entropy_cost(labels):\n",
        "  cost = 0\n",
        "  unique_labels = set(labels)\n",
        "  label_count = len(labels)\n",
        "\n",
        "  for unique_label in unique_labels:\n",
        "    cur_labels = sum(1 for label in labels if label == unique_label)\n",
        "    ratio = cur_labels / label_count\n",
        "    cost += ratio * np.log2(ratio)\n",
        "\n",
        "  cost *= -1\n",
        "  return cost\n",
        "\n",
        "def gini_cost(labels):\n",
        "  cost = 0\n",
        "  unique_labels = set(labels)\n",
        "  label_count = len(labels)\n",
        "\n",
        "  for unique_label in unique_labels:\n",
        "    cur_labels = sum(1 for label in labels if label == unique_label)\n",
        "    ratio = cur_labels / label_count\n",
        "    cost += np.square(ratio)\n",
        "\n",
        "  cost = 1 - cost\n",
        "  return cost         "
      ]
    },
    {
      "cell_type": "code",
      "execution_count": 33,
      "metadata": {
        "id": "LF9f307pWx0P"
      },
      "outputs": [],
      "source": [
        "### the tree stops splitting if\n",
        "### 1) there are not enough points under the current node (min_instances)\n",
        "### 2) maximum depth reached (max_depth)\n",
        "### 3) decrease in cost is negligible\n",
        "\n",
        "class DT:\n",
        "  def __init__(self, class_count = None, max_depth = 3, cost_fn = entropy_cost, min_instances = 1):\n",
        "    self.root = None\n",
        "    self.max_depth = max_depth\n",
        "    self.cost_fn = cost_fn\n",
        "    self.class_count = class_count\n",
        "    self.min_instances = min_instances\n",
        "\n",
        "  def fit(self, data, labels):\n",
        "    self.data = data\n",
        "    self.labels = labels\n",
        "\n",
        "    if self.class_count is None:\n",
        "      self.class_count = len(set(labels))\n",
        "\n",
        "    # root\n",
        "    self.root = Node(np.arange(data.shape[0]), None)\n",
        "    self.root.data = data\n",
        "    self.root.labels = labels\n",
        "    self.root.class_count = self.class_count\n",
        "    self.root.depth = 0\n",
        "\n",
        "    # builds the rest of the tree\n",
        "    self.fit_recursive(self.root)\n",
        "\n",
        "    return self\n",
        "\n",
        "  def fit_recursive(self, node):\n",
        "    max_depth_reached = node.depth == self.max_depth\n",
        "    insufficient_instances = len(node.instance_indices) <= self.min_instances\n",
        "\n",
        "    # if the maximum depth was reached\n",
        "    if max_depth_reached or insufficient_instances:\n",
        "      return\n",
        "\n",
        "    cost, split_feature, split_value = greedy_split(node, self.cost_fn)\n",
        "\n",
        "    # it's not possible to split\n",
        "    if np.isinf(cost):\n",
        "      return\n",
        "\n",
        "    left_split_indices = node.data[node.instance_indices, split_feature] <= split_value\n",
        "\n",
        "    node.split_feature = split_feature\n",
        "    node.split_value = split_value\n",
        "\n",
        "    # new nodes\n",
        "    new_left = Node(node.instance_indices[left_split_indices], node)\n",
        "    new_right = Node(node.instance_indices[np.logical_not(left_split_indices)], node)\n",
        "\n",
        "    # recursive call\n",
        "    self.fit_recursive(new_left)\n",
        "    self.fit_recursive(new_right)\n",
        "\n",
        "    node.left = new_left\n",
        "    node.right = new_right\n",
        "\n",
        "  def predict(self, x_test):\n",
        "    # initializing empty array\n",
        "    class_probs = np.zeros((x_test.shape[0], self.class_count))\n",
        "\n",
        "    for instance_num, instance_features in enumerate(x_test):\n",
        "      node = self.root\n",
        "      \n",
        "      while node.left:\n",
        "        if instance_features[node.split_feature] <= node.split_value:\n",
        "          node = node.left\n",
        "        else:\n",
        "          node = node.right\n",
        "\n",
        "      # while loop terminates when you reach a leaf of the tree\n",
        "      # the class probability of that node is taken for prediction\n",
        "      class_probs[instance_num, :] = node.class_prob\n",
        "\n",
        "    return class_probs"
      ]
    },
    {
      "cell_type": "markdown",
      "source": [
        "# Running experiments"
      ],
      "metadata": {
        "id": "IlELJSq3nWUz"
      }
    },
    {
      "cell_type": "markdown",
      "source": [
        "## KNN experiments"
      ],
      "metadata": {
        "id": "SNenEnbonsLp"
      }
    },
    {
      "cell_type": "code",
      "execution_count": 155,
      "metadata": {
        "colab": {
          "base_uri": "https://localhost:8080/"
        },
        "id": "E81-AwpM10sb",
        "outputId": "a8b59807-ca00-4fdb-d129-fd4be85a3c4e"
      },
      "outputs": [
        {
          "output_type": "stream",
          "name": "stdout",
          "text": [
            "The accuracy of the model is: 88.46%\n"
          ]
        }
      ],
      "source": [
        "### running KNN on all hep_df data\n",
        "run_KNN(hep_df)"
      ]
    },
    {
      "cell_type": "code",
      "source": [
        "### running KNN on all hep_df data cleaned through imputation\n",
        "run_KNN(hep_imputation_df)"
      ],
      "metadata": {
        "colab": {
          "base_uri": "https://localhost:8080/"
        },
        "id": "pnsTK4eyBflo",
        "outputId": "27f0ab9f-3279-48cc-acbf-995fedcca51b"
      },
      "execution_count": 167,
      "outputs": [
        {
          "output_type": "stream",
          "name": "stdout",
          "text": [
            "The accuracy of the model is: 73.58%\n"
          ]
        }
      ]
    },
    {
      "cell_type": "code",
      "source": [
        "### running KNN on all hep_DF data (normalized)\n",
        "run_KNN(normalize_df(hep_df))"
      ],
      "metadata": {
        "colab": {
          "base_uri": "https://localhost:8080/"
        },
        "id": "cP3TtHyXAQF_",
        "outputId": "11a77c48-0294-4ec8-ad49-abb1d66f7a64"
      },
      "execution_count": 156,
      "outputs": [
        {
          "output_type": "stream",
          "name": "stdout",
          "text": [
            "The accuracy of the model is: 92.31%\n"
          ]
        }
      ]
    },
    {
      "cell_type": "code",
      "source": [
        "### running KNN on all hep_DF data (standardized)\n",
        "run_KNN(standardize_df(hep_df))"
      ],
      "metadata": {
        "colab": {
          "base_uri": "https://localhost:8080/"
        },
        "id": "TDrCyEaMAZay",
        "outputId": "6e7d18b1-9336-4130-e36c-3f8639d8f1a0"
      },
      "execution_count": 157,
      "outputs": [
        {
          "output_type": "stream",
          "name": "stdout",
          "text": [
            "The accuracy of the model is: 88.46%\n"
          ]
        }
      ]
    },
    {
      "cell_type": "code",
      "source": [
        "### running KNN on hep_df for top 2 features\n",
        "run_KNN(hep_df[['ALBUMIN', 'BILIRUBIN', 'CLASS']], True)"
      ],
      "metadata": {
        "colab": {
          "base_uri": "https://localhost:8080/",
          "height": 296
        },
        "id": "IR2VvOEf-ren",
        "outputId": "cc187592-5596-4321-8f63-7c17f67b1555"
      },
      "execution_count": 158,
      "outputs": [
        {
          "output_type": "stream",
          "name": "stdout",
          "text": [
            "The accuracy of the model is: 92.31%\n"
          ]
        },
        {
          "output_type": "display_data",
          "data": {
            "text/plain": [
              "<Figure size 432x288 with 1 Axes>"
            ],
            "image/png": "[encoded data removed]"
          },
          "metadata": {
            "needs_background": "light"
          }
        }
      ]
    },
    {
      "cell_type": "code",
      "source": [
        "### running KNN on hep_df for top 2 features (normalized)\n",
        "run_KNN(normalize_df(hep_df[['ALBUMIN', 'BILIRUBIN', 'CLASS']]), True)"
      ],
      "metadata": {
        "colab": {
          "base_uri": "https://localhost:8080/",
          "height": 296
        },
        "id": "kGBFBPj_A2WC",
        "outputId": "7d7b72f8-e2d1-4e9f-eafc-9779bdca12f8"
      },
      "execution_count": 160,
      "outputs": [
        {
          "output_type": "stream",
          "name": "stdout",
          "text": [
            "The accuracy of the model is: 92.31%\n"
          ]
        },
        {
          "output_type": "display_data",
          "data": {
            "text/plain": [
              "<Figure size 432x288 with 1 Axes>"
            ],
            "image/png": "[encoded data removed]"
          },
          "metadata": {
            "needs_background": "light"
          }
        }
      ]
    },
    {
      "cell_type": "code",
      "source": [
        "### running KNN on hep_df for top 2 features (standardized)\n",
        "run_KNN(standardize_df(hep_df[['ALBUMIN', 'BILIRUBIN', 'CLASS']]), True)"
      ],
      "metadata": {
        "colab": {
          "base_uri": "https://localhost:8080/",
          "height": 296
        },
        "id": "pSpA6EgHA_M9",
        "outputId": "9d88f5a9-f120-4276-efc8-4c1ab90b9dd1"
      },
      "execution_count": 165,
      "outputs": [
        {
          "output_type": "stream",
          "name": "stdout",
          "text": [
            "The accuracy of the model is: 92.31%\n"
          ]
        },
        {
          "output_type": "display_data",
          "data": {
            "text/plain": [
              "<Figure size 432x288 with 1 Axes>"
            ],
            "image/png": "[encoded data removed]"
          },
          "metadata": {
            "needs_background": "light"
          }
        }
      ]
    },
    {
      "cell_type": "code",
      "execution_count": 168,
      "metadata": {
        "id": "1cEsR4vrQXo4",
        "colab": {
          "base_uri": "https://localhost:8080/"
        },
        "outputId": "10a1958e-4b4c-4c48-d9bc-d067ecf1bb89"
      },
      "outputs": [
        {
          "output_type": "stream",
          "name": "stdout",
          "text": [
            "The accuracy of the model is: 62.73%\n"
          ]
        }
      ],
      "source": [
        "### running KNN on mess_df data\n",
        "run_KNN(mess_df)"
      ]
    },
    {
      "cell_type": "code",
      "source": [
        "### running KNN on mess_df data for top 2 important features\n",
        "run_KNN(mess_df[['MA DETECTION CL 0.5', 'MACULA-OPTIC DISC DISTANCE', 'CLASS']], True)"
      ],
      "metadata": {
        "colab": {
          "base_uri": "https://localhost:8080/",
          "height": 296
        },
        "id": "XtSRycdSCLIS",
        "outputId": "158c1735-0d7c-483c-8417-62bd3affeb2a"
      },
      "execution_count": 171,
      "outputs": [
        {
          "output_type": "stream",
          "name": "stdout",
          "text": [
            "The accuracy of the model is: 57.27%\n"
          ]
        },
        {
          "output_type": "display_data",
          "data": {
            "text/plain": [
              "<Figure size 432x288 with 1 Axes>"
            ],
            "image/png": "[encoded data removed]"
          },
          "metadata": {
            "needs_background": "light"
          }
        }
      ]
    },
    {
      "cell_type": "code",
      "source": [
        "### running KNN on mess_df data for top 2 correlated features\n",
        "run_KNN(mess_df[['MA DETECTION CL 0.5', 'EXUDATES CL 0.5', 'CLASS']], True)"
      ],
      "metadata": {
        "colab": {
          "base_uri": "https://localhost:8080/",
          "height": 296
        },
        "id": "DjbXf7M-CuE-",
        "outputId": "f3d00518-cf6c-4b6d-f3c0-b20d8467f399"
      },
      "execution_count": 172,
      "outputs": [
        {
          "output_type": "stream",
          "name": "stdout",
          "text": [
            "The accuracy of the model is: 52.12%\n"
          ]
        },
        {
          "output_type": "display_data",
          "data": {
            "text/plain": [
              "<Figure size 432x288 with 1 Axes>"
            ],
            "image/png": "[encoded data removed]"
          },
          "metadata": {
            "needs_background": "light"
          }
        }
      ]
    },
    {
      "cell_type": "markdown",
      "source": [
        "## DT experiments"
      ],
      "metadata": {
        "id": "MPKaxl_Ynx2P"
      }
    },
    {
      "cell_type": "code",
      "execution_count": 39,
      "metadata": {
        "id": "HZzVFXwC2A6q"
      },
      "outputs": [],
      "source": [
        "### running DT on hepatitis.data\n",
        "\n",
        "x_train, y_train, x_test, y_test = train_test_split(hep_df)\n",
        "\n",
        "dt_model = DT(max_depth = 10)\n",
        "\n",
        "# fits the model to the training data\n",
        "class_probs = dt_model.fit(x_train, y_train).predict(x_test)\n",
        "\n",
        "# outputs an array of the most liekly class label for each instance in x_test\n",
        "class_pred = np.argmax(class_probs, axis = 1)\n",
        "\n",
        "# finds the accuracy of the model\n",
        "accuracy = evaluate_acc(y_test, class_pred)\n",
        "\n",
        "# creates boolean arrays to represent correct and incorrect predictions\n",
        "correct_pred = class_pred == y_test\n",
        "incorrect_pred = np.logical_not(correct_pred)\n"
      ]
    },
    {
      "cell_type": "code",
      "execution_count": 40,
      "metadata": {
        "id": "d2rfyd8QnXCD"
      },
      "outputs": [],
      "source": [
        "### running DT on messidor_features.arff\n",
        "\n",
        "x_train, y_train, x_test, y_test = train_test_split(mess_df)\n",
        "\n",
        "dt_model = DT(max_depth = 10)\n",
        "\n",
        "# fits the model to the training data\n",
        "class_probs = dt_model.fit(x_train, y_train).predict(x_test)\n",
        "\n",
        "# outputs an array of the most liekly class label for each instance in x_test\n",
        "class_pred = np.argmax(class_probs, axis = 1)\n",
        "\n",
        "# finds the accuracy of the model\n",
        "accuracy = evaluate_acc(y_test, class_pred)\n",
        "\n",
        "# creates boolean arrays to represent correct and incorrect predictions\n",
        "correct_pred = class_pred == y_test\n",
        "incorrect_pred = np.logical_not(correct_pred)"
      ]
    }
  ],
  "metadata": {
    "colab": {
      "collapsed_sections": [],
      "provenance": [],
      "include_colab_link": true
    },
    "kernelspec": {
      "display_name": "Python 3",
      "name": "python3"
    },
    "language_info": {
      "name": "python"
    }
  },
  "nbformat": 4,
  "nbformat_minor": 0
}