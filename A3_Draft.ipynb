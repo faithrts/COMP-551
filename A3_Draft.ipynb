{
  "cells": [
    {
      "cell_type": "markdown",
      "metadata": {
        "id": "view-in-github",
        "colab_type": "text"
      },
      "source": [
        "<a href=\"https://colab.research.google.com/github/faithrts/COMP-551/blob/faith-branch-testing/A3_Draft.ipynb\" target=\"_parent\"><img src=\"https://colab.research.google.com/assets/colab-badge.svg\" alt=\"Open In Colab\"/></a>"
      ]
    },
    {
      "cell_type": "markdown",
      "source": [
        "# Set-up"
      ],
      "metadata": {
        "id": "8A1SE2icjh69"
      }
    },
    {
      "cell_type": "code",
      "execution_count": 1,
      "metadata": {
        "id": "VCTCTWgB-NKG",
        "outputId": "4c656b70-7650-4be2-fa1b-a989bfd6b7ef",
        "colab": {
          "base_uri": "https://localhost:8080/"
        }
      },
      "outputs": [
        {
          "output_type": "stream",
          "name": "stdout",
          "text": [
            "mkdir: cannot create directory ‘images’: File exists\n"
          ]
        }
      ],
      "source": [
        "### importing libraries and setting the random seed\n",
        "\n",
        "import numpy as np\n",
        "import pandas as pd\n",
        "import sys\n",
        "\n",
        "%matplotlib notebook\n",
        "%matplotlib inline\n",
        "import matplotlib.pyplot as plt\n",
        "import matplotlib.gridspec as gridspec\n",
        "#from matplotlib import cm\n",
        "\n",
        "import re\n",
        "import cv2\n",
        "import math\n",
        "import tensorflow as tf\n",
        "from tensorflow.keras import layers, models, optimizers\n",
        "from keras.datasets import mnist\n",
        "from importlib import reload\n",
        "from typing import List\n",
        "from tqdm import tqdm\n",
        "from enum import Enum\n",
        "from numpy.random import RandomState\n",
        "\n",
        "from sklearn.feature_extraction.text import CountVectorizer\n",
        "\n",
        "import warnings\n",
        "warnings.filterwarnings('ignore')\n",
        "\n",
        "# a folder to store the saved graphs\n",
        "!mkdir images"
      ]
    },
    {
      "cell_type": "markdown",
      "source": [
        "# Data Handling"
      ],
      "metadata": {
        "id": "hKHZWj9vjn1j"
      }
    },
    {
      "cell_type": "markdown",
      "source": [
        "### Helper functions"
      ],
      "metadata": {
        "id": "MtAHDLEXj2T3"
      }
    },
    {
      "cell_type": "markdown",
      "source": [
        "#### Loading and cleaning data"
      ],
      "metadata": {
        "id": "8rHPqW8GC1E6"
      }
    },
    {
      "cell_type": "code",
      "source": [
        "# assumes the last column of the dataframe is the labels\n",
        "def x_y_from_df(df):\n",
        "  x = df.iloc[:, :-1].to_numpy()\n",
        "  y = df.iloc[:, -1].to_numpy()\n",
        "\n",
        "  return x, y"
      ],
      "metadata": {
        "id": "2V6syl07WULR"
      },
      "execution_count": 2,
      "outputs": []
    },
    {
      "cell_type": "code",
      "source": [
        "def center_array(arr):\n",
        "  mean = np.mean(arr)\n",
        "  return_arr = np.array(arr) - mean\n",
        "  # return_arr = [item - mean for item in arr]\n",
        "\n",
        "  return return_arr"
      ],
      "metadata": {
        "id": "vudEuApQoTk7"
      },
      "execution_count": 3,
      "outputs": []
    },
    {
      "cell_type": "code",
      "source": [
        "def normalize_array(arr):\n",
        "  std = np.std(arr)\n",
        "  return_arr = np.array(arr) / std\n",
        "  # return_arr = [item / std for item in arr]\n",
        "\n",
        "  return return_arr"
      ],
      "metadata": {
        "id": "uWuzGFZrpHxK"
      },
      "execution_count": 4,
      "outputs": []
    },
    {
      "cell_type": "code",
      "source": [
        "def normalize_greyscale_array(arr):\n",
        "  # the min and max pixel greyscale values\n",
        "  min = 0\n",
        "  max = 255\n",
        "\n",
        "  return np.array(arr - min) / max - min"
      ],
      "metadata": {
        "id": "-Qc-lUOE-yB7"
      },
      "execution_count": 5,
      "outputs": []
    },
    {
      "cell_type": "code",
      "source": [
        "# pre-processes the df by performing mean subtraction and normalization\n",
        "def preprocess_df(df):\n",
        "  preprocessed_df = df.copy()\n",
        "\n",
        "  for col in preprocessed_df.iloc[:, :-1]:\n",
        "    preprocessed_col = normalize_array(center_array(df[col]))\n",
        "    preprocessed_df[col] = preprocessed_col\n",
        "\n",
        "  return preprocessed_df"
      ],
      "metadata": {
        "id": "9XtP7FZtn6mN"
      },
      "execution_count": 6,
      "outputs": []
    },
    {
      "cell_type": "code",
      "source": [
        "def preprocess_greyscale_df(df):\n",
        "  preprocessed_df = df.copy()\n",
        "\n",
        "  for col in preprocessed_df.iloc[:, :-1]:\n",
        "    preprocessed_col = normalize_greyscale_array(center_array(df[col]))\n",
        "    preprocessed_df[col] = preprocessed_col\n",
        "\n",
        "  return preprocessed_df"
      ],
      "metadata": {
        "id": "euQ4kSY5_ieV"
      },
      "execution_count": 7,
      "outputs": []
    },
    {
      "cell_type": "code",
      "source": [
        "# pre-processes the df by performing mean subtraction\n",
        "def preprocess_no_normalization_df(df):\n",
        "  preprocessed_df = df.copy()\n",
        "\n",
        "  for col in preprocessed_df.iloc[:, :-1]:\n",
        "    preprocessed_col = center_array(df[col])\n",
        "    preprocessed_df[col] = preprocessed_col\n",
        "\n",
        "  return preprocessed_df"
      ],
      "metadata": {
        "id": "MDvEhngMdlR0"
      },
      "execution_count": 8,
      "outputs": []
    },
    {
      "cell_type": "markdown",
      "source": [
        "#### Plotting graphs"
      ],
      "metadata": {
        "id": "sx9mADR8DD8L"
      }
    },
    {
      "cell_type": "code",
      "source": [
        "def plot_label_distributions(label_arr, dataset_name, labels = 0):\n",
        "  \n",
        "  # creates the plot\n",
        "  plt.figure(figsize = (10,4))\n",
        "  width = 0.6\n",
        "\n",
        "  unique_labels = list(set(label_arr))\n",
        "  counts = []\n",
        "\n",
        "  for label in unique_labels:\n",
        "    count = label_arr.count(label)\n",
        "    counts.append(count)\n",
        "\n",
        "  if labels == 0:\n",
        "    labels = [str(label) for label in unique_labels]\n",
        "\n",
        "  # the colour codes of the bars\n",
        "  colours = ['#001219', '#005f73', '#0a9396', '#94d2bd', '#e9d8a6',\n",
        "            '#ee9b00', '#ca6702', '#bb3e03', '#ae2012', '#9b2226']\n",
        "\n",
        "  plt.bar(labels, counts, width, color = colours)\n",
        "  plt.title(\"Distribution of Class Labels in \" + dataset_name + \" Dataset\")\n",
        "  plt.xlabel(\"Label\")\n",
        "  plt.ylabel(\"Count\")\n",
        "\n",
        "  for index, value in enumerate(counts):\n",
        "    plt.text(index - 0.24, value + 5, str(round(value, 2)))\n",
        "\n",
        "  plt.show()"
      ],
      "metadata": {
        "id": "G-UXPNHRww-f"
      },
      "execution_count": 9,
      "outputs": []
    },
    {
      "cell_type": "markdown",
      "source": [
        "## Importing"
      ],
      "metadata": {
        "id": "FsaKjKTqjylr"
      }
    },
    {
      "cell_type": "code",
      "source": [
        "# clones the github repo\n",
        "!git clone https://github.com/zalandoresearch/fashion-mnist\n",
        "sys.path.insert(1, 'fashion-mnist/utils')\n",
        "\n",
        "# imports the mnist reader from the repo\n",
        "import mnist_reader"
      ],
      "metadata": {
        "colab": {
          "base_uri": "https://localhost:8080/"
        },
        "id": "JDX1OBJ7jUl8",
        "outputId": "ad397427-5c3d-4a68-e1e3-2d1088c9c649"
      },
      "execution_count": 10,
      "outputs": [
        {
          "output_type": "stream",
          "name": "stdout",
          "text": [
            "fatal: destination path 'fashion-mnist' already exists and is not an empty directory.\n"
          ]
        }
      ]
    },
    {
      "cell_type": "markdown",
      "source": [
        "### Loading and cleaning data"
      ],
      "metadata": {
        "id": "HQbCrZx0-EgM"
      }
    },
    {
      "cell_type": "code",
      "source": [
        "### loading the data using the github repo's mnist_reader.load_mnist\n",
        "\n",
        "labels = ['T-shirt/top', 'Trouser', 'Pullover', 'Dress', 'Coat',\n",
        "          'Sandal', 'Shirt', 'Sneaker', 'Bag', 'Ankle boot']\n",
        "\n",
        "# training data\n",
        "x_train_temp, y_train = mnist_reader.load_mnist('fashion-mnist/data/fashion', kind = 'train')\n",
        "\n",
        "# testing data\n",
        "x_test_temp, y_test = mnist_reader.load_mnist('fashion-mnist/data/fashion', kind = 't10k')"
      ],
      "metadata": {
        "id": "kZITIsTPkA3M"
      },
      "execution_count": 11,
      "outputs": []
    },
    {
      "cell_type": "code",
      "source": [
        "### creating dataframes to better understand data\n",
        "\n",
        "# training dataframe\n",
        "train_temp_df = pd.DataFrame(x_train_temp)\n",
        "train_temp_df['LABEL'] = y_train\n",
        "\n",
        "# testing dataframe\n",
        "test_temp_df = pd.DataFrame(x_test_temp)\n",
        "test_temp_df['LABEL'] = y_test"
      ],
      "metadata": {
        "id": "PgtXdMOXkxwK"
      },
      "execution_count": 12,
      "outputs": []
    },
    {
      "cell_type": "code",
      "source": [
        "train_temp_df"
      ],
      "metadata": {
        "colab": {
          "base_uri": "https://localhost:8080/",
          "height": 0
        },
        "id": "ZkQzG8t8l5xp",
        "outputId": "bfc71b24-014b-44fc-bc0c-85dc24b1b744"
      },
      "execution_count": 13,
      "outputs": [
        {
          "output_type": "execute_result",
          "data": {
            "text/plain": [
              "       0  1  2  3  4  5  6  7   8   9  ...  775  776  777  778  779  780  781  \\\n",
              "0      0  0  0  0  0  0  0  0   0   0  ...    0    0    0    0    0    0    0   \n",
              "1      0  0  0  0  0  1  0  0   0   0  ...  114  130   76    0    0    0    0   \n",
              "2      0  0  0  0  0  0  0  0   0  22  ...    0    1    0    0    0    0    0   \n",
              "3      0  0  0  0  0  0  0  0  33  96  ...    0    0    0    0    0    0    0   \n",
              "4      0  0  0  0  0  0  0  0   0   0  ...    0    0    0    0    0    0    0   \n",
              "...   .. .. .. .. .. .. .. ..  ..  ..  ...  ...  ...  ...  ...  ...  ...  ...   \n",
              "59995  0  0  0  0  0  0  0  0   0   0  ...    0    0    0    0    0    0    0   \n",
              "59996  0  0  0  0  0  0  0  0   0   0  ...    0    0    0    0    0    0    0   \n",
              "59997  0  0  0  0  0  0  0  0   0   5  ...    0    0    0    0    0    0    0   \n",
              "59998  0  0  0  0  0  0  0  0   0   0  ...   54   50    5    0    1    0    0   \n",
              "59999  0  0  0  0  0  0  0  0   0   0  ...    0    0    0    0    0    0    0   \n",
              "\n",
              "       782  783  LABEL  \n",
              "0        0    0      9  \n",
              "1        0    0      0  \n",
              "2        0    0      0  \n",
              "3        0    0      3  \n",
              "4        0    0      0  \n",
              "...    ...  ...    ...  \n",
              "59995    0    0      5  \n",
              "59996    0    0      1  \n",
              "59997    0    0      3  \n",
              "59998    0    0      0  \n",
              "59999    0    0      5  \n",
              "\n",
              "[60000 rows x 785 columns]"
            ],
            "text/html": [
              "\n",
              "  <div id=\"df-bd454122-c2a9-48b2-a86c-851397547a0f\">\n",
              "    <div class=\"colab-df-container\">\n",
              "      <div>\n",
              "<style scoped>\n",
              "    .dataframe tbody tr th:only-of-type {\n",
              "        vertical-align: middle;\n",
              "    }\n",
              "\n",
              "    .dataframe tbody tr th {\n",
              "        vertical-align: top;\n",
              "    }\n",
              "\n",
              "    .dataframe thead th {\n",
              "        text-align: right;\n",
              "    }\n",
              "</style>\n",
              "<table border=\"1\" class=\"dataframe\">\n",
              "  <thead>\n",
              "    <tr style=\"text-align: right;\">\n",
              "      <th></th>\n",
              "      <th>0</th>\n",
              "      <th>1</th>\n",
              "      <th>2</th>\n",
              "      <th>3</th>\n",
              "      <th>4</th>\n",
              "      <th>5</th>\n",
              "      <th>6</th>\n",
              "      <th>7</th>\n",
              "      <th>8</th>\n",
              "      <th>9</th>\n",
              "      <th>...</th>\n",
              "      <th>775</th>\n",
              "      <th>776</th>\n",
              "      <th>777</th>\n",
              "      <th>778</th>\n",
              "      <th>779</th>\n",
              "      <th>780</th>\n",
              "      <th>781</th>\n",
              "      <th>782</th>\n",
              "      <th>783</th>\n",
              "      <th>LABEL</th>\n",
              "    </tr>\n",
              "  </thead>\n",
              "  <tbody>\n",
              "    <tr>\n",
              "      <th>0</th>\n",
              "      <td>0</td>\n",
              "      <td>0</td>\n",
              "      <td>0</td>\n",
              "      <td>0</td>\n",
              "      <td>0</td>\n",
              "      <td>0</td>\n",
              "      <td>0</td>\n",
              "      <td>0</td>\n",
              "      <td>0</td>\n",
              "      <td>0</td>\n",
              "      <td>...</td>\n",
              "      <td>0</td>\n",
              "      <td>0</td>\n",
              "      <td>0</td>\n",
              "      <td>0</td>\n",
              "      <td>0</td>\n",
              "      <td>0</td>\n",
              "      <td>0</td>\n",
              "      <td>0</td>\n",
              "      <td>0</td>\n",
              "      <td>9</td>\n",
              "    </tr>\n",
              "    <tr>\n",
              "      <th>1</th>\n",
              "      <td>0</td>\n",
              "      <td>0</td>\n",
              "      <td>0</td>\n",
              "      <td>0</td>\n",
              "      <td>0</td>\n",
              "      <td>1</td>\n",
              "      <td>0</td>\n",
              "      <td>0</td>\n",
              "      <td>0</td>\n",
              "      <td>0</td>\n",
              "      <td>...</td>\n",
              "      <td>114</td>\n",
              "      <td>130</td>\n",
              "      <td>76</td>\n",
              "      <td>0</td>\n",
              "      <td>0</td>\n",
              "      <td>0</td>\n",
              "      <td>0</td>\n",
              "      <td>0</td>\n",
              "      <td>0</td>\n",
              "      <td>0</td>\n",
              "    </tr>\n",
              "    <tr>\n",
              "      <th>2</th>\n",
              "      <td>0</td>\n",
              "      <td>0</td>\n",
              "      <td>0</td>\n",
              "      <td>0</td>\n",
              "      <td>0</td>\n",
              "      <td>0</td>\n",
              "      <td>0</td>\n",
              "      <td>0</td>\n",
              "      <td>0</td>\n",
              "      <td>22</td>\n",
              "      <td>...</td>\n",
              "      <td>0</td>\n",
              "      <td>1</td>\n",
              "      <td>0</td>\n",
              "      <td>0</td>\n",
              "      <td>0</td>\n",
              "      <td>0</td>\n",
              "      <td>0</td>\n",
              "      <td>0</td>\n",
              "      <td>0</td>\n",
              "      <td>0</td>\n",
              "    </tr>\n",
              "    <tr>\n",
              "      <th>3</th>\n",
              "      <td>0</td>\n",
              "      <td>0</td>\n",
              "      <td>0</td>\n",
              "      <td>0</td>\n",
              "      <td>0</td>\n",
              "      <td>0</td>\n",
              "      <td>0</td>\n",
              "      <td>0</td>\n",
              "      <td>33</td>\n",
              "      <td>96</td>\n",
              "      <td>...</td>\n",
              "      <td>0</td>\n",
              "      <td>0</td>\n",
              "      <td>0</td>\n",
              "      <td>0</td>\n",
              "      <td>0</td>\n",
              "      <td>0</td>\n",
              "      <td>0</td>\n",
              "      <td>0</td>\n",
              "      <td>0</td>\n",
              "      <td>3</td>\n",
              "    </tr>\n",
              "    <tr>\n",
              "      <th>4</th>\n",
              "      <td>0</td>\n",
              "      <td>0</td>\n",
              "      <td>0</td>\n",
              "      <td>0</td>\n",
              "      <td>0</td>\n",
              "      <td>0</td>\n",
              "      <td>0</td>\n",
              "      <td>0</td>\n",
              "      <td>0</td>\n",
              "      <td>0</td>\n",
              "      <td>...</td>\n",
              "      <td>0</td>\n",
              "      <td>0</td>\n",
              "      <td>0</td>\n",
              "      <td>0</td>\n",
              "      <td>0</td>\n",
              "      <td>0</td>\n",
              "      <td>0</td>\n",
              "      <td>0</td>\n",
              "      <td>0</td>\n",
              "      <td>0</td>\n",
              "    </tr>\n",
              "    <tr>\n",
              "      <th>...</th>\n",
              "      <td>...</td>\n",
              "      <td>...</td>\n",
              "      <td>...</td>\n",
              "      <td>...</td>\n",
              "      <td>...</td>\n",
              "      <td>...</td>\n",
              "      <td>...</td>\n",
              "      <td>...</td>\n",
              "      <td>...</td>\n",
              "      <td>...</td>\n",
              "      <td>...</td>\n",
              "      <td>...</td>\n",
              "      <td>...</td>\n",
              "      <td>...</td>\n",
              "      <td>...</td>\n",
              "      <td>...</td>\n",
              "      <td>...</td>\n",
              "      <td>...</td>\n",
              "      <td>...</td>\n",
              "      <td>...</td>\n",
              "      <td>...</td>\n",
              "    </tr>\n",
              "    <tr>\n",
              "      <th>59995</th>\n",
              "      <td>0</td>\n",
              "      <td>0</td>\n",
              "      <td>0</td>\n",
              "      <td>0</td>\n",
              "      <td>0</td>\n",
              "      <td>0</td>\n",
              "      <td>0</td>\n",
              "      <td>0</td>\n",
              "      <td>0</td>\n",
              "      <td>0</td>\n",
              "      <td>...</td>\n",
              "      <td>0</td>\n",
              "      <td>0</td>\n",
              "      <td>0</td>\n",
              "      <td>0</td>\n",
              "      <td>0</td>\n",
              "      <td>0</td>\n",
              "      <td>0</td>\n",
              "      <td>0</td>\n",
              "      <td>0</td>\n",
              "      <td>5</td>\n",
              "    </tr>\n",
              "    <tr>\n",
              "      <th>59996</th>\n",
              "      <td>0</td>\n",
              "      <td>0</td>\n",
              "      <td>0</td>\n",
              "      <td>0</td>\n",
              "      <td>0</td>\n",
              "      <td>0</td>\n",
              "      <td>0</td>\n",
              "      <td>0</td>\n",
              "      <td>0</td>\n",
              "      <td>0</td>\n",
              "      <td>...</td>\n",
              "      <td>0</td>\n",
              "      <td>0</td>\n",
              "      <td>0</td>\n",
              "      <td>0</td>\n",
              "      <td>0</td>\n",
              "      <td>0</td>\n",
              "      <td>0</td>\n",
              "      <td>0</td>\n",
              "      <td>0</td>\n",
              "      <td>1</td>\n",
              "    </tr>\n",
              "    <tr>\n",
              "      <th>59997</th>\n",
              "      <td>0</td>\n",
              "      <td>0</td>\n",
              "      <td>0</td>\n",
              "      <td>0</td>\n",
              "      <td>0</td>\n",
              "      <td>0</td>\n",
              "      <td>0</td>\n",
              "      <td>0</td>\n",
              "      <td>0</td>\n",
              "      <td>5</td>\n",
              "      <td>...</td>\n",
              "      <td>0</td>\n",
              "      <td>0</td>\n",
              "      <td>0</td>\n",
              "      <td>0</td>\n",
              "      <td>0</td>\n",
              "      <td>0</td>\n",
              "      <td>0</td>\n",
              "      <td>0</td>\n",
              "      <td>0</td>\n",
              "      <td>3</td>\n",
              "    </tr>\n",
              "    <tr>\n",
              "      <th>59998</th>\n",
              "      <td>0</td>\n",
              "      <td>0</td>\n",
              "      <td>0</td>\n",
              "      <td>0</td>\n",
              "      <td>0</td>\n",
              "      <td>0</td>\n",
              "      <td>0</td>\n",
              "      <td>0</td>\n",
              "      <td>0</td>\n",
              "      <td>0</td>\n",
              "      <td>...</td>\n",
              "      <td>54</td>\n",
              "      <td>50</td>\n",
              "      <td>5</td>\n",
              "      <td>0</td>\n",
              "      <td>1</td>\n",
              "      <td>0</td>\n",
              "      <td>0</td>\n",
              "      <td>0</td>\n",
              "      <td>0</td>\n",
              "      <td>0</td>\n",
              "    </tr>\n",
              "    <tr>\n",
              "      <th>59999</th>\n",
              "      <td>0</td>\n",
              "      <td>0</td>\n",
              "      <td>0</td>\n",
              "      <td>0</td>\n",
              "      <td>0</td>\n",
              "      <td>0</td>\n",
              "      <td>0</td>\n",
              "      <td>0</td>\n",
              "      <td>0</td>\n",
              "      <td>0</td>\n",
              "      <td>...</td>\n",
              "      <td>0</td>\n",
              "      <td>0</td>\n",
              "      <td>0</td>\n",
              "      <td>0</td>\n",
              "      <td>0</td>\n",
              "      <td>0</td>\n",
              "      <td>0</td>\n",
              "      <td>0</td>\n",
              "      <td>0</td>\n",
              "      <td>5</td>\n",
              "    </tr>\n",
              "  </tbody>\n",
              "</table>\n",
              "<p>60000 rows × 785 columns</p>\n",
              "</div>\n",
              "      <button class=\"colab-df-convert\" onclick=\"convertToInteractive('df-bd454122-c2a9-48b2-a86c-851397547a0f')\"\n",
              "              title=\"Convert this dataframe to an interactive table.\"\n",
              "              style=\"display:none;\">\n",
              "        \n",
              "  <svg xmlns=\"http://www.w3.org/2000/svg\" height=\"24px\"viewBox=\"0 0 24 24\"\n",
              "       width=\"24px\">\n",
              "    <path d=\"M0 0h24v24H0V0z\" fill=\"none\"/>\n",
              "    <path d=\"M18.56 5.44l.94 2.06.94-2.06 2.06-.94-2.06-.94-.94-2.06-.94 2.06-2.06.94zm-11 1L8.5 8.5l.94-2.06 2.06-.94-2.06-.94L8.5 2.5l-.94 2.06-2.06.94zm10 10l.94 2.06.94-2.06 2.06-.94-2.06-.94-.94-2.06-.94 2.06-2.06.94z\"/><path d=\"M17.41 7.96l-1.37-1.37c-.4-.4-.92-.59-1.43-.59-.52 0-1.04.2-1.43.59L10.3 9.45l-7.72 7.72c-.78.78-.78 2.05 0 2.83L4 21.41c.39.39.9.59 1.41.59.51 0 1.02-.2 1.41-.59l7.78-7.78 2.81-2.81c.8-.78.8-2.07 0-2.86zM5.41 20L4 18.59l7.72-7.72 1.47 1.35L5.41 20z\"/>\n",
              "  </svg>\n",
              "      </button>\n",
              "      \n",
              "  <style>\n",
              "    .colab-df-container {\n",
              "      display:flex;\n",
              "      flex-wrap:wrap;\n",
              "      gap: 12px;\n",
              "    }\n",
              "\n",
              "    .colab-df-convert {\n",
              "      background-color: #E8F0FE;\n",
              "      border: none;\n",
              "      border-radius: 50%;\n",
              "      cursor: pointer;\n",
              "      display: none;\n",
              "      fill: #1967D2;\n",
              "      height: 32px;\n",
              "      padding: 0 0 0 0;\n",
              "      width: 32px;\n",
              "    }\n",
              "\n",
              "    .colab-df-convert:hover {\n",
              "      background-color: #E2EBFA;\n",
              "      box-shadow: 0px 1px 2px rgba(60, 64, 67, 0.3), 0px 1px 3px 1px rgba(60, 64, 67, 0.15);\n",
              "      fill: #174EA6;\n",
              "    }\n",
              "\n",
              "    [theme=dark] .colab-df-convert {\n",
              "      background-color: #3B4455;\n",
              "      fill: #D2E3FC;\n",
              "    }\n",
              "\n",
              "    [theme=dark] .colab-df-convert:hover {\n",
              "      background-color: #434B5C;\n",
              "      box-shadow: 0px 1px 3px 1px rgba(0, 0, 0, 0.15);\n",
              "      filter: drop-shadow(0px 1px 2px rgba(0, 0, 0, 0.3));\n",
              "      fill: #FFFFFF;\n",
              "    }\n",
              "  </style>\n",
              "\n",
              "      <script>\n",
              "        const buttonEl =\n",
              "          document.querySelector('#df-bd454122-c2a9-48b2-a86c-851397547a0f button.colab-df-convert');\n",
              "        buttonEl.style.display =\n",
              "          google.colab.kernel.accessAllowed ? 'block' : 'none';\n",
              "\n",
              "        async function convertToInteractive(key) {\n",
              "          const element = document.querySelector('#df-bd454122-c2a9-48b2-a86c-851397547a0f');\n",
              "          const dataTable =\n",
              "            await google.colab.kernel.invokeFunction('convertToInteractive',\n",
              "                                                     [key], {});\n",
              "          if (!dataTable) return;\n",
              "\n",
              "          const docLinkHtml = 'Like what you see? Visit the ' +\n",
              "            '<a target=\"_blank\" href=https://colab.research.google.com/notebooks/data_table.ipynb>data table notebook</a>'\n",
              "            + ' to learn more about interactive tables.';\n",
              "          element.innerHTML = '';\n",
              "          dataTable['output_type'] = 'display_data';\n",
              "          await google.colab.output.renderOutput(dataTable, element);\n",
              "          const docLink = document.createElement('div');\n",
              "          docLink.innerHTML = docLinkHtml;\n",
              "          element.appendChild(docLink);\n",
              "        }\n",
              "      </script>\n",
              "    </div>\n",
              "  </div>\n",
              "  "
            ]
          },
          "metadata": {},
          "execution_count": 13
        }
      ]
    },
    {
      "cell_type": "code",
      "source": [
        "### centering and normalizing the data\n",
        "\n",
        "# pre-processing each dataframe\n",
        "train_df = preprocess_df(train_temp_df)\n",
        "test_df = preprocess_df(test_temp_df)\n",
        "\n",
        "# extracting arrays for x_train, y_train, x_test, y_test\n",
        "x_train, y_train = x_y_from_df(train_df)\n",
        "x_test, y_test = x_y_from_df(test_df)"
      ],
      "metadata": {
        "id": "aCWhRpennWnd"
      },
      "execution_count": 14,
      "outputs": []
    },
    {
      "cell_type": "code",
      "source": [
        "### saving a copy of the un-preprocessed (centered and normalized) data\n",
        "\n",
        "x_train_unprocessed, _ = x_y_from_df(train_temp_df)\n",
        "x_test_unprocessed, _ = x_y_from_df(test_temp_df)"
      ],
      "metadata": {
        "id": "n0vemftld2Ja"
      },
      "execution_count": 15,
      "outputs": []
    },
    {
      "cell_type": "code",
      "source": [
        "### saving a copy of the data normalized based on the pixel greyscale values\n",
        "\n",
        "# pre-processing each dataframe\n",
        "train_greyscale_df = preprocess_greyscale_df(train_temp_df)\n",
        "test_greyscale_df = preprocess_greyscale_df(test_temp_df)\n",
        "\n",
        "x_train_greyscale, y_train_greyscale = x_y_from_df(train_greyscale_df)\n",
        "x_test_greyscale, y_test_greyscale = x_y_from_df(test_greyscale_df)"
      ],
      "metadata": {
        "id": "7XDsp3n9_zaQ"
      },
      "execution_count": 16,
      "outputs": []
    },
    {
      "cell_type": "code",
      "source": [
        "### saving a copy of the data reshaped into images for the convnet\n",
        "\n",
        "# reshapes the arrays into image format (28 x 28 pixels)\n",
        "x_train_convnet = np.reshape(x_train, (60000, 28, 28, 1))\n",
        "x_test_convnet = np.reshape(x_test, (10000, 28, 28, 1))\n",
        "\n",
        "y_train_convnet = tf.keras.utils.to_categorical(y_train)\n",
        "y_test_convnet = tf.keras.utils.to_categorical(y_test)"
      ],
      "metadata": {
        "id": "ZoLHrbjOIlSC"
      },
      "execution_count": 17,
      "outputs": []
    },
    {
      "cell_type": "code",
      "source": [
        "train_df"
      ],
      "metadata": {
        "colab": {
          "base_uri": "https://localhost:8080/",
          "height": 0
        },
        "id": "_S73o8ans37S",
        "outputId": "d75f1c87-fd11-4220-c4ff-6276cb286982"
      },
      "execution_count": 18,
      "outputs": [
        {
          "output_type": "execute_result",
          "data": {
            "text/plain": [
              "              0         1         2         3         4         5         6  \\\n",
              "0     -0.008644 -0.023223 -0.039178 -0.041322 -0.057646 -0.071167 -0.098878   \n",
              "1     -0.008644 -0.023223 -0.039178 -0.041322 -0.057646  0.100437 -0.098878   \n",
              "2     -0.008644 -0.023223 -0.039178 -0.041322 -0.057646 -0.071167 -0.098878   \n",
              "3     -0.008644 -0.023223 -0.039178 -0.041322 -0.057646 -0.071167 -0.098878   \n",
              "4     -0.008644 -0.023223 -0.039178 -0.041322 -0.057646 -0.071167 -0.098878   \n",
              "...         ...       ...       ...       ...       ...       ...       ...   \n",
              "59995 -0.008644 -0.023223 -0.039178 -0.041322 -0.057646 -0.071167 -0.098878   \n",
              "59996 -0.008644 -0.023223 -0.039178 -0.041322 -0.057646 -0.071167 -0.098878   \n",
              "59997 -0.008644 -0.023223 -0.039178 -0.041322 -0.057646 -0.071167 -0.098878   \n",
              "59998 -0.008644 -0.023223 -0.039178 -0.041322 -0.057646 -0.071167 -0.098878   \n",
              "59999 -0.008644 -0.023223 -0.039178 -0.041322 -0.057646 -0.071167 -0.098878   \n",
              "\n",
              "              7         8         9  ...       775       776       777  \\\n",
              "0     -0.156653 -0.239080 -0.377827  ... -0.474798 -0.394260 -0.406094   \n",
              "1     -0.156653 -0.239080 -0.377827  ...  1.857395  2.697741  1.324682   \n",
              "2     -0.156653 -0.239080  0.198023  ... -0.474798 -0.370475 -0.406094   \n",
              "3     -0.156653  1.145393  2.134974  ... -0.474798 -0.394260 -0.406094   \n",
              "4     -0.156653 -0.239080 -0.377827  ... -0.474798 -0.394260 -0.406094   \n",
              "...         ...       ...       ...  ...       ...       ...       ...   \n",
              "59995 -0.156653 -0.239080 -0.377827  ... -0.474798 -0.394260 -0.406094   \n",
              "59996 -0.156653 -0.239080 -0.377827  ... -0.474798 -0.394260 -0.406094   \n",
              "59997 -0.156653 -0.239080 -0.246952  ... -0.474798 -0.394260 -0.406094   \n",
              "59998 -0.156653 -0.239080 -0.377827  ...  0.629925  0.794971 -0.292227   \n",
              "59999 -0.156653 -0.239080 -0.377827  ... -0.474798 -0.394260 -0.406094   \n",
              "\n",
              "            778       779       780       781       782       783  LABEL  \n",
              "0     -0.441358 -0.396626 -0.288156 -0.156811 -0.089673 -0.034147      9  \n",
              "1     -0.441358 -0.396626 -0.288156 -0.156811 -0.089673 -0.034147      0  \n",
              "2     -0.441358 -0.396626 -0.288156 -0.156811 -0.089673 -0.034147      0  \n",
              "3     -0.441358 -0.396626 -0.288156 -0.156811 -0.089673 -0.034147      3  \n",
              "4     -0.441358 -0.396626 -0.288156 -0.156811 -0.089673 -0.034147      0  \n",
              "...         ...       ...       ...       ...       ...       ...    ...  \n",
              "59995 -0.441358 -0.396626 -0.288156 -0.156811 -0.089673 -0.034147      5  \n",
              "59996 -0.441358 -0.396626 -0.288156 -0.156811 -0.089673 -0.034147      1  \n",
              "59997 -0.441358 -0.396626 -0.288156 -0.156811 -0.089673 -0.034147      3  \n",
              "59998 -0.441358 -0.374489 -0.288156 -0.156811 -0.089673 -0.034147      0  \n",
              "59999 -0.441358 -0.396626 -0.288156 -0.156811 -0.089673 -0.034147      5  \n",
              "\n",
              "[60000 rows x 785 columns]"
            ],
            "text/html": [
              "\n",
              "  <div id=\"df-cf862638-b98d-4029-9e98-d1b2e9633e7c\">\n",
              "    <div class=\"colab-df-container\">\n",
              "      <div>\n",
              "<style scoped>\n",
              "    .dataframe tbody tr th:only-of-type {\n",
              "        vertical-align: middle;\n",
              "    }\n",
              "\n",
              "    .dataframe tbody tr th {\n",
              "        vertical-align: top;\n",
              "    }\n",
              "\n",
              "    .dataframe thead th {\n",
              "        text-align: right;\n",
              "    }\n",
              "</style>\n",
              "<table border=\"1\" class=\"dataframe\">\n",
              "  <thead>\n",
              "    <tr style=\"text-align: right;\">\n",
              "      <th></th>\n",
              "      <th>0</th>\n",
              "      <th>1</th>\n",
              "      <th>2</th>\n",
              "      <th>3</th>\n",
              "      <th>4</th>\n",
              "      <th>5</th>\n",
              "      <th>6</th>\n",
              "      <th>7</th>\n",
              "      <th>8</th>\n",
              "      <th>9</th>\n",
              "      <th>...</th>\n",
              "      <th>775</th>\n",
              "      <th>776</th>\n",
              "      <th>777</th>\n",
              "      <th>778</th>\n",
              "      <th>779</th>\n",
              "      <th>780</th>\n",
              "      <th>781</th>\n",
              "      <th>782</th>\n",
              "      <th>783</th>\n",
              "      <th>LABEL</th>\n",
              "    </tr>\n",
              "  </thead>\n",
              "  <tbody>\n",
              "    <tr>\n",
              "      <th>0</th>\n",
              "      <td>-0.008644</td>\n",
              "      <td>-0.023223</td>\n",
              "      <td>-0.039178</td>\n",
              "      <td>-0.041322</td>\n",
              "      <td>-0.057646</td>\n",
              "      <td>-0.071167</td>\n",
              "      <td>-0.098878</td>\n",
              "      <td>-0.156653</td>\n",
              "      <td>-0.239080</td>\n",
              "      <td>-0.377827</td>\n",
              "      <td>...</td>\n",
              "      <td>-0.474798</td>\n",
              "      <td>-0.394260</td>\n",
              "      <td>-0.406094</td>\n",
              "      <td>-0.441358</td>\n",
              "      <td>-0.396626</td>\n",
              "      <td>-0.288156</td>\n",
              "      <td>-0.156811</td>\n",
              "      <td>-0.089673</td>\n",
              "      <td>-0.034147</td>\n",
              "      <td>9</td>\n",
              "    </tr>\n",
              "    <tr>\n",
              "      <th>1</th>\n",
              "      <td>-0.008644</td>\n",
              "      <td>-0.023223</td>\n",
              "      <td>-0.039178</td>\n",
              "      <td>-0.041322</td>\n",
              "      <td>-0.057646</td>\n",
              "      <td>0.100437</td>\n",
              "      <td>-0.098878</td>\n",
              "      <td>-0.156653</td>\n",
              "      <td>-0.239080</td>\n",
              "      <td>-0.377827</td>\n",
              "      <td>...</td>\n",
              "      <td>1.857395</td>\n",
              "      <td>2.697741</td>\n",
              "      <td>1.324682</td>\n",
              "      <td>-0.441358</td>\n",
              "      <td>-0.396626</td>\n",
              "      <td>-0.288156</td>\n",
              "      <td>-0.156811</td>\n",
              "      <td>-0.089673</td>\n",
              "      <td>-0.034147</td>\n",
              "      <td>0</td>\n",
              "    </tr>\n",
              "    <tr>\n",
              "      <th>2</th>\n",
              "      <td>-0.008644</td>\n",
              "      <td>-0.023223</td>\n",
              "      <td>-0.039178</td>\n",
              "      <td>-0.041322</td>\n",
              "      <td>-0.057646</td>\n",
              "      <td>-0.071167</td>\n",
              "      <td>-0.098878</td>\n",
              "      <td>-0.156653</td>\n",
              "      <td>-0.239080</td>\n",
              "      <td>0.198023</td>\n",
              "      <td>...</td>\n",
              "      <td>-0.474798</td>\n",
              "      <td>-0.370475</td>\n",
              "      <td>-0.406094</td>\n",
              "      <td>-0.441358</td>\n",
              "      <td>-0.396626</td>\n",
              "      <td>-0.288156</td>\n",
              "      <td>-0.156811</td>\n",
              "      <td>-0.089673</td>\n",
              "      <td>-0.034147</td>\n",
              "      <td>0</td>\n",
              "    </tr>\n",
              "    <tr>\n",
              "      <th>3</th>\n",
              "      <td>-0.008644</td>\n",
              "      <td>-0.023223</td>\n",
              "      <td>-0.039178</td>\n",
              "      <td>-0.041322</td>\n",
              "      <td>-0.057646</td>\n",
              "      <td>-0.071167</td>\n",
              "      <td>-0.098878</td>\n",
              "      <td>-0.156653</td>\n",
              "      <td>1.145393</td>\n",
              "      <td>2.134974</td>\n",
              "      <td>...</td>\n",
              "      <td>-0.474798</td>\n",
              "      <td>-0.394260</td>\n",
              "      <td>-0.406094</td>\n",
              "      <td>-0.441358</td>\n",
              "      <td>-0.396626</td>\n",
              "      <td>-0.288156</td>\n",
              "      <td>-0.156811</td>\n",
              "      <td>-0.089673</td>\n",
              "      <td>-0.034147</td>\n",
              "      <td>3</td>\n",
              "    </tr>\n",
              "    <tr>\n",
              "      <th>4</th>\n",
              "      <td>-0.008644</td>\n",
              "      <td>-0.023223</td>\n",
              "      <td>-0.039178</td>\n",
              "      <td>-0.041322</td>\n",
              "      <td>-0.057646</td>\n",
              "      <td>-0.071167</td>\n",
              "      <td>-0.098878</td>\n",
              "      <td>-0.156653</td>\n",
              "      <td>-0.239080</td>\n",
              "      <td>-0.377827</td>\n",
              "      <td>...</td>\n",
              "      <td>-0.474798</td>\n",
              "      <td>-0.394260</td>\n",
              "      <td>-0.406094</td>\n",
              "      <td>-0.441358</td>\n",
              "      <td>-0.396626</td>\n",
              "      <td>-0.288156</td>\n",
              "      <td>-0.156811</td>\n",
              "      <td>-0.089673</td>\n",
              "      <td>-0.034147</td>\n",
              "      <td>0</td>\n",
              "    </tr>\n",
              "    <tr>\n",
              "      <th>...</th>\n",
              "      <td>...</td>\n",
              "      <td>...</td>\n",
              "      <td>...</td>\n",
              "      <td>...</td>\n",
              "      <td>...</td>\n",
              "      <td>...</td>\n",
              "      <td>...</td>\n",
              "      <td>...</td>\n",
              "      <td>...</td>\n",
              "      <td>...</td>\n",
              "      <td>...</td>\n",
              "      <td>...</td>\n",
              "      <td>...</td>\n",
              "      <td>...</td>\n",
              "      <td>...</td>\n",
              "      <td>...</td>\n",
              "      <td>...</td>\n",
              "      <td>...</td>\n",
              "      <td>...</td>\n",
              "      <td>...</td>\n",
              "      <td>...</td>\n",
              "    </tr>\n",
              "    <tr>\n",
              "      <th>59995</th>\n",
              "      <td>-0.008644</td>\n",
              "      <td>-0.023223</td>\n",
              "      <td>-0.039178</td>\n",
              "      <td>-0.041322</td>\n",
              "      <td>-0.057646</td>\n",
              "      <td>-0.071167</td>\n",
              "      <td>-0.098878</td>\n",
              "      <td>-0.156653</td>\n",
              "      <td>-0.239080</td>\n",
              "      <td>-0.377827</td>\n",
              "      <td>...</td>\n",
              "      <td>-0.474798</td>\n",
              "      <td>-0.394260</td>\n",
              "      <td>-0.406094</td>\n",
              "      <td>-0.441358</td>\n",
              "      <td>-0.396626</td>\n",
              "      <td>-0.288156</td>\n",
              "      <td>-0.156811</td>\n",
              "      <td>-0.089673</td>\n",
              "      <td>-0.034147</td>\n",
              "      <td>5</td>\n",
              "    </tr>\n",
              "    <tr>\n",
              "      <th>59996</th>\n",
              "      <td>-0.008644</td>\n",
              "      <td>-0.023223</td>\n",
              "      <td>-0.039178</td>\n",
              "      <td>-0.041322</td>\n",
              "      <td>-0.057646</td>\n",
              "      <td>-0.071167</td>\n",
              "      <td>-0.098878</td>\n",
              "      <td>-0.156653</td>\n",
              "      <td>-0.239080</td>\n",
              "      <td>-0.377827</td>\n",
              "      <td>...</td>\n",
              "      <td>-0.474798</td>\n",
              "      <td>-0.394260</td>\n",
              "      <td>-0.406094</td>\n",
              "      <td>-0.441358</td>\n",
              "      <td>-0.396626</td>\n",
              "      <td>-0.288156</td>\n",
              "      <td>-0.156811</td>\n",
              "      <td>-0.089673</td>\n",
              "      <td>-0.034147</td>\n",
              "      <td>1</td>\n",
              "    </tr>\n",
              "    <tr>\n",
              "      <th>59997</th>\n",
              "      <td>-0.008644</td>\n",
              "      <td>-0.023223</td>\n",
              "      <td>-0.039178</td>\n",
              "      <td>-0.041322</td>\n",
              "      <td>-0.057646</td>\n",
              "      <td>-0.071167</td>\n",
              "      <td>-0.098878</td>\n",
              "      <td>-0.156653</td>\n",
              "      <td>-0.239080</td>\n",
              "      <td>-0.246952</td>\n",
              "      <td>...</td>\n",
              "      <td>-0.474798</td>\n",
              "      <td>-0.394260</td>\n",
              "      <td>-0.406094</td>\n",
              "      <td>-0.441358</td>\n",
              "      <td>-0.396626</td>\n",
              "      <td>-0.288156</td>\n",
              "      <td>-0.156811</td>\n",
              "      <td>-0.089673</td>\n",
              "      <td>-0.034147</td>\n",
              "      <td>3</td>\n",
              "    </tr>\n",
              "    <tr>\n",
              "      <th>59998</th>\n",
              "      <td>-0.008644</td>\n",
              "      <td>-0.023223</td>\n",
              "      <td>-0.039178</td>\n",
              "      <td>-0.041322</td>\n",
              "      <td>-0.057646</td>\n",
              "      <td>-0.071167</td>\n",
              "      <td>-0.098878</td>\n",
              "      <td>-0.156653</td>\n",
              "      <td>-0.239080</td>\n",
              "      <td>-0.377827</td>\n",
              "      <td>...</td>\n",
              "      <td>0.629925</td>\n",
              "      <td>0.794971</td>\n",
              "      <td>-0.292227</td>\n",
              "      <td>-0.441358</td>\n",
              "      <td>-0.374489</td>\n",
              "      <td>-0.288156</td>\n",
              "      <td>-0.156811</td>\n",
              "      <td>-0.089673</td>\n",
              "      <td>-0.034147</td>\n",
              "      <td>0</td>\n",
              "    </tr>\n",
              "    <tr>\n",
              "      <th>59999</th>\n",
              "      <td>-0.008644</td>\n",
              "      <td>-0.023223</td>\n",
              "      <td>-0.039178</td>\n",
              "      <td>-0.041322</td>\n",
              "      <td>-0.057646</td>\n",
              "      <td>-0.071167</td>\n",
              "      <td>-0.098878</td>\n",
              "      <td>-0.156653</td>\n",
              "      <td>-0.239080</td>\n",
              "      <td>-0.377827</td>\n",
              "      <td>...</td>\n",
              "      <td>-0.474798</td>\n",
              "      <td>-0.394260</td>\n",
              "      <td>-0.406094</td>\n",
              "      <td>-0.441358</td>\n",
              "      <td>-0.396626</td>\n",
              "      <td>-0.288156</td>\n",
              "      <td>-0.156811</td>\n",
              "      <td>-0.089673</td>\n",
              "      <td>-0.034147</td>\n",
              "      <td>5</td>\n",
              "    </tr>\n",
              "  </tbody>\n",
              "</table>\n",
              "<p>60000 rows × 785 columns</p>\n",
              "</div>\n",
              "      <button class=\"colab-df-convert\" onclick=\"convertToInteractive('df-cf862638-b98d-4029-9e98-d1b2e9633e7c')\"\n",
              "              title=\"Convert this dataframe to an interactive table.\"\n",
              "              style=\"display:none;\">\n",
              "        \n",
              "  <svg xmlns=\"http://www.w3.org/2000/svg\" height=\"24px\"viewBox=\"0 0 24 24\"\n",
              "       width=\"24px\">\n",
              "    <path d=\"M0 0h24v24H0V0z\" fill=\"none\"/>\n",
              "    <path d=\"M18.56 5.44l.94 2.06.94-2.06 2.06-.94-2.06-.94-.94-2.06-.94 2.06-2.06.94zm-11 1L8.5 8.5l.94-2.06 2.06-.94-2.06-.94L8.5 2.5l-.94 2.06-2.06.94zm10 10l.94 2.06.94-2.06 2.06-.94-2.06-.94-.94-2.06-.94 2.06-2.06.94z\"/><path d=\"M17.41 7.96l-1.37-1.37c-.4-.4-.92-.59-1.43-.59-.52 0-1.04.2-1.43.59L10.3 9.45l-7.72 7.72c-.78.78-.78 2.05 0 2.83L4 21.41c.39.39.9.59 1.41.59.51 0 1.02-.2 1.41-.59l7.78-7.78 2.81-2.81c.8-.78.8-2.07 0-2.86zM5.41 20L4 18.59l7.72-7.72 1.47 1.35L5.41 20z\"/>\n",
              "  </svg>\n",
              "      </button>\n",
              "      \n",
              "  <style>\n",
              "    .colab-df-container {\n",
              "      display:flex;\n",
              "      flex-wrap:wrap;\n",
              "      gap: 12px;\n",
              "    }\n",
              "\n",
              "    .colab-df-convert {\n",
              "      background-color: #E8F0FE;\n",
              "      border: none;\n",
              "      border-radius: 50%;\n",
              "      cursor: pointer;\n",
              "      display: none;\n",
              "      fill: #1967D2;\n",
              "      height: 32px;\n",
              "      padding: 0 0 0 0;\n",
              "      width: 32px;\n",
              "    }\n",
              "\n",
              "    .colab-df-convert:hover {\n",
              "      background-color: #E2EBFA;\n",
              "      box-shadow: 0px 1px 2px rgba(60, 64, 67, 0.3), 0px 1px 3px 1px rgba(60, 64, 67, 0.15);\n",
              "      fill: #174EA6;\n",
              "    }\n",
              "\n",
              "    [theme=dark] .colab-df-convert {\n",
              "      background-color: #3B4455;\n",
              "      fill: #D2E3FC;\n",
              "    }\n",
              "\n",
              "    [theme=dark] .colab-df-convert:hover {\n",
              "      background-color: #434B5C;\n",
              "      box-shadow: 0px 1px 3px 1px rgba(0, 0, 0, 0.15);\n",
              "      filter: drop-shadow(0px 1px 2px rgba(0, 0, 0, 0.3));\n",
              "      fill: #FFFFFF;\n",
              "    }\n",
              "  </style>\n",
              "\n",
              "      <script>\n",
              "        const buttonEl =\n",
              "          document.querySelector('#df-cf862638-b98d-4029-9e98-d1b2e9633e7c button.colab-df-convert');\n",
              "        buttonEl.style.display =\n",
              "          google.colab.kernel.accessAllowed ? 'block' : 'none';\n",
              "\n",
              "        async function convertToInteractive(key) {\n",
              "          const element = document.querySelector('#df-cf862638-b98d-4029-9e98-d1b2e9633e7c');\n",
              "          const dataTable =\n",
              "            await google.colab.kernel.invokeFunction('convertToInteractive',\n",
              "                                                     [key], {});\n",
              "          if (!dataTable) return;\n",
              "\n",
              "          const docLinkHtml = 'Like what you see? Visit the ' +\n",
              "            '<a target=\"_blank\" href=https://colab.research.google.com/notebooks/data_table.ipynb>data table notebook</a>'\n",
              "            + ' to learn more about interactive tables.';\n",
              "          element.innerHTML = '';\n",
              "          dataTable['output_type'] = 'display_data';\n",
              "          await google.colab.output.renderOutput(dataTable, element);\n",
              "          const docLink = document.createElement('div');\n",
              "          docLink.innerHTML = docLinkHtml;\n",
              "          element.appendChild(docLink);\n",
              "        }\n",
              "      </script>\n",
              "    </div>\n",
              "  </div>\n",
              "  "
            ]
          },
          "metadata": {},
          "execution_count": 18
        }
      ]
    },
    {
      "cell_type": "code",
      "source": [
        "# plotting label distributions for training data\n",
        "plot_label_distributions(train_df['LABEL'].tolist(), 'MNIST Fashion (train)', labels)"
      ],
      "metadata": {
        "id": "7Z1sA2Iu0MYp",
        "outputId": "ed0a30fb-91c9-4cad-eaa6-814bc1935430",
        "colab": {
          "base_uri": "https://localhost:8080/",
          "height": 0
        }
      },
      "execution_count": 19,
      "outputs": [
        {
          "output_type": "display_data",
          "data": {
            "text/plain": [
              "<Figure size 720x288 with 1 Axes>"
            ],
            "image/png": "[encoded data removed]"
          },
          "metadata": {
            "needs_background": "light"
          }
        }
      ]
    },
    {
      "cell_type": "code",
      "source": [
        "# plotting label distributions for testing data\n",
        "plot_label_distributions(test_df['LABEL'].tolist(), 'MNIST Fashion (test)', labels)"
      ],
      "metadata": {
        "id": "5uB2ZBXO2E2q",
        "outputId": "c2bc9d65-8c74-4007-b4a6-ac96b457de6d",
        "colab": {
          "base_uri": "https://localhost:8080/",
          "height": 0
        }
      },
      "execution_count": 20,
      "outputs": [
        {
          "output_type": "display_data",
          "data": {
            "text/plain": [
              "<Figure size 720x288 with 1 Axes>"
            ],
            "image/png": "[encoded data removed]"
          },
          "metadata": {
            "needs_background": "light"
          }
        }
      ]
    },
    {
      "cell_type": "markdown",
      "source": [
        "# Implementing models"
      ],
      "metadata": {
        "id": "a6lVueablnwe"
      }
    },
    {
      "cell_type": "markdown",
      "source": [
        "## Helper functions"
      ],
      "metadata": {
        "id": "U_WEPKULlIU2"
      }
    },
    {
      "cell_type": "markdown",
      "source": [
        "## Layers"
      ],
      "metadata": {
        "id": "-7B0imbhlxBQ"
      }
    },
    {
      "cell_type": "code",
      "source": [
        "class NeuralNetLayer:\n",
        "  def __init__(self):\n",
        "    self.gradient = None\n",
        "    self.parameters = None\n",
        "        \n",
        "  def forward(self, x):\n",
        "    raise NotImplementedError\n",
        "\n",
        "  def backward(self, gradient):\n",
        "    raise NotImplementedError"
      ],
      "metadata": {
        "id": "6G7qW7K8kaeL"
      },
      "execution_count": 21,
      "outputs": []
    },
    {
      "cell_type": "code",
      "source": [
        "class LinearLayer(NeuralNetLayer):\n",
        "  def __init__(self, input_size, output_size):\n",
        "    super().__init__()\n",
        "    self.ni = input_size\n",
        "    self.no = output_size\n",
        "\n",
        "    sigma = 0.1\n",
        "\n",
        "    random_state = RandomState(1234)\n",
        "    self.w = sigma * random_state.randn(output_size, input_size)\n",
        "    self.b = sigma * random_state.randn(output_size)\n",
        "    self.cur_input = None\n",
        "    self.parameters = [self.w, self.b]\n",
        "\n",
        "  # x is the data inputted into this layer during predictions;\n",
        "  # unless this is the input layer, x is the original data inputted\n",
        "  # into the model, but transformed by the preceding layers\n",
        "  def forward(self, x):\n",
        "    self.cur_input = x\n",
        "    return (self.w[None, :, :] @ x[:, :, None]).squeeze() + self.b\n",
        "\n",
        "  def backward(self, gradient):\n",
        "    assert self.cur_input is not None, \"Must call forward before backward\"\n",
        "    #dw = gradient.dot(self.cur_input)\n",
        "    dw = gradient[:, :, None] @ self.cur_input[:, None, :]\n",
        "    db = gradient\n",
        "    self.gradient = [dw, db]\n",
        "    return gradient.dot(self.w)"
      ],
      "metadata": {
        "id": "fLT6hDvqlnWn"
      },
      "execution_count": 22,
      "outputs": []
    },
    {
      "cell_type": "code",
      "source": [
        "class ReLULayer(NeuralNetLayer):\n",
        "  def __init__(self):\n",
        "    super().__init__()\n",
        "        \n",
        "  def forward(self, x):\n",
        "    self.gradient = np.where(x > 0, 1.0, 0.0)\n",
        "\n",
        "    activated_x = np.maximum(0, x)\n",
        "    #print(activated_x)\n",
        "    return activated_x\n",
        "\n",
        "  def backward(self, gradient):\n",
        "    assert self.gradient is not None, \"Must call forward before backward\"\n",
        "    return gradient * self.gradient"
      ],
      "metadata": {
        "id": "nh2uqaBzltSL"
      },
      "execution_count": 23,
      "outputs": []
    },
    {
      "cell_type": "code",
      "source": [
        "class LeakyReLULayer(NeuralNetLayer):\n",
        "  def __init__(self):\n",
        "    super().__init__()\n",
        "        \n",
        "  def forward(self, x):\n",
        "    self.gradient = np.where(x > 0, 1.0, 0.01)\n",
        "\n",
        "    # activated_x = [[float(element) if element > 0 else float(element) * 0.01 for element in sublist] for sublist in x]\n",
        "    activated_x = np.maximum(0.01 * x, x)\n",
        "    #print(activated_x)\n",
        "    return activated_x\n",
        "\n",
        "  def backward(self, gradient):\n",
        "    assert self.gradient is not None, \"Must call forward before backward\"\n",
        "    return gradient * self.gradient"
      ],
      "metadata": {
        "id": "dXZNK6cj0OpR"
      },
      "execution_count": 24,
      "outputs": []
    },
    {
      "cell_type": "code",
      "source": [
        "class TanhLayer(NeuralNetLayer):\n",
        "  def __init__(self):\n",
        "    super().__init__()\n",
        "        \n",
        "  def forward(self, x):\n",
        "    self.gradient = 1 - (np.tanh(x) ** 2)\n",
        "\n",
        "    activated_x = np.tanh(x)\n",
        "    return activated_x\n",
        "\n",
        "  def backward(self, gradient):\n",
        "    assert self.gradient is not None, \"Must call forward before backward\"\n",
        "    return gradient * self.gradient"
      ],
      "metadata": {
        "id": "_Q3WODEGvX9T"
      },
      "execution_count": 25,
      "outputs": []
    },
    {
      "cell_type": "code",
      "source": [
        "class SoftmaxOutputLayer(NeuralNetLayer):\n",
        "  def __init__(self):\n",
        "    super().__init__()\n",
        "    self.cur_probs = None\n",
        "\n",
        "  def forward(self, x):\n",
        "    # to prevent very large values\n",
        "    exps = np.exp(x - np.max(x))\n",
        "    probs = exps / np.sum(exps, axis=-1)[:, None]\n",
        "    #print(probs)\n",
        "    self.cur_probs = probs\n",
        "    return probs\n",
        "\n",
        "  def backward(self, target):\n",
        "    assert self.cur_probs is not None, \"Must call forward before backward\"\n",
        "    return self.cur_probs - target"
      ],
      "metadata": {
        "id": "H5KJfNG-l3Vq"
      },
      "execution_count": 26,
      "outputs": []
    },
    {
      "cell_type": "markdown",
      "source": [
        "## MLP"
      ],
      "metadata": {
        "id": "5o7wc6mXO2TM"
      }
    },
    {
      "cell_type": "code",
      "source": [
        "class MLP:\n",
        "  def __init__(self, n_features, n_output, hidden_layers = 0, hidden_units = [0], activation_func = \"None\"):\n",
        "    layers_list = []\n",
        "\n",
        "    # adds the input layer\n",
        "    if hidden_layers == 0:\n",
        "      layers_list.append(LinearLayer(n_features, n_output))\n",
        "    else:\n",
        "      layers_list.append(LinearLayer(n_features, hidden_units[0]))\n",
        "\n",
        "    # adds the hidden layers\n",
        "    for i in range(hidden_layers):\n",
        "\n",
        "      # adds activation function layers\n",
        "      if activation_func.upper() == \"RELU\":\n",
        "        layers_list.append(ReLULayer())\n",
        "      elif activation_func.upper() == \"TANH\":\n",
        "        layers_list.append(TanhLayer())\n",
        "      elif activation_func.upper() == \"LEAKY RELU\":\n",
        "        layers_list.append(LeakyReLULayer())\n",
        "\n",
        "      # if this is the last hidden layer, it outputs the output size\n",
        "      if i == hidden_layers - 1:\n",
        "        layers_list.append(LinearLayer(hidden_units[i], n_output))\n",
        "        continue\n",
        "          \n",
        "      # if this is not the last hidden layer, it outputs the hidden size\n",
        "      layers_list.append(LinearLayer(hidden_units[i], hidden_units[i + 1]))\n",
        "          \n",
        "    # adds the output layer\n",
        "    layers_list.append(SoftmaxOutputLayer())\n",
        "\n",
        "    self.layers = layers_list\n",
        "\n",
        "  def forward(self, x):\n",
        "    for layer in self.layers:\n",
        "      x = layer.forward(x)\n",
        "    return x\n",
        "\n",
        "  def backward(self, target):\n",
        "    for layer in self.layers[::-1]:\n",
        "      target = layer.backward(target)\n",
        "\n",
        "  def fit(self, x_train, y_train, x_test, y_test, opt, lambda_reg = 0, track_accuracy = False):    \n",
        "    # one-hot encodes the labels\n",
        "    labels_count = len(set(y_train))\n",
        "    labels = np.eye(labels_count)[np.array(y_train)]\n",
        "\n",
        "    loss = 0\n",
        "    train_acc = 0\n",
        "    test_acc = 0\n",
        "\n",
        "    prediction_probs = self.forward(x_train)\n",
        "\n",
        "    # back propagates\n",
        "    self.backward(labels)\n",
        "    opt.step()\n",
        "\n",
        "    # calculates the loss\n",
        "    loss = self.evaluate_loss(prediction_probs, labels, lambda_reg)\n",
        "\n",
        "    ### calculates the training and testing accuracy\n",
        "    if track_accuracy:\n",
        "      # calculates the predicted labels using the current model weights\n",
        "      train_pred = self.predict(x_train)\n",
        "      test_pred = self.predict(x_test)\n",
        "\n",
        "      # evaluates the training and testing accuracy\n",
        "      train_acc = evaluate_acc(train_pred, y_train)\n",
        "      test_acc = evaluate_acc(test_pred, y_test)\n",
        "\n",
        "    # returns the CE loss, training accuracy, and testing accuracy\n",
        "    return loss, train_acc, test_acc\n",
        "\n",
        "  def fit_mini_batch(self, x_train, y_train, x_test, y_test, opt, batch_size, lambda_reg = 0, track_acc = False):    \n",
        "    # one-hot encodes the labels\n",
        "    labels_count = len(set(y_train))\n",
        "\n",
        "    print(labels_count)\n",
        "    \n",
        "    labels = np.eye(labels_count)[np.array(y_train)]\n",
        "\n",
        "    x_train_size = len(x_train)\n",
        "\n",
        "    # the number of instances in each batch\n",
        "    batch_count = int(len(x_train) / batch_size)\n",
        "\n",
        "    # the index at which the current batch starts (updated in the for loop)\n",
        "    start_index = 0\n",
        "\n",
        "    loss = 0\n",
        "    train_acc = 0\n",
        "    test_acc = 0\n",
        "\n",
        "    # updating the model weights for each batch of training data\n",
        "    for i in range(batch_count):\n",
        "\n",
        "      # the index at which the current batch ends\n",
        "      end_index = batch_size * (i + 1)\n",
        "      if(i == batch_count - 1):\n",
        "        # if this is the last batch, take all the training data from start_index to -1\n",
        "        end_index = -1\n",
        "\n",
        "      # isolates the current batch of training data and associated labels\n",
        "      batch = x_train[start_index : end_index]\n",
        "      batch_labels = labels[start_index : end_index]\n",
        "\n",
        "      # updates the start index for the next batch (next iteration in the for loop)\n",
        "      start_index = end_index\n",
        "\n",
        "      # calculates the class predictions\n",
        "      prediction_probs = self.forward(batch)\n",
        "\n",
        "      # back propagates\n",
        "      self.backward(batch_labels)\n",
        "      opt.step(batch_size / x_train_size)\n",
        "\n",
        "    # calculates the loss\n",
        "    prediction_probs = self.forward(x_train)\n",
        "    loss = self.evaluate_loss(prediction_probs, labels, lambda_reg)\n",
        "\n",
        "    if track_acc:\n",
        "      # calculates the training and testing accuracy\n",
        "      train_pred = self.predict(x_train)\n",
        "      test_pred = self.predict(x_test)\n",
        "      \n",
        "      train_acc = evaluate_acc(train_pred, y_train)\n",
        "      test_acc = evaluate_acc(test_pred, y_test)\n",
        "\n",
        "    # returns the CE loss, training accuracy, and testing accuracy\n",
        "    return loss, train_acc, test_acc\n",
        "\n",
        "  def fit_epoch_mini_batch(self, x_train, y_train, x_test, y_test, opt, batch_size, epochs, lambda_reg, track_acc):\n",
        "    losses = []\n",
        "    train_accs = []\n",
        "    test_accs = []\n",
        "\n",
        "    indices = np.arange(0, len(x_train))\n",
        "\n",
        "    for epoch in range(epochs):\n",
        "      random_state = RandomState(1234)\n",
        "      random_state.shuffle(indices)\n",
        "      x_train_shuf = x_train[indices]\n",
        "      y_train_shuf = y_train[indices]\n",
        "\n",
        "      loss, train_acc, test_acc = self.fit_mini_batch(x_train_shuf, y_train_shuf, x_test, y_test, opt, batch_size, lambda_reg, track_acc)\n",
        "\n",
        "      # taking the last loss, training accuracy, and testing accuracy values\n",
        "      losses.append(loss)\n",
        "      train_accs.append(train_acc)\n",
        "      test_accs.append(test_acc)\n",
        "    \n",
        "    return losses, train_accs, test_accs\n",
        "\n",
        "  def evaluate_loss(self, prediction_probs, labels, lambda_reg):\n",
        "    # adds regularization term (0 by default)\n",
        "    reg_term = lambda_reg\n",
        "    if lambda_reg != 0:\n",
        "      weights_sum = 0\n",
        "\n",
        "      # iterates through the layers in the model and adds the weights\n",
        "      for layer in self.layers[::-1]:\n",
        "        # if the layer is a LinearLayer, it has weights\n",
        "        if type(layer).__name__ == \"LinearLayer\":\n",
        "          weights_squared = layer.w ** 2\n",
        "          weights_sum += sum(sum(weights_squared))\n",
        "\n",
        "      reg_term = (lambda_reg * weights_sum)\n",
        "\n",
        "    ### calculates the loss, adds it to the losses list, and back propagates based on the loss\n",
        "    loss = -(labels * np.log(prediction_probs)).sum(axis=-1).mean() + reg_term\n",
        "\n",
        "    return loss\n",
        "\n",
        "  def evaluate_initial_metrics(self, x_train, x_test, y_train, y_test, lambda_reg):\n",
        "    # evaluating the CE loss based on the predicted class probabilities\n",
        "    labels_count = len(set(y_train))\n",
        "    labels = np.eye(labels_count)[np.array(y_train)]\n",
        "    prediction_probs = self.forward(x_train)\n",
        "    loss = self.evaluate_loss(prediction_probs, labels, lambda_reg)\n",
        "\n",
        "    # evaluates the training and testing classification accuracy\n",
        "    train_pred = self.predict(x_train)\n",
        "    test_pred = self.predict(x_test)\n",
        "    train_acc = evaluate_acc(train_pred, y_train)\n",
        "    test_acc = evaluate_acc(test_pred, y_test)\n",
        "\n",
        "    return loss, train_acc, test_acc\n",
        "\n",
        "  def predict(self, x):\n",
        "    pred_prob = self.forward(x)\n",
        "    predictions = np.argmax(pred_prob, axis = -1)\n",
        "    return predictions"
      ],
      "metadata": {
        "id": "rnVxRvpFmGO4"
      },
      "execution_count": 53,
      "outputs": []
    },
    {
      "cell_type": "code",
      "source": [
        "class Optimizer:\n",
        "    def __init__(self, net: MLP):\n",
        "        self.net = net\n",
        "\n",
        "    # batch_coef is the number of instances in the batch / training data size\n",
        "    def step(self, batch_coef):\n",
        "        for layer in self.net.layers[::-1]:\n",
        "            if layer.parameters is not None:\n",
        "                self.update(layer.parameters, layer.gradient, batch_coef)\n",
        "\n",
        "    def update(self, params, gradient):\n",
        "        raise NotImplementedError\n",
        "\n",
        "class GradientDescentOptimizer(Optimizer):\n",
        "    def __init__(self, net: MLP, lr: float):\n",
        "        super().__init__(net)\n",
        "        self.lr = lr\n",
        "\n",
        "    def update(self, params, gradient, batch_coef):\n",
        "        for (p, g) in zip(params, gradient):\n",
        "            p -= self.lr * g.mean(axis=0) * batch_coef"
      ],
      "metadata": {
        "id": "E9d9aLMlmQ1o"
      },
      "execution_count": 28,
      "outputs": []
    },
    {
      "cell_type": "markdown",
      "source": [
        "# Running experiments"
      ],
      "metadata": {
        "id": "IlELJSq3nWUz"
      }
    },
    {
      "cell_type": "markdown",
      "source": [
        "### Helper functions"
      ],
      "metadata": {
        "id": "0rywH03KE_9-"
      }
    },
    {
      "cell_type": "code",
      "source": [
        "def evaluate_acc(true_labels, target_labels):\n",
        "  # the number of labels\n",
        "  label_count = true_labels.shape[0]\n",
        "\n",
        "  # the accuracy is the number of correctly labelled instances divided\n",
        "  # by the total number of instances\n",
        "  accuracy = np.sum(target_labels == true_labels) / label_count\n",
        "\n",
        "  return accuracy"
      ],
      "metadata": {
        "id": "bAo7UKZrX5RR"
      },
      "execution_count": 29,
      "outputs": []
    },
    {
      "cell_type": "code",
      "source": [
        "def plot_losses(losses, hidden_layer_count, activation_func):\n",
        "  x_axis = np.arange(1, len(losses) + 1, dtype = int)\n",
        "\n",
        "  plt.figure(figsize=(8, 4))\n",
        "  plt.plot(x_axis, losses)\n",
        "\n",
        "  # changing the title based on whether there are hidden layers\n",
        "  if hidden_layer_count == 0:\n",
        "    plt.title(\"Cross-entropy training loss for \" + str(hidden_layer_count) + \" hidden layers\")\n",
        "  else:\n",
        "    plt.title(\"Cross-entropy training loss for \" + str(hidden_layer_count) + \" hidden layer(s) with \" + activation_func)\n",
        "    \n",
        "  plt.xlabel(\"Epoch\")\n",
        "  plt.xticks(x_axis, map(str, x_axis))\n",
        "  plt.ylabel(\"Cross-entropy loss\")"
      ],
      "metadata": {
        "id": "m2_I_GRr8MzE"
      },
      "execution_count": 30,
      "outputs": []
    },
    {
      "cell_type": "code",
      "source": [
        "def plot_train_test_acc(train_accs, test_accs, hidden_layer_count, activation_func):\n",
        "  x_axis = np.arange(1, len(train_accs) + 1, dtype = int)\n",
        "\n",
        "  plt.figure(figsize=(8, 4))\n",
        "\n",
        "  plt.plot(x_axis, train_accs, label = \"Training accuracy\")\n",
        "  plt.plot(x_axis, test_accs, label = \"Testing accuracy\")\n",
        "\n",
        "  # changing the title based on whether there are hidden layers\n",
        "  if hidden_layer_count == 0:\n",
        "    plt.title(\"Training and testing accuracy for \" + str(hidden_layer_count) + \" hidden layers\")\n",
        "  else:\n",
        "    plt.title(\"Training and testing accuracy for \" + str(hidden_layer_count) + \" hidden layer(s) with \" + activation_func)\n",
        "    \n",
        "  plt.xlabel(\"Epoch\")\n",
        "  plt.xticks(x_axis, map(str, x_axis))\n",
        "  plt.ylabel(\"Classification accuracy\")\n",
        "  plt.legend()"
      ],
      "metadata": {
        "id": "8dJsc80n80sE"
      },
      "execution_count": 31,
      "outputs": []
    },
    {
      "cell_type": "code",
      "source": [
        "def plot_test_acc(test_accs, k_values, model = \"MLP\"):\n",
        "\n",
        "  plt.figure(figsize=(8, 4))\n",
        "\n",
        "  plt.plot(test_accs, label = \"Testing accuracy\")\n",
        "\n",
        "  \n",
        "  plt.title(model + \" testing accuracy when trained on 10^k images\")\n",
        "  plt.xlabel(\"k\")\n",
        "  plt.ylabel(\"Classification accuracy\")\n",
        "  plt.legend()"
      ],
      "metadata": {
        "id": "XIF34Cr3D1hn"
      },
      "execution_count": 44,
      "outputs": []
    },
    {
      "cell_type": "code",
      "source": [
        "def epoch_mini_batch(x_train, y_train, x_test, y_test, hidden_layers, hidden_units, activation_func, lr, batch_size, epochs, lambda_reg = 0, track_acc = False, track_loss = True):\n",
        "  n_features = x_train.shape[-1]\n",
        "  n_output = len(set(y_train))\n",
        "\n",
        "  # creates the mlp and optimizer objects\n",
        "  mlp = MLP(n_features, n_output, hidden_layers, hidden_units, activation_func)\n",
        "  opt = GradientDescentOptimizer(mlp, lr)\n",
        "\n",
        "  # saving the initial loss, training accuracy, and testing accuracy\n",
        "  # initial_loss, initial_train_acc, initial_test_acc = mlp.evaluate_initial_metrics(x_train, x_test, y_train, y_test, lambda_reg)\n",
        "\n",
        "  # training the model using mini-batch times epochs\n",
        "  losses, train_accs, test_accs = mlp.fit_epoch_mini_batch(x_train, y_train, x_test, y_test, opt, batch_size, epochs, lambda_reg, track_acc)\n",
        "\n",
        "  #losses.insert(0, initial_loss)\n",
        "\n",
        "  # the number of hidden layers\n",
        "  hidden_layer_count = int((len(mlp.layers) - 2) / 2)\n",
        "\n",
        "  # plots the cross-entropy loss\n",
        "  if track_loss:\n",
        "    plot_losses(losses, hidden_layer_count, activation_func)\n",
        "    \n",
        "  # plots the training and testing accuracy\n",
        "  if track_acc:\n",
        "    plot_train_test_acc(train_accs, test_accs, hidden_layer_count, activation_func)\n",
        "\n",
        "  return mlp"
      ],
      "metadata": {
        "id": "YWxAE0Mzp7qP"
      },
      "execution_count": 49,
      "outputs": []
    },
    {
      "cell_type": "code",
      "source": [
        "def evaluate_mlp_acc(mlp: MLP, x_train, y_train, x_test, y_test, silent = True):\n",
        "  train_predictions = mlp.predict(x_train)\n",
        "  test_predictions = mlp.predict(x_test)\n",
        "  \n",
        "  train_acc = evaluate_acc(train_predictions, y_train)\n",
        "  test_acc = evaluate_acc(test_predictions, y_test)\n",
        "  \n",
        "  if not silent:\n",
        "    print(\"The accuracy of the model on the training data: \" + str(round((train_acc * 100), 2)) + \"%\")\n",
        "    print(\"The accuracy of the model on the testing data: \" + str(round((test_acc * 100), 2)) + \"%\")\n",
        "    print(\"\\n\")\n",
        "\n",
        "  return train_acc, test_acc\n",
        "                     "
      ],
      "metadata": {
        "id": "_O6LbWx1tNtx"
      },
      "execution_count": 33,
      "outputs": []
    },
    {
      "cell_type": "code",
      "source": [
        "def compare_train_images(x_train, y_train, x_test, y_test):\n",
        "  k = [1, 2, 3, 4]\n",
        "  indices = np.arange(0, len(x_train))\n",
        "\n",
        "  accs = []\n",
        "\n",
        "  random_state = RandomState(123)\n",
        "  random_state.shuffle(indices)\n",
        "  x_train_shuf = x_train[indices]\n",
        "  y_train_shuf = y_train[indices]\n",
        "\n",
        "  for k_val in k:\n",
        "    # shuffles the data\n",
        "    random_state = RandomState(123 + k_val)\n",
        "    random_state.shuffle(indices)\n",
        "    x_train_shuf = x_train[indices]\n",
        "    y_train_shuf = y_train[indices]\n",
        "\n",
        "    end_index = 10 ** k_val\n",
        "\n",
        "    x_train_shuf = x_train_shuf[0 : end_index]\n",
        "    y_train_shuf = y_train_shuf[0 : end_index]\n",
        "\n",
        "    cur_mlp = epoch_mini_batch(x_train_shuf, y_train_shuf, x_test, y_test, 2, [128, 128], \"ReLU\", 0.95, 1000, 1, track_loss = False)\n",
        "    cur_acc = evaluate_mlp_acc(cur_mlp, x_train, y_train, x_test, y_test)[1]\n",
        "\n",
        "    accs.append(cur_acc)\n",
        "\n",
        "  plot_test_acc(accs, k, model = \"MLP\")"
      ],
      "metadata": {
        "id": "kX4Cx6pjAHEG"
      },
      "execution_count": 47,
      "outputs": []
    },
    {
      "cell_type": "code",
      "source": [
        "def compare_learning_rates(x_train, y_train, x_test, y_test):\n",
        "  lrs = [0.001, 0.01, 0.1, 0.3, 0.5, 0.7, 0.9, 1]\n",
        "\n",
        "  for lr in lrs:\n",
        "    print(\"Testing accuracy for learning rate \" + str(lr))\n",
        "\n",
        "    mlp0 = epoch_mini_batch(x_train, y_train, x_test, y_test, 0, [], \"ReLU\", lr, 1000, 1, track_loss = False)\n",
        "    test_acc0 = evaluate_mlp_acc(mlp0, x_train, y_train, x_test, y_test)[1]\n",
        "    print(\"\\t0 hidden layers: \" + str(round(test_acc0 * 100, 2)) + \"%\")\n",
        "\n",
        "    mlp1 = epoch_mini_batch(x_train, y_train, x_test, y_test, 1, [128], \"ReLU\", lr, 1000, 1, track_loss = False)\n",
        "    test_acc1 = evaluate_mlp_acc(mlp1, x_train, y_train, x_test, y_test)[1]\n",
        "    print(\"\\t1 hidden layer: \" + str(round(test_acc1 * 100, 2)) + \"%\")\n",
        "\n",
        "    mlp2 = epoch_mini_batch(x_train, y_train, x_test, y_test, 2, [128, 128], \"ReLU\", lr, 1000, 1, track_loss = False)\n",
        "    test_acc2 = evaluate_mlp_acc(mlp2, x_train, y_train, x_test, y_test)[1]    \n",
        "    print(\"\\t2 hidden layers: \" + str(round(test_acc2 * 100, 2)) + \"%\")\n",
        "\n",
        "    print(\"\")"
      ],
      "metadata": {
        "id": "RAJxA7gvXRkv"
      },
      "execution_count": 43,
      "outputs": []
    },
    {
      "cell_type": "code",
      "source": [
        "def compare_hidden_configs(x_train, y_train, x_test, y_test, lr):\n",
        "  hidden_units = [32, 64, 128]\n",
        "  accs = []\n",
        "\n",
        "  # experiments with 1 hidden layer\n",
        "  for units in hidden_units:\n",
        "    cur_units = [units]\n",
        "\n",
        "    cur_mlp = epoch_mini_batch(x_train, y_train, x_test, y_test, 1, cur_units, \"ReLU\", lr, 1000, 1, track_loss = False)\n",
        "    \n",
        "    print(\"1 hidden layer with \" + str(units) + \" hidden units\")\n",
        "    cur_acc = evaluate_mlp_acc(cur_mlp, x_train, y_train, x_test, y_test)\n",
        "\n",
        "    print(\"\\tTraining accuracy: \" + str(round(cur_acc[0] * 100, 2)) + \"%\")\n",
        "    print(\"\\tTesting accuracy: \" + str(round(cur_acc[1] * 100, 2)) + \"%\")\n",
        "    print(\"\")\n",
        "\n",
        "  # experiments with 2 hidden layers\n",
        "  for units in hidden_units:\n",
        "    for units_two in hidden_units:\n",
        "      cur_units = [units, units_two]\n",
        "\n",
        "      cur_mlp = epoch_mini_batch(x_train, y_train, x_test, y_test, 2, cur_units, \"ReLU\", lr, 1000, 1, track_loss = False)\n",
        "\n",
        "      print(\"2 hidden layers with \" + str(units) + \", \" + str(units_two) + \" units each\")\n",
        "      cur_acc = evaluate_mlp_acc(cur_mlp, x_train, y_train, x_test, y_test)\n",
        "\n",
        "      print(\"\\tTraining accuracy: \" + str(round(cur_acc[0] * 100, 2)) + \"%\")\n",
        "      print(\"\\tTesting accuracy: \" + str(round(cur_acc[1] * 100, 2)) + \"%\")\n",
        "      print(\"\")\n",
        "\n",
        "  '''\n",
        "  # experiments with 3 hidden layers\n",
        "  three_accs = []\n",
        "  for units in hidden_units:\n",
        "    for units_two in hidden_units:\n",
        "      for units_three in hidden_units:\n",
        "        cur_units = [units, units_two, units_three]\n",
        "        cur_mlp = epoch_mini_batch(x_train, y_train, x_test, y_test, 1, cur_units, \"ReLU\", lr, 1000, 3)\n",
        "        cur_acc = evaluate_mlp_acc(cur_mlp, x_train, y_train, x_test, y_test)\n",
        "\n",
        "        three_accs.append(cur_acc)\n",
        "  '''"
      ],
      "metadata": {
        "id": "cD_skMvJDUzS"
      },
      "execution_count": 39,
      "outputs": []
    },
    {
      "cell_type": "markdown",
      "source": [
        "## MLP"
      ],
      "metadata": {
        "id": "uVb_gMZBGdRo"
      }
    },
    {
      "cell_type": "markdown",
      "source": [
        "### Baseline accuracy tests\n",
        "\n"
      ],
      "metadata": {
        "id": "_Zi31RJC-Kmr"
      }
    },
    {
      "cell_type": "code",
      "source": [
        "### plotting training and testing for 0 hidden layers (ReLU)\n",
        "\n",
        "mlp0_test2 = epoch_mini_batch(x_train, y_train, x_test, y_test, 0, [], \"ReLU\", 0.95, 1000, 20, track_acc = True)\n",
        "acc0_test2 = evaluate_mlp_acc(mlp0_test2, x_train, y_train, x_test, y_test, silent = False)"
      ],
      "metadata": {
        "id": "SZrUkti1AIxT",
        "outputId": "d39da6d5-8723-4ddb-d278-c1a2a4090379",
        "colab": {
          "base_uri": "https://localhost:8080/",
          "height": 644
        }
      },
      "execution_count": 66,
      "outputs": [
        {
          "output_type": "stream",
          "name": "stdout",
          "text": [
            "The accuracy of the model on the training data: 82.89%\n",
            "The accuracy of the model on the testing data: 81.75%\n",
            "\n",
            "\n"
          ]
        },
        {
          "output_type": "display_data",
          "data": {
            "text/plain": [
              "<Figure size 576x288 with 1 Axes>"
            ],
            "image/png": "[encoded data removed]"
          },
          "metadata": {
            "needs_background": "light"
          }
        },
        {
          "output_type": "display_data",
          "data": {
            "text/plain": [
              "<Figure size 576x288 with 1 Axes>"
            ],
            "image/png": "[encoded data removed]"
          },
          "metadata": {
            "needs_background": "light"
          }
        }
      ]
    },
    {
      "cell_type": "code",
      "source": [
        "### plotting training and testing accuracy for 1 hidden layer (ReLU)\n",
        "\n",
        "mlp1_test = epoch_mini_batch(x_train, y_train, x_test, y_test, 1, [128], \"ReLU\", 0.95, 1000, 20, track_acc = True)\n",
        "acc1_test = evaluate_mlp_acc(mlp1_test, x_train, y_train, x_test, y_test, silent = False)"
      ],
      "metadata": {
        "id": "TJaxXO0Nlzah",
        "outputId": "822dc48b-60d5-4ed9-a86f-5a20a0186030",
        "colab": {
          "base_uri": "https://localhost:8080/",
          "height": 644
        }
      },
      "execution_count": 67,
      "outputs": [
        {
          "output_type": "stream",
          "name": "stdout",
          "text": [
            "The accuracy of the model on the training data: 84.39%\n",
            "The accuracy of the model on the testing data: 83.18%\n",
            "\n",
            "\n"
          ]
        },
        {
          "output_type": "display_data",
          "data": {
            "text/plain": [
              "<Figure size 576x288 with 1 Axes>"
            ],
            "image/png": "[encoded data removed]"
          },
          "metadata": {
            "needs_background": "light"
          }
        },
        {
          "output_type": "display_data",
          "data": {
            "text/plain": [
              "<Figure size 576x288 with 1 Axes>"
            ],
            "image/png": "[encoded data removed]"
          },
          "metadata": {
            "needs_background": "light"
          }
        }
      ]
    },
    {
      "cell_type": "code",
      "source": [
        "### plotting training and testing accuracy for 2 hidden layers (ReLU)\n",
        "\n",
        "mlp2_test = epoch_mini_batch(x_train, y_train, x_test, y_test, 2, [128, 128], \"ReLU\", 0.95, 1000, 20, track_acc = True)\n",
        "acc2_test = evaluate_mlp_acc(mlp2_test, x_train, y_train, x_test, y_test, silent = False)"
      ],
      "metadata": {
        "id": "RwkmkB3Vq6yU",
        "outputId": "fc169e48-1eb6-439e-cae3-f593f87b8708",
        "colab": {
          "base_uri": "https://localhost:8080/",
          "height": 644
        }
      },
      "execution_count": null,
      "outputs": [
        {
          "output_type": "stream",
          "name": "stdout",
          "text": [
            "The accuracy of the model on the training data: 84.86%\n",
            "The accuracy of the model on the testing data: 83.34%\n",
            "\n",
            "\n"
          ]
        },
        {
          "output_type": "display_data",
          "data": {
            "text/plain": [
              "<Figure size 576x288 with 1 Axes>"
            ],
            "image/png": "[encoded data removed]"
          },
          "metadata": {
            "needs_background": "light"
          }
        },
        {
          "output_type": "display_data",
          "data": {
            "text/plain": [
              "<Figure size 576x288 with 1 Axes>"
            ],
            "image/png": "[encoded data removed]"
          },
          "metadata": {
            "needs_background": "light"
          }
        }
      ]
    },
    {
      "cell_type": "markdown",
      "source": [
        "### Testing activation functions other than ReLU"
      ],
      "metadata": {
        "id": "Xw646-_-vt2r"
      }
    },
    {
      "cell_type": "code",
      "source": [
        "### training and testing 2 hidden layers with Tanh activation functions\n",
        "\n",
        "mlp2t = epoch_mini_batch(x_train, y_train, x_test, y_test, 2, [128, 128], \"Tanh\", 0.95, 1000, 20)\n",
        "acc2t = evaluate_mlp_acc(mlp2t, x_train, y_train, x_test, y_test, silent = False)"
      ],
      "metadata": {
        "id": "dx45R6rav2CT",
        "colab": {
          "base_uri": "https://localhost:8080/",
          "height": 366
        },
        "outputId": "76d720c7-509d-4fc4-8ab5-e2217035b3ae"
      },
      "execution_count": null,
      "outputs": [
        {
          "output_type": "stream",
          "name": "stdout",
          "text": [
            "The accuracy of the model on the training data: 83.05%\n",
            "The accuracy of the model on the testing data: 81.92%\n",
            "\n",
            "\n"
          ]
        },
        {
          "output_type": "display_data",
          "data": {
            "text/plain": [
              "<Figure size 576x288 with 1 Axes>"
            ],
            "image/png": "[encoded data removed]"
          },
          "metadata": {
            "needs_background": "light"
          }
        }
      ]
    },
    {
      "cell_type": "code",
      "source": [
        "### training and testing 2 hidden layers with leaky ReLU activation functions\n",
        "\n",
        "mlp2l = epoch_mini_batch(x_train, y_train, x_test, y_test, 2, [128, 128], \"Leaky ReLU\", 0.95, 1000, 20)\n",
        "acc2l = evaluate_mlp_acc(mlp2l, x_train, y_train, x_test, y_test, silent = False)"
      ],
      "metadata": {
        "id": "KNVMb42qwVBu",
        "colab": {
          "base_uri": "https://localhost:8080/",
          "height": 366
        },
        "outputId": "c9551245-e6d9-4596-f188-d3a52ceef4c9"
      },
      "execution_count": null,
      "outputs": [
        {
          "output_type": "stream",
          "name": "stdout",
          "text": [
            "The accuracy of the model on the training data: 84.86%\n",
            "The accuracy of the model on the testing data: 83.34%\n",
            "\n",
            "\n"
          ]
        },
        {
          "output_type": "display_data",
          "data": {
            "text/plain": [
              "<Figure size 576x288 with 1 Axes>"
            ],
            "image/png": "[encoded data removed]"
          },
          "metadata": {
            "needs_background": "light"
          }
        }
      ]
    },
    {
      "cell_type": "markdown",
      "source": [
        "### Adding L2 regularization"
      ],
      "metadata": {
        "id": "lLEAhgccx8KV"
      }
    },
    {
      "cell_type": "code",
      "source": [
        "### training and testing 2 hidden layers with ReLU activation functions and L2 regularization\n",
        "\n",
        "mlp2reg = epoch_mini_batch(x_train, y_train, x_test, y_test, 2, [128, 128], \"ReLU\", 0.95, 1000, 20, lambda_reg = 0.01)\n",
        "acc2reg = evaluate_mlp_acc(mlp2reg, x_train, y_train, x_test, y_test, silent = False)"
      ],
      "metadata": {
        "id": "iZ0Qy_T_yANL",
        "colab": {
          "base_uri": "https://localhost:8080/",
          "height": 366
        },
        "outputId": "21c9a2b4-f749-4410-94c9-d95d1034e7f0"
      },
      "execution_count": null,
      "outputs": [
        {
          "output_type": "stream",
          "name": "stdout",
          "text": [
            "The accuracy of the model on the training data: 84.86%\n",
            "The accuracy of the model on the testing data: 83.34%\n",
            "\n",
            "\n"
          ]
        },
        {
          "output_type": "display_data",
          "data": {
            "text/plain": [
              "<Figure size 576x288 with 1 Axes>"
            ],
            "image/png": "[encoded data removed]"
          },
          "metadata": {
            "needs_background": "light"
          }
        }
      ]
    },
    {
      "cell_type": "markdown",
      "source": [
        "### Using a model trained on unnormalized images"
      ],
      "metadata": {
        "id": "AzPgdvMUdN95"
      }
    },
    {
      "cell_type": "code",
      "source": [
        "### training and testing 2 hidden layers with ReLu activation functions\n",
        "\n",
        "mlp2ln = epoch_mini_batch(x_train_unprocessed, y_train, x_test_unprocessed, y_test, 2, [128, 128], \"ReLU\", 0.01, 1000, 20)\n",
        "acc2ln = evaluate_mlp_acc(mlp2ln, x_train_unprocessed, y_train, x_test_unprocessed, y_test, silent = False)"
      ],
      "metadata": {
        "id": "v4EfC-87dQE5",
        "outputId": "a1e441e7-2e78-48b9-ca8b-90cc15a06fd5",
        "colab": {
          "base_uri": "https://localhost:8080/",
          "height": 366
        }
      },
      "execution_count": null,
      "outputs": [
        {
          "output_type": "stream",
          "name": "stdout",
          "text": [
            "The accuracy of the model on the training data: 76.76%\n",
            "The accuracy of the model on the testing data: 74.73%\n",
            "\n",
            "\n"
          ]
        },
        {
          "output_type": "display_data",
          "data": {
            "text/plain": [
              "<Figure size 576x288 with 1 Axes>"
            ],
            "image/png": "[encoded data removed]"
          },
          "metadata": {
            "needs_background": "light"
          }
        }
      ]
    },
    {
      "cell_type": "markdown",
      "source": [
        "### Plotting testing accuracy as function of the number of training images"
      ],
      "metadata": {
        "id": "ShRTEwOd5nB8"
      }
    },
    {
      "cell_type": "code",
      "source": [
        "compare_train_images(x_train, y_train, x_test, y_test)"
      ],
      "metadata": {
        "id": "fd9_TDg35uZC",
        "outputId": "d06f6b64-5623-4c0c-ef2f-662df3e3fc0a",
        "colab": {
          "base_uri": "https://localhost:8080/",
          "height": 353
        }
      },
      "execution_count": 52,
      "outputs": [
        {
          "output_type": "stream",
          "name": "stdout",
          "text": [
            "6\n"
          ]
        },
        {
          "output_type": "error",
          "ename": "IndexError",
          "evalue": "ignored",
          "traceback": [
            "\u001b[0;31m---------------------------------------------------------------------------\u001b[0m",
            "\u001b[0;31mIndexError\u001b[0m                                Traceback (most recent call last)",
            "\u001b[0;32m<ipython-input-52-6435a12973b7>\u001b[0m in \u001b[0;36m<module>\u001b[0;34m\u001b[0m\n\u001b[0;32m----> 1\u001b[0;31m \u001b[0mcompare_train_images\u001b[0m\u001b[0;34m(\u001b[0m\u001b[0mx_train\u001b[0m\u001b[0;34m,\u001b[0m \u001b[0my_train\u001b[0m\u001b[0;34m,\u001b[0m \u001b[0mx_test\u001b[0m\u001b[0;34m,\u001b[0m \u001b[0my_test\u001b[0m\u001b[0;34m)\u001b[0m\u001b[0;34m\u001b[0m\u001b[0;34m\u001b[0m\u001b[0m\n\u001b[0m",
            "\u001b[0;32m<ipython-input-47-5191261f5ea5>\u001b[0m in \u001b[0;36mcompare_train_images\u001b[0;34m(x_train, y_train, x_test, y_test)\u001b[0m\n\u001b[1;32m     22\u001b[0m     \u001b[0my_train_shuf\u001b[0m \u001b[0;34m=\u001b[0m \u001b[0my_train_shuf\u001b[0m\u001b[0;34m[\u001b[0m\u001b[0;36m0\u001b[0m \u001b[0;34m:\u001b[0m \u001b[0mend_index\u001b[0m\u001b[0;34m]\u001b[0m\u001b[0;34m\u001b[0m\u001b[0;34m\u001b[0m\u001b[0m\n\u001b[1;32m     23\u001b[0m \u001b[0;34m\u001b[0m\u001b[0m\n\u001b[0;32m---> 24\u001b[0;31m     \u001b[0mcur_mlp\u001b[0m \u001b[0;34m=\u001b[0m \u001b[0mepoch_mini_batch\u001b[0m\u001b[0;34m(\u001b[0m\u001b[0mx_train_shuf\u001b[0m\u001b[0;34m,\u001b[0m \u001b[0my_train_shuf\u001b[0m\u001b[0;34m,\u001b[0m \u001b[0mx_test\u001b[0m\u001b[0;34m,\u001b[0m \u001b[0my_test\u001b[0m\u001b[0;34m,\u001b[0m \u001b[0;36m2\u001b[0m\u001b[0;34m,\u001b[0m \u001b[0;34m[\u001b[0m\u001b[0;36m128\u001b[0m\u001b[0;34m,\u001b[0m \u001b[0;36m128\u001b[0m\u001b[0;34m]\u001b[0m\u001b[0;34m,\u001b[0m \u001b[0;34m\"ReLU\"\u001b[0m\u001b[0;34m,\u001b[0m \u001b[0;36m0.95\u001b[0m\u001b[0;34m,\u001b[0m \u001b[0;36m1000\u001b[0m\u001b[0;34m,\u001b[0m \u001b[0;36m1\u001b[0m\u001b[0;34m,\u001b[0m \u001b[0mtrack_loss\u001b[0m \u001b[0;34m=\u001b[0m \u001b[0;32mFalse\u001b[0m\u001b[0;34m)\u001b[0m\u001b[0;34m\u001b[0m\u001b[0;34m\u001b[0m\u001b[0m\n\u001b[0m\u001b[1;32m     25\u001b[0m     \u001b[0mcur_acc\u001b[0m \u001b[0;34m=\u001b[0m \u001b[0mevaluate_mlp_acc\u001b[0m\u001b[0;34m(\u001b[0m\u001b[0mcur_mlp\u001b[0m\u001b[0;34m,\u001b[0m \u001b[0mx_train\u001b[0m\u001b[0;34m,\u001b[0m \u001b[0my_train\u001b[0m\u001b[0;34m,\u001b[0m \u001b[0mx_test\u001b[0m\u001b[0;34m,\u001b[0m \u001b[0my_test\u001b[0m\u001b[0;34m)\u001b[0m\u001b[0;34m[\u001b[0m\u001b[0;36m1\u001b[0m\u001b[0;34m]\u001b[0m\u001b[0;34m\u001b[0m\u001b[0;34m\u001b[0m\u001b[0m\n\u001b[1;32m     26\u001b[0m \u001b[0;34m\u001b[0m\u001b[0m\n",
            "\u001b[0;32m<ipython-input-49-238bf62bebae>\u001b[0m in \u001b[0;36mepoch_mini_batch\u001b[0;34m(x_train, y_train, x_test, y_test, hidden_layers, hidden_units, activation_func, lr, batch_size, epochs, lambda_reg, track_acc, track_loss)\u001b[0m\n\u001b[1;32m     11\u001b[0m \u001b[0;34m\u001b[0m\u001b[0m\n\u001b[1;32m     12\u001b[0m   \u001b[0;31m# training the model using mini-batch times epochs\u001b[0m\u001b[0;34m\u001b[0m\u001b[0;34m\u001b[0m\u001b[0;34m\u001b[0m\u001b[0m\n\u001b[0;32m---> 13\u001b[0;31m   \u001b[0mlosses\u001b[0m\u001b[0;34m,\u001b[0m \u001b[0mtrain_accs\u001b[0m\u001b[0;34m,\u001b[0m \u001b[0mtest_accs\u001b[0m \u001b[0;34m=\u001b[0m \u001b[0mmlp\u001b[0m\u001b[0;34m.\u001b[0m\u001b[0mfit_epoch_mini_batch\u001b[0m\u001b[0;34m(\u001b[0m\u001b[0mx_train\u001b[0m\u001b[0;34m,\u001b[0m \u001b[0my_train\u001b[0m\u001b[0;34m,\u001b[0m \u001b[0mx_test\u001b[0m\u001b[0;34m,\u001b[0m \u001b[0my_test\u001b[0m\u001b[0;34m,\u001b[0m \u001b[0mopt\u001b[0m\u001b[0;34m,\u001b[0m \u001b[0mbatch_size\u001b[0m\u001b[0;34m,\u001b[0m \u001b[0mepochs\u001b[0m\u001b[0;34m,\u001b[0m \u001b[0mlambda_reg\u001b[0m\u001b[0;34m,\u001b[0m \u001b[0mtrack_acc\u001b[0m\u001b[0;34m)\u001b[0m\u001b[0;34m\u001b[0m\u001b[0;34m\u001b[0m\u001b[0m\n\u001b[0m\u001b[1;32m     14\u001b[0m \u001b[0;34m\u001b[0m\u001b[0m\n\u001b[1;32m     15\u001b[0m   \u001b[0;31m#losses.insert(0, initial_loss)\u001b[0m\u001b[0;34m\u001b[0m\u001b[0;34m\u001b[0m\u001b[0;34m\u001b[0m\u001b[0m\n",
            "\u001b[0;32m<ipython-input-51-313dfdcec59d>\u001b[0m in \u001b[0;36mfit_epoch_mini_batch\u001b[0;34m(self, x_train, y_train, x_test, y_test, opt, batch_size, epochs, lambda_reg, track_acc)\u001b[0m\n\u001b[1;32m    143\u001b[0m       \u001b[0my_train_shuf\u001b[0m \u001b[0;34m=\u001b[0m \u001b[0my_train\u001b[0m\u001b[0;34m[\u001b[0m\u001b[0mindices\u001b[0m\u001b[0;34m]\u001b[0m\u001b[0;34m\u001b[0m\u001b[0;34m\u001b[0m\u001b[0m\n\u001b[1;32m    144\u001b[0m \u001b[0;34m\u001b[0m\u001b[0m\n\u001b[0;32m--> 145\u001b[0;31m       \u001b[0mloss\u001b[0m\u001b[0;34m,\u001b[0m \u001b[0mtrain_acc\u001b[0m\u001b[0;34m,\u001b[0m \u001b[0mtest_acc\u001b[0m \u001b[0;34m=\u001b[0m \u001b[0mself\u001b[0m\u001b[0;34m.\u001b[0m\u001b[0mfit_mini_batch\u001b[0m\u001b[0;34m(\u001b[0m\u001b[0mx_train_shuf\u001b[0m\u001b[0;34m,\u001b[0m \u001b[0my_train_shuf\u001b[0m\u001b[0;34m,\u001b[0m \u001b[0mx_test\u001b[0m\u001b[0;34m,\u001b[0m \u001b[0my_test\u001b[0m\u001b[0;34m,\u001b[0m \u001b[0mopt\u001b[0m\u001b[0;34m,\u001b[0m \u001b[0mbatch_size\u001b[0m\u001b[0;34m,\u001b[0m \u001b[0mlambda_reg\u001b[0m\u001b[0;34m,\u001b[0m \u001b[0mtrack_acc\u001b[0m\u001b[0;34m)\u001b[0m\u001b[0;34m\u001b[0m\u001b[0;34m\u001b[0m\u001b[0m\n\u001b[0m\u001b[1;32m    146\u001b[0m \u001b[0;34m\u001b[0m\u001b[0m\n\u001b[1;32m    147\u001b[0m       \u001b[0;31m# taking the last loss, training accuracy, and testing accuracy values\u001b[0m\u001b[0;34m\u001b[0m\u001b[0;34m\u001b[0m\u001b[0;34m\u001b[0m\u001b[0m\n",
            "\u001b[0;32m<ipython-input-51-313dfdcec59d>\u001b[0m in \u001b[0;36mfit_mini_batch\u001b[0;34m(self, x_train, y_train, x_test, y_test, opt, batch_size, lambda_reg, track_acc)\u001b[0m\n\u001b[1;32m     78\u001b[0m \u001b[0;34m\u001b[0m\u001b[0m\n\u001b[1;32m     79\u001b[0m     \u001b[0mprint\u001b[0m\u001b[0;34m(\u001b[0m\u001b[0mlabels_count\u001b[0m\u001b[0;34m)\u001b[0m\u001b[0;34m\u001b[0m\u001b[0;34m\u001b[0m\u001b[0m\n\u001b[0;32m---> 80\u001b[0;31m     \u001b[0mlabels\u001b[0m \u001b[0;34m=\u001b[0m \u001b[0mnp\u001b[0m\u001b[0;34m.\u001b[0m\u001b[0meye\u001b[0m\u001b[0;34m(\u001b[0m\u001b[0mlabels_count\u001b[0m\u001b[0;34m)\u001b[0m\u001b[0;34m[\u001b[0m\u001b[0mnp\u001b[0m\u001b[0;34m.\u001b[0m\u001b[0marray\u001b[0m\u001b[0;34m(\u001b[0m\u001b[0my_train\u001b[0m\u001b[0;34m)\u001b[0m\u001b[0;34m]\u001b[0m\u001b[0;34m\u001b[0m\u001b[0;34m\u001b[0m\u001b[0m\n\u001b[0m\u001b[1;32m     81\u001b[0m \u001b[0;34m\u001b[0m\u001b[0m\n\u001b[1;32m     82\u001b[0m     \u001b[0mx_train_size\u001b[0m \u001b[0;34m=\u001b[0m \u001b[0mlen\u001b[0m\u001b[0;34m(\u001b[0m\u001b[0mx_train\u001b[0m\u001b[0;34m)\u001b[0m\u001b[0;34m\u001b[0m\u001b[0;34m\u001b[0m\u001b[0m\n",
            "\u001b[0;31mIndexError\u001b[0m: index 7 is out of bounds for axis 0 with size 6"
          ]
        }
      ]
    },
    {
      "cell_type": "markdown",
      "source": [
        "### Trying to determine the optimal hyperparameters"
      ],
      "metadata": {
        "id": "GRpZwRiH5SNK"
      }
    },
    {
      "cell_type": "markdown",
      "source": [
        "#### Testing different learning rates"
      ],
      "metadata": {
        "id": "_2uQXzwnWxjg"
      }
    },
    {
      "cell_type": "code",
      "source": [
        "### comparing different learning rates for 128 hidden units and 1 epoch\n",
        "\n",
        "compare_learning_rates(x_train, y_train, x_test, y_test)"
      ],
      "metadata": {
        "id": "0r0FS73uW0nI",
        "outputId": "986334a3-e3fc-43e2-98b4-3f34a4a5d681",
        "colab": {
          "base_uri": "https://localhost:8080/"
        }
      },
      "execution_count": 42,
      "outputs": [
        {
          "output_type": "stream",
          "name": "stdout",
          "text": [
            "Testing accuracy for learning rate 0.001\n",
            "\t0 hidden layers: 11.17%\n",
            "\t1 hidden layer: 21.23%\n",
            "\t2 hidden layers: 14.52%\n",
            "\n",
            "Testing accuracy for learning rate 0.01\n",
            "\t0 hidden layers: 12.76%\n",
            "\t1 hidden layer: 22.52%\n",
            "\t2 hidden layers: 17.83%\n",
            "\n",
            "Testing accuracy for learning rate 0.1\n",
            "\t0 hidden layers: 32.71%\n",
            "\t1 hidden layer: 37.54%\n",
            "\t2 hidden layers: 46.38%\n",
            "\n",
            "Testing accuracy for learning rate 0.3\n",
            "\t0 hidden layers: 55.38%\n",
            "\t1 hidden layer: 57.08%\n",
            "\t2 hidden layers: 60.68%\n",
            "\n",
            "Testing accuracy for learning rate 0.5\n",
            "\t0 hidden layers: 62.38%\n",
            "\t1 hidden layer: 64.26%\n",
            "\t2 hidden layers: 65.93%\n",
            "\n",
            "Testing accuracy for learning rate 0.7\n",
            "\t0 hidden layers: 66.02%\n",
            "\t1 hidden layer: 67.9%\n",
            "\t2 hidden layers: 69.04%\n",
            "\n",
            "Testing accuracy for learning rate 0.9\n",
            "\t0 hidden layers: 68.29%\n",
            "\t1 hidden layer: 70.22%\n",
            "\t2 hidden layers: 71.04%\n",
            "\n",
            "Testing accuracy for learning rate 1\n",
            "\t0 hidden layers: 69.16%\n",
            "\t1 hidden layer: 71.09%\n",
            "\t2 hidden layers: 71.83%\n",
            "\n"
          ]
        }
      ]
    },
    {
      "cell_type": "markdown",
      "source": [
        "#### Testing different hidden layer and unit configurations\n",
        "\n"
      ],
      "metadata": {
        "id": "cjWgfGfXNn5b"
      }
    },
    {
      "cell_type": "code",
      "source": [
        "### comparing hidden layer/unit configurations for 1 epoch\n",
        "\n",
        "compare_hidden_configs(x_train, y_train, x_test, y_test, 0.95)"
      ],
      "metadata": {
        "id": "iRNAiQ2XNsUV",
        "outputId": "4af408fd-44ff-44df-c399-6fb721494799",
        "colab": {
          "base_uri": "https://localhost:8080/"
        }
      },
      "execution_count": 40,
      "outputs": [
        {
          "output_type": "stream",
          "name": "stdout",
          "text": [
            "1 hidden layer with 32 hidden units\n",
            "\tTraining accuracy: 64.68%\n",
            "\tTesting accuracy: 64.8%\n",
            "\n",
            "1 hidden layer with 64 hidden units\n",
            "\tTraining accuracy: 67.76%\n",
            "\tTesting accuracy: 67.37%\n",
            "\n",
            "1 hidden layer with 128 hidden units\n",
            "\tTraining accuracy: 70.64%\n",
            "\tTesting accuracy: 70.35%\n",
            "\n",
            "2 hidden layers with 32, 32 units each\n",
            "\tTraining accuracy: 48.26%\n",
            "\tTesting accuracy: 47.75%\n",
            "\n",
            "2 hidden layers with 32, 64 units each\n",
            "\tTraining accuracy: 54.76%\n",
            "\tTesting accuracy: 54.69%\n",
            "\n",
            "2 hidden layers with 32, 128 units each\n",
            "\tTraining accuracy: 64.02%\n",
            "\tTesting accuracy: 63.98%\n",
            "\n",
            "2 hidden layers with 64, 32 units each\n",
            "\tTraining accuracy: 57.59%\n",
            "\tTesting accuracy: 57.52%\n",
            "\n",
            "2 hidden layers with 64, 64 units each\n",
            "\tTraining accuracy: 64.31%\n",
            "\tTesting accuracy: 64.23%\n",
            "\n",
            "2 hidden layers with 64, 128 units each\n",
            "\tTraining accuracy: 69.0%\n",
            "\tTesting accuracy: 68.2%\n",
            "\n",
            "2 hidden layers with 128, 32 units each\n",
            "\tTraining accuracy: 66.1%\n",
            "\tTesting accuracy: 65.87%\n",
            "\n",
            "2 hidden layers with 128, 64 units each\n",
            "\tTraining accuracy: 67.98%\n",
            "\tTesting accuracy: 67.85%\n",
            "\n",
            "2 hidden layers with 128, 128 units each\n",
            "\tTraining accuracy: 71.42%\n",
            "\tTesting accuracy: 70.57%\n",
            "\n"
          ]
        }
      ]
    },
    {
      "cell_type": "markdown",
      "source": [
        "## Convnet"
      ],
      "metadata": {
        "id": "Tia8YS6kGkEW"
      }
    },
    {
      "cell_type": "markdown",
      "source": [
        "### Temp (Gary make functions for the code below pls)"
      ],
      "metadata": {
        "id": "4Ij67vAqJJsE"
      }
    },
    {
      "cell_type": "code",
      "source": [
        "### making the model\n",
        "\n",
        "num_filters = 8\n",
        "\n",
        "\n",
        "model = models.Sequential()\n",
        "model.add(layers.Conv2D(num_filters, (3, 3), activation='relu', input_shape=(28, 28, 1)))\n",
        "model.add(layers.Conv2D(num_filters, (3, 3), activation='relu'))\n",
        "model.add(layers.Flatten())\n",
        "model.add(layers.Dense(128, activation='relu'))\n",
        "model.add(layers.Dense(128, activation='relu'))\n",
        "model.add(layers.Dense(10, activation='softmax'))\n",
        "\n",
        "\n",
        "model.summary()"
      ],
      "metadata": {
        "id": "h74l66RdHoAj"
      },
      "execution_count": null,
      "outputs": []
    },
    {
      "cell_type": "code",
      "source": [
        "### making the optimizer and adding it to the model\n",
        "\n",
        "optimizer = optimizers.SGD(lr=0.1, decay=0, momentum=0, nesterov=False)\n",
        "\n",
        "\n",
        "model.compile(optimizer=optimizer,\n",
        "              loss= 'categorical_crossentropy',\n",
        "              metrics=['accuracy'\n",
        "                      ])"
      ],
      "metadata": {
        "id": "8gu2Ux1CJPo-"
      },
      "execution_count": null,
      "outputs": []
    },
    {
      "cell_type": "code",
      "source": [
        "### fitting the model\n",
        "\n",
        "epochs = 3\n",
        "batch_size = 60\n",
        "\n",
        "history = model.fit(\n",
        "  x = x_train_convnet,\n",
        "  y = y_train_convnet, \n",
        "  epochs=epochs,                # number of training epochs\n",
        "  batch_size=batch_size\n",
        ")"
      ],
      "metadata": {
        "id": "ZbIe8f8vJWss"
      },
      "execution_count": null,
      "outputs": []
    },
    {
      "cell_type": "code",
      "source": [
        "### plotting accuracy\n",
        "\n",
        "plt.plot(history.history['accuracy'])\n",
        "plt.title('model accuracy')\n",
        "plt.ylabel('accuracy')\n",
        "plt.xlabel('epoch')\n",
        "plt.legend(['train'], loc='upper left')\n",
        "plt.show()"
      ],
      "metadata": {
        "id": "rgOYfa_fJh0J"
      },
      "execution_count": null,
      "outputs": []
    },
    {
      "cell_type": "code",
      "source": [
        "### plotting loss\n",
        "\n",
        "plt.plot(history.history['loss'])\n",
        "plt.title('model loss')\n",
        "plt.ylabel('loss')\n",
        "plt.xlabel('epoch')\n",
        "plt.legend(['train'], loc='upper left')\n",
        "plt.show()"
      ],
      "metadata": {
        "id": "JP9C-XmzJj1J"
      },
      "execution_count": null,
      "outputs": []
    }
  ],
  "metadata": {
    "colab": {
      "provenance": [],
      "include_colab_link": true
    },
    "kernelspec": {
      "display_name": "Python 3",
      "name": "python3"
    },
    "language_info": {
      "name": "python"
    }
  },
  "nbformat": 4,
  "nbformat_minor": 0
}