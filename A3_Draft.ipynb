{
  "cells": [
    {
      "cell_type": "markdown",
      "metadata": {
        "id": "view-in-github",
        "colab_type": "text"
      },
      "source": [
        "<a href=\"https://colab.research.google.com/github/faithrts/COMP-551/blob/faith-branch-testing/A3_Draft.ipynb\" target=\"_parent\"><img src=\"https://colab.research.google.com/assets/colab-badge.svg\" alt=\"Open In Colab\"/></a>"
      ]
    },
    {
      "cell_type": "markdown",
      "source": [
        "# Set-up"
      ],
      "metadata": {
        "id": "8A1SE2icjh69"
      }
    },
    {
      "cell_type": "code",
      "execution_count": 2,
      "metadata": {
        "id": "VCTCTWgB-NKG"
      },
      "outputs": [],
      "source": [
        "### importing libraries and setting the random seed\n",
        "\n",
        "import numpy as np\n",
        "import pandas as pd\n",
        "import sys\n",
        "\n",
        "%matplotlib notebook\n",
        "%matplotlib inline\n",
        "import matplotlib.pyplot as plt\n",
        "import matplotlib.gridspec as gridspec\n",
        "#from matplotlib import cm\n",
        "\n",
        "import re\n",
        "import cv2\n",
        "import math\n",
        "import tensorflow as tf\n",
        "from tensorflow.keras import layers, models, optimizers\n",
        "from keras.datasets import mnist\n",
        "from importlib import reload\n",
        "from typing import List\n",
        "from tqdm import tqdm\n",
        "from enum import Enum\n",
        "from numpy.random import RandomState\n",
        "\n",
        "from sklearn.feature_extraction.text import CountVectorizer\n",
        "\n",
        "import warnings\n",
        "warnings.filterwarnings('ignore')\n",
        "\n",
        "# a folder to store the saved graphs\n",
        "!mkdir images"
      ]
    },
    {
      "cell_type": "markdown",
      "source": [
        "# Data Handling"
      ],
      "metadata": {
        "id": "hKHZWj9vjn1j"
      }
    },
    {
      "cell_type": "markdown",
      "source": [
        "### Helper functions"
      ],
      "metadata": {
        "id": "MtAHDLEXj2T3"
      }
    },
    {
      "cell_type": "markdown",
      "source": [
        "#### Loading and cleaning data"
      ],
      "metadata": {
        "id": "8rHPqW8GC1E6"
      }
    },
    {
      "cell_type": "code",
      "source": [
        "# assumes the last column of the dataframe is the labels\n",
        "def x_y_from_df(df):\n",
        "  x = df.iloc[:, :-1].to_numpy()\n",
        "  y = df.iloc[:, -1].to_numpy()\n",
        "\n",
        "  return x, y"
      ],
      "metadata": {
        "id": "2V6syl07WULR"
      },
      "execution_count": 3,
      "outputs": []
    },
    {
      "cell_type": "code",
      "source": [
        "def center_array(arr):\n",
        "  mean = np.mean(arr)\n",
        "  return_arr = np.array(arr) - mean\n",
        "  # return_arr = [item - mean for item in arr]\n",
        "\n",
        "  return return_arr"
      ],
      "metadata": {
        "id": "vudEuApQoTk7"
      },
      "execution_count": 4,
      "outputs": []
    },
    {
      "cell_type": "code",
      "source": [
        "def normalize_array(arr):\n",
        "  std = np.std(arr)\n",
        "  return_arr = np.array(arr) / std\n",
        "  # return_arr = [item / std for item in arr]\n",
        "\n",
        "  return return_arr"
      ],
      "metadata": {
        "id": "uWuzGFZrpHxK"
      },
      "execution_count": 5,
      "outputs": []
    },
    {
      "cell_type": "code",
      "source": [
        "def normalize_greyscale_array(arr):\n",
        "  # the min and max pixel greyscale values\n",
        "  min = 0\n",
        "  max = 255\n",
        "\n",
        "  return np.array(arr - min) / max - min"
      ],
      "metadata": {
        "id": "-Qc-lUOE-yB7"
      },
      "execution_count": 6,
      "outputs": []
    },
    {
      "cell_type": "code",
      "source": [
        "# pre-processes the df by performing mean subtraction and normalization\n",
        "def preprocess_df(df):\n",
        "  preprocessed_df = df.copy()\n",
        "\n",
        "  for col in preprocessed_df.iloc[:, :-1]:\n",
        "    preprocessed_col = normalize_array(center_array(df[col]))\n",
        "    preprocessed_df[col] = preprocessed_col\n",
        "\n",
        "  return preprocessed_df"
      ],
      "metadata": {
        "id": "9XtP7FZtn6mN"
      },
      "execution_count": 7,
      "outputs": []
    },
    {
      "cell_type": "code",
      "source": [
        "def preprocess_greyscale_df(df):\n",
        "  preprocessed_df = df.copy()\n",
        "\n",
        "  for col in preprocessed_df.iloc[:, :-1]:\n",
        "    preprocessed_col = normalize_greyscale_array(center_array(df[col]))\n",
        "    preprocessed_df[col] = preprocessed_col\n",
        "\n",
        "  return preprocessed_df"
      ],
      "metadata": {
        "id": "euQ4kSY5_ieV"
      },
      "execution_count": 8,
      "outputs": []
    },
    {
      "cell_type": "code",
      "source": [
        "# pre-processes the df by performing mean subtraction\n",
        "def preprocess_no_normalization_df(df):\n",
        "  preprocessed_df = df.copy()\n",
        "\n",
        "  for col in preprocessed_df.iloc[:, :-1]:\n",
        "    preprocessed_col = center_array(df[col])\n",
        "    preprocessed_df[col] = preprocessed_col\n",
        "\n",
        "  return preprocessed_df"
      ],
      "metadata": {
        "id": "MDvEhngMdlR0"
      },
      "execution_count": 9,
      "outputs": []
    },
    {
      "cell_type": "markdown",
      "source": [
        "#### Plotting graphs"
      ],
      "metadata": {
        "id": "sx9mADR8DD8L"
      }
    },
    {
      "cell_type": "code",
      "source": [
        "def plot_label_distributions(label_arr, dataset_name, labels = 0):\n",
        "  \n",
        "  # creates the plot\n",
        "  plt.figure(figsize = (10,4))\n",
        "  width = 0.6\n",
        "\n",
        "  unique_labels = list(set(label_arr))\n",
        "  counts = []\n",
        "\n",
        "  for label in unique_labels:\n",
        "    count = label_arr.count(label)\n",
        "    counts.append(count)\n",
        "\n",
        "  if labels == 0:\n",
        "    labels = [str(label) for label in unique_labels]\n",
        "\n",
        "  # the colour codes of the bars\n",
        "  colours = ['#001219', '#005f73', '#0a9396', '#94d2bd', '#e9d8a6',\n",
        "            '#ee9b00', '#ca6702', '#bb3e03', '#ae2012', '#9b2226']\n",
        "\n",
        "  plt.bar(labels, counts, width, color = colours)\n",
        "  plt.title(\"Distribution of Class Labels in \" + dataset_name + \" Dataset\")\n",
        "  plt.xlabel(\"Label\")\n",
        "  plt.ylabel(\"Count\")\n",
        "\n",
        "  for index, value in enumerate(counts):\n",
        "    plt.text(index - 0.24, value + 5, str(round(value, 2)))\n",
        "\n",
        "  plt.show()"
      ],
      "metadata": {
        "id": "G-UXPNHRww-f"
      },
      "execution_count": 10,
      "outputs": []
    },
    {
      "cell_type": "markdown",
      "source": [
        "## Importing"
      ],
      "metadata": {
        "id": "FsaKjKTqjylr"
      }
    },
    {
      "cell_type": "code",
      "source": [
        "# clones the github repo\n",
        "!git clone https://github.com/zalandoresearch/fashion-mnist\n",
        "sys.path.insert(1, 'fashion-mnist/utils')\n",
        "\n",
        "# imports the mnist reader from the repo\n",
        "import mnist_reader"
      ],
      "metadata": {
        "colab": {
          "base_uri": "https://localhost:8080/"
        },
        "id": "JDX1OBJ7jUl8",
        "outputId": "eccd482c-7cbc-41af-d0ee-439bae55865b"
      },
      "execution_count": 11,
      "outputs": [
        {
          "output_type": "stream",
          "name": "stdout",
          "text": [
            "Cloning into 'fashion-mnist'...\n",
            "remote: Enumerating objects: 762, done.\u001b[K\n",
            "remote: Counting objects: 100% (4/4), done.\u001b[K\n",
            "remote: Compressing objects: 100% (4/4), done.\u001b[K\n",
            "remote: Total 762 (delta 0), reused 3 (delta 0), pack-reused 758\u001b[K\n",
            "Receiving objects: 100% (762/762), 105.85 MiB | 26.59 MiB/s, done.\n",
            "Resolving deltas: 100% (444/444), done.\n"
          ]
        }
      ]
    },
    {
      "cell_type": "markdown",
      "source": [
        "### Loading and cleaning data"
      ],
      "metadata": {
        "id": "HQbCrZx0-EgM"
      }
    },
    {
      "cell_type": "code",
      "source": [
        "### loading the data using the github repo's mnist_reader.load_mnist\n",
        "\n",
        "labels = ['T-shirt/top', 'Trouser', 'Pullover', 'Dress', 'Coat',\n",
        "          'Sandal', 'Shirt', 'Sneaker', 'Bag', 'Ankle boot']\n",
        "\n",
        "# training data\n",
        "x_train_temp, y_train = mnist_reader.load_mnist('fashion-mnist/data/fashion', kind = 'train')\n",
        "\n",
        "# testing data\n",
        "x_test_temp, y_test = mnist_reader.load_mnist('fashion-mnist/data/fashion', kind = 't10k')"
      ],
      "metadata": {
        "id": "kZITIsTPkA3M"
      },
      "execution_count": 12,
      "outputs": []
    },
    {
      "cell_type": "code",
      "source": [
        "### creating dataframes to better understand data\n",
        "\n",
        "# training dataframe\n",
        "train_temp_df = pd.DataFrame(x_train_temp)\n",
        "train_temp_df['LABEL'] = y_train\n",
        "\n",
        "# testing dataframe\n",
        "test_temp_df = pd.DataFrame(x_test_temp)\n",
        "test_temp_df['LABEL'] = y_test"
      ],
      "metadata": {
        "id": "PgtXdMOXkxwK"
      },
      "execution_count": 13,
      "outputs": []
    },
    {
      "cell_type": "code",
      "source": [
        "train_temp_df"
      ],
      "metadata": {
        "colab": {
          "base_uri": "https://localhost:8080/",
          "height": 424
        },
        "id": "ZkQzG8t8l5xp",
        "outputId": "8e6185b4-7a41-4d17-fc6f-4502b92840b6"
      },
      "execution_count": 14,
      "outputs": [
        {
          "output_type": "execute_result",
          "data": {
            "text/plain": [
              "       0  1  2  3  4  5  6  7   8   9  ...  775  776  777  778  779  780  781  \\\n",
              "0      0  0  0  0  0  0  0  0   0   0  ...    0    0    0    0    0    0    0   \n",
              "1      0  0  0  0  0  1  0  0   0   0  ...  114  130   76    0    0    0    0   \n",
              "2      0  0  0  0  0  0  0  0   0  22  ...    0    1    0    0    0    0    0   \n",
              "3      0  0  0  0  0  0  0  0  33  96  ...    0    0    0    0    0    0    0   \n",
              "4      0  0  0  0  0  0  0  0   0   0  ...    0    0    0    0    0    0    0   \n",
              "...   .. .. .. .. .. .. .. ..  ..  ..  ...  ...  ...  ...  ...  ...  ...  ...   \n",
              "59995  0  0  0  0  0  0  0  0   0   0  ...    0    0    0    0    0    0    0   \n",
              "59996  0  0  0  0  0  0  0  0   0   0  ...    0    0    0    0    0    0    0   \n",
              "59997  0  0  0  0  0  0  0  0   0   5  ...    0    0    0    0    0    0    0   \n",
              "59998  0  0  0  0  0  0  0  0   0   0  ...   54   50    5    0    1    0    0   \n",
              "59999  0  0  0  0  0  0  0  0   0   0  ...    0    0    0    0    0    0    0   \n",
              "\n",
              "       782  783  LABEL  \n",
              "0        0    0      9  \n",
              "1        0    0      0  \n",
              "2        0    0      0  \n",
              "3        0    0      3  \n",
              "4        0    0      0  \n",
              "...    ...  ...    ...  \n",
              "59995    0    0      5  \n",
              "59996    0    0      1  \n",
              "59997    0    0      3  \n",
              "59998    0    0      0  \n",
              "59999    0    0      5  \n",
              "\n",
              "[60000 rows x 785 columns]"
            ],
            "text/html": [
              "\n",
              "  <div id=\"df-da6715be-03a5-4a93-b324-a9e3d9c7a3e1\">\n",
              "    <div class=\"colab-df-container\">\n",
              "      <div>\n",
              "<style scoped>\n",
              "    .dataframe tbody tr th:only-of-type {\n",
              "        vertical-align: middle;\n",
              "    }\n",
              "\n",
              "    .dataframe tbody tr th {\n",
              "        vertical-align: top;\n",
              "    }\n",
              "\n",
              "    .dataframe thead th {\n",
              "        text-align: right;\n",
              "    }\n",
              "</style>\n",
              "<table border=\"1\" class=\"dataframe\">\n",
              "  <thead>\n",
              "    <tr style=\"text-align: right;\">\n",
              "      <th></th>\n",
              "      <th>0</th>\n",
              "      <th>1</th>\n",
              "      <th>2</th>\n",
              "      <th>3</th>\n",
              "      <th>4</th>\n",
              "      <th>5</th>\n",
              "      <th>6</th>\n",
              "      <th>7</th>\n",
              "      <th>8</th>\n",
              "      <th>9</th>\n",
              "      <th>...</th>\n",
              "      <th>775</th>\n",
              "      <th>776</th>\n",
              "      <th>777</th>\n",
              "      <th>778</th>\n",
              "      <th>779</th>\n",
              "      <th>780</th>\n",
              "      <th>781</th>\n",
              "      <th>782</th>\n",
              "      <th>783</th>\n",
              "      <th>LABEL</th>\n",
              "    </tr>\n",
              "  </thead>\n",
              "  <tbody>\n",
              "    <tr>\n",
              "      <th>0</th>\n",
              "      <td>0</td>\n",
              "      <td>0</td>\n",
              "      <td>0</td>\n",
              "      <td>0</td>\n",
              "      <td>0</td>\n",
              "      <td>0</td>\n",
              "      <td>0</td>\n",
              "      <td>0</td>\n",
              "      <td>0</td>\n",
              "      <td>0</td>\n",
              "      <td>...</td>\n",
              "      <td>0</td>\n",
              "      <td>0</td>\n",
              "      <td>0</td>\n",
              "      <td>0</td>\n",
              "      <td>0</td>\n",
              "      <td>0</td>\n",
              "      <td>0</td>\n",
              "      <td>0</td>\n",
              "      <td>0</td>\n",
              "      <td>9</td>\n",
              "    </tr>\n",
              "    <tr>\n",
              "      <th>1</th>\n",
              "      <td>0</td>\n",
              "      <td>0</td>\n",
              "      <td>0</td>\n",
              "      <td>0</td>\n",
              "      <td>0</td>\n",
              "      <td>1</td>\n",
              "      <td>0</td>\n",
              "      <td>0</td>\n",
              "      <td>0</td>\n",
              "      <td>0</td>\n",
              "      <td>...</td>\n",
              "      <td>114</td>\n",
              "      <td>130</td>\n",
              "      <td>76</td>\n",
              "      <td>0</td>\n",
              "      <td>0</td>\n",
              "      <td>0</td>\n",
              "      <td>0</td>\n",
              "      <td>0</td>\n",
              "      <td>0</td>\n",
              "      <td>0</td>\n",
              "    </tr>\n",
              "    <tr>\n",
              "      <th>2</th>\n",
              "      <td>0</td>\n",
              "      <td>0</td>\n",
              "      <td>0</td>\n",
              "      <td>0</td>\n",
              "      <td>0</td>\n",
              "      <td>0</td>\n",
              "      <td>0</td>\n",
              "      <td>0</td>\n",
              "      <td>0</td>\n",
              "      <td>22</td>\n",
              "      <td>...</td>\n",
              "      <td>0</td>\n",
              "      <td>1</td>\n",
              "      <td>0</td>\n",
              "      <td>0</td>\n",
              "      <td>0</td>\n",
              "      <td>0</td>\n",
              "      <td>0</td>\n",
              "      <td>0</td>\n",
              "      <td>0</td>\n",
              "      <td>0</td>\n",
              "    </tr>\n",
              "    <tr>\n",
              "      <th>3</th>\n",
              "      <td>0</td>\n",
              "      <td>0</td>\n",
              "      <td>0</td>\n",
              "      <td>0</td>\n",
              "      <td>0</td>\n",
              "      <td>0</td>\n",
              "      <td>0</td>\n",
              "      <td>0</td>\n",
              "      <td>33</td>\n",
              "      <td>96</td>\n",
              "      <td>...</td>\n",
              "      <td>0</td>\n",
              "      <td>0</td>\n",
              "      <td>0</td>\n",
              "      <td>0</td>\n",
              "      <td>0</td>\n",
              "      <td>0</td>\n",
              "      <td>0</td>\n",
              "      <td>0</td>\n",
              "      <td>0</td>\n",
              "      <td>3</td>\n",
              "    </tr>\n",
              "    <tr>\n",
              "      <th>4</th>\n",
              "      <td>0</td>\n",
              "      <td>0</td>\n",
              "      <td>0</td>\n",
              "      <td>0</td>\n",
              "      <td>0</td>\n",
              "      <td>0</td>\n",
              "      <td>0</td>\n",
              "      <td>0</td>\n",
              "      <td>0</td>\n",
              "      <td>0</td>\n",
              "      <td>...</td>\n",
              "      <td>0</td>\n",
              "      <td>0</td>\n",
              "      <td>0</td>\n",
              "      <td>0</td>\n",
              "      <td>0</td>\n",
              "      <td>0</td>\n",
              "      <td>0</td>\n",
              "      <td>0</td>\n",
              "      <td>0</td>\n",
              "      <td>0</td>\n",
              "    </tr>\n",
              "    <tr>\n",
              "      <th>...</th>\n",
              "      <td>...</td>\n",
              "      <td>...</td>\n",
              "      <td>...</td>\n",
              "      <td>...</td>\n",
              "      <td>...</td>\n",
              "      <td>...</td>\n",
              "      <td>...</td>\n",
              "      <td>...</td>\n",
              "      <td>...</td>\n",
              "      <td>...</td>\n",
              "      <td>...</td>\n",
              "      <td>...</td>\n",
              "      <td>...</td>\n",
              "      <td>...</td>\n",
              "      <td>...</td>\n",
              "      <td>...</td>\n",
              "      <td>...</td>\n",
              "      <td>...</td>\n",
              "      <td>...</td>\n",
              "      <td>...</td>\n",
              "      <td>...</td>\n",
              "    </tr>\n",
              "    <tr>\n",
              "      <th>59995</th>\n",
              "      <td>0</td>\n",
              "      <td>0</td>\n",
              "      <td>0</td>\n",
              "      <td>0</td>\n",
              "      <td>0</td>\n",
              "      <td>0</td>\n",
              "      <td>0</td>\n",
              "      <td>0</td>\n",
              "      <td>0</td>\n",
              "      <td>0</td>\n",
              "      <td>...</td>\n",
              "      <td>0</td>\n",
              "      <td>0</td>\n",
              "      <td>0</td>\n",
              "      <td>0</td>\n",
              "      <td>0</td>\n",
              "      <td>0</td>\n",
              "      <td>0</td>\n",
              "      <td>0</td>\n",
              "      <td>0</td>\n",
              "      <td>5</td>\n",
              "    </tr>\n",
              "    <tr>\n",
              "      <th>59996</th>\n",
              "      <td>0</td>\n",
              "      <td>0</td>\n",
              "      <td>0</td>\n",
              "      <td>0</td>\n",
              "      <td>0</td>\n",
              "      <td>0</td>\n",
              "      <td>0</td>\n",
              "      <td>0</td>\n",
              "      <td>0</td>\n",
              "      <td>0</td>\n",
              "      <td>...</td>\n",
              "      <td>0</td>\n",
              "      <td>0</td>\n",
              "      <td>0</td>\n",
              "      <td>0</td>\n",
              "      <td>0</td>\n",
              "      <td>0</td>\n",
              "      <td>0</td>\n",
              "      <td>0</td>\n",
              "      <td>0</td>\n",
              "      <td>1</td>\n",
              "    </tr>\n",
              "    <tr>\n",
              "      <th>59997</th>\n",
              "      <td>0</td>\n",
              "      <td>0</td>\n",
              "      <td>0</td>\n",
              "      <td>0</td>\n",
              "      <td>0</td>\n",
              "      <td>0</td>\n",
              "      <td>0</td>\n",
              "      <td>0</td>\n",
              "      <td>0</td>\n",
              "      <td>5</td>\n",
              "      <td>...</td>\n",
              "      <td>0</td>\n",
              "      <td>0</td>\n",
              "      <td>0</td>\n",
              "      <td>0</td>\n",
              "      <td>0</td>\n",
              "      <td>0</td>\n",
              "      <td>0</td>\n",
              "      <td>0</td>\n",
              "      <td>0</td>\n",
              "      <td>3</td>\n",
              "    </tr>\n",
              "    <tr>\n",
              "      <th>59998</th>\n",
              "      <td>0</td>\n",
              "      <td>0</td>\n",
              "      <td>0</td>\n",
              "      <td>0</td>\n",
              "      <td>0</td>\n",
              "      <td>0</td>\n",
              "      <td>0</td>\n",
              "      <td>0</td>\n",
              "      <td>0</td>\n",
              "      <td>0</td>\n",
              "      <td>...</td>\n",
              "      <td>54</td>\n",
              "      <td>50</td>\n",
              "      <td>5</td>\n",
              "      <td>0</td>\n",
              "      <td>1</td>\n",
              "      <td>0</td>\n",
              "      <td>0</td>\n",
              "      <td>0</td>\n",
              "      <td>0</td>\n",
              "      <td>0</td>\n",
              "    </tr>\n",
              "    <tr>\n",
              "      <th>59999</th>\n",
              "      <td>0</td>\n",
              "      <td>0</td>\n",
              "      <td>0</td>\n",
              "      <td>0</td>\n",
              "      <td>0</td>\n",
              "      <td>0</td>\n",
              "      <td>0</td>\n",
              "      <td>0</td>\n",
              "      <td>0</td>\n",
              "      <td>0</td>\n",
              "      <td>...</td>\n",
              "      <td>0</td>\n",
              "      <td>0</td>\n",
              "      <td>0</td>\n",
              "      <td>0</td>\n",
              "      <td>0</td>\n",
              "      <td>0</td>\n",
              "      <td>0</td>\n",
              "      <td>0</td>\n",
              "      <td>0</td>\n",
              "      <td>5</td>\n",
              "    </tr>\n",
              "  </tbody>\n",
              "</table>\n",
              "<p>60000 rows × 785 columns</p>\n",
              "</div>\n",
              "      <button class=\"colab-df-convert\" onclick=\"convertToInteractive('df-da6715be-03a5-4a93-b324-a9e3d9c7a3e1')\"\n",
              "              title=\"Convert this dataframe to an interactive table.\"\n",
              "              style=\"display:none;\">\n",
              "        \n",
              "  <svg xmlns=\"http://www.w3.org/2000/svg\" height=\"24px\"viewBox=\"0 0 24 24\"\n",
              "       width=\"24px\">\n",
              "    <path d=\"M0 0h24v24H0V0z\" fill=\"none\"/>\n",
              "    <path d=\"M18.56 5.44l.94 2.06.94-2.06 2.06-.94-2.06-.94-.94-2.06-.94 2.06-2.06.94zm-11 1L8.5 8.5l.94-2.06 2.06-.94-2.06-.94L8.5 2.5l-.94 2.06-2.06.94zm10 10l.94 2.06.94-2.06 2.06-.94-2.06-.94-.94-2.06-.94 2.06-2.06.94z\"/><path d=\"M17.41 7.96l-1.37-1.37c-.4-.4-.92-.59-1.43-.59-.52 0-1.04.2-1.43.59L10.3 9.45l-7.72 7.72c-.78.78-.78 2.05 0 2.83L4 21.41c.39.39.9.59 1.41.59.51 0 1.02-.2 1.41-.59l7.78-7.78 2.81-2.81c.8-.78.8-2.07 0-2.86zM5.41 20L4 18.59l7.72-7.72 1.47 1.35L5.41 20z\"/>\n",
              "  </svg>\n",
              "      </button>\n",
              "      \n",
              "  <style>\n",
              "    .colab-df-container {\n",
              "      display:flex;\n",
              "      flex-wrap:wrap;\n",
              "      gap: 12px;\n",
              "    }\n",
              "\n",
              "    .colab-df-convert {\n",
              "      background-color: #E8F0FE;\n",
              "      border: none;\n",
              "      border-radius: 50%;\n",
              "      cursor: pointer;\n",
              "      display: none;\n",
              "      fill: #1967D2;\n",
              "      height: 32px;\n",
              "      padding: 0 0 0 0;\n",
              "      width: 32px;\n",
              "    }\n",
              "\n",
              "    .colab-df-convert:hover {\n",
              "      background-color: #E2EBFA;\n",
              "      box-shadow: 0px 1px 2px rgba(60, 64, 67, 0.3), 0px 1px 3px 1px rgba(60, 64, 67, 0.15);\n",
              "      fill: #174EA6;\n",
              "    }\n",
              "\n",
              "    [theme=dark] .colab-df-convert {\n",
              "      background-color: #3B4455;\n",
              "      fill: #D2E3FC;\n",
              "    }\n",
              "\n",
              "    [theme=dark] .colab-df-convert:hover {\n",
              "      background-color: #434B5C;\n",
              "      box-shadow: 0px 1px 3px 1px rgba(0, 0, 0, 0.15);\n",
              "      filter: drop-shadow(0px 1px 2px rgba(0, 0, 0, 0.3));\n",
              "      fill: #FFFFFF;\n",
              "    }\n",
              "  </style>\n",
              "\n",
              "      <script>\n",
              "        const buttonEl =\n",
              "          document.querySelector('#df-da6715be-03a5-4a93-b324-a9e3d9c7a3e1 button.colab-df-convert');\n",
              "        buttonEl.style.display =\n",
              "          google.colab.kernel.accessAllowed ? 'block' : 'none';\n",
              "\n",
              "        async function convertToInteractive(key) {\n",
              "          const element = document.querySelector('#df-da6715be-03a5-4a93-b324-a9e3d9c7a3e1');\n",
              "          const dataTable =\n",
              "            await google.colab.kernel.invokeFunction('convertToInteractive',\n",
              "                                                     [key], {});\n",
              "          if (!dataTable) return;\n",
              "\n",
              "          const docLinkHtml = 'Like what you see? Visit the ' +\n",
              "            '<a target=\"_blank\" href=https://colab.research.google.com/notebooks/data_table.ipynb>data table notebook</a>'\n",
              "            + ' to learn more about interactive tables.';\n",
              "          element.innerHTML = '';\n",
              "          dataTable['output_type'] = 'display_data';\n",
              "          await google.colab.output.renderOutput(dataTable, element);\n",
              "          const docLink = document.createElement('div');\n",
              "          docLink.innerHTML = docLinkHtml;\n",
              "          element.appendChild(docLink);\n",
              "        }\n",
              "      </script>\n",
              "    </div>\n",
              "  </div>\n",
              "  "
            ]
          },
          "metadata": {},
          "execution_count": 14
        }
      ]
    },
    {
      "cell_type": "code",
      "source": [
        "### centering and normalizing the data\n",
        "\n",
        "# pre-processing each dataframe\n",
        "train_df = preprocess_df(train_temp_df)\n",
        "test_df = preprocess_df(test_temp_df)\n",
        "\n",
        "# extracting arrays for x_train, y_train, x_test, y_test\n",
        "x_train, y_train = x_y_from_df(train_df)\n",
        "x_test, y_test = x_y_from_df(test_df)"
      ],
      "metadata": {
        "id": "aCWhRpennWnd"
      },
      "execution_count": 15,
      "outputs": []
    },
    {
      "cell_type": "code",
      "source": [
        "### saving a copy of the un-preprocessed (centered and normalized) data\n",
        "\n",
        "x_train_unprocessed, _ = x_y_from_df(train_temp_df)\n",
        "x_test_unprocessed, _ = x_y_from_df(test_temp_df)"
      ],
      "metadata": {
        "id": "n0vemftld2Ja"
      },
      "execution_count": 16,
      "outputs": []
    },
    {
      "cell_type": "code",
      "source": [
        "### saving a copy of the data normalized based on the pixel greyscale values\n",
        "\n",
        "# pre-processing each dataframe\n",
        "train_greyscale_df = preprocess_greyscale_df(train_temp_df)\n",
        "test_greyscale_df = preprocess_greyscale_df(test_temp_df)\n",
        "\n",
        "x_train_greyscale, y_train_greyscale = x_y_from_df(train_greyscale_df)\n",
        "x_test_greyscale, y_test_greyscale = x_y_from_df(test_greyscale_df)"
      ],
      "metadata": {
        "id": "7XDsp3n9_zaQ"
      },
      "execution_count": 17,
      "outputs": []
    },
    {
      "cell_type": "code",
      "source": [
        "### saving a copy of the data reshaped into images for the convnet\n",
        "\n",
        "# reshapes the arrays into image format (28 x 28 pixels)\n",
        "x_train_convnet = np.reshape(x_train, (60000, 28, 28, 1))\n",
        "x_test_convnet = np.reshape(x_test, (10000, 28, 28, 1))\n",
        "\n",
        "y_train_convnet = tf.keras.utils.to_categorical(y_train)\n",
        "y_test_convnet = tf.keras.utils.to_categorical(y_test)"
      ],
      "metadata": {
        "id": "ZoLHrbjOIlSC"
      },
      "execution_count": 18,
      "outputs": []
    },
    {
      "cell_type": "code",
      "source": [
        "train_df"
      ],
      "metadata": {
        "colab": {
          "base_uri": "https://localhost:8080/",
          "height": 488
        },
        "id": "_S73o8ans37S",
        "outputId": "68e95881-7368-4fcf-c3d9-094effb90219"
      },
      "execution_count": 19,
      "outputs": [
        {
          "output_type": "execute_result",
          "data": {
            "text/plain": [
              "              0         1         2         3         4         5         6  \\\n",
              "0     -0.008644 -0.023223 -0.039178 -0.041322 -0.057646 -0.071167 -0.098878   \n",
              "1     -0.008644 -0.023223 -0.039178 -0.041322 -0.057646  0.100437 -0.098878   \n",
              "2     -0.008644 -0.023223 -0.039178 -0.041322 -0.057646 -0.071167 -0.098878   \n",
              "3     -0.008644 -0.023223 -0.039178 -0.041322 -0.057646 -0.071167 -0.098878   \n",
              "4     -0.008644 -0.023223 -0.039178 -0.041322 -0.057646 -0.071167 -0.098878   \n",
              "...         ...       ...       ...       ...       ...       ...       ...   \n",
              "59995 -0.008644 -0.023223 -0.039178 -0.041322 -0.057646 -0.071167 -0.098878   \n",
              "59996 -0.008644 -0.023223 -0.039178 -0.041322 -0.057646 -0.071167 -0.098878   \n",
              "59997 -0.008644 -0.023223 -0.039178 -0.041322 -0.057646 -0.071167 -0.098878   \n",
              "59998 -0.008644 -0.023223 -0.039178 -0.041322 -0.057646 -0.071167 -0.098878   \n",
              "59999 -0.008644 -0.023223 -0.039178 -0.041322 -0.057646 -0.071167 -0.098878   \n",
              "\n",
              "              7         8         9  ...       775       776       777  \\\n",
              "0     -0.156653 -0.239080 -0.377827  ... -0.474798 -0.394260 -0.406094   \n",
              "1     -0.156653 -0.239080 -0.377827  ...  1.857395  2.697741  1.324682   \n",
              "2     -0.156653 -0.239080  0.198023  ... -0.474798 -0.370475 -0.406094   \n",
              "3     -0.156653  1.145393  2.134974  ... -0.474798 -0.394260 -0.406094   \n",
              "4     -0.156653 -0.239080 -0.377827  ... -0.474798 -0.394260 -0.406094   \n",
              "...         ...       ...       ...  ...       ...       ...       ...   \n",
              "59995 -0.156653 -0.239080 -0.377827  ... -0.474798 -0.394260 -0.406094   \n",
              "59996 -0.156653 -0.239080 -0.377827  ... -0.474798 -0.394260 -0.406094   \n",
              "59997 -0.156653 -0.239080 -0.246952  ... -0.474798 -0.394260 -0.406094   \n",
              "59998 -0.156653 -0.239080 -0.377827  ...  0.629925  0.794971 -0.292227   \n",
              "59999 -0.156653 -0.239080 -0.377827  ... -0.474798 -0.394260 -0.406094   \n",
              "\n",
              "            778       779       780       781       782       783  LABEL  \n",
              "0     -0.441358 -0.396626 -0.288156 -0.156811 -0.089673 -0.034147      9  \n",
              "1     -0.441358 -0.396626 -0.288156 -0.156811 -0.089673 -0.034147      0  \n",
              "2     -0.441358 -0.396626 -0.288156 -0.156811 -0.089673 -0.034147      0  \n",
              "3     -0.441358 -0.396626 -0.288156 -0.156811 -0.089673 -0.034147      3  \n",
              "4     -0.441358 -0.396626 -0.288156 -0.156811 -0.089673 -0.034147      0  \n",
              "...         ...       ...       ...       ...       ...       ...    ...  \n",
              "59995 -0.441358 -0.396626 -0.288156 -0.156811 -0.089673 -0.034147      5  \n",
              "59996 -0.441358 -0.396626 -0.288156 -0.156811 -0.089673 -0.034147      1  \n",
              "59997 -0.441358 -0.396626 -0.288156 -0.156811 -0.089673 -0.034147      3  \n",
              "59998 -0.441358 -0.374489 -0.288156 -0.156811 -0.089673 -0.034147      0  \n",
              "59999 -0.441358 -0.396626 -0.288156 -0.156811 -0.089673 -0.034147      5  \n",
              "\n",
              "[60000 rows x 785 columns]"
            ],
            "text/html": [
              "\n",
              "  <div id=\"df-f8561105-03af-4085-9eb9-b1c21cc5f549\">\n",
              "    <div class=\"colab-df-container\">\n",
              "      <div>\n",
              "<style scoped>\n",
              "    .dataframe tbody tr th:only-of-type {\n",
              "        vertical-align: middle;\n",
              "    }\n",
              "\n",
              "    .dataframe tbody tr th {\n",
              "        vertical-align: top;\n",
              "    }\n",
              "\n",
              "    .dataframe thead th {\n",
              "        text-align: right;\n",
              "    }\n",
              "</style>\n",
              "<table border=\"1\" class=\"dataframe\">\n",
              "  <thead>\n",
              "    <tr style=\"text-align: right;\">\n",
              "      <th></th>\n",
              "      <th>0</th>\n",
              "      <th>1</th>\n",
              "      <th>2</th>\n",
              "      <th>3</th>\n",
              "      <th>4</th>\n",
              "      <th>5</th>\n",
              "      <th>6</th>\n",
              "      <th>7</th>\n",
              "      <th>8</th>\n",
              "      <th>9</th>\n",
              "      <th>...</th>\n",
              "      <th>775</th>\n",
              "      <th>776</th>\n",
              "      <th>777</th>\n",
              "      <th>778</th>\n",
              "      <th>779</th>\n",
              "      <th>780</th>\n",
              "      <th>781</th>\n",
              "      <th>782</th>\n",
              "      <th>783</th>\n",
              "      <th>LABEL</th>\n",
              "    </tr>\n",
              "  </thead>\n",
              "  <tbody>\n",
              "    <tr>\n",
              "      <th>0</th>\n",
              "      <td>-0.008644</td>\n",
              "      <td>-0.023223</td>\n",
              "      <td>-0.039178</td>\n",
              "      <td>-0.041322</td>\n",
              "      <td>-0.057646</td>\n",
              "      <td>-0.071167</td>\n",
              "      <td>-0.098878</td>\n",
              "      <td>-0.156653</td>\n",
              "      <td>-0.239080</td>\n",
              "      <td>-0.377827</td>\n",
              "      <td>...</td>\n",
              "      <td>-0.474798</td>\n",
              "      <td>-0.394260</td>\n",
              "      <td>-0.406094</td>\n",
              "      <td>-0.441358</td>\n",
              "      <td>-0.396626</td>\n",
              "      <td>-0.288156</td>\n",
              "      <td>-0.156811</td>\n",
              "      <td>-0.089673</td>\n",
              "      <td>-0.034147</td>\n",
              "      <td>9</td>\n",
              "    </tr>\n",
              "    <tr>\n",
              "      <th>1</th>\n",
              "      <td>-0.008644</td>\n",
              "      <td>-0.023223</td>\n",
              "      <td>-0.039178</td>\n",
              "      <td>-0.041322</td>\n",
              "      <td>-0.057646</td>\n",
              "      <td>0.100437</td>\n",
              "      <td>-0.098878</td>\n",
              "      <td>-0.156653</td>\n",
              "      <td>-0.239080</td>\n",
              "      <td>-0.377827</td>\n",
              "      <td>...</td>\n",
              "      <td>1.857395</td>\n",
              "      <td>2.697741</td>\n",
              "      <td>1.324682</td>\n",
              "      <td>-0.441358</td>\n",
              "      <td>-0.396626</td>\n",
              "      <td>-0.288156</td>\n",
              "      <td>-0.156811</td>\n",
              "      <td>-0.089673</td>\n",
              "      <td>-0.034147</td>\n",
              "      <td>0</td>\n",
              "    </tr>\n",
              "    <tr>\n",
              "      <th>2</th>\n",
              "      <td>-0.008644</td>\n",
              "      <td>-0.023223</td>\n",
              "      <td>-0.039178</td>\n",
              "      <td>-0.041322</td>\n",
              "      <td>-0.057646</td>\n",
              "      <td>-0.071167</td>\n",
              "      <td>-0.098878</td>\n",
              "      <td>-0.156653</td>\n",
              "      <td>-0.239080</td>\n",
              "      <td>0.198023</td>\n",
              "      <td>...</td>\n",
              "      <td>-0.474798</td>\n",
              "      <td>-0.370475</td>\n",
              "      <td>-0.406094</td>\n",
              "      <td>-0.441358</td>\n",
              "      <td>-0.396626</td>\n",
              "      <td>-0.288156</td>\n",
              "      <td>-0.156811</td>\n",
              "      <td>-0.089673</td>\n",
              "      <td>-0.034147</td>\n",
              "      <td>0</td>\n",
              "    </tr>\n",
              "    <tr>\n",
              "      <th>3</th>\n",
              "      <td>-0.008644</td>\n",
              "      <td>-0.023223</td>\n",
              "      <td>-0.039178</td>\n",
              "      <td>-0.041322</td>\n",
              "      <td>-0.057646</td>\n",
              "      <td>-0.071167</td>\n",
              "      <td>-0.098878</td>\n",
              "      <td>-0.156653</td>\n",
              "      <td>1.145393</td>\n",
              "      <td>2.134974</td>\n",
              "      <td>...</td>\n",
              "      <td>-0.474798</td>\n",
              "      <td>-0.394260</td>\n",
              "      <td>-0.406094</td>\n",
              "      <td>-0.441358</td>\n",
              "      <td>-0.396626</td>\n",
              "      <td>-0.288156</td>\n",
              "      <td>-0.156811</td>\n",
              "      <td>-0.089673</td>\n",
              "      <td>-0.034147</td>\n",
              "      <td>3</td>\n",
              "    </tr>\n",
              "    <tr>\n",
              "      <th>4</th>\n",
              "      <td>-0.008644</td>\n",
              "      <td>-0.023223</td>\n",
              "      <td>-0.039178</td>\n",
              "      <td>-0.041322</td>\n",
              "      <td>-0.057646</td>\n",
              "      <td>-0.071167</td>\n",
              "      <td>-0.098878</td>\n",
              "      <td>-0.156653</td>\n",
              "      <td>-0.239080</td>\n",
              "      <td>-0.377827</td>\n",
              "      <td>...</td>\n",
              "      <td>-0.474798</td>\n",
              "      <td>-0.394260</td>\n",
              "      <td>-0.406094</td>\n",
              "      <td>-0.441358</td>\n",
              "      <td>-0.396626</td>\n",
              "      <td>-0.288156</td>\n",
              "      <td>-0.156811</td>\n",
              "      <td>-0.089673</td>\n",
              "      <td>-0.034147</td>\n",
              "      <td>0</td>\n",
              "    </tr>\n",
              "    <tr>\n",
              "      <th>...</th>\n",
              "      <td>...</td>\n",
              "      <td>...</td>\n",
              "      <td>...</td>\n",
              "      <td>...</td>\n",
              "      <td>...</td>\n",
              "      <td>...</td>\n",
              "      <td>...</td>\n",
              "      <td>...</td>\n",
              "      <td>...</td>\n",
              "      <td>...</td>\n",
              "      <td>...</td>\n",
              "      <td>...</td>\n",
              "      <td>...</td>\n",
              "      <td>...</td>\n",
              "      <td>...</td>\n",
              "      <td>...</td>\n",
              "      <td>...</td>\n",
              "      <td>...</td>\n",
              "      <td>...</td>\n",
              "      <td>...</td>\n",
              "      <td>...</td>\n",
              "    </tr>\n",
              "    <tr>\n",
              "      <th>59995</th>\n",
              "      <td>-0.008644</td>\n",
              "      <td>-0.023223</td>\n",
              "      <td>-0.039178</td>\n",
              "      <td>-0.041322</td>\n",
              "      <td>-0.057646</td>\n",
              "      <td>-0.071167</td>\n",
              "      <td>-0.098878</td>\n",
              "      <td>-0.156653</td>\n",
              "      <td>-0.239080</td>\n",
              "      <td>-0.377827</td>\n",
              "      <td>...</td>\n",
              "      <td>-0.474798</td>\n",
              "      <td>-0.394260</td>\n",
              "      <td>-0.406094</td>\n",
              "      <td>-0.441358</td>\n",
              "      <td>-0.396626</td>\n",
              "      <td>-0.288156</td>\n",
              "      <td>-0.156811</td>\n",
              "      <td>-0.089673</td>\n",
              "      <td>-0.034147</td>\n",
              "      <td>5</td>\n",
              "    </tr>\n",
              "    <tr>\n",
              "      <th>59996</th>\n",
              "      <td>-0.008644</td>\n",
              "      <td>-0.023223</td>\n",
              "      <td>-0.039178</td>\n",
              "      <td>-0.041322</td>\n",
              "      <td>-0.057646</td>\n",
              "      <td>-0.071167</td>\n",
              "      <td>-0.098878</td>\n",
              "      <td>-0.156653</td>\n",
              "      <td>-0.239080</td>\n",
              "      <td>-0.377827</td>\n",
              "      <td>...</td>\n",
              "      <td>-0.474798</td>\n",
              "      <td>-0.394260</td>\n",
              "      <td>-0.406094</td>\n",
              "      <td>-0.441358</td>\n",
              "      <td>-0.396626</td>\n",
              "      <td>-0.288156</td>\n",
              "      <td>-0.156811</td>\n",
              "      <td>-0.089673</td>\n",
              "      <td>-0.034147</td>\n",
              "      <td>1</td>\n",
              "    </tr>\n",
              "    <tr>\n",
              "      <th>59997</th>\n",
              "      <td>-0.008644</td>\n",
              "      <td>-0.023223</td>\n",
              "      <td>-0.039178</td>\n",
              "      <td>-0.041322</td>\n",
              "      <td>-0.057646</td>\n",
              "      <td>-0.071167</td>\n",
              "      <td>-0.098878</td>\n",
              "      <td>-0.156653</td>\n",
              "      <td>-0.239080</td>\n",
              "      <td>-0.246952</td>\n",
              "      <td>...</td>\n",
              "      <td>-0.474798</td>\n",
              "      <td>-0.394260</td>\n",
              "      <td>-0.406094</td>\n",
              "      <td>-0.441358</td>\n",
              "      <td>-0.396626</td>\n",
              "      <td>-0.288156</td>\n",
              "      <td>-0.156811</td>\n",
              "      <td>-0.089673</td>\n",
              "      <td>-0.034147</td>\n",
              "      <td>3</td>\n",
              "    </tr>\n",
              "    <tr>\n",
              "      <th>59998</th>\n",
              "      <td>-0.008644</td>\n",
              "      <td>-0.023223</td>\n",
              "      <td>-0.039178</td>\n",
              "      <td>-0.041322</td>\n",
              "      <td>-0.057646</td>\n",
              "      <td>-0.071167</td>\n",
              "      <td>-0.098878</td>\n",
              "      <td>-0.156653</td>\n",
              "      <td>-0.239080</td>\n",
              "      <td>-0.377827</td>\n",
              "      <td>...</td>\n",
              "      <td>0.629925</td>\n",
              "      <td>0.794971</td>\n",
              "      <td>-0.292227</td>\n",
              "      <td>-0.441358</td>\n",
              "      <td>-0.374489</td>\n",
              "      <td>-0.288156</td>\n",
              "      <td>-0.156811</td>\n",
              "      <td>-0.089673</td>\n",
              "      <td>-0.034147</td>\n",
              "      <td>0</td>\n",
              "    </tr>\n",
              "    <tr>\n",
              "      <th>59999</th>\n",
              "      <td>-0.008644</td>\n",
              "      <td>-0.023223</td>\n",
              "      <td>-0.039178</td>\n",
              "      <td>-0.041322</td>\n",
              "      <td>-0.057646</td>\n",
              "      <td>-0.071167</td>\n",
              "      <td>-0.098878</td>\n",
              "      <td>-0.156653</td>\n",
              "      <td>-0.239080</td>\n",
              "      <td>-0.377827</td>\n",
              "      <td>...</td>\n",
              "      <td>-0.474798</td>\n",
              "      <td>-0.394260</td>\n",
              "      <td>-0.406094</td>\n",
              "      <td>-0.441358</td>\n",
              "      <td>-0.396626</td>\n",
              "      <td>-0.288156</td>\n",
              "      <td>-0.156811</td>\n",
              "      <td>-0.089673</td>\n",
              "      <td>-0.034147</td>\n",
              "      <td>5</td>\n",
              "    </tr>\n",
              "  </tbody>\n",
              "</table>\n",
              "<p>60000 rows × 785 columns</p>\n",
              "</div>\n",
              "      <button class=\"colab-df-convert\" onclick=\"convertToInteractive('df-f8561105-03af-4085-9eb9-b1c21cc5f549')\"\n",
              "              title=\"Convert this dataframe to an interactive table.\"\n",
              "              style=\"display:none;\">\n",
              "        \n",
              "  <svg xmlns=\"http://www.w3.org/2000/svg\" height=\"24px\"viewBox=\"0 0 24 24\"\n",
              "       width=\"24px\">\n",
              "    <path d=\"M0 0h24v24H0V0z\" fill=\"none\"/>\n",
              "    <path d=\"M18.56 5.44l.94 2.06.94-2.06 2.06-.94-2.06-.94-.94-2.06-.94 2.06-2.06.94zm-11 1L8.5 8.5l.94-2.06 2.06-.94-2.06-.94L8.5 2.5l-.94 2.06-2.06.94zm10 10l.94 2.06.94-2.06 2.06-.94-2.06-.94-.94-2.06-.94 2.06-2.06.94z\"/><path d=\"M17.41 7.96l-1.37-1.37c-.4-.4-.92-.59-1.43-.59-.52 0-1.04.2-1.43.59L10.3 9.45l-7.72 7.72c-.78.78-.78 2.05 0 2.83L4 21.41c.39.39.9.59 1.41.59.51 0 1.02-.2 1.41-.59l7.78-7.78 2.81-2.81c.8-.78.8-2.07 0-2.86zM5.41 20L4 18.59l7.72-7.72 1.47 1.35L5.41 20z\"/>\n",
              "  </svg>\n",
              "      </button>\n",
              "      \n",
              "  <style>\n",
              "    .colab-df-container {\n",
              "      display:flex;\n",
              "      flex-wrap:wrap;\n",
              "      gap: 12px;\n",
              "    }\n",
              "\n",
              "    .colab-df-convert {\n",
              "      background-color: #E8F0FE;\n",
              "      border: none;\n",
              "      border-radius: 50%;\n",
              "      cursor: pointer;\n",
              "      display: none;\n",
              "      fill: #1967D2;\n",
              "      height: 32px;\n",
              "      padding: 0 0 0 0;\n",
              "      width: 32px;\n",
              "    }\n",
              "\n",
              "    .colab-df-convert:hover {\n",
              "      background-color: #E2EBFA;\n",
              "      box-shadow: 0px 1px 2px rgba(60, 64, 67, 0.3), 0px 1px 3px 1px rgba(60, 64, 67, 0.15);\n",
              "      fill: #174EA6;\n",
              "    }\n",
              "\n",
              "    [theme=dark] .colab-df-convert {\n",
              "      background-color: #3B4455;\n",
              "      fill: #D2E3FC;\n",
              "    }\n",
              "\n",
              "    [theme=dark] .colab-df-convert:hover {\n",
              "      background-color: #434B5C;\n",
              "      box-shadow: 0px 1px 3px 1px rgba(0, 0, 0, 0.15);\n",
              "      filter: drop-shadow(0px 1px 2px rgba(0, 0, 0, 0.3));\n",
              "      fill: #FFFFFF;\n",
              "    }\n",
              "  </style>\n",
              "\n",
              "      <script>\n",
              "        const buttonEl =\n",
              "          document.querySelector('#df-f8561105-03af-4085-9eb9-b1c21cc5f549 button.colab-df-convert');\n",
              "        buttonEl.style.display =\n",
              "          google.colab.kernel.accessAllowed ? 'block' : 'none';\n",
              "\n",
              "        async function convertToInteractive(key) {\n",
              "          const element = document.querySelector('#df-f8561105-03af-4085-9eb9-b1c21cc5f549');\n",
              "          const dataTable =\n",
              "            await google.colab.kernel.invokeFunction('convertToInteractive',\n",
              "                                                     [key], {});\n",
              "          if (!dataTable) return;\n",
              "\n",
              "          const docLinkHtml = 'Like what you see? Visit the ' +\n",
              "            '<a target=\"_blank\" href=https://colab.research.google.com/notebooks/data_table.ipynb>data table notebook</a>'\n",
              "            + ' to learn more about interactive tables.';\n",
              "          element.innerHTML = '';\n",
              "          dataTable['output_type'] = 'display_data';\n",
              "          await google.colab.output.renderOutput(dataTable, element);\n",
              "          const docLink = document.createElement('div');\n",
              "          docLink.innerHTML = docLinkHtml;\n",
              "          element.appendChild(docLink);\n",
              "        }\n",
              "      </script>\n",
              "    </div>\n",
              "  </div>\n",
              "  "
            ]
          },
          "metadata": {},
          "execution_count": 19
        }
      ]
    },
    {
      "cell_type": "code",
      "source": [
        "train_df.max()"
      ],
      "metadata": {
        "id": "oUDSCLalCm92",
        "outputId": "76597f8a-9bac-404a-eb90-0a08e2adb54f",
        "colab": {
          "base_uri": "https://localhost:8080/"
        }
      },
      "execution_count": 20,
      "outputs": [
        {
          "output_type": "execute_result",
          "data": {
            "text/plain": [
              "0        172.865591\n",
              "1        144.536959\n",
              "2        154.936637\n",
              "3         65.245398\n",
              "4         51.658449\n",
              "            ...    \n",
              "780        8.371068\n",
              "781       14.618484\n",
              "782       27.830516\n",
              "783       81.861546\n",
              "LABEL      9.000000\n",
              "Length: 785, dtype: float64"
            ]
          },
          "metadata": {},
          "execution_count": 20
        }
      ]
    },
    {
      "cell_type": "code",
      "source": [
        "# plotting label distributions for training data\n",
        "plot_label_distributions(train_df['LABEL'].tolist(), 'MNIST Fashion (train)', labels)"
      ],
      "metadata": {
        "id": "7Z1sA2Iu0MYp",
        "outputId": "3ab714c8-f872-471f-c7ee-47f353821ec3",
        "colab": {
          "base_uri": "https://localhost:8080/",
          "height": 295
        }
      },
      "execution_count": 21,
      "outputs": [
        {
          "output_type": "display_data",
          "data": {
            "text/plain": [
              "<Figure size 720x288 with 1 Axes>"
            ],
            "image/png": "[encoded data removed]"
          },
          "metadata": {
            "needs_background": "light"
          }
        }
      ]
    },
    {
      "cell_type": "code",
      "source": [
        "# plotting label distributions for testing data\n",
        "plot_label_distributions(test_df['LABEL'].tolist(), 'MNIST Fashion (test)', labels)"
      ],
      "metadata": {
        "id": "5uB2ZBXO2E2q",
        "outputId": "f37b79e6-2c60-4b2e-90e3-f9fb7d081ca1",
        "colab": {
          "base_uri": "https://localhost:8080/",
          "height": 295
        }
      },
      "execution_count": 22,
      "outputs": [
        {
          "output_type": "display_data",
          "data": {
            "text/plain": [
              "<Figure size 720x288 with 1 Axes>"
            ],
            "image/png": "[encoded data removed]"
          },
          "metadata": {
            "needs_background": "light"
          }
        }
      ]
    },
    {
      "cell_type": "markdown",
      "source": [
        "# Implementing models"
      ],
      "metadata": {
        "id": "a6lVueablnwe"
      }
    },
    {
      "cell_type": "markdown",
      "source": [
        "## Helper functions"
      ],
      "metadata": {
        "id": "U_WEPKULlIU2"
      }
    },
    {
      "cell_type": "markdown",
      "source": [
        "## Layers"
      ],
      "metadata": {
        "id": "-7B0imbhlxBQ"
      }
    },
    {
      "cell_type": "code",
      "source": [
        "class NeuralNetLayer:\n",
        "  def __init__(self):\n",
        "    self.gradient = None\n",
        "    self.parameters = None\n",
        "        \n",
        "  def forward(self, x):\n",
        "    raise NotImplementedError\n",
        "\n",
        "  def backward(self, gradient):\n",
        "    raise NotImplementedError"
      ],
      "metadata": {
        "id": "6G7qW7K8kaeL"
      },
      "execution_count": 23,
      "outputs": []
    },
    {
      "cell_type": "code",
      "source": [
        "class LinearLayer(NeuralNetLayer):\n",
        "  def __init__(self, input_size, output_size, unnormalized = False):\n",
        "    super().__init__()\n",
        "    self.ni = input_size\n",
        "    self.no = output_size\n",
        "\n",
        "    sigma = 0.1\n",
        "\n",
        "    # if the data is unnormalized, the initial weights need to be even smaller\n",
        "    if unnormalized:\n",
        "      sigma = 0.000001\n",
        "\n",
        "    random_state = RandomState(1234)\n",
        "    self.w = sigma * random_state.randn(output_size, input_size)\n",
        "    self.b = sigma * random_state.randn(output_size)\n",
        "    self.cur_input = None\n",
        "    self.parameters = [self.w, self.b]\n",
        "\n",
        "  # x is the data inputted into this layer during predictions;\n",
        "  # unless this is the input layer, x is the original data inputted\n",
        "  # into the model, but transformed by the preceding layers\n",
        "  def forward(self, x):\n",
        "    if np.array(x).ndim == 1:\n",
        "      x = np.expand_dims(x, axis = 0)\n",
        "\n",
        "    self.cur_input = x\n",
        "    x_weights_bias = (self.w[None, :, :] @ x[:, :, None]).squeeze() + self.b\n",
        "\n",
        "    '''\n",
        "    print('weights and bias')\n",
        "    print(np.array(x_weights_bias).shape)\n",
        "    print(x_weights_bias)\n",
        "    '''\n",
        "    \n",
        "    return x_weights_bias\n",
        "\n",
        "  def backward(self, gradient):\n",
        "    assert self.cur_input is not None, \"Must call forward before backward\"\n",
        "    #dw = gradient.dot(self.cur_input)\n",
        "    dw = gradient[:, :, None] @ self.cur_input[:, None, :]\n",
        "    db = gradient\n",
        "    self.gradient = [dw, db]\n",
        "    return gradient.dot(self.w)"
      ],
      "metadata": {
        "id": "fLT6hDvqlnWn"
      },
      "execution_count": 24,
      "outputs": []
    },
    {
      "cell_type": "code",
      "source": [
        "class ReLULayer(NeuralNetLayer):\n",
        "  def __init__(self):\n",
        "    super().__init__()\n",
        "        \n",
        "  def forward(self, x):\n",
        "    self.gradient = np.where(x > 0, 1.0, 0.0)\n",
        "\n",
        "    activated_x = np.maximum(0, x)\n",
        "    return activated_x\n",
        "\n",
        "  def backward(self, gradient):\n",
        "    assert self.gradient is not None, \"Must call forward before backward\"\n",
        "    return gradient * self.gradient"
      ],
      "metadata": {
        "id": "nh2uqaBzltSL"
      },
      "execution_count": 25,
      "outputs": []
    },
    {
      "cell_type": "code",
      "source": [
        "class LeakyReLULayer(NeuralNetLayer):\n",
        "  def __init__(self):\n",
        "    super().__init__()\n",
        "        \n",
        "  def forward(self, x):\n",
        "    self.gradient = np.where(x > 0, 1.0, 0.01)\n",
        "\n",
        "    # activated_x = [[float(element) if element > 0 else float(element) * 0.01 for element in sublist] for sublist in x]\n",
        "    activated_x = np.maximum(0.01 * x, x)\n",
        "    \n",
        "    return activated_x\n",
        "\n",
        "  def backward(self, gradient):\n",
        "    assert self.gradient is not None, \"Must call forward before backward\"\n",
        "    return gradient * self.gradient"
      ],
      "metadata": {
        "id": "dXZNK6cj0OpR"
      },
      "execution_count": 26,
      "outputs": []
    },
    {
      "cell_type": "code",
      "source": [
        "class TanhLayer(NeuralNetLayer):\n",
        "  def __init__(self):\n",
        "    super().__init__()\n",
        "        \n",
        "  def forward(self, x):\n",
        "    self.gradient = 1 - (np.tanh(x) ** 2)\n",
        "\n",
        "    activated_x = np.tanh(x)\n",
        "    return activated_x\n",
        "\n",
        "  def backward(self, gradient):\n",
        "    assert self.gradient is not None, \"Must call forward before backward\"\n",
        "    return gradient * self.gradient"
      ],
      "metadata": {
        "id": "_Q3WODEGvX9T"
      },
      "execution_count": 27,
      "outputs": []
    },
    {
      "cell_type": "code",
      "source": [
        "class SoftmaxOutputLayer(NeuralNetLayer):\n",
        "  def __init__(self):\n",
        "    super().__init__()\n",
        "    self.cur_probs = None\n",
        "\n",
        "  def forward(self, x):\n",
        "    # to prevent very large values\n",
        "    exps = np.exp(x - np.max(x))\n",
        "\n",
        "    # this does the same thing as\n",
        "    # probs = exps / np.sum(exps, axis=-1)[:, None]\n",
        "    probs = exps / np.expand_dims(np.sum(exps, axis=-1), axis=-1)\n",
        "\n",
        "    self.cur_probs = probs\n",
        "\n",
        "    return probs\n",
        "\n",
        "  def backward(self, target):\n",
        "    assert self.cur_probs is not None, \"Must call forward before backward\"\n",
        "    return self.cur_probs - target"
      ],
      "metadata": {
        "id": "H5KJfNG-l3Vq"
      },
      "execution_count": 28,
      "outputs": []
    },
    {
      "cell_type": "markdown",
      "source": [
        "## MLP"
      ],
      "metadata": {
        "id": "5o7wc6mXO2TM"
      }
    },
    {
      "cell_type": "code",
      "source": [
        "class MLP:\n",
        "  def __init__(self, n_features, n_output, hidden_layers = 0, hidden_units = [0], activation_func = \"None\", unnormalized = False):\n",
        "    layers_list = []\n",
        "\n",
        "    # adds the input layer\n",
        "    if hidden_layers == 0:\n",
        "      layers_list.append(LinearLayer(n_features, n_output, unnormalized))\n",
        "    else:\n",
        "      layers_list.append(LinearLayer(n_features, hidden_units[0], unnormalized))\n",
        "\n",
        "    # adds the hidden layers\n",
        "    for i in range(hidden_layers):\n",
        "\n",
        "      # adds activation function layers\n",
        "      if activation_func.upper() == \"RELU\":\n",
        "        layers_list.append(ReLULayer())\n",
        "      elif activation_func.upper() == \"TANH\":\n",
        "        layers_list.append(TanhLayer())\n",
        "      elif activation_func.upper() == \"LEAKY RELU\":\n",
        "        layers_list.append(LeakyReLULayer())\n",
        "\n",
        "      # if this is the last hidden layer, it outputs the output size\n",
        "      if i == hidden_layers - 1:\n",
        "        layers_list.append(LinearLayer(hidden_units[i], n_output, unnormalized))\n",
        "        continue\n",
        "          \n",
        "      # if this is not the last hidden layer, it outputs the hidden size\n",
        "      layers_list.append(LinearLayer(hidden_units[i], hidden_units[i + 1], unnormalized))\n",
        "          \n",
        "    # adds the output layer\n",
        "    layers_list.append(SoftmaxOutputLayer())\n",
        "\n",
        "    self.layers = layers_list\n",
        "\n",
        "  def forward(self, x):\n",
        "    for layer in self.layers:\n",
        "      x = layer.forward(x)\n",
        "    return x\n",
        "\n",
        "  def backward(self, target):\n",
        "    for layer in self.layers[::-1]:\n",
        "      target = layer.backward(target)\n",
        "\n",
        "  def fit(self, x_train, y_train, x_test, y_test, opt, lambda_reg = 0, track_accuracy = False):    \n",
        "    # one-hot encodes the labels\n",
        "    labels = np.eye(10)[np.array(y_train)]\n",
        "\n",
        "    loss = 0\n",
        "    train_acc = 0\n",
        "    test_acc = 0\n",
        "\n",
        "    prediction_probs = self.forward(x_train)\n",
        "\n",
        "    # back propagates\n",
        "    self.backward(labels)\n",
        "    opt.step()\n",
        "\n",
        "    # calculates the loss\n",
        "    loss = self.evaluate_loss(prediction_probs, labels, lambda_reg)\n",
        "\n",
        "    ### calculates the training and testing accuracy\n",
        "    if track_accuracy:\n",
        "      # calculates the predicted labels using the current model weights\n",
        "      train_pred = self.predict(x_train)\n",
        "      test_pred = self.predict(x_test)\n",
        "\n",
        "      # evaluates the training and testing accuracy\n",
        "      train_acc = evaluate_acc(train_pred, y_train)\n",
        "      test_acc = evaluate_acc(test_pred, y_test)\n",
        "\n",
        "    # returns the CE loss, training accuracy, and testing accuracy\n",
        "    return loss, train_acc, test_acc\n",
        "\n",
        "  def fit_mini_batch(self, x_train, y_train, x_test, y_test, opt, batch_size, lambda_reg = 0, track_acc = False):    \n",
        "    # one-hot encodes the labels\n",
        "    labels = np.eye(10)[np.array(y_train)]\n",
        "\n",
        "    x_train_size = len(x_train)\n",
        "\n",
        "    # the number of instances in each batch\n",
        "    batch_count = int(len(x_train) / batch_size)\n",
        "\n",
        "    # the index at which the current batch starts (updated in the for loop)\n",
        "    start_index = 0\n",
        "\n",
        "    loss = 0\n",
        "    train_acc = 0\n",
        "    test_acc = 0\n",
        "\n",
        "    # updating the model weights for each batch of training data\n",
        "    for i in range(batch_count):\n",
        "\n",
        "      # the index at which the current batch ends\n",
        "      end_index = batch_size * (i + 1)\n",
        "\n",
        "      # isolates the current batch of training data and associated labels\n",
        "      if(i == batch_count - 1):\n",
        "        # if this is the last batch, take all the training data from start_index to end\n",
        "        batch = x_train[start_index : ]\n",
        "        batch_labels = labels[start_index : ]\n",
        "      else:\n",
        "        batch = x_train[start_index : end_index]\n",
        "        batch_labels = labels[start_index : end_index]\n",
        "\n",
        "      # updates the start index for the next batch (next iteration in the for loop)\n",
        "      start_index = end_index\n",
        "\n",
        "      # calculates the class predictions\n",
        "      prediction_probs = self.forward(batch)\n",
        "\n",
        "      # back propagates\n",
        "      self.backward(batch_labels)\n",
        "      opt.step()\n",
        "\n",
        "    # calculates the loss\n",
        "    prediction_probs = self.forward(x_train)\n",
        "    loss = self.evaluate_loss(prediction_probs, labels, lambda_reg)\n",
        "\n",
        "    if track_acc:\n",
        "      # calculates the training and testing accuracy\n",
        "      train_pred = self.predict(x_train)\n",
        "      test_pred = self.predict(x_test)\n",
        "      \n",
        "      train_acc = evaluate_acc(train_pred, y_train)\n",
        "      test_acc = evaluate_acc(test_pred, y_test)\n",
        "\n",
        "    # returns the CE loss, training accuracy, and testing accuracy\n",
        "    return loss, train_acc, test_acc\n",
        "\n",
        "  def fit_epoch_mini_batch(self, x_train, y_train, x_test, y_test, opt, batch_size, epochs, lambda_reg, track_acc):\n",
        "    losses = []\n",
        "    train_accs = []\n",
        "    test_accs = []\n",
        "\n",
        "    indices = np.arange(0, len(x_train))\n",
        "\n",
        "    for epoch in range(epochs):\n",
        "\n",
        "      random_state = RandomState(1234)\n",
        "      random_state.shuffle(indices)\n",
        "      x_train_shuf = x_train[indices]\n",
        "      y_train_shuf = y_train[indices]\n",
        "\n",
        "      loss, train_acc, test_acc = self.fit_mini_batch(x_train_shuf, y_train_shuf, x_test, y_test, opt, batch_size, lambda_reg, track_acc)\n",
        "\n",
        "      # taking the last loss, training accuracy, and testing accuracy values\n",
        "      losses.append(loss)\n",
        "      train_accs.append(train_acc)\n",
        "      test_accs.append(test_acc)\n",
        "    \n",
        "    return losses, train_accs, test_accs\n",
        "\n",
        "  def evaluate_loss(self, prediction_probs, labels, lambda_reg):\n",
        "    # adds regularization term (0 by default)\n",
        "    reg_term = lambda_reg\n",
        "    if lambda_reg != 0:\n",
        "      weights_sum = 0\n",
        "\n",
        "      # iterates through the layers in the model and adds the weights\n",
        "      for layer in self.layers[::-1]:\n",
        "        # if the layer is a LinearLayer, it has weights\n",
        "        if type(layer).__name__ == \"LinearLayer\":\n",
        "          weights_squared = layer.w ** 2\n",
        "          weights_sum += sum(sum(weights_squared))\n",
        "\n",
        "      reg_term = (lambda_reg * weights_sum)\n",
        "\n",
        "    print('prediction probs')\n",
        "    print(prediction_probs)\n",
        "  \n",
        "    '''\n",
        "    print('log')\n",
        "    print(np.log(prediction_probs))\n",
        "    \n",
        "    print('log max')\n",
        "    print(np.maximum(np.log(prediction_probs), -sys.float_info.max))\n",
        "    \n",
        "    print('labels * log max')\n",
        "    print(labels * np.maximum(np.log(prediction_probs), -sys.float_info.max))\n",
        "    \n",
        "    print('labels * log max . sum')\n",
        "    test = (labels * np.maximum(np.log(prediction_probs), -sys.float_info.max)).sum(axis=-1)\n",
        "    print(len(test))\n",
        "    print(test)\n",
        "\n",
        "    print('labels * log max . sum . mean')\n",
        "    print((labels * np.maximum(np.log(prediction_probs), -sys.float_info.max)).sum(axis=-1).mean())\n",
        "    '''\n",
        "\n",
        "    # replace all instances of 0 in prediction_probs with smallest possible number (to avoid log(0))\n",
        "    temp_prediction_probs = np.array(prediction_probs)\n",
        "    temp_prediction_probs[temp_prediction_probs == 0] = sys.float_info.min\n",
        "    prediction_probs = temp_prediction_probs.tolist()\n",
        "\n",
        "    print('prediction probs')\n",
        "    print(prediction_probs)\n",
        "\n",
        "    ### calculates the loss, adds it to the losses list, and back propagates based on the loss\n",
        "    loss = -(labels * np.log(prediction_probs)).sum(axis=-1).mean() + reg_term\n",
        "    # loss = -(labels * np.maximum(np.log(prediction_probs), -sys.float_info.max)).sum(axis=-1).mean() + reg_term\n",
        "    # loss = -(labels * np.log(prediction_probs)).sum(axis=-1).mean() + reg_term\n",
        "\n",
        "    print('loss')\n",
        "    print(loss)\n",
        "\n",
        "    return loss\n",
        "\n",
        "  def evaluate_initial_metrics(self, x_train, x_test, y_train, y_test, lambda_reg):\n",
        "    # evaluating the CE loss based on the predicted class probabilities\n",
        "    labels = np.eye(10)[np.array(y_train)]\n",
        "    prediction_probs = self.forward(x_train)\n",
        "    loss = self.evaluate_loss(prediction_probs, labels, lambda_reg)\n",
        "\n",
        "    # evaluates the training and testing classification accuracy\n",
        "    train_pred = self.predict(x_train)\n",
        "    test_pred = self.predict(x_test)\n",
        "    train_acc = evaluate_acc(train_pred, y_train)\n",
        "    test_acc = evaluate_acc(test_pred, y_test)\n",
        "\n",
        "    return loss, train_acc, test_acc\n",
        "\n",
        "  def predict(self, x):\n",
        "    pred_prob = self.forward(x)\n",
        "    predictions = np.argmax(pred_prob, axis = -1)\n",
        "    return predictions"
      ],
      "metadata": {
        "id": "rnVxRvpFmGO4"
      },
      "execution_count": 86,
      "outputs": []
    },
    {
      "cell_type": "code",
      "source": [
        "class Optimizer:\n",
        "    def __init__(self, net: MLP):\n",
        "        self.net = net\n",
        "\n",
        "    def step(self):\n",
        "        for layer in self.net.layers[::-1]:\n",
        "            if layer.parameters is not None:\n",
        "                self.update(layer.parameters, layer.gradient)\n",
        "\n",
        "    def update(self, params, gradient):\n",
        "        raise NotImplementedError\n",
        "\n",
        "class GradientDescentOptimizer(Optimizer):\n",
        "    def __init__(self, net: MLP, lr: float):\n",
        "        super().__init__(net)\n",
        "        self.lr = lr\n",
        "\n",
        "    def update(self, params, gradient):\n",
        "        for (p, g) in zip(params, gradient):\n",
        "            p -= self.lr * g.mean(axis=0)"
      ],
      "metadata": {
        "id": "E9d9aLMlmQ1o"
      },
      "execution_count": 30,
      "outputs": []
    },
    {
      "cell_type": "markdown",
      "source": [
        "# Running experiments"
      ],
      "metadata": {
        "id": "IlELJSq3nWUz"
      }
    },
    {
      "cell_type": "markdown",
      "source": [
        "### Helper functions"
      ],
      "metadata": {
        "id": "0rywH03KE_9-"
      }
    },
    {
      "cell_type": "code",
      "source": [
        "def evaluate_acc(true_labels, target_labels):\n",
        "  # the number of labels\n",
        "  label_count = true_labels.shape[0]\n",
        "\n",
        "  # the accuracy is the number of correctly labelled instances divided\n",
        "  # by the total number of instances\n",
        "  accuracy = np.sum(target_labels == true_labels) / label_count\n",
        "\n",
        "  return accuracy"
      ],
      "metadata": {
        "id": "bAo7UKZrX5RR"
      },
      "execution_count": 31,
      "outputs": []
    },
    {
      "cell_type": "code",
      "source": [
        "def plot_losses(losses, hidden_layer_count, activation_func):\n",
        "  x_axis = np.arange(1, len(losses) + 1, dtype = int)\n",
        "\n",
        "  plt.figure(figsize=(8, 4))\n",
        "\n",
        "  plt.plot(x_axis, losses, color = '#06E3F8')\n",
        "\n",
        "  # changing the title based on whether there are hidden layers\n",
        "  if hidden_layer_count == 0:\n",
        "    plt.title(\"Cross-entropy training loss for \" + str(hidden_layer_count) + \" hidden layers\")\n",
        "  else:\n",
        "    plt.title(\"Cross-entropy training loss for \" + str(hidden_layer_count) + \" hidden layer(s) with \" + activation_func)\n",
        "    \n",
        "  plt.xlabel(\"Epoch\")\n",
        "  \n",
        "  # manually plots the xticks to avoid decimal values for len(losses) = 20\n",
        "  if(len(losses) > 20):\n",
        "    ticks = np.arange(0, len(losses) + 1, 10)\n",
        "    ticks[0] = 1\n",
        "    plt.xticks(ticks)\n",
        "  else:\n",
        "    plt.xticks(np.arange(1, len(losses) + 1, 1))\n",
        "\n",
        "  plt.ylabel(\"Cross-entropy loss\")"
      ],
      "metadata": {
        "id": "m2_I_GRr8MzE"
      },
      "execution_count": 32,
      "outputs": []
    },
    {
      "cell_type": "code",
      "source": [
        "def plot_train_test_acc(train_accs, test_accs, hidden_layer_count, activation_func):\n",
        "  x_axis = np.arange(1, len(train_accs) + 1, dtype = int)\n",
        "\n",
        "  plt.figure(figsize=(8, 4))\n",
        "\n",
        "  plt.plot(x_axis, train_accs, color = '#079AF8', label = \"Training accuracy\")\n",
        "  plt.plot(x_axis, test_accs, color = '#F67404', label = \"Testing accuracy\")\n",
        "\n",
        "  # changing the title based on whether there are hidden layers\n",
        "  if hidden_layer_count == 0:\n",
        "    plt.title(\"Training and testing accuracy for \" + str(hidden_layer_count) + \" hidden layers\")\n",
        "  else:\n",
        "    plt.title(\"Training and testing accuracy for \" + str(hidden_layer_count) + \" hidden layer(s) with \" + activation_func)\n",
        "    \n",
        "  plt.xlabel(\"Epoch\")\n",
        "\n",
        "  # if we're testing for the optimal testing accuracy\n",
        "  if(len(train_accs) > 20):\n",
        "    # graphs a vertical line at the epoch with the maximum testing accuacy\n",
        "    optimal_epoch = np.array(test_accs).argmax() + 1\n",
        "    max_acc = test_accs[optimal_epoch - 1]\n",
        "    plt.axvline(x = optimal_epoch, label = \"Maximum testing accuracy of \" + str(round(max_acc * 100, 2)) + \"% at \" + str(optimal_epoch) + \" epochs\", color = '#8A84E2')\n",
        "  \n",
        "    # manually plots the xticks to avoid decimal values for len(train_accs) = 20\n",
        "    ticks = np.arange(0, len(train_accs) + 1, 10)\n",
        "    ticks[0] = 1\n",
        "    plt.xticks(ticks)\n",
        "  else:\n",
        "    plt.xticks(np.arange(1, len(train_accs) + 1, 1))\n",
        "  \n",
        "  plt.ylabel(\"Classification accuracy\")\n",
        "  plt.legend()"
      ],
      "metadata": {
        "id": "8dJsc80n80sE"
      },
      "execution_count": 33,
      "outputs": []
    },
    {
      "cell_type": "code",
      "source": [
        "def plot_test_acc(test_accs, k_values, model = \"MLP\"):\n",
        "\n",
        "  plt.figure(figsize=(8, 4))\n",
        "\n",
        "  plt.plot(k_values, test_accs, color = '#F67404')\n",
        "\n",
        "  # adding integer values above each point in the plotted line\n",
        "  for x, y in zip(k_values, test_accs):\n",
        "    acc = \"{:.2f}\".format(y)\n",
        "    if model == \"MLP\" and x >= 3:\n",
        "      plt.annotate(acc, (x,y), textcoords = 'offset points', xytext = (0,-10), ha = 'center')\n",
        "    else:\n",
        "      plt.annotate(acc, (x,y), textcoords = 'offset points', xytext = (0,10), ha = 'center')\n",
        "\n",
        "  plt.title(model + \" testing accuracy when trained on 10^k images\")\n",
        "  plt.xlabel(\"k\")\n",
        "  plt.xticks(k_values, map(str, k_values))\n",
        "  plt.ylabel(\"Classification accuracy\")"
      ],
      "metadata": {
        "id": "XIF34Cr3D1hn"
      },
      "execution_count": 34,
      "outputs": []
    },
    {
      "cell_type": "code",
      "source": [
        "def epoch_mini_batch(x_train, y_train, x_test, y_test, hidden_layers, hidden_units, activation_func, lr, batch_size, epochs, lambda_reg = 0, track_acc = False, track_loss = True, unnormalized = False):\n",
        "  n_features = x_train.shape[-1]\n",
        "  n_output = 10\n",
        "\n",
        "  # creates the mlp and optimizer objects\n",
        "  mlp = MLP(n_features, n_output, hidden_layers, hidden_units, activation_func, unnormalized)\n",
        "  opt = GradientDescentOptimizer(mlp, lr)\n",
        "\n",
        "  # training the model using mini-batch times epochs\n",
        "  losses, train_accs, test_accs = mlp.fit_epoch_mini_batch(x_train, y_train, x_test, y_test, opt, batch_size, epochs, lambda_reg, track_acc)\n",
        "\n",
        "  # the number of hidden layers\n",
        "  hidden_layer_count = int((len(mlp.layers) - 2) / 2)\n",
        "\n",
        "  # plots the cross-entropy loss\n",
        "  if track_loss:\n",
        "    plot_losses(losses, hidden_layer_count, activation_func)\n",
        "    \n",
        "  # plots the training and testing accuracy\n",
        "  if track_acc:\n",
        "    plot_train_test_acc(train_accs, test_accs, hidden_layer_count, activation_func)\n",
        "\n",
        "  return mlp"
      ],
      "metadata": {
        "id": "YWxAE0Mzp7qP"
      },
      "execution_count": 35,
      "outputs": []
    },
    {
      "cell_type": "code",
      "source": [
        "def evaluate_mlp_acc(mlp: MLP, x_train, y_train, x_test, y_test, silent = True):\n",
        "  train_predictions = mlp.predict(x_train)\n",
        "  test_predictions = mlp.predict(x_test)\n",
        "  \n",
        "  train_acc = evaluate_acc(train_predictions, y_train)\n",
        "  test_acc = evaluate_acc(test_predictions, y_test)\n",
        "  \n",
        "  if not silent:\n",
        "    print(\"The accuracy of the model on the training data: \" + str(round((train_acc * 100), 2)) + \"%\")\n",
        "    print(\"The accuracy of the model on the testing data: \" + str(round((test_acc * 100), 2)) + \"%\")\n",
        "    print(\"\\n\")\n",
        "\n",
        "  return train_acc, test_acc\n",
        "                     "
      ],
      "metadata": {
        "id": "_O6LbWx1tNtx"
      },
      "execution_count": 36,
      "outputs": []
    },
    {
      "cell_type": "code",
      "source": [
        "def compare_train_images(x_train, y_train, x_test, y_test, k_values):\n",
        "  # to help shuffle the data\n",
        "  indices = np.arange(0, len(x_train))\n",
        "\n",
        "  accs = []\n",
        "\n",
        "  for k_val in k_values:\n",
        "    # shuffles the data\n",
        "    random_state = RandomState(123 + k_val)\n",
        "    random_state.shuffle(indices)\n",
        "    x_train_shuf = x_train[indices]\n",
        "    y_train_shuf = y_train[indices]\n",
        "\n",
        "    end_index = 10 ** k_val\n",
        "\n",
        "    x_train_shuf = x_train_shuf[0 : end_index]\n",
        "    y_train_shuf = y_train_shuf[0 : end_index]\n",
        "    \n",
        "    batch_size = max(end_index // 10, 1)\n",
        "\n",
        "    cur_mlp = epoch_mini_batch(x_train_shuf, y_train_shuf, x_test, y_test, 2, [128, 128], \"ReLU\", 0.1, batch_size, 1, track_loss = False)\n",
        "    cur_acc = evaluate_mlp_acc(cur_mlp, x_train, y_train, x_test, y_test)[1]\n",
        "\n",
        "    accs.append(cur_acc)\n",
        "\n",
        "  plot_test_acc(accs, k_values, model = \"MLP\")"
      ],
      "metadata": {
        "id": "kX4Cx6pjAHEG"
      },
      "execution_count": 37,
      "outputs": []
    },
    {
      "cell_type": "code",
      "source": [
        "def compare_learning_rates_unnormalized(x_train, y_train, x_test, y_test, lrs):\n",
        "\n",
        "  for lr in lrs:\n",
        "    print(\"Testing accuracy for learning rate \" + str(lr))\n",
        "\n",
        "    mlp2 = epoch_mini_batch(x_train, y_train, x_test, y_test, 2, [128, 128], \"ReLU\", lr, 1000, 3, track_loss = False)\n",
        "    test_acc2 = evaluate_mlp_acc(mlp2, x_train, y_train, x_test, y_test)[1]    \n",
        "    print(\"\\t2 hidden layers: \" + str(round(test_acc2 * 100, 2)) + \"%\")\n",
        "\n",
        "    print(\"\")"
      ],
      "metadata": {
        "id": "cQgaeemTqZrF"
      },
      "execution_count": 38,
      "outputs": []
    },
    {
      "cell_type": "code",
      "source": [
        "def compare_learning_rates(x_train, y_train, x_test, y_test, lrs):\n",
        "\n",
        "  for lr in lrs:\n",
        "    print(\"Testing accuracy for learning rate \" + str(lr))\n",
        "\n",
        "    mlp0 = epoch_mini_batch(x_train, y_train, x_test, y_test, 0, [], \"ReLU\", lr, 1000, 1, track_loss = False)\n",
        "    test_acc0 = evaluate_mlp_acc(mlp0, x_train, y_train, x_test, y_test)[1]\n",
        "    print(\"\\t0 hidden layers: \" + str(round(test_acc0 * 100, 2)) + \"%\")\n",
        "\n",
        "    mlp1 = epoch_mini_batch(x_train, y_train, x_test, y_test, 1, [128], \"ReLU\", lr, 1000, 1, track_loss = False)\n",
        "    test_acc1 = evaluate_mlp_acc(mlp1, x_train, y_train, x_test, y_test)[1]\n",
        "    print(\"\\t1 hidden layer: \" + str(round(test_acc1 * 100, 2)) + \"%\")\n",
        "\n",
        "    mlp2 = epoch_mini_batch(x_train, y_train, x_test, y_test, 2, [128, 128], \"ReLU\", lr, 1000, 1, track_loss = False)\n",
        "    test_acc2 = evaluate_mlp_acc(mlp2, x_train, y_train, x_test, y_test)[1]    \n",
        "    print(\"\\t2 hidden layers: \" + str(round(test_acc2 * 100, 2)) + \"%\")\n",
        "\n",
        "    print(\"\")"
      ],
      "metadata": {
        "id": "RAJxA7gvXRkv"
      },
      "execution_count": 39,
      "outputs": []
    },
    {
      "cell_type": "code",
      "source": [
        "def compare_hidden_configs(x_train, y_train, x_test, y_test, lr):\n",
        "  hidden_units = [32, 64, 128]\n",
        "  accs = []\n",
        "\n",
        "  # experiments with 1 hidden layer\n",
        "  for units in hidden_units:\n",
        "    cur_units = [units]\n",
        "\n",
        "    cur_mlp = epoch_mini_batch(x_train, y_train, x_test, y_test, 1, cur_units, \"ReLU\", lr, 1000, 1, track_loss = False)\n",
        "    \n",
        "    print(\"1 hidden layer with \" + str(units) + \" hidden units\")\n",
        "    cur_acc = evaluate_mlp_acc(cur_mlp, x_train, y_train, x_test, y_test)\n",
        "\n",
        "    print(\"\\tTraining accuracy: \" + str(round(cur_acc[0] * 100, 2)) + \"%\")\n",
        "    print(\"\\tTesting accuracy: \" + str(round(cur_acc[1] * 100, 2)) + \"%\")\n",
        "    print(\"\")\n",
        "\n",
        "  # experiments with 2 hidden layers\n",
        "  for units in hidden_units:\n",
        "    for units_two in hidden_units:\n",
        "      cur_units = [units, units_two]\n",
        "\n",
        "      cur_mlp = epoch_mini_batch(x_train, y_train, x_test, y_test, 2, cur_units, \"ReLU\", lr, 1000, 1, track_loss = False)\n",
        "\n",
        "      print(\"2 hidden layers with \" + str(units) + \", \" + str(units_two) + \" units each\")\n",
        "      cur_acc = evaluate_mlp_acc(cur_mlp, x_train, y_train, x_test, y_test)\n",
        "\n",
        "      print(\"\\tTraining accuracy: \" + str(round(cur_acc[0] * 100, 2)) + \"%\")\n",
        "      print(\"\\tTesting accuracy: \" + str(round(cur_acc[1] * 100, 2)) + \"%\")\n",
        "      print(\"\")\n",
        "\n",
        "  '''\n",
        "  # experiments with 3 hidden layers\n",
        "  three_accs = []\n",
        "  for units in hidden_units:\n",
        "    for units_two in hidden_units:\n",
        "      for units_three in hidden_units:\n",
        "        cur_units = [units, units_two, units_three]\n",
        "        cur_mlp = epoch_mini_batch(x_train, y_train, x_test, y_test, 1, cur_units, \"ReLU\", lr, 1000, 3)\n",
        "        cur_acc = evaluate_mlp_acc(cur_mlp, x_train, y_train, x_test, y_test)\n",
        "\n",
        "        three_accs.append(cur_acc)\n",
        "  '''"
      ],
      "metadata": {
        "id": "cD_skMvJDUzS"
      },
      "execution_count": 40,
      "outputs": []
    },
    {
      "cell_type": "code",
      "source": [
        "def compare_epochs(x_train, y_train, x_test, y_test, epochs):\n",
        "\n",
        "  for epoch in epochs:\n",
        "    if epoch == 1:\n",
        "      print(\"Testing accuracy for 1 epoch\")\n",
        "    else:\n",
        "      print(\"Testing accuracy for \" + str(epoch) + \" epochs\")\n",
        "\n",
        "    mlp0 = epoch_mini_batch(x_train, y_train, x_test, y_test, 0, [], \"ReLU\", 13.1, 1000, epoch, track_loss = False)\n",
        "    test_acc0 = evaluate_mlp_acc(mlp0, x_train, y_train, x_test, y_test)[1]\n",
        "    print(\"\\t0 hidden layers: \" + str(round(test_acc0 * 100, 2)) + \"%\")\n",
        "\n",
        "    mlp1 = epoch_mini_batch(x_train, y_train, x_test, y_test, 1, [128], \"ReLU\", 13.1, 1000, epoch, track_loss = False)\n",
        "    test_acc1 = evaluate_mlp_acc(mlp1, x_train, y_train, x_test, y_test)[1]\n",
        "    print(\"\\t1 hidden layer: \" + str(round(test_acc1 * 100, 2)) + \"%\")\n",
        "\n",
        "    mlp2 = epoch_mini_batch(x_train, y_train, x_test, y_test, 2, [128, 128], \"ReLU\", 13.1, 1000, epoch, track_loss = False)\n",
        "    test_acc2 = evaluate_mlp_acc(mlp2, x_train, y_train, x_test, y_test)[1]    \n",
        "    print(\"\\t2 hidden layers: \" + str(round(test_acc2 * 100, 2)) + \"%\")\n",
        "\n",
        "    print(\"\")"
      ],
      "metadata": {
        "id": "dTzh-0VGDucs"
      },
      "execution_count": 41,
      "outputs": []
    },
    {
      "cell_type": "markdown",
      "source": [
        "#### Convnet"
      ],
      "metadata": {
        "id": "oPmGGTjLyr6c"
      }
    },
    {
      "cell_type": "code",
      "source": [
        "def convnet_model(optimizer, num_filters = 8, filter_size = 3, strides = 1, padding = 'valid', activation = 'relu', epochs = 3, batch_size = 60):\n",
        "  model1 = models.Sequential()\n",
        "\n",
        "  #we add 2 layers as mentionned in the pdf\n",
        "  #these 2 layers are the conv layers\n",
        "  #input shape is 3d because thats how keras library wants it\n",
        "  model1.add(layers.Conv2D(filters = num_filters, kernel_size = filter_size, strides = strides,\n",
        "                         padding = padding, activation = activation, input_shape=(28,28,1)))\n",
        "  model1.add(layers.Conv2D(filters = num_filters, kernel_size = filter_size, strides = strides,\n",
        "                         padding = padding, activation = activation))\n",
        "  model1.add(layers.Flatten())\n",
        "\n",
        "  #the first two layers are the fully connected layer, the number of hidden units is specified in the doc\n",
        "  #the last layer is to check how accurate the prediction is?\n",
        "  model1.add(layers.Dense(128, activation = activation))\n",
        "  model1.add(layers.Dense(128, activation = activation))\n",
        "  model1.add(layers.Dense(10, activation = 'softmax'))\n",
        "  model1.summary()\n",
        "  model1.compile(optimizer=optimizer,\n",
        "              loss= 'categorical_crossentropy',\n",
        "              metrics=['accuracy'])\n",
        "  \n",
        "  model2 = models.Sequential()\n",
        "  model2.add(layers.Conv2D(filters = num_filters, kernel_size = filter_size, strides = strides,\n",
        "                         padding = padding, activation = activation, input_shape=(28,28,1)))\n",
        "  model2.add(layers.Conv2D(filters = num_filters, kernel_size = filter_size, strides = strides,\n",
        "                         padding = padding, activation = activation))\n",
        "  model2.add(layers.Flatten())\n",
        "  model2.add(layers.Dense(128, activation = activation))\n",
        "  model2.add(layers.Dense(128, activation = activation))\n",
        "  model2.add(layers.Dense(10, activation = 'softmax'))\n",
        "  model2.summary()\n",
        "  model2.compile(optimizer=optimizer,\n",
        "              loss= 'categorical_crossentropy',\n",
        "              metrics=['accuracy'])\n",
        "\n",
        "  ### fitting the model\n",
        "  history = model1.fit(\n",
        "    x = x_train_convnet,\n",
        "    y = y_train_convnet, \n",
        "    epochs=epochs,                # number of training epochs\n",
        "    batch_size=batch_size\n",
        "  ) \n",
        "\n",
        "  herstory = model2.fit(\n",
        "  x = x_test_convnet,\n",
        "  y = y_test_convnet, \n",
        "  epochs=epochs,          \n",
        "  batch_size=batch_size\n",
        "  )\n",
        "\n",
        "  cnn_train_acc = history.history['accuracy']\n",
        "  cnn_test_acc = herstory.history['accuracy']\n",
        "  cnn_train_loss = history.history['loss']\n",
        "  \n",
        "  plot_train_test_acc(cnn_train_acc, cnn_test_acc, 2, \"ReLU\")\n",
        "  plot_losses(cnn_train_loss, 2, \"ReLU\")"
      ],
      "metadata": {
        "id": "Or7Xm7GnyxjZ"
      },
      "execution_count": 42,
      "outputs": []
    },
    {
      "cell_type": "markdown",
      "source": [
        "## MLP"
      ],
      "metadata": {
        "id": "uVb_gMZBGdRo"
      }
    },
    {
      "cell_type": "markdown",
      "source": [
        "### Baseline accuracy tests\n",
        "\n"
      ],
      "metadata": {
        "id": "_Zi31RJC-Kmr"
      }
    },
    {
      "cell_type": "code",
      "source": [
        "### plotting training and testing for 0 hidden layers (ReLU)\n",
        "\n",
        "mlp0_test = epoch_mini_batch(x_train, y_train, x_test, y_test, 0, [], \"ReLU\", 0.1, 1000, 20, track_acc = True)\n",
        "acc0_test = evaluate_mlp_acc(mlp0_test, x_train, y_train, x_test, y_test, silent = False)"
      ],
      "metadata": {
        "colab": {
          "base_uri": "https://localhost:8080/",
          "height": 644
        },
        "id": "SZrUkti1AIxT",
        "outputId": "5f608bf2-492a-414a-a6f3-e52a2c4fa143"
      },
      "execution_count": 77,
      "outputs": [
        {
          "output_type": "stream",
          "name": "stdout",
          "text": [
            "The accuracy of the model on the training data: 86.03%\n",
            "The accuracy of the model on the testing data: 83.71%\n",
            "\n",
            "\n"
          ]
        },
        {
          "output_type": "display_data",
          "data": {
            "text/plain": [
              "<Figure size 576x288 with 1 Axes>"
            ],
            "image/png": "[encoded data removed]"
          },
          "metadata": {
            "needs_background": "light"
          }
        },
        {
          "output_type": "display_data",
          "data": {
            "text/plain": [
              "<Figure size 576x288 with 1 Axes>"
            ],
            "image/png": "[encoded data removed]"
          },
          "metadata": {
            "needs_background": "light"
          }
        }
      ]
    },
    {
      "cell_type": "code",
      "source": [
        "### plotting training and testing accuracy for 1 hidden layer (ReLU)\n",
        "\n",
        "mlp1_test = epoch_mini_batch(x_train, y_train, x_test, y_test, 1, [128], \"ReLU\", 0.1, 1000, 20, track_acc = True)\n",
        "acc1_test = evaluate_mlp_acc(mlp1_test, x_train, y_train, x_test, y_test, silent = False)"
      ],
      "metadata": {
        "id": "TJaxXO0Nlzah",
        "outputId": "92ccd62c-5f45-4c0a-867e-54b890db6395",
        "colab": {
          "base_uri": "https://localhost:8080/",
          "height": 644
        }
      },
      "execution_count": 80,
      "outputs": [
        {
          "output_type": "stream",
          "name": "stdout",
          "text": [
            "The accuracy of the model on the training data: 88.88%\n",
            "The accuracy of the model on the testing data: 86.35%\n",
            "\n",
            "\n"
          ]
        },
        {
          "output_type": "display_data",
          "data": {
            "text/plain": [
              "<Figure size 576x288 with 1 Axes>"
            ],
            "image/png": "[encoded data removed]"
          },
          "metadata": {
            "needs_background": "light"
          }
        },
        {
          "output_type": "display_data",
          "data": {
            "text/plain": [
              "<Figure size 576x288 with 1 Axes>"
            ],
            "image/png": "[encoded data removed]"
          },
          "metadata": {
            "needs_background": "light"
          }
        }
      ]
    },
    {
      "cell_type": "code",
      "source": [
        "### plotting training and testing accuracy for 2 hidden layers (ReLU)\n",
        "\n",
        "mlp2_test = epoch_mini_batch(x_train, y_train, x_test, y_test, 2, [128, 128], \"ReLU\", 0.1, 1000, 20, track_acc = True)\n",
        "acc2_test = evaluate_mlp_acc(mlp2_test, x_train, y_train, x_test, y_test, silent = False)"
      ],
      "metadata": {
        "id": "RwkmkB3Vq6yU",
        "outputId": "f21c5ae3-dc4f-4b2f-b33e-b0105f8ccb84",
        "colab": {
          "base_uri": "https://localhost:8080/",
          "height": 644
        }
      },
      "execution_count": 81,
      "outputs": [
        {
          "output_type": "stream",
          "name": "stdout",
          "text": [
            "The accuracy of the model on the training data: 89.97%\n",
            "The accuracy of the model on the testing data: 86.53%\n",
            "\n",
            "\n"
          ]
        },
        {
          "output_type": "display_data",
          "data": {
            "text/plain": [
              "<Figure size 576x288 with 1 Axes>"
            ],
            "image/png": "[encoded data removed]"
          },
          "metadata": {
            "needs_background": "light"
          }
        },
        {
          "output_type": "display_data",
          "data": {
            "text/plain": [
              "<Figure size 576x288 with 1 Axes>"
            ],
            "image/png": "[encoded data removed]"
          },
          "metadata": {
            "needs_background": "light"
          }
        }
      ]
    },
    {
      "cell_type": "markdown",
      "source": [
        "### Testing activation functions other than ReLU"
      ],
      "metadata": {
        "id": "Xw646-_-vt2r"
      }
    },
    {
      "cell_type": "code",
      "source": [
        "### training and testing 2 hidden layers with Tanh activation functions\n",
        "\n",
        "mlp2t = epoch_mini_batch(x_train, y_train, x_test, y_test, 2, [128, 128], \"Tanh\", 0.1, 1000, 20)\n",
        "acc2t = evaluate_mlp_acc(mlp2t, x_train, y_train, x_test, y_test, silent = False)"
      ],
      "metadata": {
        "id": "dx45R6rav2CT",
        "colab": {
          "base_uri": "https://localhost:8080/",
          "height": 366
        },
        "outputId": "1cf8afb2-a662-436e-f5a3-b0a546d31795"
      },
      "execution_count": 82,
      "outputs": [
        {
          "output_type": "stream",
          "name": "stdout",
          "text": [
            "The accuracy of the model on the training data: 88.76%\n",
            "The accuracy of the model on the testing data: 85.48%\n",
            "\n",
            "\n"
          ]
        },
        {
          "output_type": "display_data",
          "data": {
            "text/plain": [
              "<Figure size 576x288 with 1 Axes>"
            ],
            "image/png": "[encoded data removed]"
          },
          "metadata": {
            "needs_background": "light"
          }
        }
      ]
    },
    {
      "cell_type": "code",
      "source": [
        "### training and testing 2 hidden layers with leaky ReLU activation functions\n",
        "\n",
        "mlp2l = epoch_mini_batch(x_train, y_train, x_test, y_test, 2, [128, 128], \"Leaky ReLU\", 0.1, 1000, 20)\n",
        "acc2l = evaluate_mlp_acc(mlp2l, x_train, y_train, x_test, y_test, silent = False)"
      ],
      "metadata": {
        "id": "KNVMb42qwVBu",
        "colab": {
          "base_uri": "https://localhost:8080/",
          "height": 366
        },
        "outputId": "0a8bf155-d377-4b06-bf45-216145993a51"
      },
      "execution_count": 83,
      "outputs": [
        {
          "output_type": "stream",
          "name": "stdout",
          "text": [
            "The accuracy of the model on the training data: 89.96%\n",
            "The accuracy of the model on the testing data: 86.51%\n",
            "\n",
            "\n"
          ]
        },
        {
          "output_type": "display_data",
          "data": {
            "text/plain": [
              "<Figure size 576x288 with 1 Axes>"
            ],
            "image/png": "[encoded data removed]"
          },
          "metadata": {
            "needs_background": "light"
          }
        }
      ]
    },
    {
      "cell_type": "markdown",
      "source": [
        "### Adding L2 regularization"
      ],
      "metadata": {
        "id": "lLEAhgccx8KV"
      }
    },
    {
      "cell_type": "code",
      "source": [
        "### training and testing 2 hidden layers with ReLU activation functions and L2 regularization\n",
        "\n",
        "mlp2reg = epoch_mini_batch(x_train, y_train, x_test, y_test, 2, [128, 128], \"ReLU\", 0.1, 1000, 20, lambda_reg = 0.01)\n",
        "acc2reg = evaluate_mlp_acc(mlp2reg, x_train, y_train, x_test, y_test, silent = False)"
      ],
      "metadata": {
        "id": "iZ0Qy_T_yANL",
        "colab": {
          "base_uri": "https://localhost:8080/",
          "height": 366
        },
        "outputId": "78c30c20-235e-47b2-fb4e-34179f1767c3"
      },
      "execution_count": 84,
      "outputs": [
        {
          "output_type": "stream",
          "name": "stdout",
          "text": [
            "The accuracy of the model on the training data: 89.97%\n",
            "The accuracy of the model on the testing data: 86.53%\n",
            "\n",
            "\n"
          ]
        },
        {
          "output_type": "display_data",
          "data": {
            "text/plain": [
              "<Figure size 576x288 with 1 Axes>"
            ],
            "image/png": "[encoded data removed]"
          },
          "metadata": {
            "needs_background": "light"
          }
        }
      ]
    },
    {
      "cell_type": "markdown",
      "source": [
        "### Using a model trained on unnormalized images"
      ],
      "metadata": {
        "id": "AzPgdvMUdN95"
      }
    },
    {
      "cell_type": "code",
      "source": [
        "mlp2ln2222 = epoch_mini_batch(x_train_unprocessed, y_train, x_test_unprocessed, y_test, 2, [128, 128], \"ReLU\", 0.0001, 1000, 3, track_acc = True, unnormalized = True)\n",
        "acc2ln2222 = evaluate_mlp_acc(mlp2ln2222, x_train_unprocessed, y_train, x_test_unprocessed, y_test, silent = False)"
      ],
      "metadata": {
        "id": "6FV1uaMsLrMy"
      },
      "execution_count": null,
      "outputs": []
    },
    {
      "cell_type": "code",
      "source": [
        "mlp2ln22 = epoch_mini_batch(x_train_unprocessed, y_train, x_test_unprocessed, y_test, 0, [], \"ReLU\", 0.00000000000000000000000000000001, 1000, 1, track_acc = True, unnormalized = True)\n",
        "acc2ln22 = evaluate_mlp_acc(mlp2ln22, x_train_unprocessed, y_train, x_test_unprocessed, y_test, silent = False)"
      ],
      "metadata": {
        "id": "fgWfTJgmJe7-"
      },
      "execution_count": null,
      "outputs": []
    },
    {
      "cell_type": "code",
      "source": [
        "compare_learning_rates_unnormalized(x_train_unprocessed, y_train, x_test_unprocessed, y_test, [0.001, 0.0001, 0.00001, 0.000001, 0.0000001, 0.00000001])"
      ],
      "metadata": {
        "id": "48LUrx4lrHh5",
        "outputId": "211c3c48-5c55-4127-8bc5-e294d8953e2a",
        "colab": {
          "base_uri": "https://localhost:8080/"
        }
      },
      "execution_count": 43,
      "outputs": [
        {
          "output_type": "stream",
          "name": "stdout",
          "text": [
            "Testing accuracy for learning rate 0.001\n",
            "\t2 hidden layers: 10.0%\n",
            "\n",
            "Testing accuracy for learning rate 0.0001\n",
            "\t2 hidden layers: 66.58%\n",
            "\n",
            "Testing accuracy for learning rate 1e-05\n",
            "\t2 hidden layers: 51.43%\n",
            "\n",
            "Testing accuracy for learning rate 1e-06\n",
            "\t2 hidden layers: 28.53%\n",
            "\n",
            "Testing accuracy for learning rate 1e-07\n",
            "\t2 hidden layers: 16.21%\n",
            "\n",
            "Testing accuracy for learning rate 1e-07\n",
            "\t2 hidden layers: 16.21%\n",
            "\n"
          ]
        }
      ]
    },
    {
      "cell_type": "code",
      "source": [
        "sys.float_info.min"
      ],
      "metadata": {
        "id": "w9U7q-Bj6TaL",
        "outputId": "e579a552-7e2a-4b99-88cd-4d08e24f0b6e",
        "colab": {
          "base_uri": "https://localhost:8080/"
        }
      },
      "execution_count": 69,
      "outputs": [
        {
          "output_type": "execute_result",
          "data": {
            "text/plain": [
              "2.2250738585072014e-308"
            ]
          },
          "metadata": {},
          "execution_count": 69
        }
      ]
    },
    {
      "cell_type": "code",
      "source": [
        "np.log(sys.float_info.min)"
      ],
      "metadata": {
        "id": "kPCU_vkw6ZAQ",
        "outputId": "46f3624a-277e-458e-8de9-da0b2e772b7b",
        "colab": {
          "base_uri": "https://localhost:8080/"
        }
      },
      "execution_count": 71,
      "outputs": [
        {
          "output_type": "execute_result",
          "data": {
            "text/plain": [
              "-708.3964185322641"
            ]
          },
          "metadata": {},
          "execution_count": 71
        }
      ]
    },
    {
      "cell_type": "code",
      "source": [
        "### training and testing 2 hidden layers with ReLu activation functions\n",
        "\n",
        "mlp2ln2 = epoch_mini_batch(x_train_unprocessed, y_train, x_test_unprocessed, y_test, 2, [128, 128], \"ReLU\", 0.0001, 1000, 3, track_acc = True)\n",
        "acc2ln2 = evaluate_mlp_acc(mlp2ln2, x_train_unprocessed, y_train, x_test_unprocessed, y_test, silent = False)"
      ],
      "metadata": {
        "id": "NBJgJN9rvR6m",
        "outputId": "115d71f9-bb6d-4ea4-b4ce-e116b76a5032",
        "colab": {
          "base_uri": "https://localhost:8080/",
          "height": 1000
        }
      },
      "execution_count": 87,
      "outputs": [
        {
          "output_type": "stream",
          "name": "stdout",
          "text": [
            "prediction probs\n",
            "[[2.72836996e-119 0.00000000e+000 3.04841143e-085 ... 5.05893947e-082\n",
            "  2.55678003e-082 6.02553239e-065]\n",
            " [3.25035883e-092 7.16488698e-069 7.33624732e-069 ... 9.99999982e-001\n",
            "  7.41899198e-039 7.17713793e-055]\n",
            " [2.69562727e-059 1.80407144e-094 1.09144668e-022 ... 0.00000000e+000\n",
            "  2.68244203e-053 3.06442331e-063]\n",
            " ...\n",
            " [9.63382179e-110 0.00000000e+000 2.62390015e-085 ... 8.29201270e-124\n",
            "  7.91387193e-083 1.00000000e+000]\n",
            " [3.58703759e-087 2.59530228e-076 6.93256705e-048 ... 3.70865547e-027\n",
            "  3.43167450e-001 1.27478075e-046]\n",
            " [4.05181951e-092 9.89797492e-001 1.92997714e-036 ... 0.00000000e+000\n",
            "  5.83469106e-016 3.36176255e-041]]\n"
          ]
        },
        {
          "output_type": "stream",
          "name": "stderr",
          "text": [
            "IOPub data rate exceeded.\n",
            "The notebook server will temporarily stop sending output\n",
            "to the client in order to avoid crashing it.\n",
            "To change this limit, set the config variable\n",
            "`--NotebookApp.iopub_data_rate_limit`.\n",
            "\n",
            "Current values:\n",
            "NotebookApp.iopub_data_rate_limit=1000000.0 (bytes/sec)\n",
            "NotebookApp.rate_limit_window=3.0 (secs)\n",
            "\n"
          ]
        },
        {
          "output_type": "stream",
          "name": "stdout",
          "text": [
            "prediction probs\n",
            "[[4.18732166e-016 1.66461691e-100 3.55982816e-055 ... 1.80156332e-116\n",
            "  1.01317849e-032 1.02854445e-067]\n",
            " [1.80243473e-089 7.32867708e-104 1.00000000e+000 ... 4.45123993e-021\n",
            "  8.77216389e-050 0.00000000e+000]\n",
            " [1.58511473e-060 9.08806581e-059 1.00068474e-045 ... 2.00832719e-031\n",
            "  1.80397629e-050 1.00000000e+000]\n",
            " ...\n",
            " [2.52064278e-072 1.00000000e+000 6.31812089e-077 ... 0.00000000e+000\n",
            "  5.57306108e-076 1.06158312e-150]\n",
            " [8.29074286e-096 0.00000000e+000 6.66382296e-064 ... 5.63639636e-079\n",
            "  1.77219592e-037 1.00000000e+000]\n",
            " [9.00939822e-050 2.74419740e-120 3.08919840e-003 ... 7.85981009e-090\n",
            "  9.96910802e-001 2.61711894e-081]]\n",
            "prediction probs\n"
          ]
        },
        {
          "output_type": "stream",
          "name": "stderr",
          "text": [
            "IOPub data rate exceeded.\n",
            "The notebook server will temporarily stop sending output\n",
            "to the client in order to avoid crashing it.\n",
            "To change this limit, set the config variable\n",
            "`--NotebookApp.iopub_data_rate_limit`.\n",
            "\n",
            "Current values:\n",
            "NotebookApp.iopub_data_rate_limit=1000000.0 (bytes/sec)\n",
            "NotebookApp.rate_limit_window=3.0 (secs)\n",
            "\n"
          ]
        },
        {
          "output_type": "stream",
          "name": "stdout",
          "text": [
            "prediction probs\n",
            "[[2.32436805e-071 1.00000000e+000 3.28401521e-079 ... 0.00000000e+000\n",
            "  3.20859066e-098 6.55912966e-114]\n",
            " [2.31120660e-109 0.00000000e+000 3.63656600e-099 ... 3.22950265e-059\n",
            "  2.47915985e-068 1.00000000e+000]\n",
            " [8.47163123e-058 1.28118277e-080 2.37728286e-004 ... 0.00000000e+000\n",
            "  5.06755221e-066 3.14774123e-084]\n",
            " ...\n",
            " [0.00000000e+000 0.00000000e+000 2.69498882e-047 ... 9.99999997e-001\n",
            "  2.67611514e-009 6.39820350e-052]\n",
            " [1.00000000e+000 1.22448848e-111 6.39493103e-102 ... 2.11955977e-148\n",
            "  6.42172971e-103 8.89662082e-116]\n",
            " [0.00000000e+000 9.32073818e-103 4.62403749e-072 ... 9.92481532e-011\n",
            "  4.49379693e-039 1.69348570e-044]]\n",
            "prediction probs\n"
          ]
        },
        {
          "output_type": "stream",
          "name": "stderr",
          "text": [
            "IOPub data rate exceeded.\n",
            "The notebook server will temporarily stop sending output\n",
            "to the client in order to avoid crashing it.\n",
            "To change this limit, set the config variable\n",
            "`--NotebookApp.iopub_data_rate_limit`.\n",
            "\n",
            "Current values:\n",
            "NotebookApp.iopub_data_rate_limit=1000000.0 (bytes/sec)\n",
            "NotebookApp.rate_limit_window=3.0 (secs)\n",
            "\n"
          ]
        },
        {
          "output_type": "stream",
          "name": "stdout",
          "text": [
            "The accuracy of the model on the training data: 67.8%\n",
            "The accuracy of the model on the testing data: 66.58%\n",
            "\n",
            "\n"
          ]
        },
        {
          "output_type": "display_data",
          "data": {
            "text/plain": [
              "<Figure size 576x288 with 1 Axes>"
            ],
            "image/png": "[encoded data removed]"
          },
          "metadata": {
            "needs_background": "light"
          }
        },
        {
          "output_type": "display_data",
          "data": {
            "text/plain": [
              "<Figure size 576x288 with 1 Axes>"
            ],
            "image/png": "[encoded data removed]"
          },
          "metadata": {
            "needs_background": "light"
          }
        }
      ]
    },
    {
      "cell_type": "code",
      "source": [
        "-sys.float_info.max"
      ],
      "metadata": {
        "id": "4nCCbByh4wSb",
        "outputId": "4a526f2c-8baf-45ec-c515-c5834c0a3e10",
        "colab": {
          "base_uri": "https://localhost:8080/"
        }
      },
      "execution_count": 66,
      "outputs": [
        {
          "output_type": "execute_result",
          "data": {
            "text/plain": [
              "-1.7976931348623157e+308"
            ]
          },
          "metadata": {},
          "execution_count": 66
        }
      ]
    },
    {
      "cell_type": "code",
      "source": [
        "### training and testing 2 hidden layers with ReLu activation functions\n",
        "\n",
        "mlp2ln2 = epoch_mini_batch(x_train_unprocessed, y_train, x_test_unprocessed, y_test, 2, [128, 128], \"ReLU\", 0.0001, 1000, 20, track_acc = True)\n",
        "acc2ln2 = evaluate_mlp_acc(mlp2ln2, x_train_unprocessed, y_train, x_test_unprocessed, y_test, silent = False)"
      ],
      "metadata": {
        "id": "wnF22Rzos7_r",
        "outputId": "f622ae41-7342-4a04-ad01-884efe812a7a",
        "colab": {
          "base_uri": "https://localhost:8080/",
          "height": 1000
        }
      },
      "execution_count": 45,
      "outputs": [
        {
          "output_type": "stream",
          "name": "stdout",
          "text": [
            "prediction probs\n",
            "[[2.72836996e-119 0.00000000e+000 3.04841143e-085 ... 5.05893947e-082\n",
            "  2.55678003e-082 6.02553239e-065]\n",
            " [3.25035883e-092 7.16488698e-069 7.33624732e-069 ... 9.99999982e-001\n",
            "  7.41899198e-039 7.17713793e-055]\n",
            " [2.69562727e-059 1.80407144e-094 1.09144668e-022 ... 0.00000000e+000\n",
            "  2.68244203e-053 3.06442331e-063]\n",
            " ...\n",
            " [9.63382179e-110 0.00000000e+000 2.62390015e-085 ... 8.29201270e-124\n",
            "  7.91387193e-083 1.00000000e+000]\n",
            " [3.58703759e-087 2.59530228e-076 6.93256705e-048 ... 3.70865547e-027\n",
            "  3.43167450e-001 1.27478075e-046]\n",
            " [4.05181951e-092 9.89797492e-001 1.92997714e-036 ... 0.00000000e+000\n",
            "  5.83469106e-016 3.36176255e-041]]\n",
            "log\n",
            "[[-2.73003922e+02            -inf -1.94605112e+02 ... -1.87190821e+02\n",
            "  -1.87873229e+02 -1.47872025e+02]\n",
            " [-2.10659063e+02 -1.56909179e+02 -1.56885544e+02 ... -1.75571292e-08\n",
            "  -8.77967754e+01 -1.24671279e+02]\n",
            " [-1.34860890e+02 -2.15852953e+02 -5.05693680e+01 ...            -inf\n",
            "  -1.21050282e+02 -1.43943001e+02]\n",
            " ...\n",
            " [-2.51019080e+02            -inf -1.94755071e+02 ... -2.83405259e+02\n",
            "  -1.89045946e+02  0.00000000e+00]\n",
            " [-1.99047576e+02 -1.74042764e+02 -1.08587854e+02 ... -6.08591281e+01\n",
            "  -1.06953676e+00 -1.05676140e+02]\n",
            " [-2.10438663e+02 -1.02549103e-02 -8.22355552e+01 ...            -inf\n",
            "  -3.50775402e+01 -9.31935234e+01]]\n",
            "prediction probs\n",
            "[[4.18732166e-016 1.66461691e-100 3.55982816e-055 ... 1.80156332e-116\n",
            "  1.01317849e-032 1.02854445e-067]\n",
            " [1.80243473e-089 7.32867708e-104 1.00000000e+000 ... 4.45123993e-021\n",
            "  8.77216389e-050 0.00000000e+000]\n",
            " [1.58511473e-060 9.08806581e-059 1.00068474e-045 ... 2.00832719e-031\n",
            "  1.80397629e-050 1.00000000e+000]\n",
            " ...\n",
            " [2.52064278e-072 1.00000000e+000 6.31812089e-077 ... 0.00000000e+000\n",
            "  5.57306108e-076 1.06158312e-150]\n",
            " [8.29074286e-096 0.00000000e+000 6.66382296e-064 ... 5.63639636e-079\n",
            "  1.77219592e-037 1.00000000e+000]\n",
            " [9.00939822e-050 2.74419740e-120 3.08919840e-003 ... 7.85981009e-090\n",
            "  9.96910802e-001 2.61711894e-081]]\n",
            "log\n",
            "[[-3.54093002e+01 -2.29748914e+02 -1.25372468e+02 ... -2.66511216e+02\n",
            "  -7.36696306e+01 -1.54245057e+02]\n",
            " [-2.04340935e+02 -2.37477055e+02  0.00000000e+00 ... -4.68611043e+01\n",
            "  -1.12957671e+02            -inf]\n",
            " [-1.37694449e+02 -1.33645558e+02 -1.03615645e+02 ... -7.06828358e+01\n",
            "  -1.14539261e+02  0.00000000e+00]\n",
            " ...\n",
            " [-1.64861613e+02  0.00000000e+00 -1.75455630e+02 ...            -inf\n",
            "  -1.73278523e+02 -3.45328003e+02]\n",
            " [-2.18933029e+02            -inf -1.45468753e+02 ... -1.80174977e+02\n",
            "  -8.46234290e+01  0.00000000e+00]\n",
            " [-1.12930986e+02 -2.75300723e+02 -5.77984364e+00 ... -2.05170896e+02\n",
            "  -3.09397982e-03 -1.85547318e+02]]\n",
            "prediction probs\n",
            "[[2.32436805e-071 1.00000000e+000 3.28401521e-079 ... 0.00000000e+000\n",
            "  3.20859066e-098 6.55912966e-114]\n",
            " [2.31120660e-109 0.00000000e+000 3.63656600e-099 ... 3.22950265e-059\n",
            "  2.47915985e-068 1.00000000e+000]\n",
            " [8.47163123e-058 1.28118277e-080 2.37728286e-004 ... 0.00000000e+000\n",
            "  5.06755221e-066 3.14774123e-084]\n",
            " ...\n",
            " [0.00000000e+000 0.00000000e+000 2.69498882e-047 ... 9.99999997e-001\n",
            "  2.67611514e-009 6.39820350e-052]\n",
            " [1.00000000e+000 1.22448848e-111 6.39493103e-102 ... 2.11955977e-148\n",
            "  6.42172971e-103 8.89662082e-116]\n",
            " [0.00000000e+000 9.32073818e-103 4.62403749e-072 ... 9.92481532e-011\n",
            "  4.49379693e-039 1.69348570e-044]]\n",
            "log\n",
            "[[-1.62640093e+02  0.00000000e+00 -1.80715156e+02 ...            -inf\n",
            "  -2.24487507e+02 -2.60613843e+02]\n",
            " [-2.50144005e+02            -inf -2.26664884e+02 ... -1.34680192e+02\n",
            "  -1.55667867e+02  0.00000000e+00]\n",
            " [-1.31413212e+02 -1.83959024e+02 -8.34438219e+00 ...            -inf\n",
            "  -1.50347758e+02 -1.92270463e+02]\n",
            " ...\n",
            " [           -inf            -inf -1.07230105e+02 ... -2.67611522e-09\n",
            "  -1.97388997e+01 -1.17878408e+02]\n",
            " [ 0.00000000e+00 -2.55384422e+02 -2.33008174e+02 ... -3.40031385e+02\n",
            "  -2.35306577e+02 -2.64914199e+02]\n",
            " [           -inf -2.34934023e+02 -1.64254858e+02 ... -2.30333978e+01\n",
            "  -8.82981206e+01 -1.00786955e+02]]\n",
            "prediction probs\n",
            "[[1.00000000e+000 4.26615591e-017 6.26677481e-012 ... 1.92470709e-063\n",
            "  1.91261648e-037 5.00544846e-062]\n",
            " [7.92323455e-038 2.07928853e-063 8.53735235e-050 ... 9.99999484e-001\n",
            "  9.47644182e-024 2.16060671e-041]\n",
            " [2.92083280e-122 2.07774196e-131 2.94220502e-069 ... 1.62371448e-126\n",
            "  1.40239458e-120 1.00000000e+000]\n",
            " ...\n",
            " [3.02805608e-058 4.63280853e-049 6.48392200e-033 ... 1.00000000e+000\n",
            "  2.29690906e-026 7.54678189e-026]\n",
            " [6.80874548e-028 4.62931585e-046 1.37263467e-009 ... 1.68351621e-032\n",
            "  6.26901718e-034 2.24022218e-081]\n",
            " [2.07761645e-002 2.01810731e-075 2.37433605e-035 ... 7.91857820e-085\n",
            "  4.50344656e-027 1.40084349e-059]]\n",
            "log\n",
            "[[-6.29984953e-12 -3.76932334e+01 -2.57957593e+01 ... -1.44408087e+02\n",
            "  -8.45471763e+01 -1.41149749e+02]\n",
            " [-8.54284340e+01 -1.44330835e+02 -1.12984804e+02 ... -5.15840010e-07\n",
            "  -5.30132333e+01 -9.36355997e+01]\n",
            " [-2.79843513e+02 -3.00907365e+02 -1.57799212e+02 ... -2.89641005e+02\n",
            "  -2.75972030e+02  0.00000000e+00]\n",
            " ...\n",
            " [-1.32442015e+02 -1.11293506e+02 -7.41159825e+01 ... -1.11022302e-16\n",
            "  -5.90356481e+01 -5.78460912e+01]\n",
            " [-6.25541747e+01 -1.04386505e+02 -2.04065338e+01 ... -7.31618384e+01\n",
            "  -7.64522736e+01 -1.85702817e+02]\n",
            " [-3.87394889e+00 -1.71991722e+02 -7.97257604e+01 ... -1.93650521e+02\n",
            "  -6.06649545e+01 -1.35515446e+02]]\n",
            "prediction probs\n",
            "[[4.83687482e-018 1.57321689e-009 5.75975392e-015 ... 1.25281554e-036\n",
            "  2.60803355e-008 9.41301818e-073]\n",
            " [8.72107361e-094 2.72898880e-096 3.30485605e-072 ... 1.39969446e-087\n",
            "  1.52758568e-158 1.00000000e+000]\n",
            " [5.65048026e-040 2.19946811e-057 1.52173205e-040 ... 3.53147299e-034\n",
            "  8.24455663e-038 4.63344517e-036]\n",
            " ...\n",
            " [2.27959201e-061 6.61798805e-064 6.42686009e-004 ... 1.38639702e-122\n",
            "  5.23599358e-041 2.96018992e-104]\n",
            " [1.05632787e-035 1.00000000e+000 5.07727361e-048 ... 2.97846481e-147\n",
            "  9.92591321e-063 3.86993891e-121]\n",
            " [5.93808691e-042 3.26044680e-069 9.99920218e-001 ... 4.01578122e-012\n",
            "  7.97820773e-005 6.39674332e-017]]\n",
            "log\n",
            "[[-3.98702629e+01 -2.02701433e+01 -3.27878816e+01 ... -8.26676699e+01\n",
            "  -1.74620842e+01 -1.65846618e+02]\n",
            " [-2.14277256e+02 -2.20044238e+02 -1.64590734e+02 ... -1.99988649e+02\n",
            "  -3.63384756e+02  0.00000000e+00]\n",
            " [-9.03716632e+01 -1.30459135e+02 -9.16835545e+01 ... -7.70261781e+01\n",
            "  -8.53886804e+01 -8.13597627e+01]\n",
            " ...\n",
            " [-1.39633694e+02 -1.45475655e+02 -7.34985427e+00 ... -2.80588673e+02\n",
            "  -9.27504322e+01 -2.38383596e+02]\n",
            " [-8.05356796e+01  0.00000000e+00 -1.08899310e+02 ... -3.37388601e+02\n",
            "  -1.42767712e+02 -2.77259558e+02]\n",
            " [-9.49271869e+01 -1.57696507e+02 -7.97852641e-05 ... -2.62407892e+01\n",
            "  -9.43621167e+00 -3.72881576e+01]]\n",
            "prediction probs\n",
            "[[8.35161829e-051 3.75536767e-029 7.61931592e-039 ... 9.85544278e-043\n",
            "  9.95860071e-001 1.46870343e-030]\n",
            " [1.00000000e+000 1.16709906e-049 4.41791278e-010 ... 8.07482292e-052\n",
            "  2.54940531e-036 4.04891881e-048]\n",
            " [1.84188063e-086 5.68910264e-073 3.29800646e-052 ... 3.00466223e-021\n",
            "  8.51810997e-006 9.99991482e-001]\n",
            " ...\n",
            " [1.31424027e-083 1.00000000e+000 2.56615932e-067 ... 1.78136954e-177\n",
            "  5.19222353e-105 5.59545261e-113]\n",
            " [1.07566478e-067 2.82688641e-053 4.85525846e-003 ... 8.83535868e-088\n",
            "  2.03742395e-022 4.53827740e-073]\n",
            " [1.76904404e-137 2.02588595e-109 1.69526511e-098 ... 1.00000000e+000\n",
            "  2.84324698e-040 1.36029016e-056]]\n",
            "log\n",
            "[[-1.15309384e+02 -6.54517815e+01 -8.77701320e+01 ... -9.67231351e+01\n",
            "  -4.14852225e-03 -6.86931728e+01]\n",
            " [-4.41791270e-10 -1.12672148e+02 -2.15401836e+01 ... -1.17645674e+02\n",
            "  -8.19572032e+01 -1.09125635e+02]\n",
            " [-1.97411531e+02 -1.66350159e+02 -1.18541107e+02 ... -4.72541218e+01\n",
            "  -1.16733161e+01 -8.51814632e-06]\n",
            " ...\n",
            " [-1.90841304e+02  0.00000000e+00 -1.53330791e+02 ... -4.06980179e+02\n",
            "  -2.40124273e+02 -2.58470161e+02]\n",
            " [-1.54200262e+02 -1.20997834e+02 -5.32769294e+00 ... -2.00448726e+02\n",
            "  -4.99451858e+01 -1.66576164e+02]\n",
            " [-3.14883718e+02 -2.50275768e+02 -2.25125500e+02 ...  0.00000000e+00\n",
            "  -9.10584570e+01 -1.28637067e+02]]\n",
            "prediction probs\n",
            "[[3.91595691e-123 5.99751832e-163 2.92899756e-086 ... 1.67756851e-113\n",
            "  1.44200271e-109 1.00000000e+000]\n",
            " [1.05619369e-049 1.98595496e-073 6.82419507e-011 ... 7.65373400e-069\n",
            "  1.56058881e-028 2.69624312e-085]\n",
            " [1.39642673e-022 3.77204733e-062 3.58454903e-031 ... 1.12278661e-097\n",
            "  1.30811261e-043 8.66296071e-055]\n",
            " ...\n",
            " [2.52680430e-087 6.29340973e-122 3.64630681e-099 ... 7.33843386e-032\n",
            "  7.93788656e-094 7.78434764e-110]\n",
            " [2.20442918e-076 1.18857236e-040 1.19631992e-004 ... 2.20025782e-151\n",
            "  4.31304423e-074 4.17452698e-094]\n",
            " [1.47706034e-030 2.10988167e-073 5.10745543e-016 ... 2.26947906e-029\n",
            "  3.91450521e-011 8.61253345e-022]]\n",
            "log\n",
            "[[-281.85290672 -373.53002439 -196.94765776 ... -259.67477008\n",
            "  -250.61574222    0.        ]\n",
            " [-112.77199797 -167.4026119   -23.40796163 ... -156.84317778\n",
            "   -64.02731941 -194.72787354]\n",
            " [ -50.32295541 -141.43265785  -70.10350521 ... -223.23494038\n",
            "   -98.74257365 -124.48312357]\n",
            " ...\n",
            " [-199.39794771 -279.07587833 -226.66220939 ...  -71.68959753\n",
            "  -214.37135168 -251.23224522]\n",
            " [-174.20599847  -91.93065083   -9.03109026 ... -346.9017745\n",
            "  -168.92965291 -215.01399769]\n",
            " [ -68.68749894 -167.34207992  -35.21066017 ...  -65.95541738\n",
            "   -23.96374708  -48.50365353]]\n",
            "prediction probs\n",
            "[[1.57817561e-004 3.32504142e-065 1.37153770e-017 ... 1.62980018e-050\n",
            "  1.39758318e-033 8.65583959e-068]\n",
            " [1.00000000e+000 9.14285467e-073 6.07409358e-051 ... 4.71208665e-081\n",
            "  1.10261753e-078 1.93070019e-102]\n",
            " [1.23873409e-040 9.95065076e-063 6.33185417e-068 ... 3.28538057e-143\n",
            "  1.86927476e-049 3.16904536e-110]\n",
            " ...\n",
            " [6.82150936e-076 2.13781258e-098 2.03241790e-019 ... 3.12418068e-080\n",
            "  2.91452607e-031 9.36257940e-056]\n",
            " [4.06534070e-053 1.00000000e+000 1.47367191e-067 ... 1.67762911e-145\n",
            "  5.77124010e-105 4.00384988e-073]\n",
            " [3.87685228e-029 3.35225074e-045 9.97972850e-001 ... 1.85098463e-086\n",
            "  1.40794048e-026 5.46316707e-080]]\n",
            "log\n",
            "[[-8.75407087e+00 -1.48466549e+02 -3.88280141e+01 ... -1.14640797e+02\n",
            "  -7.56505636e+01 -1.54417552e+02]\n",
            " [ 0.00000000e+00 -1.65875739e+02 -1.15627807e+02 ... -1.84959262e+02\n",
            "  -1.79503950e+02 -2.34205797e+02]\n",
            " [-9.18893138e+01 -1.42765223e+02 -1.54730193e+02 ... -3.28080186e+02\n",
            "  -1.12201119e+02 -2.52130930e+02]\n",
            " ...\n",
            " [-1.73076386e+02 -2.24893556e+02 -4.30398906e+01 ... -1.83067635e+02\n",
            "  -7.03104307e+01 -1.26708044e+02]\n",
            " [-1.20634512e+02  0.00000000e+00 -1.53885444e+02 ... -3.33357457e+02\n",
            "  -2.40018548e+02 -1.66701455e+02]\n",
            " [-6.54199441e+01 -1.02406697e+02 -2.02920741e-03 ... -1.97406600e+02\n",
            "  -5.95250844e+01 -1.82508779e+02]]\n",
            "prediction probs\n",
            "[[9.08071275e-001 3.58128137e-016 1.71785392e-025 ... 5.54202851e-090\n",
            "  3.55278757e-048 1.52197246e-050]\n",
            " [1.00000000e+000 2.82806083e-029 9.54590562e-031 ... 6.06376786e-065\n",
            "  6.96658972e-071 8.44945611e-050]\n",
            " [1.36051723e-039 2.79172924e-053 3.12051289e-032 ... 4.92921196e-066\n",
            "  1.99103545e-038 2.06259729e-075]\n",
            " ...\n",
            " [1.17150960e-035 3.10765209e-032 9.99998139e-001 ... 3.45641965e-125\n",
            "  1.61313778e-063 1.15529172e-082]\n",
            " [7.51791909e-005 7.64890453e-047 4.91719424e-022 ... 4.39007003e-045\n",
            "  1.53062431e-037 1.12788594e-037]\n",
            " [2.48226784e-077 1.36476375e-062 6.59833076e-031 ... 1.28512534e-028\n",
            "  1.80986354e-010 9.14524343e-024]]\n",
            "log\n",
            "[[-9.64324069e-02 -3.55656408e+01 -5.70235515e+01 ... -2.05520298e+02\n",
            "  -1.09256352e+02 -1.14709247e+02]\n",
            " [ 0.00000000e+00 -6.57353764e+01 -6.91240256e+01 ... -1.47865700e+02\n",
            "  -1.61542416e+02 -1.12995153e+02]\n",
            " [-8.94929537e+01 -1.21010349e+02 -7.25447256e+01 ... -1.50375437e+02\n",
            "  -8.68095787e+01 -1.71969916e+02]\n",
            " ...\n",
            " [-8.04321851e+01 -7.25488555e+01 -1.86144081e-06 ... -2.86582903e+02\n",
            "  -1.44584680e+02 -1.88667625e+02]\n",
            " [-9.49563608e+00 -1.06186937e+02 -4.90641340e+01 ... -1.02136984e+02\n",
            "  -8.47699727e+01 -8.50753034e+01]\n",
            " [-1.76389880e+02 -1.42449294e+02 -6.94933212e+01 ... -6.42215264e+01\n",
            "  -2.24325995e+01 -5.30488083e+01]]\n",
            "prediction probs\n",
            "[[2.32120421e-002 1.82944783e-107 2.26181802e-010 ... 1.89632844e-082\n",
            "  2.15973947e-035 1.54916438e-082]\n",
            " [3.86461235e-035 4.12327803e-067 4.56162126e-028 ... 3.80647832e-130\n",
            "  9.09195769e-055 2.69535647e-073]\n",
            " [3.68290972e-063 1.03209549e-090 5.43189993e-046 ... 1.00000000e+000\n",
            "  3.06966370e-036 3.10105200e-022]\n",
            " ...\n",
            " [6.43537926e-066 3.10403668e-045 8.65752801e-044 ... 8.07986996e-026\n",
            "  3.41618352e-010 1.12706119e-034]\n",
            " [1.20139225e-054 1.22893250e-092 2.73434748e-093 ... 4.14255725e-065\n",
            "  1.06333069e-044 5.47648177e-007]\n",
            " [1.13155047e-067 9.95373927e-106 2.71008716e-069 ... 5.93753449e-015\n",
            "  6.63648595e-039 3.47011010e-013]]\n",
            "log\n",
            "[[  -3.76308408 -245.77259076  -22.20968201 ... -188.17205801\n",
            "   -79.82049066 -188.37426195]\n",
            " [ -79.23861688 -152.85655274  -62.9547045  ... -297.99935765\n",
            "  -124.43478986 -167.09718132]\n",
            " [-143.75915773 -207.20106718 -104.22662531 ...    0.\n",
            "   -81.77149534  -49.52513064]\n",
            " ...\n",
            " [-150.10880536 -102.48362576  -99.15531486 ...  -57.77783664\n",
            "   -21.79732693  -78.16827964]\n",
            " [-124.15611393 -211.63168265 -213.13452082 ... -148.24671775\n",
            "  -101.25233795  -14.41763277]\n",
            " [-154.14961244 -241.77607157 -157.88139062 ...  -32.75748242\n",
            "   -87.90823603  -28.68941989]]\n",
            "prediction probs\n",
            "[[1.24461503e-18 8.16152744e-29 2.24387403e-10 ... 1.69098831e-26\n",
            "  4.32020734e-34 3.26653688e-37]\n",
            " [1.53676391e-41 9.49058076e-69 9.90604606e-47 ... 9.10126608e-34\n",
            "  1.00000000e+00 3.06689931e-20]\n",
            " [2.44059526e-08 9.21237403e-11 3.71720683e-39 ... 2.08967480e-96\n",
            "  8.48458542e-82 9.61288675e-57]\n",
            " ...\n",
            " [7.42762745e-08 2.68079949e-24 6.21076930e-43 ... 3.89502548e-84\n",
            "  9.18693646e-42 5.83649819e-83]\n",
            " [1.35268445e-95 6.55907740e-70 3.08852241e-59 ... 1.00000000e+00\n",
            "  3.83332560e-40 3.87199653e-44]\n",
            " [2.89701351e-06 3.77573946e-37 3.33867347e-46 ... 6.75860957e-21\n",
            "  3.10742633e-15 5.64375210e-26]]\n",
            "log\n",
            "[[ -41.2277054   -64.67553636  -22.21764708 ...  -59.34189926\n",
            "   -76.82458977  -84.01191808]\n",
            " [ -93.97630996 -156.62807161 -105.92835409 ...  -76.07947963\n",
            "     0.          -44.93103481]\n",
            " [ -17.52843877  -23.10788844  -88.48784609 ... -220.31116047\n",
            "  -186.67372659 -128.98424573]\n",
            " ...\n",
            " [ -16.41547426  -54.27592717  -97.18487423 ... -192.05744759\n",
            "   -94.49079138 -189.35043173]\n",
            " [-218.44349274 -159.30010656 -134.72482769 ...    0.\n",
            "   -90.75967099  -99.95997382]\n",
            " [ -12.75183017  -83.86705219 -104.71334072 ...  -46.44346977\n",
            "   -33.40498156  -58.13666331]]\n",
            "prediction probs\n",
            "[[7.32434306e-042 3.33111920e-078 4.44921464e-030 ... 3.74664993e-032\n",
            "  1.00000000e+000 9.24099091e-082]\n",
            " [9.99258777e-001 1.30080571e-066 1.87974040e-007 ... 8.55845678e-056\n",
            "  1.62256589e-053 1.85170885e-064]\n",
            " [3.99016800e-035 1.55667446e-039 1.29162229e-003 ... 1.34075734e-063\n",
            "  6.94461946e-027 2.01214403e-060]\n",
            " ...\n",
            " [2.98314426e-055 1.00000000e+000 1.58897711e-065 ... 1.12956107e-151\n",
            "  1.99515194e-105 4.59540897e-084]\n",
            " [4.83810744e-016 1.53623675e-078 4.01511971e-019 ... 2.79499338e-049\n",
            "  1.00000000e+000 8.33284626e-074]\n",
            " [2.70201070e-003 1.63099668e-012 7.91042808e-001 ... 1.15493673e-077\n",
            "  2.56685933e-042 4.96810098e-049]]\n",
            "log\n",
            "[[-9.47173704e+01 -1.78398329e+02 -6.75848252e+01 ... -7.23618609e+01\n",
            "   0.00000000e+00 -1.86588329e+02]\n",
            " [-7.41498252e-04 -1.51707632e+02 -1.54869620e+01 ... -1.26797845e+02\n",
            "  -1.21553001e+02 -1.46749337e+02]\n",
            " [-7.92066449e+01 -8.93582668e+01 -6.65185626e+00 ... -1.44769626e+02\n",
            "  -6.02318303e+01 -1.37455905e+02]\n",
            " ...\n",
            " [-1.25549202e+02  0.00000000e+00 -1.49204941e+02 ... -3.47568520e+02\n",
            "  -2.41080715e+02 -1.91892090e+02]\n",
            " [-3.52648379e+01 -1.79172301e+02 -4.23590496e+01 ... -1.11798840e+02\n",
            "  -4.44089210e-15 -1.68271092e+02]\n",
            " [-5.91375908e+00 -2.71418298e+01 -2.34403194e-01 ... -1.77155007e+02\n",
            "  -9.57658908e+01 -1.11223632e+02]]\n",
            "prediction probs\n",
            "[[8.50708459e-055 3.98907423e-070 8.36345898e-016 ... 7.48977856e-101\n",
            "  7.39301185e-040 1.99017098e-086]\n",
            " [4.00754810e-026 2.23326866e-100 8.26275515e-016 ... 4.72998353e-087\n",
            "  4.58518492e-020 8.20411789e-070]\n",
            " [4.59846619e-078 1.38106300e-081 1.80746718e-076 ... 1.00000000e+000\n",
            "  9.13165183e-021 1.09473483e-023]\n",
            " ...\n",
            " [7.98772380e-036 1.20683258e-070 4.82237870e-023 ... 1.53534967e-101\n",
            "  1.46499275e-046 2.30215489e-068]\n",
            " [3.67704221e-001 3.10486821e-047 1.61972441e-005 ... 4.62660291e-037\n",
            "  1.95241350e-020 2.30778212e-047]\n",
            " [1.60404463e-056 3.12594189e-078 5.29126407e-037 ... 1.39319820e-023\n",
            "  1.00000000e+000 1.22127735e-027]]\n",
            "log\n",
            "[[-124.50128082 -159.79739733  -34.71748939 ... -230.54755516\n",
            "   -90.10286851 -197.33409744]\n",
            " [ -58.47903281 -229.45504302  -34.7296034  ... -198.77098137\n",
            "   -44.52887142 -159.0763203 ]\n",
            " [-178.07591444 -186.18653904 -174.40454055 ...    0.\n",
            "   -46.14254035  -52.86894497]\n",
            " ...\n",
            " [ -80.81515751 -160.99295729  -51.38618983 ... -232.13233624\n",
            "  -105.53706398 -155.74194073]\n",
            " [  -1.00047641 -107.0885281   -11.03066945 ...  -83.66382555\n",
            "   -45.38263556 -107.38521243]\n",
            " [-128.47223688 -178.46190161  -83.52959127 ...  -52.62785517\n",
            "     0.          -61.96990019]]\n",
            "prediction probs\n",
            "[[8.43886282e-40 1.98608276e-37 1.91132898e-03 ... 5.15864627e-91\n",
            "  2.44770336e-25 1.94238863e-51]\n",
            " [2.79995275e-01 1.63659647e-41 7.19567526e-01 ... 1.83439269e-39\n",
            "  7.25527567e-10 9.94625647e-70]\n",
            " [9.99999771e-01 1.18379333e-60 1.03892695e-18 ... 8.10386690e-61\n",
            "  6.00669396e-38 6.16532818e-61]\n",
            " ...\n",
            " [1.05140728e-38 1.67808651e-37 1.68331022e-02 ... 1.47474514e-93\n",
            "  4.04939395e-35 2.67893980e-69]\n",
            " [5.96822357e-88 2.84777508e-80 5.48048481e-35 ... 1.22863281e-49\n",
            "  5.02002074e-48 1.00000000e+00]\n",
            " [5.12533942e-21 7.65315786e-17 9.99999998e-01 ... 7.92971536e-97\n",
            "  5.69913180e-28 6.20373607e-71]]\n",
            "log\n",
            "[[-8.99705562e+01 -8.45094842e+01 -6.25995648e+00 ... -2.07894569e+02\n",
            "  -5.66694771e+01 -1.16767921e+02]\n",
            " [-1.27298255e+00 -9.39133701e+01 -3.29104905e-01 ... -8.91941052e+01\n",
            "  -2.10441220e+01 -1.58883760e+02]\n",
            " [-2.29139946e-07 -1.37986382e+02 -4.14083433e+01 ... -1.38365349e+02\n",
            "  -8.57053590e+01 -1.38638749e+02]\n",
            " ...\n",
            " [-8.74481040e+01 -8.46779943e+01 -4.08440796e+00 ... -2.13751928e+02\n",
            "  -7.91919110e+01 -1.57892950e+02]\n",
            " [-2.00841039e+02 -1.83160269e+02 -7.88892847e+01 ... -1.12620768e+02\n",
            "  -1.08910650e+02  0.00000000e+00]\n",
            " [-4.67200902e+01 -3.71088282e+01 -2.18332097e-09 ... -2.21280137e+02\n",
            "  -6.27320688e+01 -1.61658390e+02]]\n",
            "prediction probs\n",
            "[[2.01655159e-028 1.00000000e+000 4.17632742e-041 ... 1.59346669e-144\n",
            "  5.34555389e-074 3.92174480e-102]\n",
            " [8.94644784e-038 1.00000000e+000 1.92142571e-060 ... 1.45099664e-125\n",
            "  1.08508089e-079 4.00560451e-108]\n",
            " [4.55616099e-021 7.89560170e-127 7.36211543e-058 ... 3.30832618e-073\n",
            "  1.00000000e+000 1.57029196e-042]\n",
            " ...\n",
            " [2.97607369e-043 3.33923674e-111 2.27058811e-035 ... 3.30553969e-044\n",
            "  1.00000000e+000 2.06938968e-039]\n",
            " [3.28215019e-064 3.35025519e-105 2.55709379e-067 ... 2.42624945e-002\n",
            "  5.32375378e-044 9.75737505e-001]\n",
            " [6.56470416e-066 1.00000000e+000 3.58694910e-076 ... 4.57167360e-165\n",
            "  6.93933752e-099 1.83095093e-132]]\n",
            "log\n",
            "[[-6.37709937e+01  0.00000000e+00 -9.29765566e+01 ... -3.31106341e+02\n",
            "  -1.68715032e+02 -2.33497143e+02]\n",
            " [-8.53069770e+01  0.00000000e+00 -1.37502038e+02 ... -2.87450886e+02\n",
            "  -1.81822568e+02 -2.47291496e+02]\n",
            " [-4.68378066e+01 -2.90362001e+02 -1.31553588e+02 ... -1.66892269e+02\n",
            "   0.00000000e+00 -9.62573123e+01]\n",
            " ...\n",
            " [-9.79205541e+01 -2.54381203e+02 -7.97704394e+01 ... -1.00118144e+02\n",
            "   0.00000000e+00 -8.90735649e+01]\n",
            " [-1.46176947e+02 -2.40562398e+02 -1.53334330e+02 ... -3.71882356e+00\n",
            "  -9.96415654e+01 -2.45616780e-02]\n",
            " [-1.50088909e+02  0.00000000e+00 -1.73719165e+02 ... -3.78406661e+02\n",
            "  -2.26018718e+02 -3.03336397e+02]]\n",
            "prediction probs\n",
            "[[4.67272265e-039 1.33947780e-031 4.79552713e-013 ... 6.02799192e-079\n",
            "  1.04023173e-043 1.06532087e-059]\n",
            " [2.02475036e-063 2.03215853e-063 3.72178279e-044 ... 4.72136818e-053\n",
            "  6.42879771e-052 1.31945190e-041]\n",
            " [1.26991771e-030 7.59357530e-091 8.87642837e-030 ... 5.98813572e-034\n",
            "  1.00000000e+000 2.81361556e-021]\n",
            " ...\n",
            " [5.47278637e-061 2.50360901e-076 2.57118318e-067 ... 1.00000000e+000\n",
            "  5.11620765e-023 3.08856796e-023]\n",
            " [7.13110791e-064 1.62525306e-092 3.80983298e-066 ... 6.24321816e-009\n",
            "  3.18540037e-035 9.99999994e-001]\n",
            " [2.33335596e-054 6.09479850e-103 4.24080570e-039 ... 8.94617893e-075\n",
            "  1.00000000e+000 1.47784684e-060]]\n",
            "log\n",
            "[[-8.82590767e+01 -7.10878580e+01 -2.83659226e+01 ... -1.80107808e+02\n",
            "  -9.89717155e+01 -1.35789244e+02]\n",
            " [-1.44357414e+02 -1.44353762e+02 -9.99995413e+01 ... -1.20484911e+02\n",
            "  -1.17873637e+02 -9.41287724e+01]\n",
            " [-6.88386007e+01 -2.07507941e+02 -6.68941535e+01 ... -7.64981130e+01\n",
            "   0.00000000e+00 -4.73198166e+01]\n",
            " ...\n",
            " [-1.38757903e+02 -1.74078734e+02 -1.53328835e+02 ...  0.00000000e+00\n",
            "  -5.13270437e+01 -5.18317496e+01]\n",
            " [-1.45400979e+02 -2.11352165e+02 -1.50633031e+02 ... -1.88917701e+01\n",
            "  -7.94319003e+01 -6.24321818e-09]\n",
            " [-1.23492287e+02 -2.35358829e+02 -8.83560654e+01 ... -1.70502655e+02\n",
            "  -3.22135763e-10 -1.37764519e+02]]\n",
            "prediction probs\n",
            "[[8.37934709e-085 4.34912877e-104 4.49287669e-052 ... 4.75820300e-029\n",
            "  2.11344501e-017 1.45879184e-036]\n",
            " [2.11370597e-033 8.47014854e-051 2.21173371e-021 ... 6.37336182e-050\n",
            "  9.98512657e-001 6.35319013e-030]\n",
            " [1.00651013e-048 8.39591880e-048 2.36105911e-004 ... 5.69016905e-124\n",
            "  2.00080314e-039 4.63021843e-063]\n",
            " ...\n",
            " [1.85960756e-010 4.02434559e-038 1.39518197e-025 ... 1.35626290e-071\n",
            "  3.20897833e-023 2.03230807e-063]\n",
            " [9.85311925e-001 9.69291643e-042 6.04327755e-013 ... 2.78840718e-034\n",
            "  3.10339714e-012 7.87896461e-035]\n",
            " [1.69974381e-008 9.99999983e-001 1.29645156e-022 ... 5.03936633e-095\n",
            "  8.62819113e-032 1.98403412e-080]]\n",
            "log\n",
            "[[-1.93593963e+02 -2.37998874e+02 -1.18231932e+02 ... -6.52150976e+01\n",
            "  -3.83956273e+01 -8.25154548e+01]\n",
            " [-7.52368653e+01 -1.15295292e+02 -4.75605103e+01 ... -1.13277128e+02\n",
            "  -1.48845037e-03 -6.72285957e+01]\n",
            " [-1.10517595e+02 -1.08396339e+02 -8.35123008e+00 ... -2.83781812e+02\n",
            "  -8.91072700e+01 -1.43530257e+02]\n",
            " ...\n",
            " [-2.24054855e+01 -8.61058712e+01 -5.72316025e+01 ... -1.63178809e+02\n",
            "  -5.17935045e+01 -1.44353689e+02]\n",
            " [-1.47970132e-02 -9.44371786e+01 -2.81346597e+01 ... -7.72624226e+01\n",
            "  -2.64985238e+01 -7.85262818e+01]\n",
            " [-1.78902032e+01 -1.69974383e-08 -5.03972411e+01 ... -2.17128303e+02\n",
            "  -7.15276881e+01 -1.83521675e+02]]\n",
            "prediction probs\n",
            "[[5.42542455e-017 5.69310200e-059 1.05236235e-011 ... 1.43534982e-087\n",
            "  1.92803869e-012 2.87502152e-046]\n",
            " [2.01144281e-042 1.33798587e-036 9.53224682e-029 ... 9.99706460e-001\n",
            "  1.80324134e-011 4.20463355e-006]\n",
            " [2.09961078e-072 2.47546357e-106 8.88504734e-080 ... 1.00000000e+000\n",
            "  1.20116825e-038 1.32588718e-026]\n",
            " ...\n",
            " [5.50758899e-058 3.68717634e-087 4.57541739e-058 ... 5.72446490e-022\n",
            "  2.99766917e-040 1.00000000e+000]\n",
            " [5.87824037e-040 1.21723705e-068 2.11689699e-056 ... 2.08253025e-005\n",
            "  2.12090843e-011 1.41315893e-010]\n",
            " [1.48958322e-016 2.47623739e-034 9.45676359e-001 ... 3.91718432e-060\n",
            "  1.35868405e-024 2.99166154e-056]]\n",
            "log\n",
            "[[-3.74528504e+01 -1.34113265e+02 -2.52773985e+01 ... -1.99963494e+02\n",
            "  -2.69745179e+01 -1.04862854e+02]\n",
            " [-9.60097216e+01 -8.26018979e+01 -6.45202872e+01 ... -2.93583181e-04\n",
            "  -2.47388502e+01 -1.23793234e+01]\n",
            " [-1.65044375e+02 -2.43167592e+02 -1.82022438e+02 ...  0.00000000e+00\n",
            "  -8.73149389e+01 -5.95851306e+01]\n",
            " ...\n",
            " [-1.31843808e+02 -1.99020042e+02 -1.32029237e+02 ... -4.89121230e+01\n",
            "  -9.10055687e+01  0.00000000e+00]\n",
            " [-9.03321463e+01 -1.56379203e+02 -1.28194814e+02 ... -1.07793418e+01\n",
            "  -2.45765915e+01 -2.26800234e+01]\n",
            " [-3.64428651e+01 -7.73811529e+01 -5.58548832e-02 ... -1.36789732e+02\n",
            "  -5.49555256e+01 -1.27848936e+02]]\n",
            "prediction probs\n",
            "[[9.97329926e-001 3.02413904e-034 2.47847967e-022 ... 8.30174039e-036\n",
            "  6.14223523e-022 6.30347240e-035]\n",
            " [3.93763436e-033 1.94603796e-023 5.90555935e-037 ... 2.67603757e-079\n",
            "  1.91117602e-011 8.99104274e-058]\n",
            " [1.27329588e-060 1.29539166e-064 7.05478808e-022 ... 1.29798008e-093\n",
            "  8.46259397e-057 1.00524173e-073]\n",
            " ...\n",
            " [1.08656371e-039 9.93626185e-045 1.10177622e-029 ... 9.99517387e-001\n",
            "  2.06026803e-025 4.80509277e-012]\n",
            " [1.56807216e-026 2.07128981e-031 9.99995435e-001 ... 6.75121415e-107\n",
            "  9.18785292e-041 2.51307863e-056]\n",
            " [2.83818581e-030 1.22774729e-054 1.16346568e-033 ... 4.26981502e-083\n",
            "  2.60667898e-052 9.47790703e-095]]\n",
            "log\n",
            "[[-2.67364476e-03 -7.71812667e+01 -4.97492267e+01 ... -8.07765982e+01\n",
            "  -4.88416833e+01 -7.87493776e+01]\n",
            " [-7.46147279e+01 -5.22936616e+01 -8.34197543e+01 ... -1.80919885e+02\n",
            "  -2.46807173e+01 -1.31353707e+02]\n",
            " [-1.37913497e+02 -1.47106633e+02 -4.87031655e+01 ... -2.13879604e+02\n",
            "  -1.29111695e+02 -1.68083484e+02]\n",
            " ...\n",
            " [-8.97177985e+01 -1.01320138e+02 -6.66780441e+01 ... -4.82729551e-04\n",
            "  -5.68417912e+01 -2.60613448e+01]\n",
            " [-5.94173655e+01 -7.06519664e+01 -4.56509387e-06 ... -2.44466883e+02\n",
            "  -9.21881065e+01 -1.28023257e+02]\n",
            " [-6.80343877e+01 -1.24134414e+02 -7.58339049e+01 ... -1.89662992e+02\n",
            "  -1.18776348e+02 -2.16496620e+02]]\n",
            "prediction probs\n",
            "[[2.73458675e-038 1.00000000e+000 2.87678147e-049 ... 3.38205506e-138\n",
            "  1.35545122e-085 7.81693716e-097]\n",
            " [1.54156241e-001 7.78127423e-024 4.79019232e-003 ... 1.02638816e-027\n",
            "  5.63975527e-009 2.44794132e-038]\n",
            " [1.63484886e-043 1.00000000e+000 1.36646802e-034 ... 6.34988156e-124\n",
            "  1.25104121e-082 1.00073178e-083]\n",
            " ...\n",
            " [1.42296069e-019 3.21807092e-024 9.99999964e-001 ... 3.28320105e-093\n",
            "  1.61504286e-029 3.89235404e-045]\n",
            " [7.18608255e-001 6.50721149e-014 4.28309384e-017 ... 1.08745468e-050\n",
            "  1.67302281e-032 2.67345020e-050]\n",
            " [2.55055472e-037 4.68837343e-042 4.96618559e-001 ... 1.01060346e-106\n",
            "  1.59484096e-029 7.22047652e-079]]\n",
            "log\n",
            "[[-8.64922532e+01  0.00000000e+00 -1.11769997e+02 ... -3.16538259e+02\n",
            "  -1.95415598e+02 -2.21294461e+02]\n",
            " [-1.86978864e+00 -5.32103221e+01 -5.34118472e+00 ... -6.21437515e+01\n",
            "  -1.89934252e+01 -8.66029861e+01]\n",
            " [-9.85196086e+01  0.00000000e+00 -7.79756638e+01 ... -2.83672115e+02\n",
            "  -1.88588001e+02 -1.91113831e+02]\n",
            " ...\n",
            " [-4.33963771e+01 -5.40932601e+01 -3.61230361e-08 ... -2.12951595e+02\n",
            "  -6.62956062e+01 -1.02257315e+02]\n",
            " [-3.30438917e-01 -3.03632803e+01 -3.76892710e+01 ... -1.15045415e+02\n",
            "  -7.31680909e+01 -1.14145885e+02]\n",
            " [-8.42593376e+01 -9.51634882e+01 -6.99933034e-01 ... -2.44063472e+02\n",
            "  -6.63081937e+01 -1.79927301e+02]]\n",
            "The accuracy of the model on the training data: 76.58%\n",
            "The accuracy of the model on the testing data: 74.45%\n",
            "\n",
            "\n"
          ]
        },
        {
          "output_type": "display_data",
          "data": {
            "text/plain": [
              "<Figure size 576x288 with 1 Axes>"
            ],
            "image/png": "[encoded data removed]"
          },
          "metadata": {
            "needs_background": "light"
          }
        },
        {
          "output_type": "display_data",
          "data": {
            "text/plain": [
              "<Figure size 576x288 with 1 Axes>"
            ],
            "image/png": "[encoded data removed]"
          },
          "metadata": {
            "needs_background": "light"
          }
        }
      ]
    },
    {
      "cell_type": "code",
      "source": [
        "### training and testing 2 hidden layers with ReLu activation functions\n",
        "\n",
        "mlp2ln2 = epoch_mini_batch(x_train_unprocessed, y_train, x_test_unprocessed, y_test, 2, [128, 128], \"ReLU\", 0.000001, 1000, 20, track_acc = True)\n",
        "acc2ln2 = evaluate_mlp_acc(mlp2ln2, x_train_unprocessed, y_train, x_test_unprocessed, y_test, silent = False)"
      ],
      "metadata": {
        "id": "Pt2h_L5A-JYf",
        "outputId": "632f9d94-be52-44c2-f36e-64e91c855fa6",
        "colab": {
          "base_uri": "https://localhost:8080/",
          "height": 1000
        }
      },
      "execution_count": 46,
      "outputs": [
        {
          "output_type": "stream",
          "name": "stdout",
          "text": [
            "prediction probs\n",
            "[[6.06609708e-041 2.30498780e-143 4.93795975e-061 ... 2.24184497e-039\n",
            "  1.01540118e-039 6.18610671e-098]\n",
            " [2.00624134e-074 8.40556843e-050 5.85066004e-037 ... 1.06163369e-001\n",
            "  2.13961275e-075 4.61400878e-083]\n",
            " [3.14262110e-067 1.32234811e-077 7.46483216e-009 ... 3.93295260e-023\n",
            "  9.99999993e-001 5.06637357e-115]\n",
            " ...\n",
            " [6.09869841e-045 9.79881656e-115 5.49167950e-041 ... 6.33164216e-073\n",
            "  1.87970017e-044 4.44524637e-022]\n",
            " [1.08541307e-069 2.05011856e-049 1.83945615e-013 ... 9.76831991e-004\n",
            "  9.99023168e-001 1.72010927e-046]\n",
            " [7.67878495e-093 5.06757561e-005 7.13197371e-047 ... 2.77473378e-098\n",
            "  3.31048282e-031 1.00597488e-083]]\n",
            "log\n",
            "[[-9.26032734e+01 -3.28434593e+02 -1.38860738e+02 ... -8.89935195e+01\n",
            "  -8.97855348e+01 -2.23831033e+02]\n",
            " [-1.69695034e+02 -1.13000360e+02 -8.34290940e+01 ... -2.24277615e+00\n",
            "  -1.71933257e+02 -1.89585466e+02]\n",
            " [-1.53128144e+02 -1.77019643e+02 -1.87130629e+01 ... -5.15900667e+01\n",
            "  -7.46483211e-09 -2.63174660e+02]\n",
            " ...\n",
            " [-1.01808254e+02 -2.62515024e+02 -9.27027547e+01 ... -1.66243152e+02\n",
            "  -1.00682632e+02 -4.91650368e+01]\n",
            " [-1.58796411e+02 -1.12108772e+02 -2.93241363e+01 ... -6.93119589e+00\n",
            "  -9.77309402e-04 -1.05376526e+02]\n",
            " [-2.12101952e+02 -9.89006295e+00 -1.06256911e+02 ... -2.24632784e+02\n",
            "  -7.01830438e+01 -1.91108606e+02]]\n",
            "prediction probs\n",
            "[[2.93982568e-037 5.18611623e-098 1.14233648e-077 ... 1.04851068e-089\n",
            "  1.31525133e-003 5.65928133e-067]\n",
            " [2.78113116e-156 2.90351469e-132 4.73869773e-018 ... 1.00000000e+000\n",
            "  1.14323675e-058 2.82966471e-153]\n",
            " [3.22056928e-048 2.93728786e-035 1.47901421e-027 ... 5.25301056e-015\n",
            "  3.06753947e-050 1.00000000e+000]\n",
            " ...\n",
            " [4.46955959e-085 3.78857154e-056 5.95448257e-066 ... 8.37201869e-170\n",
            "  1.00000000e+000 3.19150159e-175]\n",
            " [7.63044326e-001 8.60903593e-097 1.05321112e-005 ... 1.15116112e-100\n",
            "  4.98334284e-045 8.47843916e-052]\n",
            " [1.05630107e-051 3.69316352e-146 1.00000000e+000 ... 2.45089370e-079\n",
            "  2.91532791e-070 1.50498721e-128]]\n",
            "log\n",
            "[[-8.41172982e+01 -2.24007354e+02 -1.77165976e+02 ... -2.04882703e+02\n",
            "  -6.63372750e+00 -1.52539904e+02]\n",
            " [-3.58180417e+02 -3.02875310e+02 -3.98907693e+01 ...  0.00000000e+00\n",
            "  -1.33416072e+02 -3.51255361e+02]\n",
            " [-1.09354526e+02 -7.95129916e+01 -6.17784217e+01 ... -3.28799750e+01\n",
            "  -1.14008379e+02 -5.32907052e-15]\n",
            " ...\n",
            " [-1.94222443e+02 -1.27612776e+02 -1.50186472e+02 ... -3.89314571e+02\n",
            "   0.00000000e+00 -4.01791900e+02]\n",
            " [-2.70439154e-01 -2.21197942e+02 -1.14610818e+01 ... -2.30117738e+02\n",
            "  -1.02010228e+02 -1.17596898e+02]\n",
            " [-1.17377066e+02 -3.34870940e+02  0.00000000e+00 ... -1.81007770e+02\n",
            "  -1.60110974e+02 -2.94322108e+02]]\n",
            "prediction probs\n",
            "[[2.21141434e-076 1.00000000e+000 2.15761690e-049 ... 3.06787698e-116\n",
            "  1.06990823e-011 1.97602882e-089]\n",
            " [1.03644495e-026 2.06841810e-082 1.38390637e-031 ... 3.18474215e-099\n",
            "  1.22312246e-030 1.57606942e-008]\n",
            " [4.43781999e-001 7.74378494e-016 7.98457000e-032 ... 2.60652518e-116\n",
            "  3.64640246e-003 1.75247162e-095]\n",
            " ...\n",
            " [4.88766930e-116 4.98419269e-080 1.01708648e-043 ... 9.14156996e-001\n",
            "  8.58430036e-002 6.85679591e-061]\n",
            " [8.93519425e-033 2.36896702e-101 1.09743997e-148 ... 1.14814326e-120\n",
            "  7.06009461e-108 1.55565443e-060]\n",
            " [3.88119453e-094 1.10572943e-090 6.25998018e-041 ... 1.00000000e+000\n",
            "  6.05169281e-066 1.73309074e-058]]\n",
            "log\n",
            "[[-1.74202835e+02 -1.06989972e-11 -1.12057665e+02 ... -2.65978885e+02\n",
            "  -2.52608631e+01 -2.04248984e+02]\n",
            " [-5.98314159e+01 -1.88085194e+02 -7.10552277e+01 ... -2.26797553e+02\n",
            "  -6.88761458e+01 -1.79657467e+01]\n",
            " [-8.12421829e-01 -3.47944709e+01 -7.16052120e+01 ... -2.66141853e+02\n",
            "  -5.61401423e+00 -2.18184557e+02]\n",
            " ...\n",
            " [-2.65513155e+02 -1.82600536e+02 -9.89942168e+01 ... -8.97529537e-02\n",
            "  -2.45523519e+00 -1.38532450e+02]\n",
            " [-7.37953102e+01 -2.31698640e+02 -3.40689614e+02 ... -2.76172065e+02\n",
            "  -2.46724732e+02 -1.37713209e+02]\n",
            " [-2.15086856e+02 -2.07132153e+02 -9.25718118e+01 ...  0.00000000e+00\n",
            "  -1.50170278e+02 -1.33000029e+02]]\n",
            "prediction probs\n",
            "[[2.34027240e-057 2.29147596e-014 7.57024728e-001 ... 5.11400042e-019\n",
            "  2.53391222e-012 2.42975272e-001]\n",
            " [3.01882570e-039 6.80944846e-053 4.92368671e-041 ... 9.71492689e-001\n",
            "  2.85073106e-002 1.23576005e-065]\n",
            " [9.99999987e-001 3.78407633e-046 5.33519777e-029 ... 0.00000000e+000\n",
            "  1.83239544e-052 8.67542127e-026]\n",
            " ...\n",
            " [1.21422572e-035 9.48437047e-026 9.91514915e-001 ... 1.23060080e-017\n",
            "  1.32496156e-028 5.64205805e-024]\n",
            " [1.02885155e-018 7.97766747e-006 9.72864701e-008 ... 2.21663699e-040\n",
            "  1.80253535e-063 4.69594072e-048]\n",
            " [8.82043811e-043 1.34305398e-059 2.40030945e-104 ... 1.44882385e-099\n",
            "  2.22699134e-038 3.24342204e-013]]\n",
            "log\n",
            "[[-1.30397083e+02 -3.14069952e+01 -2.78359360e-01 ... -4.21171348e+01\n",
            "  -2.67012567e+01 -1.41479560e+00]\n",
            " [-8.86959507e+01 -1.20118699e+02 -9.28119312e+01 ... -2.89215353e-02\n",
            "  -3.55759471e+00 -1.49456345e+02]\n",
            " [-1.34759760e-08 -1.04588112e+02 -6.51006417e+01 ...            -inf\n",
            "  -1.19128801e+02 -5.77067185e+01]\n",
            " ...\n",
            " [-8.03963716e+01 -5.76175672e+01 -8.52128825e-03 ... -3.89364441e+01\n",
            "  -6.41909992e+01 -5.35317933e+01]\n",
            " [-4.14180885e+01 -1.17388645e+01 -1.61456059e+01 ... -9.13074125e+01\n",
            "  -1.44473667e+02 -1.08977386e+02]\n",
            " [-9.68340875e+01 -1.35557574e+02 -2.38593252e+02 ... -2.27585172e+02\n",
            "  -8.66975820e+01 -2.87569772e+01]]\n",
            "prediction probs\n",
            "[[2.89922694e-054 1.87307982e-069 5.61429722e-084 ... 4.99873171e-062\n",
            "  1.00000000e+000 8.30605110e-104]\n",
            " [1.00000000e+000 1.33982137e-024 9.57038997e-050 ... 3.93873882e-142\n",
            "  3.61554317e-113 3.37840723e-035]\n",
            " [9.16008280e-016 2.41155760e-002 6.80519739e-025 ... 9.62576178e-034\n",
            "  2.38223632e-011 2.16355402e-035]\n",
            " ...\n",
            " [1.98863889e-067 4.11514027e-038 1.00000000e+000 ... 2.97664999e-099\n",
            "  9.17324475e-070 5.09199343e-105]\n",
            " [1.90352802e-086 9.05808109e-046 5.80285469e-063 ... 6.06572659e-143\n",
            "  1.00000000e+000 3.78132531e-132]\n",
            " [2.43138199e-118 8.66867742e-136 1.00000000e+000 ... 1.90669549e-038\n",
            "  1.89046012e-013 7.82374768e-031]]\n",
            "log\n",
            "[[-1.23275151e+02 -1.58250787e+02 -1.91691831e+02 ... -1.41151092e+02\n",
            "   0.00000000e+00 -2.37351865e+02]\n",
            " [-6.10289597e-13 -5.49695059e+01 -1.12870581e+02 ... -3.25596223e+02\n",
            "  -2.58906873e+02 -7.93730739e+01]\n",
            " [-3.46265063e+01 -3.72489734e+00 -5.56469407e+01 ... -7.60234501e+01\n",
            "  -2.44603963e+01 -7.98187260e+01]\n",
            " ...\n",
            " [-1.53585751e+02 -8.60835606e+01 -1.22124533e-15 ... -2.26865126e+02\n",
            "  -1.58964665e+02 -2.40143765e+02]\n",
            " [-1.97378609e+02 -1.03715257e+02 -1.43304511e+02 ... -3.27467014e+02\n",
            "   0.00000000e+00 -3.02611158e+02]\n",
            " [-2.70816581e+02 -3.10991856e+02 -1.88959959e-13 ... -8.68528619e+01\n",
            "  -2.92967860e+01 -6.93229742e+01]]\n",
            "prediction probs\n",
            "[[1.69466735e-046 1.21329486e-006 8.23841024e-032 ... 7.31280727e-057\n",
            "  9.99998787e-001 1.04832656e-035]\n",
            " [1.00000000e+000 3.51160521e-110 7.20655379e-033 ... 1.14609328e-068\n",
            "  4.83329955e-084 2.67467275e-066]\n",
            " [1.02153354e-106 1.16825274e-044 3.12774681e-044 ... 8.38297160e-090\n",
            "  1.00000000e+000 4.31868373e-035]\n",
            " ...\n",
            " [1.09725321e-098 9.99992462e-001 7.53817364e-006 ... 3.08820070e-138\n",
            "  1.32891902e-055 1.24543310e-104]\n",
            " [4.47997255e-141 9.26706930e-001 2.41556189e-028 ... 1.27343860e-129\n",
            "  7.04891560e-002 9.85685237e-084]\n",
            " [6.03745667e-131 2.84733113e-075 1.69952722e-071 ... 1.00000000e+000\n",
            "  9.35672769e-060 2.28514502e-048]]\n",
            "log\n",
            "[[-1.05391428e+02 -1.36221709e+01 -7.15739156e+01 ... -1.29257723e+02\n",
            "  -1.21329560e-06 -8.05432831e+01]\n",
            " [ 0.00000000e+00 -2.52028287e+02 -7.40103172e+01 ... -1.56439427e+02\n",
            "  -1.91841618e+02 -1.50986789e+02]\n",
            " [-2.44052715e+02 -1.01158235e+02 -1.00173431e+02 ... -2.05106456e+02\n",
            "  -1.11022302e-16 -7.91275276e+01]\n",
            " ...\n",
            " [-2.25560529e+02 -7.53820205e-06 -1.17955306e+01 ... -3.16629154e+02\n",
            "  -1.26357814e+02 -2.39249366e+02]\n",
            " [-3.23164881e+02 -7.61179120e-02 -6.35904507e+01 ... -2.96791756e+02\n",
            "  -2.65229640e+00 -1.91128981e+02]\n",
            " [-2.99840664e+02 -1.71647500e+02 -1.62953191e+02 ...  0.00000000e+00\n",
            "  -1.35919010e+02 -1.09697655e+02]]\n",
            "prediction probs\n",
            "[[1.13250341e-063 6.66545591e-127 1.37958556e-091 ... 0.00000000e+000\n",
            "  7.94878807e-087 1.00000000e+000]\n",
            " [2.48982206e-061 9.97817745e-080 4.03206345e-104 ... 9.03917028e-089\n",
            "  1.20205780e-013 5.88854196e-140]\n",
            " [3.44690257e-001 4.94779601e-052 1.55609340e-020 ... 1.39937832e-083\n",
            "  1.03353456e-004 2.47066849e-017]\n",
            " ...\n",
            " [1.67268951e-051 6.63514532e-083 4.17996473e-029 ... 1.00000000e+000\n",
            "  4.05144242e-103 4.91632482e-084]\n",
            " [5.48561867e-072 9.60962714e-015 2.95321808e-050 ... 2.53116147e-192\n",
            "  2.61420063e-076 4.89055984e-138]\n",
            " [1.86049405e-053 2.35570521e-078 4.40884011e-017 ... 5.61506728e-042\n",
            "  2.97893799e-022 1.08896215e-052]]\n",
            "log\n",
            "[[-144.93843027 -290.53136846 -209.21346033 ...          -inf\n",
            "  -198.25188362    0.        ]\n",
            " [-139.54547942 -181.90640699 -238.0745714  ... -202.72850589\n",
            "   -29.74957129 -320.5889046 ]\n",
            " [  -1.06510907 -118.13548261  -45.60952341 ... -190.77853464\n",
            "    -9.17735583  -38.23945782]\n",
            " ...\n",
            " [-116.91740692 -189.22218215  -65.34466489 ...    0.\n",
            "  -235.76719161 -191.82458655]\n",
            " [-164.08399682  -32.27601097 -114.0463592  ... -441.16765958\n",
            "  -174.0355087  -316.16943605]\n",
            " [-121.41616786 -178.74479712  -37.66033494 ...  -94.98312033\n",
            "   -49.56530519 -119.64919975]]\n",
            "prediction probs\n",
            "[[1.00000000e+000 3.95465999e-045 3.96463817e-072 ... 3.79266465e-053\n",
            "  2.63951509e-027 5.33076533e-054]\n",
            " [1.00000000e+000 1.22013278e-100 3.78000162e-091 ... 3.43819450e-083\n",
            "  3.07692994e-098 1.76269427e-025]\n",
            " [1.37967461e-047 4.72188973e-123 1.16291798e-177 ... 7.74810738e-192\n",
            "  5.28397850e-067 1.95968739e-127]\n",
            " ...\n",
            " [6.77896082e-181 9.83602638e-110 2.61236135e-042 ... 1.23275126e-082\n",
            "  1.00000000e+000 5.30579933e-068]\n",
            " [5.71287271e-039 9.99995314e-001 4.68601971e-006 ... 3.47764204e-121\n",
            "  1.02656944e-047 7.83835762e-029]\n",
            " [6.90407295e-034 9.24599001e-056 1.58326558e-065 ... 2.32340764e-092\n",
            "  9.99999993e-001 3.33508813e-143]]\n",
            "log\n",
            "[[ 0.00000000e+00 -1.02241435e+02 -1.64408712e+02 ... -1.20703941e+02\n",
            "  -6.11992023e+01 -1.22666100e+02]\n",
            " [ 0.00000000e+00 -2.30059550e+02 -2.08205519e+02 ... -1.89879616e+02\n",
            "  -2.24529407e+02 -5.69977839e+01]\n",
            " [-1.07899652e+02 -2.81665757e+02 -4.07406629e+02 ... -4.40048889e+02\n",
            "  -1.52608522e+02 -2.91755522e+02]\n",
            " ...\n",
            " [-4.14854078e+02 -2.50998308e+02 -9.57483194e+01 ... -1.88602729e+02\n",
            "   0.00000000e+00 -1.54906986e+02]\n",
            " [-8.80580966e+01 -4.68603069e-06 -1.22709270e+01 ... -2.77366442e+02\n",
            "  -1.08195277e+02 -6.47159384e+01]\n",
            " [-7.63557816e+01 -1.26720575e+02 -1.49208542e+02 ... -2.10994794e+02\n",
            "  -7.33994501e-09 -3.28065169e+02]]\n",
            "prediction probs\n",
            "[[2.28377584e-015 2.20662272e-043 3.75912361e-045 ... 8.23883077e-100\n",
            "  5.48947798e-062 5.30541701e-026]\n",
            " [1.55811557e-011 5.25579906e-049 9.19048195e-057 ... 4.92595334e-088\n",
            "  3.81719426e-081 1.00000000e+000]\n",
            " [1.61805156e-075 3.73998555e-035 2.66722326e-122 ... 8.74183274e-131\n",
            "  2.75189243e-073 4.34893332e-054]\n",
            " ...\n",
            " [9.40073298e-050 2.65528416e-057 1.01097666e-043 ... 7.57500228e-186\n",
            "  6.47839854e-112 1.99742620e-112]\n",
            " [2.22054906e-014 1.89364769e-061 9.77771452e-048 ... 1.18727613e-098\n",
            "  4.18768643e-045 1.00000000e+000]\n",
            " [2.27022910e-080 1.48384475e-056 3.73278998e-011 ... 1.20065321e-059\n",
            "  1.31202935e-018 7.35512915e-020]]\n",
            "log\n",
            "[[-3.37129463e+01 -9.82196958e+01 -1.02292143e+02 ... -2.28149651e+02\n",
            "  -1.41057443e+02 -5.81984840e+01]\n",
            " [-2.48849589e+01 -1.11167338e+02 -1.29029182e+02 ... -2.01032970e+02\n",
            "  -1.85169877e+02 -5.90499871e-11]\n",
            " [-1.72212659e+02 -7.92713965e+01 -2.79934343e+02 ... -2.99470527e+02\n",
            "  -1.67076423e+02 -1.22869664e+02]\n",
            " ...\n",
            " [-1.12888467e+02 -1.30270799e+02 -9.90002421e+01 ... -4.26255974e+02\n",
            "  -2.56021057e+02 -2.57197671e+02]\n",
            " [-3.14384368e+01 -1.39819186e+02 -1.08243979e+02 ... -2.25481677e+02\n",
            "  -1.02184181e+02 -2.20698571e-10]\n",
            " [-1.83386927e+02 -1.28550129e+02 -2.40112801e+01 ... -1.35669655e+02\n",
            "  -4.11749566e+01 -4.40563039e+01]]\n",
            "prediction probs\n",
            "[[1.00000000e+000 3.02276801e-128 1.10373245e-043 ... 1.71012838e-101\n",
            "  2.70254595e-025 2.88241641e-067]\n",
            " [1.67958019e-025 9.99999997e-001 3.36572251e-062 ... 2.14613204e-156\n",
            "  2.00238075e-036 5.23595907e-040]\n",
            " [4.32684913e-049 6.51864959e-066 2.97624675e-018 ... 5.98402378e-029\n",
            "  1.81640746e-046 9.99999994e-001]\n",
            " ...\n",
            " [2.40347429e-074 7.96356630e-034 3.50078033e-036 ... 2.48620669e-039\n",
            "  1.00000000e+000 1.19375626e-039]\n",
            " [3.21824751e-007 1.97809431e-081 2.41242705e-152 ... 8.62893555e-088\n",
            "  5.27627768e-043 9.99999678e-001]\n",
            " [2.53883879e-065 2.52224859e-097 2.70685269e-080 ... 1.27304788e-052\n",
            "  5.58362952e-038 1.00000000e+000]]\n",
            "log\n",
            "[[ 0.00000000e+00 -2.93624719e+02 -9.89124614e+01 ... -2.32024526e+02\n",
            "  -5.65704330e+01 -1.53214572e+02]\n",
            " [-5.70460835e+01 -3.31631412e-09 -1.41546633e+02 ... -3.58439607e+02\n",
            "  -8.21987265e+01 -9.04478537e+01]\n",
            " [-1.11361830e+02 -1.50095949e+02 -4.03558686e+01 ... -6.49858745e+01\n",
            "  -1.05322054e+02 -5.68952842e-09]\n",
            " ...\n",
            " [-1.69514382e+02 -7.62130162e+01 -8.16400775e+01 ... -8.88900605e+01\n",
            "   0.00000000e+00 -8.96237138e+01]\n",
            " [-1.49492587e+01 -1.85827259e+02 -3.49112301e+02 ... -2.00472367e+02\n",
            "  -9.73479381e+01 -3.21826980e-07]\n",
            " [-1.48736324e+02 -2.22425603e+02 -1.83211021e+02 ... -1.19493011e+02\n",
            "  -8.57783945e+01  0.00000000e+00]]\n",
            "prediction probs\n",
            "[[3.19323086e-029 1.52233482e-034 9.99999988e-001 ... 1.81711570e-038\n",
            "  7.05043181e-034 9.91342822e-053]\n",
            " [1.24453246e-034 3.58539415e-040 2.84407854e-039 ... 2.69000943e-066\n",
            "  1.40820149e-004 1.88782731e-010]\n",
            " [1.40907935e-032 1.00000000e+000 1.04431154e-061 ... 3.04905305e-183\n",
            "  2.29260815e-095 7.66838490e-069]\n",
            " ...\n",
            " [4.21276922e-026 4.79780174e-082 7.06401684e-064 ... 2.04740650e-080\n",
            "  5.42595632e-022 4.69384796e-042]\n",
            " [9.73000584e-101 2.60122174e-067 1.89007326e-050 ... 1.00000000e+000\n",
            "  2.73817905e-038 8.83278660e-054]\n",
            " [3.05972049e-013 3.21297209e-044 1.65534775e-104 ... 2.22986178e-032\n",
            "  1.96786598e-063 8.45490347e-054]]\n",
            "log\n",
            "[[-6.56139345e+01 -7.78676479e+01 -1.20077294e-08 ... -8.69009831e+01\n",
            "  -7.63348043e+01 -1.19743120e+02]\n",
            " [-7.80691332e+01 -9.08265353e+01 -8.87555795e+01 ... -1.50981071e+02\n",
            "  -8.86802702e+00 -2.23904243e+01]\n",
            " [-7.33397864e+01  0.00000000e+00 -1.40414333e+02 ... -4.20258241e+02\n",
            "  -2.17915894e+02 -1.56841265e+02]\n",
            " ...\n",
            " [-5.84290922e+01 -1.87243820e+02 -1.45410432e+02 ... -1.83490234e+02\n",
            "  -4.89656779e+01 -9.51623212e+01]\n",
            " [-2.30285880e+02 -1.53317220e+02 -1.14492639e+02 ...  0.00000000e+00\n",
            "  -8.64909404e+01 -1.22161124e+02]\n",
            " [-2.88152826e+01 -1.00146548e+02 -2.38964839e+02 ... -7.28807834e+01\n",
            "  -1.44385911e+02 -1.22204848e+02]]\n",
            "prediction probs\n",
            "[[3.36346532e-102 2.56681313e-091 6.58860785e-061 ... 2.03745057e-072\n",
            "  1.00000000e+000 4.90540550e-110]\n",
            " [2.24069592e-056 2.66479660e-114 7.41905110e-098 ... 4.87076474e-148\n",
            "  2.89699237e-105 1.00000000e+000]\n",
            " [1.98102887e-044 9.20471987e-033 3.79568871e-001 ... 3.34610913e-084\n",
            "  7.51576609e-002 7.91105925e-039]\n",
            " ...\n",
            " [1.99189565e-050 1.00000000e+000 5.84207917e-036 ... 2.13808777e-174\n",
            "  1.33958216e-079 4.81378559e-101]\n",
            " [1.00000000e+000 3.62786945e-141 2.26036119e-037 ... 6.77144059e-021\n",
            "  8.68956648e-058 2.59021840e-074]\n",
            " [2.39451784e-046 2.60159084e-035 1.00000000e+000 ... 5.51212598e-118\n",
            "  9.71792860e-046 3.33495827e-095]]\n",
            "log\n",
            "[[-2.33650708e+02 -2.08592578e+02 -1.38572349e+02 ... -1.65074427e+02\n",
            "   0.00000000e+00 -2.51694022e+02]\n",
            " [-1.28137979e+02 -2.61514573e+02 -2.23649288e+02 ... -3.39199343e+02\n",
            "  -2.40707762e+02  0.00000000e+00]\n",
            " [-1.00630128e+02 -7.37655917e+01 -9.68719219e-01 ... -1.92209350e+02\n",
            "  -2.58816723e+00 -8.77325569e+01]\n",
            " ...\n",
            " [-1.14440168e+02  0.00000000e+00 -8.11279766e+01 ... -3.99889894e+02\n",
            "  -1.81611865e+02 -2.30989611e+02]\n",
            " [-1.12760801e-10 -3.23375853e+02 -8.43801238e+01 ... -4.64415731e+01\n",
            "  -1.31387812e+02 -1.69439555e+02]\n",
            " [-1.05045732e+02 -7.96343551e+01  0.00000000e+00 ... -2.69998091e+02\n",
            "  -1.03644942e+02 -2.17541124e+02]]\n",
            "prediction probs\n",
            "[[2.25683423e-019 8.14500924e-065 5.73136954e-020 ... 1.39486953e-117\n",
            "  4.15905235e-051 1.44510551e-038]\n",
            " [4.84363027e-026 5.22841505e-084 5.54603859e-094 ... 1.06512408e-158\n",
            "  1.07905061e-027 8.57692512e-049]\n",
            " [6.34727504e-089 2.20728542e-061 9.89936074e-075 ... 1.00000000e+000\n",
            "  1.60593877e-062 8.94459215e-039]\n",
            " ...\n",
            " [5.35510367e-012 1.41527674e-094 7.22544738e-035 ... 1.34141120e-151\n",
            "  2.96103863e-036 6.92347785e-066]\n",
            " [5.96954534e-001 8.42661782e-040 5.48549605e-043 ... 7.95927120e-047\n",
            "  4.20745577e-040 9.88073986e-011]\n",
            " [2.12451332e-079 2.30436330e-098 3.70168865e-007 ... 6.38326147e-002\n",
            "  6.94457690e-026 1.19956681e-038]]\n",
            "log\n",
            "[[ -42.93515372 -147.57062567  -44.30574735 ... -269.069655\n",
            "  -116.00655249  -87.1300512 ]\n",
            " [ -58.28954792 -191.76303963 -214.72991484 ... -363.74535339\n",
            "   -62.09371592 -110.67759409]\n",
            " [-203.08204768 -139.66592723 -170.40141179 ...    0.\n",
            "  -142.28656728  -87.60976951]\n",
            " ...\n",
            " [ -25.95297105 -216.09567365  -78.6128691  ... -347.39662685\n",
            "   -81.80752325 -150.03569792]\n",
            " [  -0.51591433  -89.97200824  -97.30905147 ... -106.14716193\n",
            "   -90.66654558  -23.03784863]\n",
            " [-181.1506796  -224.8185347   -14.80930654 ...   -2.75149102\n",
            "   -57.92925137  -87.31627304]]\n",
            "prediction probs\n",
            "[[1.02407192e-048 7.34313285e-066 3.81404207e-010 ... 5.19187263e-152\n",
            "  3.63763065e-047 3.50119632e-091]\n",
            " [1.00000000e+000 5.06755737e-123 1.66742346e-090 ... 8.61215378e-072\n",
            "  9.12882742e-080 1.50725037e-069]\n",
            " [1.00000000e+000 5.82168641e-087 1.01589619e-080 ... 1.35212131e-108\n",
            "  9.46170036e-051 1.40655870e-041]\n",
            " ...\n",
            " [1.94764646e-046 4.38066027e-055 9.99999984e-001 ... 3.53747633e-114\n",
            "  2.18761033e-059 2.36764177e-072]\n",
            " [9.31815199e-119 3.57882578e-062 7.44362189e-030 ... 1.03379201e-113\n",
            "  6.35978269e-031 1.00000000e+000]\n",
            " [9.52342176e-055 1.13300100e-047 1.00000000e+000 ... 1.60609124e-136\n",
            "  1.37979789e-031 1.42383450e-097]]\n",
            "log\n",
            "[[-1.10500298e+02 -1.49976851e+02 -2.16871614e+01 ... -3.48345840e+02\n",
            "  -1.06930167e+02 -2.08282139e+02]\n",
            " [ 0.00000000e+00 -2.81595108e+02 -2.06721379e+02 ... -1.63632952e+02\n",
            "  -1.81995370e+02 -1.58468084e+02]\n",
            " [-1.95399252e-14 -1.98563313e+02 -1.84191036e+02 ... -2.48377515e+02\n",
            "  -1.15184588e+02 -9.40648427e+01]\n",
            " ...\n",
            " [-1.05252293e+02 -1.25164981e+02 -1.55513148e-08 ... -2.61231287e+02\n",
            "  -1.35069711e+02 -1.64924232e+02]\n",
            " [-2.71775662e+02 -1.41485241e+02 -6.70701952e+01 ... -2.60158882e+02\n",
            "  -6.95301437e+01  0.00000000e+00]\n",
            " [-1.24388426e+02 -1.08096630e+02  0.00000000e+00 ... -3.12677769e+02\n",
            "  -7.10582008e+01 -2.22997400e+02]]\n",
            "prediction probs\n",
            "[[9.34701571e-005 9.99906530e-001 1.04600094e-018 ... 0.00000000e+000\n",
            "  4.06459103e-068 6.43809858e-104]\n",
            " [8.38396427e-055 1.00000000e+000 1.28317241e-049 ... 2.60391041e-189\n",
            "  5.28139926e-069 9.16643358e-136]\n",
            " [3.99210599e-129 8.98670377e-155 1.75898250e-137 ... 2.99723865e-131\n",
            "  1.42785558e-053 6.74920204e-030]\n",
            " ...\n",
            " [1.61792561e-109 5.65858386e-122 1.00000000e+000 ... 4.50375939e-054\n",
            "  1.43369146e-032 3.76906731e-062]\n",
            " [2.21542748e-069 1.98283225e-103 1.23677852e-039 ... 2.70420833e-046\n",
            "  7.46250680e-049 1.00000000e+000]\n",
            " [6.49933869e-087 1.00000000e+000 4.71203052e-067 ... 3.15100039e-220\n",
            "  1.00369433e-089 3.67546675e-174]]\n",
            "log\n",
            "[[-9.27786835e+00 -9.34745257e-05 -4.14015574e+01 ...            -inf\n",
            "  -1.55173473e+02 -2.37606616e+02]\n",
            " [-1.24515859e+02  0.00000000e+00 -1.12577334e+02 ... -4.34231568e+02\n",
            "  -1.57214180e+02 -3.10936024e+02]\n",
            " [-2.95649158e+02 -3.54704943e+02 -3.14889422e+02 ... -3.00540956e+02\n",
            "  -1.21680836e+02 -6.71681285e+01]\n",
            " ...\n",
            " [-2.50500630e+02 -2.79182208e+02 -8.65973959e-15 ... -1.22834683e+02\n",
            "  -7.33224704e+01 -1.41433448e+02]\n",
            " [-1.58082926e+02 -2.36481738e+02 -8.95883086e+01 ... -1.04924105e+02\n",
            "  -1.10816778e+02  0.00000000e+00]\n",
            " [-1.98453203e+02  0.00000000e+00 -1.52723082e+02 ... -5.05421000e+02\n",
            "  -2.04926386e+02 -3.99348126e+02]]\n",
            "prediction probs\n",
            "[[7.98185703e-077 5.33214927e-039 9.90037947e-025 ... 4.90532066e-142\n",
            "  5.61142853e-049 3.87277127e-114]\n",
            " [3.60218565e-049 1.51583653e-026 5.95405974e-018 ... 2.52438818e-105\n",
            "  9.99928456e-001 2.06673334e-023]\n",
            " [2.69611262e-098 5.93837397e-053 4.78285873e-033 ... 9.99849434e-001\n",
            "  3.53802255e-034 1.50563003e-004]\n",
            " ...\n",
            " [5.60373427e-069 3.08591947e-103 1.18705187e-082 ... 1.00000000e+000\n",
            "  1.92768917e-049 2.47227413e-044]\n",
            " [6.63314544e-065 2.84342927e-083 1.07211036e-021 ... 1.02443658e-084\n",
            "  3.49997431e-048 1.00000000e+000]\n",
            " [4.70887152e-054 1.18604024e-069 1.58946997e-004 ... 1.55709420e-078\n",
            "  1.14187871e-003 5.98073628e-056]]\n",
            "log\n",
            "[[-1.75221881e+02 -8.81270642e+01 -5.52720542e+01 ... -3.25376763e+02\n",
            "  -1.11101864e+02 -2.61140730e+02]\n",
            " [-1.11545129e+02 -5.94512450e+01 -3.96624584e+01 ... -2.40845436e+02\n",
            "  -7.15463958e-05 -5.22334879e+01]\n",
            " [-2.24661528e+02 -1.20255575e+02 -7.44202696e+01 ... -1.50577065e-04\n",
            "  -7.70243252e+01 -8.80112893e+00]\n",
            " ...\n",
            " [-1.57154938e+02 -2.36039415e+02 -1.88640505e+02 ...  0.00000000e+00\n",
            "  -1.12170348e+02 -1.00408606e+02]\n",
            " [-1.47775952e+02 -1.90069552e+02 -4.82846580e+01 ... -1.93393005e+02\n",
            "  -1.09271329e+02  0.00000000e+00]\n",
            " [-1.22790147e+02 -1.58707751e+02 -8.74693977e+00 ... -1.79158816e+02\n",
            "  -6.77508038e+00 -1.27156222e+02]]\n",
            "prediction probs\n",
            "[[6.97039689e-089 0.00000000e+000 1.00000000e+000 ... 1.55911446e-021\n",
            "  6.83039123e-027 3.56420011e-039]\n",
            " [4.14565339e-065 1.97458417e-106 1.23251939e-109 ... 8.75629276e-087\n",
            "  1.00000000e+000 1.77867636e-033]\n",
            " [5.11987604e-078 5.75633782e-086 3.57162508e-054 ... 0.00000000e+000\n",
            "  3.05904054e-083 2.72636681e-126]\n",
            " ...\n",
            " [5.71870070e-004 1.26820773e-052 8.10108837e-063 ... 2.16463143e-136\n",
            "  1.80947486e-015 2.77633073e-070]\n",
            " [9.99999991e-001 1.96286685e-069 1.59462614e-030 ... 3.35878012e-028\n",
            "  7.59151083e-034 9.29237984e-009]\n",
            " [7.97817185e-008 1.76814531e-011 4.94807064e-055 ... 1.55840147e-110\n",
            "  9.99999920e-001 5.46762983e-094]]\n",
            "log\n",
            "[[-2.02988401e+02            -inf  0.00000000e+00 ... -4.79101689e+01\n",
            "  -6.02484156e+01 -8.85298790e+01]\n",
            " [-1.48245971e+02 -2.43393662e+02 -2.50772715e+02 ... -1.98155130e+02\n",
            "   0.00000000e+00 -7.54094386e+01]\n",
            " [-1.77968507e+02 -1.96272017e+02 -1.23066574e+02 ...            -inf\n",
            "  -1.89996461e+02 -2.89122752e+02]\n",
            " ...\n",
            " [-7.46659874e+00 -1.19496820e+02 -1.42970862e+02 ... -3.12379323e+02\n",
            "  -3.39457397e+01 -1.60159826e+02]\n",
            " [-9.29237991e-09 -1.58203965e+02 -6.86109135e+01 ... -6.32608048e+01\n",
            "  -7.62608625e+01 -1.84940711e+01]\n",
            " [-1.63439714e+01 -2.47585049e+01 -1.25043182e+02 ... -2.52840700e+02\n",
            "  -7.97994032e-08 -2.14744154e+02]]\n",
            "prediction probs\n",
            "[[4.00640924e-082 1.35127594e-094 2.70531038e-074 ... 2.24358786e-114\n",
            "  1.47157170e-002 5.38520767e-083]\n",
            " [7.47517332e-029 2.57674322e-046 1.01636801e-013 ... 4.38758179e-023\n",
            "  7.93154391e-033 9.99990658e-001]\n",
            " [6.38057961e-119 7.04657001e-148 2.79315088e-092 ... 1.00000000e+000\n",
            "  1.17825386e-106 3.27598544e-083]\n",
            " ...\n",
            " [1.14552011e-058 4.81434889e-105 3.97760561e-010 ... 3.19286781e-133\n",
            "  9.99998753e-001 2.65800993e-008]\n",
            " [2.78428617e-054 1.39145056e-089 2.30411731e-043 ... 3.04708818e-006\n",
            "  9.99996953e-001 3.67743691e-038]\n",
            " [1.84168542e-105 1.38318751e-089 1.00000000e+000 ... 1.33229884e-099\n",
            "  2.91633896e-091 4.27821300e-134]]\n",
            "log\n",
            "[[-1.87424082e+02 -2.16141949e+02 -1.69396080e+02 ... -2.61686624e+02\n",
            "  -4.21883917e+00 -1.89430907e+02]\n",
            " [-6.47633804e+01 -1.04972388e+02 -2.99173707e+01 ... -5.14806789e+01\n",
            "  -7.39144604e+01 -9.34219194e-06]\n",
            " [-2.72154367e+02 -3.38830053e+02 -2.10810658e+02 ...  0.00000000e+00\n",
            "  -2.43909986e+02 -1.89927944e+02]\n",
            " ...\n",
            " [-1.33414077e+02 -2.40199834e+02 -2.16451709e+01 ... -3.05082898e+02\n",
            "  -1.24659644e-06 -1.74431030e+01]\n",
            " [-1.23315603e+02 -2.04599727e+02 -9.81764613e+01 ... -1.27013241e+01\n",
            "  -3.04709282e-06 -8.61960175e+01]\n",
            " [-2.41160754e+02 -2.04605683e+02  0.00000000e+00 ... -2.27669018e+02\n",
            "  -2.08464914e+02 -3.07092867e+02]]\n",
            "prediction probs\n",
            "[[1.00000000e+000 2.81306456e-055 1.08480146e-023 ... 6.45528412e-075\n",
            "  6.49943523e-032 1.15721215e-018]\n",
            " [2.34127691e-069 9.89185510e-066 1.17412868e-102 ... 2.93658367e-147\n",
            "  7.01986753e-039 2.36951573e-109]\n",
            " [1.00770337e-124 3.72511767e-141 1.41732713e-062 ... 2.03497003e-174\n",
            "  1.14374593e-035 2.58140983e-101]\n",
            " ...\n",
            " [3.49043754e-043 6.82760434e-062 8.85942692e-039 ... 3.15125978e-039\n",
            "  3.65874190e-055 4.78647255e-023]\n",
            " [8.66350504e-036 5.30667537e-059 9.99971772e-001 ... 5.16379272e-167\n",
            "  7.35730514e-085 2.26825983e-124]\n",
            " [8.89858200e-004 3.81347183e-035 1.70114087e-049 ... 5.71231194e-117\n",
            "  1.91976342e-073 8.83872356e-075]]\n",
            "log\n",
            "[[ 0.00000000e+00 -1.25607906e+02 -5.28780602e+01 ... -1.70828983e+02\n",
            "  -7.18110077e+01 -4.13005179e+01]\n",
            " [-1.58027675e+02 -1.49678904e+02 -2.34703153e+02 ... -3.37402762e+02\n",
            "  -8.78520743e+01 -2.50119090e+02]\n",
            " [-2.85512878e+02 -3.23349400e+02 -1.42411503e+02 ... -3.99939325e+02\n",
            "  -8.04561695e+01 -2.31612759e+02]\n",
            " ...\n",
            " [-9.77611319e+01 -1.40839302e+02 -8.76193365e+01 ... -8.86530163e+01\n",
            "  -1.25345061e+02 -5.13936634e+01]\n",
            " [-8.07339440e+01 -1.34183555e+02 -2.82279200e-05 ... -3.82890039e+02\n",
            "  -1.93724039e+02 -2.84701539e+02]\n",
            " [-7.02444843e+00 -7.92519382e+01 -1.12295370e+02 ... -2.67659832e+02\n",
            "  -1.67436510e+02 -1.70514740e+02]]\n",
            "prediction probs\n",
            "[[1.68069762e-027 1.00000000e+000 1.98388542e-060 ... 3.16648519e-213\n",
            "  4.64088470e-090 2.75364372e-142]\n",
            " [6.48524679e-036 2.13304084e-019 1.12734319e-047 ... 1.03822903e-025\n",
            "  9.50610549e-024 1.22128820e-020]\n",
            " [1.74297075e-066 1.00000000e+000 2.29003917e-023 ... 6.24811177e-176\n",
            "  8.57113110e-107 1.20803170e-116]\n",
            " ...\n",
            " [2.69190010e-092 7.77764367e-093 1.00000000e+000 ... 1.11178297e-149\n",
            "  6.37625104e-084 5.16943635e-092]\n",
            " [1.63046621e-016 1.00000000e+000 1.94729372e-028 ... 5.66164513e-077\n",
            "  8.25854008e-046 3.41749098e-035]\n",
            " [1.20365038e-110 1.81197190e-086 2.05421249e-029 ... 1.75376706e-167\n",
            "  1.38320113e-064 1.68885308e-130]]\n",
            "log\n",
            "[[-6.16505886e+01  0.00000000e+00 -1.37470048e+02 ... -4.89298003e+02\n",
            "  -2.05697753e+02 -3.25954158e+02]\n",
            " [-8.10235335e+01 -4.29915682e+01 -1.08101636e+02 ... -5.75271109e+01\n",
            "  -5.30101080e+01 -4.58517957e+01]\n",
            " [-1.51415025e+02  0.00000000e+00 -5.21308882e+01 ... -4.03422697e+02\n",
            "  -2.44228205e+02 -2.66910878e+02]\n",
            " ...\n",
            " [-2.10847581e+02 -2.12089160e+02  0.00000000e+00 ... -3.42979214e+02\n",
            "  -1.91564567e+02 -2.10195065e+02]\n",
            " [-3.63524955e+01 -1.11022302e-16 -6.38059420e+01 ... -1.75565338e+02\n",
            "  -1.03807666e+02 -7.93615716e+01]\n",
            " [-2.53099001e+02 -1.97427902e+02 -6.60550751e+01 ... -3.83969944e+02\n",
            "  -1.47041045e+02 -2.98812012e+02]]\n",
            "The accuracy of the model on the training data: 48.18%\n",
            "The accuracy of the model on the testing data: 47.58%\n",
            "\n",
            "\n"
          ]
        },
        {
          "output_type": "display_data",
          "data": {
            "text/plain": [
              "<Figure size 576x288 with 1 Axes>"
            ],
            "image/png": "[encoded data removed]"
          },
          "metadata": {
            "needs_background": "light"
          }
        },
        {
          "output_type": "display_data",
          "data": {
            "text/plain": [
              "<Figure size 576x288 with 1 Axes>"
            ],
            "image/png": "[encoded data removed]"
          },
          "metadata": {
            "needs_background": "light"
          }
        }
      ]
    },
    {
      "cell_type": "code",
      "source": [
        "### training and testing 2 hidden layers with ReLu activation functions\n",
        "\n",
        "mlp2ln22 = epoch_mini_batch(x_train_unprocessed, y_train, x_test_unprocessed, y_test, 2, [128, 128], \"ReLU\", 0.0000001, 1000, 3, track_acc = True)\n",
        "acc2ln22 = evaluate_mlp_acc(mlp2ln2, x_train_unprocessed, y_train, x_test_unprocessed, y_test, silent = False)"
      ],
      "metadata": {
        "id": "nhcUwr8CC6n7",
        "outputId": "8b4341b7-a445-415f-955f-74f5868d6511",
        "colab": {
          "base_uri": "https://localhost:8080/",
          "height": 644
        }
      },
      "execution_count": 42,
      "outputs": [
        {
          "output_type": "stream",
          "name": "stdout",
          "text": [
            "The accuracy of the model on the training data: 48.18%\n",
            "The accuracy of the model on the testing data: 47.58%\n",
            "\n",
            "\n"
          ]
        },
        {
          "output_type": "display_data",
          "data": {
            "text/plain": [
              "<Figure size 576x288 with 1 Axes>"
            ],
            "image/png": "[encoded data removed]"
          },
          "metadata": {
            "needs_background": "light"
          }
        },
        {
          "output_type": "display_data",
          "data": {
            "text/plain": [
              "<Figure size 576x288 with 1 Axes>"
            ],
            "image/png": "[encoded data removed]"
          },
          "metadata": {
            "needs_background": "light"
          }
        }
      ]
    },
    {
      "cell_type": "code",
      "source": [
        "### training and testing 2 hidden layers with ReLu activation functions\n",
        "\n",
        "mlp2ln = epoch_mini_batch(x_train_unprocessed, y_train, x_test_unprocessed, y_test, 2, [128, 128], \"ReLU\", 0.000001, 1000, 20, track_acc = True)\n",
        "acc2ln = evaluate_mlp_acc(mlp2ln, x_train_unprocessed, y_train, x_test_unprocessed, y_test, silent = False)"
      ],
      "metadata": {
        "id": "v4EfC-87dQE5",
        "outputId": "7e3605ee-6239-43a6-bc8a-0ddbf3969b8a",
        "colab": {
          "base_uri": "https://localhost:8080/",
          "height": 644
        }
      },
      "execution_count": 111,
      "outputs": [
        {
          "output_type": "stream",
          "name": "stdout",
          "text": [
            "The accuracy of the model on the training data: 67.34%\n",
            "The accuracy of the model on the testing data: 65.89%\n",
            "\n",
            "\n"
          ]
        },
        {
          "output_type": "display_data",
          "data": {
            "text/plain": [
              "<Figure size 576x288 with 1 Axes>"
            ],
            "image/png": "[encoded data removed]"
          },
          "metadata": {
            "needs_background": "light"
          }
        },
        {
          "output_type": "display_data",
          "data": {
            "text/plain": [
              "<Figure size 576x288 with 1 Axes>"
            ],
            "image/png": "[encoded data removed]"
          },
          "metadata": {
            "needs_background": "light"
          }
        }
      ]
    },
    {
      "cell_type": "markdown",
      "source": [
        "### Extra experiments"
      ],
      "metadata": {
        "id": "lsd0-hy72ei_"
      }
    },
    {
      "cell_type": "markdown",
      "source": [
        "#### Plotting testing accuracy as function of the number of training images"
      ],
      "metadata": {
        "id": "ShRTEwOd5nB8"
      }
    },
    {
      "cell_type": "code",
      "source": [
        "### training MLP with 10^k images (2 hidden layers with 128 units each)\n",
        "\n",
        "compare_train_images(x_train, y_train, x_test, y_test, [0, 1, 2, 3, 4])"
      ],
      "metadata": {
        "id": "9mJouQ7Zgej9",
        "outputId": "5b16d38c-d057-4524-dbbb-3fdb965c56be",
        "colab": {
          "base_uri": "https://localhost:8080/",
          "height": 295
        }
      },
      "execution_count": 168,
      "outputs": [
        {
          "output_type": "display_data",
          "data": {
            "text/plain": [
              "<Figure size 576x288 with 1 Axes>"
            ],
            "image/png": "[encoded data removed]"
          },
          "metadata": {
            "needs_background": "light"
          }
        }
      ]
    },
    {
      "cell_type": "markdown",
      "source": [
        "#### Testing a model trained on data normalized via greyscale values"
      ],
      "metadata": {
        "id": "sEztysYB2n0R"
      }
    },
    {
      "cell_type": "code",
      "source": [
        "### plotting training and testing for 0 hidden layers (ReLU)\n",
        "\n",
        "# x_train and x_test (the data used for other experiments) is normalized by\n",
        "# feature (by pixel number) with the formula (x - xmin) / (xmax - xmin) where\n",
        "# xmin and xmax are the maximum values of the pixel amongst all the training\n",
        "# data instances; for this experiment, we use data\n",
        "\n",
        "mlp0_grey_test = epoch_mini_batch(x_train_greyscale, y_train, x_test_greyscale, y_test, 0, [], \"ReLU\", 0.1, 1000, 20, track_acc = True)\n",
        "acc0__grey_test = evaluate_mlp_acc(mlp0_grey_test, x_train_greyscale, y_train, x_test_greyscale, y_test, silent = False)"
      ],
      "metadata": {
        "id": "XXearQWl2vBx",
        "outputId": "d1184e94-222c-4388-86fe-0828d2f71d88",
        "colab": {
          "base_uri": "https://localhost:8080/",
          "height": 644
        }
      },
      "execution_count": 169,
      "outputs": [
        {
          "output_type": "stream",
          "name": "stdout",
          "text": [
            "The accuracy of the model on the training data: 83.86%\n",
            "The accuracy of the model on the testing data: 82.57%\n",
            "\n",
            "\n"
          ]
        },
        {
          "output_type": "display_data",
          "data": {
            "text/plain": [
              "<Figure size 576x288 with 1 Axes>"
            ],
            "image/png": "[encoded data removed]"
          },
          "metadata": {
            "needs_background": "light"
          }
        },
        {
          "output_type": "display_data",
          "data": {
            "text/plain": [
              "<Figure size 576x288 with 1 Axes>"
            ],
            "image/png": "[encoded data removed]"
          },
          "metadata": {
            "needs_background": "light"
          }
        }
      ]
    },
    {
      "cell_type": "markdown",
      "source": [
        "### Determining optimal hyperparameters"
      ],
      "metadata": {
        "id": "GRpZwRiH5SNK"
      }
    },
    {
      "cell_type": "markdown",
      "source": [
        "#### Testing different learning rates"
      ],
      "metadata": {
        "id": "_2uQXzwnWxjg"
      }
    },
    {
      "cell_type": "code",
      "source": [
        "### comparing different learning rates for 128 hidden units and 1 epoch\n",
        "\n",
        "compare_learning_rates(x_train, y_train, x_test, y_test, [0.001, 0.01, 0.1])"
      ],
      "metadata": {
        "id": "tGM3Sx8W3dyk",
        "outputId": "d3c178a5-9842-4838-f2cd-87a4a648f490",
        "colab": {
          "base_uri": "https://localhost:8080/"
        }
      },
      "execution_count": 113,
      "outputs": [
        {
          "output_type": "stream",
          "name": "stdout",
          "text": [
            "Testing accuracy for learning rate 0.001\n",
            "\t0 hidden layers: 24.67%\n",
            "\t1 hidden layer: 31.45%\n",
            "\t2 hidden layers: 36.82%\n",
            "\n",
            "Testing accuracy for learning rate 0.01\n",
            "\t0 hidden layers: 64.2%\n",
            "\t2 hidden layers: 66.67%\n",
            "\n",
            "Testing accuracy for learning rate 0.1\n",
            "\t0 hidden layers: 78.34%\n",
            "\t1 hidden layer: 79.68%\n",
            "\t2 hidden layers: 79.99%\n",
            "\n"
          ]
        }
      ]
    },
    {
      "cell_type": "code",
      "source": [
        "compare_learning_rates(x_train, y_train, x_test, y_test, [0.11, 0.15, 0.2])"
      ],
      "metadata": {
        "id": "FMwGUj5m0ybS",
        "outputId": "43053941-2980-4d3d-ad69-4dbe7b9a25fe",
        "colab": {
          "base_uri": "https://localhost:8080/"
        }
      },
      "execution_count": 117,
      "outputs": [
        {
          "output_type": "stream",
          "name": "stdout",
          "text": [
            "Testing accuracy for learning rate 0.11\n",
            "\t0 hidden layers: 78.77%\n",
            "\t1 hidden layer: 80.15%\n",
            "\t2 hidden layers: 80.36%\n",
            "\n",
            "Testing accuracy for learning rate 0.15\n",
            "\t0 hidden layers: 79.13%\n",
            "\t1 hidden layer: 81.1%\n",
            "\t2 hidden layers: 80.98%\n",
            "\n",
            "Testing accuracy for learning rate 0.2\n",
            "\t0 hidden layers: 78.67%\n",
            "\t1 hidden layer: 81.86%\n",
            "\t2 hidden layers: 81.11%\n",
            "\n"
          ]
        }
      ]
    },
    {
      "cell_type": "code",
      "source": [
        "compare_learning_rates(x_train, y_train, x_test, y_test, [0.25, 0.3, 0.35])"
      ],
      "metadata": {
        "colab": {
          "base_uri": "https://localhost:8080/"
        },
        "id": "tFw7PULA5fbg",
        "outputId": "1ccd969a-9e0e-47ce-f980-90013556b545"
      },
      "execution_count": 41,
      "outputs": [
        {
          "output_type": "stream",
          "name": "stdout",
          "text": [
            "Testing accuracy for learning rate 0.25\n",
            "\t0 hidden layers: 77.65%\n",
            "\t1 hidden layer: 81.94%\n",
            "\t2 hidden layers: 80.89%\n",
            "\n",
            "Testing accuracy for learning rate 0.3\n",
            "\t0 hidden layers: 76.87%\n",
            "\t1 hidden layer: 81.97%\n",
            "\t2 hidden layers: 82.25%\n",
            "\n",
            "Testing accuracy for learning rate 0.35\n",
            "\t0 hidden layers: 77.82%\n",
            "\t1 hidden layer: 82.52%\n",
            "\t2 hidden layers: 79.49%\n",
            "\n"
          ]
        }
      ]
    },
    {
      "cell_type": "code",
      "source": [
        "compare_learning_rates(x_train, y_train, x_test, y_test, [0.31, 0.32, 0.33])"
      ],
      "metadata": {
        "colab": {
          "base_uri": "https://localhost:8080/"
        },
        "id": "zfdWoJDo7Ido",
        "outputId": "f615332e-9cab-497b-de97-a13c2860b34a"
      },
      "execution_count": 42,
      "outputs": [
        {
          "output_type": "stream",
          "name": "stdout",
          "text": [
            "Testing accuracy for learning rate 0.31\n",
            "\t0 hidden layers: 79.16%\n",
            "\t1 hidden layer: 82.23%\n",
            "\t2 hidden layers: 81.66%\n",
            "\n",
            "Testing accuracy for learning rate 0.32\n",
            "\t0 hidden layers: 76.96%\n",
            "\t1 hidden layer: 82.35%\n",
            "\t2 hidden layers: 82.74%\n",
            "\n",
            "Testing accuracy for learning rate 0.33\n",
            "\t0 hidden layers: 76.46%\n",
            "\t1 hidden layer: 82.33%\n",
            "\t2 hidden layers: 82.6%\n",
            "\n"
          ]
        }
      ]
    },
    {
      "cell_type": "markdown",
      "source": [
        "#### Testing different hidden layer and unit configurations\n",
        "\n"
      ],
      "metadata": {
        "id": "cjWgfGfXNn5b"
      }
    },
    {
      "cell_type": "code",
      "source": [
        "### comparing hidden layer/unit configurations for 1 epoch\n",
        "\n",
        "compare_hidden_configs(x_train, y_train, x_test, y_test, 0.32)"
      ],
      "metadata": {
        "colab": {
          "base_uri": "https://localhost:8080/"
        },
        "id": "iRNAiQ2XNsUV",
        "outputId": "c100e1f7-372f-4364-c203-011aee1362c9"
      },
      "execution_count": 44,
      "outputs": [
        {
          "output_type": "stream",
          "name": "stdout",
          "text": [
            "1 hidden layer with 32 hidden units\n",
            "\tTraining accuracy: 81.62%\n",
            "\tTesting accuracy: 80.75%\n",
            "\n",
            "1 hidden layer with 64 hidden units\n",
            "\tTraining accuracy: 81.72%\n",
            "\tTesting accuracy: 80.12%\n",
            "\n",
            "1 hidden layer with 128 hidden units\n",
            "\tTraining accuracy: 83.16%\n",
            "\tTesting accuracy: 82.35%\n",
            "\n",
            "2 hidden layers with 32, 32 units each\n",
            "\tTraining accuracy: 78.09%\n",
            "\tTesting accuracy: 77.45%\n",
            "\n",
            "2 hidden layers with 32, 64 units each\n",
            "\tTraining accuracy: 81.58%\n",
            "\tTesting accuracy: 80.67%\n",
            "\n",
            "2 hidden layers with 32, 128 units each\n",
            "\tTraining accuracy: 80.03%\n",
            "\tTesting accuracy: 79.04%\n",
            "\n",
            "2 hidden layers with 64, 32 units each\n",
            "\tTraining accuracy: 80.34%\n",
            "\tTesting accuracy: 79.46%\n",
            "\n",
            "2 hidden layers with 64, 64 units each\n",
            "\tTraining accuracy: 82.38%\n",
            "\tTesting accuracy: 81.26%\n",
            "\n",
            "2 hidden layers with 64, 128 units each\n",
            "\tTraining accuracy: 82.55%\n",
            "\tTesting accuracy: 81.34%\n",
            "\n",
            "2 hidden layers with 128, 32 units each\n",
            "\tTraining accuracy: 81.72%\n",
            "\tTesting accuracy: 80.84%\n",
            "\n",
            "2 hidden layers with 128, 64 units each\n",
            "\tTraining accuracy: 80.08%\n",
            "\tTesting accuracy: 79.01%\n",
            "\n",
            "2 hidden layers with 128, 128 units each\n",
            "\tTraining accuracy: 83.72%\n",
            "\tTesting accuracy: 82.74%\n",
            "\n"
          ]
        }
      ]
    },
    {
      "cell_type": "markdown",
      "source": [
        "#### Testing different number of epochs"
      ],
      "metadata": {
        "id": "7z-l0p1OEGxy"
      }
    },
    {
      "cell_type": "code",
      "source": [
        "mlpe_test = epoch_mini_batch(x_train, y_train, x_test, y_test, 0, [], \"ReLU\", 0.1, 1000, 50, track_acc = True)\n",
        "acce_test = evaluate_mlp_acc(mlpe_test, x_train, y_train, x_test, y_test, silent = False)"
      ],
      "metadata": {
        "id": "njcZ48rxRQn8",
        "outputId": "d9bbf8bb-444f-4bb6-9387-cd006b51541a",
        "colab": {
          "base_uri": "https://localhost:8080/",
          "height": 644
        }
      },
      "execution_count": 43,
      "outputs": [
        {
          "output_type": "stream",
          "name": "stdout",
          "text": [
            "The accuracy of the model on the training data: 86.94%\n",
            "The accuracy of the model on the testing data: 84.17%\n",
            "\n",
            "\n"
          ]
        },
        {
          "output_type": "display_data",
          "data": {
            "text/plain": [
              "<Figure size 576x288 with 1 Axes>"
            ],
            "image/png": "[encoded data removed]"
          },
          "metadata": {
            "needs_background": "light"
          }
        },
        {
          "output_type": "display_data",
          "data": {
            "text/plain": [
              "<Figure size 576x288 with 1 Axes>"
            ],
            "image/png": "[encoded data removed]"
          },
          "metadata": {
            "needs_background": "light"
          }
        }
      ]
    },
    {
      "cell_type": "markdown",
      "source": [
        "#### Testing optimal hyperparameters\n",
        "\n",
        "\n"
      ],
      "metadata": {
        "id": "Yv-XfMX9xbUP"
      }
    },
    {
      "cell_type": "code",
      "source": [
        "### 2 hidden layers, 128 hidden units, 0.32 learning rate, 46 epochs\n",
        "\n",
        "mlpo_test = epoch_mini_batch(x_train, y_train, x_test, y_test, 2, [128, 128], \"ReLU\", 0.32, 1000, 46, track_acc = True)\n",
        "acco_test = evaluate_mlp_acc(mlpo_test, x_train, y_train, x_test, y_test, silent = False)"
      ],
      "metadata": {
        "id": "uf_rbqZMxhNL",
        "outputId": "ef835c06-c137-47ce-b489-da9e6b769504",
        "colab": {
          "base_uri": "https://localhost:8080/",
          "height": 644
        }
      },
      "execution_count": 174,
      "outputs": [
        {
          "output_type": "stream",
          "name": "stdout",
          "text": [
            "The accuracy of the model on the training data: 97.18%\n",
            "The accuracy of the model on the testing data: 87.77%\n",
            "\n",
            "\n"
          ]
        },
        {
          "output_type": "display_data",
          "data": {
            "text/plain": [
              "<Figure size 576x288 with 1 Axes>"
            ],
            "image/png": "[encoded data removed]"
          },
          "metadata": {
            "needs_background": "light"
          }
        },
        {
          "output_type": "display_data",
          "data": {
            "text/plain": [
              "<Figure size 576x288 with 1 Axes>"
            ],
            "image/png": "[encoded data removed]"
          },
          "metadata": {
            "needs_background": "light"
          }
        }
      ]
    },
    {
      "cell_type": "markdown",
      "source": [
        "## Convnet"
      ],
      "metadata": {
        "id": "Tia8YS6kGkEW"
      }
    },
    {
      "cell_type": "code",
      "source": [
        "### description\n",
        "\n",
        "# we should make this silent (no output except for the graphs and accuracy) \n",
        "\n",
        "optimizer = optimizers.SGD(lr=0.1, decay=0, momentum=0, nesterov=False)\n",
        "convnet_model(optimizer, num_filters = 8, filter_size = 3, strides = 1, padding = 'valid', activation = 'relu', epochs = 3, batch_size = 60)"
      ],
      "metadata": {
        "id": "RyBdmeTLzHit",
        "outputId": "1a4e4900-7593-4275-ce97-848405cbbc4d",
        "colab": {
          "base_uri": "https://localhost:8080/",
          "height": 1000
        }
      },
      "execution_count": null,
      "outputs": [
        {
          "output_type": "stream",
          "name": "stdout",
          "text": [
            "Model: \"sequential\"\n",
            "_________________________________________________________________\n",
            " Layer (type)                Output Shape              Param #   \n",
            "=================================================================\n",
            " conv2d (Conv2D)             (None, 26, 26, 8)         80        \n",
            "                                                                 \n",
            " conv2d_1 (Conv2D)           (None, 24, 24, 8)         584       \n",
            "                                                                 \n",
            " flatten (Flatten)           (None, 4608)              0         \n",
            "                                                                 \n",
            " dense (Dense)               (None, 128)               589952    \n",
            "                                                                 \n",
            " dense_1 (Dense)             (None, 128)               16512     \n",
            "                                                                 \n",
            " dense_2 (Dense)             (None, 10)                1290      \n",
            "                                                                 \n",
            "=================================================================\n",
            "Total params: 608,418\n",
            "Trainable params: 608,418\n",
            "Non-trainable params: 0\n",
            "_________________________________________________________________\n",
            "Model: \"sequential_1\"\n",
            "_________________________________________________________________\n",
            " Layer (type)                Output Shape              Param #   \n",
            "=================================================================\n",
            " conv2d_2 (Conv2D)           (None, 26, 26, 8)         80        \n",
            "                                                                 \n",
            " conv2d_3 (Conv2D)           (None, 24, 24, 8)         584       \n",
            "                                                                 \n",
            " flatten_1 (Flatten)         (None, 4608)              0         \n",
            "                                                                 \n",
            " dense_3 (Dense)             (None, 128)               589952    \n",
            "                                                                 \n",
            " dense_4 (Dense)             (None, 128)               16512     \n",
            "                                                                 \n",
            " dense_5 (Dense)             (None, 10)                1290      \n",
            "                                                                 \n",
            "=================================================================\n",
            "Total params: 608,418\n",
            "Trainable params: 608,418\n",
            "Non-trainable params: 0\n",
            "_________________________________________________________________\n",
            "Epoch 1/3\n",
            "1000/1000 [==============================] - 51s 50ms/step - loss: 0.4797 - accuracy: 0.8240\n",
            "Epoch 2/3\n",
            "1000/1000 [==============================] - 53s 53ms/step - loss: 0.3022 - accuracy: 0.8890\n",
            "Epoch 3/3\n",
            "1000/1000 [==============================] - 60s 60ms/step - loss: 0.2481 - accuracy: 0.9076\n",
            "Epoch 1/3\n",
            "167/167 [==============================] - 12s 69ms/step - loss: 0.8348 - accuracy: 0.6936\n",
            "Epoch 2/3\n",
            "167/167 [==============================] - 12s 69ms/step - loss: 0.4865 - accuracy: 0.8217\n",
            "Epoch 3/3\n",
            "167/167 [==============================] - 13s 80ms/step - loss: 0.4003 - accuracy: 0.8523\n"
          ]
        },
        {
          "output_type": "display_data",
          "data": {
            "text/plain": [
              "<Figure size 576x288 with 1 Axes>"
            ],
            "image/png": "[encoded data removed]"
          },
          "metadata": {
            "needs_background": "light"
          }
        },
        {
          "output_type": "display_data",
          "data": {
            "text/plain": [
              "<Figure size 576x288 with 1 Axes>"
            ],
            "image/png": "[encoded data removed]"
          },
          "metadata": {
            "needs_background": "light"
          }
        }
      ]
    }
  ],
  "metadata": {
    "colab": {
      "provenance": [],
      "include_colab_link": true
    },
    "kernelspec": {
      "display_name": "Python 3",
      "name": "python3"
    },
    "language_info": {
      "name": "python"
    }
  },
  "nbformat": 4,
  "nbformat_minor": 0
}