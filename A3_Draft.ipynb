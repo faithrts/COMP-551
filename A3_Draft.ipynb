{
  "cells": [
    {
      "cell_type": "markdown",
      "metadata": {
        "id": "view-in-github",
        "colab_type": "text"
      },
      "source": [
        "<a href=\"https://colab.research.google.com/github/faithrts/COMP-551/blob/main/A3_Draft.ipynb\" target=\"_parent\"><img src=\"https://colab.research.google.com/assets/colab-badge.svg\" alt=\"Open In Colab\"/></a>"
      ]
    },
    {
      "cell_type": "markdown",
      "source": [
        "# Set-up"
      ],
      "metadata": {
        "id": "8A1SE2icjh69"
      }
    },
    {
      "cell_type": "code",
      "execution_count": 33,
      "metadata": {
        "id": "VCTCTWgB-NKG",
        "outputId": "dac4676d-8820-4e3b-8e91-ee0e93a848bb",
        "colab": {
          "base_uri": "https://localhost:8080/"
        }
      },
      "outputs": [
        {
          "output_type": "stream",
          "name": "stdout",
          "text": [
            "mkdir: cannot create directory ‘images’: File exists\n"
          ]
        }
      ],
      "source": [
        "### importing libraries and setting the random seed\n",
        "\n",
        "import numpy as np\n",
        "import pandas as pd\n",
        "import sys\n",
        "\n",
        "%matplotlib notebook\n",
        "%matplotlib inline\n",
        "import matplotlib.pyplot as plt\n",
        "import matplotlib.gridspec as gridspec\n",
        "#from matplotlib import cm\n",
        "\n",
        "import re\n",
        "import cv2\n",
        "import math\n",
        "import tensorflow as tf\n",
        "from tensorflow.keras import layers, models, optimizers\n",
        "from keras.datasets import mnist\n",
        "from importlib import reload\n",
        "from typing import List\n",
        "from tqdm import tqdm\n",
        "from enum import Enum\n",
        "from numpy.random import RandomState\n",
        "\n",
        "from sklearn.feature_extraction.text import CountVectorizer\n",
        "\n",
        "import warnings\n",
        "warnings.filterwarnings('ignore')\n",
        "\n",
        "# a folder to store the saved graphs\n",
        "!mkdir images"
      ]
    },
    {
      "cell_type": "markdown",
      "source": [
        "# Data Handling"
      ],
      "metadata": {
        "id": "hKHZWj9vjn1j"
      }
    },
    {
      "cell_type": "markdown",
      "source": [
        "### Helper functions"
      ],
      "metadata": {
        "id": "MtAHDLEXj2T3"
      }
    },
    {
      "cell_type": "markdown",
      "source": [
        "#### Loading and cleaning data"
      ],
      "metadata": {
        "id": "8rHPqW8GC1E6"
      }
    },
    {
      "cell_type": "code",
      "source": [
        "# assumes the last column of the dataframe is the labels\n",
        "def x_y_from_df(df):\n",
        "  x = df.iloc[:, :-1].to_numpy()\n",
        "  y = df.iloc[:, -1].to_numpy()\n",
        "\n",
        "  return x, y"
      ],
      "metadata": {
        "id": "2V6syl07WULR"
      },
      "execution_count": 34,
      "outputs": []
    },
    {
      "cell_type": "code",
      "source": [
        "def center_array(arr):\n",
        "  mean = np.mean(arr)\n",
        "  return_arr = np.array(arr) - mean\n",
        "  # return_arr = [item - mean for item in arr]\n",
        "\n",
        "  return return_arr"
      ],
      "metadata": {
        "id": "vudEuApQoTk7"
      },
      "execution_count": 35,
      "outputs": []
    },
    {
      "cell_type": "code",
      "source": [
        "def normalize_array(arr):\n",
        "  std = np.std(arr)\n",
        "  return_arr = np.array(arr) / std\n",
        "  # return_arr = [item / std for item in arr]\n",
        "\n",
        "  return return_arr"
      ],
      "metadata": {
        "id": "uWuzGFZrpHxK"
      },
      "execution_count": 36,
      "outputs": []
    },
    {
      "cell_type": "code",
      "source": [
        "def normalize_greyscale_array(arr):\n",
        "  # the min and max pixel greyscale values\n",
        "  min = 0\n",
        "  max = 255\n",
        "\n",
        "  return np.array(arr - min) / max - min"
      ],
      "metadata": {
        "id": "-Qc-lUOE-yB7"
      },
      "execution_count": 37,
      "outputs": []
    },
    {
      "cell_type": "code",
      "source": [
        "# pre-processes the df by performing mean subtraction and normalization\n",
        "def preprocess_df(df):\n",
        "  preprocessed_df = df.copy()\n",
        "\n",
        "  for col in preprocessed_df.iloc[:, :-1]:\n",
        "    preprocessed_col = normalize_array(center_array(df[col]))\n",
        "    preprocessed_df[col] = preprocessed_col\n",
        "\n",
        "  return preprocessed_df"
      ],
      "metadata": {
        "id": "9XtP7FZtn6mN"
      },
      "execution_count": 38,
      "outputs": []
    },
    {
      "cell_type": "code",
      "source": [
        "def preprocess_greyscale_df(df):\n",
        "  preprocessed_df = df.copy()\n",
        "\n",
        "  for col in preprocessed_df.iloc[:, :-1]:\n",
        "    preprocessed_col = normalize_greyscale_array(center_array(df[col]))\n",
        "    preprocessed_df[col] = preprocessed_col\n",
        "\n",
        "  return preprocessed_df"
      ],
      "metadata": {
        "id": "euQ4kSY5_ieV"
      },
      "execution_count": 39,
      "outputs": []
    },
    {
      "cell_type": "code",
      "source": [
        "# pre-processes the df by performing mean subtraction\n",
        "def preprocess_no_normalization_df(df):\n",
        "  preprocessed_df = df.copy()\n",
        "\n",
        "  for col in preprocessed_df.iloc[:, :-1]:\n",
        "    preprocessed_col = center_array(df[col])\n",
        "    preprocessed_df[col] = preprocessed_col\n",
        "\n",
        "  return preprocessed_df"
      ],
      "metadata": {
        "id": "MDvEhngMdlR0"
      },
      "execution_count": 40,
      "outputs": []
    },
    {
      "cell_type": "markdown",
      "source": [
        "#### Plotting graphs"
      ],
      "metadata": {
        "id": "sx9mADR8DD8L"
      }
    },
    {
      "cell_type": "code",
      "source": [
        "def plot_label_distributions(label_arr, dataset_name, labels = 0):\n",
        "  \n",
        "  # creates the plot\n",
        "  plt.figure(figsize = (10,4))\n",
        "  width = 0.6\n",
        "\n",
        "  unique_labels = list(set(label_arr))\n",
        "  counts = []\n",
        "\n",
        "  for label in unique_labels:\n",
        "    count = label_arr.count(label)\n",
        "    counts.append(count)\n",
        "\n",
        "  if labels == 0:\n",
        "    labels = [str(label) for label in unique_labels]\n",
        "\n",
        "  # the colour codes of the bars\n",
        "  colours = ['#001219', '#005f73', '#0a9396', '#94d2bd', '#e9d8a6',\n",
        "            '#ee9b00', '#ca6702', '#bb3e03', '#ae2012', '#9b2226']\n",
        "\n",
        "  plt.bar(labels, counts, width, color = colours)\n",
        "  plt.title(\"Distribution of Class Labels in \" + dataset_name + \" Dataset\")\n",
        "  plt.xlabel(\"Label\")\n",
        "  plt.ylabel(\"Count\")\n",
        "\n",
        "  for index, value in enumerate(counts):\n",
        "    plt.text(index - 0.24, value + 5, str(round(value, 2)))\n",
        "\n",
        "  plt.show()"
      ],
      "metadata": {
        "id": "G-UXPNHRww-f"
      },
      "execution_count": 41,
      "outputs": []
    },
    {
      "cell_type": "markdown",
      "source": [
        "## Importing"
      ],
      "metadata": {
        "id": "FsaKjKTqjylr"
      }
    },
    {
      "cell_type": "code",
      "source": [
        "# clones the github repo\n",
        "!git clone https://github.com/zalandoresearch/fashion-mnist\n",
        "sys.path.insert(1, 'fashion-mnist/utils')\n",
        "\n",
        "# imports the mnist reader from the repo\n",
        "import mnist_reader"
      ],
      "metadata": {
        "colab": {
          "base_uri": "https://localhost:8080/"
        },
        "id": "JDX1OBJ7jUl8",
        "outputId": "33e2387d-4415-4618-c9a2-b9bcd02cbdba"
      },
      "execution_count": 42,
      "outputs": [
        {
          "output_type": "stream",
          "name": "stdout",
          "text": [
            "fatal: destination path 'fashion-mnist' already exists and is not an empty directory.\n"
          ]
        }
      ]
    },
    {
      "cell_type": "markdown",
      "source": [
        "### Loading and cleaning data"
      ],
      "metadata": {
        "id": "HQbCrZx0-EgM"
      }
    },
    {
      "cell_type": "code",
      "source": [
        "### loading the data using the github repo's mnist_reader.load_mnist\n",
        "\n",
        "labels = ['T-shirt/top', 'Trouser', 'Pullover', 'Dress', 'Coat',\n",
        "          'Sandal', 'Shirt', 'Sneaker', 'Bag', 'Ankle boot']\n",
        "\n",
        "# training data\n",
        "x_train_temp, y_train = mnist_reader.load_mnist('fashion-mnist/data/fashion', kind = 'train')\n",
        "\n",
        "# testing data\n",
        "x_test_temp, y_test = mnist_reader.load_mnist('fashion-mnist/data/fashion', kind = 't10k')"
      ],
      "metadata": {
        "id": "kZITIsTPkA3M"
      },
      "execution_count": 43,
      "outputs": []
    },
    {
      "cell_type": "code",
      "source": [
        "### creating dataframes to better understand data\n",
        "\n",
        "# training dataframe\n",
        "train_temp_df = pd.DataFrame(x_train_temp)\n",
        "train_temp_df['LABEL'] = y_train\n",
        "\n",
        "# testing dataframe\n",
        "test_temp_df = pd.DataFrame(x_test_temp)\n",
        "test_temp_df['LABEL'] = y_test"
      ],
      "metadata": {
        "id": "PgtXdMOXkxwK"
      },
      "execution_count": 44,
      "outputs": []
    },
    {
      "cell_type": "code",
      "source": [
        "train_temp_df"
      ],
      "metadata": {
        "colab": {
          "base_uri": "https://localhost:8080/",
          "height": 424
        },
        "id": "ZkQzG8t8l5xp",
        "outputId": "d82600ab-e0c5-4c31-a53c-82597c0300b5"
      },
      "execution_count": 45,
      "outputs": [
        {
          "output_type": "execute_result",
          "data": {
            "text/plain": [
              "       0  1  2  3  4  5  6  7   8   9  ...  775  776  777  778  779  780  781  \\\n",
              "0      0  0  0  0  0  0  0  0   0   0  ...    0    0    0    0    0    0    0   \n",
              "1      0  0  0  0  0  1  0  0   0   0  ...  114  130   76    0    0    0    0   \n",
              "2      0  0  0  0  0  0  0  0   0  22  ...    0    1    0    0    0    0    0   \n",
              "3      0  0  0  0  0  0  0  0  33  96  ...    0    0    0    0    0    0    0   \n",
              "4      0  0  0  0  0  0  0  0   0   0  ...    0    0    0    0    0    0    0   \n",
              "...   .. .. .. .. .. .. .. ..  ..  ..  ...  ...  ...  ...  ...  ...  ...  ...   \n",
              "59995  0  0  0  0  0  0  0  0   0   0  ...    0    0    0    0    0    0    0   \n",
              "59996  0  0  0  0  0  0  0  0   0   0  ...    0    0    0    0    0    0    0   \n",
              "59997  0  0  0  0  0  0  0  0   0   5  ...    0    0    0    0    0    0    0   \n",
              "59998  0  0  0  0  0  0  0  0   0   0  ...   54   50    5    0    1    0    0   \n",
              "59999  0  0  0  0  0  0  0  0   0   0  ...    0    0    0    0    0    0    0   \n",
              "\n",
              "       782  783  LABEL  \n",
              "0        0    0      9  \n",
              "1        0    0      0  \n",
              "2        0    0      0  \n",
              "3        0    0      3  \n",
              "4        0    0      0  \n",
              "...    ...  ...    ...  \n",
              "59995    0    0      5  \n",
              "59996    0    0      1  \n",
              "59997    0    0      3  \n",
              "59998    0    0      0  \n",
              "59999    0    0      5  \n",
              "\n",
              "[60000 rows x 785 columns]"
            ],
            "text/html": [
              "\n",
              "  <div id=\"df-e91153b1-b3f5-43f1-93ad-21f15bff770e\">\n",
              "    <div class=\"colab-df-container\">\n",
              "      <div>\n",
              "<style scoped>\n",
              "    .dataframe tbody tr th:only-of-type {\n",
              "        vertical-align: middle;\n",
              "    }\n",
              "\n",
              "    .dataframe tbody tr th {\n",
              "        vertical-align: top;\n",
              "    }\n",
              "\n",
              "    .dataframe thead th {\n",
              "        text-align: right;\n",
              "    }\n",
              "</style>\n",
              "<table border=\"1\" class=\"dataframe\">\n",
              "  <thead>\n",
              "    <tr style=\"text-align: right;\">\n",
              "      <th></th>\n",
              "      <th>0</th>\n",
              "      <th>1</th>\n",
              "      <th>2</th>\n",
              "      <th>3</th>\n",
              "      <th>4</th>\n",
              "      <th>5</th>\n",
              "      <th>6</th>\n",
              "      <th>7</th>\n",
              "      <th>8</th>\n",
              "      <th>9</th>\n",
              "      <th>...</th>\n",
              "      <th>775</th>\n",
              "      <th>776</th>\n",
              "      <th>777</th>\n",
              "      <th>778</th>\n",
              "      <th>779</th>\n",
              "      <th>780</th>\n",
              "      <th>781</th>\n",
              "      <th>782</th>\n",
              "      <th>783</th>\n",
              "      <th>LABEL</th>\n",
              "    </tr>\n",
              "  </thead>\n",
              "  <tbody>\n",
              "    <tr>\n",
              "      <th>0</th>\n",
              "      <td>0</td>\n",
              "      <td>0</td>\n",
              "      <td>0</td>\n",
              "      <td>0</td>\n",
              "      <td>0</td>\n",
              "      <td>0</td>\n",
              "      <td>0</td>\n",
              "      <td>0</td>\n",
              "      <td>0</td>\n",
              "      <td>0</td>\n",
              "      <td>...</td>\n",
              "      <td>0</td>\n",
              "      <td>0</td>\n",
              "      <td>0</td>\n",
              "      <td>0</td>\n",
              "      <td>0</td>\n",
              "      <td>0</td>\n",
              "      <td>0</td>\n",
              "      <td>0</td>\n",
              "      <td>0</td>\n",
              "      <td>9</td>\n",
              "    </tr>\n",
              "    <tr>\n",
              "      <th>1</th>\n",
              "      <td>0</td>\n",
              "      <td>0</td>\n",
              "      <td>0</td>\n",
              "      <td>0</td>\n",
              "      <td>0</td>\n",
              "      <td>1</td>\n",
              "      <td>0</td>\n",
              "      <td>0</td>\n",
              "      <td>0</td>\n",
              "      <td>0</td>\n",
              "      <td>...</td>\n",
              "      <td>114</td>\n",
              "      <td>130</td>\n",
              "      <td>76</td>\n",
              "      <td>0</td>\n",
              "      <td>0</td>\n",
              "      <td>0</td>\n",
              "      <td>0</td>\n",
              "      <td>0</td>\n",
              "      <td>0</td>\n",
              "      <td>0</td>\n",
              "    </tr>\n",
              "    <tr>\n",
              "      <th>2</th>\n",
              "      <td>0</td>\n",
              "      <td>0</td>\n",
              "      <td>0</td>\n",
              "      <td>0</td>\n",
              "      <td>0</td>\n",
              "      <td>0</td>\n",
              "      <td>0</td>\n",
              "      <td>0</td>\n",
              "      <td>0</td>\n",
              "      <td>22</td>\n",
              "      <td>...</td>\n",
              "      <td>0</td>\n",
              "      <td>1</td>\n",
              "      <td>0</td>\n",
              "      <td>0</td>\n",
              "      <td>0</td>\n",
              "      <td>0</td>\n",
              "      <td>0</td>\n",
              "      <td>0</td>\n",
              "      <td>0</td>\n",
              "      <td>0</td>\n",
              "    </tr>\n",
              "    <tr>\n",
              "      <th>3</th>\n",
              "      <td>0</td>\n",
              "      <td>0</td>\n",
              "      <td>0</td>\n",
              "      <td>0</td>\n",
              "      <td>0</td>\n",
              "      <td>0</td>\n",
              "      <td>0</td>\n",
              "      <td>0</td>\n",
              "      <td>33</td>\n",
              "      <td>96</td>\n",
              "      <td>...</td>\n",
              "      <td>0</td>\n",
              "      <td>0</td>\n",
              "      <td>0</td>\n",
              "      <td>0</td>\n",
              "      <td>0</td>\n",
              "      <td>0</td>\n",
              "      <td>0</td>\n",
              "      <td>0</td>\n",
              "      <td>0</td>\n",
              "      <td>3</td>\n",
              "    </tr>\n",
              "    <tr>\n",
              "      <th>4</th>\n",
              "      <td>0</td>\n",
              "      <td>0</td>\n",
              "      <td>0</td>\n",
              "      <td>0</td>\n",
              "      <td>0</td>\n",
              "      <td>0</td>\n",
              "      <td>0</td>\n",
              "      <td>0</td>\n",
              "      <td>0</td>\n",
              "      <td>0</td>\n",
              "      <td>...</td>\n",
              "      <td>0</td>\n",
              "      <td>0</td>\n",
              "      <td>0</td>\n",
              "      <td>0</td>\n",
              "      <td>0</td>\n",
              "      <td>0</td>\n",
              "      <td>0</td>\n",
              "      <td>0</td>\n",
              "      <td>0</td>\n",
              "      <td>0</td>\n",
              "    </tr>\n",
              "    <tr>\n",
              "      <th>...</th>\n",
              "      <td>...</td>\n",
              "      <td>...</td>\n",
              "      <td>...</td>\n",
              "      <td>...</td>\n",
              "      <td>...</td>\n",
              "      <td>...</td>\n",
              "      <td>...</td>\n",
              "      <td>...</td>\n",
              "      <td>...</td>\n",
              "      <td>...</td>\n",
              "      <td>...</td>\n",
              "      <td>...</td>\n",
              "      <td>...</td>\n",
              "      <td>...</td>\n",
              "      <td>...</td>\n",
              "      <td>...</td>\n",
              "      <td>...</td>\n",
              "      <td>...</td>\n",
              "      <td>...</td>\n",
              "      <td>...</td>\n",
              "      <td>...</td>\n",
              "    </tr>\n",
              "    <tr>\n",
              "      <th>59995</th>\n",
              "      <td>0</td>\n",
              "      <td>0</td>\n",
              "      <td>0</td>\n",
              "      <td>0</td>\n",
              "      <td>0</td>\n",
              "      <td>0</td>\n",
              "      <td>0</td>\n",
              "      <td>0</td>\n",
              "      <td>0</td>\n",
              "      <td>0</td>\n",
              "      <td>...</td>\n",
              "      <td>0</td>\n",
              "      <td>0</td>\n",
              "      <td>0</td>\n",
              "      <td>0</td>\n",
              "      <td>0</td>\n",
              "      <td>0</td>\n",
              "      <td>0</td>\n",
              "      <td>0</td>\n",
              "      <td>0</td>\n",
              "      <td>5</td>\n",
              "    </tr>\n",
              "    <tr>\n",
              "      <th>59996</th>\n",
              "      <td>0</td>\n",
              "      <td>0</td>\n",
              "      <td>0</td>\n",
              "      <td>0</td>\n",
              "      <td>0</td>\n",
              "      <td>0</td>\n",
              "      <td>0</td>\n",
              "      <td>0</td>\n",
              "      <td>0</td>\n",
              "      <td>0</td>\n",
              "      <td>...</td>\n",
              "      <td>0</td>\n",
              "      <td>0</td>\n",
              "      <td>0</td>\n",
              "      <td>0</td>\n",
              "      <td>0</td>\n",
              "      <td>0</td>\n",
              "      <td>0</td>\n",
              "      <td>0</td>\n",
              "      <td>0</td>\n",
              "      <td>1</td>\n",
              "    </tr>\n",
              "    <tr>\n",
              "      <th>59997</th>\n",
              "      <td>0</td>\n",
              "      <td>0</td>\n",
              "      <td>0</td>\n",
              "      <td>0</td>\n",
              "      <td>0</td>\n",
              "      <td>0</td>\n",
              "      <td>0</td>\n",
              "      <td>0</td>\n",
              "      <td>0</td>\n",
              "      <td>5</td>\n",
              "      <td>...</td>\n",
              "      <td>0</td>\n",
              "      <td>0</td>\n",
              "      <td>0</td>\n",
              "      <td>0</td>\n",
              "      <td>0</td>\n",
              "      <td>0</td>\n",
              "      <td>0</td>\n",
              "      <td>0</td>\n",
              "      <td>0</td>\n",
              "      <td>3</td>\n",
              "    </tr>\n",
              "    <tr>\n",
              "      <th>59998</th>\n",
              "      <td>0</td>\n",
              "      <td>0</td>\n",
              "      <td>0</td>\n",
              "      <td>0</td>\n",
              "      <td>0</td>\n",
              "      <td>0</td>\n",
              "      <td>0</td>\n",
              "      <td>0</td>\n",
              "      <td>0</td>\n",
              "      <td>0</td>\n",
              "      <td>...</td>\n",
              "      <td>54</td>\n",
              "      <td>50</td>\n",
              "      <td>5</td>\n",
              "      <td>0</td>\n",
              "      <td>1</td>\n",
              "      <td>0</td>\n",
              "      <td>0</td>\n",
              "      <td>0</td>\n",
              "      <td>0</td>\n",
              "      <td>0</td>\n",
              "    </tr>\n",
              "    <tr>\n",
              "      <th>59999</th>\n",
              "      <td>0</td>\n",
              "      <td>0</td>\n",
              "      <td>0</td>\n",
              "      <td>0</td>\n",
              "      <td>0</td>\n",
              "      <td>0</td>\n",
              "      <td>0</td>\n",
              "      <td>0</td>\n",
              "      <td>0</td>\n",
              "      <td>0</td>\n",
              "      <td>...</td>\n",
              "      <td>0</td>\n",
              "      <td>0</td>\n",
              "      <td>0</td>\n",
              "      <td>0</td>\n",
              "      <td>0</td>\n",
              "      <td>0</td>\n",
              "      <td>0</td>\n",
              "      <td>0</td>\n",
              "      <td>0</td>\n",
              "      <td>5</td>\n",
              "    </tr>\n",
              "  </tbody>\n",
              "</table>\n",
              "<p>60000 rows × 785 columns</p>\n",
              "</div>\n",
              "      <button class=\"colab-df-convert\" onclick=\"convertToInteractive('df-e91153b1-b3f5-43f1-93ad-21f15bff770e')\"\n",
              "              title=\"Convert this dataframe to an interactive table.\"\n",
              "              style=\"display:none;\">\n",
              "        \n",
              "  <svg xmlns=\"http://www.w3.org/2000/svg\" height=\"24px\"viewBox=\"0 0 24 24\"\n",
              "       width=\"24px\">\n",
              "    <path d=\"M0 0h24v24H0V0z\" fill=\"none\"/>\n",
              "    <path d=\"M18.56 5.44l.94 2.06.94-2.06 2.06-.94-2.06-.94-.94-2.06-.94 2.06-2.06.94zm-11 1L8.5 8.5l.94-2.06 2.06-.94-2.06-.94L8.5 2.5l-.94 2.06-2.06.94zm10 10l.94 2.06.94-2.06 2.06-.94-2.06-.94-.94-2.06-.94 2.06-2.06.94z\"/><path d=\"M17.41 7.96l-1.37-1.37c-.4-.4-.92-.59-1.43-.59-.52 0-1.04.2-1.43.59L10.3 9.45l-7.72 7.72c-.78.78-.78 2.05 0 2.83L4 21.41c.39.39.9.59 1.41.59.51 0 1.02-.2 1.41-.59l7.78-7.78 2.81-2.81c.8-.78.8-2.07 0-2.86zM5.41 20L4 18.59l7.72-7.72 1.47 1.35L5.41 20z\"/>\n",
              "  </svg>\n",
              "      </button>\n",
              "      \n",
              "  <style>\n",
              "    .colab-df-container {\n",
              "      display:flex;\n",
              "      flex-wrap:wrap;\n",
              "      gap: 12px;\n",
              "    }\n",
              "\n",
              "    .colab-df-convert {\n",
              "      background-color: #E8F0FE;\n",
              "      border: none;\n",
              "      border-radius: 50%;\n",
              "      cursor: pointer;\n",
              "      display: none;\n",
              "      fill: #1967D2;\n",
              "      height: 32px;\n",
              "      padding: 0 0 0 0;\n",
              "      width: 32px;\n",
              "    }\n",
              "\n",
              "    .colab-df-convert:hover {\n",
              "      background-color: #E2EBFA;\n",
              "      box-shadow: 0px 1px 2px rgba(60, 64, 67, 0.3), 0px 1px 3px 1px rgba(60, 64, 67, 0.15);\n",
              "      fill: #174EA6;\n",
              "    }\n",
              "\n",
              "    [theme=dark] .colab-df-convert {\n",
              "      background-color: #3B4455;\n",
              "      fill: #D2E3FC;\n",
              "    }\n",
              "\n",
              "    [theme=dark] .colab-df-convert:hover {\n",
              "      background-color: #434B5C;\n",
              "      box-shadow: 0px 1px 3px 1px rgba(0, 0, 0, 0.15);\n",
              "      filter: drop-shadow(0px 1px 2px rgba(0, 0, 0, 0.3));\n",
              "      fill: #FFFFFF;\n",
              "    }\n",
              "  </style>\n",
              "\n",
              "      <script>\n",
              "        const buttonEl =\n",
              "          document.querySelector('#df-e91153b1-b3f5-43f1-93ad-21f15bff770e button.colab-df-convert');\n",
              "        buttonEl.style.display =\n",
              "          google.colab.kernel.accessAllowed ? 'block' : 'none';\n",
              "\n",
              "        async function convertToInteractive(key) {\n",
              "          const element = document.querySelector('#df-e91153b1-b3f5-43f1-93ad-21f15bff770e');\n",
              "          const dataTable =\n",
              "            await google.colab.kernel.invokeFunction('convertToInteractive',\n",
              "                                                     [key], {});\n",
              "          if (!dataTable) return;\n",
              "\n",
              "          const docLinkHtml = 'Like what you see? Visit the ' +\n",
              "            '<a target=\"_blank\" href=https://colab.research.google.com/notebooks/data_table.ipynb>data table notebook</a>'\n",
              "            + ' to learn more about interactive tables.';\n",
              "          element.innerHTML = '';\n",
              "          dataTable['output_type'] = 'display_data';\n",
              "          await google.colab.output.renderOutput(dataTable, element);\n",
              "          const docLink = document.createElement('div');\n",
              "          docLink.innerHTML = docLinkHtml;\n",
              "          element.appendChild(docLink);\n",
              "        }\n",
              "      </script>\n",
              "    </div>\n",
              "  </div>\n",
              "  "
            ]
          },
          "metadata": {},
          "execution_count": 45
        }
      ]
    },
    {
      "cell_type": "code",
      "source": [
        "### centering and normalizing the data\n",
        "\n",
        "# pre-processing each dataframe\n",
        "train_df = preprocess_df(train_temp_df)\n",
        "test_df = preprocess_df(test_temp_df)\n",
        "\n",
        "# extracting arrays for x_train, y_train, x_test, y_test\n",
        "x_train, y_train = x_y_from_df(train_df)\n",
        "x_test, y_test = x_y_from_df(test_df)"
      ],
      "metadata": {
        "id": "aCWhRpennWnd"
      },
      "execution_count": 46,
      "outputs": []
    },
    {
      "cell_type": "code",
      "source": [
        "### saving a copy of the un-preprocessed (centered and normalized) data\n",
        "\n",
        "x_train_unprocessed, _ = x_y_from_df(train_temp_df)\n",
        "x_test_unprocessed, _ = x_y_from_df(test_temp_df)"
      ],
      "metadata": {
        "id": "n0vemftld2Ja"
      },
      "execution_count": 47,
      "outputs": []
    },
    {
      "cell_type": "code",
      "source": [
        "### saving a copy of the data normalized based on the pixel greyscale values\n",
        "\n",
        "# pre-processing each dataframe\n",
        "train_greyscale_df = preprocess_greyscale_df(train_temp_df)\n",
        "test_greyscale_df = preprocess_greyscale_df(test_temp_df)\n",
        "\n",
        "x_train_greyscale, y_train_greyscale = x_y_from_df(train_greyscale_df)\n",
        "x_test_greyscale, y_test_greyscale = x_y_from_df(test_greyscale_df)"
      ],
      "metadata": {
        "id": "7XDsp3n9_zaQ"
      },
      "execution_count": 48,
      "outputs": []
    },
    {
      "cell_type": "code",
      "source": [
        "### saving a copy of the data reshaped into images for the convnet\n",
        "\n",
        "# reshapes the arrays into image format (28 x 28 pixels)\n",
        "x_train_convnet = np.reshape(x_train, (60000, 28, 28, 1))\n",
        "x_test_convnet = np.reshape(x_test, (10000, 28, 28, 1))\n",
        "\n",
        "y_train_convnet = tf.keras.utils.to_categorical(y_train)\n",
        "y_test_convnet = tf.keras.utils.to_categorical(y_test)"
      ],
      "metadata": {
        "id": "ZoLHrbjOIlSC"
      },
      "execution_count": 49,
      "outputs": []
    },
    {
      "cell_type": "code",
      "source": [
        "train_df"
      ],
      "metadata": {
        "colab": {
          "base_uri": "https://localhost:8080/",
          "height": 488
        },
        "id": "_S73o8ans37S",
        "outputId": "88be4fd7-6d7a-456c-aa5d-132013a62ee7"
      },
      "execution_count": 50,
      "outputs": [
        {
          "output_type": "execute_result",
          "data": {
            "text/plain": [
              "              0         1         2         3         4         5         6  \\\n",
              "0     -0.008644 -0.023223 -0.039178 -0.041322 -0.057646 -0.071167 -0.098878   \n",
              "1     -0.008644 -0.023223 -0.039178 -0.041322 -0.057646  0.100437 -0.098878   \n",
              "2     -0.008644 -0.023223 -0.039178 -0.041322 -0.057646 -0.071167 -0.098878   \n",
              "3     -0.008644 -0.023223 -0.039178 -0.041322 -0.057646 -0.071167 -0.098878   \n",
              "4     -0.008644 -0.023223 -0.039178 -0.041322 -0.057646 -0.071167 -0.098878   \n",
              "...         ...       ...       ...       ...       ...       ...       ...   \n",
              "59995 -0.008644 -0.023223 -0.039178 -0.041322 -0.057646 -0.071167 -0.098878   \n",
              "59996 -0.008644 -0.023223 -0.039178 -0.041322 -0.057646 -0.071167 -0.098878   \n",
              "59997 -0.008644 -0.023223 -0.039178 -0.041322 -0.057646 -0.071167 -0.098878   \n",
              "59998 -0.008644 -0.023223 -0.039178 -0.041322 -0.057646 -0.071167 -0.098878   \n",
              "59999 -0.008644 -0.023223 -0.039178 -0.041322 -0.057646 -0.071167 -0.098878   \n",
              "\n",
              "              7         8         9  ...       775       776       777  \\\n",
              "0     -0.156653 -0.239080 -0.377827  ... -0.474798 -0.394260 -0.406094   \n",
              "1     -0.156653 -0.239080 -0.377827  ...  1.857395  2.697741  1.324682   \n",
              "2     -0.156653 -0.239080  0.198023  ... -0.474798 -0.370475 -0.406094   \n",
              "3     -0.156653  1.145393  2.134974  ... -0.474798 -0.394260 -0.406094   \n",
              "4     -0.156653 -0.239080 -0.377827  ... -0.474798 -0.394260 -0.406094   \n",
              "...         ...       ...       ...  ...       ...       ...       ...   \n",
              "59995 -0.156653 -0.239080 -0.377827  ... -0.474798 -0.394260 -0.406094   \n",
              "59996 -0.156653 -0.239080 -0.377827  ... -0.474798 -0.394260 -0.406094   \n",
              "59997 -0.156653 -0.239080 -0.246952  ... -0.474798 -0.394260 -0.406094   \n",
              "59998 -0.156653 -0.239080 -0.377827  ...  0.629925  0.794971 -0.292227   \n",
              "59999 -0.156653 -0.239080 -0.377827  ... -0.474798 -0.394260 -0.406094   \n",
              "\n",
              "            778       779       780       781       782       783  LABEL  \n",
              "0     -0.441358 -0.396626 -0.288156 -0.156811 -0.089673 -0.034147      9  \n",
              "1     -0.441358 -0.396626 -0.288156 -0.156811 -0.089673 -0.034147      0  \n",
              "2     -0.441358 -0.396626 -0.288156 -0.156811 -0.089673 -0.034147      0  \n",
              "3     -0.441358 -0.396626 -0.288156 -0.156811 -0.089673 -0.034147      3  \n",
              "4     -0.441358 -0.396626 -0.288156 -0.156811 -0.089673 -0.034147      0  \n",
              "...         ...       ...       ...       ...       ...       ...    ...  \n",
              "59995 -0.441358 -0.396626 -0.288156 -0.156811 -0.089673 -0.034147      5  \n",
              "59996 -0.441358 -0.396626 -0.288156 -0.156811 -0.089673 -0.034147      1  \n",
              "59997 -0.441358 -0.396626 -0.288156 -0.156811 -0.089673 -0.034147      3  \n",
              "59998 -0.441358 -0.374489 -0.288156 -0.156811 -0.089673 -0.034147      0  \n",
              "59999 -0.441358 -0.396626 -0.288156 -0.156811 -0.089673 -0.034147      5  \n",
              "\n",
              "[60000 rows x 785 columns]"
            ],
            "text/html": [
              "\n",
              "  <div id=\"df-76eb507c-cc46-439c-bbe0-c0f7ccf91a6e\">\n",
              "    <div class=\"colab-df-container\">\n",
              "      <div>\n",
              "<style scoped>\n",
              "    .dataframe tbody tr th:only-of-type {\n",
              "        vertical-align: middle;\n",
              "    }\n",
              "\n",
              "    .dataframe tbody tr th {\n",
              "        vertical-align: top;\n",
              "    }\n",
              "\n",
              "    .dataframe thead th {\n",
              "        text-align: right;\n",
              "    }\n",
              "</style>\n",
              "<table border=\"1\" class=\"dataframe\">\n",
              "  <thead>\n",
              "    <tr style=\"text-align: right;\">\n",
              "      <th></th>\n",
              "      <th>0</th>\n",
              "      <th>1</th>\n",
              "      <th>2</th>\n",
              "      <th>3</th>\n",
              "      <th>4</th>\n",
              "      <th>5</th>\n",
              "      <th>6</th>\n",
              "      <th>7</th>\n",
              "      <th>8</th>\n",
              "      <th>9</th>\n",
              "      <th>...</th>\n",
              "      <th>775</th>\n",
              "      <th>776</th>\n",
              "      <th>777</th>\n",
              "      <th>778</th>\n",
              "      <th>779</th>\n",
              "      <th>780</th>\n",
              "      <th>781</th>\n",
              "      <th>782</th>\n",
              "      <th>783</th>\n",
              "      <th>LABEL</th>\n",
              "    </tr>\n",
              "  </thead>\n",
              "  <tbody>\n",
              "    <tr>\n",
              "      <th>0</th>\n",
              "      <td>-0.008644</td>\n",
              "      <td>-0.023223</td>\n",
              "      <td>-0.039178</td>\n",
              "      <td>-0.041322</td>\n",
              "      <td>-0.057646</td>\n",
              "      <td>-0.071167</td>\n",
              "      <td>-0.098878</td>\n",
              "      <td>-0.156653</td>\n",
              "      <td>-0.239080</td>\n",
              "      <td>-0.377827</td>\n",
              "      <td>...</td>\n",
              "      <td>-0.474798</td>\n",
              "      <td>-0.394260</td>\n",
              "      <td>-0.406094</td>\n",
              "      <td>-0.441358</td>\n",
              "      <td>-0.396626</td>\n",
              "      <td>-0.288156</td>\n",
              "      <td>-0.156811</td>\n",
              "      <td>-0.089673</td>\n",
              "      <td>-0.034147</td>\n",
              "      <td>9</td>\n",
              "    </tr>\n",
              "    <tr>\n",
              "      <th>1</th>\n",
              "      <td>-0.008644</td>\n",
              "      <td>-0.023223</td>\n",
              "      <td>-0.039178</td>\n",
              "      <td>-0.041322</td>\n",
              "      <td>-0.057646</td>\n",
              "      <td>0.100437</td>\n",
              "      <td>-0.098878</td>\n",
              "      <td>-0.156653</td>\n",
              "      <td>-0.239080</td>\n",
              "      <td>-0.377827</td>\n",
              "      <td>...</td>\n",
              "      <td>1.857395</td>\n",
              "      <td>2.697741</td>\n",
              "      <td>1.324682</td>\n",
              "      <td>-0.441358</td>\n",
              "      <td>-0.396626</td>\n",
              "      <td>-0.288156</td>\n",
              "      <td>-0.156811</td>\n",
              "      <td>-0.089673</td>\n",
              "      <td>-0.034147</td>\n",
              "      <td>0</td>\n",
              "    </tr>\n",
              "    <tr>\n",
              "      <th>2</th>\n",
              "      <td>-0.008644</td>\n",
              "      <td>-0.023223</td>\n",
              "      <td>-0.039178</td>\n",
              "      <td>-0.041322</td>\n",
              "      <td>-0.057646</td>\n",
              "      <td>-0.071167</td>\n",
              "      <td>-0.098878</td>\n",
              "      <td>-0.156653</td>\n",
              "      <td>-0.239080</td>\n",
              "      <td>0.198023</td>\n",
              "      <td>...</td>\n",
              "      <td>-0.474798</td>\n",
              "      <td>-0.370475</td>\n",
              "      <td>-0.406094</td>\n",
              "      <td>-0.441358</td>\n",
              "      <td>-0.396626</td>\n",
              "      <td>-0.288156</td>\n",
              "      <td>-0.156811</td>\n",
              "      <td>-0.089673</td>\n",
              "      <td>-0.034147</td>\n",
              "      <td>0</td>\n",
              "    </tr>\n",
              "    <tr>\n",
              "      <th>3</th>\n",
              "      <td>-0.008644</td>\n",
              "      <td>-0.023223</td>\n",
              "      <td>-0.039178</td>\n",
              "      <td>-0.041322</td>\n",
              "      <td>-0.057646</td>\n",
              "      <td>-0.071167</td>\n",
              "      <td>-0.098878</td>\n",
              "      <td>-0.156653</td>\n",
              "      <td>1.145393</td>\n",
              "      <td>2.134974</td>\n",
              "      <td>...</td>\n",
              "      <td>-0.474798</td>\n",
              "      <td>-0.394260</td>\n",
              "      <td>-0.406094</td>\n",
              "      <td>-0.441358</td>\n",
              "      <td>-0.396626</td>\n",
              "      <td>-0.288156</td>\n",
              "      <td>-0.156811</td>\n",
              "      <td>-0.089673</td>\n",
              "      <td>-0.034147</td>\n",
              "      <td>3</td>\n",
              "    </tr>\n",
              "    <tr>\n",
              "      <th>4</th>\n",
              "      <td>-0.008644</td>\n",
              "      <td>-0.023223</td>\n",
              "      <td>-0.039178</td>\n",
              "      <td>-0.041322</td>\n",
              "      <td>-0.057646</td>\n",
              "      <td>-0.071167</td>\n",
              "      <td>-0.098878</td>\n",
              "      <td>-0.156653</td>\n",
              "      <td>-0.239080</td>\n",
              "      <td>-0.377827</td>\n",
              "      <td>...</td>\n",
              "      <td>-0.474798</td>\n",
              "      <td>-0.394260</td>\n",
              "      <td>-0.406094</td>\n",
              "      <td>-0.441358</td>\n",
              "      <td>-0.396626</td>\n",
              "      <td>-0.288156</td>\n",
              "      <td>-0.156811</td>\n",
              "      <td>-0.089673</td>\n",
              "      <td>-0.034147</td>\n",
              "      <td>0</td>\n",
              "    </tr>\n",
              "    <tr>\n",
              "      <th>...</th>\n",
              "      <td>...</td>\n",
              "      <td>...</td>\n",
              "      <td>...</td>\n",
              "      <td>...</td>\n",
              "      <td>...</td>\n",
              "      <td>...</td>\n",
              "      <td>...</td>\n",
              "      <td>...</td>\n",
              "      <td>...</td>\n",
              "      <td>...</td>\n",
              "      <td>...</td>\n",
              "      <td>...</td>\n",
              "      <td>...</td>\n",
              "      <td>...</td>\n",
              "      <td>...</td>\n",
              "      <td>...</td>\n",
              "      <td>...</td>\n",
              "      <td>...</td>\n",
              "      <td>...</td>\n",
              "      <td>...</td>\n",
              "      <td>...</td>\n",
              "    </tr>\n",
              "    <tr>\n",
              "      <th>59995</th>\n",
              "      <td>-0.008644</td>\n",
              "      <td>-0.023223</td>\n",
              "      <td>-0.039178</td>\n",
              "      <td>-0.041322</td>\n",
              "      <td>-0.057646</td>\n",
              "      <td>-0.071167</td>\n",
              "      <td>-0.098878</td>\n",
              "      <td>-0.156653</td>\n",
              "      <td>-0.239080</td>\n",
              "      <td>-0.377827</td>\n",
              "      <td>...</td>\n",
              "      <td>-0.474798</td>\n",
              "      <td>-0.394260</td>\n",
              "      <td>-0.406094</td>\n",
              "      <td>-0.441358</td>\n",
              "      <td>-0.396626</td>\n",
              "      <td>-0.288156</td>\n",
              "      <td>-0.156811</td>\n",
              "      <td>-0.089673</td>\n",
              "      <td>-0.034147</td>\n",
              "      <td>5</td>\n",
              "    </tr>\n",
              "    <tr>\n",
              "      <th>59996</th>\n",
              "      <td>-0.008644</td>\n",
              "      <td>-0.023223</td>\n",
              "      <td>-0.039178</td>\n",
              "      <td>-0.041322</td>\n",
              "      <td>-0.057646</td>\n",
              "      <td>-0.071167</td>\n",
              "      <td>-0.098878</td>\n",
              "      <td>-0.156653</td>\n",
              "      <td>-0.239080</td>\n",
              "      <td>-0.377827</td>\n",
              "      <td>...</td>\n",
              "      <td>-0.474798</td>\n",
              "      <td>-0.394260</td>\n",
              "      <td>-0.406094</td>\n",
              "      <td>-0.441358</td>\n",
              "      <td>-0.396626</td>\n",
              "      <td>-0.288156</td>\n",
              "      <td>-0.156811</td>\n",
              "      <td>-0.089673</td>\n",
              "      <td>-0.034147</td>\n",
              "      <td>1</td>\n",
              "    </tr>\n",
              "    <tr>\n",
              "      <th>59997</th>\n",
              "      <td>-0.008644</td>\n",
              "      <td>-0.023223</td>\n",
              "      <td>-0.039178</td>\n",
              "      <td>-0.041322</td>\n",
              "      <td>-0.057646</td>\n",
              "      <td>-0.071167</td>\n",
              "      <td>-0.098878</td>\n",
              "      <td>-0.156653</td>\n",
              "      <td>-0.239080</td>\n",
              "      <td>-0.246952</td>\n",
              "      <td>...</td>\n",
              "      <td>-0.474798</td>\n",
              "      <td>-0.394260</td>\n",
              "      <td>-0.406094</td>\n",
              "      <td>-0.441358</td>\n",
              "      <td>-0.396626</td>\n",
              "      <td>-0.288156</td>\n",
              "      <td>-0.156811</td>\n",
              "      <td>-0.089673</td>\n",
              "      <td>-0.034147</td>\n",
              "      <td>3</td>\n",
              "    </tr>\n",
              "    <tr>\n",
              "      <th>59998</th>\n",
              "      <td>-0.008644</td>\n",
              "      <td>-0.023223</td>\n",
              "      <td>-0.039178</td>\n",
              "      <td>-0.041322</td>\n",
              "      <td>-0.057646</td>\n",
              "      <td>-0.071167</td>\n",
              "      <td>-0.098878</td>\n",
              "      <td>-0.156653</td>\n",
              "      <td>-0.239080</td>\n",
              "      <td>-0.377827</td>\n",
              "      <td>...</td>\n",
              "      <td>0.629925</td>\n",
              "      <td>0.794971</td>\n",
              "      <td>-0.292227</td>\n",
              "      <td>-0.441358</td>\n",
              "      <td>-0.374489</td>\n",
              "      <td>-0.288156</td>\n",
              "      <td>-0.156811</td>\n",
              "      <td>-0.089673</td>\n",
              "      <td>-0.034147</td>\n",
              "      <td>0</td>\n",
              "    </tr>\n",
              "    <tr>\n",
              "      <th>59999</th>\n",
              "      <td>-0.008644</td>\n",
              "      <td>-0.023223</td>\n",
              "      <td>-0.039178</td>\n",
              "      <td>-0.041322</td>\n",
              "      <td>-0.057646</td>\n",
              "      <td>-0.071167</td>\n",
              "      <td>-0.098878</td>\n",
              "      <td>-0.156653</td>\n",
              "      <td>-0.239080</td>\n",
              "      <td>-0.377827</td>\n",
              "      <td>...</td>\n",
              "      <td>-0.474798</td>\n",
              "      <td>-0.394260</td>\n",
              "      <td>-0.406094</td>\n",
              "      <td>-0.441358</td>\n",
              "      <td>-0.396626</td>\n",
              "      <td>-0.288156</td>\n",
              "      <td>-0.156811</td>\n",
              "      <td>-0.089673</td>\n",
              "      <td>-0.034147</td>\n",
              "      <td>5</td>\n",
              "    </tr>\n",
              "  </tbody>\n",
              "</table>\n",
              "<p>60000 rows × 785 columns</p>\n",
              "</div>\n",
              "      <button class=\"colab-df-convert\" onclick=\"convertToInteractive('df-76eb507c-cc46-439c-bbe0-c0f7ccf91a6e')\"\n",
              "              title=\"Convert this dataframe to an interactive table.\"\n",
              "              style=\"display:none;\">\n",
              "        \n",
              "  <svg xmlns=\"http://www.w3.org/2000/svg\" height=\"24px\"viewBox=\"0 0 24 24\"\n",
              "       width=\"24px\">\n",
              "    <path d=\"M0 0h24v24H0V0z\" fill=\"none\"/>\n",
              "    <path d=\"M18.56 5.44l.94 2.06.94-2.06 2.06-.94-2.06-.94-.94-2.06-.94 2.06-2.06.94zm-11 1L8.5 8.5l.94-2.06 2.06-.94-2.06-.94L8.5 2.5l-.94 2.06-2.06.94zm10 10l.94 2.06.94-2.06 2.06-.94-2.06-.94-.94-2.06-.94 2.06-2.06.94z\"/><path d=\"M17.41 7.96l-1.37-1.37c-.4-.4-.92-.59-1.43-.59-.52 0-1.04.2-1.43.59L10.3 9.45l-7.72 7.72c-.78.78-.78 2.05 0 2.83L4 21.41c.39.39.9.59 1.41.59.51 0 1.02-.2 1.41-.59l7.78-7.78 2.81-2.81c.8-.78.8-2.07 0-2.86zM5.41 20L4 18.59l7.72-7.72 1.47 1.35L5.41 20z\"/>\n",
              "  </svg>\n",
              "      </button>\n",
              "      \n",
              "  <style>\n",
              "    .colab-df-container {\n",
              "      display:flex;\n",
              "      flex-wrap:wrap;\n",
              "      gap: 12px;\n",
              "    }\n",
              "\n",
              "    .colab-df-convert {\n",
              "      background-color: #E8F0FE;\n",
              "      border: none;\n",
              "      border-radius: 50%;\n",
              "      cursor: pointer;\n",
              "      display: none;\n",
              "      fill: #1967D2;\n",
              "      height: 32px;\n",
              "      padding: 0 0 0 0;\n",
              "      width: 32px;\n",
              "    }\n",
              "\n",
              "    .colab-df-convert:hover {\n",
              "      background-color: #E2EBFA;\n",
              "      box-shadow: 0px 1px 2px rgba(60, 64, 67, 0.3), 0px 1px 3px 1px rgba(60, 64, 67, 0.15);\n",
              "      fill: #174EA6;\n",
              "    }\n",
              "\n",
              "    [theme=dark] .colab-df-convert {\n",
              "      background-color: #3B4455;\n",
              "      fill: #D2E3FC;\n",
              "    }\n",
              "\n",
              "    [theme=dark] .colab-df-convert:hover {\n",
              "      background-color: #434B5C;\n",
              "      box-shadow: 0px 1px 3px 1px rgba(0, 0, 0, 0.15);\n",
              "      filter: drop-shadow(0px 1px 2px rgba(0, 0, 0, 0.3));\n",
              "      fill: #FFFFFF;\n",
              "    }\n",
              "  </style>\n",
              "\n",
              "      <script>\n",
              "        const buttonEl =\n",
              "          document.querySelector('#df-76eb507c-cc46-439c-bbe0-c0f7ccf91a6e button.colab-df-convert');\n",
              "        buttonEl.style.display =\n",
              "          google.colab.kernel.accessAllowed ? 'block' : 'none';\n",
              "\n",
              "        async function convertToInteractive(key) {\n",
              "          const element = document.querySelector('#df-76eb507c-cc46-439c-bbe0-c0f7ccf91a6e');\n",
              "          const dataTable =\n",
              "            await google.colab.kernel.invokeFunction('convertToInteractive',\n",
              "                                                     [key], {});\n",
              "          if (!dataTable) return;\n",
              "\n",
              "          const docLinkHtml = 'Like what you see? Visit the ' +\n",
              "            '<a target=\"_blank\" href=https://colab.research.google.com/notebooks/data_table.ipynb>data table notebook</a>'\n",
              "            + ' to learn more about interactive tables.';\n",
              "          element.innerHTML = '';\n",
              "          dataTable['output_type'] = 'display_data';\n",
              "          await google.colab.output.renderOutput(dataTable, element);\n",
              "          const docLink = document.createElement('div');\n",
              "          docLink.innerHTML = docLinkHtml;\n",
              "          element.appendChild(docLink);\n",
              "        }\n",
              "      </script>\n",
              "    </div>\n",
              "  </div>\n",
              "  "
            ]
          },
          "metadata": {},
          "execution_count": 50
        }
      ]
    },
    {
      "cell_type": "code",
      "source": [
        "train_df.max()"
      ],
      "metadata": {
        "id": "oUDSCLalCm92",
        "outputId": "fa02887b-1228-46d6-93d4-f76c338b9a4a",
        "colab": {
          "base_uri": "https://localhost:8080/"
        }
      },
      "execution_count": 51,
      "outputs": [
        {
          "output_type": "execute_result",
          "data": {
            "text/plain": [
              "0        172.865591\n",
              "1        144.536959\n",
              "2        154.936637\n",
              "3         65.245398\n",
              "4         51.658449\n",
              "            ...    \n",
              "780        8.371068\n",
              "781       14.618484\n",
              "782       27.830516\n",
              "783       81.861546\n",
              "LABEL      9.000000\n",
              "Length: 785, dtype: float64"
            ]
          },
          "metadata": {},
          "execution_count": 51
        }
      ]
    },
    {
      "cell_type": "code",
      "source": [
        "# plotting label distributions for training data\n",
        "plot_label_distributions(train_df['LABEL'].tolist(), 'MNIST Fashion (train)', labels)"
      ],
      "metadata": {
        "id": "7Z1sA2Iu0MYp",
        "outputId": "df814b2f-40ae-4546-a45f-f49870e18f2e",
        "colab": {
          "base_uri": "https://localhost:8080/",
          "height": 295
        }
      },
      "execution_count": 52,
      "outputs": [
        {
          "output_type": "display_data",
          "data": {
            "text/plain": [
              "<Figure size 720x288 with 1 Axes>"
            ],
            "image/png": "[encoded data removed]"
          },
          "metadata": {
            "needs_background": "light"
          }
        }
      ]
    },
    {
      "cell_type": "code",
      "source": [
        "# plotting label distributions for testing data\n",
        "plot_label_distributions(test_df['LABEL'].tolist(), 'MNIST Fashion (test)', labels)"
      ],
      "metadata": {
        "id": "5uB2ZBXO2E2q",
        "outputId": "057ec303-ed47-4086-be31-52fe0a6311de",
        "colab": {
          "base_uri": "https://localhost:8080/",
          "height": 295
        }
      },
      "execution_count": 53,
      "outputs": [
        {
          "output_type": "display_data",
          "data": {
            "text/plain": [
              "<Figure size 720x288 with 1 Axes>"
            ],
            "image/png": "[encoded data removed]"
          },
          "metadata": {
            "needs_background": "light"
          }
        }
      ]
    },
    {
      "cell_type": "markdown",
      "source": [
        "# Implementing models"
      ],
      "metadata": {
        "id": "a6lVueablnwe"
      }
    },
    {
      "cell_type": "markdown",
      "source": [
        "## Helper functions"
      ],
      "metadata": {
        "id": "U_WEPKULlIU2"
      }
    },
    {
      "cell_type": "markdown",
      "source": [
        "## Layers"
      ],
      "metadata": {
        "id": "-7B0imbhlxBQ"
      }
    },
    {
      "cell_type": "code",
      "source": [
        "class NeuralNetLayer:\n",
        "  def __init__(self):\n",
        "    self.gradient = None\n",
        "    self.parameters = None\n",
        "        \n",
        "  def forward(self, x):\n",
        "    raise NotImplementedError\n",
        "\n",
        "  def backward(self, gradient):\n",
        "    raise NotImplementedError"
      ],
      "metadata": {
        "id": "6G7qW7K8kaeL"
      },
      "execution_count": 54,
      "outputs": []
    },
    {
      "cell_type": "code",
      "source": [
        "class LinearLayer(NeuralNetLayer):\n",
        "  def __init__(self, input_size, output_size):\n",
        "    super().__init__()\n",
        "    self.ni = input_size\n",
        "    self.no = output_size\n",
        "\n",
        "    sigma = 0.1\n",
        "\n",
        "    random_state = RandomState(1234)\n",
        "    self.w = sigma * random_state.randn(output_size, input_size)\n",
        "    self.b = sigma * random_state.randn(output_size)\n",
        "    self.cur_input = None\n",
        "    self.parameters = [self.w, self.b]\n",
        "\n",
        "  # x is the data inputted into this layer during predictions;\n",
        "  # unless this is the input layer, x is the original data inputted\n",
        "  # into the model, but transformed by the preceding layers\n",
        "  def forward(self, x):\n",
        "    if np.array(x).ndim == 1:\n",
        "      x = np.expand_dims(x, axis = 0)\n",
        "\n",
        "    self.cur_input = x\n",
        "    x_weights_bias = (self.w[None, :, :] @ x[:, :, None]).squeeze() + self.b\n",
        "\n",
        "    '''\n",
        "    print('weights and bias')\n",
        "    print(np.array(x_weights_bias).shape)\n",
        "    print(x_weights_bias)\n",
        "    '''\n",
        "    \n",
        "    return x_weights_bias\n",
        "\n",
        "  def backward(self, gradient):\n",
        "    assert self.cur_input is not None, \"Must call forward before backward\"\n",
        "    #dw = gradient.dot(self.cur_input)\n",
        "    dw = gradient[:, :, None] @ self.cur_input[:, None, :]\n",
        "    db = gradient\n",
        "    self.gradient = [dw, db]\n",
        "    return gradient.dot(self.w)"
      ],
      "metadata": {
        "id": "fLT6hDvqlnWn",
        "colab": {
          "base_uri": "https://localhost:8080/",
          "height": 133
        },
        "outputId": "b1f4c8d3-80a0-4d8e-d1a9-64f2e66ab8c2"
      },
      "execution_count": 84,
      "outputs": [
        {
          "output_type": "error",
          "ename": "SyntaxError",
          "evalue": "ignored",
          "traceback": [
            "\u001b[0;36m  File \u001b[0;32m\"<ipython-input-84-7ec13f89489f>\"\u001b[0;36m, line \u001b[0;32m4\u001b[0m\n\u001b[0;31m    self.ni = input_size\u001b[0m\n\u001b[0m    ^\u001b[0m\n\u001b[0;31mSyntaxError\u001b[0m\u001b[0;31m:\u001b[0m invalid syntax\n"
          ]
        }
      ]
    },
    {
      "cell_type": "code",
      "source": [
        "class ReLULayer(NeuralNetLayer):\n",
        "  def __init__(self):\n",
        "    super().__init__()\n",
        "        \n",
        "  def forward(self, x):\n",
        "    self.gradient = np.where(x > 0, 1.0, 0.0)\n",
        "\n",
        "    activated_x = np.maximum(0, x)\n",
        "    return activated_x\n",
        "\n",
        "  def backward(self, gradient):\n",
        "    assert self.gradient is not None, \"Must call forward before backward\"\n",
        "    return gradient * self.gradient"
      ],
      "metadata": {
        "id": "nh2uqaBzltSL"
      },
      "execution_count": 56,
      "outputs": []
    },
    {
      "cell_type": "code",
      "source": [
        "class LeakyReLULayer(NeuralNetLayer):\n",
        "  def __init__(self):\n",
        "    super().__init__()\n",
        "        \n",
        "  def forward(self, x):\n",
        "    self.gradient = np.where(x > 0, 1.0, 0.01)\n",
        "\n",
        "    # activated_x = [[float(element) if element > 0 else float(element) * 0.01 for element in sublist] for sublist in x]\n",
        "    activated_x = np.maximum(0.01 * x, x)\n",
        "    \n",
        "    return activated_x\n",
        "\n",
        "  def backward(self, gradient):\n",
        "    assert self.gradient is not None, \"Must call forward before backward\"\n",
        "    return gradient * self.gradient"
      ],
      "metadata": {
        "id": "dXZNK6cj0OpR"
      },
      "execution_count": 57,
      "outputs": []
    },
    {
      "cell_type": "code",
      "source": [
        "class TanhLayer(NeuralNetLayer):\n",
        "  def __init__(self):\n",
        "    super().__init__()\n",
        "        \n",
        "  def forward(self, x):\n",
        "    self.gradient = 1 - (np.tanh(x) ** 2)\n",
        "\n",
        "    activated_x = np.tanh(x)\n",
        "    return activated_x\n",
        "\n",
        "  def backward(self, gradient):\n",
        "    assert self.gradient is not None, \"Must call forward before backward\"\n",
        "    return gradient * self.gradient"
      ],
      "metadata": {
        "id": "_Q3WODEGvX9T"
      },
      "execution_count": 58,
      "outputs": []
    },
    {
      "cell_type": "code",
      "source": [
        "class SoftmaxOutputLayer(NeuralNetLayer):\n",
        "  def __init__(self):\n",
        "    super().__init__()\n",
        "    self.cur_probs = None\n",
        "\n",
        "  def forward(self, x):\n",
        "    # to prevent very large values\n",
        "    exps = np.exp(x - np.max(x))\n",
        "\n",
        "    # this does the same thing as\n",
        "    # probs = exps / np.sum(exps, axis=-1)[:, None]\n",
        "    probs = exps / np.expand_dims(np.sum(exps, axis=-1), axis=-1)\n",
        "\n",
        "    self.cur_probs = probs\n",
        "\n",
        "    return probs\n",
        "\n",
        "  def backward(self, target):\n",
        "    assert self.cur_probs is not None, \"Must call forward before backward\"\n",
        "    return self.cur_probs - target"
      ],
      "metadata": {
        "id": "H5KJfNG-l3Vq"
      },
      "execution_count": 59,
      "outputs": []
    },
    {
      "cell_type": "markdown",
      "source": [
        "## MLP"
      ],
      "metadata": {
        "id": "5o7wc6mXO2TM"
      }
    },
    {
      "cell_type": "code",
      "source": [
        "class MLP:\n",
        "  def __init__(self, n_features, n_output, hidden_layers = 0, hidden_units = [0], activation_func = \"None\"):\n",
        "    layers_list = []\n",
        "\n",
        "    # adds the input layer\n",
        "    if hidden_layers == 0:\n",
        "      layers_list.append(LinearLayer(n_features, n_output))\n",
        "    else:\n",
        "      layers_list.append(LinearLayer(n_features, hidden_units[0]))\n",
        "\n",
        "    # adds the hidden layers\n",
        "    for i in range(hidden_layers):\n",
        "\n",
        "      # adds activation function layers\n",
        "      if activation_func.upper() == \"RELU\":\n",
        "        layers_list.append(ReLULayer())\n",
        "      elif activation_func.upper() == \"TANH\":\n",
        "        layers_list.append(TanhLayer())\n",
        "      elif activation_func.upper() == \"LEAKY RELU\":\n",
        "        layers_list.append(LeakyReLULayer())\n",
        "\n",
        "      # if this is the last hidden layer, it outputs the output size\n",
        "      if i == hidden_layers - 1:\n",
        "        layers_list.append(LinearLayer(hidden_units[i], n_output))\n",
        "        continue\n",
        "          \n",
        "      # if this is not the last hidden layer, it outputs the hidden size\n",
        "      layers_list.append(LinearLayer(hidden_units[i], hidden_units[i + 1]))\n",
        "          \n",
        "    # adds the output layer\n",
        "    layers_list.append(SoftmaxOutputLayer())\n",
        "\n",
        "    self.layers = layers_list\n",
        "\n",
        "  def forward(self, x):\n",
        "    for layer in self.layers:\n",
        "      x = layer.forward(x)\n",
        "    return x\n",
        "\n",
        "  def backward(self, target):\n",
        "    for layer in self.layers[::-1]:\n",
        "      target = layer.backward(target)\n",
        "\n",
        "  def fit(self, x_train, y_train, x_test, y_test, opt, lambda_reg = 0, track_accuracy = False):    \n",
        "    # one-hot encodes the labels\n",
        "    labels = np.eye(10)[np.array(y_train)]\n",
        "\n",
        "    loss = 0\n",
        "    train_acc = 0\n",
        "    test_acc = 0\n",
        "\n",
        "    prediction_probs = self.forward(x_train)\n",
        "\n",
        "    # back propagates\n",
        "    self.backward(labels)\n",
        "    opt.step()\n",
        "\n",
        "    # calculates the loss\n",
        "    loss = self.evaluate_loss(prediction_probs, labels, lambda_reg)\n",
        "\n",
        "    ### calculates the training and testing accuracy\n",
        "    if track_accuracy:\n",
        "      # calculates the predicted labels using the current model weights\n",
        "      train_pred = self.predict(x_train)\n",
        "      test_pred = self.predict(x_test)\n",
        "\n",
        "      # evaluates the training and testing accuracy\n",
        "      train_acc = evaluate_acc(train_pred, y_train)\n",
        "      test_acc = evaluate_acc(test_pred, y_test)\n",
        "\n",
        "    # returns the CE loss, training accuracy, and testing accuracy\n",
        "    return loss, train_acc, test_acc\n",
        "\n",
        "  def fit_mini_batch(self, x_train, y_train, x_test, y_test, opt, batch_size, lambda_reg = 0, track_acc = False):    \n",
        "    # one-hot encodes the labels\n",
        "    labels = np.eye(10)[np.array(y_train)]\n",
        "\n",
        "    x_train_size = len(x_train)\n",
        "\n",
        "    # the number of instances in each batch\n",
        "    batch_count = int(len(x_train) / batch_size)\n",
        "\n",
        "    # the index at which the current batch starts (updated in the for loop)\n",
        "    start_index = 0\n",
        "\n",
        "    loss = 0\n",
        "    train_acc = 0\n",
        "    test_acc = 0\n",
        "\n",
        "    # updating the model weights for each batch of training data\n",
        "    for i in range(batch_count):\n",
        "\n",
        "      # the index at which the current batch ends\n",
        "      end_index = batch_size * (i + 1)\n",
        "\n",
        "      # isolates the current batch of training data and associated labels\n",
        "      if(i == batch_count - 1):\n",
        "        # if this is the last batch, take all the training data from start_index to end\n",
        "        batch = x_train[start_index : ]\n",
        "        batch_labels = labels[start_index : ]\n",
        "      else:\n",
        "        batch = x_train[start_index : end_index]\n",
        "        batch_labels = labels[start_index : end_index]\n",
        "\n",
        "      # updates the start index for the next batch (next iteration in the for loop)\n",
        "      start_index = end_index\n",
        "\n",
        "      # calculates the class predictions\n",
        "      prediction_probs = self.forward(batch)\n",
        "\n",
        "      # back propagates\n",
        "      self.backward(batch_labels)\n",
        "      opt.step()\n",
        "\n",
        "    # calculates the loss\n",
        "    prediction_probs = self.forward(x_train)\n",
        "    loss = self.evaluate_loss(prediction_probs, labels, lambda_reg)\n",
        "\n",
        "    if track_acc:\n",
        "      # calculates the training and testing accuracy\n",
        "      train_pred = self.predict(x_train)\n",
        "      test_pred = self.predict(x_test)\n",
        "      \n",
        "      train_acc = evaluate_acc(train_pred, y_train)\n",
        "      test_acc = evaluate_acc(test_pred, y_test)\n",
        "\n",
        "    # returns the CE loss, training accuracy, and testing accuracy\n",
        "    return loss, train_acc, test_acc\n",
        "\n",
        "  def fit_epoch_mini_batch(self, x_train, y_train, x_test, y_test, opt, batch_size, epochs, lambda_reg, track_acc):\n",
        "    losses = []\n",
        "    train_accs = []\n",
        "    test_accs = []\n",
        "\n",
        "    indices = np.arange(0, len(x_train))\n",
        "\n",
        "    for epoch in range(epochs):\n",
        "\n",
        "      random_state = RandomState(1234)\n",
        "      random_state.shuffle(indices)\n",
        "      x_train_shuf = x_train[indices]\n",
        "      y_train_shuf = y_train[indices]\n",
        "\n",
        "      loss, train_acc, test_acc = self.fit_mini_batch(x_train_shuf, y_train_shuf, x_test, y_test, opt, batch_size, lambda_reg, track_acc)\n",
        "\n",
        "      # taking the last loss, training accuracy, and testing accuracy values\n",
        "      losses.append(loss)\n",
        "      train_accs.append(train_acc)\n",
        "      test_accs.append(test_acc)\n",
        "    \n",
        "    return losses, train_accs, test_accs\n",
        "\n",
        "  def evaluate_loss(self, prediction_probs, labels, lambda_reg):\n",
        "    # adds regularization term (0 by default)\n",
        "    reg_term = lambda_reg\n",
        "    if lambda_reg != 0:\n",
        "      weights_sum = 0\n",
        "\n",
        "      # iterates through the layers in the model and adds the weights\n",
        "      for layer in self.layers[::-1]:\n",
        "        # if the layer is a LinearLayer, it has weights\n",
        "        if type(layer).__name__ == \"LinearLayer\":\n",
        "          weights_squared = layer.w ** 2\n",
        "          weights_sum += sum(sum(weights_squared))\n",
        "\n",
        "      reg_term = (lambda_reg * weights_sum)\n",
        "\n",
        "    '''\n",
        "    print('prediction probs')\n",
        "    print(prediction_probs)\n",
        "\n",
        "    print('log')\n",
        "    print(np.log(prediction_probs))\n",
        "    \n",
        "    print('log max')\n",
        "    print(np.maximum(np.log(prediction_probs), -sys.float_info.max))\n",
        "    \n",
        "    print('labels * log max')\n",
        "    print(labels * np.maximum(np.log(prediction_probs), -sys.float_info.max))\n",
        "    \n",
        "    print('labels * log max . sum')\n",
        "    test = (labels * np.maximum(np.log(prediction_probs), -sys.float_info.max)).sum(axis=-1)\n",
        "    print(len(test))\n",
        "    print(test)\n",
        "\n",
        "    print('labels * log max . sum . mean')\n",
        "    print((labels * np.maximum(np.log(prediction_probs), -sys.float_info.max)).sum(axis=-1).mean())\n",
        "    '''\n",
        "\n",
        "    # replace all instances of 0 in prediction_probs with smallest possible number (to avoid log(0))\n",
        "    temp_prediction_probs = np.array(prediction_probs)\n",
        "    temp_prediction_probs[temp_prediction_probs == 0] = sys.float_info.min\n",
        "    prediction_probs = temp_prediction_probs.tolist()\n",
        "\n",
        "    ### calculates the loss, adds it to the losses list, and back propagates based on the loss\n",
        "    loss = -(labels * np.log(prediction_probs)).sum(axis=-1).mean() + reg_term\n",
        "    # loss = -(labels * np.maximum(np.log(prediction_probs), -sys.float_info.max)).sum(axis=-1).mean() + reg_term\n",
        "    # loss = -(labels * np.log(prediction_probs)).sum(axis=-1).mean() + reg_term\n",
        "    \n",
        "    return loss\n",
        "\n",
        "  def evaluate_initial_metrics(self, x_train, x_test, y_train, y_test, lambda_reg):\n",
        "    # evaluating the CE loss based on the predicted class probabilities\n",
        "    labels = np.eye(10)[np.array(y_train)]\n",
        "    prediction_probs = self.forward(x_train)\n",
        "    loss = self.evaluate_loss(prediction_probs, labels, lambda_reg)\n",
        "\n",
        "    # evaluates the training and testing classification accuracy\n",
        "    train_pred = self.predict(x_train)\n",
        "    test_pred = self.predict(x_test)\n",
        "    train_acc = evaluate_acc(train_pred, y_train)\n",
        "    test_acc = evaluate_acc(test_pred, y_test)\n",
        "\n",
        "    return loss, train_acc, test_acc\n",
        "\n",
        "  def predict(self, x):\n",
        "    pred_prob = self.forward(x)\n",
        "    predictions = np.argmax(pred_prob, axis = -1)\n",
        "    return predictions"
      ],
      "metadata": {
        "id": "rnVxRvpFmGO4"
      },
      "execution_count": 85,
      "outputs": []
    },
    {
      "cell_type": "code",
      "source": [
        "class Optimizer:\n",
        "    def __init__(self, net: MLP):\n",
        "        self.net = net\n",
        "\n",
        "    def step(self):\n",
        "        for layer in self.net.layers[::-1]:\n",
        "            if layer.parameters is not None:\n",
        "                self.update(layer.parameters, layer.gradient)\n",
        "\n",
        "    def update(self, params, gradient):\n",
        "        raise NotImplementedError\n",
        "\n",
        "class GradientDescentOptimizer(Optimizer):\n",
        "    def __init__(self, net: MLP, lr: float):\n",
        "        super().__init__(net)\n",
        "        self.lr = lr\n",
        "\n",
        "    def update(self, params, gradient):\n",
        "        for (p, g) in zip(params, gradient):\n",
        "            p -= self.lr * g.mean(axis=0)"
      ],
      "metadata": {
        "id": "E9d9aLMlmQ1o"
      },
      "execution_count": 61,
      "outputs": []
    },
    {
      "cell_type": "markdown",
      "source": [
        "# Running experiments"
      ],
      "metadata": {
        "id": "IlELJSq3nWUz"
      }
    },
    {
      "cell_type": "markdown",
      "source": [
        "### Helper functions"
      ],
      "metadata": {
        "id": "0rywH03KE_9-"
      }
    },
    {
      "cell_type": "code",
      "source": [
        "def evaluate_acc(true_labels, target_labels):\n",
        "  # the number of labels\n",
        "  label_count = true_labels.shape[0]\n",
        "\n",
        "  # the accuracy is the number of correctly labelled instances divided\n",
        "  # by the total number of instances\n",
        "  accuracy = np.sum(target_labels == true_labels) / label_count\n",
        "\n",
        "  return accuracy"
      ],
      "metadata": {
        "id": "bAo7UKZrX5RR"
      },
      "execution_count": 62,
      "outputs": []
    },
    {
      "cell_type": "code",
      "source": [
        "def plot_losses(losses, hidden_layer_count, activation_func):\n",
        "  x_axis = np.arange(1, len(losses) + 1, dtype = int)\n",
        "\n",
        "  plt.figure(figsize=(8, 4))\n",
        "\n",
        "  plt.plot(x_axis, losses, color = '#06E3F8')\n",
        "\n",
        "  # changing the title based on whether there are hidden layers\n",
        "  if hidden_layer_count == 0:\n",
        "    plt.title(\"Cross-entropy training loss for \" + str(hidden_layer_count) + \" hidden layers\")\n",
        "  else:\n",
        "    plt.title(\"Cross-entropy training loss for \" + str(hidden_layer_count) + \" hidden layer(s) with \" + activation_func)\n",
        "    \n",
        "  plt.xlabel(\"Epoch\")\n",
        "  \n",
        "  # manually plots the xticks to avoid decimal values for len(losses) = 20\n",
        "  if(len(losses) > 20):\n",
        "    ticks = np.arange(0, len(losses) + 1, 10)\n",
        "    ticks[0] = 1\n",
        "    plt.xticks(ticks)\n",
        "  else:\n",
        "    plt.xticks(np.arange(1, len(losses) + 1, 1))\n",
        "\n",
        "  plt.ylabel(\"Cross-entropy loss\")"
      ],
      "metadata": {
        "id": "m2_I_GRr8MzE"
      },
      "execution_count": 63,
      "outputs": []
    },
    {
      "cell_type": "code",
      "source": [
        "def plot_train_test_acc(train_accs, test_accs, hidden_layer_count, activation_func):\n",
        "  x_axis = np.arange(1, len(train_accs) + 1, dtype = int)\n",
        "\n",
        "  plt.figure(figsize=(8, 4))\n",
        "\n",
        "  plt.plot(x_axis, train_accs, color = '#079AF8', label = \"Training accuracy\")\n",
        "  plt.plot(x_axis, test_accs, color = '#F67404', label = \"Testing accuracy\")\n",
        "\n",
        "  # changing the title based on whether there are hidden layers\n",
        "  if hidden_layer_count == 0:\n",
        "    plt.title(\"Training and testing accuracy for \" + str(hidden_layer_count) + \" hidden layers\")\n",
        "  else:\n",
        "    plt.title(\"Training and testing accuracy for \" + str(hidden_layer_count) + \" hidden layer(s) with \" + activation_func)\n",
        "    \n",
        "  plt.xlabel(\"Epoch\")\n",
        "\n",
        "  # if we're testing for the optimal testing accuracy\n",
        "  if(len(train_accs) > 20):\n",
        "    # graphs a vertical line at the epoch with the maximum testing accuacy\n",
        "    optimal_epoch = np.array(test_accs).argmax() + 1\n",
        "    max_acc = test_accs[optimal_epoch - 1]\n",
        "    plt.axvline(x = optimal_epoch, label = \"Maximum testing accuracy of \" + str(round(max_acc * 100, 2)) + \"% at \" + str(optimal_epoch) + \" epochs\", color = '#8A84E2')\n",
        "  \n",
        "    # manually plots the xticks to avoid decimal values for len(train_accs) = 20\n",
        "    ticks = np.arange(0, len(train_accs) + 1, 10)\n",
        "    ticks[0] = 1\n",
        "    plt.xticks(ticks)\n",
        "  else:\n",
        "    plt.xticks(np.arange(1, len(train_accs) + 1, 1))\n",
        "  \n",
        "  plt.ylabel(\"Classification accuracy\")\n",
        "  plt.legend()"
      ],
      "metadata": {
        "id": "8dJsc80n80sE"
      },
      "execution_count": 64,
      "outputs": []
    },
    {
      "cell_type": "code",
      "source": [
        "def plot_test_acc(test_accs, k_values, model = \"MLP\"):\n",
        "\n",
        "  plt.figure(figsize=(8, 4))\n",
        "\n",
        "  plt.plot(k_values, test_accs, color = '#F67404')\n",
        "\n",
        "  # adding integer values above each point in the plotted line\n",
        "  for x, y in zip(k_values, test_accs):\n",
        "    acc = \"{:.2f}\".format(y)\n",
        "    if model == \"MLP\" and x >= 3:\n",
        "      plt.annotate(acc, (x,y), textcoords = 'offset points', xytext = (0,-10), ha = 'center')\n",
        "    else:\n",
        "      plt.annotate(acc, (x,y), textcoords = 'offset points', xytext = (0,10), ha = 'center')\n",
        "\n",
        "  plt.title(model + \" testing accuracy when trained on 10^k images\")\n",
        "  plt.xlabel(\"k\")\n",
        "  plt.xticks(k_values, map(str, k_values))\n",
        "  plt.ylabel(\"Classification accuracy\")"
      ],
      "metadata": {
        "id": "XIF34Cr3D1hn"
      },
      "execution_count": 65,
      "outputs": []
    },
    {
      "cell_type": "code",
      "source": [
        "def epoch_mini_batch(x_train, y_train, x_test, y_test, hidden_layers, hidden_units, activation_func, lr, batch_size, epochs, lambda_reg = 0, track_acc = False, track_loss = True):\n",
        "  n_features = x_train.shape[-1]\n",
        "  n_output = 10\n",
        "\n",
        "  # creates the mlp and optimizer objects\n",
        "  mlp = MLP(n_features, n_output, hidden_layers, hidden_units, activation_func)\n",
        "  opt = GradientDescentOptimizer(mlp, lr)\n",
        "\n",
        "  # training the model using mini-batch times epochs\n",
        "  losses, train_accs, test_accs = mlp.fit_epoch_mini_batch(x_train, y_train, x_test, y_test, opt, batch_size, epochs, lambda_reg, track_acc)\n",
        "\n",
        "  # the number of hidden layers\n",
        "  hidden_layer_count = int((len(mlp.layers) - 2) / 2)\n",
        "\n",
        "  # plots the cross-entropy loss\n",
        "  if track_loss:\n",
        "    plot_losses(losses, hidden_layer_count, activation_func)\n",
        "    \n",
        "  # plots the training and testing accuracy\n",
        "  if track_acc:\n",
        "    plot_train_test_acc(train_accs, test_accs, hidden_layer_count, activation_func)\n",
        "\n",
        "  return mlp"
      ],
      "metadata": {
        "id": "YWxAE0Mzp7qP"
      },
      "execution_count": 86,
      "outputs": []
    },
    {
      "cell_type": "code",
      "source": [
        "def evaluate_mlp_acc(mlp: MLP, x_train, y_train, x_test, y_test, silent = True):\n",
        "  train_predictions = mlp.predict(x_train)\n",
        "  test_predictions = mlp.predict(x_test)\n",
        "  \n",
        "  train_acc = evaluate_acc(train_predictions, y_train)\n",
        "  test_acc = evaluate_acc(test_predictions, y_test)\n",
        "  \n",
        "  if not silent:\n",
        "    print(\"The accuracy of the model on the training data: \" + str(round((train_acc * 100), 2)) + \"%\")\n",
        "    print(\"The accuracy of the model on the testing data: \" + str(round((test_acc * 100), 2)) + \"%\")\n",
        "    print(\"\\n\")\n",
        "\n",
        "  return train_acc, test_acc\n",
        "                     "
      ],
      "metadata": {
        "id": "_O6LbWx1tNtx"
      },
      "execution_count": 67,
      "outputs": []
    },
    {
      "cell_type": "code",
      "source": [
        "def compare_train_images(x_train, y_train, x_test, y_test, k_values):\n",
        "  # to help shuffle the data\n",
        "  indices = np.arange(0, len(x_train))\n",
        "\n",
        "  accs = []\n",
        "\n",
        "  for k_val in k_values:\n",
        "    # shuffles the data\n",
        "    random_state = RandomState(123 + k_val)\n",
        "    random_state.shuffle(indices)\n",
        "    x_train_shuf = x_train[indices]\n",
        "    y_train_shuf = y_train[indices]\n",
        "\n",
        "    end_index = 10 ** k_val\n",
        "\n",
        "    x_train_shuf = x_train_shuf[0 : end_index]\n",
        "    y_train_shuf = y_train_shuf[0 : end_index]\n",
        "    \n",
        "    batch_size = max(end_index // 10, 1)\n",
        "\n",
        "    cur_mlp = epoch_mini_batch(x_train_shuf, y_train_shuf, x_test, y_test, 2, [128, 128], \"ReLU\", 0.1, batch_size, 1, track_loss = False)\n",
        "    cur_acc = evaluate_mlp_acc(cur_mlp, x_train, y_train, x_test, y_test)[1]\n",
        "\n",
        "    accs.append(cur_acc)\n",
        "\n",
        "  plot_test_acc(accs, k_values, model = \"MLP\")"
      ],
      "metadata": {
        "id": "kX4Cx6pjAHEG"
      },
      "execution_count": 68,
      "outputs": []
    },
    {
      "cell_type": "code",
      "source": [
        "def compare_learning_rates_unnormalized(x_train, y_train, x_test, y_test, lrs):\n",
        "\n",
        "  for lr in lrs:\n",
        "    print(\"Testing accuracy for learning rate \" + str(lr))\n",
        "\n",
        "    mlp2 = epoch_mini_batch(x_train, y_train, x_test, y_test, 2, [128, 128], \"ReLU\", lr, 1000, 3, track_loss = False)\n",
        "    test_acc2 = evaluate_mlp_acc(mlp2, x_train, y_train, x_test, y_test)[1]    \n",
        "    print(\"\\t2 hidden layers: \" + str(round(test_acc2 * 100, 2)) + \"%\")\n",
        "\n",
        "    print(\"\")"
      ],
      "metadata": {
        "id": "cQgaeemTqZrF"
      },
      "execution_count": 69,
      "outputs": []
    },
    {
      "cell_type": "code",
      "source": [
        "def compare_learning_rates(x_train, y_train, x_test, y_test, lrs):\n",
        "\n",
        "  for lr in lrs:\n",
        "    print(\"Testing accuracy for learning rate \" + str(lr))\n",
        "\n",
        "    mlp0 = epoch_mini_batch(x_train, y_train, x_test, y_test, 0, [], \"ReLU\", lr, 1000, 1, track_loss = False)\n",
        "    test_acc0 = evaluate_mlp_acc(mlp0, x_train, y_train, x_test, y_test)[1]\n",
        "    print(\"\\t0 hidden layers: \" + str(round(test_acc0 * 100, 2)) + \"%\")\n",
        "\n",
        "    mlp1 = epoch_mini_batch(x_train, y_train, x_test, y_test, 1, [128], \"ReLU\", lr, 1000, 1, track_loss = False)\n",
        "    test_acc1 = evaluate_mlp_acc(mlp1, x_train, y_train, x_test, y_test)[1]\n",
        "    print(\"\\t1 hidden layer: \" + str(round(test_acc1 * 100, 2)) + \"%\")\n",
        "\n",
        "    mlp2 = epoch_mini_batch(x_train, y_train, x_test, y_test, 2, [128, 128], \"ReLU\", lr, 1000, 1, track_loss = False)\n",
        "    test_acc2 = evaluate_mlp_acc(mlp2, x_train, y_train, x_test, y_test)[1]    \n",
        "    print(\"\\t2 hidden layers: \" + str(round(test_acc2 * 100, 2)) + \"%\")\n",
        "\n",
        "    print(\"\")"
      ],
      "metadata": {
        "id": "RAJxA7gvXRkv"
      },
      "execution_count": 70,
      "outputs": []
    },
    {
      "cell_type": "code",
      "source": [
        "def compare_hidden_configs(x_train, y_train, x_test, y_test, lr):\n",
        "  hidden_units = [32, 64, 128]\n",
        "  accs = []\n",
        "\n",
        "  # experiments with 1 hidden layer\n",
        "  for units in hidden_units:\n",
        "    cur_units = [units]\n",
        "\n",
        "    cur_mlp = epoch_mini_batch(x_train, y_train, x_test, y_test, 1, cur_units, \"ReLU\", lr, 1000, 1, track_loss = False)\n",
        "    \n",
        "    print(\"1 hidden layer with \" + str(units) + \" hidden units\")\n",
        "    cur_acc = evaluate_mlp_acc(cur_mlp, x_train, y_train, x_test, y_test)\n",
        "\n",
        "    print(\"\\tTraining accuracy: \" + str(round(cur_acc[0] * 100, 2)) + \"%\")\n",
        "    print(\"\\tTesting accuracy: \" + str(round(cur_acc[1] * 100, 2)) + \"%\")\n",
        "    print(\"\")\n",
        "\n",
        "  # experiments with 2 hidden layers\n",
        "  for units in hidden_units:\n",
        "    for units_two in hidden_units:\n",
        "      cur_units = [units, units_two]\n",
        "\n",
        "      cur_mlp = epoch_mini_batch(x_train, y_train, x_test, y_test, 2, cur_units, \"ReLU\", lr, 1000, 1, track_loss = False)\n",
        "\n",
        "      print(\"2 hidden layers with \" + str(units) + \", \" + str(units_two) + \" units each\")\n",
        "      cur_acc = evaluate_mlp_acc(cur_mlp, x_train, y_train, x_test, y_test)\n",
        "\n",
        "      print(\"\\tTraining accuracy: \" + str(round(cur_acc[0] * 100, 2)) + \"%\")\n",
        "      print(\"\\tTesting accuracy: \" + str(round(cur_acc[1] * 100, 2)) + \"%\")\n",
        "      print(\"\")\n",
        "\n",
        "  '''\n",
        "  # experiments with 3 hidden layers\n",
        "  three_accs = []\n",
        "  for units in hidden_units:\n",
        "    for units_two in hidden_units:\n",
        "      for units_three in hidden_units:\n",
        "        cur_units = [units, units_two, units_three]\n",
        "        cur_mlp = epoch_mini_batch(x_train, y_train, x_test, y_test, 1, cur_units, \"ReLU\", lr, 1000, 3)\n",
        "        cur_acc = evaluate_mlp_acc(cur_mlp, x_train, y_train, x_test, y_test)\n",
        "\n",
        "        three_accs.append(cur_acc)\n",
        "  '''"
      ],
      "metadata": {
        "id": "cD_skMvJDUzS"
      },
      "execution_count": 71,
      "outputs": []
    },
    {
      "cell_type": "code",
      "source": [
        "def compare_epochs(x_train, y_train, x_test, y_test, epochs):\n",
        "\n",
        "  for epoch in epochs:\n",
        "    if epoch == 1:\n",
        "      print(\"Testing accuracy for 1 epoch\")\n",
        "    else:\n",
        "      print(\"Testing accuracy for \" + str(epoch) + \" epochs\")\n",
        "\n",
        "    mlp0 = epoch_mini_batch(x_train, y_train, x_test, y_test, 0, [], \"ReLU\", 13.1, 1000, epoch, track_loss = False)\n",
        "    test_acc0 = evaluate_mlp_acc(mlp0, x_train, y_train, x_test, y_test)[1]\n",
        "    print(\"\\t0 hidden layers: \" + str(round(test_acc0 * 100, 2)) + \"%\")\n",
        "\n",
        "    mlp1 = epoch_mini_batch(x_train, y_train, x_test, y_test, 1, [128], \"ReLU\", 13.1, 1000, epoch, track_loss = False)\n",
        "    test_acc1 = evaluate_mlp_acc(mlp1, x_train, y_train, x_test, y_test)[1]\n",
        "    print(\"\\t1 hidden layer: \" + str(round(test_acc1 * 100, 2)) + \"%\")\n",
        "\n",
        "    mlp2 = epoch_mini_batch(x_train, y_train, x_test, y_test, 2, [128, 128], \"ReLU\", 13.1, 1000, epoch, track_loss = False)\n",
        "    test_acc2 = evaluate_mlp_acc(mlp2, x_train, y_train, x_test, y_test)[1]    \n",
        "    print(\"\\t2 hidden layers: \" + str(round(test_acc2 * 100, 2)) + \"%\")\n",
        "\n",
        "    print(\"\")"
      ],
      "metadata": {
        "id": "dTzh-0VGDucs"
      },
      "execution_count": 72,
      "outputs": []
    },
    {
      "cell_type": "markdown",
      "source": [
        "#### Convnet"
      ],
      "metadata": {
        "id": "oPmGGTjLyr6c"
      }
    },
    {
      "cell_type": "code",
      "source": [
        "def convnet_model(optimizer, num_filters = 8, filter_size = 3, strides = 1, padding = 'valid', activation = 'relu', epochs = 3, batch_size = 60):\n",
        "  model1 = models.Sequential()\n",
        "\n",
        "  #we add 2 layers as mentionned in the pdf\n",
        "  #these 2 layers are the conv layers\n",
        "  #input shape is 3d because thats how keras library wants it\n",
        "  model1.add(layers.Conv2D(filters = num_filters, kernel_size = filter_size, strides = strides,\n",
        "                         padding = padding, activation = activation, input_shape=(28,28,1)))\n",
        "  model1.add(layers.Conv2D(filters = num_filters, kernel_size = filter_size, strides = strides,\n",
        "                         padding = padding, activation = activation))\n",
        "  model1.add(layers.Flatten())\n",
        "\n",
        "  #the first two layers are the fully connected layer, the number of hidden units is specified in the doc\n",
        "  #the last layer is to check how accurate the prediction is?\n",
        "  model1.add(layers.Dense(128, activation = activation))\n",
        "  model1.add(layers.Dense(128, activation = activation))\n",
        "  model1.add(layers.Dense(10, activation = 'softmax'))\n",
        "  model1.summary()\n",
        "  model1.compile(optimizer=optimizer,\n",
        "              loss= 'categorical_crossentropy',\n",
        "              metrics=['accuracy'])\n",
        "  \n",
        "  model2 = models.Sequential()\n",
        "  model2.add(layers.Conv2D(filters = num_filters, kernel_size = filter_size, strides = strides,\n",
        "                         padding = padding, activation = activation, input_shape=(28,28,1)))\n",
        "  model2.add(layers.Conv2D(filters = num_filters, kernel_size = filter_size, strides = strides,\n",
        "                         padding = padding, activation = activation))\n",
        "  model2.add(layers.Flatten())\n",
        "  model2.add(layers.Dense(128, activation = activation))\n",
        "  model2.add(layers.Dense(128, activation = activation))\n",
        "  model2.add(layers.Dense(10, activation = 'softmax'))\n",
        "  model2.summary()\n",
        "  model2.compile(optimizer=optimizer,\n",
        "              loss= 'categorical_crossentropy',\n",
        "              metrics=['accuracy'])\n",
        "\n",
        "  ### fitting the model\n",
        "  history = model1.fit(\n",
        "    x = x_train_convnet,\n",
        "    y = y_train_convnet, \n",
        "    epochs=epochs,                # number of training epochs\n",
        "    batch_size=batch_size\n",
        "  ) \n",
        "\n",
        "  herstory = model2.fit(\n",
        "  x = x_test_convnet,\n",
        "  y = y_test_convnet, \n",
        "  epochs=epochs,          \n",
        "  batch_size=batch_size\n",
        "  )\n",
        "\n",
        "  cnn_train_acc = history.history['accuracy']\n",
        "  cnn_test_acc = herstory.history['accuracy']\n",
        "  cnn_train_loss = history.history['loss']\n",
        "  \n",
        "  plot_train_test_acc(cnn_train_acc, cnn_test_acc, 2, \"ReLU\")\n",
        "  plot_losses(cnn_train_loss, 2, \"ReLU\")"
      ],
      "metadata": {
        "id": "Or7Xm7GnyxjZ"
      },
      "execution_count": 73,
      "outputs": []
    },
    {
      "cell_type": "markdown",
      "source": [
        "## MLP"
      ],
      "metadata": {
        "id": "uVb_gMZBGdRo"
      }
    },
    {
      "cell_type": "markdown",
      "source": [
        "### Baseline accuracy tests\n",
        "\n"
      ],
      "metadata": {
        "id": "_Zi31RJC-Kmr"
      }
    },
    {
      "cell_type": "code",
      "source": [
        "### plotting training and testing for 0 hidden layers (ReLU)\n",
        "\n",
        "mlp0_test = epoch_mini_batch(x_train, y_train, x_test, y_test, 0, [], \"ReLU\", 0.1, 1000, 20, track_acc = True)\n",
        "acc0_test = evaluate_mlp_acc(mlp0_test, x_train, y_train, x_test, y_test, silent = False)"
      ],
      "metadata": {
        "colab": {
          "base_uri": "https://localhost:8080/",
          "height": 644
        },
        "id": "SZrUkti1AIxT",
        "outputId": "5f608bf2-492a-414a-a6f3-e52a2c4fa143"
      },
      "execution_count": 77,
      "outputs": [
        {
          "output_type": "stream",
          "name": "stdout",
          "text": [
            "The accuracy of the model on the training data: 86.03%\n",
            "The accuracy of the model on the testing data: 83.71%\n",
            "\n",
            "\n"
          ]
        },
        {
          "output_type": "display_data",
          "data": {
            "text/plain": [
              "<Figure size 576x288 with 1 Axes>"
            ],
            "image/png": "[encoded data removed]"
          },
          "metadata": {
            "needs_background": "light"
          }
        },
        {
          "output_type": "display_data",
          "data": {
            "text/plain": [
              "<Figure size 576x288 with 1 Axes>"
            ],
            "image/png": "[encoded data removed]"
          },
          "metadata": {
            "needs_background": "light"
          }
        }
      ]
    },
    {
      "cell_type": "code",
      "source": [
        "### plotting training and testing accuracy for 1 hidden layer (ReLU)\n",
        "\n",
        "mlp1_test = epoch_mini_batch(x_train, y_train, x_test, y_test, 1, [128], \"ReLU\", 0.1, 1000, 20, track_acc = True)\n",
        "acc1_test = evaluate_mlp_acc(mlp1_test, x_train, y_train, x_test, y_test, silent = False)"
      ],
      "metadata": {
        "id": "TJaxXO0Nlzah",
        "outputId": "92ccd62c-5f45-4c0a-867e-54b890db6395",
        "colab": {
          "base_uri": "https://localhost:8080/",
          "height": 644
        }
      },
      "execution_count": 80,
      "outputs": [
        {
          "output_type": "stream",
          "name": "stdout",
          "text": [
            "The accuracy of the model on the training data: 88.88%\n",
            "The accuracy of the model on the testing data: 86.35%\n",
            "\n",
            "\n"
          ]
        },
        {
          "output_type": "display_data",
          "data": {
            "text/plain": [
              "<Figure size 576x288 with 1 Axes>"
            ],
            "image/png": "[encoded data removed]"
          },
          "metadata": {
            "needs_background": "light"
          }
        },
        {
          "output_type": "display_data",
          "data": {
            "text/plain": [
              "<Figure size 576x288 with 1 Axes>"
            ],
            "image/png": "[encoded data removed]"
          },
          "metadata": {
            "needs_background": "light"
          }
        }
      ]
    },
    {
      "cell_type": "code",
      "source": [
        "### plotting training and testing accuracy for 2 hidden layers (ReLU)\n",
        "\n",
        "mlp2_test = epoch_mini_batch(x_train, y_train, x_test, y_test, 2, [128, 128], \"ReLU\", 0.1, 1000, 20, track_acc = True)\n",
        "acc2_test = evaluate_mlp_acc(mlp2_test, x_train, y_train, x_test, y_test, silent = False)"
      ],
      "metadata": {
        "id": "RwkmkB3Vq6yU",
        "outputId": "f21c5ae3-dc4f-4b2f-b33e-b0105f8ccb84",
        "colab": {
          "base_uri": "https://localhost:8080/",
          "height": 644
        }
      },
      "execution_count": 81,
      "outputs": [
        {
          "output_type": "stream",
          "name": "stdout",
          "text": [
            "The accuracy of the model on the training data: 89.97%\n",
            "The accuracy of the model on the testing data: 86.53%\n",
            "\n",
            "\n"
          ]
        },
        {
          "output_type": "display_data",
          "data": {
            "text/plain": [
              "<Figure size 576x288 with 1 Axes>"
            ],
            "image/png": "[encoded data removed]"
          },
          "metadata": {
            "needs_background": "light"
          }
        },
        {
          "output_type": "display_data",
          "data": {
            "text/plain": [
              "<Figure size 576x288 with 1 Axes>"
            ],
            "image/png": "[encoded data removed]"
          },
          "metadata": {
            "needs_background": "light"
          }
        }
      ]
    },
    {
      "cell_type": "markdown",
      "source": [
        "### Testing activation functions other than ReLU"
      ],
      "metadata": {
        "id": "Xw646-_-vt2r"
      }
    },
    {
      "cell_type": "code",
      "source": [
        "### training and testing 2 hidden layers with Tanh activation functions\n",
        "\n",
        "mlp2t = epoch_mini_batch(x_train, y_train, x_test, y_test, 2, [128, 128], \"Tanh\", 0.1, 1000, 20)\n",
        "acc2t = evaluate_mlp_acc(mlp2t, x_train, y_train, x_test, y_test, silent = False)"
      ],
      "metadata": {
        "id": "dx45R6rav2CT",
        "colab": {
          "base_uri": "https://localhost:8080/",
          "height": 366
        },
        "outputId": "1cf8afb2-a662-436e-f5a3-b0a546d31795"
      },
      "execution_count": 82,
      "outputs": [
        {
          "output_type": "stream",
          "name": "stdout",
          "text": [
            "The accuracy of the model on the training data: 88.76%\n",
            "The accuracy of the model on the testing data: 85.48%\n",
            "\n",
            "\n"
          ]
        },
        {
          "output_type": "display_data",
          "data": {
            "text/plain": [
              "<Figure size 576x288 with 1 Axes>"
            ],
            "image/png": "[encoded data removed]"
          },
          "metadata": {
            "needs_background": "light"
          }
        }
      ]
    },
    {
      "cell_type": "code",
      "source": [
        "### training and testing 2 hidden layers with leaky ReLU activation functions\n",
        "\n",
        "mlp2l = epoch_mini_batch(x_train, y_train, x_test, y_test, 2, [128, 128], \"Leaky ReLU\", 0.1, 1000, 20)\n",
        "acc2l = evaluate_mlp_acc(mlp2l, x_train, y_train, x_test, y_test, silent = False)"
      ],
      "metadata": {
        "id": "KNVMb42qwVBu",
        "colab": {
          "base_uri": "https://localhost:8080/",
          "height": 366
        },
        "outputId": "0a8bf155-d377-4b06-bf45-216145993a51"
      },
      "execution_count": 83,
      "outputs": [
        {
          "output_type": "stream",
          "name": "stdout",
          "text": [
            "The accuracy of the model on the training data: 89.96%\n",
            "The accuracy of the model on the testing data: 86.51%\n",
            "\n",
            "\n"
          ]
        },
        {
          "output_type": "display_data",
          "data": {
            "text/plain": [
              "<Figure size 576x288 with 1 Axes>"
            ],
            "image/png": "[encoded data removed]"
          },
          "metadata": {
            "needs_background": "light"
          }
        }
      ]
    },
    {
      "cell_type": "markdown",
      "source": [
        "### Adding L2 regularization"
      ],
      "metadata": {
        "id": "lLEAhgccx8KV"
      }
    },
    {
      "cell_type": "code",
      "source": [
        "### training and testing 2 hidden layers with ReLU activation functions and L2 regularization\n",
        "\n",
        "mlp2reg = epoch_mini_batch(x_train, y_train, x_test, y_test, 2, [128, 128], \"ReLU\", 0.1, 1000, 20, lambda_reg = 0.01)\n",
        "acc2reg = evaluate_mlp_acc(mlp2reg, x_train, y_train, x_test, y_test, silent = False)"
      ],
      "metadata": {
        "id": "iZ0Qy_T_yANL",
        "colab": {
          "base_uri": "https://localhost:8080/",
          "height": 366
        },
        "outputId": "78c30c20-235e-47b2-fb4e-34179f1767c3"
      },
      "execution_count": 84,
      "outputs": [
        {
          "output_type": "stream",
          "name": "stdout",
          "text": [
            "The accuracy of the model on the training data: 89.97%\n",
            "The accuracy of the model on the testing data: 86.53%\n",
            "\n",
            "\n"
          ]
        },
        {
          "output_type": "display_data",
          "data": {
            "text/plain": [
              "<Figure size 576x288 with 1 Axes>"
            ],
            "image/png": "[encoded data removed]"
          },
          "metadata": {
            "needs_background": "light"
          }
        }
      ]
    },
    {
      "cell_type": "markdown",
      "source": [
        "### Using a model trained on unnormalized images"
      ],
      "metadata": {
        "id": "AzPgdvMUdN95"
      }
    },
    {
      "cell_type": "code",
      "source": [
        "### training and testing 2 hidden layers with ReLu activation functions\n",
        "\n",
        "mlp2un = epoch_mini_batch(x_train_unprocessed, y_train, x_test_unprocessed, y_test, 2, [128, 128], \"ReLU\", 0.0001, 1000, 20, track_acc = True)\n",
        "acc2un = evaluate_mlp_acc(mlp2un, x_train_unprocessed, y_train, x_test_unprocessed, y_test, silent = False)"
      ],
      "metadata": {
        "colab": {
          "base_uri": "https://localhost:8080/",
          "height": 644
        },
        "id": "NBJgJN9rvR6m",
        "outputId": "8af32ede-c5ff-4818-bc9c-2d63f30e520c"
      },
      "execution_count": 83,
      "outputs": [
        {
          "output_type": "stream",
          "name": "stdout",
          "text": [
            "The accuracy of the model on the training data: 76.58%\n",
            "The accuracy of the model on the testing data: 74.45%\n",
            "\n",
            "\n"
          ]
        },
        {
          "output_type": "display_data",
          "data": {
            "text/plain": [
              "<Figure size 576x288 with 1 Axes>"
            ],
            "image/png": "[encoded data removed]"
          },
          "metadata": {
            "needs_background": "light"
          }
        },
        {
          "output_type": "display_data",
          "data": {
            "text/plain": [
              "<Figure size 576x288 with 1 Axes>"
            ],
            "image/png": "[encoded data removed]"
          },
          "metadata": {
            "needs_background": "light"
          }
        }
      ]
    },
    {
      "cell_type": "markdown",
      "source": [
        "### Extra experiments"
      ],
      "metadata": {
        "id": "lsd0-hy72ei_"
      }
    },
    {
      "cell_type": "markdown",
      "source": [
        "#### Plotting testing accuracy as function of the number of training images"
      ],
      "metadata": {
        "id": "ShRTEwOd5nB8"
      }
    },
    {
      "cell_type": "code",
      "source": [
        "### training MLP with 10^k images (2 hidden layers with 128 units each)\n",
        "\n",
        "compare_train_images(x_train, y_train, x_test, y_test, [0, 1, 2, 3, 4])"
      ],
      "metadata": {
        "id": "9mJouQ7Zgej9",
        "outputId": "5b16d38c-d057-4524-dbbb-3fdb965c56be",
        "colab": {
          "base_uri": "https://localhost:8080/",
          "height": 295
        }
      },
      "execution_count": 168,
      "outputs": [
        {
          "output_type": "display_data",
          "data": {
            "text/plain": [
              "<Figure size 576x288 with 1 Axes>"
            ],
            "image/png": "[encoded data removed]"
          },
          "metadata": {
            "needs_background": "light"
          }
        }
      ]
    },
    {
      "cell_type": "markdown",
      "source": [
        "#### Testing a model trained on data normalized via greyscale values"
      ],
      "metadata": {
        "id": "sEztysYB2n0R"
      }
    },
    {
      "cell_type": "code",
      "source": [
        "### plotting training and testing for 0 hidden layers (ReLU)\n",
        "\n",
        "# x_train and x_test (the data used for other experiments) is normalized by\n",
        "# feature (by pixel number) with the formula (x - xmin) / (xmax - xmin) where\n",
        "# xmin and xmax are the maximum values of the pixel amongst all the training\n",
        "# data instances; for this experiment, we use data\n",
        "\n",
        "mlp0_grey_test = epoch_mini_batch(x_train_greyscale, y_train, x_test_greyscale, y_test, 0, [], \"ReLU\", 0.1, 1000, 20, track_acc = True)\n",
        "acc0__grey_test = evaluate_mlp_acc(mlp0_grey_test, x_train_greyscale, y_train, x_test_greyscale, y_test, silent = False)"
      ],
      "metadata": {
        "id": "XXearQWl2vBx",
        "outputId": "d1184e94-222c-4388-86fe-0828d2f71d88",
        "colab": {
          "base_uri": "https://localhost:8080/",
          "height": 644
        }
      },
      "execution_count": 169,
      "outputs": [
        {
          "output_type": "stream",
          "name": "stdout",
          "text": [
            "The accuracy of the model on the training data: 83.86%\n",
            "The accuracy of the model on the testing data: 82.57%\n",
            "\n",
            "\n"
          ]
        },
        {
          "output_type": "display_data",
          "data": {
            "text/plain": [
              "<Figure size 576x288 with 1 Axes>"
            ],
            "image/png": "[encoded data removed]"
          },
          "metadata": {
            "needs_background": "light"
          }
        },
        {
          "output_type": "display_data",
          "data": {
            "text/plain": [
              "<Figure size 576x288 with 1 Axes>"
            ],
            "image/png": "[encoded data removed]"
          },
          "metadata": {
            "needs_background": "light"
          }
        }
      ]
    },
    {
      "cell_type": "markdown",
      "source": [
        "### Determining optimal hyperparameters"
      ],
      "metadata": {
        "id": "GRpZwRiH5SNK"
      }
    },
    {
      "cell_type": "markdown",
      "source": [
        "#### Testing different learning rates"
      ],
      "metadata": {
        "id": "_2uQXzwnWxjg"
      }
    },
    {
      "cell_type": "code",
      "source": [
        "### comparing different learning rates for 128 hidden units and 1 epoch\n",
        "\n",
        "compare_learning_rates(x_train, y_train, x_test, y_test, [0.001, 0.01, 0.1])"
      ],
      "metadata": {
        "id": "tGM3Sx8W3dyk",
        "outputId": "d3c178a5-9842-4838-f2cd-87a4a648f490",
        "colab": {
          "base_uri": "https://localhost:8080/"
        }
      },
      "execution_count": 113,
      "outputs": [
        {
          "output_type": "stream",
          "name": "stdout",
          "text": [
            "Testing accuracy for learning rate 0.001\n",
            "\t0 hidden layers: 24.67%\n",
            "\t1 hidden layer: 31.45%\n",
            "\t2 hidden layers: 36.82%\n",
            "\n",
            "Testing accuracy for learning rate 0.01\n",
            "\t0 hidden layers: 64.2%\n",
            "\t2 hidden layers: 66.67%\n",
            "\n",
            "Testing accuracy for learning rate 0.1\n",
            "\t0 hidden layers: 78.34%\n",
            "\t1 hidden layer: 79.68%\n",
            "\t2 hidden layers: 79.99%\n",
            "\n"
          ]
        }
      ]
    },
    {
      "cell_type": "code",
      "source": [
        "compare_learning_rates(x_train, y_train, x_test, y_test, [0.11, 0.15, 0.2])"
      ],
      "metadata": {
        "id": "FMwGUj5m0ybS",
        "outputId": "43053941-2980-4d3d-ad69-4dbe7b9a25fe",
        "colab": {
          "base_uri": "https://localhost:8080/"
        }
      },
      "execution_count": 117,
      "outputs": [
        {
          "output_type": "stream",
          "name": "stdout",
          "text": [
            "Testing accuracy for learning rate 0.11\n",
            "\t0 hidden layers: 78.77%\n",
            "\t1 hidden layer: 80.15%\n",
            "\t2 hidden layers: 80.36%\n",
            "\n",
            "Testing accuracy for learning rate 0.15\n",
            "\t0 hidden layers: 79.13%\n",
            "\t1 hidden layer: 81.1%\n",
            "\t2 hidden layers: 80.98%\n",
            "\n",
            "Testing accuracy for learning rate 0.2\n",
            "\t0 hidden layers: 78.67%\n",
            "\t1 hidden layer: 81.86%\n",
            "\t2 hidden layers: 81.11%\n",
            "\n"
          ]
        }
      ]
    },
    {
      "cell_type": "code",
      "source": [
        "compare_learning_rates(x_train, y_train, x_test, y_test, [0.25, 0.3, 0.35])"
      ],
      "metadata": {
        "colab": {
          "base_uri": "https://localhost:8080/"
        },
        "id": "tFw7PULA5fbg",
        "outputId": "1ccd969a-9e0e-47ce-f980-90013556b545"
      },
      "execution_count": 41,
      "outputs": [
        {
          "output_type": "stream",
          "name": "stdout",
          "text": [
            "Testing accuracy for learning rate 0.25\n",
            "\t0 hidden layers: 77.65%\n",
            "\t1 hidden layer: 81.94%\n",
            "\t2 hidden layers: 80.89%\n",
            "\n",
            "Testing accuracy for learning rate 0.3\n",
            "\t0 hidden layers: 76.87%\n",
            "\t1 hidden layer: 81.97%\n",
            "\t2 hidden layers: 82.25%\n",
            "\n",
            "Testing accuracy for learning rate 0.35\n",
            "\t0 hidden layers: 77.82%\n",
            "\t1 hidden layer: 82.52%\n",
            "\t2 hidden layers: 79.49%\n",
            "\n"
          ]
        }
      ]
    },
    {
      "cell_type": "code",
      "source": [
        "compare_learning_rates(x_train, y_train, x_test, y_test, [0.31, 0.32, 0.33])"
      ],
      "metadata": {
        "colab": {
          "base_uri": "https://localhost:8080/"
        },
        "id": "zfdWoJDo7Ido",
        "outputId": "f615332e-9cab-497b-de97-a13c2860b34a"
      },
      "execution_count": 42,
      "outputs": [
        {
          "output_type": "stream",
          "name": "stdout",
          "text": [
            "Testing accuracy for learning rate 0.31\n",
            "\t0 hidden layers: 79.16%\n",
            "\t1 hidden layer: 82.23%\n",
            "\t2 hidden layers: 81.66%\n",
            "\n",
            "Testing accuracy for learning rate 0.32\n",
            "\t0 hidden layers: 76.96%\n",
            "\t1 hidden layer: 82.35%\n",
            "\t2 hidden layers: 82.74%\n",
            "\n",
            "Testing accuracy for learning rate 0.33\n",
            "\t0 hidden layers: 76.46%\n",
            "\t1 hidden layer: 82.33%\n",
            "\t2 hidden layers: 82.6%\n",
            "\n"
          ]
        }
      ]
    },
    {
      "cell_type": "markdown",
      "source": [
        "#### Testing different hidden layer and unit configurations\n",
        "\n"
      ],
      "metadata": {
        "id": "cjWgfGfXNn5b"
      }
    },
    {
      "cell_type": "code",
      "source": [
        "### comparing hidden layer/unit configurations for 1 epoch\n",
        "\n",
        "compare_hidden_configs(x_train, y_train, x_test, y_test, 0.32)"
      ],
      "metadata": {
        "colab": {
          "base_uri": "https://localhost:8080/"
        },
        "id": "iRNAiQ2XNsUV",
        "outputId": "c100e1f7-372f-4364-c203-011aee1362c9"
      },
      "execution_count": 44,
      "outputs": [
        {
          "output_type": "stream",
          "name": "stdout",
          "text": [
            "1 hidden layer with 32 hidden units\n",
            "\tTraining accuracy: 81.62%\n",
            "\tTesting accuracy: 80.75%\n",
            "\n",
            "1 hidden layer with 64 hidden units\n",
            "\tTraining accuracy: 81.72%\n",
            "\tTesting accuracy: 80.12%\n",
            "\n",
            "1 hidden layer with 128 hidden units\n",
            "\tTraining accuracy: 83.16%\n",
            "\tTesting accuracy: 82.35%\n",
            "\n",
            "2 hidden layers with 32, 32 units each\n",
            "\tTraining accuracy: 78.09%\n",
            "\tTesting accuracy: 77.45%\n",
            "\n",
            "2 hidden layers with 32, 64 units each\n",
            "\tTraining accuracy: 81.58%\n",
            "\tTesting accuracy: 80.67%\n",
            "\n",
            "2 hidden layers with 32, 128 units each\n",
            "\tTraining accuracy: 80.03%\n",
            "\tTesting accuracy: 79.04%\n",
            "\n",
            "2 hidden layers with 64, 32 units each\n",
            "\tTraining accuracy: 80.34%\n",
            "\tTesting accuracy: 79.46%\n",
            "\n",
            "2 hidden layers with 64, 64 units each\n",
            "\tTraining accuracy: 82.38%\n",
            "\tTesting accuracy: 81.26%\n",
            "\n",
            "2 hidden layers with 64, 128 units each\n",
            "\tTraining accuracy: 82.55%\n",
            "\tTesting accuracy: 81.34%\n",
            "\n",
            "2 hidden layers with 128, 32 units each\n",
            "\tTraining accuracy: 81.72%\n",
            "\tTesting accuracy: 80.84%\n",
            "\n",
            "2 hidden layers with 128, 64 units each\n",
            "\tTraining accuracy: 80.08%\n",
            "\tTesting accuracy: 79.01%\n",
            "\n",
            "2 hidden layers with 128, 128 units each\n",
            "\tTraining accuracy: 83.72%\n",
            "\tTesting accuracy: 82.74%\n",
            "\n"
          ]
        }
      ]
    },
    {
      "cell_type": "markdown",
      "source": [
        "#### Testing different number of epochs"
      ],
      "metadata": {
        "id": "7z-l0p1OEGxy"
      }
    },
    {
      "cell_type": "code",
      "source": [
        "mlpe_test = epoch_mini_batch(x_train, y_train, x_test, y_test, 0, [], \"ReLU\", 0.1, 1000, 50, track_acc = True)\n",
        "acce_test = evaluate_mlp_acc(mlpe_test, x_train, y_train, x_test, y_test, silent = False)"
      ],
      "metadata": {
        "id": "njcZ48rxRQn8",
        "outputId": "d9bbf8bb-444f-4bb6-9387-cd006b51541a",
        "colab": {
          "base_uri": "https://localhost:8080/",
          "height": 644
        }
      },
      "execution_count": 43,
      "outputs": [
        {
          "output_type": "stream",
          "name": "stdout",
          "text": [
            "The accuracy of the model on the training data: 86.94%\n",
            "The accuracy of the model on the testing data: 84.17%\n",
            "\n",
            "\n"
          ]
        },
        {
          "output_type": "display_data",
          "data": {
            "text/plain": [
              "<Figure size 576x288 with 1 Axes>"
            ],
            "image/png": "[encoded data removed]"
          },
          "metadata": {
            "needs_background": "light"
          }
        },
        {
          "output_type": "display_data",
          "data": {
            "text/plain": [
              "<Figure size 576x288 with 1 Axes>"
            ],
            "image/png": "[encoded data removed]"
          },
          "metadata": {
            "needs_background": "light"
          }
        }
      ]
    },
    {
      "cell_type": "markdown",
      "source": [
        "#### Testing optimal hyperparameters\n",
        "\n",
        "\n"
      ],
      "metadata": {
        "id": "Yv-XfMX9xbUP"
      }
    },
    {
      "cell_type": "code",
      "source": [
        "### 2 hidden layers, 128 hidden units, 0.32 learning rate, 46 epochs\n",
        "\n",
        "mlpo_test = epoch_mini_batch(x_train, y_train, x_test, y_test, 2, [128, 128], \"ReLU\", 0.32, 1000, 46, track_acc = True)\n",
        "acco_test = evaluate_mlp_acc(mlpo_test, x_train, y_train, x_test, y_test, silent = False)"
      ],
      "metadata": {
        "id": "uf_rbqZMxhNL",
        "outputId": "ef835c06-c137-47ce-b489-da9e6b769504",
        "colab": {
          "base_uri": "https://localhost:8080/",
          "height": 644
        }
      },
      "execution_count": 174,
      "outputs": [
        {
          "output_type": "stream",
          "name": "stdout",
          "text": [
            "The accuracy of the model on the training data: 97.18%\n",
            "The accuracy of the model on the testing data: 87.77%\n",
            "\n",
            "\n"
          ]
        },
        {
          "output_type": "display_data",
          "data": {
            "text/plain": [
              "<Figure size 576x288 with 1 Axes>"
            ],
            "image/png": "[encoded data removed]"
          },
          "metadata": {
            "needs_background": "light"
          }
        },
        {
          "output_type": "display_data",
          "data": {
            "text/plain": [
              "<Figure size 576x288 with 1 Axes>"
            ],
            "image/png": "[encoded data removed]"
          },
          "metadata": {
            "needs_background": "light"
          }
        }
      ]
    },
    {
      "cell_type": "markdown",
      "source": [
        "## Convnet"
      ],
      "metadata": {
        "id": "Tia8YS6kGkEW"
      }
    },
    {
      "cell_type": "code",
      "source": [
        "### description\n",
        "\n",
        "# we should make this silent (no output except for the graphs and accuracy) \n",
        "\n",
        "optimizer = optimizers.SGD(lr=0.1, decay=0, momentum=0, nesterov=False)\n",
        "convnet_model(optimizer, num_filters = 8, filter_size = 3, strides = 1, padding = 'valid', activation = 'relu', epochs = 3, batch_size = 60)"
      ],
      "metadata": {
        "id": "RyBdmeTLzHit",
        "outputId": "1a4e4900-7593-4275-ce97-848405cbbc4d",
        "colab": {
          "base_uri": "https://localhost:8080/",
          "height": 1000
        }
      },
      "execution_count": null,
      "outputs": [
        {
          "output_type": "stream",
          "name": "stdout",
          "text": [
            "Model: \"sequential\"\n",
            "_________________________________________________________________\n",
            " Layer (type)                Output Shape              Param #   \n",
            "=================================================================\n",
            " conv2d (Conv2D)             (None, 26, 26, 8)         80        \n",
            "                                                                 \n",
            " conv2d_1 (Conv2D)           (None, 24, 24, 8)         584       \n",
            "                                                                 \n",
            " flatten (Flatten)           (None, 4608)              0         \n",
            "                                                                 \n",
            " dense (Dense)               (None, 128)               589952    \n",
            "                                                                 \n",
            " dense_1 (Dense)             (None, 128)               16512     \n",
            "                                                                 \n",
            " dense_2 (Dense)             (None, 10)                1290      \n",
            "                                                                 \n",
            "=================================================================\n",
            "Total params: 608,418\n",
            "Trainable params: 608,418\n",
            "Non-trainable params: 0\n",
            "_________________________________________________________________\n",
            "Model: \"sequential_1\"\n",
            "_________________________________________________________________\n",
            " Layer (type)                Output Shape              Param #   \n",
            "=================================================================\n",
            " conv2d_2 (Conv2D)           (None, 26, 26, 8)         80        \n",
            "                                                                 \n",
            " conv2d_3 (Conv2D)           (None, 24, 24, 8)         584       \n",
            "                                                                 \n",
            " flatten_1 (Flatten)         (None, 4608)              0         \n",
            "                                                                 \n",
            " dense_3 (Dense)             (None, 128)               589952    \n",
            "                                                                 \n",
            " dense_4 (Dense)             (None, 128)               16512     \n",
            "                                                                 \n",
            " dense_5 (Dense)             (None, 10)                1290      \n",
            "                                                                 \n",
            "=================================================================\n",
            "Total params: 608,418\n",
            "Trainable params: 608,418\n",
            "Non-trainable params: 0\n",
            "_________________________________________________________________\n",
            "Epoch 1/3\n",
            "1000/1000 [==============================] - 51s 50ms/step - loss: 0.4797 - accuracy: 0.8240\n",
            "Epoch 2/3\n",
            "1000/1000 [==============================] - 53s 53ms/step - loss: 0.3022 - accuracy: 0.8890\n",
            "Epoch 3/3\n",
            "1000/1000 [==============================] - 60s 60ms/step - loss: 0.2481 - accuracy: 0.9076\n",
            "Epoch 1/3\n",
            "167/167 [==============================] - 12s 69ms/step - loss: 0.8348 - accuracy: 0.6936\n",
            "Epoch 2/3\n",
            "167/167 [==============================] - 12s 69ms/step - loss: 0.4865 - accuracy: 0.8217\n",
            "Epoch 3/3\n",
            "167/167 [==============================] - 13s 80ms/step - loss: 0.4003 - accuracy: 0.8523\n"
          ]
        },
        {
          "output_type": "display_data",
          "data": {
            "text/plain": [
              "<Figure size 576x288 with 1 Axes>"
            ],
            "image/png": "[encoded data removed]"
          },
          "metadata": {
            "needs_background": "light"
          }
        },
        {
          "output_type": "display_data",
          "data": {
            "text/plain": [
              "<Figure size 576x288 with 1 Axes>"
            ],
            "image/png": "[encoded data removed]"
          },
          "metadata": {
            "needs_background": "light"
          }
        }
      ]
    }
  ],
  "metadata": {
    "colab": {
      "provenance": [],
      "include_colab_link": true
    },
    "kernelspec": {
      "display_name": "Python 3",
      "name": "python3"
    },
    "language_info": {
      "name": "python"
    }
  },
  "nbformat": 4,
  "nbformat_minor": 0
}