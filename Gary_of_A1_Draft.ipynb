{
  "cells": [
    {
      "cell_type": "markdown",
      "metadata": {
        "id": "view-in-github",
        "colab_type": "text"
      },
      "source": [
        "<a href=\"https://colab.research.google.com/github/faithrts/COMP-551/blob/GaryBranch/Gary_of_A1_Draft.ipynb\" target=\"_parent\"><img src=\"https://colab.research.google.com/assets/colab-badge.svg\" alt=\"Open In Colab\"/></a>"
      ]
    },
    {
      "cell_type": "markdown",
      "source": [
        "# Set-up"
      ],
      "metadata": {
        "id": "8A1SE2icjh69"
      }
    },
    {
      "cell_type": "code",
      "execution_count": 80,
      "metadata": {
        "id": "VCTCTWgB-NKG"
      },
      "outputs": [],
      "source": [
        "### importing libraries and setting the random seed\n",
        "\n",
        "import numpy as np\n",
        "import pandas as pd\n",
        "import matplotlib.gridspec as gridspec\n",
        "\n",
        "\n",
        "%matplotlib inline\n",
        "import matplotlib.pyplot as plt\n",
        "\n",
        "import math\n",
        "import bisect\n",
        "from scipy.stats import zscore\n",
        "from scipy.io import arff\n",
        "from importlib import reload\n",
        "\n",
        "from sklearn import preprocessing\n",
        "from sklearn.datasets import make_regression\n",
        "from sklearn.ensemble import RandomForestRegressor\n",
        "\n",
        "np.random.seed(1234)"
      ]
    },
    {
      "cell_type": "markdown",
      "source": [
        "# Data Handling"
      ],
      "metadata": {
        "id": "hKHZWj9vjn1j"
      }
    },
    {
      "cell_type": "markdown",
      "source": [
        "## Importing"
      ],
      "metadata": {
        "id": "FsaKjKTqjylr"
      }
    },
    {
      "cell_type": "code",
      "execution_count": 81,
      "metadata": {
        "colab": {
          "base_uri": "https://localhost:8080/"
        },
        "id": "JrnSxLmFTCp9",
        "outputId": "ae502bbf-18f3-4b36-fb45-7e36f23b6c98"
      },
      "outputs": [
        {
          "output_type": "stream",
          "name": "stdout",
          "text": [
            "--2022-10-06 17:41:36--  http://archive.ics.uci.edu/ml/machine-learning-databases/hepatitis/hepatitis.data\n",
            "Resolving archive.ics.uci.edu (archive.ics.uci.edu)... 128.195.10.252\n",
            "Connecting to archive.ics.uci.edu (archive.ics.uci.edu)|128.195.10.252|:80... connected.\n",
            "HTTP request sent, awaiting response... 200 OK\n",
            "Length: 7545 (7.4K) [application/x-httpd-php]\n",
            "Saving to: ‘hepatitis.data.3’\n",
            "\n",
            "\rhepatitis.data.3      0%[                    ]       0  --.-KB/s               \rhepatitis.data.3    100%[===================>]   7.37K  --.-KB/s    in 0s      \n",
            "\n",
            "2022-10-06 17:41:36 (441 MB/s) - ‘hepatitis.data.3’ saved [7545/7545]\n",
            "\n",
            "--2022-10-06 17:41:36--  https://archive.ics.uci.edu/ml/machine-learning-databases/00329/messidor_features.arff\n",
            "Resolving archive.ics.uci.edu (archive.ics.uci.edu)... 128.195.10.252\n",
            "Connecting to archive.ics.uci.edu (archive.ics.uci.edu)|128.195.10.252|:443... connected.\n",
            "HTTP request sent, awaiting response... 200 OK\n",
            "Length: 117224 (114K) [application/x-httpd-php]\n",
            "Saving to: ‘messidor_features.arff.3’\n",
            "\n",
            "messidor_features.a 100%[===================>] 114.48K  --.-KB/s    in 0.03s   \n",
            "\n",
            "2022-10-06 17:41:36 (4.20 MB/s) - ‘messidor_features.arff.3’ saved [117224/117224]\n",
            "\n"
          ]
        }
      ],
      "source": [
        "### importing the files from the web to google colab\n",
        "\n",
        "# hepatitis.data\n",
        "!wget http://archive.ics.uci.edu/ml/machine-learning-databases/hepatitis/hepatitis.data\n",
        "\n",
        "# messidor_features.arff\n",
        "!wget https://archive.ics.uci.edu/ml/machine-learning-databases/00329/messidor_features.arff"
      ]
    },
    {
      "cell_type": "markdown",
      "source": [
        "## Preprocessing"
      ],
      "metadata": {
        "id": "YLKtKHXfky5X"
      }
    },
    {
      "cell_type": "markdown",
      "source": [
        "### Helper functions"
      ],
      "metadata": {
        "id": "MtAHDLEXj2T3"
      }
    },
    {
      "cell_type": "code",
      "execution_count": 82,
      "metadata": {
        "id": "hBDZ8Cxhb_mk"
      },
      "outputs": [],
      "source": [
        "# normalizes an input array\n",
        "def normalize_array(arr):\n",
        "  normalized_array = []\n",
        "\n",
        "  for i in arr:\n",
        "    new_val = (i - min(arr)) / (max(arr) - min(arr))\n",
        "    normalized_array.append(new_val)\n",
        "\n",
        "  return normalized_array\n",
        "\n",
        "# normalizes columns in input dataframe df; \n",
        "# assumes last column is the target labels\n",
        "def normalize_df(df):\n",
        "  normalized_df = df.copy()\n",
        "\n",
        "  for col in df.iloc[:, :-1]:\n",
        "    normalized_col = normalize_array(df[col])\n",
        "    normalized_df[col] = normalized_col\n",
        "\n",
        "  return normalized_df"
      ]
    },
    {
      "cell_type": "code",
      "execution_count": 83,
      "metadata": {
        "id": "Pkh23nL0rokB"
      },
      "outputs": [],
      "source": [
        "# standardizes columns in input dataframe df;\n",
        "# assumes last column is the target labels\n",
        "\n",
        "\n",
        "def standardize_df(df):\n",
        "  standardized_df = df.copy()\n",
        "\n",
        "  # iterates through each column, excluding the last column\n",
        "  for col in df.iloc[:, :-1]:\n",
        "\n",
        "    # calculates mean value and standard deviation of column\n",
        "    mean_val = df[col].mean()\n",
        "    standard_dev = df[col].std()\n",
        "\n",
        "    # standardizes the values in the current column\n",
        "    standardized_df[col] = (df[col] - mean_val) / standard_dev\n",
        "\n",
        "  return standardized_df"
      ]
    },
    {
      "cell_type": "code",
      "source": [
        "# counts items in a given range\n",
        "def count_in_ranges(item_arr, range_arr, bins = 10):\n",
        "\n",
        "  count_arr = np.zeros(len(range_arr))\n",
        "\n",
        "  for item in item_arr:\n",
        "    pos = bisect.bisect_left(range_arr, item)\n",
        "    count_arr[pos] += 1\n",
        "\n",
        "  return count_arr\n",
        "\n",
        "# creates histograms for each column in input dataframe df and array of columns\n",
        "# column_arr\n",
        "def create_histograms_non_bool_col(df, column_arr = 0):\n",
        "  # if no array of column names given, creates histograms for all columns\n",
        "  \n",
        "  if column_arr == 0:\n",
        "    column_arr = list(df)\n",
        "\n",
        "  #setting up figure\n",
        "  fig = plt.figure(figsize = (12,8), tight_layout=True) \n",
        "\n",
        "  #setting space for our gs. In this case it is a 2x3 grid\n",
        "  #think of this as the whole space we have to put the plots in\n",
        "  gs = gridspec.GridSpec(2,3)\n",
        "\n",
        "  i=0\n",
        "  j=0\n",
        "\n",
        "  # iterates through each column name\n",
        "  for col in column_arr:\n",
        "\n",
        "    min = math.floor(df[col].min())\n",
        "    max = math.ceil(df[col].max())\n",
        "    mean = df[col].mean()\n",
        "    \n",
        "    range_arr = np.linspace(min, max + 1, 100)\n",
        "    count_arr = count_in_ranges(df[col].to_numpy(), range_arr)\n",
        "\n",
        "    if j==3:\n",
        "      j=0\n",
        "      i=i+1\n",
        "\n",
        "    # plots histogram\n",
        "\n",
        "    ax = fig.add_subplot(gs[i,j])\n",
        "    ax.autoscale(True)\n",
        "    ax.bar(count_arr, range_arr)\n",
        "    ax.set_title(col.upper())\n",
        "    ax.set_xlabel(\"Occurrence count\")\n",
        "    ax.set_ylabel(\"Value\")\n",
        "    ax.axhline(y = mean, color = 'r', linestyle = '-', label = \"Mean = \" + str(round(mean, 2)))\n",
        "    ax.legend(loc = \"upper right\") \n",
        " \n",
        "    j=j+1\n",
        "  plt.show()"
      ],
      "metadata": {
        "id": "1l1eXtlPRcVo"
      },
      "execution_count": 101,
      "outputs": []
    },
    {
      "cell_type": "code",
      "execution_count": 85,
      "metadata": {
        "id": "NaSHTl-L7WfU"
      },
      "outputs": [],
      "source": [
        "### function to split the data\n",
        "\n",
        "# assumes the last column of the df is the target label\n",
        "# assumes percentage_train is an integer out of 100\n",
        "def train_test_split(df, percentage_train = 66):\n",
        "\n",
        "  # shuffling the order of rows in the input dataframe\n",
        "  df = df.sample(frac = 1, random_state = 1)\n",
        "\n",
        "  # splits the input dataframe into arrays of instances and labels\n",
        "  x, y = df.iloc[:, :-1].to_numpy(), df.iloc[:, -1].to_numpy()\n",
        "\n",
        "  # the number of data points\n",
        "  instance_count = x.shape[0]\n",
        "\n",
        "  # the number of instances to be used in the training data\n",
        "  train_count = int(instance_count * (percentage_train / 100))\n",
        "\n",
        "  # splitting the data into training data and labels,\n",
        "  # and testing data and labels\n",
        "  x_train, y_train = x[:train_count], y[:train_count]\n",
        "  x_test, y_test = x[train_count:], y[train_count:]\n",
        "\n",
        "  return x_train, y_train, x_test, y_test"
      ]
    },
    {
      "cell_type": "code",
      "source": [
        "# random forest for feature importance on a regression problem;\n",
        "# assumes the first column is target labels\n",
        "def RF_find_features(df):\n",
        "  # splitting the data in the input dataframe df\n",
        "  x_train, y_train, x_test, y_test = train_test_split(df)\n",
        "\n",
        "  # define the model\n",
        "  model = RandomForestRegressor()\n",
        "\n",
        "  # fit the model\n",
        "  model.fit(x_train, y_train)\n",
        "\n",
        "  # the value at index i is the feature importance of the\n",
        "  # feature at column i in the dataframe\n",
        "  importance_arr = model.feature_importances_\n",
        "\n",
        "  # summarize feature importance\n",
        "  for i in range(len(importance_arr)):\n",
        "      print('Feature: %s, Score: %.5f' % (list(df.columns)[i], importance_arr[i]))\n",
        "\n",
        "  return importance_arr\n",
        "\n",
        "def plot_feature_importance(importance_arr):\n",
        "  plt.bar([x for x in range(len(importance_arr))], importance_arr)\n",
        "  plt.title(\"Feature importance\")\n",
        "  plt.xlabel(\"Feature index in data\")\n",
        "  plt.ylabel(\"Score\")\n",
        "  plt.show"
      ],
      "metadata": {
        "id": "G-Ioxqrzjc7t"
      },
      "execution_count": 86,
      "outputs": []
    },
    {
      "cell_type": "code",
      "execution_count": 87,
      "metadata": {
        "id": "C4jhNoIpYEpq"
      },
      "outputs": [],
      "source": [
        "### computes zcore to remove outlier data\n",
        "def remove_outliers(df):\n",
        "  abs_z_scores = np.abs(df.apply(zscore))\n",
        "\n",
        "  # a boolean array that returns True at index i if the row\n",
        "  # i in df does not contain any values with a zscore greater\n",
        "  # than 3\n",
        "  instance_bool_arr = (abs_z_scores < 3).all(axis = 1)\n",
        "  return df[instance_bool_arr]"
      ]
    },
    {
      "cell_type": "markdown",
      "source": [
        "### Loading and cleaning hepatitis.data"
      ],
      "metadata": {
        "id": "HQbCrZx0-EgM"
      }
    },
    {
      "cell_type": "code",
      "execution_count": 88,
      "metadata": {
        "id": "vOfc6iLH_ZQ8"
      },
      "outputs": [],
      "source": [
        "### creating the dataframe for hepatitis.data\n",
        "\n",
        "# creates a dataframe from the .data file\n",
        "hep_df = pd.read_csv(\"hepatitis.data\", sep=\",\", header=None)\n",
        "\n",
        "# the column names\n",
        "hep_cols = ['CLASS', 'AGE', 'SEX', 'STEROID','ANTIVIRALS', 'FATIGUE',\n",
        "            'MALAISE', 'ANOREXIA', 'LIVER BIG', 'LIVER FIRM',\n",
        "            'SPLEEN PALPABLE', 'SPIDERS', 'ASCITES', 'VARICES',\n",
        "            'BILIRUBIN', 'ALK PHOSPHATE', 'SGOT', 'ALBUMIN',\n",
        "            'PROTIME', 'HISTOLOGY']\n",
        "\n",
        "# adds the column names to the dataframe\n",
        "hep_df.columns = hep_cols"
      ]
    },
    {
      "cell_type": "code",
      "execution_count": 89,
      "metadata": {
        "id": "urN0iK66trvg"
      },
      "outputs": [],
      "source": [
        "### creating lists to separate the names of columns containing\n",
        "### boolean values vs the ones containing continuous values\n",
        "\n",
        "bool_col = ['CLASS', 'SEX', 'STEROID', 'ANTIVIRALS', 'FATIGUE',\n",
        "            'MALAISE', 'ANOREXIA', 'LIVER BIG', 'LIVER FIRM',\n",
        "            'SPLEEN PALPABLE', 'SPIDERS', 'ASCITES', 'VARICES',\n",
        "            'HISTOLOGY']\n",
        "\n",
        "non_bool_col = ['AGE', 'BILIRUBIN', 'ALK PHOSPHATE', 'SGOT', 'ALBUMIN', 'PROTIME']"
      ]
    },
    {
      "cell_type": "code",
      "execution_count": 90,
      "metadata": {
        "id": "8zQbSQRFu_D5",
        "colab": {
          "base_uri": "https://localhost:8080/"
        },
        "outputId": "433dc952-448a-4027-fcb9-af6a9757398f"
      },
      "outputs": [
        {
          "output_type": "stream",
          "name": "stderr",
          "text": [
            "/usr/local/lib/python3.7/dist-packages/ipykernel_launcher.py:30: SettingWithCopyWarning: \n",
            "A value is trying to be set on a copy of a slice from a DataFrame.\n",
            "Try using .loc[row_indexer,col_indexer] = value instead\n",
            "\n",
            "See the caveats in the documentation: https://pandas.pydata.org/pandas-docs/stable/user_guide/indexing.html#returning-a-view-versus-a-copy\n"
          ]
        }
      ],
      "source": [
        "### cleaning hepatitis dataframe\n",
        "\n",
        "# saves a copy of the dataframe without rows that include '?' values\n",
        "intact_rows = hep_df[~hep_df.eq('?').any(axis=1)].astype('float')\n",
        "\n",
        "# iterates through columns with boolean values\n",
        "for col in bool_col:\n",
        "\n",
        "  # replaces instances of 1.0 and 2.0 with the boolean integers 0 and 1\n",
        "  intact_rows[col] = intact_rows[col].replace({1.0:0, 2.0:1})\n",
        "  # calculates the mode of the current column (ignores '?')\n",
        "  mode = int(intact_rows[col].mode()[0])\n",
        "\n",
        "  # in the original dataframe, replaces each '?' with the column's mode\n",
        "  hep_df[col] = hep_df[col].replace({'?': mode}).astype('int64')\n",
        "  # in the original dataframe, replaces 1.0 and 2.0 with boolean ints 0 and 1\n",
        "  hep_df[col] = hep_df[col].replace({1.0:0, 2.0:1})\n",
        "\n",
        "# iterates through columns with non-boolean values\n",
        "for col in non_bool_col:\n",
        "  # calculates the mean of the current column (ignores '?')\n",
        "  mean = intact_rows[col].mean()\n",
        "  # in the original dataframe, replaces each '?' with the column's mean\n",
        "  hep_df[col] = hep_df[col].replace({'?': mean}).astype('float')\n",
        "\n",
        "hep_df = remove_outliers(hep_df)\n",
        "\n",
        "# moves the target \"CLASS\" column to the end of the dataframe\n",
        "class_col = hep_df.pop('CLASS')\n",
        "hep_df['CLASS'] = class_col"
      ]
    },
    {
      "cell_type": "markdown",
      "source": [
        "### Analysis of Hepatitis data"
      ],
      "metadata": {
        "id": "NMKBKMJYkSAk"
      }
    },
    {
      "cell_type": "code",
      "execution_count": 92,
      "metadata": {
        "colab": {
          "base_uri": "https://localhost:8080/",
          "height": 143
        },
        "id": "r8Xhobsvxrq5",
        "outputId": "f145d9e6-978d-4554-975b-6850b66a6bf5"
      },
      "outputs": [
        {
          "output_type": "execute_result",
          "data": {
            "text/plain": [
              "            CLASS\n",
              "ALBUMIN  0.464922\n",
              "ASCITES  0.409313\n",
              "SPIDERS  0.390570"
            ],
            "text/html": [
              "\n",
              "  <div id=\"df-2d0f4137-bdc1-4dc3-8556-27a0e58f8d9b\">\n",
              "    <div class=\"colab-df-container\">\n",
              "      <div>\n",
              "<style scoped>\n",
              "    .dataframe tbody tr th:only-of-type {\n",
              "        vertical-align: middle;\n",
              "    }\n",
              "\n",
              "    .dataframe tbody tr th {\n",
              "        vertical-align: top;\n",
              "    }\n",
              "\n",
              "    .dataframe thead th {\n",
              "        text-align: right;\n",
              "    }\n",
              "</style>\n",
              "<table border=\"1\" class=\"dataframe\">\n",
              "  <thead>\n",
              "    <tr style=\"text-align: right;\">\n",
              "      <th></th>\n",
              "      <th>CLASS</th>\n",
              "    </tr>\n",
              "  </thead>\n",
              "  <tbody>\n",
              "    <tr>\n",
              "      <th>ALBUMIN</th>\n",
              "      <td>0.464922</td>\n",
              "    </tr>\n",
              "    <tr>\n",
              "      <th>ASCITES</th>\n",
              "      <td>0.409313</td>\n",
              "    </tr>\n",
              "    <tr>\n",
              "      <th>SPIDERS</th>\n",
              "      <td>0.390570</td>\n",
              "    </tr>\n",
              "  </tbody>\n",
              "</table>\n",
              "</div>\n",
              "      <button class=\"colab-df-convert\" onclick=\"convertToInteractive('df-2d0f4137-bdc1-4dc3-8556-27a0e58f8d9b')\"\n",
              "              title=\"Convert this dataframe to an interactive table.\"\n",
              "              style=\"display:none;\">\n",
              "        \n",
              "  <svg xmlns=\"http://www.w3.org/2000/svg\" height=\"24px\"viewBox=\"0 0 24 24\"\n",
              "       width=\"24px\">\n",
              "    <path d=\"M0 0h24v24H0V0z\" fill=\"none\"/>\n",
              "    <path d=\"M18.56 5.44l.94 2.06.94-2.06 2.06-.94-2.06-.94-.94-2.06-.94 2.06-2.06.94zm-11 1L8.5 8.5l.94-2.06 2.06-.94-2.06-.94L8.5 2.5l-.94 2.06-2.06.94zm10 10l.94 2.06.94-2.06 2.06-.94-2.06-.94-.94-2.06-.94 2.06-2.06.94z\"/><path d=\"M17.41 7.96l-1.37-1.37c-.4-.4-.92-.59-1.43-.59-.52 0-1.04.2-1.43.59L10.3 9.45l-7.72 7.72c-.78.78-.78 2.05 0 2.83L4 21.41c.39.39.9.59 1.41.59.51 0 1.02-.2 1.41-.59l7.78-7.78 2.81-2.81c.8-.78.8-2.07 0-2.86zM5.41 20L4 18.59l7.72-7.72 1.47 1.35L5.41 20z\"/>\n",
              "  </svg>\n",
              "      </button>\n",
              "      \n",
              "  <style>\n",
              "    .colab-df-container {\n",
              "      display:flex;\n",
              "      flex-wrap:wrap;\n",
              "      gap: 12px;\n",
              "    }\n",
              "\n",
              "    .colab-df-convert {\n",
              "      background-color: #E8F0FE;\n",
              "      border: none;\n",
              "      border-radius: 50%;\n",
              "      cursor: pointer;\n",
              "      display: none;\n",
              "      fill: #1967D2;\n",
              "      height: 32px;\n",
              "      padding: 0 0 0 0;\n",
              "      width: 32px;\n",
              "    }\n",
              "\n",
              "    .colab-df-convert:hover {\n",
              "      background-color: #E2EBFA;\n",
              "      box-shadow: 0px 1px 2px rgba(60, 64, 67, 0.3), 0px 1px 3px 1px rgba(60, 64, 67, 0.15);\n",
              "      fill: #174EA6;\n",
              "    }\n",
              "\n",
              "    [theme=dark] .colab-df-convert {\n",
              "      background-color: #3B4455;\n",
              "      fill: #D2E3FC;\n",
              "    }\n",
              "\n",
              "    [theme=dark] .colab-df-convert:hover {\n",
              "      background-color: #434B5C;\n",
              "      box-shadow: 0px 1px 3px 1px rgba(0, 0, 0, 0.15);\n",
              "      filter: drop-shadow(0px 1px 2px rgba(0, 0, 0, 0.3));\n",
              "      fill: #FFFFFF;\n",
              "    }\n",
              "  </style>\n",
              "\n",
              "      <script>\n",
              "        const buttonEl =\n",
              "          document.querySelector('#df-2d0f4137-bdc1-4dc3-8556-27a0e58f8d9b button.colab-df-convert');\n",
              "        buttonEl.style.display =\n",
              "          google.colab.kernel.accessAllowed ? 'block' : 'none';\n",
              "\n",
              "        async function convertToInteractive(key) {\n",
              "          const element = document.querySelector('#df-2d0f4137-bdc1-4dc3-8556-27a0e58f8d9b');\n",
              "          const dataTable =\n",
              "            await google.colab.kernel.invokeFunction('convertToInteractive',\n",
              "                                                     [key], {});\n",
              "          if (!dataTable) return;\n",
              "\n",
              "          const docLinkHtml = 'Like what you see? Visit the ' +\n",
              "            '<a target=\"_blank\" href=https://colab.research.google.com/notebooks/data_table.ipynb>data table notebook</a>'\n",
              "            + ' to learn more about interactive tables.';\n",
              "          element.innerHTML = '';\n",
              "          dataTable['output_type'] = 'display_data';\n",
              "          await google.colab.output.renderOutput(dataTable, element);\n",
              "          const docLink = document.createElement('div');\n",
              "          docLink.innerHTML = docLinkHtml;\n",
              "          element.appendChild(docLink);\n",
              "        }\n",
              "      </script>\n",
              "    </div>\n",
              "  </div>\n",
              "  "
            ]
          },
          "metadata": {},
          "execution_count": 92
        }
      ],
      "source": [
        "### finding the most correlated features with CLASS column (target)\n",
        "\n",
        "# creates correlation dataframe\n",
        "correlation_df = hep_df.corr()\n",
        "\n",
        "# isolates for the CLASS column of the correlation dataframe and removes\n",
        "# the CLASS row\n",
        "class_correlation = (correlation_df).iloc[:-1, -1:]\n",
        "\n",
        "# finds the 3 largest values (the 3 features most positively \n",
        "# correlated with CLASS)\n",
        "pos_correlation = class_correlation.nlargest(3, 'CLASS')\n",
        "\n",
        "# show the 3 features most positively correlated with target labels\n",
        "pos_correlation.head()"
      ]
    },
    {
      "cell_type": "code",
      "execution_count": 93,
      "metadata": {
        "colab": {
          "base_uri": "https://localhost:8080/",
          "height": 143
        },
        "id": "FoG4YU8_w6VB",
        "outputId": "896f14ac-0573-4e4b-eefe-041859809888"
      },
      "outputs": [
        {
          "output_type": "execute_result",
          "data": {
            "text/plain": [
              "              CLASS\n",
              "BILIRUBIN -0.403335\n",
              "HISTOLOGY -0.354126\n",
              "AGE       -0.208460"
            ],
            "text/html": [
              "\n",
              "  <div id=\"df-5747024d-f56b-4a71-af70-12c71d493ac1\">\n",
              "    <div class=\"colab-df-container\">\n",
              "      <div>\n",
              "<style scoped>\n",
              "    .dataframe tbody tr th:only-of-type {\n",
              "        vertical-align: middle;\n",
              "    }\n",
              "\n",
              "    .dataframe tbody tr th {\n",
              "        vertical-align: top;\n",
              "    }\n",
              "\n",
              "    .dataframe thead th {\n",
              "        text-align: right;\n",
              "    }\n",
              "</style>\n",
              "<table border=\"1\" class=\"dataframe\">\n",
              "  <thead>\n",
              "    <tr style=\"text-align: right;\">\n",
              "      <th></th>\n",
              "      <th>CLASS</th>\n",
              "    </tr>\n",
              "  </thead>\n",
              "  <tbody>\n",
              "    <tr>\n",
              "      <th>BILIRUBIN</th>\n",
              "      <td>-0.403335</td>\n",
              "    </tr>\n",
              "    <tr>\n",
              "      <th>HISTOLOGY</th>\n",
              "      <td>-0.354126</td>\n",
              "    </tr>\n",
              "    <tr>\n",
              "      <th>AGE</th>\n",
              "      <td>-0.208460</td>\n",
              "    </tr>\n",
              "  </tbody>\n",
              "</table>\n",
              "</div>\n",
              "      <button class=\"colab-df-convert\" onclick=\"convertToInteractive('df-5747024d-f56b-4a71-af70-12c71d493ac1')\"\n",
              "              title=\"Convert this dataframe to an interactive table.\"\n",
              "              style=\"display:none;\">\n",
              "        \n",
              "  <svg xmlns=\"http://www.w3.org/2000/svg\" height=\"24px\"viewBox=\"0 0 24 24\"\n",
              "       width=\"24px\">\n",
              "    <path d=\"M0 0h24v24H0V0z\" fill=\"none\"/>\n",
              "    <path d=\"M18.56 5.44l.94 2.06.94-2.06 2.06-.94-2.06-.94-.94-2.06-.94 2.06-2.06.94zm-11 1L8.5 8.5l.94-2.06 2.06-.94-2.06-.94L8.5 2.5l-.94 2.06-2.06.94zm10 10l.94 2.06.94-2.06 2.06-.94-2.06-.94-.94-2.06-.94 2.06-2.06.94z\"/><path d=\"M17.41 7.96l-1.37-1.37c-.4-.4-.92-.59-1.43-.59-.52 0-1.04.2-1.43.59L10.3 9.45l-7.72 7.72c-.78.78-.78 2.05 0 2.83L4 21.41c.39.39.9.59 1.41.59.51 0 1.02-.2 1.41-.59l7.78-7.78 2.81-2.81c.8-.78.8-2.07 0-2.86zM5.41 20L4 18.59l7.72-7.72 1.47 1.35L5.41 20z\"/>\n",
              "  </svg>\n",
              "      </button>\n",
              "      \n",
              "  <style>\n",
              "    .colab-df-container {\n",
              "      display:flex;\n",
              "      flex-wrap:wrap;\n",
              "      gap: 12px;\n",
              "    }\n",
              "\n",
              "    .colab-df-convert {\n",
              "      background-color: #E8F0FE;\n",
              "      border: none;\n",
              "      border-radius: 50%;\n",
              "      cursor: pointer;\n",
              "      display: none;\n",
              "      fill: #1967D2;\n",
              "      height: 32px;\n",
              "      padding: 0 0 0 0;\n",
              "      width: 32px;\n",
              "    }\n",
              "\n",
              "    .colab-df-convert:hover {\n",
              "      background-color: #E2EBFA;\n",
              "      box-shadow: 0px 1px 2px rgba(60, 64, 67, 0.3), 0px 1px 3px 1px rgba(60, 64, 67, 0.15);\n",
              "      fill: #174EA6;\n",
              "    }\n",
              "\n",
              "    [theme=dark] .colab-df-convert {\n",
              "      background-color: #3B4455;\n",
              "      fill: #D2E3FC;\n",
              "    }\n",
              "\n",
              "    [theme=dark] .colab-df-convert:hover {\n",
              "      background-color: #434B5C;\n",
              "      box-shadow: 0px 1px 3px 1px rgba(0, 0, 0, 0.15);\n",
              "      filter: drop-shadow(0px 1px 2px rgba(0, 0, 0, 0.3));\n",
              "      fill: #FFFFFF;\n",
              "    }\n",
              "  </style>\n",
              "\n",
              "      <script>\n",
              "        const buttonEl =\n",
              "          document.querySelector('#df-5747024d-f56b-4a71-af70-12c71d493ac1 button.colab-df-convert');\n",
              "        buttonEl.style.display =\n",
              "          google.colab.kernel.accessAllowed ? 'block' : 'none';\n",
              "\n",
              "        async function convertToInteractive(key) {\n",
              "          const element = document.querySelector('#df-5747024d-f56b-4a71-af70-12c71d493ac1');\n",
              "          const dataTable =\n",
              "            await google.colab.kernel.invokeFunction('convertToInteractive',\n",
              "                                                     [key], {});\n",
              "          if (!dataTable) return;\n",
              "\n",
              "          const docLinkHtml = 'Like what you see? Visit the ' +\n",
              "            '<a target=\"_blank\" href=https://colab.research.google.com/notebooks/data_table.ipynb>data table notebook</a>'\n",
              "            + ' to learn more about interactive tables.';\n",
              "          element.innerHTML = '';\n",
              "          dataTable['output_type'] = 'display_data';\n",
              "          await google.colab.output.renderOutput(dataTable, element);\n",
              "          const docLink = document.createElement('div');\n",
              "          docLink.innerHTML = docLinkHtml;\n",
              "          element.appendChild(docLink);\n",
              "        }\n",
              "      </script>\n",
              "    </div>\n",
              "  </div>\n",
              "  "
            ]
          },
          "metadata": {},
          "execution_count": 93
        }
      ],
      "source": [
        "# finds the 3 smallest values (the 3 features most negatively\n",
        "# correlated with CLASS)\n",
        "neg_correlation = class_correlation.nsmallest(3, 'CLASS')\n",
        "\n",
        "# show the 3 features most negatively correlated with target labels\n",
        "neg_correlation.head()"
      ]
    },
    {
      "cell_type": "code",
      "source": [
        "# histograms (but with occurrence count along the x-axis)\n",
        "# of the non-boolean columns\n",
        "create_histograms_non_bool_col(hep_df, non_bool_col)"
      ],
      "metadata": {
        "colab": {
          "base_uri": "https://localhost:8080/",
          "height": 585
        },
        "id": "PiBj3ZZkJ_lV",
        "outputId": "839f2905-f08a-4ea3-ad61-2635b2d440e2"
      },
      "execution_count": 102,
      "outputs": [
        {
          "output_type": "display_data",
          "data": {
            "text/plain": [
              "<Figure size 864x576 with 6 Axes>"
            ],
            "image/png": "[encoded data removed]"
          },
          "metadata": {
            "needs_background": "light"
          }
        }
      ]
    },
    {
      "cell_type": "code",
      "source": [
        "### using random forest to determine the relative feature importance\n",
        "\n",
        "importance_arr = RF_find_features(hep_df)\n",
        "\n",
        "# plots the feature importance\n",
        "plot_feature_importance(importance_arr)"
      ],
      "metadata": {
        "id": "g9YN13CE4Mj3"
      },
      "execution_count": null,
      "outputs": []
    },
    {
      "cell_type": "code",
      "source": [
        "### using random forest to determine the relative feature importance\n",
        "\n",
        "importance_arr = RF_find_features(hep_df)\n",
        "\n",
        "# plots the feature importance\n",
        "plot_feature_importance(importance_arr)"
      ],
      "metadata": {
        "id": "Nui_u6iIQUpO"
      },
      "execution_count": null,
      "outputs": []
    },
    {
      "cell_type": "code",
      "source": [
        "### finding the top 2 most important features to confirm values in correlation dataframe\n",
        "\n",
        "top_feat_value = max(importance_arr)\n",
        "top_feat_index = importance_arr.tolist().index(top_feat_value)\n",
        "\n",
        "second_feat_value = np.max([val for index, val in enumerate(importance_arr) if index != top_feat_index])\n",
        "second_feat_index = importance_arr.tolist().index(second_feat_value)\n",
        "\n",
        "print(\"The most important feature is \" + list(hep_df.columns)[top_feat_index])\n",
        "print(\"The second most important feature is \" + list(hep_df.columns)[second_feat_index])"
      ],
      "metadata": {
        "id": "mJp6F_8I4nic"
      },
      "execution_count": null,
      "outputs": []
    },
    {
      "cell_type": "code",
      "source": [
        "### analysis of boolean distributions"
      ],
      "metadata": {
        "id": "CHcMDAD3TPhm"
      },
      "execution_count": null,
      "outputs": []
    },
    {
      "cell_type": "markdown",
      "source": [
        "### Loading and cleaning messidor.arff"
      ],
      "metadata": {
        "id": "bPtGybWIk_HV"
      }
    },
    {
      "cell_type": "code",
      "execution_count": null,
      "metadata": {
        "id": "1ur2Y9mBZu25"
      },
      "outputs": [],
      "source": [
        "### creating the dataframe for messidor_features.arff\n",
        "\n",
        "# loads in the arff data\n",
        "mess_data = arff.loadarff('messidor_features.arff')\n",
        "# creates a dataframe from the .arff file\n",
        "mess_df = pd.DataFrame(mess_data[0])"
      ]
    },
    {
      "cell_type": "code",
      "execution_count": null,
      "metadata": {
        "id": "srPnmzdFoCDO"
      },
      "outputs": [],
      "source": [
        "### cleaning the data in mess_df\n",
        "\n",
        "# columns with boolean values\n",
        "bool_cols = ['0', '1', '18']\n",
        "\n",
        "# ensures the columns with boolean values save as integers\n",
        "for col in bool_cols:\n",
        "  mess_df[col] = mess_df[col].astype('int64')\n",
        "\n",
        "# resaving the boolean values in the Class column from objects to ints\n",
        "mess_df['Class'] = mess_df['Class'].map({b'0':0, b'1':1}).astype('int64')\n",
        "\n",
        "mess_df = remove_outliers(mess_df)"
      ]
    },
    {
      "cell_type": "code",
      "execution_count": null,
      "metadata": {
        "id": "UCeBz6rJpfnp"
      },
      "outputs": [],
      "source": [
        "mess_df"
      ]
    },
    {
      "cell_type": "markdown",
      "source": [
        "### Analysis of Messidor Features"
      ],
      "metadata": {
        "id": "D8VpXlUdlYqZ"
      }
    },
    {
      "cell_type": "code",
      "execution_count": null,
      "metadata": {
        "id": "V5VG0TEC8dCi"
      },
      "outputs": [],
      "source": [
        "### finding the most correlated features with Class column (target)\n",
        "\n",
        "# creates correlation dataframe\n",
        "correlation_df = mess_df.corr()\n",
        "\n",
        "# removes the first row of the correlation dataframe\n",
        "class_correlation = (correlation_df).iloc[:-1, -1:]\n",
        "\n",
        "# finds the 3 largest values (the 3 features most positively \n",
        "# correlated with CLASS)\n",
        "pos_correlation = class_correlation.nlargest(3, 'Class')\n",
        "\n",
        "# show the 3 features most positively correlated with target labels\n",
        "pos_correlation.head()"
      ]
    },
    {
      "cell_type": "code",
      "execution_count": null,
      "metadata": {
        "id": "zPodfhivxHCi"
      },
      "outputs": [],
      "source": [
        "# finds the 3 smallest values (the 3 features most negatively\n",
        "# correlated with CLASS)\n",
        "neg_correlation = class_correlation.nsmallest(3, 'Class')\n",
        "\n",
        "# show the 3 features most negatively correlated with target labels\n",
        "neg_correlation.head()"
      ]
    },
    {
      "cell_type": "code",
      "execution_count": null,
      "metadata": {
        "id": "zhDvfz6WIpwp"
      },
      "outputs": [],
      "source": [
        "### creating histograms for each value\n",
        "\n",
        "create_histograms(mess_df, list(mess_df)[2:18])"
      ]
    },
    {
      "cell_type": "code",
      "source": [
        "### using random forest to determine the relative feature importance\n",
        "\n",
        "importance_arr = RF_find_features(mess_df)\n",
        "\n",
        "# plots the feature importance\n",
        "plot_feature_importance(importance_arr)"
      ],
      "metadata": {
        "id": "heAn38pA4stU"
      },
      "execution_count": null,
      "outputs": []
    },
    {
      "cell_type": "code",
      "source": [
        "### finding the top 2 most important features to check values in correlation dataframe\n",
        "\n",
        "top_feat_value = max(importance_arr)\n",
        "top_feat_index = importance_arr.tolist().index(top_feat_value)\n",
        "\n",
        "second_feat_value = np.max([val for index, val in enumerate(importance_arr) if index != top_feat_index])\n",
        "second_feat_index = importance_arr.tolist().index(second_feat_value)\n",
        "\n",
        "print(\"The most important feature is \" + list(mess_df.columns)[top_feat_index])\n",
        "print(\"The second most important feature is \" + list(mess_df.columns)[second_feat_index])"
      ],
      "metadata": {
        "id": "DZlUFKel7P_B"
      },
      "execution_count": null,
      "outputs": []
    },
    {
      "cell_type": "markdown",
      "source": [
        "# Implementing models"
      ],
      "metadata": {
        "id": "a6lVueablnwe"
      }
    },
    {
      "cell_type": "markdown",
      "source": [
        "## Helper functions"
      ],
      "metadata": {
        "id": "U_WEPKULlIU2"
      }
    },
    {
      "cell_type": "code",
      "execution_count": null,
      "metadata": {
        "id": "_s60NJiriwJK"
      },
      "outputs": [],
      "source": [
        "### accuracy-evaluating function\n",
        "def evaluate_acc(true_labels, target_labels):\n",
        "\n",
        "  # the number of labels\n",
        "  label_count = true_labels.shape[0]\n",
        "\n",
        "  # the accuracy is the number of correctly labelled instances\n",
        "  # divided by the total amount\n",
        "  accuracy = np.sum(target_labels == true_labels)/label_count\n",
        "\n",
        "  return accuracy"
      ]
    },
    {
      "cell_type": "markdown",
      "source": [
        "## KNN"
      ],
      "metadata": {
        "id": "-7B0imbhlxBQ"
      }
    },
    {
      "cell_type": "code",
      "execution_count": null,
      "metadata": {
        "id": "2aSftjetWRzc"
      },
      "outputs": [],
      "source": [
        "# distance functions\n",
        "euclidean = lambda x_train, x_test: np.sqrt(np.sum((x_train - x_test)**2, axis = -1))\n",
        "manhattan = lambda x_train, x_test: np.sum(np.abs(x_train - x_test), axis = -1)\n",
        "cosine = lambda x_train, x_test: np.sum(x_train * x_test, axis = -1) / ((np.sqrt(np.sum(x_train**2, axis = -1))) *(np.sqrt(np.sum(x_test**2, axis = -1))))\n",
        "\n",
        "class KNN:\n",
        "  # constructor\n",
        "  def __init__(self, K = 1, dist_fn = euclidean):\n",
        "    self.dist_fn = dist_fn\n",
        "    self.K = K\n",
        "\n",
        "  def fit(self, x_train, y_train):\n",
        "    # stores the training data, since KNN is a lazy learner\n",
        "    self.x_train = x_train\n",
        "    self.y_train = y_train\n",
        "\n",
        "    # the number of classes\n",
        "    self.class_count = len(set(y_train))\n",
        "    return self\n",
        "\n",
        "  def predict(self, x_test):\n",
        "    # uses the stored training data and x_test (test data passed as input)\n",
        "\n",
        "    # the number of instances in the testing data\n",
        "    instance_count = x_test.shape[0]\n",
        "\n",
        "    # an array of the distances between the training data points and the testing\n",
        "    # data points\n",
        "    distances_arr = self.dist_fn(self.x_train[None, :, :], x_test[:, None, :])\n",
        "    \n",
        "    # initializes an array full of zeros for the k-nearest neighbours\n",
        "    knn_arr = np.zeros((instance_count, self.K), dtype = int)\n",
        "    # initializes an array full of zeros for the class probabilities\n",
        "    class_prob = np.zeros((instance_count, self.class_count))\n",
        "\n",
        "    # iterates through each instance in the testing data\n",
        "    for instance in range(instance_count):\n",
        "      # the i-th index is an array with the k-nearest neighbours in x_train to\n",
        "      # data point i in x_test\n",
        "      knn_arr[instance, :] = np.argsort(distances_arr[instance])[:self.K]\n",
        "      \n",
        "      # the i-th index is an array counting the occurrence of each\n",
        "      # class type for data point i in x_test where the j-th index of the \n",
        "      # sub-array represents the number of neighbours in x_train of class j\n",
        "      class_prob[instance, :] = np.bincount(self.y_train[knn_arr[instance,:]], minlength = self.class_count)\n",
        "      #print(self.y_train[knn_arr[instance, :]].dtype)\n",
        "\n",
        "    # divides all probabilities by the number of neighbours to look for\n",
        "    class_prob /= self.K\n",
        "\n",
        "    return class_prob, knn_arr\n"
      ]
    },
    {
      "cell_type": "markdown",
      "source": [
        "## Decision Tree"
      ],
      "metadata": {
        "id": "vFWDVUnTl3gR"
      }
    },
    {
      "cell_type": "code",
      "execution_count": null,
      "metadata": {
        "id": "MTzVXa7EGN9Z"
      },
      "outputs": [],
      "source": [
        "class Node:\n",
        "  def __init__(self, instance_indices, parent):\n",
        "\n",
        "    # the indices of the instances (in the data) within this region of the DT\n",
        "    self.instance_indices = instance_indices\n",
        "    self.left = None\n",
        "    self.right = None\n",
        "    self.split_feature = None\n",
        "    self.split_val = None\n",
        "\n",
        "    # if the node has a parent\n",
        "    if parent:\n",
        "      self.depth = parent.depth + 1\n",
        "      self.class_count = parent.class_count\n",
        "      \n",
        "      # pointer to original data\n",
        "      self.data = parent.data\n",
        "      self.labels = parent.labels\n",
        "      class_prob = np.bincount(self.labels[instance_indices], minlength = self.class_count)\n",
        "      self.class_prob = class_prob / np.sum(class_prob)"
      ]
    },
    {
      "cell_type": "code",
      "execution_count": null,
      "metadata": {
        "id": "7GhZiho7IEuM"
      },
      "outputs": [],
      "source": [
        "def greedy_split(node, cost_fn):\n",
        "  # if the split cannot be made, returns infinity\n",
        "  best_cost = np.inf\n",
        "  best_feature, best_value = None, None\n",
        "  instance_count, feature_count = node.data.shape\n",
        "  best_split = None\n",
        "\n",
        "  # sorts the data within each column then saves boundary values in test_splits\n",
        "  sorted_data = np.sort(node.data[node.instance_indices], axis = 0)\n",
        "  test_splits = (sorted_data[1:] + sorted_data[:-1]) / 2\n",
        "\n",
        "  for feature in range(feature_count):\n",
        "    feature_data = node.data[node.instance_indices, feature]\n",
        "\n",
        "    if(len(set(feature_data)) == 2):\n",
        "      left_indices = node.instance_indices[feature_data == 0]\n",
        "      right_indices = node.instance_indices[feature_data == 1]\n",
        "\n",
        "    else:\n",
        "      for split in test_splits[:, feature]:\n",
        "        left_indices = node.instance_indices[feature_data <= split]\n",
        "        right_indices = node.instance_indices[feature_data > split]\n",
        "\n",
        "        if (len(left_indices) == 0) or (len(right_indices) == 0):\n",
        "          continue\n",
        "\n",
        "      left_cost = cost_fn(node.labels[left_indices])\n",
        "      right_cost = cost_fn(node.labels[right_indices])\n",
        "\n",
        "      left_count, right_count = left_indices.shape[0], right_indices.shape[0]\n",
        "      cost = ((left_count * left_cost) + (right_count * right_cost)) / instance_count\n",
        "\n",
        "      if cost < best_cost:\n",
        "        best_cost = cost\n",
        "        best_feature = feature\n",
        "        best_split = split\n",
        "\n",
        "  return best_cost, best_feature, best_split"
      ]
    },
    {
      "cell_type": "code",
      "execution_count": null,
      "metadata": {
        "id": "KA60w5IZMbum"
      },
      "outputs": [],
      "source": [
        "### cost functions\n",
        "\n",
        "def misclassification_cost(labels):\n",
        "  most_frequent_label = np.argmax(labels)\n",
        "  cost = sum(1 for label in labels if label != most_frequent_label)\n",
        "  return cost\n",
        "\n",
        "def entropy_cost(labels):\n",
        "  cost = 0\n",
        "  unique_labels = set(labels)\n",
        "  label_count = len(labels)\n",
        "\n",
        "  for label in unique_labels:\n",
        "    cur_labels = sum(1 for label in unique_labels)\n",
        "    ratio = cur_labels / label_count\n",
        "    cost += ratio * np.log2(ratio)\n",
        "\n",
        "  cost *= -1\n",
        "  return cost\n",
        "\n",
        "def gini_cost(labels):\n",
        "  cost = 0\n",
        "  unique_labels = set(labels)\n",
        "  label_count = len(labels)\n",
        "\n",
        "  for label in unique_labels:\n",
        "    cur_labels = sum(1 for label in unique_labels)\n",
        "    ratio = cur_labels / label_count\n",
        "    cost += np.square(ratio)\n",
        "\n",
        "  cost = 1 - cost\n",
        "  return cost"
      ]
    },
    {
      "cell_type": "code",
      "execution_count": null,
      "metadata": {
        "id": "LF9f307pWx0P"
      },
      "outputs": [],
      "source": [
        "### the tree stops splitting if\n",
        "### 1) there are not enough points under the current node (min_instances)\n",
        "### 2) maximum depth reached (max_depth)\n",
        "### 3) decrease in cost is negligible\n",
        "\n",
        "class DT:\n",
        "  def __init__(self, class_count = None, max_depth = 3, cost_fn = entropy_cost, min_instances = 1):\n",
        "    self.root = None\n",
        "    self.max_depth = max_depth\n",
        "    self.cost_fn = cost_fn\n",
        "    self.class_count = class_count\n",
        "    self.min_instances = min_instances\n",
        "\n",
        "  def fit(self, data, labels):\n",
        "    self.data = data\n",
        "    self.labels = labels\n",
        "\n",
        "    if self.class_count is None:\n",
        "      self.class_count = len(set(labels))\n",
        "\n",
        "    # root\n",
        "    self.root = Node(np.arange(data.shape[0]), None)\n",
        "    self.root.data = data\n",
        "    self.root.labels = labels\n",
        "    self.root.class_count = self.class_count\n",
        "    self.root.depth = 0\n",
        "\n",
        "    # builds the rest of the tree\n",
        "    self.fit_recursive(self.root)\n",
        "\n",
        "    return self\n",
        "\n",
        "  def fit_recursive(self, node):\n",
        "    max_depth_reached = node.depth == self.max_depth\n",
        "    insufficient_instances = len(node.instance_indices) <= self.min_instances\n",
        "\n",
        "    # if the maximum depth was reached\n",
        "    if max_depth_reached or insufficient_instances:\n",
        "      return\n",
        "\n",
        "    cost, split_feature, split_value = greedy_split(node, self.cost_fn)\n",
        "\n",
        "    # it's not possible to split\n",
        "    if np.isinf(cost):\n",
        "      return\n",
        "\n",
        "    left_split_indices = node.data[node.instance_indices, split_feature] <= split_value\n",
        "\n",
        "    node.split_feature = split_feature\n",
        "    node.split_value = split_value\n",
        "\n",
        "    # new nodes\n",
        "    new_left = Node(node.instance_indices[left_split_indices], node)\n",
        "    new_right = Node(node.instance_indices[np.logical_not(left_split_indices)], node)\n",
        "\n",
        "    # recursive call\n",
        "    self.fit_recursive(new_left)\n",
        "    self.fit_recursive(new_right)\n",
        "\n",
        "    node.left = new_left\n",
        "    node.right = new_right\n",
        "\n",
        "  def predict(self, x_test):\n",
        "    # initializing empty array\n",
        "    class_probs = np.zeros((x_test.shape[0], self.class_count))\n",
        "\n",
        "    for instance_num, instance_features in enumerate(x_test):\n",
        "      node = self.root\n",
        "      \n",
        "      while node.left:\n",
        "        if instance_features[node.split_feature] <= node.split_value:\n",
        "          node = node.left\n",
        "        else:\n",
        "          node = node.right\n",
        "\n",
        "      # while loop terminates when you reach a leaf of the tree\n",
        "      # the class probability of that node is taken for prediction\n",
        "      class_probs[instance_num, :] = node.class_prob\n",
        "\n",
        "    return class_probs"
      ]
    },
    {
      "cell_type": "markdown",
      "source": [
        "# Running experiments"
      ],
      "metadata": {
        "id": "IlELJSq3nWUz"
      }
    },
    {
      "cell_type": "markdown",
      "source": [
        "## KNN experiments"
      ],
      "metadata": {
        "id": "SNenEnbonsLp"
      }
    },
    {
      "cell_type": "code",
      "execution_count": null,
      "metadata": {
        "id": "E81-AwpM10sb"
      },
      "outputs": [],
      "source": [
        "### running KNN on hep_df data for all data\n",
        "\n",
        "# splits the data\n",
        "x_train, y_train, x_test, y_test = train_test_split(hep_df)\n",
        "\n",
        "# creates a new KNN model\n",
        "knn_model = KNN(K = 3)\n",
        "\n",
        "# fits the model to the training data, then tests the model on the test\n",
        "# data for K = 3\n",
        "class_prob, knn_arr = knn_model.fit(x_train, y_train).predict(x_test)\n",
        "\n",
        "# outputs an array of the most likely class labels for each instance in x_test\n",
        "class_pred = np.argmax(class_prob, axis = -1)\n",
        "\n",
        "# finds the accuracy of the model\n",
        "accuracy = evaluate_acc(y_test, class_pred)\n",
        "\n",
        "# creates boolean arrays to represent correct and incorrect predictions\n",
        "correct_pred = class_pred == y_test\n",
        "incorrect_pred = np.logical_not(correct_pred)\n",
        "\n",
        "print(\"The accuracy of the model is: \" + str(round((accuracy * 100), 2)) + \"%\")"
      ]
    },
    {
      "cell_type": "code",
      "execution_count": null,
      "metadata": {
        "id": "ggyVjkbpFp0L"
      },
      "outputs": [],
      "source": [
        "### running KNN on hep_df data for top 2 features\n",
        "\n",
        "hep_cut_df = normalize_df(hep_df[['ALBUMIN', 'BILIRUBIN', 'CLASS']])\n",
        "\n",
        "# splits the data\n",
        "x_train, y_train, x_test, y_test = train_test_split(hep_cut_df)\n",
        "\n",
        "# creates a new KNN model\n",
        "knn_model = KNN(K = 3)\n",
        "\n",
        "# fits the model to the training data, then tests the model on the test\n",
        "# data for K = 3\n",
        "class_prob, knn_arr = knn_model.fit(x_train, y_train).predict(x_test)\n",
        "\n",
        "# outputs an array of the most likely class labels for each instance in x_test\n",
        "class_pred = np.argmax(class_prob, axis = -1)\n",
        "\n",
        "# finds the accuracy of the model\n",
        "accuracy = evaluate_acc(y_test, class_pred)\n",
        "\n",
        "print(\"The accuracy of the model is: \" + str(round((accuracy * 100), 2)) + \"%\")\n",
        "\n",
        "# creates boolean arrays to represent correct and incorrect predictions\n",
        "correct_pred = class_pred == y_test\n",
        "incorrect_pred = np.logical_not(correct_pred)\n",
        "\n",
        "plt.scatter(x_train[:, 0], x_train[:, 1], c = y_train, marker = 'o', alpha = 0.2, label = 'train')\n",
        "plt.scatter(x_test[correct_pred, 0], x_test[correct_pred, 1], marker = '.', c = class_pred[correct_pred], label = 'correct')\n",
        "plt.scatter(x_test[incorrect_pred, 0], x_test[incorrect_pred, 1], marker = 'x', c = class_pred[incorrect_pred], label = 'misclassified')\n",
        "\n",
        "for i in range(x_test.shape[0]):\n",
        "  for k in range(knn_model.K):\n",
        "\n",
        "    hor = x_test[i, 0], x_train[knn_arr[i, k], 0]\n",
        "    ver = x_test[i, 1], x_train[knn_arr[i, k], 1]\n",
        "\n",
        "    plt.plot(hor, ver, 'k-', alpha = 0.1)\n",
        "\n",
        "plt.xlabel('Albumin')\n",
        "plt.ylabel('Bilirubin')\n",
        "plt.legend()\n",
        "plt.show()"
      ]
    },
    {
      "cell_type": "code",
      "execution_count": null,
      "metadata": {
        "id": "WZenKHiL01T_"
      },
      "outputs": [],
      "source": [
        "### plotting decision boundary\n",
        "\n"
      ]
    },
    {
      "cell_type": "code",
      "execution_count": null,
      "metadata": {
        "id": "1cEsR4vrQXo4"
      },
      "outputs": [],
      "source": [
        "### running KNN on mess_df data\n",
        "\n",
        "x_train, y_train, x_test, y_test = train_test_split(mess_df)\n",
        "\n",
        "knn_model = KNN(K = 3)\n",
        "\n",
        "# fits the model to the training data, then tests the model on the test\n",
        "# data for K = 3\n",
        "class_prob, knn_arr = knn_model.fit(x_train, y_train).predict(x_test)\n",
        "\n",
        "# outputs an array of the most liekly class label for each instance in x_test\n",
        "class_pred = np.argmax(class_prob, axis = -1)\n",
        "\n",
        "# finds the accuracy of the model\n",
        "accuracy = evaluate_acc(y_test, class_pred)\n",
        "\n",
        "# creates boolean arrays to represent correct and incorrect predictions\n",
        "correct_pred = class_pred == y_test\n",
        "incorrect_pred = np.logical_not(correct_pred)"
      ]
    },
    {
      "cell_type": "code",
      "execution_count": null,
      "metadata": {
        "id": "skthqvpEbkb1"
      },
      "outputs": [],
      "source": [
        "### running KNN on mess_df data for top 2 important features\n",
        "\n",
        "mess_cut_df = mess_df[['2', '8', 'Class']]\n",
        "\n",
        "x_train, y_train, x_test, y_test = train_test_split(mess_cut_df)\n",
        "\n",
        "knn_model = KNN(K = 3)\n",
        "\n",
        "# fits the model to the training data, then tests the model on the test\n",
        "# data for K = 3\n",
        "class_prob, knn_arr = knn_model.fit(x_train, y_train).predict(x_test)\n",
        "\n",
        "# outputs an array of the most liekly class label for each instance in x_test\n",
        "class_pred = np.argmax(class_prob, axis = -1)\n",
        "\n",
        "# finds the accuracy of the model\n",
        "accuracy = evaluate_acc(y_test, class_pred)\n",
        "\n",
        "# creates boolean arrays to represent correct and incorrect predictions\n",
        "correct_pred = class_pred == y_test\n",
        "incorrect_pred = np.logical_not(correct_pred)\n",
        "\n",
        "print(\"The accuracy of the model is: \" + str(round((accuracy * 100), 2)) + \"%\")\n",
        "\n",
        "plt.scatter(x_train[:, 0], x_train[:, 1], c = y_train, marker = 'o', alpha = 0.2, label = 'train')\n",
        "plt.scatter(x_test[correct_pred, 0], x_test[correct_pred, 1], marker = '.', c = class_pred[correct_pred], label = 'correct')\n",
        "plt.scatter(x_test[incorrect_pred, 0], x_test[incorrect_pred, 1], marker = 'x', c = class_pred[incorrect_pred], label = 'misclassified')\n",
        "\n",
        "for i in range(x_test.shape[0]):\n",
        "  for k in range(knn_model.K):\n",
        "\n",
        "    hor = x_test[i, 0], x_train[knn_arr[i, k], 0]\n",
        "    ver = x_test[i, 1], x_train[knn_arr[i, k], 1]\n",
        "\n",
        "    plt.plot(hor, ver, 'k-', alpha = 0.1)\n",
        "\n",
        "plt.xlabel('2')\n",
        "plt.ylabel('8')\n",
        "plt.legend()\n",
        "plt.show()"
      ]
    },
    {
      "cell_type": "markdown",
      "source": [
        "## DT experiments"
      ],
      "metadata": {
        "id": "MPKaxl_Ynx2P"
      }
    },
    {
      "cell_type": "code",
      "execution_count": null,
      "metadata": {
        "id": "HZzVFXwC2A6q"
      },
      "outputs": [],
      "source": [
        "### running DT on hepatitis.data\n",
        "\n",
        "x_train, y_train, x_test, y_test = train_test_split(hep_df)\n",
        "\n",
        "dt_model = DT(max_depth = 10)\n",
        "\n",
        "# fits the model to the training data, then tests the model on the test\n",
        "# data for K = 3\n",
        "class_probs = dt_model.fit(x_train, y_train).predict(x_test)\n",
        "\n",
        "# outputs an array of the most liekly class label for each instance in x_test\n",
        "class_pred = np.argmax(class_probs, axis = 1)\n",
        "\n",
        "# finds the accuracy of the model\n",
        "accuracy = evaluate_acc(y_test, class_pred)\n",
        "\n",
        "# creates boolean arrays to represent correct and incorrect predictions\n",
        "correct_pred = class_pred == y_test\n",
        "incorrect_pred = np.logical_not(correct_pred)\n"
      ]
    },
    {
      "cell_type": "code",
      "execution_count": null,
      "metadata": {
        "id": "d2rfyd8QnXCD"
      },
      "outputs": [],
      "source": [
        "### running DT on messidor_features.arff\n",
        "\n",
        "x_train, y_train, x_test, y_test = train_test_split(mess_df)\n",
        "\n",
        "dt_model = DT(max_depth = 10)\n",
        "\n",
        "# fits the model to the training data, then tests the model on the test\n",
        "# data for K = 3\n",
        "class_probs = dt_model.fit(x_train, y_train).predict(x_test)\n",
        "\n",
        "# outputs an array of the most liekly class label for each instance in x_test\n",
        "class_pred = np.argmax(class_probs, axis = 1)\n",
        "\n",
        "# finds the accuracy of the model\n",
        "accuracy = evaluate_acc(y_test, class_pred)\n",
        "\n",
        "# creates boolean arrays to represent correct and incorrect predictions\n",
        "correct_pred = class_pred == y_test\n",
        "incorrect_pred = np.logical_not(correct_pred)"
      ]
    }
  ],
  "metadata": {
    "colab": {
      "collapsed_sections": [],
      "provenance": [],
      "include_colab_link": true
    },
    "kernelspec": {
      "display_name": "Python 3",
      "name": "python3"
    },
    "language_info": {
      "name": "python"
    }
  },
  "nbformat": 4,
  "nbformat_minor": 0
}